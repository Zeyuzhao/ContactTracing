{
 "cells": [
  {
   "cell_type": "markdown",
   "metadata": {},
   "source": [
    "\n",
    "\n",
    "-1 represents value not set\n",
    "\n",
    "(value of X, value of Y, new probability of X, new probability of Y)\n",
    "\n",
    "Note, there will only be a new probability if the value was not set.\n",
    "\n",
    "(p1, p2) "
   ]
  },
  {
   "cell_type": "code",
   "execution_count": 1,
   "metadata": {},
   "outputs": [],
   "source": [
    "import networkx as nx\n",
    "import EoN\n",
    "import matplotlib.pyplot as plt\n",
    "import pandas as pd\n",
    "import numpy as np\n",
    "import random\n",
    "from contact_tracing import *\n",
    "\n",
    "import math\n",
    "from constraint import *\n",
    "import networkx as nx\n",
    "import matplotlib.pyplot as plt\n",
    "from collections import defaultdict\n",
    "from ortools.linear_solver import pywraplp\n",
    "from ortools.linear_solver.pywraplp import Constraint, Solver, Variable, Objective\n",
    "\n",
    "from typing import Set, Dict\n",
    "import pickle as pkl"
   ]
  },
  {
   "cell_type": "code",
   "execution_count": 2,
   "metadata": {},
   "outputs": [],
   "source": [
    "G=grab_graph() #fetching the montgamery graph\n",
    "n = len(G.nodes)\n",
    "I0 = [i for i in range(n) if random.random() > 0.999]"
   ]
  },
  {
   "cell_type": "code",
   "execution_count": 4,
   "metadata": {},
   "outputs": [
    {
     "name": "stdout",
     "output_type": "stream",
     "text": [
      "COSTS: [1. 1. 1. ... 1. 1. 1.]\n"
     ]
    }
   ],
   "source": [
    "N = G.number_of_nodes()\n",
    "\n",
    "# COSTS = np.random.randint(1, 20, size=N)\n",
    "COSTS = np.ones(N)\n",
    "print(f\"COSTS: {COSTS}\")\n",
    "# Compute distances\n",
    "dist_dict = nx.multi_source_dijkstra_path_length(G, I0)\n",
    "\n",
    "# convert dict vertex -> distance\n",
    "# to distance -> [vertex]\n",
    "level_dists = defaultdict(set)\n",
    "for (i, v) in dist_dict.items():\n",
    "    level_dists[v].add(i)\n",
    "\n",
    "# print(level_dists)\n",
    "\n",
    "# Obtain V_1 and V_2\n",
    "\n",
    "# Set of vertices distance 1 away from infected I\n",
    "V1: Set[int] = level_dists[1]\n",
    "\n",
    "# Set of vertices distance 2 away from infected I\n",
    "V2: Set[int] = level_dists[2]"
   ]
  },
  {
   "cell_type": "code",
   "execution_count": 5,
   "metadata": {},
   "outputs": [],
   "source": [
    "P,Q = PQ(G,I0,runs= 20)"
   ]
  },
  {
   "cell_type": "code",
   "execution_count": 12,
   "metadata": {},
   "outputs": [
    {
     "data": {
      "text/html": [
       "<div>\n",
       "<style scoped>\n",
       "    .dataframe tbody tr th:only-of-type {\n",
       "        vertical-align: middle;\n",
       "    }\n",
       "\n",
       "    .dataframe tbody tr th {\n",
       "        vertical-align: top;\n",
       "    }\n",
       "\n",
       "    .dataframe thead th {\n",
       "        text-align: right;\n",
       "    }\n",
       "</style>\n",
       "<table border=\"1\" class=\"dataframe\">\n",
       "  <thead>\n",
       "    <tr style=\"text-align: right;\">\n",
       "      <th></th>\n",
       "      <th>u</th>\n",
       "      <th>v</th>\n",
       "      <th>q_uv</th>\n",
       "    </tr>\n",
       "  </thead>\n",
       "  <tbody>\n",
       "    <tr>\n",
       "      <th>0</th>\n",
       "      <td>1003</td>\n",
       "      <td>15266</td>\n",
       "      <td>0.30</td>\n",
       "    </tr>\n",
       "    <tr>\n",
       "      <th>1</th>\n",
       "      <td>1003</td>\n",
       "      <td>15268</td>\n",
       "      <td>0.30</td>\n",
       "    </tr>\n",
       "    <tr>\n",
       "      <th>2</th>\n",
       "      <td>1003</td>\n",
       "      <td>15269</td>\n",
       "      <td>0.20</td>\n",
       "    </tr>\n",
       "    <tr>\n",
       "      <th>3</th>\n",
       "      <td>1003</td>\n",
       "      <td>15271</td>\n",
       "      <td>0.30</td>\n",
       "    </tr>\n",
       "    <tr>\n",
       "      <th>4</th>\n",
       "      <td>1003</td>\n",
       "      <td>15272</td>\n",
       "      <td>0.15</td>\n",
       "    </tr>\n",
       "  </tbody>\n",
       "</table>\n",
       "</div>"
      ],
      "text/plain": [
       "      u      v  q_uv\n",
       "0  1003  15266  0.30\n",
       "1  1003  15268  0.30\n",
       "2  1003  15269  0.20\n",
       "3  1003  15271  0.30\n",
       "4  1003  15272  0.15"
      ]
     },
     "execution_count": 12,
     "metadata": {},
     "output_type": "execute_result"
    }
   ],
   "source": [
    "Q.head()"
   ]
  },
  {
   "cell_type": "code",
   "execution_count": 7,
   "metadata": {},
   "outputs": [
    {
     "data": {
      "text/plain": [
       "(66186, 3)"
      ]
     },
     "execution_count": 7,
     "metadata": {},
     "output_type": "execute_result"
    }
   ],
   "source": [
    "Q.shape"
   ]
  },
  {
   "cell_type": "code",
   "execution_count": 10,
   "metadata": {},
   "outputs": [
    {
     "data": {
      "text/plain": [
       "867"
      ]
     },
     "execution_count": 10,
     "metadata": {},
     "output_type": "execute_result"
    }
   ],
   "source": [
    "len(Q['u'].unique())"
   ]
  },
  {
   "cell_type": "code",
   "execution_count": 11,
   "metadata": {},
   "outputs": [
    {
     "data": {
      "text/plain": [
       "33047"
      ]
     },
     "execution_count": 11,
     "metadata": {},
     "output_type": "execute_result"
    }
   ],
   "source": [
    "len(Q['v'].unique())"
   ]
  },
  {
   "cell_type": "code",
   "execution_count": 6,
   "metadata": {},
   "outputs": [
    {
     "name": "stdout",
     "output_type": "stream",
     "text": [
      "Coeff: 0.0675\n",
      "Coeff: 0.0675\n",
      "Coeff: 0.09\n",
      "Coeff: 0.0225\n",
      "Coeff: 0.045\n",
      "Coeff: 0.0675\n",
      "Coeff: 0.045\n",
      "Coeff: 0.0675\n",
      "Coeff: 0.09\n",
      "Coeff: 0.045\n",
      "Coeff: 0.09\n",
      "Coeff: 0.0225\n",
      "Coeff: 0.13499999999999998\n",
      "Coeff: 0.11249999999999999\n",
      "Coeff: 0.0675\n",
      "Coeff: 0.09\n",
      "Coeff: 0.13499999999999998\n",
      "Coeff: 0.0675\n",
      "Coeff: 0.0225\n",
      "Coeff: 0.0675\n",
      "Coeff: 0.13499999999999998\n",
      "Coeff: 0.11249999999999999\n",
      "Coeff: 0.0675\n",
      "Coeff: 0.045\n",
      "Coeff: 0.0675\n",
      "Coeff: 0.13499999999999998\n",
      "Coeff: 0.11249999999999999\n",
      "Coeff: 0.09\n",
      "Coeff: 0.0675\n",
      "Coeff: 0.11249999999999999\n",
      "Coeff: 0.17999999999999997\n",
      "Coeff: 0.0225\n",
      "Coeff: 0.13499999999999998\n",
      "Coeff: 0.13499999999999998\n",
      "Coeff: 0.09\n",
      "Coeff: 0.09\n",
      "Coeff: 0.045\n",
      "Coeff: 0.045\n",
      "Coeff: 0.13499999999999998\n",
      "Coeff: 0.0225\n",
      "Coeff: 0.0675\n",
      "Coeff: 0.11249999999999999\n",
      "Coeff: 0.0675\n",
      "Coeff: 0.13499999999999998\n",
      "Coeff: 0.09\n",
      "Coeff: 0.09\n",
      "Coeff: 0.11249999999999999\n",
      "Coeff: 0.045\n",
      "Coeff: 0.09\n",
      "Coeff: 0.09\n",
      "Coeff: 0.0675\n",
      "Coeff: 0.11249999999999999\n",
      "Coeff: 0.045\n",
      "Coeff: 0.09\n",
      "Coeff: 0.0675\n",
      "Coeff: 0.09\n",
      "Coeff: 0.13499999999999998\n",
      "Coeff: 0.11249999999999999\n",
      "Coeff: 0.11249999999999999\n",
      "Coeff: 0.09\n",
      "Coeff: 0.045\n",
      "Coeff: 0.045\n",
      "Coeff: 0.045\n",
      "Coeff: 0.11249999999999999\n",
      "Coeff: 0.09\n",
      "Coeff: 0.0675\n",
      "Coeff: 0.09\n",
      "Coeff: 0.0225\n",
      "Coeff: 0.0675\n",
      "Coeff: 0.0675\n",
      "Coeff: 0.0675\n",
      "Coeff: 0.09\n",
      "Coeff: 0.09\n",
      "Coeff: 0.09\n",
      "Coeff: 0.11249999999999999\n",
      "Coeff: 0.13499999999999998\n",
      "Coeff: 0.0675\n",
      "Coeff: 0.045\n",
      "Coeff: 0.045\n",
      "Coeff: 0.0675\n",
      "Coeff: 0.0675\n"
     ]
    },
    {
     "ename": "TypeError",
     "evalue": "unsupported operand type(s) for *: 'NoneType' and 'float'",
     "output_type": "error",
     "traceback": [
      "\u001b[1;31m---------------------------------------------------------------------------\u001b[0m",
      "\u001b[1;31mTypeError\u001b[0m                                 Traceback (most recent call last)",
      "\u001b[1;32m<ipython-input-6-4ed7e4af2ae2>\u001b[0m in \u001b[0;36m<module>\u001b[1;34m\u001b[0m\n\u001b[1;32m----> 1\u001b[1;33m \u001b[0mprob\u001b[0m \u001b[1;33m=\u001b[0m \u001b[0mProbMinExposed\u001b[0m\u001b[1;33m.\u001b[0m\u001b[0mfrom_dataframe\u001b[0m\u001b[1;33m(\u001b[0m\u001b[0mG\u001b[0m\u001b[1;33m,\u001b[0m\u001b[0mI0\u001b[0m\u001b[1;33m,\u001b[0m\u001b[0mV1\u001b[0m\u001b[1;33m,\u001b[0m\u001b[0mV2\u001b[0m\u001b[1;33m,\u001b[0m\u001b[0mP\u001b[0m\u001b[1;33m,\u001b[0m\u001b[0mQ\u001b[0m\u001b[1;33m,\u001b[0m\u001b[1;36m10\u001b[0m\u001b[1;33m,\u001b[0m\u001b[0mCOSTS\u001b[0m\u001b[1;33m)\u001b[0m\u001b[1;33m\u001b[0m\u001b[1;33m\u001b[0m\u001b[0m\n\u001b[0m",
      "\u001b[1;32m~\\Desktop\\George\\13th Grade\\Fall\\Aravind\\ContactTracing\\ctrace\\constraint.py\u001b[0m in \u001b[0;36mfrom_dataframe\u001b[1;34m(cls, G, I, contour1, contour2, p1_df, q_df, k, costs, solver)\u001b[0m\n\u001b[0;32m     55\u001b[0m             \u001b[0mq\u001b[0m\u001b[1;33m[\u001b[0m\u001b[0mrow\u001b[0m\u001b[1;33m[\u001b[0m\u001b[1;34m'u'\u001b[0m\u001b[1;33m]\u001b[0m\u001b[1;33m]\u001b[0m\u001b[1;33m[\u001b[0m\u001b[0mrow\u001b[0m\u001b[1;33m[\u001b[0m\u001b[1;34m'v'\u001b[0m\u001b[1;33m]\u001b[0m\u001b[1;33m]\u001b[0m \u001b[1;33m=\u001b[0m \u001b[0mrow\u001b[0m\u001b[1;33m[\u001b[0m\u001b[1;34m'q_uv'\u001b[0m\u001b[1;33m]\u001b[0m\u001b[1;33m\u001b[0m\u001b[1;33m\u001b[0m\u001b[0m\n\u001b[0;32m     56\u001b[0m \u001b[1;33m\u001b[0m\u001b[0m\n\u001b[1;32m---> 57\u001b[1;33m         \u001b[1;32mreturn\u001b[0m \u001b[0mcls\u001b[0m\u001b[1;33m(\u001b[0m\u001b[0mG\u001b[0m\u001b[1;33m,\u001b[0m \u001b[0mI\u001b[0m\u001b[1;33m,\u001b[0m \u001b[0mcontour1\u001b[0m\u001b[1;33m,\u001b[0m \u001b[0mcontour2\u001b[0m\u001b[1;33m,\u001b[0m \u001b[0mp1\u001b[0m\u001b[1;33m,\u001b[0m \u001b[0mq\u001b[0m\u001b[1;33m,\u001b[0m \u001b[0mk\u001b[0m\u001b[1;33m,\u001b[0m \u001b[0mcosts\u001b[0m\u001b[1;33m,\u001b[0m \u001b[0msolver\u001b[0m\u001b[1;33m)\u001b[0m\u001b[1;33m\u001b[0m\u001b[1;33m\u001b[0m\u001b[0m\n\u001b[0m\u001b[0;32m     58\u001b[0m \u001b[1;33m\u001b[0m\u001b[0m\n\u001b[0;32m     59\u001b[0m     \u001b[1;32mdef\u001b[0m \u001b[0minitialize\u001b[0m\u001b[1;33m(\u001b[0m\u001b[0mself\u001b[0m\u001b[1;33m)\u001b[0m\u001b[1;33m:\u001b[0m\u001b[1;33m\u001b[0m\u001b[1;33m\u001b[0m\u001b[0m\n",
      "\u001b[1;32m~\\Desktop\\George\\13th Grade\\Fall\\Aravind\\ContactTracing\\ctrace\\constraint.py\u001b[0m in \u001b[0;36m__init__\u001b[1;34m(self, G, infected, contour1, contour2, p1, q, k, costs, solver)\u001b[0m\n\u001b[0;32m     39\u001b[0m         \u001b[1;31m# Partial Evaluation storage\u001b[0m\u001b[1;33m\u001b[0m\u001b[1;33m\u001b[0m\u001b[1;33m\u001b[0m\u001b[0m\n\u001b[0;32m     40\u001b[0m         \u001b[0mself\u001b[0m\u001b[1;33m.\u001b[0m\u001b[0mpartials\u001b[0m \u001b[1;33m=\u001b[0m \u001b[1;33m{\u001b[0m\u001b[1;33m}\u001b[0m\u001b[1;33m\u001b[0m\u001b[1;33m\u001b[0m\u001b[0m\n\u001b[1;32m---> 41\u001b[1;33m         \u001b[0mself\u001b[0m\u001b[1;33m.\u001b[0m\u001b[0minitialize\u001b[0m\u001b[1;33m(\u001b[0m\u001b[1;33m)\u001b[0m\u001b[1;33m\u001b[0m\u001b[1;33m\u001b[0m\u001b[0m\n\u001b[0m\u001b[0;32m     42\u001b[0m \u001b[1;33m\u001b[0m\u001b[0m\n\u001b[0;32m     43\u001b[0m     \u001b[1;33m@\u001b[0m\u001b[0mclassmethod\u001b[0m\u001b[1;33m\u001b[0m\u001b[1;33m\u001b[0m\u001b[0m\n",
      "\u001b[1;32m~\\Desktop\\George\\13th Grade\\Fall\\Aravind\\ContactTracing\\ctrace\\constraint.py\u001b[0m in \u001b[0;36minitialize\u001b[1;34m(self)\u001b[0m\n\u001b[0;32m    105\u001b[0m             \u001b[1;32mfor\u001b[0m \u001b[0mv\u001b[0m \u001b[1;32min\u001b[0m \u001b[0mself\u001b[0m\u001b[1;33m.\u001b[0m\u001b[0mG\u001b[0m\u001b[1;33m.\u001b[0m\u001b[0mneighbors\u001b[0m\u001b[1;33m(\u001b[0m\u001b[0mu\u001b[0m\u001b[1;33m)\u001b[0m\u001b[1;33m:\u001b[0m\u001b[1;33m\u001b[0m\u001b[1;33m\u001b[0m\u001b[0m\n\u001b[0;32m    106\u001b[0m                 \u001b[1;32mif\u001b[0m \u001b[0mv\u001b[0m \u001b[1;32min\u001b[0m \u001b[0mself\u001b[0m\u001b[1;33m.\u001b[0m\u001b[0mV2\u001b[0m\u001b[1;33m:\u001b[0m\u001b[1;33m\u001b[0m\u001b[1;33m\u001b[0m\u001b[0m\n\u001b[1;32m--> 107\u001b[1;33m                     \u001b[0mcoeff\u001b[0m \u001b[1;33m=\u001b[0m \u001b[1;33m(\u001b[0m\u001b[0mself\u001b[0m\u001b[1;33m.\u001b[0m\u001b[0mq\u001b[0m\u001b[1;33m[\u001b[0m\u001b[0mu\u001b[0m\u001b[1;33m]\u001b[0m\u001b[1;33m[\u001b[0m\u001b[0mv\u001b[0m\u001b[1;33m]\u001b[0m \u001b[1;33m*\u001b[0m \u001b[0mself\u001b[0m\u001b[1;33m.\u001b[0m\u001b[0mp1\u001b[0m\u001b[1;33m[\u001b[0m\u001b[0mu\u001b[0m\u001b[1;33m]\u001b[0m\u001b[1;33m)\u001b[0m\u001b[1;33m\u001b[0m\u001b[1;33m\u001b[0m\u001b[0m\n\u001b[0m\u001b[0;32m    108\u001b[0m                     \u001b[0mprint\u001b[0m\u001b[1;33m(\u001b[0m\u001b[1;34mf\"Coeff: {coeff}\"\u001b[0m\u001b[1;33m)\u001b[0m\u001b[1;33m\u001b[0m\u001b[1;33m\u001b[0m\u001b[0m\n\u001b[0;32m    109\u001b[0m                     \u001b[0mself\u001b[0m\u001b[1;33m.\u001b[0m\u001b[0msolver\u001b[0m\u001b[1;33m.\u001b[0m\u001b[0mAdd\u001b[0m\u001b[1;33m(\u001b[0m\u001b[0mself\u001b[0m\u001b[1;33m.\u001b[0m\u001b[0mY2\u001b[0m\u001b[1;33m[\u001b[0m\u001b[0mv\u001b[0m\u001b[1;33m]\u001b[0m \u001b[1;33m>=\u001b[0m \u001b[0mcoeff\u001b[0m \u001b[1;33m*\u001b[0m \u001b[0mself\u001b[0m\u001b[1;33m.\u001b[0m\u001b[0mY1\u001b[0m\u001b[1;33m[\u001b[0m\u001b[0mu\u001b[0m\u001b[1;33m]\u001b[0m\u001b[1;33m)\u001b[0m\u001b[1;33m\u001b[0m\u001b[1;33m\u001b[0m\u001b[0m\n",
      "\u001b[1;31mTypeError\u001b[0m: unsupported operand type(s) for *: 'NoneType' and 'float'"
     ]
    }
   ],
   "source": [
    "prob = ProbMinExposed.from_dataframe(G,I0,V1,V2,P,Q,10,COSTS)"
   ]
  },
  {
   "cell_type": "code",
   "execution_count": 100,
   "metadata": {},
   "outputs": [],
   "source": [
    "\n"
   ]
  },
  {
   "cell_type": "code",
   "execution_count": 51,
   "metadata": {},
   "outputs": [
    {
     "name": "stdout",
     "output_type": "stream",
     "text": [
      "[(1, 4), (2, 3), (3, 2), (4, 1), (5, 0)]\n",
      "14\n",
      "23\n",
      "32\n",
      "41\n",
      "50\n"
     ]
    }
   ],
   "source": [
    "p = [5,4,3,2,1]\n",
    "n = []\n",
    "\n",
    "for (i,v) in enumerate(p):\n",
    "    n.append((v,i))\n",
    "    \n",
    "n.sort()\n",
    "print(n)\n",
    "\n",
    "for (k,v) in n:\n",
    "    print(str(k) + str(v))\n"
   ]
  },
  {
   "cell_type": "code",
   "execution_count": 55,
   "metadata": {},
   "outputs": [],
   "source": [
    "def optimized_iterated_round(problem: ProbMinExposed, d: int):\n",
    "    problem.solve_lp()\n",
    "    probabilities = np.array(problem.getVariables())\n",
    "    \n",
    "    mapping = []\n",
    "    \n",
    "    for (i,value) in enumerate(probabilities):\n",
    "        distance = min(abs(value),abs(value-1))\n",
    "        mapping.append((distance,i))\n",
    "    \n",
    "    mapping.sort()\n",
    "        \n",
    "    while len(mapping) >= d:\n",
    "        \n",
    "        #rounds the most confident d values\n",
    "        to_round = []\n",
    "        \n",
    "        for i in range(d):\n",
    "            to_round.append(probabilities[mapping[i][1]])\n",
    "        \n",
    "        rounded = D_prime(np.array(to_round))\n",
    "        \n",
    "        for i in range(d):\n",
    "            problem.setVariable(mapping[i][1], rounded[i])\n",
    "        \n",
    "        #resolves the LP under new constraints\n",
    "        problem.solve_lp()\n",
    "        probabilities = np.array(problem.getVariables())\n",
    "        \n",
    "        #updates the mappings; only need to worry about previously unrounded values\n",
    "        mapping = mapping[d:]\n",
    "        \n",
    "        for (i,(value,index)) in enumerate(mapping):\n",
    "            new_value = min(abs(probabilities[index]),abs(probabilities[index]-1))\n",
    "            mapping[i] = (new_value,index)\n",
    "            \n",
    "        mapping.sort()\n",
    "        \n",
    "    \n",
    "    #rounds all remaining (less than d) values\n",
    "    to_round = []\n",
    "    \n",
    "    for (value, index) in mapping:\n",
    "        to_round.append(probabilities[index])\n",
    "        \n",
    "    rounded = D_prime(np.array(to_round))\n",
    "    \n",
    "    for i in range(len(rounded)):\n",
    "        probabilities[mapping[i][1]] = rounded[i]\n",
    "    \n",
    "    return probabilities "
   ]
  },
  {
   "cell_type": "code",
   "execution_count": 31,
   "metadata": {},
   "outputs": [],
   "source": [
    "def iterated_round(problem: ProbMinExposed, d: int):\n",
    "    problem.solve_lp()\n",
    "    probabilities = np.array(problem.getVariables())\n",
    "    \n",
    "    curr = 0\n",
    "    \n",
    "    while curr + d < len(probabilities):\n",
    "        \n",
    "        probabilities[curr:curr+d] = D_prime(probabilities[curr:curr+d])\n",
    "        \n",
    "        for i in range(d):\n",
    "            \n",
    "            problem.setVariable(curr+i, probabilities[curr+i])\n",
    "        \n",
    "        problem.solve_lp()\n",
    "        probabilities = np.array(problem.getVariables())\n",
    "        \n",
    "        curr += d\n",
    "    \n",
    "    probabilities[curr:] = D_prime(probabilities[curr:])\n",
    "    \n",
    "    return probabilities"
   ]
  },
  {
   "cell_type": "code",
   "execution_count": 29,
   "metadata": {},
   "outputs": [],
   "source": [
    "def basic_integer_round(problem: ProbMinExposed):\n",
    "    problem.solve_lp()\n",
    "    probabilities = problem.getVariables()\n",
    "    return D(np.array(probabilities))"
   ]
  },
  {
   "cell_type": "code",
   "execution_count": 19,
   "metadata": {},
   "outputs": [],
   "source": [
    "def simplify(alpha:float, beta:float):\n",
    "    if (alpha<0) | (alpha>1) | (beta<0) | (beta>1):\n",
    "        raise ValueError('Invalid alpha or beta')\n",
    "    \n",
    "    p = random.uniform(0,1)\n",
    "    \n",
    "    if alpha+beta==0:\n",
    "        \n",
    "        return (0,0,-1,-1)\n",
    "    \n",
    "    elif alpha+beta<1:\n",
    "        \n",
    "        if p<alpha/(alpha+beta):\n",
    "            return (-1,0,alpha+beta,-1)\n",
    "        else:\n",
    "            return (0,-1,-1,alpha+beta)\n",
    "        \n",
    "    elif alpha+beta==1:\n",
    "        \n",
    "        if p<alpha:\n",
    "            return (1,0,-1,-1)\n",
    "        else:\n",
    "            return (0,1,-1,-1)\n",
    "        \n",
    "    elif alpha+beta < 2:\n",
    "        \n",
    "        if p<(1-beta)/(2-alpha-beta):\n",
    "            return (1,-1,-1,alpha+beta-1)\n",
    "        else:\n",
    "            return (-1,1,alpha+beta-1,-1)\n",
    "        \n",
    "    else:\n",
    "        \n",
    "        return (1,1,-1,-1)"
   ]
  },
  {
   "cell_type": "code",
   "execution_count": 20,
   "metadata": {},
   "outputs": [
    {
     "name": "stdout",
     "output_type": "stream",
     "text": [
      "1.0 1\n",
      "0.0 0\n"
     ]
    }
   ],
   "source": [
    "#test simplify\n",
    "\n",
    "a = 1\n",
    "b = 0\n",
    "\n",
    "total_a = 0\n",
    "total_b = 0\n",
    "\n",
    "n=1000000\n",
    "\n",
    "for i in range(n):\n",
    "    (x,y,new_a,new_b) = simplify(a,b)\n",
    "    \n",
    "    if x==-1:\n",
    "        total_a += new_a\n",
    "        total_b += y\n",
    "    elif y==-1:\n",
    "        total_a += x\n",
    "        total_b += new_b\n",
    "    else:\n",
    "        total_a += x\n",
    "        total_b += y\n",
    "\n",
    "print(str(total_a/n) + \" \" + str(a))\n",
    "print(str(total_b/n) + \" \" + str(b))"
   ]
  },
  {
   "cell_type": "code",
   "execution_count": 21,
   "metadata": {},
   "outputs": [],
   "source": [
    "def D(p):\n",
    "    t = len(p)\n",
    "    sample = np.full(t,-1)\n",
    "    prob = np.array(p,copy=True)\n",
    "    \n",
    "    leaves = np.arange(t)\n",
    "    np.random.shuffle(leaves)\n",
    "    \n",
    "    #each iteration represents a level in the tree\n",
    "    while t > 1:\n",
    "        \n",
    "        new_leaves = []\n",
    "        \n",
    "        for i in range(0,t,2):            \n",
    "            \n",
    "            a = prob[leaves[i]]\n",
    "            b = prob[leaves[i+1]]\n",
    "            \n",
    "            (x,y,new_a,new_b) = simplify(a,b)\n",
    "            \n",
    "            if x==-1:\n",
    "                \n",
    "                new_leaves.append(leaves[i])\n",
    "                prob[leaves[i]] = new_a\n",
    "                sample[leaves[i+1]] = y\n",
    "                \n",
    "            elif y==-1:\n",
    "                \n",
    "                new_leaves.append(leaves[i+1])\n",
    "                prob[leaves[i+1]] = new_b\n",
    "                sample[leaves[i]] = x\n",
    "\n",
    "            else:\n",
    "                \n",
    "                new_leaves.append(leaves[i])\n",
    "                prob[leaves[i]] = x\n",
    "                sample[leaves[i+1]] = y\n",
    "    \n",
    "        if t%2 == 1:\n",
    "\n",
    "            new_leaves.append(leaves[-1])\n",
    "            \n",
    "        t = len(new_leaves)\n",
    "        leaves = np.array(new_leaves)\n",
    "        np.random.shuffle(leaves)\n",
    "\n",
    "    if t==1:\n",
    "        \n",
    "        p = random.uniform(0,1)\n",
    "        \n",
    "        if p < prob[leaves[0]]:\n",
    "            sample[leaves[0]] = 1\n",
    "        else:\n",
    "            sample[leaves[0]] = 0\n",
    "       \n",
    "    return sample"
   ]
  },
  {
   "cell_type": "code",
   "execution_count": 22,
   "metadata": {},
   "outputs": [
    {
     "name": "stdout",
     "output_type": "stream",
     "text": [
      "[0.5029 0.4982 0.2476 0.7513]\n"
     ]
    }
   ],
   "source": [
    "p = [.5,.5,.25,.75]\n",
    "\n",
    "n=10000\n",
    "total = np.zeros(4)\n",
    "\n",
    "for i in range(n):\n",
    "    a = D(p)\n",
    "    if np.sum(a) != np.sum(p):\n",
    "        print(\"oof\")\n",
    "    #print(p)\n",
    "    total += a\n",
    "    \n",
    "total/=n\n",
    "print(total)"
   ]
  },
  {
   "cell_type": "code",
   "execution_count": 23,
   "metadata": {},
   "outputs": [
    {
     "data": {
      "text/plain": [
       "2.0"
      ]
     },
     "execution_count": 23,
     "metadata": {},
     "output_type": "execute_result"
    }
   ],
   "source": [
    "np.sum(p)"
   ]
  },
  {
   "cell_type": "code",
   "execution_count": 24,
   "metadata": {},
   "outputs": [],
   "source": [
    "def D_prime(p):\n",
    "    l = np.sum(p)\n",
    "    \n",
    "    p_prime = np.append(p,[math.ceil(l)-l])\n",
    "    \n",
    "    return D(p_prime)[:len(p)]"
   ]
  },
  {
   "cell_type": "code",
   "execution_count": 25,
   "metadata": {},
   "outputs": [
    {
     "name": "stdout",
     "output_type": "stream",
     "text": [
      "[0.5084 0.3924 0.2478 0.7562]\n"
     ]
    }
   ],
   "source": [
    "\n",
    "p = [.5,.4,.25,.75]\n",
    "\n",
    "n=5000\n",
    "total = np.zeros(4)\n",
    "\n",
    "for i in range(n):\n",
    "    a = D(p)\n",
    "    if (np.sum(a) != math.floor(np.sum(p))) & (np.sum(a) != math.ceil(np.sum(p))):\n",
    "        print(\"oof\")\n",
    "    #print(p)\n",
    "    total += a\n",
    "    \n",
    "total/=n\n",
    "print(total)"
   ]
  },
  {
   "cell_type": "code",
   "execution_count": 25,
   "metadata": {},
   "outputs": [
    {
     "name": "stdout",
     "output_type": "stream",
     "text": [
      "0\n"
     ]
    }
   ],
   "source": [
    "for i in range(0,1,2):\n",
    "    print(i)"
   ]
  }
 ],
 "metadata": {
  "kernelspec": {
   "display_name": "Python 3",
   "language": "python",
   "name": "python3"
  },
  "language_info": {
   "codemirror_mode": {
    "name": "ipython",
    "version": 3
   },
   "file_extension": ".py",
   "mimetype": "text/x-python",
   "name": "python",
   "nbconvert_exporter": "python",
   "pygments_lexer": "ipython3",
   "version": "3.7.3"
  }
 },
 "nbformat": 4,
 "nbformat_minor": 2
}
