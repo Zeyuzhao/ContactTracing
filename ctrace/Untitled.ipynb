{
 "cells": [
  {
   "cell_type": "markdown",
   "metadata": {},
   "source": [
    "\n",
    "\n",
    "-1 represents value not set\n",
    "\n",
    "(value of X, value of Y, new probability of X, new probability of Y)\n",
    "\n",
    "Note, there will only be a new probability if the value was not set.\n",
    "\n",
    "(p1, p2) "
   ]
  },
  {
   "cell_type": "code",
   "execution_count": 93,
   "metadata": {},
   "outputs": [],
   "source": [
    "import networkx as nx\n",
    "import EoN\n",
    "import matplotlib.pyplot as plt\n",
    "import pandas as pd\n",
    "import numpy as np\n",
    "import random\n",
    "from contact_tracing import *"
   ]
  },
  {
   "cell_type": "code",
   "execution_count": 95,
   "metadata": {},
   "outputs": [],
   "source": [
    "G=grab_graph() #fetching the montgamery graph\n",
    "n = len(G.nodes)\n",
    "I0 = [i for i in range(n) if random.random() > 0.999]"
   ]
  },
  {
   "cell_type": "code",
   "execution_count": 74,
   "metadata": {},
   "outputs": [
    {
     "name": "stdout",
     "output_type": "stream",
     "text": [
      "<class 'networkx.classes.reportviews.EdgeView'>\n"
     ]
    }
   ],
   "source": [
    "print(type(a))"
   ]
  },
  {
   "cell_type": "code",
   "execution_count": 96,
   "metadata": {},
   "outputs": [],
   "source": [
    "P,Q = PQ(G,I0,runs= 20)"
   ]
  },
  {
   "cell_type": "code",
   "execution_count": 102,
   "metadata": {},
   "outputs": [
    {
     "ename": "TypeError",
     "evalue": "'function' object is not iterable",
     "output_type": "error",
     "traceback": [
      "\u001b[1;31m---------------------------------------------------------------------------\u001b[0m",
      "\u001b[1;31mTypeError\u001b[0m                                 Traceback (most recent call last)",
      "\u001b[1;32m<ipython-input-102-03894874bf2a>\u001b[0m in \u001b[0;36m<module>\u001b[1;34m\u001b[0m\n\u001b[1;32m----> 1\u001b[1;33m \u001b[0mprob\u001b[0m \u001b[1;33m=\u001b[0m \u001b[0mProbMinExposed\u001b[0m\u001b[1;33m(\u001b[0m\u001b[0mG\u001b[0m\u001b[1;33m,\u001b[0m\u001b[0mI\u001b[0m\u001b[1;33m,\u001b[0m\u001b[0mV1\u001b[0m\u001b[1;33m,\u001b[0m\u001b[0mV2\u001b[0m\u001b[1;33m,\u001b[0m\u001b[0mP\u001b[0m\u001b[1;33m,\u001b[0m\u001b[0mQ\u001b[0m\u001b[1;33m,\u001b[0m\u001b[1;36m10\u001b[0m\u001b[1;33m,\u001b[0m\u001b[0mCOSTS\u001b[0m\u001b[1;33m)\u001b[0m\u001b[1;33m\u001b[0m\u001b[1;33m\u001b[0m\u001b[0m\n\u001b[0m",
      "\u001b[1;32m~\\Desktop\\George\\13th Grade\\Fall\\Aravind\\ContactTracing\\ctrace\\constraint.py\u001b[0m in \u001b[0;36m__init__\u001b[1;34m(self, graph, infected, contour1, contour2, p1, q, k, costs)\u001b[0m\n\u001b[0;32m     46\u001b[0m                        k, costs=None, solver=None):\n\u001b[0;32m     47\u001b[0m         \u001b[1;31m# Initialize p1\u001b[0m\u001b[1;33m\u001b[0m\u001b[1;33m\u001b[0m\u001b[1;33m\u001b[0m\u001b[0m\n\u001b[1;32m---> 48\u001b[1;33m         \u001b[0mp1\u001b[0m \u001b[1;33m=\u001b[0m \u001b[1;33m{\u001b[0m\u001b[1;33m}\u001b[0m\u001b[1;33m\u001b[0m\u001b[1;33m\u001b[0m\u001b[0m\n\u001b[0m\u001b[0;32m     49\u001b[0m         \u001b[1;32mfor\u001b[0m \u001b[0mi\u001b[0m\u001b[1;33m,\u001b[0m \u001b[0mrow\u001b[0m \u001b[1;32min\u001b[0m \u001b[0mp1_df\u001b[0m\u001b[1;33m.\u001b[0m\u001b[0miterrows\u001b[0m\u001b[1;33m(\u001b[0m\u001b[1;33m)\u001b[0m\u001b[1;33m:\u001b[0m\u001b[1;33m\u001b[0m\u001b[1;33m\u001b[0m\u001b[0m\n\u001b[0;32m     50\u001b[0m             \u001b[0mp1\u001b[0m\u001b[1;33m[\u001b[0m\u001b[0mrow\u001b[0m\u001b[1;33m[\u001b[0m\u001b[1;34m'v'\u001b[0m\u001b[1;33m]\u001b[0m\u001b[1;33m]\u001b[0m \u001b[1;33m=\u001b[0m \u001b[0mrow\u001b[0m\u001b[1;33m[\u001b[0m\u001b[1;34m'p_v'\u001b[0m\u001b[1;33m]\u001b[0m\u001b[1;33m\u001b[0m\u001b[1;33m\u001b[0m\u001b[0m\n",
      "\u001b[1;32m~\\Desktop\\George\\13th Grade\\Fall\\Aravind\\ContactTracing\\ctrace\\constraint.py\u001b[0m in \u001b[0;36minit\u001b[1;34m(self)\u001b[0m\n\u001b[0;32m     59\u001b[0m     \u001b[1;32mdef\u001b[0m \u001b[0minitialize\u001b[0m\u001b[1;33m(\u001b[0m\u001b[0mself\u001b[0m\u001b[1;33m)\u001b[0m\u001b[1;33m:\u001b[0m\u001b[1;33m\u001b[0m\u001b[1;33m\u001b[0m\u001b[0m\n\u001b[0;32m     60\u001b[0m         \u001b[1;31m# V1 indicator set\u001b[0m\u001b[1;33m\u001b[0m\u001b[1;33m\u001b[0m\u001b[1;33m\u001b[0m\u001b[0m\n\u001b[1;32m---> 61\u001b[1;33m         \u001b[0mself\u001b[0m\u001b[1;33m.\u001b[0m\u001b[0mX1\u001b[0m\u001b[1;33m:\u001b[0m \u001b[0mDict\u001b[0m\u001b[1;33m[\u001b[0m\u001b[0mint\u001b[0m\u001b[1;33m,\u001b[0m \u001b[0mVariable\u001b[0m\u001b[1;33m]\u001b[0m \u001b[1;33m=\u001b[0m \u001b[1;33m{\u001b[0m\u001b[1;33m}\u001b[0m\u001b[1;33m\u001b[0m\u001b[1;33m\u001b[0m\u001b[0m\n\u001b[0m\u001b[0;32m     62\u001b[0m         \u001b[0mself\u001b[0m\u001b[1;33m.\u001b[0m\u001b[0mY1\u001b[0m\u001b[1;33m:\u001b[0m \u001b[0mDict\u001b[0m\u001b[1;33m[\u001b[0m\u001b[0mint\u001b[0m\u001b[1;33m,\u001b[0m \u001b[0mVariable\u001b[0m\u001b[1;33m]\u001b[0m \u001b[1;33m=\u001b[0m \u001b[1;33m{\u001b[0m\u001b[1;33m}\u001b[0m\u001b[1;33m\u001b[0m\u001b[1;33m\u001b[0m\u001b[0m\n\u001b[0;32m     63\u001b[0m \u001b[1;33m\u001b[0m\u001b[0m\n",
      "\u001b[1;31mTypeError\u001b[0m: 'function' object is not iterable"
     ]
    }
   ],
   "source": [
    "prob = ProbMinExposed.from_dataframe(G,I,V1,V2,P,Q,10,COSTS)"
   ]
  },
  {
   "cell_type": "code",
   "execution_count": 100,
   "metadata": {},
   "outputs": [],
   "source": [
    "import random\n",
    "import numpy as np\n",
    "import math\n",
    "from constraint import ProbMinExposed\n",
    "import networkx as nx\n",
    "import matplotlib.pyplot as plt\n",
    "from collections import defaultdict\n",
    "from ortools.linear_solver import pywraplp\n",
    "from ortools.linear_solver.pywraplp import Constraint, Solver, Variable, Objective\n",
    "\n",
    "from typing import Set, Dict\n",
    "import pickle as pkl\n"
   ]
  },
  {
   "cell_type": "code",
   "execution_count": 51,
   "metadata": {},
   "outputs": [
    {
     "name": "stdout",
     "output_type": "stream",
     "text": [
      "[(1, 4), (2, 3), (3, 2), (4, 1), (5, 0)]\n",
      "14\n",
      "23\n",
      "32\n",
      "41\n",
      "50\n"
     ]
    }
   ],
   "source": [
    "p = [5,4,3,2,1]\n",
    "n = []\n",
    "\n",
    "for (i,v) in enumerate(p):\n",
    "    n.append((v,i))\n",
    "    \n",
    "n.sort()\n",
    "print(n)\n",
    "\n",
    "for (k,v) in n:\n",
    "    print(str(k) + str(v))\n"
   ]
  },
  {
   "cell_type": "code",
   "execution_count": 55,
   "metadata": {},
   "outputs": [],
   "source": [
    "def optimized_iterated_round(problem: ProbMinExposed, d: int):\n",
    "    problem.solve_lp()\n",
    "    probabilities = np.array(problem.getVariables())\n",
    "    \n",
    "    mapping = []\n",
    "    \n",
    "    for (i,value) in enumerate(probabilities):\n",
    "        distance = min(abs(value),abs(value-1))\n",
    "        mapping.append((distance,i))\n",
    "    \n",
    "    mapping.sort()\n",
    "        \n",
    "    while len(mapping) >= d:\n",
    "        \n",
    "        #rounds the most confident d values\n",
    "        to_round = []\n",
    "        \n",
    "        for i in range(d):\n",
    "            to_round.append(probabilities[mapping[i][1]])\n",
    "        \n",
    "        rounded = D_prime(np.array(to_round))\n",
    "        \n",
    "        for i in range(d):\n",
    "            problem.setVariable(mapping[i][1], rounded[i])\n",
    "        \n",
    "        #resolves the LP under new constraints\n",
    "        problem.solve_lp()\n",
    "        probabilities = np.array(problem.getVariables())\n",
    "        \n",
    "        #updates the mappings; only need to worry about previously unrounded values\n",
    "        mapping = mapping[d:]\n",
    "        \n",
    "        for (i,(value,index)) in enumerate(mapping):\n",
    "            new_value = min(abs(probabilities[index]),abs(probabilities[index]-1))\n",
    "            mapping[i] = (new_value,index)\n",
    "            \n",
    "        mapping.sort()\n",
    "        \n",
    "    \n",
    "    #rounds all remaining (less than d) values\n",
    "    to_round = []\n",
    "    \n",
    "    for (value, index) in mapping:\n",
    "        to_round.append(probabilities[index])\n",
    "        \n",
    "    rounded = D_prime(np.array(to_round))\n",
    "    \n",
    "    for i in range(len(rounded)):\n",
    "        probabilities[mapping[i][1]] = rounded[i]\n",
    "    \n",
    "    return probabilities "
   ]
  },
  {
   "cell_type": "code",
   "execution_count": 31,
   "metadata": {},
   "outputs": [],
   "source": [
    "def iterated_round(problem: ProbMinExposed, d: int):\n",
    "    problem.solve_lp()\n",
    "    probabilities = np.array(problem.getVariables())\n",
    "    \n",
    "    curr = 0\n",
    "    \n",
    "    while curr + d < len(probabilities):\n",
    "        \n",
    "        probabilities[curr:curr+d] = D_prime(probabilities[curr:curr+d])\n",
    "        \n",
    "        for i in range(d):\n",
    "            \n",
    "            problem.setVariable(curr+i, probabilities[curr+i])\n",
    "        \n",
    "        problem.solve_lp()\n",
    "        probabilities = np.array(problem.getVariables())\n",
    "        \n",
    "        curr += d\n",
    "    \n",
    "    probabilities[curr:] = D_prime(probabilities[curr:])\n",
    "    \n",
    "    return probabilities"
   ]
  },
  {
   "cell_type": "code",
   "execution_count": 29,
   "metadata": {},
   "outputs": [],
   "source": [
    "def basic_integer_round(problem: ProbMinExposed):\n",
    "    problem.solve_lp()\n",
    "    probabilities = problem.getVariables()\n",
    "    return D(np.array(probabilities))"
   ]
  },
  {
   "cell_type": "code",
   "execution_count": 19,
   "metadata": {},
   "outputs": [],
   "source": [
    "def simplify(alpha:float, beta:float):\n",
    "    if (alpha<0) | (alpha>1) | (beta<0) | (beta>1):\n",
    "        raise ValueError('Invalid alpha or beta')\n",
    "    \n",
    "    p = random.uniform(0,1)\n",
    "    \n",
    "    if alpha+beta==0:\n",
    "        \n",
    "        return (0,0,-1,-1)\n",
    "    \n",
    "    elif alpha+beta<1:\n",
    "        \n",
    "        if p<alpha/(alpha+beta):\n",
    "            return (-1,0,alpha+beta,-1)\n",
    "        else:\n",
    "            return (0,-1,-1,alpha+beta)\n",
    "        \n",
    "    elif alpha+beta==1:\n",
    "        \n",
    "        if p<alpha:\n",
    "            return (1,0,-1,-1)\n",
    "        else:\n",
    "            return (0,1,-1,-1)\n",
    "        \n",
    "    elif alpha+beta < 2:\n",
    "        \n",
    "        if p<(1-beta)/(2-alpha-beta):\n",
    "            return (1,-1,-1,alpha+beta-1)\n",
    "        else:\n",
    "            return (-1,1,alpha+beta-1,-1)\n",
    "        \n",
    "    else:\n",
    "        \n",
    "        return (1,1,-1,-1)"
   ]
  },
  {
   "cell_type": "code",
   "execution_count": 20,
   "metadata": {},
   "outputs": [
    {
     "name": "stdout",
     "output_type": "stream",
     "text": [
      "1.0 1\n",
      "0.0 0\n"
     ]
    }
   ],
   "source": [
    "#test simplify\n",
    "\n",
    "a = 1\n",
    "b = 0\n",
    "\n",
    "total_a = 0\n",
    "total_b = 0\n",
    "\n",
    "n=1000000\n",
    "\n",
    "for i in range(n):\n",
    "    (x,y,new_a,new_b) = simplify(a,b)\n",
    "    \n",
    "    if x==-1:\n",
    "        total_a += new_a\n",
    "        total_b += y\n",
    "    elif y==-1:\n",
    "        total_a += x\n",
    "        total_b += new_b\n",
    "    else:\n",
    "        total_a += x\n",
    "        total_b += y\n",
    "\n",
    "print(str(total_a/n) + \" \" + str(a))\n",
    "print(str(total_b/n) + \" \" + str(b))"
   ]
  },
  {
   "cell_type": "code",
   "execution_count": 21,
   "metadata": {},
   "outputs": [],
   "source": [
    "def D(p):\n",
    "    t = len(p)\n",
    "    sample = np.full(t,-1)\n",
    "    prob = np.array(p,copy=True)\n",
    "    \n",
    "    leaves = np.arange(t)\n",
    "    np.random.shuffle(leaves)\n",
    "    \n",
    "    #each iteration represents a level in the tree\n",
    "    while t > 1:\n",
    "        \n",
    "        new_leaves = []\n",
    "        \n",
    "        for i in range(0,t,2):            \n",
    "            \n",
    "            a = prob[leaves[i]]\n",
    "            b = prob[leaves[i+1]]\n",
    "            \n",
    "            (x,y,new_a,new_b) = simplify(a,b)\n",
    "            \n",
    "            if x==-1:\n",
    "                \n",
    "                new_leaves.append(leaves[i])\n",
    "                prob[leaves[i]] = new_a\n",
    "                sample[leaves[i+1]] = y\n",
    "                \n",
    "            elif y==-1:\n",
    "                \n",
    "                new_leaves.append(leaves[i+1])\n",
    "                prob[leaves[i+1]] = new_b\n",
    "                sample[leaves[i]] = x\n",
    "\n",
    "            else:\n",
    "                \n",
    "                new_leaves.append(leaves[i])\n",
    "                prob[leaves[i]] = x\n",
    "                sample[leaves[i+1]] = y\n",
    "    \n",
    "        if t%2 == 1:\n",
    "\n",
    "            new_leaves.append(leaves[-1])\n",
    "            \n",
    "        t = len(new_leaves)\n",
    "        leaves = np.array(new_leaves)\n",
    "        np.random.shuffle(leaves)\n",
    "\n",
    "    if t==1:\n",
    "        \n",
    "        p = random.uniform(0,1)\n",
    "        \n",
    "        if p < prob[leaves[0]]:\n",
    "            sample[leaves[0]] = 1\n",
    "        else:\n",
    "            sample[leaves[0]] = 0\n",
    "       \n",
    "    return sample"
   ]
  },
  {
   "cell_type": "code",
   "execution_count": 22,
   "metadata": {},
   "outputs": [
    {
     "name": "stdout",
     "output_type": "stream",
     "text": [
      "[0.5029 0.4982 0.2476 0.7513]\n"
     ]
    }
   ],
   "source": [
    "p = [.5,.5,.25,.75]\n",
    "\n",
    "n=10000\n",
    "total = np.zeros(4)\n",
    "\n",
    "for i in range(n):\n",
    "    a = D(p)\n",
    "    if np.sum(a) != np.sum(p):\n",
    "        print(\"oof\")\n",
    "    #print(p)\n",
    "    total += a\n",
    "    \n",
    "total/=n\n",
    "print(total)"
   ]
  },
  {
   "cell_type": "code",
   "execution_count": 23,
   "metadata": {},
   "outputs": [
    {
     "data": {
      "text/plain": [
       "2.0"
      ]
     },
     "execution_count": 23,
     "metadata": {},
     "output_type": "execute_result"
    }
   ],
   "source": [
    "np.sum(p)"
   ]
  },
  {
   "cell_type": "code",
   "execution_count": 24,
   "metadata": {},
   "outputs": [],
   "source": [
    "def D_prime(p):\n",
    "    l = np.sum(p)\n",
    "    \n",
    "    p_prime = np.append(p,[math.ceil(l)-l])\n",
    "    \n",
    "    return D(p_prime)[:len(p)]"
   ]
  },
  {
   "cell_type": "code",
   "execution_count": 25,
   "metadata": {},
   "outputs": [
    {
     "name": "stdout",
     "output_type": "stream",
     "text": [
      "[0.5084 0.3924 0.2478 0.7562]\n"
     ]
    }
   ],
   "source": [
    "\n",
    "p = [.5,.4,.25,.75]\n",
    "\n",
    "n=5000\n",
    "total = np.zeros(4)\n",
    "\n",
    "for i in range(n):\n",
    "    a = D(p)\n",
    "    if (np.sum(a) != math.floor(np.sum(p))) & (np.sum(a) != math.ceil(np.sum(p))):\n",
    "        print(\"oof\")\n",
    "    #print(p)\n",
    "    total += a\n",
    "    \n",
    "total/=n\n",
    "print(total)"
   ]
  },
  {
   "cell_type": "code",
   "execution_count": 25,
   "metadata": {},
   "outputs": [
    {
     "name": "stdout",
     "output_type": "stream",
     "text": [
      "0\n"
     ]
    }
   ],
   "source": [
    "for i in range(0,1,2):\n",
    "    print(i)"
   ]
  }
 ],
 "metadata": {
  "kernelspec": {
   "display_name": "Python 3",
   "language": "python",
   "name": "python3"
  },
  "language_info": {
   "codemirror_mode": {
    "name": "ipython",
    "version": 3
   },
   "file_extension": ".py",
   "mimetype": "text/x-python",
   "name": "python",
   "nbconvert_exporter": "python",
   "pygments_lexer": "ipython3",
   "version": "3.7.3"
  }
 },
 "nbformat": 4,
 "nbformat_minor": 2
}
