{
 "cells": [
  {
   "cell_type": "markdown",
   "metadata": {},
   "source": [
    "\n",
    "\n",
    "-1 represents value not set\n",
    "\n",
    "(value of X, value of Y, new probability of X, new probability of Y)\n",
    "\n",
    "Note, there will only be a new probability if the value was not set.\n",
    "\n",
    "(p1, p2) "
   ]
  },
  {
   "cell_type": "code",
   "execution_count": 14,
   "metadata": {},
   "outputs": [],
   "source": [
    "import random\n",
    "import numpy as np\n",
    "import math\n",
    "from constraint import ProbMinExposed\n",
    "import networkx as nx\n",
    "import matplotlib.pyplot as plt\n",
    "from collections import defaultdict\n",
    "from ortools.linear_solver import pywraplp\n",
    "from ortools.linear_solver.pywraplp import Constraint, Solver, Variable, Objective\n",
    "\n",
    "from typing import Set, Dict\n",
    "import pickle as pkl\n"
   ]
  },
  {
   "cell_type": "code",
   "execution_count": 10,
   "metadata": {},
   "outputs": [],
   "source": [
    "data_name = \"mon10k\"\n",
    "data_dir = f\"../data/mont/labelled/{data_name}\"\n",
    "G: nx.Graph = nx.read_edgelist(f\"{data_dir}/data.txt\", nodetype=int)"
   ]
  },
  {
   "cell_type": "code",
   "execution_count": 17,
   "metadata": {},
   "outputs": [
    {
     "name": "stdout",
     "output_type": "stream",
     "text": [
      "COSTS: [1. 1. 1. ... 1. 1. 1.]\n"
     ]
    }
   ],
   "source": [
    "# Set of initial infected\n",
    "N = G.number_of_nodes()\n",
    "NUM_INFECTED = int(N / 20)\n",
    "\n",
    "rand_infected = np.random.choice(N, NUM_INFECTED, replace=False)\n",
    "I_SET = set(rand_infected)\n",
    "#print(f\"Infected: {I_SET}\")\n",
    "\n",
    "# COSTS = np.random.randint(1, 20, size=N)\n",
    "COSTS = np.ones(N)\n",
    "print(f\"COSTS: {COSTS}\")\n",
    "# Compute distances\n",
    "dist_dict = nx.multi_source_dijkstra_path_length(G, I_SET)\n",
    "\n",
    "# convert dict vertex -> distance\n",
    "# to distance -> [vertex]\n",
    "level_dists = defaultdict(set)\n",
    "for (i, v) in dist_dict.items():\n",
    "    level_dists[v].add(i)\n",
    "\n",
    "# print(level_dists)\n",
    "\n",
    "I: Set[int] = level_dists[0]\n",
    "\n",
    "# Obtain V_1 and V_2\n",
    "\n",
    "# Set of vertices distance 1 away from infected I\n",
    "V1: Set[int] = level_dists[1]\n",
    "\n",
    "# Set of vertices distance 2 away from infected I\n",
    "V2: Set[int] = level_dists[2]"
   ]
  },
  {
   "cell_type": "code",
   "execution_count": 18,
   "metadata": {},
   "outputs": [
    {
     "ename": "TypeError",
     "evalue": "__init__() missing 4 required positional arguments: 'p1', 'q', 'k', and 'costs'",
     "output_type": "error",
     "traceback": [
      "\u001b[1;31m---------------------------------------------------------------------------\u001b[0m",
      "\u001b[1;31mTypeError\u001b[0m                                 Traceback (most recent call last)",
      "\u001b[1;32m<ipython-input-18-d89b78311df6>\u001b[0m in \u001b[0;36m<module>\u001b[1;34m\u001b[0m\n\u001b[1;32m----> 1\u001b[1;33m \u001b[0mc\u001b[0m \u001b[1;33m=\u001b[0m \u001b[0mProbMinExposed\u001b[0m\u001b[1;33m(\u001b[0m\u001b[0mG\u001b[0m\u001b[1;33m,\u001b[0m\u001b[0mI\u001b[0m\u001b[1;33m,\u001b[0m\u001b[0mV1\u001b[0m\u001b[1;33m,\u001b[0m\u001b[0mV2\u001b[0m\u001b[1;33m)\u001b[0m\u001b[1;33m\u001b[0m\u001b[1;33m\u001b[0m\u001b[0m\n\u001b[0m",
      "\u001b[1;31mTypeError\u001b[0m: __init__() missing 4 required positional arguments: 'p1', 'q', 'k', and 'costs'"
     ]
    }
   ],
   "source": [
    "c = ProbMinExposed(G,I,V1,V2,10,COSTS)"
   ]
  },
  {
   "cell_type": "code",
   "execution_count": 31,
   "metadata": {},
   "outputs": [],
   "source": [
    "def iterated_round(problem: ProbMinExposed, d: int):\n",
    "    problem.solve_lp()\n",
    "    probabilities = np.array(problem.getVariables())\n",
    "    \n",
    "    curr = 0\n",
    "    \n",
    "    while curr + d < len(probabilities):\n",
    "        \n",
    "        probabilities[curr:curr+d] = D_prime(probabilities[curr:curr+d])\n",
    "        \n",
    "        for i in range(d):\n",
    "            \n",
    "            problem.setVariable(curr+i, probabilities[curr+i])\n",
    "        \n",
    "        problem.solve_lp()\n",
    "        probabilities = np.array(problem.getVariables())\n",
    "        \n",
    "        curr += d\n",
    "    \n",
    "    probabilities[curr:] = D_prime(probabilities[curr:])\n",
    "    \n",
    "    return probabilities"
   ]
  },
  {
   "cell_type": "code",
   "execution_count": 29,
   "metadata": {},
   "outputs": [],
   "source": [
    "def basic_integer_round(problem: ProbMinExposed):\n",
    "    problem.solve_lp()\n",
    "    probabilities = problem.getVariables()\n",
    "    return D(np.array(probabilities))"
   ]
  },
  {
   "cell_type": "code",
   "execution_count": 19,
   "metadata": {},
   "outputs": [],
   "source": [
    "def simplify(alpha:float, beta:float):\n",
    "    if (alpha<0) | (alpha>1) | (beta<0) | (beta>1):\n",
    "        raise ValueError('Invalid alpha or beta')\n",
    "    \n",
    "    p = random.uniform(0,1)\n",
    "    \n",
    "    if alpha+beta==0:\n",
    "        \n",
    "        return (0,0,-1,-1)\n",
    "    \n",
    "    elif alpha+beta<1:\n",
    "        \n",
    "        if p<alpha/(alpha+beta):\n",
    "            return (-1,0,alpha+beta,-1)\n",
    "        else:\n",
    "            return (0,-1,-1,alpha+beta)\n",
    "        \n",
    "    elif alpha+beta==1:\n",
    "        \n",
    "        if p<alpha:\n",
    "            return (1,0,-1,-1)\n",
    "        else:\n",
    "            return (0,1,-1,-1)\n",
    "        \n",
    "    elif alpha+beta < 2:\n",
    "        \n",
    "        if p<(1-beta)/(2-alpha-beta):\n",
    "            return (1,-1,-1,alpha+beta-1)\n",
    "        else:\n",
    "            return (-1,1,alpha+beta-1,-1)\n",
    "        \n",
    "    else:\n",
    "        \n",
    "        return (1,1,-1,-1)"
   ]
  },
  {
   "cell_type": "code",
   "execution_count": 20,
   "metadata": {},
   "outputs": [
    {
     "name": "stdout",
     "output_type": "stream",
     "text": [
      "1.0 1\n",
      "0.0 0\n"
     ]
    }
   ],
   "source": [
    "#test simplify\n",
    "\n",
    "a = 1\n",
    "b = 0\n",
    "\n",
    "total_a = 0\n",
    "total_b = 0\n",
    "\n",
    "n=1000000\n",
    "\n",
    "for i in range(n):\n",
    "    (x,y,new_a,new_b) = simplify(a,b)\n",
    "    \n",
    "    if x==-1:\n",
    "        total_a += new_a\n",
    "        total_b += y\n",
    "    elif y==-1:\n",
    "        total_a += x\n",
    "        total_b += new_b\n",
    "    else:\n",
    "        total_a += x\n",
    "        total_b += y\n",
    "\n",
    "print(str(total_a/n) + \" \" + str(a))\n",
    "print(str(total_b/n) + \" \" + str(b))"
   ]
  },
  {
   "cell_type": "code",
   "execution_count": 21,
   "metadata": {},
   "outputs": [],
   "source": [
    "def D(p):\n",
    "    t = len(p)\n",
    "    sample = np.full(t,-1)\n",
    "    prob = np.array(p,copy=True)\n",
    "    \n",
    "    leaves = np.arange(t)\n",
    "    np.random.shuffle(leaves)\n",
    "    \n",
    "    #each iteration represents a level in the tree\n",
    "    while t > 1:\n",
    "        \n",
    "        new_leaves = []\n",
    "        \n",
    "        for i in range(0,t,2):            \n",
    "            \n",
    "            a = prob[leaves[i]]\n",
    "            b = prob[leaves[i+1]]\n",
    "            \n",
    "            (x,y,new_a,new_b) = simplify(a,b)\n",
    "            \n",
    "            if x==-1:\n",
    "                \n",
    "                new_leaves.append(leaves[i])\n",
    "                prob[leaves[i]] = new_a\n",
    "                sample[leaves[i+1]] = y\n",
    "                \n",
    "            elif y==-1:\n",
    "                \n",
    "                new_leaves.append(leaves[i+1])\n",
    "                prob[leaves[i+1]] = new_b\n",
    "                sample[leaves[i]] = x\n",
    "\n",
    "            else:\n",
    "                \n",
    "                new_leaves.append(leaves[i])\n",
    "                prob[leaves[i]] = x\n",
    "                sample[leaves[i+1]] = y\n",
    "    \n",
    "        if t%2 == 1:\n",
    "\n",
    "            new_leaves.append(leaves[-1])\n",
    "            \n",
    "        t = len(new_leaves)\n",
    "        leaves = np.array(new_leaves)\n",
    "        np.random.shuffle(leaves)\n",
    "\n",
    "    if t==1:\n",
    "        \n",
    "        p = random.uniform(0,1)\n",
    "        \n",
    "        if p < prob[leaves[0]]:\n",
    "            sample[leaves[0]] = 1\n",
    "        else:\n",
    "            sample[leaves[0]] = 0\n",
    "       \n",
    "    return sample"
   ]
  },
  {
   "cell_type": "code",
   "execution_count": 22,
   "metadata": {},
   "outputs": [
    {
     "name": "stdout",
     "output_type": "stream",
     "text": [
      "[0.5029 0.4982 0.2476 0.7513]\n"
     ]
    }
   ],
   "source": [
    "p = [.5,.5,.25,.75]\n",
    "\n",
    "n=10000\n",
    "total = np.zeros(4)\n",
    "\n",
    "for i in range(n):\n",
    "    a = D(p)\n",
    "    if np.sum(a) != np.sum(p):\n",
    "        print(\"oof\")\n",
    "    #print(p)\n",
    "    total += a\n",
    "    \n",
    "total/=n\n",
    "print(total)"
   ]
  },
  {
   "cell_type": "code",
   "execution_count": 23,
   "metadata": {},
   "outputs": [
    {
     "data": {
      "text/plain": [
       "2.0"
      ]
     },
     "execution_count": 23,
     "metadata": {},
     "output_type": "execute_result"
    }
   ],
   "source": [
    "np.sum(p)"
   ]
  },
  {
   "cell_type": "code",
   "execution_count": 24,
   "metadata": {},
   "outputs": [],
   "source": [
    "def D_prime(p):\n",
    "    l = np.sum(p)\n",
    "    \n",
    "    p_prime = np.append(p,[math.ceil(l)-l])\n",
    "    \n",
    "    return D(p_prime)[:len(p)]"
   ]
  },
  {
   "cell_type": "code",
   "execution_count": 25,
   "metadata": {},
   "outputs": [
    {
     "name": "stdout",
     "output_type": "stream",
     "text": [
      "[0.5084 0.3924 0.2478 0.7562]\n"
     ]
    }
   ],
   "source": [
    "\n",
    "p = [.5,.4,.25,.75]\n",
    "\n",
    "n=5000\n",
    "total = np.zeros(4)\n",
    "\n",
    "for i in range(n):\n",
    "    a = D(p)\n",
    "    if (np.sum(a) != math.floor(np.sum(p))) & (np.sum(a) != math.ceil(np.sum(p))):\n",
    "        print(\"oof\")\n",
    "    #print(p)\n",
    "    total += a\n",
    "    \n",
    "total/=n\n",
    "print(total)"
   ]
  },
  {
   "cell_type": "code",
   "execution_count": 25,
   "metadata": {},
   "outputs": [
    {
     "name": "stdout",
     "output_type": "stream",
     "text": [
      "0\n"
     ]
    }
   ],
   "source": [
    "for i in range(0,1,2):\n",
    "    print(i)"
   ]
  }
 ],
 "metadata": {
  "kernelspec": {
   "display_name": "Python 3",
   "language": "python",
   "name": "python3"
  }
 },
 "nbformat": 4,
 "nbformat_minor": 2
}
