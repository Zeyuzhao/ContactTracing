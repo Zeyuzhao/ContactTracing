{
 "cells": [
  {
   "cell_type": "code",
   "execution_count": 1,
   "metadata": {},
   "outputs": [],
   "source": [
    "import networkx as nx\n",
    "import matplotlib.pyplot as plt\n",
    "import pandas as pd\n",
    "import numpy as np\n",
    "import random\n",
    "import math\n",
    "import EoN\n",
    "\n",
    "from contact_tracing import *\n",
    "from constraint import *\n",
    "from solve import *"
   ]
  },
  {
   "cell_type": "code",
   "execution_count": 2,
   "metadata": {},
   "outputs": [],
   "source": [
    "G = load_graph('montgomery') #fetching the montgamery graph\n",
    "n = len(G.nodes)\n",
    "I0 = [i for i in range(n) if random.random() > 0.999]"
   ]
  },
  {
   "cell_type": "code",
   "execution_count": 3,
   "metadata": {},
   "outputs": [],
   "source": [
    "COSTS = np.ones(n)"
   ]
  },
  {
   "cell_type": "code",
   "execution_count": 4,
   "metadata": {},
   "outputs": [],
   "source": [
    "(V_1,V_2) = find_contours(G,I0)"
   ]
  },
  {
   "cell_type": "code",
   "execution_count": 5,
   "metadata": {},
   "outputs": [],
   "source": [
    "P,Q = PQ(G,I0,runs = 100)"
   ]
  },
  {
   "cell_type": "code",
   "execution_count": null,
   "metadata": {},
   "outputs": [],
   "source": [
    "a1=0\n",
    "a2=0\n",
    "a3=0\n",
    "m1=10000000000\n",
    "m2=10000000000\n",
    "m3=10000000000\n",
    "\n",
    "k=1\n",
    "\n",
    "for i in range(k):\n",
    "    prob = ProbMinExposed.from_dataframe(G,I0,V_1,V_2,P,Q,100,COSTS)\n",
    "    optimized_iterated_round(prob, 50)\n",
    "    prob.solve_lp()\n",
    "    a1 += prob.objectiveVal\n",
    "    \n",
    "    if prob.objectiveVal < m1:\n",
    "        m1 = prob.objectiveVal\n",
    "    \n",
    "    prob = ProbMinExposed.from_dataframe(G,I0,V_1,V_2,P,Q,100,COSTS)\n",
    "    iterated_round(prob, 50)\n",
    "    prob.solve_lp()\n",
    "    a2 += prob.objectiveVal\n",
    "    \n",
    "    if prob.objectiveVal < m2:\n",
    "        m2 = prob.objectiveVal\n",
    "\n",
    "    prob = ProbMinExposed.from_dataframe(G,I0,V_1,V_2,P,Q,100,COSTS)\n",
    "    basic_non_integer_round(prob)\n",
    "    prob.solve_lp()\n",
    "    a3 += prob.objectiveVal\n",
    "        \n",
    "    if prob.objectiveVal < m3:\n",
    "        m3 = prob.objectiveVal\n",
    "    \n",
    "    print(i)\n",
    "    \n",
    "a1 /= k\n",
    "a2 /= k\n",
    "a3 /= k\n",
    "\n",
    "print(\"Average: \" + str(a1) + \" \" + str(a2) + \" \" + str(a3))\n",
    "print(\"Best: \" + str(m1) + \" \" + str(m2) + \" \" + str(m3))"
   ]
  },
  {
   "cell_type": "code",
   "execution_count": 14,
   "metadata": {},
   "outputs": [
    {
     "ename": "TypeError",
     "evalue": "first argument must be callable or None",
     "output_type": "error",
     "traceback": [
      "\u001b[1;31m---------------------------------------------------------------------------\u001b[0m",
      "\u001b[1;31mTypeError\u001b[0m                                 Traceback (most recent call last)",
      "\u001b[1;32m<ipython-input-14-444ed7a97446>\u001b[0m in \u001b[0;36m<module>\u001b[1;34m\u001b[0m\n\u001b[1;32m----> 1\u001b[1;33m \u001b[0mprob\u001b[0m \u001b[1;33m=\u001b[0m \u001b[0mProbMinExposed\u001b[0m\u001b[1;33m.\u001b[0m\u001b[0mfrom_dataframe\u001b[0m\u001b[1;33m(\u001b[0m\u001b[0mG\u001b[0m\u001b[1;33m,\u001b[0m\u001b[0mI0\u001b[0m\u001b[1;33m,\u001b[0m\u001b[0mV_1\u001b[0m\u001b[1;33m,\u001b[0m\u001b[0mV_2\u001b[0m\u001b[1;33m,\u001b[0m\u001b[0mP\u001b[0m\u001b[1;33m,\u001b[0m\u001b[0mQ\u001b[0m\u001b[1;33m,\u001b[0m\u001b[1;36m100\u001b[0m\u001b[1;33m,\u001b[0m\u001b[0mCOSTS\u001b[0m\u001b[1;33m)\u001b[0m\u001b[1;33m\u001b[0m\u001b[1;33m\u001b[0m\u001b[0m\n\u001b[0m",
      "\u001b[1;32m~\\Desktop\\George\\13th Grade\\Fall\\Aravind\\ContactTracing\\ctrace\\constraint.py\u001b[0m in \u001b[0;36mfrom_dataframe\u001b[1;34m(cls, G, I, contour1, contour2, p1_df, q_df, k, costs, solver)\u001b[0m\n\u001b[0;32m     53\u001b[0m         \u001b[0mq\u001b[0m \u001b[1;33m=\u001b[0m \u001b[0mdefaultdict\u001b[0m\u001b[1;33m(\u001b[0m\u001b[1;32mlambda\u001b[0m\u001b[1;33m:\u001b[0m \u001b[0mdefaultdict\u001b[0m\u001b[1;33m(\u001b[0m\u001b[1;32mlambda\u001b[0m\u001b[1;33m:\u001b[0m \u001b[1;36m0\u001b[0m\u001b[1;33m)\u001b[0m\u001b[1;33m)\u001b[0m\u001b[1;33m\u001b[0m\u001b[1;33m\u001b[0m\u001b[0m\n\u001b[0;32m     54\u001b[0m         \u001b[1;32mfor\u001b[0m \u001b[0mi\u001b[0m\u001b[1;33m,\u001b[0m \u001b[0mrow\u001b[0m \u001b[1;32min\u001b[0m \u001b[0mq_df\u001b[0m\u001b[1;33m.\u001b[0m\u001b[0miterrows\u001b[0m\u001b[1;33m(\u001b[0m\u001b[1;33m)\u001b[0m\u001b[1;33m:\u001b[0m\u001b[1;33m\u001b[0m\u001b[1;33m\u001b[0m\u001b[0m\n\u001b[1;32m---> 55\u001b[1;33m             \u001b[0mq\u001b[0m\u001b[1;33m[\u001b[0m\u001b[0mrow\u001b[0m\u001b[1;33m[\u001b[0m\u001b[1;34m'u'\u001b[0m\u001b[1;33m]\u001b[0m\u001b[1;33m]\u001b[0m\u001b[1;33m[\u001b[0m\u001b[0mrow\u001b[0m\u001b[1;33m[\u001b[0m\u001b[1;34m'v'\u001b[0m\u001b[1;33m]\u001b[0m\u001b[1;33m]\u001b[0m \u001b[1;33m=\u001b[0m \u001b[0mrow\u001b[0m\u001b[1;33m[\u001b[0m\u001b[1;34m'q_uv'\u001b[0m\u001b[1;33m]\u001b[0m\u001b[1;33m\u001b[0m\u001b[1;33m\u001b[0m\u001b[0m\n\u001b[0m\u001b[0;32m     56\u001b[0m \u001b[1;33m\u001b[0m\u001b[0m\n\u001b[0;32m     57\u001b[0m         \u001b[1;32mreturn\u001b[0m \u001b[0mcls\u001b[0m\u001b[1;33m(\u001b[0m\u001b[0mG\u001b[0m\u001b[1;33m,\u001b[0m \u001b[0mI\u001b[0m\u001b[1;33m,\u001b[0m \u001b[0mcontour1\u001b[0m\u001b[1;33m,\u001b[0m \u001b[0mcontour2\u001b[0m\u001b[1;33m,\u001b[0m \u001b[0mp1\u001b[0m\u001b[1;33m,\u001b[0m \u001b[0mq\u001b[0m\u001b[1;33m,\u001b[0m \u001b[0mk\u001b[0m\u001b[1;33m,\u001b[0m \u001b[0mcosts\u001b[0m\u001b[1;33m,\u001b[0m \u001b[0msolver\u001b[0m\u001b[1;33m)\u001b[0m\u001b[1;33m\u001b[0m\u001b[1;33m\u001b[0m\u001b[0m\n",
      "\u001b[1;32m~\\Desktop\\George\\13th Grade\\Fall\\Aravind\\ContactTracing\\ctrace\\constraint.py\u001b[0m in \u001b[0;36m<lambda>\u001b[1;34m()\u001b[0m\n\u001b[0;32m     51\u001b[0m \u001b[1;33m\u001b[0m\u001b[0m\n\u001b[0;32m     52\u001b[0m         \u001b[1;31m# Initialize p2\u001b[0m\u001b[1;33m\u001b[0m\u001b[1;33m\u001b[0m\u001b[1;33m\u001b[0m\u001b[0m\n\u001b[1;32m---> 53\u001b[1;33m         \u001b[0mq\u001b[0m \u001b[1;33m=\u001b[0m \u001b[0mdefaultdict\u001b[0m\u001b[1;33m(\u001b[0m\u001b[1;32mlambda\u001b[0m\u001b[1;33m:\u001b[0m \u001b[0mdefaultdict\u001b[0m\u001b[1;33m(\u001b[0m\u001b[1;32mlambda\u001b[0m\u001b[1;33m:\u001b[0m \u001b[1;36m0\u001b[0m\u001b[1;33m)\u001b[0m\u001b[1;33m)\u001b[0m\u001b[1;33m\u001b[0m\u001b[1;33m\u001b[0m\u001b[0m\n\u001b[0m\u001b[0;32m     54\u001b[0m         \u001b[1;32mfor\u001b[0m \u001b[0mi\u001b[0m\u001b[1;33m,\u001b[0m \u001b[0mrow\u001b[0m \u001b[1;32min\u001b[0m \u001b[0mq_df\u001b[0m\u001b[1;33m.\u001b[0m\u001b[0miterrows\u001b[0m\u001b[1;33m(\u001b[0m\u001b[1;33m)\u001b[0m\u001b[1;33m:\u001b[0m\u001b[1;33m\u001b[0m\u001b[1;33m\u001b[0m\u001b[0m\n\u001b[0;32m     55\u001b[0m             \u001b[0mq\u001b[0m\u001b[1;33m[\u001b[0m\u001b[0mrow\u001b[0m\u001b[1;33m[\u001b[0m\u001b[1;34m'u'\u001b[0m\u001b[1;33m]\u001b[0m\u001b[1;33m]\u001b[0m\u001b[1;33m[\u001b[0m\u001b[0mrow\u001b[0m\u001b[1;33m[\u001b[0m\u001b[1;34m'v'\u001b[0m\u001b[1;33m]\u001b[0m\u001b[1;33m]\u001b[0m \u001b[1;33m=\u001b[0m \u001b[0mrow\u001b[0m\u001b[1;33m[\u001b[0m\u001b[1;34m'q_uv'\u001b[0m\u001b[1;33m]\u001b[0m\u001b[1;33m\u001b[0m\u001b[1;33m\u001b[0m\u001b[0m\n",
      "\u001b[1;31mTypeError\u001b[0m: first argument must be callable or None"
     ]
    }
   ],
   "source": [
    "prob = ProbMinExposed.from_dataframe(G,I0,V_1,V_2,P,Q,100,COSTS)"
   ]
  },
  {
   "cell_type": "code",
   "execution_count": 21,
   "metadata": {},
   "outputs": [
    {
     "data": {
      "text/plain": [
       "11944.13708924949"
      ]
     },
     "execution_count": 21,
     "metadata": {},
     "output_type": "execute_result"
    }
   ],
   "source": [
    "prob.solve_lp()\n",
    "prob.objectiveVal"
   ]
  },
  {
   "cell_type": "code",
   "execution_count": 22,
   "metadata": {},
   "outputs": [
    {
     "name": "stdout",
     "output_type": "stream",
     "text": [
      "100.0000000000004\n",
      "100.0\n",
      "11935.953575000076\n",
      "0.0585294117647055 0.0\n",
      "0.17086834733893497 0.0\n",
      "0.08803418803418783 0.0\n",
      "0.16815476190476164 0.0\n",
      "0.36810279667422496 0.0\n",
      "0.9999999999999992 1.0\n",
      "0.49095022624434215 0.0\n",
      "0.30999999999999917 1.0\n",
      "0.0665820029027564 0.0\n",
      "0.31089108910891117 0.0\n",
      "0.12840136054421702 0.0\n",
      "0.2716346153846153 1.0\n",
      "0.04661016949152552 0.0\n",
      "0.17003135486000343 0.0\n",
      "0.40214285714285813 0.0\n",
      "0.267857142857143 0.0\n",
      "0.11408730158730185 0.0\n",
      "0.31414141414141505 0.0\n",
      "0.16993720565149084 1.0\n",
      "0.2963951935914557 0.0\n",
      "0.13461538461538458 0.0\n",
      "0.028571428571429913 0.0\n",
      "0.140143520472773 0.0\n",
      "0.20776391364626656 0.0\n",
      "0.15274034141958803 1.0\n",
      "0.12114633087277127 0.0\n",
      "0.5814506539833535 1.0\n",
      "0.9999999999999997 1.0\n",
      "0.19327731092436962 0.0\n",
      "0.4491346559729854 0.0\n",
      "0.16486535995603635 1.0\n",
      "0.25300687285223356 1.0\n",
      "0.08017676767676851 0.0\n",
      "0.45667669887533724 1.0\n",
      "0.2617132867132872 0.0\n",
      "0.29358490566037665 0.0\n",
      "0.17732366512854336 0.0\n",
      "0.19696702521601228 0.0\n",
      "0.15855263861984947 0.0\n",
      "0.03921568627450778 0.0\n",
      "0.13555347091932368 0.0\n",
      "0.10235690235690276 0.0\n",
      "0.04085657931811737 0.0\n",
      "0.6094649859320325 1.0\n",
      "0.4592436974789915 0.0\n",
      "0.02272727272727293 0.0\n",
      "0.28808812546676654 0.0\n",
      "0.19922293772709443 0.0\n",
      "0.9999999999999978 1.0\n",
      "0.9999999999999992 1.0\n",
      "0.18468795355587742 0.0\n",
      "0.009523809523810045 0.0\n",
      "0.1329218106995893 0.0\n",
      "0.20331262939958694 1.0\n",
      "0.41975006125949577 0.0\n",
      "0.4953049322921812 1.0\n",
      "0.22046783625731003 0.0\n",
      "0.17223910840932022 1.0\n"
     ]
    }
   ],
   "source": [
    "a = prob.getVariables()\n",
    "print(a.sum())\n",
    "c = basic_non_integer_round(prob)\n",
    "prob.solve_lp()\n",
    "b = prob.getVariables()\n",
    "print(b.sum())\n",
    "print(prob.objectiveVal)\n",
    "for i in range(len(a)):\n",
    "    if (a[i] != 0) & (a[i] != 1):\n",
    "        print(str(a[i]) + \" \" + str(b[i]))\n",
    "    \n",
    "#print(len(a))\n",
    "#a.sum()"
   ]
  },
  {
   "cell_type": "code",
   "execution_count": null,
   "metadata": {},
   "outputs": [],
   "source": [
    "#p1 = defaultdict(lambda: 1)\n",
    "#q = defaultdict(lambda: defaultdict(lambda : 1))\n",
    "#prob = ProbMinExposed(G,I0,V_1,V_2,p1,q,10,COSTS)"
   ]
  },
  {
   "cell_type": "code",
   "execution_count": null,
   "metadata": {},
   "outputs": [],
   "source": [
    "prob.solve_lp()\n",
    "probabilities = np.array(prob.getVariables())"
   ]
  },
  {
   "cell_type": "code",
   "execution_count": null,
   "metadata": {},
   "outputs": [],
   "source": [
    "len(probabilities)"
   ]
  },
  {
   "cell_type": "code",
   "execution_count": null,
   "metadata": {},
   "outputs": [],
   "source": [
    "a = optimized_iterated_round(prob, 200)"
   ]
  },
  {
   "cell_type": "code",
   "execution_count": null,
   "metadata": {},
   "outputs": [],
   "source": [
    "for i in range(len(a)):\n",
    "    print(a[i])"
   ]
  },
  {
   "cell_type": "code",
   "execution_count": null,
   "metadata": {},
   "outputs": [],
   "source": [
    "\"\"\"STOP HERE\"\"\""
   ]
  },
  {
   "cell_type": "code",
   "execution_count": null,
   "metadata": {},
   "outputs": [],
   "source": [
    "#test simplify\n",
    "\n",
    "a = 1\n",
    "b = 0\n",
    "\n",
    "total_a = 0\n",
    "total_b = 0\n",
    "\n",
    "n=1000000\n",
    "\n",
    "for i in range(n):\n",
    "    (x,y,new_a,new_b) = simplify(a,b)\n",
    "    \n",
    "    if x==-1:\n",
    "        total_a += new_a\n",
    "        total_b += y\n",
    "    elif y==-1:\n",
    "        total_a += x\n",
    "        total_b += new_b\n",
    "    else:\n",
    "        total_a += x\n",
    "        total_b += y\n",
    "\n",
    "print(str(total_a/n) + \" \" + str(a))\n",
    "print(str(total_b/n) + \" \" + str(b))"
   ]
  },
  {
   "cell_type": "code",
   "execution_count": null,
   "metadata": {},
   "outputs": [],
   "source": [
    "#test D\n",
    "p = [.5,.5,.25,.6,.15]\n",
    "\n",
    "n=10000\n",
    "total = np.zeros(5)\n",
    "\n",
    "for i in range(n):\n",
    "    a = D(p)\n",
    "    if np.sum(a) != np.sum(p):\n",
    "        print(\"oof\")\n",
    "    #print(p)\n",
    "    total += a\n",
    "    \n",
    "total/=n\n",
    "print(total)"
   ]
  },
  {
   "cell_type": "code",
   "execution_count": null,
   "metadata": {},
   "outputs": [],
   "source": [
    "#test D_prime\n",
    "p = [.5,.4,.25,.75,.7]\n",
    "\n",
    "n=5000\n",
    "total = np.zeros(5)\n",
    "\n",
    "for i in range(n):\n",
    "    a = D(p)\n",
    "    if (np.sum(a) != math.floor(np.sum(p))) & (np.sum(a) != math.ceil(np.sum(p))):\n",
    "        print(\"oof\")\n",
    "    #print(p)\n",
    "    total += a\n",
    "    \n",
    "total/=n\n",
    "print(total)"
   ]
  }
 ],
 "metadata": {
  "kernelspec": {
   "display_name": "Python 3",
   "language": "python",
   "name": "python3"
  },
  "language_info": {
   "codemirror_mode": {
    "name": "ipython",
    "version": 3
   },
   "file_extension": ".py",
   "mimetype": "text/x-python",
   "name": "python",
   "nbconvert_exporter": "python",
   "pygments_lexer": "ipython3",
   "version": "3.7.3"
  }
 },
 "nbformat": 4,
 "nbformat_minor": 2
}
