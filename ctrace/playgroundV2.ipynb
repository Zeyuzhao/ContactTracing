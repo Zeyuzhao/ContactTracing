{
 "cells": [
  {
   "cell_type": "code",
   "execution_count": 1,
   "metadata": {},
   "outputs": [],
   "source": [
    "import networkx as nx\n",
    "import matplotlib.pyplot as plt\n",
    "import pandas as pd\n",
    "import numpy as np\n",
    "import random\n",
    "import math\n",
    "import EoN\n",
    "\n",
    "from contact_tracing import *\n",
    "from constraint import *\n",
    "from solve import *"
   ]
  },
  {
   "cell_type": "code",
   "execution_count": 2,
   "metadata": {},
   "outputs": [],
   "source": [
    "G = load_graph('montgomery') #fetching the montgamery graph\n",
    "n = len(G.nodes)\n",
    "I0 = [i for i in range(n) if random.random() > 0.999]"
   ]
  },
  {
   "cell_type": "code",
   "execution_count": 3,
   "metadata": {},
   "outputs": [],
   "source": [
    "COSTS = np.ones(n)"
   ]
  },
  {
   "cell_type": "code",
   "execution_count": 4,
   "metadata": {},
   "outputs": [],
   "source": [
    "(V_1,V_2) = find_contours(G,I0)"
   ]
  },
  {
   "cell_type": "code",
   "execution_count": 5,
   "metadata": {},
   "outputs": [],
   "source": [
    "P,Q = PQ(G,I0,runs = 100)"
   ]
  },
  {
   "cell_type": "code",
   "execution_count": 18,
   "metadata": {},
   "outputs": [
    {
     "name": "stdout",
     "output_type": "stream",
     "text": [
      "0\n",
      "Average: 635.0027000000017 633.8738000000016 634.6591000000021\n",
      "Best: 635.0027000000017 633.8738000000016 634.6591000000021\n"
     ]
    }
   ],
   "source": [
    "a1=0\n",
    "a2=0\n",
    "a3=0\n",
    "m1=10000000000\n",
    "m2=10000000000\n",
    "m3=10000000000\n",
    "\n",
    "k=1\n",
    "\n",
    "for i in range(k):\n",
    "    prob = ProbMinExposed.from_dataframe(G,I0,V_1,V_2,P,Q,800,COSTS)\n",
    "    optimized_iterated_round(prob, 50)\n",
    "    prob.solve_lp()\n",
    "    a1 += prob.objectiveVal\n",
    "    \n",
    "    if prob.objectiveVal < m1:\n",
    "        m1 = prob.objectiveVal\n",
    "    \n",
    "    prob = ProbMinExposed.from_dataframe(G,I0,V_1,V_2,P,Q,800,COSTS)\n",
    "    iterated_round(prob, 50)\n",
    "    prob.solve_lp()\n",
    "    a2 += prob.objectiveVal\n",
    "    \n",
    "    if prob.objectiveVal < m2:\n",
    "        m2 = prob.objectiveVal\n",
    "\n",
    "    prob = ProbMinExposed.from_dataframe(G,I0,V_1,V_2,P,Q,800,COSTS)\n",
    "    basic_non_integer_round(prob)\n",
    "    prob.solve_lp()\n",
    "    a3 += prob.objectiveVal\n",
    "        \n",
    "    if prob.objectiveVal < m3:\n",
    "        m3 = prob.objectiveVal\n",
    "    \n",
    "    print(i)\n",
    "    \n",
    "a1 /= k\n",
    "a2 /= k\n",
    "a3 /= k\n",
    "\n",
    "print(\"Average: \" + str(a1) + \" \" + str(a2) + \" \" + str(a3))\n",
    "print(\"Best: \" + str(m1) + \" \" + str(m2) + \" \" + str(m3))"
   ]
  },
  {
   "cell_type": "code",
   "execution_count": 19,
   "metadata": {},
   "outputs": [],
   "source": [
    "prob = ProbMinExposed.from_dataframe(G,I0,V_1,V_2,P,Q,800,COSTS)"
   ]
  },
  {
   "cell_type": "code",
   "execution_count": 20,
   "metadata": {},
   "outputs": [
    {
     "data": {
      "text/plain": [
       "631.680682637126"
      ]
     },
     "execution_count": 20,
     "metadata": {},
     "output_type": "execute_result"
    }
   ],
   "source": [
    "prob.solve_lp()\n",
    "prob.objectiveVal"
   ]
  },
  {
   "cell_type": "code",
   "execution_count": 21,
   "metadata": {},
   "outputs": [
    {
     "name": "stdout",
     "output_type": "stream",
     "text": [
      "800.0000000000048\n",
      "800.0\n",
      "634.2314000000018\n",
      "0.12362637362636986 0.0\n",
      "0.4282001299545162 0.0\n",
      "0.7546296296296289 1.0\n",
      "0.02083333333333448 0.0\n",
      "0.9999999999999987 1.0\n",
      "0.9999999999999996 1.0\n",
      "0.4868154158214991 1.0\n",
      "0.9999999999999998 1.0\n",
      "0.9999999999999993 1.0\n",
      "0.4049999999999998 0.0\n",
      "0.21568627450980382 0.0\n",
      "0.9999999999999999 1.0\n",
      "0.9999999999999996 1.0\n",
      "0.9999999999999989 1.0\n",
      "0.9999999999999982 1.0\n",
      "0.9999999999999998 1.0\n",
      "0.9999999999999996 1.0\n",
      "0.9999999999999996 1.0\n",
      "0.9999999999999989 1.0\n",
      "0.9999999999999997 1.0\n",
      "0.9999999999999998 1.0\n",
      "0.17033492822966623 0.0\n",
      "0.21052631578947056 1.0\n",
      "0.06104328523862379 0.0\n",
      "0.06818181818181879 0.0\n",
      "0.32795698924731087 0.0\n",
      "0.9999999999999991 1.0\n",
      "0.9999999999999994 1.0\n",
      "0.9999999999999996 1.0\n",
      "0.9999999999999994 1.0\n",
      "0.9999999999999996 1.0\n",
      "0.9999999999999994 1.0\n",
      "0.37749287749287774 0.0\n",
      "0.9999999999999998 1.0\n",
      "0.5844155844155849 1.0\n",
      "0.033333333333331217 0.0\n",
      "0.9999999999999991 1.0\n",
      "0.01886792452830177 0.0\n",
      "0.029411764705877586 0.0\n",
      "0.9999999999999996 1.0\n",
      "0.9999999999999993 1.0\n",
      "0.999999999999999 1.0\n",
      "0.03427719821162534 0.0\n",
      "0.9999999999999984 1.0\n",
      "0.9999999999999998 1.0\n",
      "0.9999999999999989 1.0\n",
      "0.46826265389876853 1.0\n",
      "0.9999999999999992 1.0\n",
      "0.9999999999999992 1.0\n",
      "0.9999999999999991 1.0\n",
      "0.9999999999999993 1.0\n",
      "0.9999999999999987 1.0\n",
      "0.9999999999999996 1.0\n",
      "0.3333333333333325 0.0\n",
      "0.37923875432525833 0.0\n",
      "0.9999999999999998 1.0\n",
      "0.2038461538461519 0.0\n",
      "0.21945701357466174 1.0\n",
      "0.9999999999999991 1.0\n",
      "0.9999999999999996 1.0\n",
      "0.9999999999999989 1.0\n",
      "0.5177304964539018 1.0\n",
      "0.9999999999999993 1.0\n",
      "0.9999999999999994 1.0\n",
      "0.9999999999999993 1.0\n",
      "0.11320754716980796 0.0\n",
      "0.9999999999999998 1.0\n",
      "0.9999999999999989 1.0\n",
      "0.11222222222222256 0.0\n",
      "0.9999999999999991 1.0\n",
      "0.9999999999999987 1.0\n",
      "0.9999999999999991 1.0\n",
      "0.07004470938897356 0.0\n",
      "0.9999999999999996 1.0\n",
      "0.9999999999999986 1.0\n",
      "0.9999999999999991 1.0\n",
      "0.9999999999999998 1.0\n",
      "0.9999999999999999 1.0\n",
      "0.2105263157894729 0.0\n",
      "0.9999999999999993 1.0\n",
      "0.9999999999999991 1.0\n",
      "0.6515854341736715 0.0\n",
      "0.41666666666666985 0.0\n",
      "0.5305977802295683 1.0\n",
      "0.9999999999999993 1.0\n",
      "0.9999999999999998 1.0\n",
      "0.9999999999999998 1.0\n",
      "0.23529411764705788 0.0\n",
      "0.9999999999999993 1.0\n",
      "0.9999999999999998 1.0\n",
      "0.9999999999999993 1.0\n",
      "0.9999999999999996 1.0\n",
      "0.9999999999999993 1.0\n",
      "0.9999999999999987 1.0\n",
      "0.7831818181818188 1.0\n",
      "0.9999999999999989 1.0\n",
      "0.9999999999999998 1.0\n",
      "0.5701754385964914 1.0\n",
      "0.9999999999999978 1.0\n",
      "0.2441520467836218 0.0\n",
      "0.04166666666666796 0.0\n",
      "0.012403100775194686 0.0\n",
      "0.999999999999999 1.0\n",
      "0.9999999999999993 1.0\n",
      "0.9999999999999993 1.0\n",
      "0.042553191489360875 0.0\n",
      "0.5265926358854474 0.0\n",
      "0.9999999999999998 1.0\n",
      "0.9999999999999993 1.0\n",
      "0.37272727272727013 1.0\n",
      "0.9999999999999987 1.0\n",
      "0.9999999999999996 1.0\n",
      "0.6226415094339628 1.0\n",
      "0.17199999999999904 0.0\n",
      "0.9999999999999996 1.0\n",
      "0.9999999999999984 1.0\n",
      "0.9999999999999999 1.0\n",
      "0.9999999999999998 1.0\n",
      "0.23404255319149114 0.0\n",
      "0.9999999999999993 1.0\n",
      "0.9999999999999993 1.0\n",
      "0.9999999999999994 1.0\n",
      "0.9999999999999994 1.0\n",
      "0.9999999999999987 1.0\n",
      "0.5652173913043483 1.0\n"
     ]
    }
   ],
   "source": [
    "a = prob.getVariables()\n",
    "print(a.sum())\n",
    "c = basic_non_integer_round(prob)\n",
    "prob.solve_lp()\n",
    "b = prob.getVariables()\n",
    "print(b.sum())\n",
    "print(prob.objectiveVal)\n",
    "for i in range(len(a)):\n",
    "    if (a[i] != 0) & (a[i] != 1):\n",
    "        print(str(a[i]) + \" \" + str(b[i]))\n",
    "    \n",
    "#print(len(a))\n",
    "#a.sum()"
   ]
  },
  {
   "cell_type": "code",
   "execution_count": null,
   "metadata": {},
   "outputs": [],
   "source": [
    "\"\"\"STOP HERE\"\"\""
   ]
  },
  {
   "cell_type": "code",
   "execution_count": 8,
   "metadata": {},
   "outputs": [],
   "source": [
    "#p1 = defaultdict(lambda: .7)\n",
    "#q = defaultdict(lambda: defaultdict(lambda : .7))\n",
    "#prob = ProbMinExposed(G,I0,V_1,V_2,p1,q,10,COSTS)"
   ]
  },
  {
   "cell_type": "code",
   "execution_count": null,
   "metadata": {},
   "outputs": [],
   "source": [
    "#test simplify\n",
    "\n",
    "a = 1\n",
    "b = 0\n",
    "\n",
    "total_a = 0\n",
    "total_b = 0\n",
    "\n",
    "n=1000000\n",
    "\n",
    "for i in range(n):\n",
    "    (x,y,new_a,new_b) = simplify(a,b)\n",
    "    \n",
    "    if x==-1:\n",
    "        total_a += new_a\n",
    "        total_b += y\n",
    "    elif y==-1:\n",
    "        total_a += x\n",
    "        total_b += new_b\n",
    "    else:\n",
    "        total_a += x\n",
    "        total_b += y\n",
    "\n",
    "print(str(total_a/n) + \" \" + str(a))\n",
    "print(str(total_b/n) + \" \" + str(b))"
   ]
  },
  {
   "cell_type": "code",
   "execution_count": null,
   "metadata": {},
   "outputs": [],
   "source": [
    "#test D\n",
    "p = [.5,.5,.25,.6,.15]\n",
    "\n",
    "n=10000\n",
    "total = np.zeros(5)\n",
    "\n",
    "for i in range(n):\n",
    "    a = D(p)\n",
    "    if np.sum(a) != np.sum(p):\n",
    "        print(\"oof\")\n",
    "    #print(p)\n",
    "    total += a\n",
    "    \n",
    "total/=n\n",
    "print(total)"
   ]
  },
  {
   "cell_type": "code",
   "execution_count": null,
   "metadata": {},
   "outputs": [],
   "source": [
    "#test D_prime\n",
    "p = [.5,.4,.25,.75,.7]\n",
    "\n",
    "n=5000\n",
    "total = np.zeros(5)\n",
    "\n",
    "for i in range(n):\n",
    "    a = D(p)\n",
    "    if (np.sum(a) != math.floor(np.sum(p))) & (np.sum(a) != math.ceil(np.sum(p))):\n",
    "        print(\"oof\")\n",
    "    #print(p)\n",
    "    total += a\n",
    "    \n",
    "total/=n\n",
    "print(total)"
   ]
  }
 ],
 "metadata": {
  "kernelspec": {
   "display_name": "Python 3",
   "language": "python",
   "name": "python3"
  },
  "language_info": {
   "codemirror_mode": {
    "name": "ipython",
    "version": 3
   },
   "file_extension": ".py",
   "mimetype": "text/x-python",
   "name": "python",
   "nbconvert_exporter": "python",
   "pygments_lexer": "ipython3",
   "version": "3.7.3"
  }
 },
 "nbformat": 4,
 "nbformat_minor": 2
}
