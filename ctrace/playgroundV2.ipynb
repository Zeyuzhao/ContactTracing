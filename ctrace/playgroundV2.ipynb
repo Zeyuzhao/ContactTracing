{
 "cells": [
  {
   "cell_type": "code",
   "execution_count": 1,
   "metadata": {},
   "outputs": [],
   "source": [
    "import networkx as nx\n",
    "import matplotlib.pyplot as plt\n",
    "import pandas as pd\n",
    "import numpy as np\n",
    "import random\n",
    "import math\n",
    "import EoN\n",
    "\n",
    "from contact_tracing import *\n",
    "from constraint import *\n",
    "from solve import *"
   ]
  },
  {
   "cell_type": "code",
   "execution_count": 2,
   "metadata": {},
   "outputs": [],
   "source": [
    "G = load_graph('montgomery') #fetching the montgamery graph\n",
    "n = len(G.nodes)\n",
    "I0 = [i for i in range(n) if random.random() > 0.999]"
   ]
  },
  {
   "cell_type": "code",
   "execution_count": 3,
   "metadata": {},
   "outputs": [],
   "source": [
    "COSTS = np.ones(n)"
   ]
  },
  {
   "cell_type": "code",
   "execution_count": 4,
   "metadata": {},
   "outputs": [],
   "source": [
    "(V_1,V_2) = find_contours(G,I0)"
   ]
  },
  {
   "cell_type": "code",
   "execution_count": 5,
   "metadata": {},
   "outputs": [],
   "source": [
    "P,Q = PQ(G,I0,runs = 200)"
   ]
  },
  {
   "cell_type": "code",
   "execution_count": null,
   "metadata": {},
   "outputs": [],
   "source": [
    "print(len(Q['u'].unique()))\n",
    "print(len(Q['v'].unique()))\n",
    "\n",
    "print(len(V_1))\n",
    "print(len(V_2))"
   ]
  },
  {
   "cell_type": "code",
   "execution_count": 16,
   "metadata": {
    "collapsed": true
   },
   "outputs": [
    {
     "name": "stdout",
     "output_type": "stream",
     "text": [
      "0\n",
      "1\n",
      "2\n",
      "3\n",
      "4\n",
      "5\n",
      "6\n",
      "7\n",
      "8\n",
      "9\n",
      "10\n",
      "11\n",
      "12\n",
      "13\n",
      "14\n",
      "15\n",
      "16\n",
      "17\n",
      "18\n",
      "19\n",
      "20\n",
      "21\n",
      "22\n",
      "23\n",
      "24\n",
      "25\n",
      "26\n",
      "27\n",
      "28\n",
      "29\n",
      "Average: 10210.812137500045 10210.939154166712 10217.725505212065\n",
      "Best: 10207.271850000046 10205.48482500006 10217.725505212064\n"
     ]
    }
   ],
   "source": [
    "a1=0\n",
    "a2=0\n",
    "a3=0\n",
    "m1=10000000000\n",
    "m2=10000000000\n",
    "m3=10000000000\n",
    "\n",
    "k=30\n",
    "\n",
    "for i in range(k):\n",
    "    prob = ProbMinExposed.from_dataframe(G,I0,V_1,V_2,P,Q,100,COSTS)\n",
    "    optimized_iterated_round(prob, 50)\n",
    "    prob.solve_lp()\n",
    "    a1 += prob.objectiveVal\n",
    "    \n",
    "    if prob.objectiveVal < m1:\n",
    "        m1 = prob.objectiveVal\n",
    "    \n",
    "    prob = ProbMinExposed.from_dataframe(G,I0,V_1,V_2,P,Q,100,COSTS)\n",
    "    iterated_round(prob, 50)\n",
    "    prob.solve_lp()\n",
    "    a2 += prob.objectiveVal\n",
    "    \n",
    "    if prob.objectiveVal < m2:\n",
    "        m2 = prob.objectiveVal\n",
    "\n",
    "    prob = ProbMinExposed.from_dataframe(G,I0,V_1,V_2,P,Q,100,COSTS)\n",
    "    basic_non_integer_round(prob)\n",
    "    prob.solve_lp()\n",
    "    a3 += prob.objectiveVal\n",
    "        \n",
    "    if prob.objectiveVal < m3:\n",
    "        m3 = prob.objectiveVal\n",
    "    \n",
    "    print(i)\n",
    "    \n",
    "a1 /= k\n",
    "a2 /= k\n",
    "a3 /= k\n",
    "\n",
    "print(\"Average: \" + str(a1) + \" \" + str(a2) + \" \" + str(a3))\n",
    "print(\"Best: \" + str(m1) + \" \" + str(m2) + \" \" + str(m3))"
   ]
  },
  {
   "cell_type": "code",
   "execution_count": 6,
   "metadata": {},
   "outputs": [],
   "source": [
    "prob = ProbMinExposed.from_dataframe(G,I0,V_1,V_2,P,Q,100,COSTS)"
   ]
  },
  {
   "cell_type": "code",
   "execution_count": 9,
   "metadata": {},
   "outputs": [
    {
     "data": {
      "text/plain": [
       "9121.49010000002"
      ]
     },
     "execution_count": 9,
     "metadata": {},
     "output_type": "execute_result"
    }
   ],
   "source": [
    "prob.solve_lp()\n",
    "prob.objectiveVal"
   ]
  },
  {
   "cell_type": "code",
   "execution_count": 8,
   "metadata": {},
   "outputs": [
    {
     "name": "stdout",
     "output_type": "stream",
     "text": [
      "0.013157894736841702 0.0\n",
      "0.14634146341463317 0.0\n",
      "0.10654717450833917 0.0\n",
      "0.3661600810536989 0.0\n",
      "0.06206896551724106 0.0\n",
      "0.37371134020618746 1.0\n",
      "0.05377181493150218 0.0\n",
      "0.13431419079259677 0.0\n",
      "0.32960393824121703 1.0\n",
      "0.14361702127659592 0.0\n",
      "0.17778743751358483 0.0\n",
      "0.10494652406417104 1.0\n",
      "0.18587746625129808 0.0\n",
      "0.34666149068323016 0.0\n",
      "0.027678571428572774 0.0\n",
      "0.38916105327617845 0.0\n",
      "0.06862745098039014 0.0\n",
      "0.17246898759503704 1.0\n",
      "0.025083612040133763 0.0\n",
      "0.17360114777618474 0.0\n",
      "0.1889335960624533 0.0\n",
      "0.24528301886792414 1.0\n",
      "0.22222222222222143 0.0\n",
      "0.24466403162055383 0.0\n",
      "0.9999999999999998 1.0\n",
      "0.0024740227610071663 0.0\n",
      "0.28024926432404396 0.0\n",
      "0.2862375719518587 0.0\n",
      "0.9999999999999998 1.0\n",
      "0.0129124820659976 0.0\n",
      "0.020979020979019936 0.0\n",
      "0.9999999999999994 1.0\n",
      "0.09485714285714475 0.0\n"
     ]
    }
   ],
   "source": [
    "a = prob.getVariables()\n",
    "\n",
    "optimized_iterated_round(prob,50)\n",
    "prob.solve_lp()\n",
    "b = prob.getVariables()\n",
    "\n",
    "for i in range(len(a)):\n",
    "    if (a[i] != 0) & (a[i] != 1):\n",
    "        print(str(a[i]) + \" \" + str(b[i]))\n",
    "    \n",
    "#print(len(a))\n",
    "#a.sum()"
   ]
  },
  {
   "cell_type": "code",
   "execution_count": null,
   "metadata": {},
   "outputs": [],
   "source": [
    "#p1 = defaultdict(lambda: 1)\n",
    "#q = defaultdict(lambda: defaultdict(lambda : 1))\n",
    "#prob = ProbMinExposed(G,I0,V_1,V_2,p1,q,10,COSTS)"
   ]
  },
  {
   "cell_type": "code",
   "execution_count": null,
   "metadata": {},
   "outputs": [],
   "source": [
    "prob.solve_lp()\n",
    "probabilities = np.array(prob.getVariables())"
   ]
  },
  {
   "cell_type": "code",
   "execution_count": null,
   "metadata": {},
   "outputs": [],
   "source": [
    "len(probabilities)"
   ]
  },
  {
   "cell_type": "code",
   "execution_count": null,
   "metadata": {},
   "outputs": [],
   "source": [
    "a = optimized_iterated_round(prob, 200)"
   ]
  },
  {
   "cell_type": "code",
   "execution_count": null,
   "metadata": {},
   "outputs": [],
   "source": [
    "for i in range(len(a)):\n",
    "    print(a[i])"
   ]
  },
  {
   "cell_type": "code",
   "execution_count": null,
   "metadata": {},
   "outputs": [],
   "source": [
    "\"\"\"STOP HERE\"\"\""
   ]
  },
  {
   "cell_type": "code",
   "execution_count": null,
   "metadata": {},
   "outputs": [],
   "source": [
    "#test simplify\n",
    "\n",
    "a = 1\n",
    "b = 0\n",
    "\n",
    "total_a = 0\n",
    "total_b = 0\n",
    "\n",
    "n=1000000\n",
    "\n",
    "for i in range(n):\n",
    "    (x,y,new_a,new_b) = simplify(a,b)\n",
    "    \n",
    "    if x==-1:\n",
    "        total_a += new_a\n",
    "        total_b += y\n",
    "    elif y==-1:\n",
    "        total_a += x\n",
    "        total_b += new_b\n",
    "    else:\n",
    "        total_a += x\n",
    "        total_b += y\n",
    "\n",
    "print(str(total_a/n) + \" \" + str(a))\n",
    "print(str(total_b/n) + \" \" + str(b))"
   ]
  },
  {
   "cell_type": "code",
   "execution_count": null,
   "metadata": {},
   "outputs": [],
   "source": [
    "#test D\n",
    "p = [.5,.5,.25,.6,.15]\n",
    "\n",
    "n=10000\n",
    "total = np.zeros(5)\n",
    "\n",
    "for i in range(n):\n",
    "    a = D(p)\n",
    "    if np.sum(a) != np.sum(p):\n",
    "        print(\"oof\")\n",
    "    #print(p)\n",
    "    total += a\n",
    "    \n",
    "total/=n\n",
    "print(total)"
   ]
  },
  {
   "cell_type": "code",
   "execution_count": null,
   "metadata": {},
   "outputs": [],
   "source": [
    "#test D_prime\n",
    "p = [.5,.4,.25,.75,.7]\n",
    "\n",
    "n=5000\n",
    "total = np.zeros(5)\n",
    "\n",
    "for i in range(n):\n",
    "    a = D(p)\n",
    "    if (np.sum(a) != math.floor(np.sum(p))) & (np.sum(a) != math.ceil(np.sum(p))):\n",
    "        print(\"oof\")\n",
    "    #print(p)\n",
    "    total += a\n",
    "    \n",
    "total/=n\n",
    "print(total)"
   ]
  }
 ],
 "metadata": {
  "kernelspec": {
   "display_name": "Python 3",
   "language": "python",
   "name": "python3"
  },
  "language_info": {
   "codemirror_mode": {
    "name": "ipython",
    "version": 3
   },
   "file_extension": ".py",
   "mimetype": "text/x-python",
   "name": "python",
   "nbconvert_exporter": "python",
   "pygments_lexer": "ipython3",
   "version": "3.7.3"
  }
 },
 "nbformat": 4,
 "nbformat_minor": 2
}
