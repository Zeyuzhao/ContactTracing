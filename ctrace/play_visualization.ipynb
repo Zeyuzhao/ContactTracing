{
 "cells": [
  {
   "cell_type": "code",
   "execution_count": 1,
   "metadata": {
    "collapsed": true
   },
   "outputs": [
    {
     "data": {
      "text/plain": "'/home/zach/Documents/prog/research/ContactTracing/ctrace'"
     },
     "execution_count": 1,
     "metadata": {},
     "output_type": "execute_result"
    }
   ],
   "source": [
    "import os\n",
    "from ctrace.constraint import load_graph, find_contours\n",
    "from contact_tracing import PQ\n",
    "from contact_tracing import *\n",
    "from ctrace.constraint import ProbMinExposed, ProbMinExposedMIP\n",
    "os.getcwd()"
   ]
  },
  {
   "cell_type": "code",
   "execution_count": 2,
   "outputs": [],
   "source": [
    "LOADING = False\n",
    "np.random.seed(42)"
   ],
   "metadata": {
    "collapsed": false,
    "pycharm": {
     "name": "#%%\n"
    }
   }
  },
  {
   "cell_type": "code",
   "execution_count": 4,
   "outputs": [],
   "source": [
    "# Setup graph and infected sets\n",
    "if LOADING:\n",
    "    G = load_graph(\"mont100\")\n",
    "else:\n",
    "    G = nx.balanced_tree(4, 3)\n",
    "\n",
    "# Randomly sample 5% of infected\n",
    "N = G.number_of_nodes()\n",
    "num_infected = int(N * 0.05)\n",
    "I = np.random.choice(N, num_infected, replace=False)\n",
    "\n",
    "# Find contours\n",
    "contour1, contour2 = find_contours(G, I)\n",
    "\n",
    "# Set K value\n",
    "K = int(0.8 * len(I))\n",
    "\n",
    "# Find the infected probabilities\n",
    "p1, q = PQ(G, I)"
   ],
   "metadata": {
    "collapsed": false,
    "pycharm": {
     "name": "#%%\n"
    }
   }
  },
  {
   "cell_type": "code",
   "execution_count": 5,
   "outputs": [
    {
     "name": "stdout",
     "output_type": "stream",
     "text": [
      "K: 3\n",
      "I: [19 45 72 30]\n"
     ]
    }
   ],
   "source": [
    "print(f\"K: {K}\")\n",
    "print(f\"I: {I}\")"
   ],
   "metadata": {
    "collapsed": false,
    "pycharm": {
     "name": "#%%\n"
    }
   }
  },
  {
   "cell_type": "code",
   "execution_count": 6,
   "outputs": [
    {
     "name": "stdout",
     "output_type": "stream",
     "text": [
      "p1: 0.5499999999999999\n",
      "p1: 0.5499999999999999\n",
      "p1: 0.49999999999999994\n",
      "p1: 0.65\n",
      "p1: 0.3\n",
      "p1: 0.6\n",
      "p1: 0.35\n",
      "p1: 0.49999999999999994\n"
     ]
    }
   ],
   "source": [
    "constraintMIP = ProbMinExposedMIP.from_dataframe(G, I, contour1, contour2, p1, q, K)"
   ],
   "metadata": {
    "collapsed": false,
    "pycharm": {
     "name": "#%%\n"
    }
   }
  },
  {
   "cell_type": "code",
   "execution_count": 7,
   "outputs": [],
   "source": [
    "constraintMIP.solve_lp()\n"
   ],
   "metadata": {
    "collapsed": false,
    "pycharm": {
     "name": "#%%\n"
    }
   }
  },
  {
   "cell_type": "code",
   "execution_count": 8,
   "outputs": [
    {
     "data": {
      "text/plain": "array([1., 1., 1., 0., 0., 0., 0., 0.])"
     },
     "execution_count": 8,
     "metadata": {},
     "output_type": "execute_result"
    }
   ],
   "source": [
    "constraintMIP.getVariables()\n"
   ],
   "metadata": {
    "collapsed": false,
    "pycharm": {
     "name": "#%%\n"
    }
   }
  },
  {
   "cell_type": "code",
   "execution_count": 22,
   "outputs": [],
   "source": [],
   "metadata": {
    "collapsed": false,
    "pycharm": {
     "name": "#%%\n"
    }
   }
  }
 ],
 "metadata": {
  "kernelspec": {
   "display_name": "Python 3",
   "language": "python",
   "name": "python3"
  },
  "language_info": {
   "codemirror_mode": {
    "name": "ipython",
    "version": 2
   },
   "file_extension": ".py",
   "mimetype": "text/x-python",
   "name": "python",
   "nbconvert_exporter": "python",
   "pygments_lexer": "ipython2",
   "version": "2.7.6"
  }
 },
 "nbformat": 4,
 "nbformat_minor": 0
}