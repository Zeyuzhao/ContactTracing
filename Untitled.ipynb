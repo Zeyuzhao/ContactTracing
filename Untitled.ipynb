{
 "cells": [
  {
   "cell_type": "markdown",
   "metadata": {},
   "source": [
    "\n",
    "\n",
    "-1 represents value not set\n",
    "\n",
    "(value of X, value of Y, new probability of X, new probability of Y)\n",
    "\n",
    "Note, there will only be a new probability if the value was not set.\n",
    "\n",
    "(p1, p2) "
   ]
  },
  {
   "cell_type": "code",
   "execution_count": 121,
   "metadata": {},
   "outputs": [],
   "source": [
    "import random\n",
    "import numpy as np\n",
    "import math"
   ]
  },
  {
   "cell_type": "code",
   "execution_count": 7,
   "metadata": {},
   "outputs": [],
   "source": [
    "def simplify(alpha:float, beta:float):\n",
    "    if (alpha<0) | (alpha>1) | (beta<0) | (beta>1):\n",
    "        raise ValueError('Invalid alpha or beta')\n",
    "    \n",
    "    p = random.uniform(0,1)\n",
    "    \n",
    "    if alpha+beta==0:\n",
    "        \n",
    "        return (0,0,-1,-1)\n",
    "    \n",
    "    elif alpha+beta<1:\n",
    "        \n",
    "        if p<alpha/(alpha+beta):\n",
    "            return (-1,0,alpha+beta,-1)\n",
    "        else:\n",
    "            return (0,-1,-1,alpha+beta)\n",
    "        \n",
    "    elif alpha+beta==1:\n",
    "        \n",
    "        if p<alpha:\n",
    "            return (1,0,-1,-1)\n",
    "        else:\n",
    "            return (0,1,-1,-1)\n",
    "        \n",
    "    elif alpha+beta < 2:\n",
    "        \n",
    "        if p<(1-beta)/(2-alpha-beta):\n",
    "            return (1,-1,-1,alpha+beta-1)\n",
    "        else:\n",
    "            return (-1,1,alpha+beta-1,-1)\n",
    "        \n",
    "    else:\n",
    "        \n",
    "        return (1,1,-1,-1)"
   ]
  },
  {
   "cell_type": "code",
   "execution_count": 107,
   "metadata": {},
   "outputs": [
    {
     "name": "stdout",
     "output_type": "stream",
     "text": [
      "1.0 1\n",
      "0.0 0\n"
     ]
    }
   ],
   "source": [
    "#test simplify\n",
    "\n",
    "a = 1\n",
    "b = 0\n",
    "\n",
    "total_a = 0\n",
    "total_b = 0\n",
    "\n",
    "n=1000000\n",
    "\n",
    "for i in range(n):\n",
    "    (x,y,new_a,new_b) = simplify(a,b)\n",
    "    \n",
    "    if x==-1:\n",
    "        total_a += new_a\n",
    "        total_b += y\n",
    "    elif y==-1:\n",
    "        total_a += x\n",
    "        total_b += new_b\n",
    "    else:\n",
    "        total_a += x\n",
    "        total_b += y\n",
    "\n",
    "print(str(total_a/n) + \" \" + str(a))\n",
    "print(str(total_b/n) + \" \" + str(b))"
   ]
  },
  {
   "cell_type": "code",
   "execution_count": 117,
   "metadata": {},
   "outputs": [],
   "source": [
    "def D(p):\n",
    "    t = len(p)\n",
    "    sample = np.full(t,-1)\n",
    "    prob = np.array(p,copy=True)\n",
    "    \n",
    "    leaves = np.arange(t)\n",
    "    np.random.shuffle(leaves)\n",
    "    \n",
    "    #each iteration represents a level in the tree\n",
    "    while t > 1:\n",
    "        \n",
    "        new_leaves = []\n",
    "        \n",
    "        for i in range(0,t,2):            \n",
    "            \n",
    "            a = prob[leaves[i]]\n",
    "            b = prob[leaves[i+1]]\n",
    "            \n",
    "            (x,y,new_a,new_b) = simplify(a,b)\n",
    "            \n",
    "            if x==-1:\n",
    "                \n",
    "                new_leaves.append(leaves[i])\n",
    "                prob[leaves[i]] = new_a\n",
    "                sample[leaves[i+1]] = y\n",
    "                \n",
    "            elif y==-1:\n",
    "                \n",
    "                new_leaves.append(leaves[i+1])\n",
    "                prob[leaves[i+1]] = new_b\n",
    "                sample[leaves[i]] = x\n",
    "\n",
    "            else:\n",
    "                \n",
    "                new_leaves.append(leaves[i])\n",
    "                prob[leaves[i]] = x\n",
    "                sample[leaves[i+1]] = y\n",
    "    \n",
    "        if t%2 == 1:\n",
    "\n",
    "            new_leaves.append(leaves[-1])\n",
    "            \n",
    "        t = len(new_leaves)\n",
    "        leaves = np.array(new_leaves)\n",
    "        np.random.shuffle(leaves)\n",
    "\n",
    "    if t==1:\n",
    "        \n",
    "        p = random.uniform(0,1)\n",
    "        \n",
    "        if p < prob[leaves[0]]:\n",
    "            sample[leaves[0]] = 1\n",
    "        else:\n",
    "            sample[leaves[0]] = 0\n",
    "       \n",
    "    return sample"
   ]
  },
  {
   "cell_type": "code",
   "execution_count": 120,
   "metadata": {},
   "outputs": [
    {
     "name": "stdout",
     "output_type": "stream",
     "text": [
      "[0.5    0.498  0.2529 0.7491]\n"
     ]
    }
   ],
   "source": [
    "p = [.5,.5,.25,.75]\n",
    "\n",
    "n=10000\n",
    "total = np.zeros(4)\n",
    "\n",
    "for i in range(n):\n",
    "    a = D(p)\n",
    "    if np.sum(a) != np.sum(p):\n",
    "        print(\"oof\")\n",
    "    #print(p)\n",
    "    total += a\n",
    "    \n",
    "total/=n\n",
    "print(total)"
   ]
  },
  {
   "cell_type": "code",
   "execution_count": 122,
   "metadata": {},
   "outputs": [
    {
     "data": {
      "text/plain": [
       "2.0"
      ]
     },
     "execution_count": 122,
     "metadata": {},
     "output_type": "execute_result"
    }
   ],
   "source": [
    "np.sum(p)"
   ]
  },
  {
   "cell_type": "code",
   "execution_count": 127,
   "metadata": {},
   "outputs": [],
   "source": [
    "def D_prime(p):\n",
    "    l = np.sum(p)\n",
    "    \n",
    "    p_prime = np.append(p,[math.ceil(l)-l])\n",
    "    \n",
    "    return D(p_prime)[:len(p)]"
   ]
  },
  {
   "cell_type": "code",
   "execution_count": 149,
   "metadata": {},
   "outputs": [
    {
     "name": "stdout",
     "output_type": "stream",
     "text": [
      "[0.49   0.4018 0.2632 0.7442]\n"
     ]
    }
   ],
   "source": [
    "\n",
    "p = [.5,.4,.25,.75]\n",
    "\n",
    "n=5000\n",
    "total = np.zeros(4)\n",
    "\n",
    "for i in range(n):\n",
    "    a = D(p)\n",
    "    if (np.sum(a) != math.floor(np.sum(p))) & (np.sum(a) != math.ceil(np.sum(p))):\n",
    "        print(\"oof\")\n",
    "    #print(p)\n",
    "    total += a\n",
    "    \n",
    "total/=n\n",
    "print(total)"
   ]
  },
  {
   "cell_type": "code",
   "execution_count": 25,
   "metadata": {},
   "outputs": [
    {
     "name": "stdout",
     "output_type": "stream",
     "text": [
      "0\n"
     ]
    }
   ],
   "source": [
    "for i in range(0,1,2):\n",
    "    print(i)"
   ]
  }
 ],
 "metadata": {
  "kernelspec": {
   "display_name": "Python 3",
   "language": "python",
   "name": "python3"
  },
  "language_info": {
   "codemirror_mode": {
    "name": "ipython",
    "version": 3
   },
   "file_extension": ".py",
   "mimetype": "text/x-python",
   "name": "python",
   "nbconvert_exporter": "python",
   "pygments_lexer": "ipython3",
   "version": "3.7.3"
  }
 },
 "nbformat": 4,
 "nbformat_minor": 2
}
