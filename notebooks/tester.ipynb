{
 "cells": [
  {
   "cell_type": "code",
   "execution_count": 1,
   "metadata": {
    "collapsed": true
   },
   "outputs": [],
   "source": [
    "import os\n",
    "import sys\n",
    "# Set path to ContactTracing/\n",
    "os.chdir('..')\n",
    "sys.path.insert(0, '.')"
   ]
  },
  {
   "cell_type": "code",
   "execution_count": 6,
   "outputs": [],
   "source": [
    "from ctrace.constraint import load_graph, find_contours\n",
    "from ctrace.contact_tracing import PQ\n",
    "from ctrace.contact_tracing import *\n",
    "from ctrace.constraint import ProbMinExposed, ProbMinExposedMIP\n",
    "from ctrace.draw import *\n",
    "\n",
    "LOADING = False\n",
    "\n",
    "if LOADING:\n",
    "    G = load_graph(\"montgomery\")\n",
    "    # Randomly sample 5% of infected\n",
    "    N = G.number_of_nodes()\n",
    "    num_infected = int(N * 0.05)\n",
    "    I = np.random.choice(N, num_infected, replace=False)\n",
    "\n",
    "    # Set K value\n",
    "    K = int(0.8 * len(I))\n",
    "else:\n",
    "    # G = nx.balanced_tree(3, 3)\n",
    "    G = nx.gnm_random_graph(200, 1000)\n",
    "    I = {0, 1, 2, 3, 4}\n",
    "\n",
    "    # Set K value\n",
    "    K = 3"
   ],
   "metadata": {
    "collapsed": false,
    "pycharm": {
     "name": "#%%\n"
    }
   }
  },
  {
   "cell_type": "code",
   "execution_count": 7,
   "outputs": [
    {
     "name": "stdout",
     "output_type": "stream",
     "text": [
      "{129: 0.9, 5: 0.81, 6: 0.9, 136: 0.9, 137: 0.9, 12: 0.9, 141: 0.9, 14: 0.9, 16: 0.81, 144: 0.9, 146: 0.9, 20: 0.9, 24: 0.9, 25: 0.9, 158: 0.9, 165: 0.9, 166: 0.9, 169: 0.9, 49: 0.9, 50: 0.9, 183: 0.81, 185: 0.9, 58: 0.9, 186: 0.9, 61: 0.9, 191: 0.9, 63: 0.9, 64: 0.9, 66: 0.9, 194: 0.9, 196: 0.81, 73: 0.9, 79: 0.9, 81: 0.9, 84: 0.9, 90: 0.9, 94: 0.9, 100: 0.9, 102: 0.9, 105: 0.81, 106: 0.9, 107: 0.9, 109: 0.9, 110: 0.9, 112: 0.9, 113: 0.9, 114: 0.9, 118: 0.9}\n",
      "defaultdict(<function PQ_deterministic.<locals>.<lambda> at 0x7fed336aff70>, {})\n"
     ]
    }
   ],
   "source": [
    "# Find contours\n",
    "contour1, contour2 = find_contours(G, I)\n",
    "\n",
    "# Find the infected probabilities\n",
    "p1, q = PQ_deterministic(G, I, contour1, 0.1)\n",
    "\n",
    "print(p1)\n",
    "print(q)"
   ],
   "metadata": {
    "collapsed": false,
    "pycharm": {
     "name": "#%%\n"
    }
   }
  },
  {
   "cell_type": "code",
   "execution_count": null,
   "outputs": [],
   "source": [
    "# find simulated probabilities\n",
    "p1_sim, q_sim = PQ(G, I, p=0.1, runs=100)"
   ],
   "metadata": {
    "collapsed": false,
    "pycharm": {
     "name": "#%%\n"
    }
   }
  }
 ],
 "metadata": {
  "kernelspec": {
   "display_name": "Python 3",
   "language": "python",
   "name": "python3"
  },
  "language_info": {
   "codemirror_mode": {
    "name": "ipython",
    "version": 2
   },
   "file_extension": ".py",
   "mimetype": "text/x-python",
   "name": "python",
   "nbconvert_exporter": "python",
   "pygments_lexer": "ipython2",
   "version": "2.7.6"
  }
 },
 "nbformat": 4,
 "nbformat_minor": 0
}