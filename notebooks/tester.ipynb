{
 "cells": [
  {
   "cell_type": "code",
   "execution_count": 5,
   "outputs": [],
   "source": [
    "# OPTIONAL: Load the \"autoreload\" extension so that code can change\n",
    "%load_ext autoreload\n",
    "\n",
    "# OPTIONAL: always reload modules so that as you change code in src, it gets loaded\n",
    "%autoreload 2"
   ],
   "metadata": {
    "collapsed": false,
    "pycharm": {
     "name": "#%%\n"
    }
   }
  },
  {
   "cell_type": "code",
   "execution_count": 1,
   "metadata": {
    "collapsed": true
   },
   "outputs": [],
   "source": [
    "import os\n",
    "import sys\n",
    "# Set path to ContactTracing/\n",
    "os.chdir('..')\n",
    "sys.path.insert(0, '.')"
   ]
  },
  {
   "cell_type": "code",
   "execution_count": 6,
   "outputs": [],
   "source": [
    "from ctrace.constraint import load_graph, find_contours\n",
    "from ctrace.contact_tracing import PQ\n",
    "from ctrace.contact_tracing import *\n",
    "from ctrace.constraint import ProbMinExposed, ProbMinExposedMIP\n",
    "from ctrace.draw import *\n",
    "from ctrace.simulation import *"
   ],
   "metadata": {
    "collapsed": false,
    "pycharm": {
     "name": "#%%\n"
    }
   }
  },
  {
   "cell_type": "code",
   "execution_count": 15,
   "outputs": [
    {
     "name": "stdout",
     "output_type": "stream",
     "text": [
      "\n",
      "71452 2151 1854\n",
      "67143 4309 4005\n",
      "59846 7297 8314\n",
      "50500 9346 15611\n",
      "42125 8375 24957\n",
      "36851 5274 33332\n",
      "34240 2611 38606\n",
      "33103 1137 41217\n",
      "32641 462 42354\n",
      "32485 156 42816\n"
     ]
    }
   ],
   "source": [
    "G = load_graph('montgomery') #fetching the montgamery graph\n",
    "n = len(G.nodes)\n",
    "I0 = [i for i in range(n) if random.random() > 0.99]\n",
    "\n",
    "\n",
    "Generalized_MDP(G=G,\n",
    "                p=0.1,\n",
    "                budget=100,\n",
    "                method=\"none\",\n",
    "                num_initial_infections=10,\n",
    "                num_shocks=5,\n",
    "                initial_iterations=5,\n",
    "                MDP_iterations=10,\n",
    "                iterations_to_recover=1,\n",
    "                from_cache=\"generalized.json\",\n",
    "                verbose=True)"
   ],
   "metadata": {
    "collapsed": false,
    "pycharm": {
     "name": "#%%\n"
    }
   }
  },
  {
   "cell_type": "code",
   "execution_count": null,
   "outputs": [],
   "source": [],
   "metadata": {
    "collapsed": false,
    "pycharm": {
     "name": "#%%\n"
    }
   }
  }
 ],
 "metadata": {
  "kernelspec": {
   "display_name": "Python 3",
   "language": "python",
   "name": "python3"
  },
  "language_info": {
   "codemirror_mode": {
    "name": "ipython",
    "version": 2
   },
   "file_extension": ".py",
   "mimetype": "text/x-python",
   "name": "python",
   "nbconvert_exporter": "python",
   "pygments_lexer": "ipython2",
   "version": "2.7.6"
  }
 },
 "nbformat": 4,
 "nbformat_minor": 0
}