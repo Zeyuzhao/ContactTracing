{
 "cells": [
  {
   "cell_type": "code",
   "execution_count": 1,
   "metadata": {},
   "outputs": [],
   "source": [
    "import pandas as pd\n",
    "\n",
    "\n"
   ]
  },
  {
   "cell_type": "code",
   "execution_count": 2,
   "metadata": {},
   "outputs": [
    {
     "name": "stdout",
     "output_type": "stream",
     "text": [
      "              G     SIR_file  budget  iterations     method     p  trial_id  \\\n",
      "0    montgomery  Q4data.json    1300           2     degree  0.01         0   \n",
      "1    montgomery  Q4data.json    1300           3     random  0.01         0   \n",
      "2    montgomery  Q4data.json    1300           3     degree  0.02         0   \n",
      "3    montgomery  Q4data.json    1300           4     random  0.02         0   \n",
      "4    montgomery  Q4data.json    1300           4     degree  0.03         0   \n",
      "..          ...          ...     ...         ...        ...   ...       ...   \n",
      "415  montgomery  Q4data.json    1300          13  dependent  0.11         9   \n",
      "416  montgomery  Q4data.json    1300          12  dependent  0.12         9   \n",
      "417  montgomery  Q4data.json    1300          15  dependent  0.09         9   \n",
      "418  montgomery  Q4data.json    1300          14  dependent  0.10         9   \n",
      "419  montgomery  Q4data.json    1300          17  dependent  0.08         9   \n",
      "\n",
      "     num_infected  peak  iterations.1  \n",
      "0             877   106             2  \n",
      "1             884   103             3  \n",
      "2            1075   219             3  \n",
      "3            1125   226             4  \n",
      "4            1240   292             4  \n",
      "..            ...   ...           ...  \n",
      "415         39173  7029            13  \n",
      "416         42201  8045            12  \n",
      "417         31477  4246            15  \n",
      "418         35849  5575            14  \n",
      "419         24635  2607            17  \n",
      "\n",
      "[420 rows x 10 columns]\n"
     ]
    }
   ],
   "source": [
    "with open(\"../output/plots/results[15-07-31].csv\", \"r\") as csv:\n",
    "    df = pd.read_csv(csv)\n",
    "print(df)\n",
    "random = df.loc[df[\"method\"] == \"random\"]\n",
    "degree = df.loc[df[\"method\"] == \"degree\"]\n",
    "dependent = df.loc[df[\"method\"] == \"dependent\"]"
   ]
  },
  {
   "cell_type": "code",
   "execution_count": 3,
   "metadata": {},
   "outputs": [
    {
     "data": {
      "text/plain": "              G     SIR_file  budget  iterations     method     p  trial_id  \\\n0    montgomery  Q4data.json    1300           2     degree  0.01         0   \n1    montgomery  Q4data.json    1300           3     random  0.01         0   \n2    montgomery  Q4data.json    1300           3     degree  0.02         0   \n3    montgomery  Q4data.json    1300           4     random  0.02         0   \n4    montgomery  Q4data.json    1300           4     degree  0.03         0   \n..          ...          ...     ...         ...        ...   ...       ...   \n415  montgomery  Q4data.json    1300          13  dependent  0.11         9   \n416  montgomery  Q4data.json    1300          12  dependent  0.12         9   \n417  montgomery  Q4data.json    1300          15  dependent  0.09         9   \n418  montgomery  Q4data.json    1300          14  dependent  0.10         9   \n419  montgomery  Q4data.json    1300          17  dependent  0.08         9   \n\n     num_infected  peak  iterations.1  \n0             877   106             2  \n1             884   103             3  \n2            1075   219             3  \n3            1125   226             4  \n4            1240   292             4  \n..            ...   ...           ...  \n415         39173  7029            13  \n416         42201  8045            12  \n417         31477  4246            15  \n418         35849  5575            14  \n419         24635  2607            17  \n\n[420 rows x 10 columns]",
      "text/html": "<div>\n<style scoped>\n    .dataframe tbody tr th:only-of-type {\n        vertical-align: middle;\n    }\n\n    .dataframe tbody tr th {\n        vertical-align: top;\n    }\n\n    .dataframe thead th {\n        text-align: right;\n    }\n</style>\n<table border=\"1\" class=\"dataframe\">\n  <thead>\n    <tr style=\"text-align: right;\">\n      <th></th>\n      <th>G</th>\n      <th>SIR_file</th>\n      <th>budget</th>\n      <th>iterations</th>\n      <th>method</th>\n      <th>p</th>\n      <th>trial_id</th>\n      <th>num_infected</th>\n      <th>peak</th>\n      <th>iterations.1</th>\n    </tr>\n  </thead>\n  <tbody>\n    <tr>\n      <th>0</th>\n      <td>montgomery</td>\n      <td>Q4data.json</td>\n      <td>1300</td>\n      <td>2</td>\n      <td>degree</td>\n      <td>0.01</td>\n      <td>0</td>\n      <td>877</td>\n      <td>106</td>\n      <td>2</td>\n    </tr>\n    <tr>\n      <th>1</th>\n      <td>montgomery</td>\n      <td>Q4data.json</td>\n      <td>1300</td>\n      <td>3</td>\n      <td>random</td>\n      <td>0.01</td>\n      <td>0</td>\n      <td>884</td>\n      <td>103</td>\n      <td>3</td>\n    </tr>\n    <tr>\n      <th>2</th>\n      <td>montgomery</td>\n      <td>Q4data.json</td>\n      <td>1300</td>\n      <td>3</td>\n      <td>degree</td>\n      <td>0.02</td>\n      <td>0</td>\n      <td>1075</td>\n      <td>219</td>\n      <td>3</td>\n    </tr>\n    <tr>\n      <th>3</th>\n      <td>montgomery</td>\n      <td>Q4data.json</td>\n      <td>1300</td>\n      <td>4</td>\n      <td>random</td>\n      <td>0.02</td>\n      <td>0</td>\n      <td>1125</td>\n      <td>226</td>\n      <td>4</td>\n    </tr>\n    <tr>\n      <th>4</th>\n      <td>montgomery</td>\n      <td>Q4data.json</td>\n      <td>1300</td>\n      <td>4</td>\n      <td>degree</td>\n      <td>0.03</td>\n      <td>0</td>\n      <td>1240</td>\n      <td>292</td>\n      <td>4</td>\n    </tr>\n    <tr>\n      <th>...</th>\n      <td>...</td>\n      <td>...</td>\n      <td>...</td>\n      <td>...</td>\n      <td>...</td>\n      <td>...</td>\n      <td>...</td>\n      <td>...</td>\n      <td>...</td>\n      <td>...</td>\n    </tr>\n    <tr>\n      <th>415</th>\n      <td>montgomery</td>\n      <td>Q4data.json</td>\n      <td>1300</td>\n      <td>13</td>\n      <td>dependent</td>\n      <td>0.11</td>\n      <td>9</td>\n      <td>39173</td>\n      <td>7029</td>\n      <td>13</td>\n    </tr>\n    <tr>\n      <th>416</th>\n      <td>montgomery</td>\n      <td>Q4data.json</td>\n      <td>1300</td>\n      <td>12</td>\n      <td>dependent</td>\n      <td>0.12</td>\n      <td>9</td>\n      <td>42201</td>\n      <td>8045</td>\n      <td>12</td>\n    </tr>\n    <tr>\n      <th>417</th>\n      <td>montgomery</td>\n      <td>Q4data.json</td>\n      <td>1300</td>\n      <td>15</td>\n      <td>dependent</td>\n      <td>0.09</td>\n      <td>9</td>\n      <td>31477</td>\n      <td>4246</td>\n      <td>15</td>\n    </tr>\n    <tr>\n      <th>418</th>\n      <td>montgomery</td>\n      <td>Q4data.json</td>\n      <td>1300</td>\n      <td>14</td>\n      <td>dependent</td>\n      <td>0.10</td>\n      <td>9</td>\n      <td>35849</td>\n      <td>5575</td>\n      <td>14</td>\n    </tr>\n    <tr>\n      <th>419</th>\n      <td>montgomery</td>\n      <td>Q4data.json</td>\n      <td>1300</td>\n      <td>17</td>\n      <td>dependent</td>\n      <td>0.08</td>\n      <td>9</td>\n      <td>24635</td>\n      <td>2607</td>\n      <td>17</td>\n    </tr>\n  </tbody>\n</table>\n<p>420 rows × 10 columns</p>\n</div>"
     },
     "execution_count": 3,
     "metadata": {},
     "output_type": "execute_result"
    }
   ],
   "source": []
  }
 ],
 "metadata": {
  "kernelspec": {
   "display_name": "Python 3",
   "language": "python",
   "name": "python3"
  },
  "language_info": {
   "codemirror_mode": {
    "name": "ipython",
    "version": 3
   },
   "file_extension": ".py",
   "mimetype": "text/x-python",
   "name": "python",
   "nbconvert_exporter": "python",
   "pygments_lexer": "ipython3",
   "version": "3.8.6"
  }
 },
 "nbformat": 4,
 "nbformat_minor": 1
}