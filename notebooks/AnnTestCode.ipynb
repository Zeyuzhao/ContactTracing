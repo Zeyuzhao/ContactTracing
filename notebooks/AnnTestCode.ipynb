{
 "cells": [
  {
   "cell_type": "code",
   "execution_count": 2,
   "metadata": {
    "scrolled": true
   },
   "outputs": [],
   "source": [
    "%load_ext autoreload\n",
    "# Always reload modules so that as you change code in src, it gets loaded\n",
    "%autoreload 2\n",
    "\n",
    "import networkx as nx\n",
    "import matplotlib.pyplot as plt\n",
    "import pandas as pd\n",
    "import numpy as np\n",
    "import random\n",
    "import math\n",
    "import EoN\n",
    "import seaborn as sns\n",
    "import time\n",
    "\n",
    "# New Imports\n",
    "#from ctrace.contact_tracing import *\n",
    "#from ctrace.constraint import *\n",
    "#from ctrace.solve import *\n",
    "#from ctrace.simulation import *\n",
    "#from ctrace.restricted import *\n",
    "from ctrace.simulation import *\n",
    "from ctrace.dataset import *\n",
    "from ctrace.recommender import *\n",
    "from ctrace.utils import load_graph_hid_duration"
   ]
  },
  {
   "cell_type": "code",
   "execution_count": 2,
   "metadata": {},
   "outputs": [
    {
     "data": {
      "text/plain": [
       "<AxesSubplot:>"
      ]
     },
     "execution_count": 2,
     "metadata": {},
     "output_type": "execute_result"
    },
    {
     "data": {
      "image/png": "[encoded data removed]",
      "text/plain": [
       "<Figure size 432x288 with 1 Axes>"
      ]
     },
     "metadata": {
      "needs_background": "light"
     },
     "output_type": "display_data"
    }
   ],
   "source": [
    "G = load_graph(\"montgomery\")\n",
    "#print(G.size())\n",
    "\n",
    "G_node = len(G.nodes)\n",
    "\n",
    "degree_dist = {}\n",
    "for (node, val) in G.degree():\n",
    "    if val in degree_dist:\n",
    "        degree_dist[val] += 1\n",
    "    else:\n",
    "        degree_dist[val] = 1\n",
    "\n",
    "df_degree = pd.DataFrame.from_dict(degree_dist, orient='index')\n",
    "df_degree.plot(kind = \"bar\")"
   ]
  },
  {
   "cell_type": "code",
   "execution_count": 8,
   "metadata": {},
   "outputs": [
    {
     "ename": "NetworkXError",
     "evalue": "Invalid degree sequence: tree must have number of nodes equal to one less than the number of edges",
     "output_type": "error",
     "traceback": [
      "\u001b[1;31m---------------------------------------------------------------------------\u001b[0m",
      "\u001b[1;31mNetworkXError\u001b[0m                             Traceback (most recent call last)",
      "\u001b[1;32m<ipython-input-8-504a47887de0>\u001b[0m in \u001b[0;36m<module>\u001b[1;34m\u001b[0m\n\u001b[0;32m      1\u001b[0m \u001b[0mdegree_sequence\u001b[0m \u001b[1;33m=\u001b[0m \u001b[1;33m[\u001b[0m\u001b[0mval\u001b[0m \u001b[1;32mfor\u001b[0m \u001b[1;33m(\u001b[0m\u001b[0mnode\u001b[0m\u001b[1;33m,\u001b[0m \u001b[0mval\u001b[0m\u001b[1;33m)\u001b[0m \u001b[1;32min\u001b[0m \u001b[0mG\u001b[0m\u001b[1;33m.\u001b[0m\u001b[0mdegree\u001b[0m\u001b[1;33m(\u001b[0m\u001b[1;33m)\u001b[0m\u001b[1;33m]\u001b[0m\u001b[1;33m\u001b[0m\u001b[1;33m\u001b[0m\u001b[0m\n\u001b[1;32m----> 2\u001b[1;33m \u001b[0mtree_dg\u001b[0m \u001b[1;33m=\u001b[0m \u001b[0mnx\u001b[0m\u001b[1;33m.\u001b[0m\u001b[0mdegree_sequence_tree\u001b[0m\u001b[1;33m(\u001b[0m\u001b[0mdegree_sequence\u001b[0m\u001b[1;33m)\u001b[0m\u001b[1;33m\u001b[0m\u001b[1;33m\u001b[0m\u001b[0m\n\u001b[0m\u001b[0;32m      3\u001b[0m \u001b[1;33m\u001b[0m\u001b[0m\n\u001b[0;32m      4\u001b[0m \u001b[0mprint\u001b[0m\u001b[1;33m(\u001b[0m\u001b[0mtree_dg\u001b[0m\u001b[1;33m.\u001b[0m\u001b[0msize\u001b[0m\u001b[1;33m(\u001b[0m\u001b[1;33m)\u001b[0m\u001b[1;33m)\u001b[0m\u001b[1;33m\u001b[0m\u001b[1;33m\u001b[0m\u001b[0m\n",
      "\u001b[1;32m~\\miniconda3\\envs\\tracing\\lib\\site-packages\\networkx\\generators\\degree_seq.py\u001b[0m in \u001b[0;36mdegree_sequence_tree\u001b[1;34m(deg_sequence, create_using)\u001b[0m\n\u001b[0;32m    659\u001b[0m             \u001b[1;34m\" to one less than the number of edges\"\u001b[0m\u001b[1;33m\u001b[0m\u001b[1;33m\u001b[0m\u001b[0m\n\u001b[0;32m    660\u001b[0m         )\n\u001b[1;32m--> 661\u001b[1;33m         \u001b[1;32mraise\u001b[0m \u001b[0mnx\u001b[0m\u001b[1;33m.\u001b[0m\u001b[0mNetworkXError\u001b[0m\u001b[1;33m(\u001b[0m\u001b[0mmsg\u001b[0m\u001b[1;33m)\u001b[0m\u001b[1;33m\u001b[0m\u001b[1;33m\u001b[0m\u001b[0m\n\u001b[0m\u001b[0;32m    662\u001b[0m     \u001b[0mG\u001b[0m \u001b[1;33m=\u001b[0m \u001b[0mnx\u001b[0m\u001b[1;33m.\u001b[0m\u001b[0mempty_graph\u001b[0m\u001b[1;33m(\u001b[0m\u001b[1;36m0\u001b[0m\u001b[1;33m,\u001b[0m \u001b[0mcreate_using\u001b[0m\u001b[1;33m)\u001b[0m\u001b[1;33m\u001b[0m\u001b[1;33m\u001b[0m\u001b[0m\n\u001b[0;32m    663\u001b[0m     \u001b[1;32mif\u001b[0m \u001b[0mG\u001b[0m\u001b[1;33m.\u001b[0m\u001b[0mis_directed\u001b[0m\u001b[1;33m(\u001b[0m\u001b[1;33m)\u001b[0m\u001b[1;33m:\u001b[0m\u001b[1;33m\u001b[0m\u001b[1;33m\u001b[0m\u001b[0m\n",
      "\u001b[1;31mNetworkXError\u001b[0m: Invalid degree sequence: tree must have number of nodes equal to one less than the number of edges"
     ]
    }
   ],
   "source": [
    "degree_sequence = [val for (node, val) in G.degree()]\n",
    "tree_dg = nx.degree_sequence_tree(degree_sequence)\n",
    "\n",
    "print(tree_dg.size())"
   ]
  },
  {
   "cell_type": "code",
   "execution_count": 3,
   "metadata": {
    "scrolled": true
   },
   "outputs": [],
   "source": [
    "I = set()\n",
    "#with open(PROJECT_ROOT / \"data\" / \"SIR_Cache\" / \"t7.json\", 'r') as infile:\n",
    "    \n",
    "#    j = json.load(infile)\n",
    "    #(S, infected_queue, R) = (j[\"S\"], j[\"I_Queue\"], j[\"R\"])\n",
    "\n",
    "    # Make infected_queue a list of sets\n",
    "    #infected_queue = [set(s) for s in infected_queue]\n",
    "    #I = I.union(*infected_queue)\n",
    "    #I = list(I)\n",
    "\n",
    "infected_size = 1000\n",
    "\n",
    "nodeList = list(G.nodes)\n",
    "\n",
    "I = {nodeList.index(random.randint(0, G_node-1)) for i in range(0, infected_size)}\n",
    "S = set(G.nodes) - I\n",
    "\n",
    "I_q = {nodeList.index(random.randint(0, G_node-1)) for i in range(0, infected_size)}\n",
    "S_q = set(G.nodes) - I_q"
   ]
  },
  {
   "cell_type": "code",
   "execution_count": 4,
   "metadata": {},
   "outputs": [
    {
     "ename": "TypeError",
     "evalue": "__init__() missing 1 required positional argument: 'snitch_rate'",
     "output_type": "error",
     "traceback": [
      "\u001b[1;31m---------------------------------------------------------------------------\u001b[0m",
      "\u001b[1;31mTypeError\u001b[0m                                 Traceback (most recent call last)",
      "\u001b[1;32m<ipython-input-4-451ed2782986>\u001b[0m in \u001b[0;36m<module>\u001b[1;34m\u001b[0m\n\u001b[1;32m----> 1\u001b[1;33m \u001b[0mstate\u001b[0m \u001b[1;33m=\u001b[0m \u001b[0mSimulationState\u001b[0m\u001b[1;33m(\u001b[0m\u001b[0mG\u001b[0m\u001b[1;33m,\u001b[0m \u001b[1;33m(\u001b[0m\u001b[0mlist\u001b[0m\u001b[1;33m(\u001b[0m\u001b[0mS\u001b[0m\u001b[1;33m)\u001b[0m\u001b[1;33m,\u001b[0m \u001b[0mlist\u001b[0m\u001b[1;33m(\u001b[0m\u001b[0mI\u001b[0m\u001b[1;33m)\u001b[0m\u001b[1;33m,\u001b[0m \u001b[1;33m[\u001b[0m\u001b[1;33m]\u001b[0m\u001b[1;33m)\u001b[0m\u001b[1;33m,\u001b[0m \u001b[1;33m(\u001b[0m\u001b[0mlist\u001b[0m\u001b[1;33m(\u001b[0m\u001b[0mS\u001b[0m\u001b[1;33m)\u001b[0m\u001b[1;33m,\u001b[0m \u001b[0mlist\u001b[0m\u001b[1;33m(\u001b[0m\u001b[0mI\u001b[0m\u001b[1;33m)\u001b[0m\u001b[1;33m,\u001b[0m \u001b[1;33m[\u001b[0m\u001b[1;33m]\u001b[0m\u001b[1;33m)\u001b[0m\u001b[1;33m,\u001b[0m \u001b[1;36m2000\u001b[0m\u001b[1;33m,\u001b[0m \u001b[1;36m1\u001b[0m\u001b[1;33m,\u001b[0m \u001b[1;36m1\u001b[0m\u001b[1;33m,\u001b[0m \u001b[1;36m0\u001b[0m\u001b[1;33m,\u001b[0m \u001b[1;36m.8\u001b[0m\u001b[1;33m,\u001b[0m \u001b[1;36m.8\u001b[0m\u001b[1;33m)\u001b[0m\u001b[1;33m\u001b[0m\u001b[1;33m\u001b[0m\u001b[0m\n\u001b[0m\u001b[0;32m      2\u001b[0m \u001b[0mV2_o\u001b[0m \u001b[1;33m=\u001b[0m \u001b[0mstate\u001b[0m\u001b[1;33m.\u001b[0m\u001b[0mSIR_real\u001b[0m\u001b[1;33m.\u001b[0m\u001b[0mV2\u001b[0m\u001b[1;33m\u001b[0m\u001b[1;33m\u001b[0m\u001b[0m\n",
      "\u001b[1;31mTypeError\u001b[0m: __init__() missing 1 required positional argument: 'snitch_rate'"
     ]
    }
   ],
   "source": [
    "state = SimulationState(G, (list(S), list(I), []), (list(S), list(I), []), 2000, 1, 1, 0, .8, .8)\n",
    "V2_o = state.SIR_real.V2"
   ]
  },
  {
   "cell_type": "code",
   "execution_count": 8,
   "metadata": {
    "scrolled": true
   },
   "outputs": [
    {
     "name": "stdout",
     "output_type": "stream",
     "text": [
      "No Quarantine Graph First Run\n",
      "--Intersection-----Union---\n",
      "V1:   30354\t43203\n",
      "V2:   11378\t24650\n",
      "I:   11453\t14330\n",
      "-----Ratio------\n",
      "V1:   0.7025900979098674\n",
      "V2:   0.4615821501014199\n",
      "I:   0.7992323796231682\n",
      "---Known Size----Real Size---\n",
      "V1:   32602\t40955\n",
      "V2:   21951\t14077\n",
      "I:   11453\t14330\n"
     ]
    }
   ],
   "source": [
    "#to_quarantine = DegGreedy(state)\n",
    "#state.step(to_quarantine)\n",
    "#state.step(set())\n",
    "\n",
    "V1_k = state.SIR_known.V1\n",
    "V1_r = state.SIR_real.V1\n",
    "\n",
    "V2_k = state.SIR_known.V2\n",
    "V2_r = state.SIR_real.V2\n",
    "\n",
    "I_k = set(state.SIR_known.SIR.I)\n",
    "I_r = set(state.SIR_real.SIR.I)\n",
    "\n",
    "print(\"No Quarantine Graph First Run\")\n",
    "print(\"--Intersection-----Union---\")\n",
    "print(\"V1:   \" + str(len(V1_k.intersection(V1_r))) + \"\\t\" + str(len(V1_k.union(V1_r))))\n",
    "print(\"V2:   \" + str(len(V2_k.intersection(V2_r))) + \"\\t\" + str(len(V2_k.union(V2_r))))\n",
    "print(\"I:   \" + str(len(I_k.intersection(I_r)))+ \"\\t\" + str(len(I_k.union(I_r))))\n",
    "print(\"-----Ratio------\")\n",
    "print(\"V1:   \" + str(len(V1_k.intersection(V1_r))/len(V1_k.union(V1_r))))\n",
    "print(\"V2:   \" + str(len(V2_k.intersection(V2_r))/len(V2_k.union(V2_r))))\n",
    "print(\"I:   \" + str(len(I_k.intersection(I_r))/len(I_k.union(I_r))))\n",
    "print(\"---Known Size----Real Size---\")\n",
    "print(\"V1:   \" + str(len(V1_k)) + \"\\t\" + str(len(V1_r)))\n",
    "print(\"V2:   \" + str(len(V2_k)) + \"\\t\" + str(len(V2_r)))\n",
    "print(\"I:   \" + str(len(I_k)) + \"\\t\" + str(len(I_r)))"
   ]
  },
  {
   "cell_type": "code",
   "execution_count": null,
   "metadata": {},
   "outputs": [],
   "source": [
    "state_q = SimulationState(G, (list(S_q), list(I_q), []), (list(S_q), list(I_q), []), 2000, 1, 1, 0, .8, .8)\n",
    "V2_qo = state_q.SIR_real.V2"
   ]
  },
  {
   "cell_type": "code",
   "execution_count": 9,
   "metadata": {},
   "outputs": [
    {
     "name": "stdout",
     "output_type": "stream",
     "text": [
      "Quarantine Graph First Run\n",
      "--Intersection-----Union---\n",
      "V1:   11157\t13963\n",
      "V2:   34913\t43778\n",
      "I:   997\t997\n",
      "-----Ratio------\n",
      "V1:   0.7990403208479553\n",
      "V2:   0.7975010279135639\n",
      "I:   1.0\n",
      "-----Size-------\n",
      "V1:   11157\t13963\n",
      "V2:   37643\t41048\n",
      "I:   997\t997\n"
     ]
    }
   ],
   "source": [
    "to_quarantine = DepRound(state_q)\n",
    "state.step(to_quarantine)\n",
    "\n",
    "V1_kq = state_q.SIR_known.V1\n",
    "V1_rq = state_q.SIR_real.V1\n",
    "\n",
    "V2_kq = state_q.SIR_known.V2\n",
    "V2_rq = state_q.SIR_real.V2\n",
    "\n",
    "I_kq = set(state_q.SIR_known.SIR.I)\n",
    "I_rq = set(state_q.SIR_real.SIR.I)\n",
    "\n",
    "print(\"Quarantine Graph First Run\")\n",
    "print(\"--Intersection-----Union---\")\n",
    "print(\"V1:   \" + str(len(V1_kq.intersection(V1_rq))) + \"\\t\" + str(len(V1_kq.union(V1_rq))))\n",
    "print(\"V2:   \" + str(len(V2_kq.intersection(V2_rq))) + \"\\t\" + str(len(V2_kq.union(V2_rq))))\n",
    "print(\"I:   \" + str(len(I_kq.intersection(I_rq)))+ \"\\t\" + str(len(I_kq.union(I_rq))))\n",
    "print(\"-----Ratio------\")\n",
    "print(\"V1:   \" + str(len(V1_kq.intersection(V1_rq))/len(V1_kq.union(V1_rq))))\n",
    "print(\"V2:   \" + str(len(V2_kq.intersection(V2_rq))/len(V2_kq.union(V2_rq))))\n",
    "print(\"I:   \" + str(len(I_kq.intersection(I_rq))/len(I_kq.union(I_rq))))\n",
    "print(\"-----Size-------\")\n",
    "print(\"V1:   \" + str(len(V1_kq)) + \"\\t\" + str(len(V1_rq)))\n",
    "print(\"V2:   \" + str(len(V2_kq)) + \"\\t\" + str(len(V2_rq)))\n",
    "print(\"I:   \" + str(len(I_kq)) + \"\\t\" + str(len(I_rq)))"
   ]
  },
  {
   "cell_type": "code",
   "execution_count": 10,
   "metadata": {},
   "outputs": [],
   "source": [
    "tree = nx.random_tree(G_node)\n",
    "I_t = {random.randint(0, G_node-1) for i in range(0, infected_size)}\n",
    "S_t = set(tree.nodes) - I_t\n",
    "state_t = SimulationState(tree, (list(S_t), list(I_t), []), (list(S_t), list(I_t), []), 2000, 1, 1, 0, .8, .8)\n",
    "#transmission too low --> infection never ends up spreading"
   ]
  },
  {
   "cell_type": "code",
   "execution_count": 11,
   "metadata": {},
   "outputs": [
    {
     "name": "stdout",
     "output_type": "stream",
     "text": [
      "Tree Graph (w/ Quarantine) First Run\n",
      "--Intersection-----Union---\n",
      "V1:   104\t692\n",
      "V2:   147\t878\n",
      "I:   449\t828\n",
      "-----Ratio------\n",
      "V1:   0.15028901734104047\n",
      "V2:   0.1674259681093394\n",
      "I:   0.5422705314009661\n",
      "-----Size-------\n",
      "V1:   104\t692\n",
      "V2:   147\t878\n",
      "I:   449\t828\n"
     ]
    }
   ],
   "source": [
    "to_quarantine = DepRound(state_t)\n",
    "state_t.step(to_quarantine)\n",
    "\n",
    "V1_kt = state_t.SIR_known.V1\n",
    "V1_rt = state_t.SIR_real.V1\n",
    "\n",
    "V2_kt = state_t.SIR_known.V2\n",
    "V2_rt = state_t.SIR_real.V2\n",
    "\n",
    "I_kt = set(state_t.SIR_known.SIR.I)\n",
    "I_rt = set(state_t.SIR_real.SIR.I)\n",
    "\n",
    "print(\"Tree Graph (w/ Quarantine) First Run\")\n",
    "print(\"--Intersection-----Union---\")\n",
    "print(\"V1:   \" + str(len(V1_kt.intersection(V1_rt))) + \"\\t\" + str(len(V1_kt.union(V1_rt))))\n",
    "print(\"V2:   \" + str(len(V2_kt.intersection(V2_rt))) + \"\\t\" + str(len(V2_kt.union(V2_rt))))\n",
    "print(\"I:   \" + str(len(I_kt.intersection(I_rt)))+ \"\\t\" + str(len(I_kt.union(I_rt))))\n",
    "print(\"-----Ratio------\")\n",
    "print(\"V1:   \" + str(len(V1_kt.intersection(V1_rt))/len(V1_kt.union(V1_rt))))\n",
    "print(\"V2:   \" + str(len(V2_kt.intersection(V2_rt))/len(V2_kt.union(V2_rt))))\n",
    "print(\"I:   \" + str(len(I_kt.intersection(I_rt))/len(I_kt.union(I_rt))))\n",
    "print(\"-----Size-------\")\n",
    "print(\"V1:   \" + str(len(V1_kt)) + \"\\t\" + str(len(V1_rt)))\n",
    "print(\"V2:   \" + str(len(V2_kt)) + \"\\t\" + str(len(V2_rt)))\n",
    "print(\"I:   \" + str(len(I_kt)) + \"\\t\" + str(len(I_rt)))"
   ]
  },
  {
   "cell_type": "code",
   "execution_count": 12,
   "metadata": {},
   "outputs": [
    {
     "name": "stdout",
     "output_type": "stream",
     "text": [
      "W/o Quarantine: 14077\n",
      "With Quarantine: 41048\n",
      "Tree: 878\n",
      "{0: [11378, 34913, 147, 0.7025900979098674, 0.4615821501014199, 0.7784272412152519, 0.7990403208479553, 0.7975010279135639, 1.0, 0.15028901734104047, 0.1674259681093394, 0.5422705314009661]}\n"
     ]
    }
   ],
   "source": [
    "timestep_dict = {}\n",
    "print(\"W/o Quarantine: \"+ str(len(V2_r)))\n",
    "print(\"With Quarantine: \" + str(len(V2_rq)))\n",
    "print(\"Tree: \" + str(len(V2_rt)))\n",
    "\n",
    "#timestep_dict[0] = [len(V2_k.intersection(V2_r))]\n",
    "timestep_dict[0] = [len(V2_k.intersection(V2_r)), len(V2_kq.intersection(V2_rq)), len(V2_kt.intersection(V2_rt)), \n",
    "                    len(V1_k.intersection(V1_r))/len(V1_k.union(V1_r)), len(V2_k.intersection(V2_r))/len(V2_k.union(V2_r)),\n",
    "                    len(I_k.intersection(I_r))/len(I_kt.union(I_r)), len(V1_kq.intersection(V1_rq))/len(V1_kq.union(V1_rq)),\n",
    "                    len(V2_kq.intersection(V2_rq))/len(V2_kq.union(V2_rq)), len(I_kq.intersection(I_rq))/len(I_kq.union(I_rq)),\n",
    "                    len(V1_kt.intersection(V1_rt))/len(V1_kt.union(V1_rt)), len(V2_kt.intersection(V2_rt))/len(V2_kt.union(V2_rt)),\n",
    "                    len(I_kt.intersection(I_rt))/len(I_kt.union(I_rt))]\n",
    "\n",
    "V2_r -= V2_k\n",
    "V2_rq -= V2_kq\n",
    "V2_rt -= V2_kt\n",
    "\n",
    "print(timestep_dict)"
   ]
  },
  {
   "cell_type": "code",
   "execution_count": 13,
   "metadata": {},
   "outputs": [
    {
     "name": "stdout",
     "output_type": "stream",
     "text": [
      "2292 1638 731\n"
     ]
    }
   ],
   "source": [
    "for t in range(1, 6):\n",
    "    state.step(set())\n",
    "    \n",
    "    to_quarantine = DepRound(state_q)\n",
    "    state_q.step(to_quarantine)\n",
    "    \n",
    "    to_quarantine_t = DepRound(state_t)\n",
    "    state_t.step(to_quarantine_t)\n",
    "    \n",
    "    V2_k_trial = state.SIR_known.V2\n",
    "    V2_kq_trial = state_q.SIR_known.V2\n",
    "    V2_kt_trial = state_t.SIR_known.V2\n",
    "    \n",
    "    #coverage of nodes in V2 from first timestep\n",
    "    V2_intersect = len(V2_k_trial.intersection(V2_r))\n",
    "    V2_qintersect = len(V2_kq_trial.intersection(V2_rq))\n",
    "    V2_tintersect = len(V2_kt_trial.intersection(V2_rt))\n",
    "    \n",
    "    V2_r -= V2_k_trial\n",
    "    V2_rq -= V2_kq_trial\n",
    "    V2_rt -= V2_kt_trial\n",
    "    \n",
    "    #STATE w/o QUARANTINE\n",
    "    V1_k = state.SIR_known.V1\n",
    "    V1_r_i = state.SIR_real.V1\n",
    "    V2_r_i = state.SIR_real.V2\n",
    "    I_k = set(state.SIR_known.SIR.I)\n",
    "    I_r_i = set(state.SIR_real.SIR.I)\n",
    "    \n",
    "    V1_ratio = len(V1_k.intersection(V1_r_i))/max(len(V1_k.union(V1_r_i)), 1)\n",
    "    V2_ratio = len(V2_k_trial.intersection(V2_r_i))/max(len(V2_k_trial.union(V2_r_i)), 1)\n",
    "    I_ratio = len(I_k.intersection(I_r_i))/max(len(I_k.union(I_r_i)), 1)\n",
    "    \n",
    "    #STATE w/ QUARANTINE\n",
    "    V1_kq = state_q.SIR_known.V1\n",
    "    V1_rq_i = state_q.SIR_real.V1\n",
    "    V2_rq_i = state_q.SIR_real.V2\n",
    "    I_kq = set(state_q.SIR_known.SIR.I)\n",
    "    I_rq_i = set(state_q.SIR_real.SIR.I)\n",
    "    \n",
    "    V1_q_ratio = len(V1_kq.intersection(V1_rq_i))/max(1, len(V1_kq.union(V1_rq_i)))\n",
    "    V2_q_ratio = len(V2_kq_trial.intersection(V2_rq_i))/max(1, len(V2_kq_trial.union(V2_rq_i)))\n",
    "    I_q_ratio = len(I_kq.intersection(I_rq_i))/max(1, len(I_kq.union(I_rq_i)))\n",
    "    \n",
    "    #TREE\n",
    "    V1_kt = state_t.SIR_known.V1\n",
    "    V1_rt_i = state_t.SIR_real.V1\n",
    "    V2_rt_i = state_t.SIR_real.V2\n",
    "    I_kt = set(state_t.SIR_known.SIR.I)\n",
    "    I_rt_i = set(state_t.SIR_real.SIR.I)\n",
    "    \n",
    "    V1_t_ratio = len(V1_kt.intersection(V1_rt_i))/max(1, len(V1_kt.union(V1_rt_i)))\n",
    "    V2_t_ratio = len(V2_kt_trial.intersection(V2_rt_i))/max(1, len(V2_kt_trial.union(V2_rt_i)))\n",
    "    I_t_ratio = len(I_kt.intersection(I_rt_i))/max(1, len(I_kt.union(I_rt_i)))\n",
    "    \n",
    "    timestep_dict[t] = [V2_intersect, V2_qintersect, V2_tintersect, V1_ratio, V2_ratio, I_ratio, V1_q_ratio, V2_q_ratio,\n",
    "                       I_q_ratio, V1_t_ratio, V2_t_ratio, I_t_ratio]\n",
    "\n",
    "print(len(V2_r), len(V2_rq), len(V2_rt))"
   ]
  },
  {
   "cell_type": "code",
   "execution_count": 14,
   "metadata": {},
   "outputs": [
    {
     "name": "stdout",
     "output_type": "stream",
     "text": [
      "{0: [11378, 34913, 147, 0.7025900979098674, 0.4615821501014199, 0.7784272412152519, 0.7990403208479553, 0.7975010279135639, 1.0, 0.15028901734104047, 0.1674259681093394, 0.5422705314009661], 1: [383, 4189, 0, 0.16239687364307426, 0.017666608361028513, 0.7066127634998556, 0.5574911901784699, 0.46818344465648853, 0.7654434506394717, 0.0014084507042253522, 0.0, 0.036065573770491806], 2: [24, 258, 0, 0.17781690140845072, 0.018612521150592216, 0.6111111111111112, 0.35474482198456747, 0.13374109338545936, 0.5696729181335211, 0.0, 0.0, 0.0], 3: [0, 50, 0, 0.375, 0.2222222222222222, 0.517948717948718, 0.10328875431070737, 0.010530459600433029, 0.5188052489979685, 0.0, 0.0, 0.0], 4: [0, 0, 0, 0.3333333333333333, 0.0, 0.46153846153846156, 0.09114927344782034, 0.015166835187057633, 0.34102189781021897, 0.0, 0.0, 0.0], 5: [0, 0, 0, 0.0, 0.0, 0.4, 0.0, 0.0, 0.13895781637717122, 0.0, 0.0, 0.0]}\n",
      "   Without Quarantine Coverage  With Quarantine Coverage  Tree Coverage  \\\n",
      "0                        11378                     34913            147   \n",
      "1                          383                      4189              0   \n",
      "2                           24                       258              0   \n",
      "3                            0                        50              0   \n",
      "4                            0                         0              0   \n",
      "5                            0                         0              0   \n",
      "\n",
      "   V1 Ratio  V2 Ratio   I Ratio  V1_q Ratio  V2_q Ratio  I_q Ratio  \\\n",
      "0  0.702590  0.461582  0.778427    0.799040    0.797501   1.000000   \n",
      "1  0.162397  0.017667  0.706613    0.557491    0.468183   0.765443   \n",
      "2  0.177817  0.018613  0.611111    0.354745    0.133741   0.569673   \n",
      "3  0.375000  0.222222  0.517949    0.103289    0.010530   0.518805   \n",
      "4  0.333333  0.000000  0.461538    0.091149    0.015167   0.341022   \n",
      "5  0.000000  0.000000  0.400000    0.000000    0.000000   0.138958   \n",
      "\n",
      "   V1_t Ratio  V2_t Ratio  I_t Ratio  \n",
      "0    0.150289    0.167426   0.542271  \n",
      "1    0.001408    0.000000   0.036066  \n",
      "2    0.000000    0.000000   0.000000  \n",
      "3    0.000000    0.000000   0.000000  \n",
      "4    0.000000    0.000000   0.000000  \n",
      "5    0.000000    0.000000   0.000000  \n"
     ]
    }
   ],
   "source": [
    "print(timestep_dict)\n",
    "#arr = [v[0] for k,v in timestep_dict.items()]\n",
    "#arr_q = [v[1] for k,v in timestep_dict.items()]\n",
    "#df = pd.DataFrame([arr, arr_q], columns = [\"Without Quarantine\", \"With Quarantine\"])\n",
    "df = pd.DataFrame.from_dict(timestep_dict, orient='index', columns = [\"Without Quarantine Coverage\", \"With Quarantine Coverage\", \"Tree Coverage\",\n",
    "                                                                     \"V1 Ratio\", \"V2 Ratio\", \"I Ratio\", \"V1_q Ratio\", \"V2_q Ratio\", \"I_q Ratio\",\n",
    "                                                                     \"V1_t Ratio\", \"V2_t Ratio\", \"I_t Ratio\"])\n",
    "print(df)"
   ]
  },
  {
   "cell_type": "code",
   "execution_count": 21,
   "metadata": {},
   "outputs": [
    {
     "data": {
      "text/plain": [
       "<AxesSubplot:>"
      ]
     },
     "execution_count": 21,
     "metadata": {},
     "output_type": "execute_result"
    },
    {
     "data": {
      "image/png": "[encoded data removed]",
      "text/plain": [
       "<Figure size 432x288 with 1 Axes>"
      ]
     },
     "metadata": {
      "needs_background": "light"
     },
     "output_type": "display_data"
    },
    {
     "data": {
      "image/png": "[encoded data removed]",
      "text/plain": [
       "<Figure size 432x288 with 1 Axes>"
      ]
     },
     "metadata": {
      "needs_background": "light"
     },
     "output_type": "display_data"
    }
   ],
   "source": [
    "df[\"Without Quarantine Ratio\"] = df[\"Without Quarantine Coverage\"].apply(lambda x: x/14077)\n",
    "df[\"With Quarantine Ratio\"] = df[\"With Quarantine Coverage\"].apply(lambda x: x/41048)\n",
    "df.plot(y = \"With Quarantine Ratio\")\n",
    "df.plot(y = \"Without Quarantine Ratio\")"
   ]
  },
  {
   "cell_type": "code",
   "execution_count": 31,
   "metadata": {},
   "outputs": [
    {
     "name": "stdout",
     "output_type": "stream",
     "text": [
      "   V1_q Ratio  V1_t Ratio\n",
      "0    0.799040    0.150289\n",
      "1    0.557491    0.001408\n",
      "2    0.354745    0.000000\n",
      "3    0.103289    0.000000\n",
      "4    0.091149    0.000000\n",
      "5    0.000000    0.000000\n"
     ]
    },
    {
     "data": {
      "text/plain": [
       "<AxesSubplot:>"
      ]
     },
     "execution_count": 31,
     "metadata": {},
     "output_type": "execute_result"
    },
    {
     "data": {
      "image/png": "[encoded data removed]",
      "text/plain": [
       "<Figure size 432x288 with 1 Axes>"
      ]
     },
     "metadata": {
      "needs_background": "light"
     },
     "output_type": "display_data"
    }
   ],
   "source": [
    "df_sub = df[[\"V1_q Ratio\", \"V1_t Ratio\"]]\n",
    "print(df_sub)\n",
    "df_sub.plot()\n",
    "#df.plot(y = \"V1_q Ratio\", \"V1_t Ratio\")\n",
    "#df.plot(y = \"V1_t Ratio\")"
   ]
  },
  {
   "cell_type": "code",
   "execution_count": 39,
   "metadata": {},
   "outputs": [
    {
     "data": {
      "text/plain": [
       "<AxesSubplot:>"
      ]
     },
     "execution_count": 39,
     "metadata": {},
     "output_type": "execute_result"
    },
    {
     "data": {
      "image/png": "[encoded data removed]",
      "text/plain": [
       "<Figure size 432x288 with 1 Axes>"
      ]
     },
     "metadata": {
      "needs_background": "light"
     },
     "output_type": "display_data"
    },
    {
     "data": {
      "image/png": "[encoded data removed]",
      "text/plain": [
       "<Figure size 432x288 with 1 Axes>"
      ]
     },
     "metadata": {
      "needs_background": "light"
     },
     "output_type": "display_data"
    }
   ],
   "source": [
    "#CUMULATIVE is the total coverage of original V2\n",
    "#SUB is the coverage of remaining uncovered per timestep\n",
    "\n",
    "df.loc[0, 'Cumulative'] = df.loc[0, 'With Quarantine Coverage']/41048\n",
    "df.loc[0, 'Sub'] = df.loc[0, 'With Quarantine Coverage']/41048\n",
    "cout = 41048\n",
    "for i in range(1, len(df)):\n",
    "    df.loc[i, 'Cumulative'] = df.loc[i-1, 'Cumulative'] + df.loc[i, \"With Quarantine Coverage\"]/(41048)\n",
    "    cout -= df.loc[i-1, \"With Quarantine Coverage\"]\n",
    "    df.loc[i, \"Sub\"] = df.loc[i, \"With Quarantine Coverage\"]/( cout)\n",
    "\n",
    "df.plot(y = \"Cumulative\")\n",
    "df.plot(y = \"Sub\")"
   ]
  },
  {
   "cell_type": "code",
   "execution_count": 32,
   "metadata": {},
   "outputs": [
    {
     "data": {
      "text/plain": [
       "<AxesSubplot:>"
      ]
     },
     "execution_count": 32,
     "metadata": {},
     "output_type": "execute_result"
    },
    {
     "data": {
      "image/png": "[encoded data removed]",
      "text/plain": [
       "<Figure size 432x288 with 1 Axes>"
      ]
     },
     "metadata": {
      "needs_background": "light"
     },
     "output_type": "display_data"
    },
    {
     "data": {
      "image/png": "[encoded data removed]",
      "text/plain": [
       "<Figure size 432x288 with 1 Axes>"
      ]
     },
     "metadata": {
      "needs_background": "light"
     },
     "output_type": "display_data"
    }
   ],
   "source": [
    "df.plot(y = \"Without Quarantine Ratio\")\n",
    "df.plot(y = \"With Quarantine Ratio\")"
   ]
  },
  {
   "cell_type": "code",
   "execution_count": null,
   "metadata": {},
   "outputs": [],
   "source": [
    "'''for t in range(0, 7):\n",
    "    print(len(state_t.SIR_known.SIR.I), len(state_t.SIR_real.SIR.I))\n",
    "    state_t.step(set())'''"
   ]
  },
  {
   "cell_type": "code",
   "execution_count": 260,
   "metadata": {},
   "outputs": [
    {
     "name": "stdout",
     "output_type": "stream",
     "text": [
      "783\n",
      "783\n"
     ]
    }
   ],
   "source": [
    "print(len(V2_r))\n",
    "V2_r -= V2_k\n",
    "tree_timestep = {}\n",
    "tree_timestep[1] = len(V2_k.intersection(V2_r))\n",
    "for t in range(1, 10):\n",
    "    to_quarantine = DepRound(state_t)\n",
    "    state_t.step(to_quarantine)\n",
    "    V2_kt = state_t.SIR_known.V2\n",
    "    V2_tintersect = len(V2_r.intersection(V2_k))\n",
    "    V2_r -= V2_k\n",
    "    tree_timestep[t] = [V2_tintersect]\n",
    "\n",
    "print(len(V2_r))"
   ]
  },
  {
   "cell_type": "code",
   "execution_count": 261,
   "metadata": {},
   "outputs": [
    {
     "name": "stdout",
     "output_type": "stream",
     "text": [
      "{1: [0], 2: [0], 3: [0], 4: [0], 5: [0], 6: [0], 7: [0], 8: [0], 9: [0]}\n"
     ]
    }
   ],
   "source": [
    "print(tree_timestep)"
   ]
  },
  {
   "cell_type": "code",
   "execution_count": 51,
   "metadata": {},
   "outputs": [
    {
     "name": "stdout",
     "output_type": "stream",
     "text": [
      "{7: (1, 0.078), 9: (1, 0.078)}\n",
      "------\n",
      "{7: (1, 0.078), 8: (1, 0.078)}\n",
      "------\n",
      "{7: (1, 0.078), 25866: (0, 0.078)}\n",
      "------\n",
      "{7: (1, 0.078), 8001: (1, 0.078)}\n",
      "{'compliance_transmission': {7: (1, 0.078), 8: (1, 0.078)}}\n",
      "{'compliance_transmission': {7: (1, 0.078), 9: (1, 0.078)}}\n",
      "{'compliance_transmission': {7: (1, 0.078), 8001: (1, 0.078)}}\n",
      "{'compliance_transmission': {7: (1, 0.078), 25866: (0, 0.078)}}\n",
      "{'compliance_transmission': {7: (1, 0.078), 25868: (1, 0.078)}}\n",
      "{'compliance_transmission': {7: (1, 0.078), 33845: (1, 0.078)}}\n",
      "{'compliance_transmission': {7: (1, 0.078), 37022: (0, 0.078)}}\n",
      "{'compliance_transmission': {7: (1, 0.078), 8003: (0, 0.078)}}\n",
      "{'compliance_transmission': {7: (1, 0.078), 19013: (1, 0.078)}}\n",
      "{'compliance_transmission': {7: (0, 0.078), 25867: (1, 0.078)}}\n",
      "{'compliance_transmission': {7: (1, 0.078), 25870: (0, 0.078)}}\n",
      "{'compliance_transmission': {7: (1, 0.078), 64213: (0, 0.078)}}\n",
      "{'compliance_transmission': {7: (0, 0.078), 8005: (1, 0.078)}}\n",
      "{'compliance_transmission': {7: (1, 0.078), 1060: (1, 0.078)}}\n",
      "{'compliance_transmission': {7: (1, 0.078), 8004: (1, 0.078)}}\n",
      "{'compliance_transmission': {7: (1, 0.078), 25869: (1, 0.078)}}\n",
      "{'compliance_transmission': {7: (1, 0.078), 34570: (0, 0.078)}}\n",
      "{'compliance_transmission': {7: (1, 0.078), 8001: (1, 0.078)}}\n",
      "{'compliance_transmission': {1060: (0, 0.078), 8001: (0, 0.078)}}\n",
      "{'compliance_transmission': {8001: (0, 0.078), 8002: (1, 0.078)}}\n",
      "{'compliance_transmission': {8001: (0, 0.078), 8003: (0, 0.078)}}\n",
      "{'compliance_transmission': {8001: (0, 0.078), 8004: (1, 0.078)}}\n",
      "{'compliance_transmission': {8001: (0, 0.078), 8005: (1, 0.078)}}\n",
      "{'compliance_transmission': {8001: (1, 0.078), 8006: (0, 0.078)}}\n",
      "{'compliance_transmission': {8001: (0, 0.078), 8007: (1, 0.078)}}\n",
      "{'compliance_transmission': {8001: (0, 0.078), 16645: (0, 0.078)}}\n",
      "{'compliance_transmission': {8001: (1, 0.078), 25866: (1, 0.078)}}\n",
      "{'compliance_transmission': {8001: (1, 0.078), 9830: (1, 0.078)}}\n",
      "{'compliance_transmission': {8001: (0, 0.078), 16647: (0, 0.078)}}\n",
      "{'compliance_transmission': {8001: (1, 0.078), 25868: (1, 0.078)}}\n",
      "{'compliance_transmission': {8001: (0, 0.078), 42550: (0, 0.078)}}\n",
      "{'compliance_transmission': {8001: (0, 0.078), 33845: (1, 0.078)}}\n",
      "{'compliance_transmission': {8001: (1, 0.078), 9759: (0, 0.078)}}\n",
      "{'compliance_transmission': {8001: (1, 0.078), 19013: (1, 0.078)}}\n",
      "{'compliance_transmission': {8001: (0, 0.078), 25870: (1, 0.078)}}\n",
      "{'compliance_transmission': {8001: (1, 0.078), 25869: (0, 0.078)}}\n",
      "{'compliance_transmission': {8001: (1, 0.078), 8780: (1, 0.078)}}\n"
     ]
    }
   ],
   "source": [
    "compliance_rate = [random.random() for i in range(len(G.nodes()))]\n",
    "node_to_compliance = {}\n",
    "edge_to_compliance = {}\n",
    "transmission_rate = 0.078\n",
    "partial_compliance = True\n",
    "\n",
    "compliance_edge = 0\n",
    "for node in G.nodes():\n",
    "    node_to_compliance[node] = compliance_rate[node]\n",
    "    if not partial_compliance: compliance_edge = (0 if random.random()>compliance_rate[node] else 1, transmission_rate)\n",
    "    for nbr in G.neighbors(node):\n",
    "        order = (node,nbr)\n",
    "        if node>nbr: order = (nbr, node)\n",
    "        if partial_compliance: compliance_edge = (0 if random.random()>compliance_rate[node] else 1, transmission_rate)\n",
    "        if order not in edge_to_compliance: edge_to_compliance[order] = {node: compliance_edge}\n",
    "        else: edge_to_compliance[order][node] = compliance_edge\n",
    "\n",
    "nx.set_node_attributes(G, node_to_compliance, 'compliance_rate')\n",
    "nx.set_edge_attributes(G, edge_to_compliance, 'compliance_transmission')\n",
    "\n",
    "#print(node_to_compliance[50])\n",
    "print(edge_to_compliance[(7, 9)])\n",
    "#print(edge_to_compliance[(9, 7)])\n",
    "print(\"------\")\n",
    "print(edge_to_compliance[(7, 8)])\n",
    "#print(edge_to_compliance[(8, 7)])\n",
    "print(\"------\")\n",
    "print(edge_to_compliance[(7, 25866)])\n",
    "#print(edge_to_compliance[(25866, 7)])\n",
    "print(\"------\")\n",
    "print(edge_to_compliance[(7, 8001)])\n",
    "#print(edge_to_compliance[(8001, 7)])\n",
    "'''print(\"------\")\n",
    "print(G[7][9])\n",
    "print(G[9][7])\n",
    "print(\"------\")\n",
    "print(G[7][8])\n",
    "print(G[8][7])\n",
    "print(\"------\")\n",
    "print(G[7][25866])\n",
    "print(G[25866][7])\n",
    "print(\"------\")\n",
    "print(G[7][8001])\n",
    "print(G[8001][7])\n",
    "print(\"------\")'''\n",
    "for nbr in G.edges(7):\n",
    "    print(G[7][nbr[1]])\n",
    "for nbr in G.edges(8001):\n",
    "    print(G[8001][nbr[1]])"
   ]
  },
  {
   "cell_type": "code",
   "execution_count": null,
   "metadata": {},
   "outputs": [],
   "source": [
    "#INFORMATION LOSS METRIC\n",
    "#1 Unreachable nodes\n",
    "#    - S + R (?)\n",
    "#    - cut edges\n",
    "#2 Divergence per iteration (summed)\n",
    "#    - How many drop out of V2 and V1 in find_excluded_contours successively?\n",
    "#          - Summed over all iterations\n",
    "#          - Averaged over # of iterations\n",
    "#    - How they differ from real V2 and V1 in every iteration (summed)\n",
    "#          - V2_real - V2_known --> how many real that are unknown\n",
    "#          - V1_real - V1_known\n",
    "#          - I_real - I_known\n",
    " "
   ]
  },
  {
   "cell_type": "code",
   "execution_count": 4,
   "metadata": {},
   "outputs": [
    {
     "ename": "TypeError",
     "evalue": "__init__() missing 1 required positional argument: 'snitch_rate'",
     "output_type": "error",
     "traceback": [
      "\u001b[1;31m---------------------------------------------------------------------------\u001b[0m",
      "\u001b[1;31mTypeError\u001b[0m                                 Traceback (most recent call last)",
      "\u001b[1;32m<ipython-input-4-d2f945313a29>\u001b[0m in \u001b[0;36m<module>\u001b[1;34m\u001b[0m\n\u001b[0;32m     11\u001b[0m     \u001b[0mI\u001b[0m \u001b[1;33m=\u001b[0m \u001b[0mlist\u001b[0m\u001b[1;33m(\u001b[0m\u001b[0mI\u001b[0m\u001b[1;33m)\u001b[0m\u001b[1;33m\u001b[0m\u001b[1;33m\u001b[0m\u001b[0m\n\u001b[0;32m     12\u001b[0m \u001b[1;33m\u001b[0m\u001b[0m\n\u001b[1;32m---> 13\u001b[1;33m \u001b[0mstate\u001b[0m \u001b[1;33m=\u001b[0m \u001b[0mSimulationState\u001b[0m\u001b[1;33m(\u001b[0m\u001b[0mG\u001b[0m\u001b[1;33m,\u001b[0m \u001b[1;33m(\u001b[0m\u001b[0mS\u001b[0m\u001b[1;33m,\u001b[0m \u001b[0mI\u001b[0m\u001b[1;33m,\u001b[0m \u001b[0mR\u001b[0m\u001b[1;33m)\u001b[0m\u001b[1;33m,\u001b[0m \u001b[1;33m(\u001b[0m\u001b[0mS\u001b[0m\u001b[1;33m,\u001b[0m \u001b[0mI\u001b[0m\u001b[1;33m,\u001b[0m \u001b[0mR\u001b[0m\u001b[1;33m)\u001b[0m\u001b[1;33m,\u001b[0m \u001b[1;36m2000\u001b[0m\u001b[1;33m,\u001b[0m \u001b[1;36m1\u001b[0m\u001b[1;33m,\u001b[0m \u001b[1;36m1\u001b[0m\u001b[1;33m,\u001b[0m \u001b[1;36m0\u001b[0m\u001b[1;33m,\u001b[0m \u001b[1;36m.8\u001b[0m\u001b[1;33m,\u001b[0m \u001b[1;36m.8\u001b[0m\u001b[1;33m)\u001b[0m\u001b[1;33m\u001b[0m\u001b[1;33m\u001b[0m\u001b[0m\n\u001b[0m",
      "\u001b[1;31mTypeError\u001b[0m: __init__() missing 1 required positional argument: 'snitch_rate'"
     ]
    }
   ],
   "source": [
    "G = load_graph(\"montgomery\")\n",
    "I = set()\n",
    "with open(PROJECT_ROOT / \"data\" / \"SIR_Cache\" / \"t7.json\", 'r') as infile:\n",
    "    \n",
    "    j = json.load(infile)\n",
    "    (S, infected_queue, R) = (j[\"S\"], j[\"I_Queue\"], j[\"R\"])\n",
    "\n",
    "    # Make infected_queue a list of sets\n",
    "    infected_queue = [set(s) for s in infected_queue]\n",
    "    I = I.union(*infected_queue)\n",
    "    I = list(I)\n",
    "    \n",
    "state = SimulationState(G, (S, I, R), (S, I, R), 2000, 0.078, 1, 0, .8, .8)"
   ]
  },
  {
   "cell_type": "code",
   "execution_count": null,
   "metadata": {},
   "outputs": [],
   "source": [
    "agent = DegGreedy\n",
    "information_loss_V1 = 0\n",
    "information_loss_V2 = 0\n",
    "information_loss_I = 0\n",
    "while len(state.SIR_real.SIR[1]) != 0:\n",
    "    to_quarantine = agent(state)\n",
    "    state.step(to_quarantine)\n",
    "    \n",
    "    V1_real = state.SIR_real.V1\n",
    "    V1_known = state.SIR_known.V1\n",
    "    V2_real = state.SIR_real.V2\n",
    "    V2_known = state.SIR_known.V2\n",
    "    I_real = set(state.SIR_real.I)\n",
    "    I_known = set(state.SIR_known.I)\n",
    "    \n",
    "    information_loss_V1 += len(V1_real-V1_known)\n",
    "    information_loss_V2 += len(V2_real-V2_known)\n",
    "    information_loss_I += len(I_real-I_known)\n",
    "\n",
    "print(information_loss_V1, information_loss_V2, information_loss_I)"
   ]
  },
  {
   "cell_type": "code",
   "execution_count": 16,
   "metadata": {},
   "outputs": [],
   "source": [
    "G.nodes[1]['quarantine'] = 1"
   ]
  },
  {
   "cell_type": "code",
   "execution_count": 17,
   "metadata": {},
   "outputs": [
    {
     "data": {
      "text/plain": [
       "1"
      ]
     },
     "execution_count": 17,
     "metadata": {},
     "output_type": "execute_result"
    }
   ],
   "source": [
    "G.nodes[1]['quarantine']\n"
   ]
  },
  {
   "cell_type": "code",
   "execution_count": 18,
   "metadata": {},
   "outputs": [
    {
     "ename": "KeyError",
     "evalue": "'happy'",
     "output_type": "error",
     "traceback": [
      "\u001b[1;31m---------------------------------------------------------------------------\u001b[0m",
      "\u001b[1;31mKeyError\u001b[0m                                  Traceback (most recent call last)",
      "\u001b[1;32m<ipython-input-18-6db5176e9cb4>\u001b[0m in \u001b[0;36m<module>\u001b[1;34m\u001b[0m\n\u001b[1;32m----> 1\u001b[1;33m \u001b[0mG\u001b[0m\u001b[1;33m.\u001b[0m\u001b[0mnodes\u001b[0m\u001b[1;33m[\u001b[0m\u001b[1;36m1\u001b[0m\u001b[1;33m]\u001b[0m\u001b[1;33m[\u001b[0m\u001b[1;34m'happy'\u001b[0m\u001b[1;33m]\u001b[0m\u001b[1;33m\u001b[0m\u001b[1;33m\u001b[0m\u001b[0m\n\u001b[0m",
      "\u001b[1;31mKeyError\u001b[0m: 'happy'"
     ]
    }
   ],
   "source": [
    "G.nodes[1]['happy']"
   ]
  },
  {
   "cell_type": "code",
   "execution_count": 415,
   "metadata": {},
   "outputs": [],
   "source": [
    "quarantine_list = [1 if node%2==0 else 0 for node in G.nodes]"
   ]
  },
  {
   "cell_type": "code",
   "execution_count": 47,
   "metadata": {},
   "outputs": [],
   "source": [
    "G = load_graph(\"montgomery\")\n",
    "I = set()\n",
    "with open(PROJECT_ROOT / \"data\" / \"SIR_Cache\" / \"t7.json\", 'r') as infile:\n",
    "    \n",
    "    j = json.load(infile)\n",
    "    (S, infected_queue, R) = (j[\"S\"], j[\"I_Queue\"], j[\"R\"])\n",
    "    infected_queue = [set(s) for s in infected_queue]\n",
    "    I = I.union(*infected_queue)\n",
    "    I = list(I)\n",
    "    \n",
    "state = SimulationState(G, (S, I, R), (S, I, R), 2000, 0.078, [1 for i in range(len(G.nodes()))], True, 0, .8, .8)"
   ]
  },
  {
   "cell_type": "code",
   "execution_count": 48,
   "metadata": {},
   "outputs": [
    {
     "ename": "KeyError",
     "evalue": "'hid'",
     "output_type": "error",
     "traceback": [
      "\u001b[1;31m---------------------------------------------------------------------------\u001b[0m",
      "\u001b[1;31mKeyError\u001b[0m                                  Traceback (most recent call last)",
      "\u001b[1;32m<ipython-input-48-b4f1dc357818>\u001b[0m in \u001b[0;36m<module>\u001b[1;34m\u001b[0m\n\u001b[0;32m      5\u001b[0m     \u001b[0minfections\u001b[0m\u001b[1;33m.\u001b[0m\u001b[0mappend\u001b[0m\u001b[1;33m(\u001b[0m\u001b[0mlen\u001b[0m\u001b[1;33m(\u001b[0m\u001b[0mstate\u001b[0m\u001b[1;33m.\u001b[0m\u001b[0mSIR_real\u001b[0m\u001b[1;33m.\u001b[0m\u001b[0mSIR\u001b[0m\u001b[1;33m[\u001b[0m\u001b[1;36m2\u001b[0m\u001b[1;33m]\u001b[0m\u001b[1;33m)\u001b[0m\u001b[1;33m)\u001b[0m\u001b[1;33m\u001b[0m\u001b[1;33m\u001b[0m\u001b[0m\n\u001b[0;32m      6\u001b[0m     \u001b[0mto_quarantine\u001b[0m \u001b[1;33m=\u001b[0m \u001b[0mDegGreedy\u001b[0m\u001b[1;33m(\u001b[0m\u001b[0mstate\u001b[0m\u001b[1;33m)\u001b[0m\u001b[1;33m\u001b[0m\u001b[1;33m\u001b[0m\u001b[0m\n\u001b[1;32m----> 7\u001b[1;33m     \u001b[0mstate\u001b[0m\u001b[1;33m.\u001b[0m\u001b[0mstep\u001b[0m\u001b[1;33m(\u001b[0m\u001b[0mto_quarantine\u001b[0m\u001b[1;33m)\u001b[0m\u001b[1;33m\u001b[0m\u001b[1;33m\u001b[0m\u001b[0m\n\u001b[0m\u001b[0;32m      8\u001b[0m \u001b[0minfections\u001b[0m\u001b[1;33m.\u001b[0m\u001b[0mappend\u001b[0m\u001b[1;33m(\u001b[0m\u001b[0mlen\u001b[0m\u001b[1;33m(\u001b[0m\u001b[0mstate\u001b[0m\u001b[1;33m.\u001b[0m\u001b[0mSIR_real\u001b[0m\u001b[1;33m.\u001b[0m\u001b[0mSIR\u001b[0m\u001b[1;33m[\u001b[0m\u001b[1;36m2\u001b[0m\u001b[1;33m]\u001b[0m\u001b[1;33m)\u001b[0m\u001b[1;33m)\u001b[0m\u001b[1;33m\u001b[0m\u001b[1;33m\u001b[0m\u001b[0m\n\u001b[0;32m      9\u001b[0m \u001b[0mprint\u001b[0m\u001b[1;33m(\u001b[0m\u001b[0minfections\u001b[0m\u001b[1;33m)\u001b[0m\u001b[1;33m\u001b[0m\u001b[1;33m\u001b[0m\u001b[0m\n",
      "\u001b[1;32mc:\\users\\al146\\contacttracing\\ctrace\\simulation.py\u001b[0m in \u001b[0;36mstep\u001b[1;34m(self, to_quarantine)\u001b[0m\n\u001b[0;32m     94\u001b[0m                 \u001b[1;32mreturn\u001b[0m \u001b[1;33m(\u001b[0m\u001b[0mG\u001b[0m\u001b[1;33m[\u001b[0m\u001b[0mu\u001b[0m\u001b[1;33m]\u001b[0m\u001b[1;33m[\u001b[0m\u001b[0mv\u001b[0m\u001b[1;33m]\u001b[0m\u001b[1;33m[\u001b[0m\u001b[1;34m'compliance_transmission'\u001b[0m\u001b[1;33m]\u001b[0m\u001b[1;33m[\u001b[0m\u001b[0mu\u001b[0m\u001b[1;33m]\u001b[0m\u001b[1;33m[\u001b[0m\u001b[1;36m0\u001b[0m\u001b[1;33m]\u001b[0m \u001b[1;33m*\u001b[0m \u001b[0mG\u001b[0m\u001b[1;33m[\u001b[0m\u001b[0mu\u001b[0m\u001b[1;33m]\u001b[0m\u001b[1;33m[\u001b[0m\u001b[0mv\u001b[0m\u001b[1;33m]\u001b[0m\u001b[1;33m[\u001b[0m\u001b[1;34m'compliance_transmission'\u001b[0m\u001b[1;33m]\u001b[0m\u001b[1;33m[\u001b[0m\u001b[0mu\u001b[0m\u001b[1;33m]\u001b[0m\u001b[1;33m[\u001b[0m\u001b[1;36m1\u001b[0m\u001b[1;33m]\u001b[0m\u001b[1;33m)\u001b[0m\u001b[1;33m\u001b[0m\u001b[1;33m\u001b[0m\u001b[0m\n\u001b[0;32m     95\u001b[0m \u001b[1;33m\u001b[0m\u001b[0m\n\u001b[1;32m---> 96\u001b[1;33m         \u001b[0mfull_data\u001b[0m \u001b[1;33m=\u001b[0m \u001b[0mEoN\u001b[0m\u001b[1;33m.\u001b[0m\u001b[0mdiscrete_SIR\u001b[0m\u001b[1;33m(\u001b[0m\u001b[0mG\u001b[0m \u001b[1;33m=\u001b[0m \u001b[0mself\u001b[0m\u001b[1;33m.\u001b[0m\u001b[0mG\u001b[0m\u001b[1;33m,\u001b[0m \u001b[0mtest_transmission\u001b[0m \u001b[1;33m=\u001b[0m \u001b[0medge_transmission\u001b[0m\u001b[1;33m,\u001b[0m \u001b[0margs\u001b[0m \u001b[1;33m=\u001b[0m \u001b[1;33m(\u001b[0m\u001b[0mself\u001b[0m\u001b[1;33m.\u001b[0m\u001b[0mG\u001b[0m\u001b[1;33m,\u001b[0m\u001b[1;33m)\u001b[0m\u001b[1;33m,\u001b[0m \u001b[0minitial_infecteds\u001b[0m\u001b[1;33m=\u001b[0m\u001b[0mself\u001b[0m\u001b[1;33m.\u001b[0m\u001b[0mSIR_real\u001b[0m\u001b[1;33m.\u001b[0m\u001b[0mSIR\u001b[0m\u001b[1;33m[\u001b[0m\u001b[1;36m1\u001b[0m\u001b[1;33m]\u001b[0m\u001b[1;33m,\u001b[0m \u001b[0minitial_recovereds\u001b[0m\u001b[1;33m=\u001b[0m\u001b[0mself\u001b[0m\u001b[1;33m.\u001b[0m\u001b[0mSIR_real\u001b[0m\u001b[1;33m.\u001b[0m\u001b[0mSIR\u001b[0m\u001b[1;33m[\u001b[0m\u001b[1;36m2\u001b[0m\u001b[1;33m]\u001b[0m\u001b[1;33m,\u001b[0m \u001b[0mtmin\u001b[0m\u001b[1;33m=\u001b[0m\u001b[1;36m0\u001b[0m\u001b[1;33m,\u001b[0m \u001b[0mtmax\u001b[0m\u001b[1;33m=\u001b[0m\u001b[1;36m1\u001b[0m\u001b[1;33m,\u001b[0m \u001b[0mreturn_full_data\u001b[0m\u001b[1;33m=\u001b[0m\u001b[1;32mTrue\u001b[0m\u001b[1;33m)\u001b[0m\u001b[1;33m\u001b[0m\u001b[1;33m\u001b[0m\u001b[0m\n\u001b[0m\u001b[0;32m     97\u001b[0m \u001b[1;33m\u001b[0m\u001b[0m\n\u001b[0;32m     98\u001b[0m         \u001b[0mS\u001b[0m \u001b[1;33m=\u001b[0m \u001b[1;33m[\u001b[0m\u001b[0mk\u001b[0m \u001b[1;32mfor\u001b[0m \u001b[1;33m(\u001b[0m\u001b[0mk\u001b[0m\u001b[1;33m,\u001b[0m \u001b[0mv\u001b[0m\u001b[1;33m)\u001b[0m \u001b[1;32min\u001b[0m \u001b[0mfull_data\u001b[0m\u001b[1;33m.\u001b[0m\u001b[0mget_statuses\u001b[0m\u001b[1;33m(\u001b[0m\u001b[0mtime\u001b[0m\u001b[1;33m=\u001b[0m\u001b[1;36m1\u001b[0m\u001b[1;33m)\u001b[0m\u001b[1;33m.\u001b[0m\u001b[0mitems\u001b[0m\u001b[1;33m(\u001b[0m\u001b[1;33m)\u001b[0m \u001b[1;32mif\u001b[0m \u001b[0mv\u001b[0m \u001b[1;33m==\u001b[0m \u001b[1;34m'S'\u001b[0m\u001b[1;33m]\u001b[0m\u001b[1;33m\u001b[0m\u001b[1;33m\u001b[0m\u001b[0m\n",
      "\u001b[1;32m~\\miniconda3\\envs\\tracing\\lib\\site-packages\\EoN\\simulation.py\u001b[0m in \u001b[0;36mdiscrete_SIR\u001b[1;34m(G, test_transmission, args, initial_infecteds, initial_recovereds, rho, tmin, tmax, return_full_data, sim_kwargs)\u001b[0m\n\u001b[0;32m    598\u001b[0m         \u001b[1;32mfor\u001b[0m \u001b[0mu\u001b[0m \u001b[1;32min\u001b[0m \u001b[0minfecteds\u001b[0m\u001b[1;33m:\u001b[0m\u001b[1;33m\u001b[0m\u001b[1;33m\u001b[0m\u001b[0m\n\u001b[0;32m    599\u001b[0m             \u001b[1;32mfor\u001b[0m \u001b[0mv\u001b[0m \u001b[1;32min\u001b[0m \u001b[0mG\u001b[0m\u001b[1;33m.\u001b[0m\u001b[0mneighbors\u001b[0m\u001b[1;33m(\u001b[0m\u001b[0mu\u001b[0m\u001b[1;33m)\u001b[0m\u001b[1;33m:\u001b[0m\u001b[1;33m\u001b[0m\u001b[1;33m\u001b[0m\u001b[0m\n\u001b[1;32m--> 600\u001b[1;33m                 \u001b[1;32mif\u001b[0m \u001b[0msusceptible\u001b[0m\u001b[1;33m[\u001b[0m\u001b[0mv\u001b[0m\u001b[1;33m]\u001b[0m \u001b[1;32mand\u001b[0m \u001b[0mtest_transmission\u001b[0m\u001b[1;33m(\u001b[0m\u001b[0mu\u001b[0m\u001b[1;33m,\u001b[0m \u001b[0mv\u001b[0m\u001b[1;33m,\u001b[0m \u001b[1;33m*\u001b[0m\u001b[0margs\u001b[0m\u001b[1;33m)\u001b[0m\u001b[1;33m:\u001b[0m\u001b[1;33m\u001b[0m\u001b[1;33m\u001b[0m\u001b[0m\n\u001b[0m\u001b[0;32m    601\u001b[0m                     \u001b[0mnew_infecteds\u001b[0m\u001b[1;33m.\u001b[0m\u001b[0madd\u001b[0m\u001b[1;33m(\u001b[0m\u001b[0mv\u001b[0m\u001b[1;33m)\u001b[0m\u001b[1;33m\u001b[0m\u001b[1;33m\u001b[0m\u001b[0m\n\u001b[0;32m    602\u001b[0m                     \u001b[0msusceptible\u001b[0m\u001b[1;33m[\u001b[0m\u001b[0mv\u001b[0m\u001b[1;33m]\u001b[0m \u001b[1;33m=\u001b[0m \u001b[1;32mFalse\u001b[0m\u001b[1;33m\u001b[0m\u001b[1;33m\u001b[0m\u001b[0m\n",
      "\u001b[1;32mc:\\users\\al146\\contacttracing\\ctrace\\simulation.py\u001b[0m in \u001b[0;36medge_transmission\u001b[1;34m(u, v, G)\u001b[0m\n\u001b[0;32m     88\u001b[0m             \u001b[1;31m#update quarantined with to_quarantine\u001b[0m\u001b[1;33m\u001b[0m\u001b[1;33m\u001b[0m\u001b[1;33m\u001b[0m\u001b[0m\n\u001b[0;32m     89\u001b[0m         \u001b[1;32mdef\u001b[0m \u001b[0medge_transmission\u001b[0m\u001b[1;33m(\u001b[0m\u001b[0mu\u001b[0m\u001b[1;33m,\u001b[0m \u001b[0mv\u001b[0m\u001b[1;33m,\u001b[0m \u001b[0mG\u001b[0m\u001b[1;33m)\u001b[0m\u001b[1;33m:\u001b[0m\u001b[1;33m\u001b[0m\u001b[1;33m\u001b[0m\u001b[0m\n\u001b[1;32m---> 90\u001b[1;33m             \u001b[1;32mif\u001b[0m \u001b[1;33m(\u001b[0m\u001b[0mG\u001b[0m\u001b[1;33m.\u001b[0m\u001b[0mnodes\u001b[0m\u001b[1;33m[\u001b[0m\u001b[0mu\u001b[0m\u001b[1;33m]\u001b[0m\u001b[1;33m[\u001b[0m\u001b[1;34m'quarantine'\u001b[0m\u001b[1;33m]\u001b[0m \u001b[1;33m==\u001b[0m \u001b[1;36m1\u001b[0m \u001b[1;32mor\u001b[0m \u001b[0mG\u001b[0m\u001b[1;33m.\u001b[0m\u001b[0mnodes\u001b[0m\u001b[1;33m[\u001b[0m\u001b[0mv\u001b[0m\u001b[1;33m]\u001b[0m\u001b[1;33m[\u001b[0m\u001b[1;34m'quarantine'\u001b[0m\u001b[1;33m]\u001b[0m \u001b[1;33m==\u001b[0m \u001b[1;36m1\u001b[0m\u001b[1;33m)\u001b[0m \u001b[1;32mand\u001b[0m \u001b[1;33m(\u001b[0m\u001b[0mG\u001b[0m\u001b[1;33m.\u001b[0m\u001b[0mnodes\u001b[0m\u001b[1;33m[\u001b[0m\u001b[0mu\u001b[0m\u001b[1;33m]\u001b[0m\u001b[1;33m[\u001b[0m\u001b[1;34m'hid'\u001b[0m\u001b[1;33m]\u001b[0m \u001b[1;33m!=\u001b[0m \u001b[0mG\u001b[0m\u001b[1;33m.\u001b[0m\u001b[0mnodes\u001b[0m\u001b[1;33m[\u001b[0m\u001b[0mv\u001b[0m\u001b[1;33m]\u001b[0m\u001b[1;33m[\u001b[0m\u001b[1;34m'hid'\u001b[0m\u001b[1;33m]\u001b[0m\u001b[1;33m)\u001b[0m\u001b[1;33m:\u001b[0m\u001b[1;33m\u001b[0m\u001b[1;33m\u001b[0m\u001b[0m\n\u001b[0m\u001b[0;32m     91\u001b[0m                 \u001b[1;32mreturn\u001b[0m \u001b[1;36m0\u001b[0m\u001b[1;33m\u001b[0m\u001b[1;33m\u001b[0m\u001b[0m\n\u001b[0;32m     92\u001b[0m             \u001b[1;32melse\u001b[0m\u001b[1;33m:\u001b[0m\u001b[1;33m\u001b[0m\u001b[1;33m\u001b[0m\u001b[0m\n",
      "\u001b[1;31mKeyError\u001b[0m: 'hid'"
     ]
    }
   ],
   "source": [
    "infections = []\n",
    "total = []\n",
    "while(len(state.SIR_real.SIR[1])!=0):\n",
    "    infections.append(len(state.SIR_real.SIR[1]))\n",
    "    infections.append(len(state.SIR_real.SIR[2]))\n",
    "    to_quarantine = DegGreedy(state)\n",
    "    state.step(to_quarantine)\n",
    "infections.append(len(state.SIR_real.SIR[2]))\n",
    "print(infections)\n",
    "print(total)"
   ]
  },
  {
   "cell_type": "code",
   "execution_count": 11,
   "metadata": {},
   "outputs": [],
   "source": [
    "G = nx.Graph()\n",
    "G.NAME = \"cville\"\n",
    "nodes = {}\n",
    "rev_nodes = []\n",
    "cnode_to_labels = {}\n",
    "\n",
    "file = open(PROJECT_ROOT / \"data/raw/charlottesville.txt\", \"r\")\n",
    "file.readline()\n",
    "lines = file.readlines()\n",
    "c = 0\n",
    "c_node=0\n",
    "#ma = 0\n",
    "#mi = 100000000\n",
    "\n",
    "labels_df = pd.read_csv(PROJECT_ROOT/\"data/raw/cville/cville_labels.txt\")\n",
    "labels_df = labels_df[[\"pid\", \"hid\"]]\n",
    "labels_dict = {}\n",
    "for index, ids in labels_df.iterrows():\n",
    "    labels_dict[ids[\"pid\"].item()] = ids[\"hid\"].item()\n",
    "\n",
    "for line in lines:\n",
    "\n",
    "    a = line.split()\n",
    "    u = int(a[1])\n",
    "    v = int(a[2])\n",
    "\n",
    "    if u in nodes.keys():\n",
    "        u = nodes[u]\n",
    "    else:\n",
    "        nodes[u] = c_node\n",
    "        rev_nodes.append(u)\n",
    "        cnode_to_labels[c_node] = labels_dict[u];\n",
    "        u = c_node\n",
    "        c_node+=1        \n",
    "\n",
    "    if v in nodes.keys():\n",
    "        v = nodes[v]\n",
    "    else:\n",
    "        nodes[v] = c_node\n",
    "        rev_nodes.append(v)\n",
    "        cnode_to_labels[c_node] = labels_dict[v];\n",
    "        v = c_node\n",
    "        c_node+=1\n",
    "\n",
    "    G.add_edge(u,v)\n",
    "\n",
    "nx.set_node_attributes(G, cnode_to_labels, 'hid')\n"
   ]
  },
  {
   "cell_type": "code",
   "execution_count": 28,
   "metadata": {},
   "outputs": [],
   "source": [
    "I = set()\n",
    "with open(PROJECT_ROOT / \"data\" / \"SIR_Cache\" / \"a6.json\", 'r') as infile:\n",
    "        j = json.load(infile)\n",
    "\n",
    "        (S, infected_queue, R) = (j[\"S\"], j[\"I_Queue\"], j[\"R\"])\n",
    "\n",
    "        # Make infected_queue a list of sets\n",
    "        infected_queue = [set(s) for s in infected_queue]\n",
    "        I = I.union(*infected_queue)\n",
    "        I = list(I)\n",
    "\n",
    "#state = SimulationState(G, (S, I, R), (S, I, R), 2000, 0.06, [1 for i in range(len(G.nodes))], False, 0, 1, 1)\n",
    "G = load_graph_hid_duration()\n",
    "state = SimulationState(G, (S, I, R), (S, I, R), 2000, 0.075, [1 for i in range(len(G.nodes))], True, 0, 1, 1)"
   ]
  },
  {
   "cell_type": "code",
   "execution_count": 29,
   "metadata": {},
   "outputs": [
    {
     "name": "stdout",
     "output_type": "stream",
     "text": [
      "3153\n",
      "7328\n",
      "13406\n",
      "20245\n",
      "27916\n",
      "35800\n",
      "42801\n",
      "47955\n",
      "51341\n",
      "53239\n",
      "54126\n",
      "54493\n",
      "54808\n",
      "55251\n",
      "55751\n",
      "56219\n",
      "56633\n",
      "56972\n",
      "57181\n",
      "57315\n",
      "57406\n",
      "57458\n",
      "57490\n",
      "57510\n",
      "57525\n",
      "57537\n",
      "57544\n",
      "57549\n",
      "57550\n"
     ]
    }
   ],
   "source": [
    "infections = []\n",
    "total = []\n",
    "while len(state.SIR_real.SIR[1]) != 0:\n",
    "    infections.append(len(state.SIR_real.SIR[1]))\n",
    "    total.append(len(state.SIR_real.SIR[2]))\n",
    "    to_quarantine = DegGreedy(state)\n",
    "    state.step(to_quarantine)\n",
    "    #state.step(set())\n",
    "    print(len(state.SIR_real.SIR[2]))\n",
    "    #state.step(set())\n",
    "total.append(len(state.SIR_real.SIR[2]))"
   ]
  },
  {
   "cell_type": "code",
   "execution_count": 30,
   "metadata": {},
   "outputs": [
    {
     "name": "stdout",
     "output_type": "stream",
     "text": [
      "21\n",
      "30\n"
     ]
    }
   ],
   "source": [
    "infections.append(0)\n",
    "prev = [1376, 3153, 7221, 14713, 25604, 37323, 47127, 54024, 58397, 60789, 62100, 62739, 63055, 63213, 63293, 63328, 63352, 63366, 63374, 63376, 63378]\n",
    "print(len(prev))\n",
    "print(len(total))"
   ]
  },
  {
   "cell_type": "code",
   "execution_count": 22,
   "metadata": {},
   "outputs": [
    {
     "data": {
      "text/plain": [
       "[<matplotlib.lines.Line2D at 0x7f7ff84e5b20>]"
      ]
     },
     "execution_count": 22,
     "metadata": {},
     "output_type": "execute_result"
    },
    {
     "data": {
      "image/png": "[encoded data removed]",
      "text/plain": [
       "<Figure size 432x288 with 1 Axes>"
      ]
     },
     "metadata": {
      "needs_background": "light"
     },
     "output_type": "display_data"
    }
   ],
   "source": [
    "plt.plot(infections)\n",
    "plt.plot(total)"
   ]
  },
  {
   "cell_type": "code",
   "execution_count": 18,
   "metadata": {},
   "outputs": [
    {
     "name": "stdout",
     "output_type": "stream",
     "text": [
      "131219\n"
     ]
    }
   ],
   "source": [
    "print(len(G.nodes))"
   ]
  },
  {
   "cell_type": "code",
   "execution_count": 3,
   "metadata": {},
   "outputs": [
    {
     "name": "stdout",
     "output_type": "stream",
     "text": [
      "({0, 3, 4}, set())\n",
      "(set(), set())\n"
     ]
    }
   ],
   "source": [
    "G_fun = nx.Graph()\n",
    "G_fun.add_nodes_from([i for i in range(0, 5)])\n",
    "G_fun.add_edges_from([(0, 2), (1, 3), (2, 1), (3, 4), (4, 2)])\n",
    "quart = []\n",
    "hid = []\n",
    "edge = []\n",
    "nx.set_node_attributes(G_fun, quart, \"quarantine\")\n",
    "nx.set_node_attributes(G_fun, hid, \"hid\")\n",
    "nx.set_edge_attributes(G_fun, edge, \"compliance_transmission\")\n",
    "\n",
    "G_fun[1][2][\"compliance_transmission\"] = {1: (1, 0.078), 2: (0, 0.078)}\n",
    "G_fun[1][3][\"compliance_transmission\"] = {1: (0, 0.078), 3: (0, 0.078)}\n",
    "\n",
    "G_fun.nodes[0][\"quarantine\"] = 0\n",
    "G_fun.nodes[1][\"quarantine\"] = 1\n",
    "G_fun.nodes[2][\"quarantine\"] = 0\n",
    "G_fun.nodes[3][\"quarantine\"] = 0\n",
    "G_fun.nodes[4][\"quarantine\"] = 0\n",
    "\n",
    "G_fun.nodes[0][\"hid\"] = 1\n",
    "G_fun.nodes[1][\"hid\"] = 2\n",
    "G_fun.nodes[2][\"hid\"] = 0\n",
    "G_fun.nodes[3][\"hid\"] = 3\n",
    "G_fun.nodes[4][\"hid\"] = 4\n",
    "\n",
    "print(find_excluded_contours(G_fun, [1, 2], [], True))\n",
    "print(find_excluded_contours(G_fun, [1], [], False))"
   ]
  },
  {
   "cell_type": "code",
   "execution_count": 23,
   "metadata": {},
   "outputs": [
    {
     "data": {
      "text/plain": [
       "0"
      ]
     },
     "execution_count": 23,
     "metadata": {},
     "output_type": "execute_result"
    }
   ],
   "source": [
    "math.prod(i for i in range(0, 10))"
   ]
  },
  {
   "cell_type": "code",
   "execution_count": 4,
   "metadata": {},
   "outputs": [
    {
     "name": "stdout",
     "output_type": "stream",
     "text": [
      "({}, {})\n"
     ]
    }
   ],
   "source": [
    "print(pq_independent_edges(G_fun, [], [], []))"
   ]
  },
  {
   "cell_type": "code",
   "execution_count": 4,
   "metadata": {},
   "outputs": [],
   "source": [
    "G = load_graph_hid_duration()"
   ]
  },
  {
   "cell_type": "code",
   "execution_count": 11,
   "metadata": {},
   "outputs": [
    {
     "data": {
      "text/plain": [
       "(array([713388., 231361., 254051., 105900.,  36927.,  41732.,  17562.,\n",
       "          7290.,   7576.,   7364.]),\n",
       " array([  3600. ,  20519.8,  37439.6,  54359.4,  71279.2,  88199. ,\n",
       "        105118.8, 122038.6, 138958.4, 155878.2, 172798. ]),\n",
       " <BarContainer object of 10 artists>)"
      ]
     },
     "execution_count": 11,
     "metadata": {},
     "output_type": "execute_result"
    },
    {
     "data": {
      "image/png": "[encoded data removed]",
      "text/plain": [
       "<Figure size 432x288 with 1 Axes>"
      ]
     },
     "metadata": {
      "needs_background": "light"
     },
     "output_type": "display_data"
    }
   ],
   "source": [
    "plt.hist(nx.get_edge_attributes(G, \"duration\").values())"
   ]
  },
  {
   "cell_type": "code",
   "execution_count": 5,
   "metadata": {},
   "outputs": [],
   "source": [
    "transmission_rate = 0.078\n",
    "min_duration = min(nx.get_edge_attributes(G, \"duration\").values())\n",
    "max_duration = max(nx.get_edge_attributes(G, \"duration\").values())\n",
    "mean_duration = sum(nx.get_edge_attributes(G, \"duration\").values())/len(nx.get_edge_attributes(G, \"duration\"))\n",
    "lambda_cdf = -math.log(1-transmission_rate)/mean_duration\n",
    "exponential_cdf = lambda x: 1-math.exp(-lambda_cdf*x)\n",
    "#mean_duration_scaled = -math.log(1-transmission_rate)*transmission_rate\n",
    "#range_duration_scaled = mean_duration_scaled * 2\n",
    "#normalize = lambda x: (x-mean_duration)/(max_duration-min_duration)*(range_duration_scaled) + mean_duration_scaled"
   ]
  },
  {
   "cell_type": "code",
   "execution_count": 6,
   "metadata": {},
   "outputs": [
    {
     "name": "stdout",
     "output_type": "stream",
     "text": [
      "0.00947674974905699\n",
      "0.3668499403669062\n"
     ]
    }
   ],
   "source": [
    "\n",
    "normalized = []\n",
    "cdf = []\n",
    "edges = []\n",
    "for i in nx.get_edge_attributes(G, \"duration\").values():\n",
    "    edges.append(i)\n",
    "    cdf.append(exponential_cdf(i))\n",
    "    #normalized.append(normalize(i))\n",
    "    #prob = exponential_cdf(normalize(i))\n",
    "    #cdf.append(prob)\n",
    "    #edges.append(i)\n",
    "print(min(cdf))\n",
    "print(max(cdf))"
   ]
  },
  {
   "cell_type": "code",
   "execution_count": 10,
   "metadata": {},
   "outputs": [
    {
     "name": "stdout",
     "output_type": "stream",
     "text": [
      "0.07533756032532807\n"
     ]
    },
    {
     "data": {
      "text/plain": [
       "(array([653531., 239385., 156323., 221835.,  49544.,  40790.,  32962.,\n",
       "         11291.,   8904.,   8586.]),\n",
       " array([0.00947675, 0.04521407, 0.08095139, 0.11668871, 0.15242603,\n",
       "        0.18816335, 0.22390066, 0.25963798, 0.2953753 , 0.33111262,\n",
       "        0.36684994]),\n",
       " <BarContainer object of 10 artists>)"
      ]
     },
     "execution_count": 10,
     "metadata": {},
     "output_type": "execute_result"
    },
    {
     "data": {
      "image/png": "[encoded data removed]",
      "text/plain": [
       "<Figure size 432x288 with 1 Axes>"
      ]
     },
     "metadata": {
      "needs_background": "light"
     },
     "output_type": "display_data"
    }
   ],
   "source": [
    "print(sum(cdf)/len(cdf))\n",
    "plt.hist(cdf)"
   ]
  },
  {
   "cell_type": "code",
   "execution_count": 8,
   "metadata": {},
   "outputs": [
    {
     "data": {
      "text/plain": [
       "<matplotlib.collections.PathCollection at 0x7f8018d2ce20>"
      ]
     },
     "execution_count": 8,
     "metadata": {},
     "output_type": "execute_result"
    },
    {
     "data": {
      "image/png": "[encoded data removed]",
      "text/plain": [
       "<Figure size 432x288 with 1 Axes>"
      ]
     },
     "metadata": {
      "needs_background": "light"
     },
     "output_type": "display_data"
    }
   ],
   "source": [
    "plt.scatter(edges, cdf)"
   ]
  },
  {
   "cell_type": "code",
   "execution_count": 15,
   "metadata": {},
   "outputs": [
    {
     "name": "stdout",
     "output_type": "stream",
     "text": [
      "2.644983297843398e-06\n",
      "30703.428445751717\n",
      "172798\n",
      "3600\n"
     ]
    }
   ],
   "source": [
    "print(lambda_cdf)\n",
    "print(mean_duration)\n",
    "print(max_duration)\n",
    "print(min_duration)"
   ]
  }
 ],
 "metadata": {
  "kernelspec": {
   "display_name": "Python [conda env:.conda-tracing]",
   "language": "python",
   "name": "conda-env-.conda-tracing-py"
  },
  "language_info": {
   "codemirror_mode": {
    "name": "ipython",
    "version": 3
   },
   "file_extension": ".py",
   "mimetype": "text/x-python",
   "name": "python",
   "nbconvert_exporter": "python",
   "pygments_lexer": "ipython3",
   "version": "3.8.5"
  }
 },
 "nbformat": 4,
 "nbformat_minor": 4
}
