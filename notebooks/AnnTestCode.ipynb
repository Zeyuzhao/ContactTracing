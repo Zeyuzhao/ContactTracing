{
 "cells": [
  {
   "cell_type": "code",
   "execution_count": 5,
   "metadata": {
    "scrolled": true
   },
   "outputs": [],
   "source": [
    "%load_ext autoreload\n",
    "# Always reload modules so that as you change code in src, it gets loaded\n",
    "%autoreload 2\n",
    "\n",
    "import networkx as nx\n",
    "import matplotlib.pyplot as plt\n",
    "import pandas as pd\n",
    "import numpy as np\n",
    "import random\n",
    "import math\n",
    "import EoN\n",
    "import seaborn as sns\n",
    "import time\n",
    "\n",
    "# New Imports\n",
    "#from ctrace.contact_tracing import *\n",
    "#from ctrace.constraint import *\n",
    "#from ctrace.solve import *\n",
    "#from ctrace.simulation import *\n",
    "#from ctrace.restricted import *\n",
    "from ctrace.simulation import *\n",
    "from ctrace.dataset import *\n",
    "from ctrace.recommender import *"
   ]
  },
  {
   "cell_type": "code",
   "execution_count": 6,
   "metadata": {},
   "outputs": [
    {
     "data": {
      "text/plain": [
       "<AxesSubplot:>"
      ]
     },
     "execution_count": 6,
     "metadata": {},
     "output_type": "execute_result"
    },
    {
     "data": {
      "image/png": "[encoded data removed]",
      "text/plain": [
       "<Figure size 432x288 with 1 Axes>"
      ]
     },
     "metadata": {
      "needs_background": "light"
     },
     "output_type": "display_data"
    }
   ],
   "source": [
    "G = load_graph(\"montgomery\")\n",
    "#print(G.size())\n",
    "\n",
    "G_node = len(G.nodes)\n",
    "\n",
    "degree_dist = {}\n",
    "for (node, val) in G.degree():\n",
    "    if val in degree_dist:\n",
    "        degree_dist[val] += 1\n",
    "    else:\n",
    "        degree_dist[val] = 1\n",
    "\n",
    "df_degree = pd.DataFrame.from_dict(degree_dist, orient='index')\n",
    "df_degree.plot(kind = \"bar\")"
   ]
  },
  {
   "cell_type": "code",
   "execution_count": 8,
   "metadata": {},
   "outputs": [
    {
     "ename": "NetworkXError",
     "evalue": "Invalid degree sequence: tree must have number of nodes equal to one less than the number of edges",
     "output_type": "error",
     "traceback": [
      "\u001b[1;31m---------------------------------------------------------------------------\u001b[0m",
      "\u001b[1;31mNetworkXError\u001b[0m                             Traceback (most recent call last)",
      "\u001b[1;32m<ipython-input-8-504a47887de0>\u001b[0m in \u001b[0;36m<module>\u001b[1;34m\u001b[0m\n\u001b[0;32m      1\u001b[0m \u001b[0mdegree_sequence\u001b[0m \u001b[1;33m=\u001b[0m \u001b[1;33m[\u001b[0m\u001b[0mval\u001b[0m \u001b[1;32mfor\u001b[0m \u001b[1;33m(\u001b[0m\u001b[0mnode\u001b[0m\u001b[1;33m,\u001b[0m \u001b[0mval\u001b[0m\u001b[1;33m)\u001b[0m \u001b[1;32min\u001b[0m \u001b[0mG\u001b[0m\u001b[1;33m.\u001b[0m\u001b[0mdegree\u001b[0m\u001b[1;33m(\u001b[0m\u001b[1;33m)\u001b[0m\u001b[1;33m]\u001b[0m\u001b[1;33m\u001b[0m\u001b[1;33m\u001b[0m\u001b[0m\n\u001b[1;32m----> 2\u001b[1;33m \u001b[0mtree_dg\u001b[0m \u001b[1;33m=\u001b[0m \u001b[0mnx\u001b[0m\u001b[1;33m.\u001b[0m\u001b[0mdegree_sequence_tree\u001b[0m\u001b[1;33m(\u001b[0m\u001b[0mdegree_sequence\u001b[0m\u001b[1;33m)\u001b[0m\u001b[1;33m\u001b[0m\u001b[1;33m\u001b[0m\u001b[0m\n\u001b[0m\u001b[0;32m      3\u001b[0m \u001b[1;33m\u001b[0m\u001b[0m\n\u001b[0;32m      4\u001b[0m \u001b[0mprint\u001b[0m\u001b[1;33m(\u001b[0m\u001b[0mtree_dg\u001b[0m\u001b[1;33m.\u001b[0m\u001b[0msize\u001b[0m\u001b[1;33m(\u001b[0m\u001b[1;33m)\u001b[0m\u001b[1;33m)\u001b[0m\u001b[1;33m\u001b[0m\u001b[1;33m\u001b[0m\u001b[0m\n",
      "\u001b[1;32m~\\miniconda3\\envs\\tracing\\lib\\site-packages\\networkx\\generators\\degree_seq.py\u001b[0m in \u001b[0;36mdegree_sequence_tree\u001b[1;34m(deg_sequence, create_using)\u001b[0m\n\u001b[0;32m    659\u001b[0m             \u001b[1;34m\" to one less than the number of edges\"\u001b[0m\u001b[1;33m\u001b[0m\u001b[1;33m\u001b[0m\u001b[0m\n\u001b[0;32m    660\u001b[0m         )\n\u001b[1;32m--> 661\u001b[1;33m         \u001b[1;32mraise\u001b[0m \u001b[0mnx\u001b[0m\u001b[1;33m.\u001b[0m\u001b[0mNetworkXError\u001b[0m\u001b[1;33m(\u001b[0m\u001b[0mmsg\u001b[0m\u001b[1;33m)\u001b[0m\u001b[1;33m\u001b[0m\u001b[1;33m\u001b[0m\u001b[0m\n\u001b[0m\u001b[0;32m    662\u001b[0m     \u001b[0mG\u001b[0m \u001b[1;33m=\u001b[0m \u001b[0mnx\u001b[0m\u001b[1;33m.\u001b[0m\u001b[0mempty_graph\u001b[0m\u001b[1;33m(\u001b[0m\u001b[1;36m0\u001b[0m\u001b[1;33m,\u001b[0m \u001b[0mcreate_using\u001b[0m\u001b[1;33m)\u001b[0m\u001b[1;33m\u001b[0m\u001b[1;33m\u001b[0m\u001b[0m\n\u001b[0;32m    663\u001b[0m     \u001b[1;32mif\u001b[0m \u001b[0mG\u001b[0m\u001b[1;33m.\u001b[0m\u001b[0mis_directed\u001b[0m\u001b[1;33m(\u001b[0m\u001b[1;33m)\u001b[0m\u001b[1;33m:\u001b[0m\u001b[1;33m\u001b[0m\u001b[1;33m\u001b[0m\u001b[0m\n",
      "\u001b[1;31mNetworkXError\u001b[0m: Invalid degree sequence: tree must have number of nodes equal to one less than the number of edges"
     ]
    }
   ],
   "source": [
    "degree_sequence = [val for (node, val) in G.degree()]\n",
    "tree_dg = nx.degree_sequence_tree(degree_sequence)\n",
    "\n",
    "print(tree_dg.size())"
   ]
  },
  {
   "cell_type": "code",
   "execution_count": 6,
   "metadata": {
    "scrolled": true
   },
   "outputs": [],
   "source": [
    "I = set()\n",
    "#with open(PROJECT_ROOT / \"data\" / \"SIR_Cache\" / \"t7.json\", 'r') as infile:\n",
    "    \n",
    "#    j = json.load(infile)\n",
    "    #(S, infected_queue, R) = (j[\"S\"], j[\"I_Queue\"], j[\"R\"])\n",
    "\n",
    "    # Make infected_queue a list of sets\n",
    "    #infected_queue = [set(s) for s in infected_queue]\n",
    "    #I = I.union(*infected_queue)\n",
    "    #I = list(I)\n",
    "\n",
    "infected_size = 1000\n",
    "\n",
    "nodeList = list(G.nodes)\n",
    "\n",
    "I = {nodeList.index(random.randint(0, G_node-1)) for i in range(0, infected_size)}\n",
    "S = set(G.nodes) - I\n",
    "\n",
    "I_q = {nodeList.index(random.randint(0, G_node-1)) for i in range(0, infected_size)}\n",
    "S_q = set(G.nodes) - I_q"
   ]
  },
  {
   "cell_type": "code",
   "execution_count": 7,
   "metadata": {},
   "outputs": [],
   "source": [
    "state = SimulationState(G, (list(S), list(I), []), (list(S), list(I), []), 2000, 1, 1, 0, .8, .8)\n",
    "V2_o = state.SIR_real.V2"
   ]
  },
  {
   "cell_type": "code",
   "execution_count": 8,
   "metadata": {
    "scrolled": true
   },
   "outputs": [
    {
     "name": "stdout",
     "output_type": "stream",
     "text": [
      "No Quarantine Graph First Run\n",
      "--Intersection-----Union---\n",
      "V1:   30354\t43203\n",
      "V2:   11378\t24650\n",
      "I:   11453\t14330\n",
      "-----Ratio------\n",
      "V1:   0.7025900979098674\n",
      "V2:   0.4615821501014199\n",
      "I:   0.7992323796231682\n",
      "---Known Size----Real Size---\n",
      "V1:   32602\t40955\n",
      "V2:   21951\t14077\n",
      "I:   11453\t14330\n"
     ]
    }
   ],
   "source": [
    "#to_quarantine = DegGreedy(state)\n",
    "#state.step(to_quarantine)\n",
    "#state.step(set())\n",
    "\n",
    "V1_k = state.SIR_known.V1\n",
    "V1_r = state.SIR_real.V1\n",
    "\n",
    "V2_k = state.SIR_known.V2\n",
    "V2_r = state.SIR_real.V2\n",
    "\n",
    "I_k = set(state.SIR_known.SIR.I)\n",
    "I_r = set(state.SIR_real.SIR.I)\n",
    "\n",
    "print(\"No Quarantine Graph First Run\")\n",
    "print(\"--Intersection-----Union---\")\n",
    "print(\"V1:   \" + str(len(V1_k.intersection(V1_r))) + \"\\t\" + str(len(V1_k.union(V1_r))))\n",
    "print(\"V2:   \" + str(len(V2_k.intersection(V2_r))) + \"\\t\" + str(len(V2_k.union(V2_r))))\n",
    "print(\"I:   \" + str(len(I_k.intersection(I_r)))+ \"\\t\" + str(len(I_k.union(I_r))))\n",
    "print(\"-----Ratio------\")\n",
    "print(\"V1:   \" + str(len(V1_k.intersection(V1_r))/len(V1_k.union(V1_r))))\n",
    "print(\"V2:   \" + str(len(V2_k.intersection(V2_r))/len(V2_k.union(V2_r))))\n",
    "print(\"I:   \" + str(len(I_k.intersection(I_r))/len(I_k.union(I_r))))\n",
    "print(\"---Known Size----Real Size---\")\n",
    "print(\"V1:   \" + str(len(V1_k)) + \"\\t\" + str(len(V1_r)))\n",
    "print(\"V2:   \" + str(len(V2_k)) + \"\\t\" + str(len(V2_r)))\n",
    "print(\"I:   \" + str(len(I_k)) + \"\\t\" + str(len(I_r)))"
   ]
  },
  {
   "cell_type": "code",
   "execution_count": null,
   "metadata": {},
   "outputs": [],
   "source": [
    "state_q = SimulationState(G, (list(S_q), list(I_q), []), (list(S_q), list(I_q), []), 2000, 1, 1, 0, .8, .8)\n",
    "V2_qo = state_q.SIR_real.V2"
   ]
  },
  {
   "cell_type": "code",
   "execution_count": 9,
   "metadata": {},
   "outputs": [
    {
     "name": "stdout",
     "output_type": "stream",
     "text": [
      "Quarantine Graph First Run\n",
      "--Intersection-----Union---\n",
      "V1:   11157\t13963\n",
      "V2:   34913\t43778\n",
      "I:   997\t997\n",
      "-----Ratio------\n",
      "V1:   0.7990403208479553\n",
      "V2:   0.7975010279135639\n",
      "I:   1.0\n",
      "-----Size-------\n",
      "V1:   11157\t13963\n",
      "V2:   37643\t41048\n",
      "I:   997\t997\n"
     ]
    }
   ],
   "source": [
    "to_quarantine = DepRound(state_q)\n",
    "state.step(to_quarantine)\n",
    "\n",
    "V1_kq = state_q.SIR_known.V1\n",
    "V1_rq = state_q.SIR_real.V1\n",
    "\n",
    "V2_kq = state_q.SIR_known.V2\n",
    "V2_rq = state_q.SIR_real.V2\n",
    "\n",
    "I_kq = set(state_q.SIR_known.SIR.I)\n",
    "I_rq = set(state_q.SIR_real.SIR.I)\n",
    "\n",
    "print(\"Quarantine Graph First Run\")\n",
    "print(\"--Intersection-----Union---\")\n",
    "print(\"V1:   \" + str(len(V1_kq.intersection(V1_rq))) + \"\\t\" + str(len(V1_kq.union(V1_rq))))\n",
    "print(\"V2:   \" + str(len(V2_kq.intersection(V2_rq))) + \"\\t\" + str(len(V2_kq.union(V2_rq))))\n",
    "print(\"I:   \" + str(len(I_kq.intersection(I_rq)))+ \"\\t\" + str(len(I_kq.union(I_rq))))\n",
    "print(\"-----Ratio------\")\n",
    "print(\"V1:   \" + str(len(V1_kq.intersection(V1_rq))/len(V1_kq.union(V1_rq))))\n",
    "print(\"V2:   \" + str(len(V2_kq.intersection(V2_rq))/len(V2_kq.union(V2_rq))))\n",
    "print(\"I:   \" + str(len(I_kq.intersection(I_rq))/len(I_kq.union(I_rq))))\n",
    "print(\"-----Size-------\")\n",
    "print(\"V1:   \" + str(len(V1_kq)) + \"\\t\" + str(len(V1_rq)))\n",
    "print(\"V2:   \" + str(len(V2_kq)) + \"\\t\" + str(len(V2_rq)))\n",
    "print(\"I:   \" + str(len(I_kq)) + \"\\t\" + str(len(I_rq)))"
   ]
  },
  {
   "cell_type": "code",
   "execution_count": 10,
   "metadata": {},
   "outputs": [],
   "source": [
    "tree = nx.random_tree(G_node)\n",
    "I_t = {random.randint(0, G_node-1) for i in range(0, infected_size)}\n",
    "S_t = set(tree.nodes) - I_t\n",
    "state_t = SimulationState(tree, (list(S_t), list(I_t), []), (list(S_t), list(I_t), []), 2000, 1, 1, 0, .8, .8)\n",
    "#transmission too low --> infection never ends up spreading"
   ]
  },
  {
   "cell_type": "code",
   "execution_count": 11,
   "metadata": {},
   "outputs": [
    {
     "name": "stdout",
     "output_type": "stream",
     "text": [
      "Tree Graph (w/ Quarantine) First Run\n",
      "--Intersection-----Union---\n",
      "V1:   104\t692\n",
      "V2:   147\t878\n",
      "I:   449\t828\n",
      "-----Ratio------\n",
      "V1:   0.15028901734104047\n",
      "V2:   0.1674259681093394\n",
      "I:   0.5422705314009661\n",
      "-----Size-------\n",
      "V1:   104\t692\n",
      "V2:   147\t878\n",
      "I:   449\t828\n"
     ]
    }
   ],
   "source": [
    "to_quarantine = DepRound(state_t)\n",
    "state_t.step(to_quarantine)\n",
    "\n",
    "V1_kt = state_t.SIR_known.V1\n",
    "V1_rt = state_t.SIR_real.V1\n",
    "\n",
    "V2_kt = state_t.SIR_known.V2\n",
    "V2_rt = state_t.SIR_real.V2\n",
    "\n",
    "I_kt = set(state_t.SIR_known.SIR.I)\n",
    "I_rt = set(state_t.SIR_real.SIR.I)\n",
    "\n",
    "print(\"Tree Graph (w/ Quarantine) First Run\")\n",
    "print(\"--Intersection-----Union---\")\n",
    "print(\"V1:   \" + str(len(V1_kt.intersection(V1_rt))) + \"\\t\" + str(len(V1_kt.union(V1_rt))))\n",
    "print(\"V2:   \" + str(len(V2_kt.intersection(V2_rt))) + \"\\t\" + str(len(V2_kt.union(V2_rt))))\n",
    "print(\"I:   \" + str(len(I_kt.intersection(I_rt)))+ \"\\t\" + str(len(I_kt.union(I_rt))))\n",
    "print(\"-----Ratio------\")\n",
    "print(\"V1:   \" + str(len(V1_kt.intersection(V1_rt))/len(V1_kt.union(V1_rt))))\n",
    "print(\"V2:   \" + str(len(V2_kt.intersection(V2_rt))/len(V2_kt.union(V2_rt))))\n",
    "print(\"I:   \" + str(len(I_kt.intersection(I_rt))/len(I_kt.union(I_rt))))\n",
    "print(\"-----Size-------\")\n",
    "print(\"V1:   \" + str(len(V1_kt)) + \"\\t\" + str(len(V1_rt)))\n",
    "print(\"V2:   \" + str(len(V2_kt)) + \"\\t\" + str(len(V2_rt)))\n",
    "print(\"I:   \" + str(len(I_kt)) + \"\\t\" + str(len(I_rt)))"
   ]
  },
  {
   "cell_type": "code",
   "execution_count": 12,
   "metadata": {},
   "outputs": [
    {
     "name": "stdout",
     "output_type": "stream",
     "text": [
      "W/o Quarantine: 14077\n",
      "With Quarantine: 41048\n",
      "Tree: 878\n",
      "{0: [11378, 34913, 147, 0.7025900979098674, 0.4615821501014199, 0.7784272412152519, 0.7990403208479553, 0.7975010279135639, 1.0, 0.15028901734104047, 0.1674259681093394, 0.5422705314009661]}\n"
     ]
    }
   ],
   "source": [
    "timestep_dict = {}\n",
    "print(\"W/o Quarantine: \"+ str(len(V2_r)))\n",
    "print(\"With Quarantine: \" + str(len(V2_rq)))\n",
    "print(\"Tree: \" + str(len(V2_rt)))\n",
    "\n",
    "#timestep_dict[0] = [len(V2_k.intersection(V2_r))]\n",
    "timestep_dict[0] = [len(V2_k.intersection(V2_r)), len(V2_kq.intersection(V2_rq)), len(V2_kt.intersection(V2_rt)), \n",
    "                    len(V1_k.intersection(V1_r))/len(V1_k.union(V1_r)), len(V2_k.intersection(V2_r))/len(V2_k.union(V2_r)),\n",
    "                    len(I_k.intersection(I_r))/len(I_kt.union(I_r)), len(V1_kq.intersection(V1_rq))/len(V1_kq.union(V1_rq)),\n",
    "                    len(V2_kq.intersection(V2_rq))/len(V2_kq.union(V2_rq)), len(I_kq.intersection(I_rq))/len(I_kq.union(I_rq)),\n",
    "                    len(V1_kt.intersection(V1_rt))/len(V1_kt.union(V1_rt)), len(V2_kt.intersection(V2_rt))/len(V2_kt.union(V2_rt)),\n",
    "                    len(I_kt.intersection(I_rt))/len(I_kt.union(I_rt))]\n",
    "\n",
    "V2_r -= V2_k\n",
    "V2_rq -= V2_kq\n",
    "V2_rt -= V2_kt\n",
    "\n",
    "print(timestep_dict)"
   ]
  },
  {
   "cell_type": "code",
   "execution_count": 13,
   "metadata": {},
   "outputs": [
    {
     "name": "stdout",
     "output_type": "stream",
     "text": [
      "2292 1638 731\n"
     ]
    }
   ],
   "source": [
    "for t in range(1, 6):\n",
    "    state.step(set())\n",
    "    \n",
    "    to_quarantine = DepRound(state_q)\n",
    "    state_q.step(to_quarantine)\n",
    "    \n",
    "    to_quarantine_t = DepRound(state_t)\n",
    "    state_t.step(to_quarantine_t)\n",
    "    \n",
    "    V2_k_trial = state.SIR_known.V2\n",
    "    V2_kq_trial = state_q.SIR_known.V2\n",
    "    V2_kt_trial = state_t.SIR_known.V2\n",
    "    \n",
    "    #coverage of nodes in V2 from first timestep\n",
    "    V2_intersect = len(V2_k_trial.intersection(V2_r))\n",
    "    V2_qintersect = len(V2_kq_trial.intersection(V2_rq))\n",
    "    V2_tintersect = len(V2_kt_trial.intersection(V2_rt))\n",
    "    \n",
    "    V2_r -= V2_k_trial\n",
    "    V2_rq -= V2_kq_trial\n",
    "    V2_rt -= V2_kt_trial\n",
    "    \n",
    "    #STATE w/o QUARANTINE\n",
    "    V1_k = state.SIR_known.V1\n",
    "    V1_r_i = state.SIR_real.V1\n",
    "    V2_r_i = state.SIR_real.V2\n",
    "    I_k = set(state.SIR_known.SIR.I)\n",
    "    I_r_i = set(state.SIR_real.SIR.I)\n",
    "    \n",
    "    V1_ratio = len(V1_k.intersection(V1_r_i))/max(len(V1_k.union(V1_r_i)), 1)\n",
    "    V2_ratio = len(V2_k_trial.intersection(V2_r_i))/max(len(V2_k_trial.union(V2_r_i)), 1)\n",
    "    I_ratio = len(I_k.intersection(I_r_i))/max(len(I_k.union(I_r_i)), 1)\n",
    "    \n",
    "    #STATE w/ QUARANTINE\n",
    "    V1_kq = state_q.SIR_known.V1\n",
    "    V1_rq_i = state_q.SIR_real.V1\n",
    "    V2_rq_i = state_q.SIR_real.V2\n",
    "    I_kq = set(state_q.SIR_known.SIR.I)\n",
    "    I_rq_i = set(state_q.SIR_real.SIR.I)\n",
    "    \n",
    "    V1_q_ratio = len(V1_kq.intersection(V1_rq_i))/max(1, len(V1_kq.union(V1_rq_i)))\n",
    "    V2_q_ratio = len(V2_kq_trial.intersection(V2_rq_i))/max(1, len(V2_kq_trial.union(V2_rq_i)))\n",
    "    I_q_ratio = len(I_kq.intersection(I_rq_i))/max(1, len(I_kq.union(I_rq_i)))\n",
    "    \n",
    "    #TREE\n",
    "    V1_kt = state_t.SIR_known.V1\n",
    "    V1_rt_i = state_t.SIR_real.V1\n",
    "    V2_rt_i = state_t.SIR_real.V2\n",
    "    I_kt = set(state_t.SIR_known.SIR.I)\n",
    "    I_rt_i = set(state_t.SIR_real.SIR.I)\n",
    "    \n",
    "    V1_t_ratio = len(V1_kt.intersection(V1_rt_i))/max(1, len(V1_kt.union(V1_rt_i)))\n",
    "    V2_t_ratio = len(V2_kt_trial.intersection(V2_rt_i))/max(1, len(V2_kt_trial.union(V2_rt_i)))\n",
    "    I_t_ratio = len(I_kt.intersection(I_rt_i))/max(1, len(I_kt.union(I_rt_i)))\n",
    "    \n",
    "    timestep_dict[t] = [V2_intersect, V2_qintersect, V2_tintersect, V1_ratio, V2_ratio, I_ratio, V1_q_ratio, V2_q_ratio,\n",
    "                       I_q_ratio, V1_t_ratio, V2_t_ratio, I_t_ratio]\n",
    "\n",
    "print(len(V2_r), len(V2_rq), len(V2_rt))"
   ]
  },
  {
   "cell_type": "code",
   "execution_count": 14,
   "metadata": {},
   "outputs": [
    {
     "name": "stdout",
     "output_type": "stream",
     "text": [
      "{0: [11378, 34913, 147, 0.7025900979098674, 0.4615821501014199, 0.7784272412152519, 0.7990403208479553, 0.7975010279135639, 1.0, 0.15028901734104047, 0.1674259681093394, 0.5422705314009661], 1: [383, 4189, 0, 0.16239687364307426, 0.017666608361028513, 0.7066127634998556, 0.5574911901784699, 0.46818344465648853, 0.7654434506394717, 0.0014084507042253522, 0.0, 0.036065573770491806], 2: [24, 258, 0, 0.17781690140845072, 0.018612521150592216, 0.6111111111111112, 0.35474482198456747, 0.13374109338545936, 0.5696729181335211, 0.0, 0.0, 0.0], 3: [0, 50, 0, 0.375, 0.2222222222222222, 0.517948717948718, 0.10328875431070737, 0.010530459600433029, 0.5188052489979685, 0.0, 0.0, 0.0], 4: [0, 0, 0, 0.3333333333333333, 0.0, 0.46153846153846156, 0.09114927344782034, 0.015166835187057633, 0.34102189781021897, 0.0, 0.0, 0.0], 5: [0, 0, 0, 0.0, 0.0, 0.4, 0.0, 0.0, 0.13895781637717122, 0.0, 0.0, 0.0]}\n",
      "   Without Quarantine Coverage  With Quarantine Coverage  Tree Coverage  \\\n",
      "0                        11378                     34913            147   \n",
      "1                          383                      4189              0   \n",
      "2                           24                       258              0   \n",
      "3                            0                        50              0   \n",
      "4                            0                         0              0   \n",
      "5                            0                         0              0   \n",
      "\n",
      "   V1 Ratio  V2 Ratio   I Ratio  V1_q Ratio  V2_q Ratio  I_q Ratio  \\\n",
      "0  0.702590  0.461582  0.778427    0.799040    0.797501   1.000000   \n",
      "1  0.162397  0.017667  0.706613    0.557491    0.468183   0.765443   \n",
      "2  0.177817  0.018613  0.611111    0.354745    0.133741   0.569673   \n",
      "3  0.375000  0.222222  0.517949    0.103289    0.010530   0.518805   \n",
      "4  0.333333  0.000000  0.461538    0.091149    0.015167   0.341022   \n",
      "5  0.000000  0.000000  0.400000    0.000000    0.000000   0.138958   \n",
      "\n",
      "   V1_t Ratio  V2_t Ratio  I_t Ratio  \n",
      "0    0.150289    0.167426   0.542271  \n",
      "1    0.001408    0.000000   0.036066  \n",
      "2    0.000000    0.000000   0.000000  \n",
      "3    0.000000    0.000000   0.000000  \n",
      "4    0.000000    0.000000   0.000000  \n",
      "5    0.000000    0.000000   0.000000  \n"
     ]
    }
   ],
   "source": [
    "print(timestep_dict)\n",
    "#arr = [v[0] for k,v in timestep_dict.items()]\n",
    "#arr_q = [v[1] for k,v in timestep_dict.items()]\n",
    "#df = pd.DataFrame([arr, arr_q], columns = [\"Without Quarantine\", \"With Quarantine\"])\n",
    "df = pd.DataFrame.from_dict(timestep_dict, orient='index', columns = [\"Without Quarantine Coverage\", \"With Quarantine Coverage\", \"Tree Coverage\",\n",
    "                                                                     \"V1 Ratio\", \"V2 Ratio\", \"I Ratio\", \"V1_q Ratio\", \"V2_q Ratio\", \"I_q Ratio\",\n",
    "                                                                     \"V1_t Ratio\", \"V2_t Ratio\", \"I_t Ratio\"])\n",
    "print(df)"
   ]
  },
  {
   "cell_type": "code",
   "execution_count": 21,
   "metadata": {},
   "outputs": [
    {
     "data": {
      "text/plain": [
       "<AxesSubplot:>"
      ]
     },
     "execution_count": 21,
     "metadata": {},
     "output_type": "execute_result"
    },
    {
     "data": {
      "image/png": "[encoded data removed]",
      "text/plain": [
       "<Figure size 432x288 with 1 Axes>"
      ]
     },
     "metadata": {
      "needs_background": "light"
     },
     "output_type": "display_data"
    },
    {
     "data": {
      "image/png": "[encoded data removed]",
      "text/plain": [
       "<Figure size 432x288 with 1 Axes>"
      ]
     },
     "metadata": {
      "needs_background": "light"
     },
     "output_type": "display_data"
    }
   ],
   "source": [
    "df[\"Without Quarantine Ratio\"] = df[\"Without Quarantine Coverage\"].apply(lambda x: x/14077)\n",
    "df[\"With Quarantine Ratio\"] = df[\"With Quarantine Coverage\"].apply(lambda x: x/41048)\n",
    "df.plot(y = \"With Quarantine Ratio\")\n",
    "df.plot(y = \"Without Quarantine Ratio\")"
   ]
  },
  {
   "cell_type": "code",
   "execution_count": 31,
   "metadata": {},
   "outputs": [
    {
     "name": "stdout",
     "output_type": "stream",
     "text": [
      "   V1_q Ratio  V1_t Ratio\n",
      "0    0.799040    0.150289\n",
      "1    0.557491    0.001408\n",
      "2    0.354745    0.000000\n",
      "3    0.103289    0.000000\n",
      "4    0.091149    0.000000\n",
      "5    0.000000    0.000000\n"
     ]
    },
    {
     "data": {
      "text/plain": [
       "<AxesSubplot:>"
      ]
     },
     "execution_count": 31,
     "metadata": {},
     "output_type": "execute_result"
    },
    {
     "data": {
      "image/png": "[encoded data removed]",
      "text/plain": [
       "<Figure size 432x288 with 1 Axes>"
      ]
     },
     "metadata": {
      "needs_background": "light"
     },
     "output_type": "display_data"
    }
   ],
   "source": [
    "df_sub = df[[\"V1_q Ratio\", \"V1_t Ratio\"]]\n",
    "print(df_sub)\n",
    "df_sub.plot()\n",
    "#df.plot(y = \"V1_q Ratio\", \"V1_t Ratio\")\n",
    "#df.plot(y = \"V1_t Ratio\")"
   ]
  },
  {
   "cell_type": "code",
   "execution_count": 39,
   "metadata": {},
   "outputs": [
    {
     "data": {
      "text/plain": [
       "<AxesSubplot:>"
      ]
     },
     "execution_count": 39,
     "metadata": {},
     "output_type": "execute_result"
    },
    {
     "data": {
      "image/png": "[encoded data removed]",
      "text/plain": [
       "<Figure size 432x288 with 1 Axes>"
      ]
     },
     "metadata": {
      "needs_background": "light"
     },
     "output_type": "display_data"
    },
    {
     "data": {
      "image/png": "[encoded data removed]",
      "text/plain": [
       "<Figure size 432x288 with 1 Axes>"
      ]
     },
     "metadata": {
      "needs_background": "light"
     },
     "output_type": "display_data"
    }
   ],
   "source": [
    "#CUMULATIVE is the total coverage of original V2\n",
    "#SUB is the coverage of remaining uncovered per timestep\n",
    "\n",
    "df.loc[0, 'Cumulative'] = df.loc[0, 'With Quarantine Coverage']/41048\n",
    "df.loc[0, 'Sub'] = df.loc[0, 'With Quarantine Coverage']/41048\n",
    "cout = 41048\n",
    "for i in range(1, len(df)):\n",
    "    df.loc[i, 'Cumulative'] = df.loc[i-1, 'Cumulative'] + df.loc[i, \"With Quarantine Coverage\"]/(41048)\n",
    "    cout -= df.loc[i-1, \"With Quarantine Coverage\"]\n",
    "    df.loc[i, \"Sub\"] = df.loc[i, \"With Quarantine Coverage\"]/( cout)\n",
    "\n",
    "df.plot(y = \"Cumulative\")\n",
    "df.plot(y = \"Sub\")"
   ]
  },
  {
   "cell_type": "code",
   "execution_count": 32,
   "metadata": {},
   "outputs": [
    {
     "data": {
      "text/plain": [
       "<AxesSubplot:>"
      ]
     },
     "execution_count": 32,
     "metadata": {},
     "output_type": "execute_result"
    },
    {
     "data": {
      "image/png": "[encoded data removed]",
      "text/plain": [
       "<Figure size 432x288 with 1 Axes>"
      ]
     },
     "metadata": {
      "needs_background": "light"
     },
     "output_type": "display_data"
    },
    {
     "data": {
      "image/png": "[encoded data removed]",
      "text/plain": [
       "<Figure size 432x288 with 1 Axes>"
      ]
     },
     "metadata": {
      "needs_background": "light"
     },
     "output_type": "display_data"
    }
   ],
   "source": [
    "df.plot(y = \"Without Quarantine Ratio\")\n",
    "df.plot(y = \"With Quarantine Ratio\")"
   ]
  },
  {
   "cell_type": "code",
   "execution_count": null,
   "metadata": {},
   "outputs": [],
   "source": [
    "'''for t in range(0, 7):\n",
    "    print(len(state_t.SIR_known.SIR.I), len(state_t.SIR_real.SIR.I))\n",
    "    state_t.step(set())'''"
   ]
  },
  {
   "cell_type": "code",
   "execution_count": 260,
   "metadata": {},
   "outputs": [
    {
     "name": "stdout",
     "output_type": "stream",
     "text": [
      "783\n",
      "783\n"
     ]
    }
   ],
   "source": [
    "print(len(V2_r))\n",
    "V2_r -= V2_k\n",
    "tree_timestep = {}\n",
    "tree_timestep[1] = len(V2_k.intersection(V2_r))\n",
    "for t in range(1, 10):\n",
    "    to_quarantine = DepRound(state_t)\n",
    "    state_t.step(to_quarantine)\n",
    "    V2_kt = state_t.SIR_known.V2\n",
    "    V2_tintersect = len(V2_r.intersection(V2_k))\n",
    "    V2_r -= V2_k\n",
    "    tree_timestep[t] = [V2_tintersect]\n",
    "\n",
    "print(len(V2_r))"
   ]
  },
  {
   "cell_type": "code",
   "execution_count": 261,
   "metadata": {},
   "outputs": [
    {
     "name": "stdout",
     "output_type": "stream",
     "text": [
      "{1: [0], 2: [0], 3: [0], 4: [0], 5: [0], 6: [0], 7: [0], 8: [0], 9: [0]}\n"
     ]
    }
   ],
   "source": [
    "print(tree_timestep)"
   ]
  },
  {
   "cell_type": "code",
   "execution_count": 30,
   "metadata": {},
   "outputs": [
    {
     "name": "stdout",
     "output_type": "stream",
     "text": [
      "<class 'list'>\n",
      "0.5\n",
      "[(1, 0.078), (0, 0.078)]\n",
      "------\n",
      "[(1, 0.078), (0, 0.078)]\n",
      "------\n",
      "[(1, 0.078), (1, 0.078)]\n",
      "------\n",
      "[(1, 0.078), (0, 0.078)]\n",
      "------\n",
      "{'compliance_transmission': [(1, 0.078), (0, 0.078)]}\n",
      "{'compliance_transmission': [(1, 0.078), (0, 0.078)]}\n",
      "------\n",
      "{'compliance_transmission': [(1, 0.078), (0, 0.078)]}\n",
      "{'compliance_transmission': [(1, 0.078), (0, 0.078)]}\n",
      "------\n",
      "{'compliance_transmission': [(1, 0.078), (1, 0.078)]}\n",
      "{'compliance_transmission': [(1, 0.078), (1, 0.078)]}\n",
      "------\n",
      "{'compliance_transmission': [(1, 0.078), (0, 0.078)]}\n",
      "{'compliance_transmission': [(1, 0.078), (0, 0.078)]}\n"
     ]
    }
   ],
   "source": [
    "compliance_array = [0.5 for i in range(len(G.nodes()))]\n",
    "node_to_compliance = {}\n",
    "edge_to_compliance = {}\n",
    "transmission_rate = 0.078\n",
    "partial_compliance = True\n",
    "\n",
    "print(type(compliance_array))\n",
    "\n",
    "if partial_compliance:\n",
    "    for node in G.nodes():\n",
    "        node_to_compliance[node] = compliance_array[node]\n",
    "        for nghbr in G.neighbors(node):\n",
    "            forward = node<nghbr\n",
    "            #tuple = (node, nghbr)\n",
    "            #if not forward:\n",
    "            #    tuple = (nghbr, node)\n",
    "            edge_to_compliance[(node, nghbr)] = (0 if random.random()>compliance_array[node] else 1, transmission_rate)\n",
    "            '''if tuple in edge_to_compliance:\n",
    "                compliance_edge = [(0 if random.random()>compliance_array[node] else 1, transmission_rate)]\n",
    "                if forward:\n",
    "                    edge_to_compliance[tuple] = compliance_edge + edge_to_compliance[tuple] \n",
    "                else:\n",
    "                    edge_to_compliance[tuple] = edge_to_compliance[tuple] + compliance_edge\n",
    "            else:\n",
    "                edge_to_compliance[tuple] = [(0 if random.random()>compliance_array[node] else 1, transmission_rate)]'''\n",
    "else:\n",
    "    for node in G.nodes():\n",
    "        node_to_compliance[node] = compliance_array[node]\n",
    "        compliance_edge = [(0 if random.random()>compliance_array[node] else 1, transmission_rate)]\n",
    "        for nghbr in G.neighbors(node):\n",
    "            forward = node<nghbr\n",
    "            tuple = (node, nghbr)\n",
    "            if not forward:\n",
    "                tuple = (nghbr, node)\n",
    "            if tuple in edge_to_compliance:\n",
    "                if forward: edge_to_compliance[tuple] = compliance_edge + edge_to_compliance[tuple]\n",
    "                else: edge_to_compliance[tuple] = edge_to_compliance[tuple] + compliance_edge\n",
    "            else:\n",
    "                edge_to_compliance[tuple] = compliance_edge\n",
    "\n",
    "nx.set_node_attributes(G, node_to_compliance, 'compliance_rate')\n",
    "nx.set_edge_attributes(G, edge_to_compliance, 'compliance_transmission')\n",
    "\n",
    "print(node_to_compliance[50])\n",
    "print(edge_to_compliance[(7, 9)])\n",
    "#print(edge_to_compliance[(9, 7)])\n",
    "print(\"------\")\n",
    "print(edge_to_compliance[(7, 8)])\n",
    "#print(edge_to_compliance[(8, 7)])\n",
    "print(\"------\")\n",
    "print(edge_to_compliance[(7, 25866)])\n",
    "#print(edge_to_compliance[(25866, 7)])\n",
    "print(\"------\")\n",
    "print(edge_to_compliance[(7, 8001)])\n",
    "#print(edge_to_compliance[(8001, 7)])\n",
    "print(\"------\")\n",
    "print(G[7][9])\n",
    "print(G[9][7])\n",
    "print(\"------\")\n",
    "print(G[7][8])\n",
    "print(G[8][7])\n",
    "print(\"------\")\n",
    "print(G[7][25866])\n",
    "print(G[25866][7])\n",
    "print(\"------\")\n",
    "print(G[7][8001])\n",
    "print(G[8001][7])"
   ]
  },
  {
   "cell_type": "code",
   "execution_count": 31,
   "metadata": {},
   "outputs": [
    {
     "name": "stdout",
     "output_type": "stream",
     "text": [
      "True\n"
     ]
    }
   ],
   "source": [
    "a = 5\n",
    "b = 8\n",
    "print (a<b)"
   ]
  },
  {
   "cell_type": "code",
   "execution_count": null,
   "metadata": {},
   "outputs": [],
   "source": []
  }
 ],
 "metadata": {
  "kernelspec": {
   "display_name": "Python 3",
   "language": "python",
   "name": "python3"
  },
  "language_info": {
   "codemirror_mode": {
    "name": "ipython",
    "version": 3
   },
   "file_extension": ".py",
   "mimetype": "text/x-python",
   "name": "python",
   "nbconvert_exporter": "python",
   "pygments_lexer": "ipython3",
   "version": "3.8.5"
  }
 },
 "nbformat": 4,
 "nbformat_minor": 4
}
