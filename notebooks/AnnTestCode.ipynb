{
 "cells": [
  {
   "cell_type": "code",
   "execution_count": 95,
   "metadata": {
    "scrolled": true
   },
   "outputs": [
    {
     "name": "stdout",
     "output_type": "stream",
     "text": [
      "The autoreload extension is already loaded. To reload it, use:\n",
      "  %reload_ext autoreload\n"
     ]
    }
   ],
   "source": [
    "%load_ext autoreload\n",
    "# Always reload modules so that as you change code in src, it gets loaded\n",
    "%autoreload 2\n",
    "\n",
    "import networkx as nx\n",
    "import matplotlib.pyplot as plt\n",
    "import pandas as pd\n",
    "import numpy as np\n",
    "import random\n",
    "import math\n",
    "import EoN\n",
    "import seaborn as sns\n",
    "import time\n",
    "\n",
    "# New Imports\n",
    "#from ctrace.contact_tracing import *\n",
    "#from ctrace.constraint import *\n",
    "#from ctrace.solve import *\n",
    "#from ctrace.simulation import *\n",
    "#from ctrace.restricted import *\n",
    "from ctrace.simulation import *\n",
    "from ctrace.dataset import *\n",
    "from ctrace.recommender import *"
   ]
  },
  {
   "cell_type": "code",
   "execution_count": 96,
   "metadata": {},
   "outputs": [],
   "source": [
    "G = load_graph(\"montgomery\")"
   ]
  },
  {
   "cell_type": "code",
   "execution_count": 97,
   "metadata": {},
   "outputs": [],
   "source": [
    "I = set()\n",
    "with open(PROJECT_ROOT / \"data\" / \"SIR_Cache\" / \"t7.json\", 'r') as infile:\n",
    "    j = json.load(infile)\n",
    "    (S, infected_queue, R) = (j[\"S\"], j[\"I_Queue\"], j[\"R\"])\n",
    "\n",
    "    # Make infected_queue a list of sets\n",
    "    infected_queue = [set(s) for s in infected_queue]\n",
    "    I = I.union(*infected_queue)\n",
    "    I = list(I)"
   ]
  },
  {
   "cell_type": "code",
   "execution_count": 102,
   "metadata": {},
   "outputs": [
    {
     "name": "stdout",
     "output_type": "stream",
     "text": [
      "24657\n",
      "0\n"
     ]
    }
   ],
   "source": [
    "state = SimulationState(G, (S,I,R), (S,I,R), 2000, .078,1,1)\n",
    "'''print(state.SIR_known.G)\n",
    "print(state.SIR_known.SIR.I)\n",
    "print(state.SIR_known.SIR.R)'''\n",
    "#agent = rand\n",
    "#agent = degree\n",
    "#agent = weighted\n",
    "#v1, v2 = find_excluded_contours(G, state.SIR_known.SIR.I, state.SIR_known.SIR.R)\n",
    "v1_k, v2_k = find_excluded_contours(G, state.SIR_known.SIR.I, state.SIR_known.SIR.R, 1, 0)\n",
    "#print(len(find_excluded_contours(G, state.SIR_known.SIR.I, state.SIR_known.SIR.R, 1, 1)))\n",
    "print(len(v1_k))\n",
    "print(len(v2_k))"
   ]
  },
  {
   "cell_type": "code",
   "execution_count": 99,
   "metadata": {
    "scrolled": true
   },
   "outputs": [
    {
     "name": "stdout",
     "output_type": "stream",
     "text": [
      "2290\n"
     ]
    },
    {
     "ename": "NameError",
     "evalue": "name 'agent' is not defined",
     "output_type": "error",
     "traceback": [
      "\u001b[1;31m---------------------------------------------------------------------------\u001b[0m",
      "\u001b[1;31mNameError\u001b[0m                                 Traceback (most recent call last)",
      "\u001b[1;32m<ipython-input-99-1f0efc6ab914>\u001b[0m in \u001b[0;36m<module>\u001b[1;34m\u001b[0m\n\u001b[0;32m      1\u001b[0m \u001b[1;32mwhile\u001b[0m \u001b[0mlen\u001b[0m\u001b[1;33m(\u001b[0m\u001b[0mstate\u001b[0m\u001b[1;33m.\u001b[0m\u001b[0mSIR_known\u001b[0m\u001b[1;33m.\u001b[0m\u001b[0mSIR\u001b[0m\u001b[1;33m[\u001b[0m\u001b[1;36m1\u001b[0m\u001b[1;33m]\u001b[0m\u001b[1;33m)\u001b[0m \u001b[1;33m!=\u001b[0m \u001b[1;36m0\u001b[0m\u001b[1;33m:\u001b[0m\u001b[1;33m\u001b[0m\u001b[1;33m\u001b[0m\u001b[0m\n\u001b[0;32m      2\u001b[0m     \u001b[0mprint\u001b[0m\u001b[1;33m(\u001b[0m\u001b[0mlen\u001b[0m\u001b[1;33m(\u001b[0m\u001b[0mstate\u001b[0m\u001b[1;33m.\u001b[0m\u001b[0mSIR_known\u001b[0m\u001b[1;33m.\u001b[0m\u001b[0mSIR\u001b[0m\u001b[1;33m[\u001b[0m\u001b[1;36m1\u001b[0m\u001b[1;33m]\u001b[0m\u001b[1;33m)\u001b[0m\u001b[1;33m)\u001b[0m\u001b[1;33m\u001b[0m\u001b[1;33m\u001b[0m\u001b[0m\n\u001b[1;32m----> 3\u001b[1;33m     \u001b[0mto_quarantine\u001b[0m \u001b[1;33m=\u001b[0m \u001b[0magent\u001b[0m\u001b[1;33m(\u001b[0m\u001b[0mstate\u001b[0m\u001b[1;33m)\u001b[0m\u001b[1;33m\u001b[0m\u001b[1;33m\u001b[0m\u001b[0m\n\u001b[0m\u001b[0;32m      4\u001b[0m     \u001b[0mstate\u001b[0m\u001b[1;33m.\u001b[0m\u001b[0mstep\u001b[0m\u001b[1;33m(\u001b[0m\u001b[0mto_quarantine\u001b[0m\u001b[1;33m)\u001b[0m\u001b[1;33m\u001b[0m\u001b[1;33m\u001b[0m\u001b[0m\n\u001b[0;32m      5\u001b[0m \u001b[1;33m\u001b[0m\u001b[0m\n",
      "\u001b[1;31mNameError\u001b[0m: name 'agent' is not defined"
     ]
    }
   ],
   "source": [
    "while len(state.SIR_known.SIR[1]) != 0:\n",
    "    print(len(state.SIR_known.SIR[1]))\n",
    "    to_quarantine = agent(state)\n",
    "    state.step(to_quarantine)\n",
    "\n",
    "print(len(state.SIR_known.SIR[1]))\n",
    "\n",
    "print()\n",
    "print(len(state.SIR_known.SIR[2]))"
   ]
  },
  {
   "cell_type": "code",
   "execution_count": null,
   "metadata": {},
   "outputs": [],
   "source": []
  }
 ],
 "metadata": {
  "kernelspec": {
   "display_name": "Python 3",
   "language": "python",
   "name": "python3"
  },
  "language_info": {
   "codemirror_mode": {
    "name": "ipython",
    "version": 3
   },
   "file_extension": ".py",
   "mimetype": "text/x-python",
   "name": "python",
   "nbconvert_exporter": "python",
   "pygments_lexer": "ipython3",
   "version": "3.8.5"
  }
 },
 "nbformat": 4,
 "nbformat_minor": 2
}
