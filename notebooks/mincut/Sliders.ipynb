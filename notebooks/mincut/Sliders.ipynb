{
 "cells": [
  {
   "cell_type": "code",
   "execution_count": 27,
   "id": "mediterranean-proxy",
   "metadata": {},
   "outputs": [],
   "source": [
    "\n",
    "from ipywidgets import interact, interact_manual, fixed, IntSlider, FloatSlider\n",
    "\n",
    "import numpy as np\n",
    "import scipy\n",
    "from scipy import stats, optimize, interpolate\n",
    "import matplotlib.pyplot as plt\n",
    "def trunc_laplace(support, scale, gen=np.random, size=1):\n",
    "    \"\"\"\n",
    "    Generate laplacian with support [-support, +support], and scale=scale\n",
    "    \"\"\"\n",
    "    return ((-1) ** np.random.randint(2, size=size)) * scipy.stats.truncexpon.rvs(b=support / scale, scale=scale, size=size)\n",
    "\n",
    "def compute_stats(m, epsilon, delta=None, Delta=2):\n",
    "    if delta is None:\n",
    "        delta = 1/m\n",
    "    s = Delta / epsilon * np.log(m * (np.exp(epsilon) - 1) / delta + 1)\n",
    "    return s, (Delta / epsilon)\n",
    "\n",
    "def perturb(m, epsilon, delta=None, Delta=2):\n",
    "    if delta is None:\n",
    "        delta = 1/m\n",
    "    s = Delta / epsilon * np.log(m * (np.exp(epsilon) - 1) / delta + 1)\n",
    "    eta = trunc_laplace(support=s, scale=Delta / epsilon)\n",
    "    # Test here?\n",
    "    # b = min(1, s - eta)\n",
    "    return s - eta\n",
    "\n",
    "def trunc_laplace_pdf(x, support, loc, scale):\n",
    "    return np.exp(-abs((x-loc)/scale)) / (2 * scale * (1 - np.exp(-support / scale)))\n",
    "\n",
    "num_samples = 1000\n",
    "def sample_draw(m, epsilon, num_samples=1000):\n",
    "    noise_mean, noise_scale = compute_stats(m, epsilon)\n",
    "#     print(f\"Mean: {noise_mean}\")\n",
    "#     print(f\"Scale: {noise_scale}\")\n",
    "    samples = np.array([perturb(m, epsilon) for _ in range(num_samples)])\n",
    "    fig, ax = plt.subplots(1, 1, figsize=(10,5))\n",
    "\n",
    "    x = np.linspace(0, 2 * noise_mean, num_samples)\n",
    "    ax.set_title(f\"Truncated Laplacian Noise (m={m}, epsilon={epsilon}, samples={num_samples})\")\n",
    "    ax.plot(x, trunc_laplace_pdf(x, noise_mean, noise_mean, noise_scale),\n",
    "            'r-', lw=1, alpha=0.6, label=f'trunc_laplace(radius={noise_mean:.1f}, scale={noise_scale:.1f})')\n",
    "\n",
    "    ax.hist(samples, density=True, histtype='stepfilled', alpha=0.2, bins=50)\n",
    "    ax.legend(loc='best', frameon=False)\n",
    "    plt.show()"
   ]
  },
  {
   "cell_type": "code",
   "execution_count": 28,
   "id": "verbal-amplifier",
   "metadata": {},
   "outputs": [
    {
     "data": {
      "application/vnd.jupyter.widget-view+json": {
       "model_id": "a5b1c7a069044b7fb1edce584f855466",
       "version_major": 2,
       "version_minor": 0
      },
      "text/plain": [
       "interactive(children=(IntSlider(value=1, description='m', min=1), FloatSlider(value=1.0, description='epsilon'…"
      ]
     },
     "metadata": {},
     "output_type": "display_data"
    },
    {
     "data": {
      "text/plain": [
       "<function __main__.sample_draw(m, epsilon, num_samples=1000)>"
      ]
     },
     "execution_count": 28,
     "metadata": {},
     "output_type": "execute_result"
    }
   ],
   "source": [
    "m_slider = IntSlider(min=1, max=100, step=1, value=1)\n",
    "eps_slider = FloatSlider(min=0.01, max=10, step=0.01, value=1)\n",
    "num_slider = IntSlider(min=1, max=10000, step=10, value=100)\n",
    "interact_manual(sample_draw, m=m_slider, epsilon=eps_slider, num_samples=num_slider)"
   ]
  },
  {
   "cell_type": "code",
   "execution_count": 29,
   "id": "connected-copyright",
   "metadata": {},
   "outputs": [
    {
     "data": {
      "application/vnd.jupyter.widget-view+json": {
       "model_id": "88b11fcfedd44c68af766adc0b2f19bd",
       "version_major": 2,
       "version_minor": 0
      },
      "text/plain": [
       "interactive(children=(IntSlider(value=1, description='m', min=1), FloatSlider(value=1.0, description='epsilon'…"
      ]
     },
     "metadata": {},
     "output_type": "display_data"
    },
    {
     "data": {
      "text/plain": [
       "<function __main__.sample_draw(m, epsilon, num_samples=1000)>"
      ]
     },
     "execution_count": 29,
     "metadata": {},
     "output_type": "execute_result"
    }
   ],
   "source": [
    "m_slider = IntSlider(min=1, max=100, step=1, value=1)\n",
    "eps_slider = FloatSlider(min=0.01, max=10, step=0.01, value=1)\n",
    "num_slider = IntSlider(min=1, max=500, step=10, value=100)\n",
    "interact(sample_draw, m=m_slider, epsilon=eps_slider, num_samples=num_slider, continuous_update=False)"
   ]
  },
  {
   "cell_type": "code",
   "execution_count": null,
   "id": "hollywood-surgeon",
   "metadata": {},
   "outputs": [],
   "source": []
  }
 ],
 "metadata": {
  "kernelspec": {
   "display_name": "Python 3",
   "language": "python",
   "name": "python3"
  },
  "language_info": {
   "codemirror_mode": {
    "name": "ipython",
    "version": 3
   },
   "file_extension": ".py",
   "mimetype": "text/x-python",
   "name": "python",
   "nbconvert_exporter": "python",
   "pygments_lexer": "ipython3",
   "version": "3.8.5"
  }
 },
 "nbformat": 4,
 "nbformat_minor": 5
}
