{
 "cells": [
  {
   "cell_type": "code",
   "execution_count": 1,
   "outputs": [],
   "source": [
    "# OPTIONAL: Load the \"autoreload\" extension so that code can change\n",
    "%load_ext autoreload\n",
    "\n",
    "# OPTIONAL: always reload modules so that as you change code in src, it gets loaded\n",
    "%autoreload 2\n"
   ],
   "metadata": {
    "collapsed": false,
    "pycharm": {
     "name": "#%%\n"
    }
   }
  },
  {
   "cell_type": "code",
   "execution_count": 2,
   "metadata": {
    "collapsed": true
   },
   "outputs": [],
   "source": [
    "from ctrace.constraint import load_able_graph\n"
   ]
  },
  {
   "cell_type": "code",
   "execution_count": 3,
   "outputs": [
    {
     "name": "stdout",
     "output_type": "stream",
     "text": [
      "   x  Node1  Node2  Duration\n",
      "0  1   3384   3384    152878\n",
      "1  2   3384   1083      9240\n",
      "2  3   3384   1155      9240\n",
      "3  4   3384   6575      9240\n",
      "4  5   3384   1276      9240\n"
     ]
    }
   ],
   "source": [
    "G = load_able_graph()\n"
   ],
   "metadata": {
    "collapsed": false,
    "pycharm": {
     "name": "#%%\n"
    }
   }
  },
  {
   "cell_type": "code",
   "execution_count": 4,
   "outputs": [
    {
     "name": "stdout",
     "output_type": "stream",
     "text": [
      "\n"
     ]
    }
   ],
   "source": [
    "print(G)"
   ],
   "metadata": {
    "collapsed": false,
    "pycharm": {
     "name": "#%%\n"
    }
   }
  },
  {
   "cell_type": "code",
   "execution_count": 7,
   "outputs": [
    {
     "name": "stdout",
     "output_type": "stream",
     "text": [
      "[(3384, 3384), (3384, 1083), (3384, 1155), (3384, 6575), (3384, 1276), (3384, 1389), (3384, 1590), (3384, 2396), (3384, 5039), (3384, 1273), (3384, 3780), (3384, 3856), (3384, 3893), (3384, 3974), (3384, 4238), (3384, 4280), (3384, 4314), (3384, 4538), (3384, 64), (3384, 181), (3384, 251), (3384, 660), (3384, 745), (3384, 886), (3384, 1043), (3384, 1044), (3384, 1219), (3384, 1254), (3384, 5830), (3384, 5870), (3384, 6418), (3384, 1527), (3384, 1658), (3384, 1776), (3384, 1960), (3384, 2003), (3384, 2036), (3384, 2128), (3384, 2519), (3384, 2938), (3384, 3063), (3384, 3175), (3384, 3240), (3384, 3427), (3384, 3478), (3384, 3536), (3384, 3787), (3384, 4005), (3384, 4079), (3384, 4500), (3384, 4563), (3384, 93), (3384, 386), (3384, 415), (3384, 604), (3384, 864), (3384, 1056), (3384, 1082), (3384, 4615), (3384, 4854), (3384, 5425), (3384, 6361), (3384, 6419), (3384, 1447), (3384, 1559), (3384, 2841), (3384, 2850), (3384, 3426), (3384, 4073), (3384, 4412), (3384, 430), (3384, 695), (3384, 5921), (3384, 2968), (3384, 3538), (3384, 3543), (3384, 3574), (3384, 3644), (3384, 3654), (3384, 3668), (3384, 3703), (3384, 3712), (3384, 3734), (3384, 3812), (3384, 3825), (3384, 3887), (3384, 3999), (3384, 4089), (3384, 15), (3384, 38), (3384, 62), (3384, 85), (3384, 141), (3384, 1863), (3384, 1866), (3384, 1879), (3384, 1907), (3384, 1929), (3384, 2220), (3384, 2226)]\n"
     ]
    }
   ],
   "source": [
    "print(list(G.edges)[0:100])"
   ],
   "metadata": {
    "collapsed": false,
    "pycharm": {
     "name": "#%%\n"
    }
   }
  },
  {
   "cell_type": "code",
   "execution_count": null,
   "outputs": [],
   "source": [],
   "metadata": {
    "collapsed": false,
    "pycharm": {
     "name": "#%%\n"
    }
   }
  }
 ],
 "metadata": {
  "kernelspec": {
   "display_name": "Python 3",
   "language": "python",
   "name": "python3"
  },
  "language_info": {
   "codemirror_mode": {
    "name": "ipython",
    "version": 2
   },
   "file_extension": ".py",
   "mimetype": "text/x-python",
   "name": "python",
   "nbconvert_exporter": "python",
   "pygments_lexer": "ipython2",
   "version": "2.7.6"
  }
 },
 "nbformat": 4,
 "nbformat_minor": 0
}