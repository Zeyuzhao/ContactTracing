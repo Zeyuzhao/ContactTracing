{
 "cells": [
  {
   "cell_type": "code",
   "execution_count": 2,
   "metadata": {},
   "outputs": [
    {
     "name": "stdout",
     "output_type": "stream",
     "text": [
      "The autoreload extension is already loaded. To reload it, use:\n",
      "  %reload_ext autoreload\n"
     ]
    }
   ],
   "source": [
    "%load_ext autoreload\n",
    "# Always reload modules so that as you change code in src, it gets loaded\n",
    "%autoreload 2\n",
    "%matplotlib inline\n",
    "\n",
    "import networkx as nx\n",
    "import matplotlib.pyplot as plt\n",
    "from mpl_toolkits.mplot3d import axes3d\n",
    "import pandas as pd\n",
    "import numpy as np\n",
    "import random\n",
    "import math\n",
    "import EoN\n",
    "import seaborn as sns\n",
    "import time\n",
    "\n",
    "from ctrace.simulation import *\n",
    "from ctrace.dataset import *\n",
    "from ctrace.recommender import *\n",
    "from ctrace.problem_label import *\n",
    "from ctrace.utils import *"
   ]
  },
  {
   "cell_type": "code",
   "execution_count": null,
   "metadata": {},
   "outputs": [],
   "source": [
    "with open(PROJECT_ROOT / \"data\" / \"SIR_Cache\" / \"albe.json\", 'r') as infile:\n",
    "        j = json.load(infile)\n",
    "        (S, I1, I2, R) = (j[\"S\"], j[\"I1\"], j[\"I2\"], j[\"R\"])\n",
    "        infections = j[\"infections\"]\n",
    "\n",
    "G = load_graph_cville_labels()\n",
    "state = InfectionState(G, (S, I1, I2, R), 1350, \"none\", 0.05, True, 0.8, True, 0.8)\n",
    "while len(state.SIR.I1) + len(state.SIR.I2):\n",
    "    state.step(DepRound_fair(state))\n",
    "    print(len(state.SIR.R))"
   ]
  },
  {
   "cell_type": "code",
   "execution_count": 7,
   "metadata": {},
   "outputs": [
    {
     "name": "stdout",
     "output_type": "stream",
     "text": [
      "341\n",
      "610\n",
      "1177\n",
      "1989\n",
      "3272\n",
      "5342\n",
      "8586\n",
      "13335\n",
      "19330\n",
      "25937\n",
      "32113\n",
      "36850\n",
      "39972\n",
      "41682\n",
      "42647\n",
      "43111\n",
      "43323\n",
      "43403\n",
      "43422\n",
      "43435\n",
      "43437\n",
      "43438\n"
     ]
    }
   ],
   "source": [
    "with open(PROJECT_ROOT / \"data\" / \"SIR_Cache\" / \"mont.json\", 'r') as infile:\n",
    "        j = json.load(infile)\n",
    "        (S, I1, I2, R) = (j[\"S\"], j[\"I1\"], j[\"I2\"], j[\"R\"])\n",
    "        infections = j[\"infections\"]\n",
    "\n",
    "G = load_graph_montgomery_labels()\n",
    "G = read_extra_edges(G, 0.15)\n",
    "state = InfectionState(G, (S, I1, I2, R), 750, \"none\", 0.05, True, 0.8, True, 0.8)\n",
    "while len(state.SIR.I1) + len(state.SIR.I2):\n",
    "    state.step(DepRound_fair(state))\n",
    "    print(len(state.SIR.R))"
   ]
  }
 ],
 "metadata": {
  "kernelspec": {
   "display_name": "Python [conda env:.conda-tracing]",
   "language": "python",
   "name": "conda-env-.conda-tracing-py"
  },
  "language_info": {
   "codemirror_mode": {
    "name": "ipython",
    "version": 3
   },
   "file_extension": ".py",
   "mimetype": "text/x-python",
   "name": "python",
   "nbconvert_exporter": "python",
   "pygments_lexer": "ipython3",
   "version": "3.8.5"
  }
 },
 "nbformat": 4,
 "nbformat_minor": 4
}
