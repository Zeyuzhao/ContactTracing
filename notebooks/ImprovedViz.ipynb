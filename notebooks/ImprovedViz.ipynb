{
 "cells": [
  {
   "cell_type": "code",
   "execution_count": 99,
   "id": "a3cf8c8e",
   "metadata": {
    "scrolled": false
   },
   "outputs": [
    {
     "name": "stdout",
     "output_type": "stream",
     "text": [
      "The autoreload extension is already loaded. To reload it, use:\n",
      "  %reload_ext autoreload\n"
     ]
    }
   ],
   "source": [
    "%matplotlib inline\n",
    "%load_ext autoreload\n",
    "%autoreload 2\n",
    "\n",
    "import networkx as nx\n",
    "import matplotlib.pyplot as plt\n",
    "from mpl_toolkits.mplot3d import axes3d\n",
    "import pandas as pd\n",
    "import numpy as np\n",
    "import random\n",
    "import math\n",
    "import EoN\n",
    "import seaborn as sns\n",
    "import time\n",
    "\n",
    "# New Imports\n",
    "#from ctrace.contact_tracing import *\n",
    "#from ctrace.constraint import *\n",
    "#from ctrace.solve import *\n",
    "#from ctrace.simulation import *\n",
    "#from ctrace.restricted import *\n",
    "from ctrace.simulation import *\n",
    "from ctrace.dataset import *\n",
    "from ctrace.recommender import *\n",
    "from ctrace.problem_label import *\n",
    "from ctrace.utils import *\n",
    "from ctrace.drawing import *"
   ]
  },
  {
   "cell_type": "code",
   "execution_count": 100,
   "id": "955cf9bc",
   "metadata": {
    "scrolled": true
   },
   "outputs": [],
   "source": [
    "# rng = np.random.default_rng()\n",
    "\n",
    "# def pct_to_int(amt, pcts):\n",
    "#     \"\"\"\n",
    "#     Distributes amt according to pcts. Last element accumulates all fractions, may be off by (n - 1)\n",
    "#     \"\"\"\n",
    "#     first = [int(amt * pct) for pct in pcts[:-1]]\n",
    "#     return first + [amt - sum(first)]\n",
    "# assert pct_to_int(10, [0.5, 0.5]) == [5, 5]\n",
    "# assert pct_to_int(11, [0.5, 0.5]) == [5, 6]\n",
    "# assert pct_to_int(20, [0.33, 0.33, 0.34]) == [6, 6, 8]\n",
    "\n",
    "# def segmented_greedy(state: InfectionState, split_pcts=[0.75, 0.25], alloc_pcts=[.25, .75], rng=np.random, overflow=True, DEBUG=False):\n",
    "#     \"\"\"\n",
    "#     pcts are ordered from smallest degree to largest degree\n",
    "#     split_pcts: segment size percentages\n",
    "#     alloc_pcts: segment budget percentages\n",
    "    \n",
    "#     Overflow Mechanic: the budget may exceed the segment size.\n",
    "#     We fill from right to left \n",
    "#     (greater chance of overflow: larger degree usually have fewer members but higher budget), \n",
    "#     and excess capacity is carried over to the next category.\n",
    "#     \"\"\"\n",
    "#     if not math.isclose(1, sum(split_pcts)):\n",
    "#         raise ValueError(f\"split_pcts '{split_pcts}' sum to {sum(split_pcts)}, not 1\")\n",
    "#     if not math.isclose(1, sum(alloc_pcts)):\n",
    "#         raise ValueError(f\"alloc_pcts '{alloc_pcts}' sum to {sum(alloc_pcts)}, not 1\")\n",
    "    \n",
    "#     budget = state.budget\n",
    "#     G = state.G\n",
    "#     split_amt = pct_to_int(len(state.V1), split_pcts)\n",
    "#     alloc_amt = pct_to_int(budget, alloc_pcts)\n",
    "    \n",
    "#     v1_degrees = [(n, G.degree(n)) for n in state.V1]\n",
    "#     v1_sorted = [n for n,d in sorted(v1_degrees, key=lambda x: x[1])]\n",
    "    \n",
    "#     v1_segments = np.split(v1_sorted, np.cumsum(split_amt[:-1]))\n",
    "    \n",
    "#     overflow = 0\n",
    "#     samples = []\n",
    "#     for segment, amt in reversed(list(zip(v1_segments, alloc_amt))):\n",
    "#         # Overflow is carried over to the next segment\n",
    "#         segment_budget = amt + overflow\n",
    "#         if segment_budget > len(segment):\n",
    "#             overflow = segment_budget - len(segment)\n",
    "#             segment_budget = len(segment)\n",
    "#         else:\n",
    "#             overflow = 0\n",
    "            \n",
    "#         sample = rng.choice(segment, segment_budget, replace=False)\n",
    "#         samples.extend(sample)\n",
    "        \n",
    "#         if DEBUG:\n",
    "#             print(f\"{segment_budget} / {len(segment)} (overflow: {overflow})\")\n",
    "#             print(\"segment: \", segment)\n",
    "#             print(\"sample: \", sample)\n",
    "#             print(\"--------------\")\n",
    "#             assert len(samples) <= budget\n",
    "#     return samples\n"
   ]
  },
  {
   "cell_type": "markdown",
   "id": "b17e216e",
   "metadata": {},
   "source": [
    "### Smallworld Graphs"
   ]
  },
  {
   "cell_type": "code",
   "execution_count": 101,
   "id": "e9d966b2",
   "metadata": {},
   "outputs": [
    {
     "name": "stderr",
     "output_type": "stream",
     "text": [
      "100%|██████████| 100/100 [00:00<00:00, 5138.13it/s]\n"
     ]
    }
   ],
   "source": [
    "import random\n",
    "import networkx as nx\n",
    "from matplotlib import pyplot as plt\n",
    "\n",
    "# Graph Generation\n",
    "seed=42\n",
    "# G, pos = small_world_grid(\n",
    "#     width=20,\n",
    "#     max_norm=True,\n",
    "#     sparsity=0.5,\n",
    "#     p=1,\n",
    "#     local_range=1,\n",
    "#     num_long_range=0.2,\n",
    "#     r=2,\n",
    "#     seed=seed\n",
    "# )\n",
    "\n",
    "# BORING\n",
    "G, pos = small_world_grid(\n",
    "    width=10,\n",
    "    max_norm=False,\n",
    "    sparsity=0,\n",
    "    p=1,\n",
    "    local_range=1,\n",
    "    num_long_range=0,\n",
    "    r=2,\n",
    "    seed=seed\n",
    ")\n",
    "\n",
    "\n",
    "for n in G.nodes:\n",
    "    G.nodes[n].update({\n",
    "        'compliance_rate_og': 1,\n",
    "        'age_group': 1,\n",
    "    })\n",
    "for e in G.edges:\n",
    "    G.edges[e].update({\n",
    "        'duration': 10000,\n",
    "    })"
   ]
  },
  {
   "cell_type": "code",
   "execution_count": 105,
   "id": "6982808f",
   "metadata": {},
   "outputs": [
    {
     "data": {
      "text/plain": [
       "{'default': {'node_size': 30,\n",
       "  'node_color': 'black',\n",
       "  'edgecolors': 'black',\n",
       "  'linewidths': 0.5},\n",
       " 'seir': {<SEIR.E: 2>: {'node_size': 60, 'node_color': 'red'},\n",
       "  <SEIR.I: 3>: {'node_size': 60, 'node_color': 'darkred'},\n",
       "  <SEIR.R: 4>: {'node_size': 60, 'node_color': 'skyblue'}},\n",
       " 'isolate': {True: {'edgecolors': 'aqua', 'linewidths': 1.5}}}"
      ]
     },
     "execution_count": 105,
     "metadata": {},
     "output_type": "execute_result"
    }
   ],
   "source": [
    "# I1 = E\n",
    "# I2 = I\n",
    "\n",
    "min_cut_node_style = {\n",
    "    # Default styling\n",
    "    \"default\": {\n",
    "        \"node_size\": 30,\n",
    "        \"node_color\": \"black\",\n",
    "        \"edgecolors\": \"black\",\n",
    "        \"linewidths\": 0.5,\n",
    "    },\n",
    "    \"seir\": {\n",
    "        SEIR.E: {\"node_size\": 60, \"node_color\": \"red\"},\n",
    "        SEIR.I: {\"node_size\": 60, \"node_color\": \"darkred\"},\n",
    "        SEIR.R: {\"node_size\": 60, \"node_color\": \"skyblue\"},\n",
    "    },\n",
    "    \"isolate\": {\n",
    "        True: {\"edgecolors\": \"aqua\", \"linewidths\": 1.5}\n",
    "    },\n",
    "#     \"V1\": {\n",
    "#         True: {\"node_size\": 30, \"node_color\": \"orange\"},\n",
    "#     }\n",
    "}\n",
    "\n",
    "min_cut_edge_style = {\n",
    "    # connectionstyle and arrowstyle are function-wide parameters\n",
    "    # NOTE: For limit the number of unique connectionstyle / arrowstyle pairs\n",
    "    \"default\": {\n",
    "        \"edge_color\": \"black\",\n",
    "        \"arrowstyle\": \"-\",\n",
    "    },\n",
    "    \"long\": {\n",
    "        False: {},\n",
    "        True: {\"connectionstyle\": \"arc3,rad=0.2\"},\n",
    "    },\n",
    "\n",
    "    # Overriding (cut overrides transmission)\n",
    "    \"transmit\": {\n",
    "        False: {},\n",
    "        True: {\"edge_color\": \"red\"},\n",
    "    },\n",
    "    \"cut\": {\n",
    "        False: {},\n",
    "        True: {\"edge_color\": \"blue\"},\n",
    "    },\n",
    "}\n",
    "\n",
    "min_cut_node_style"
   ]
  },
  {
   "cell_type": "code",
   "execution_count": 108,
   "id": "ded74c62",
   "metadata": {
    "scrolled": true
   },
   "outputs": [
    {
     "name": "stdout",
     "output_type": "stream",
     "text": [
      "G size: 100\n",
      "action (17): [75, 53, 82, 83, 86, 84, 87, 47, 71, 14, 31, 20, 95, 38, 12, 42, 24]\n",
      "V1 (35): {7, 12, 13, 14, 17, 18, 20, 22, 24, 25, 27, 31, 33, 36, 38, 40, 42, 44, 45, 47, 53, 60, 71, 75, 80, 82, 83, 84, 86, 87, 91, 94, 95, 96, 98}\n",
      "action = V1:  False\n",
      "G size 100\n"
     ]
    }
   ],
   "source": [
    "# Run the simulation\n",
    "rng = np.random.default_rng(12345)\n",
    "i1_pct = 0.0\n",
    "i2_pct = 0.15\n",
    "seir = PartitionSEIR.from_dist(len(G), [1 - i1_pct - i2_pct, i1_pct, i2_pct, 0], rng=rng)\n",
    "state = InfectionState(\n",
    "    G=G, \n",
    "    SIR=(list(seir.S), list(seir.E), list(seir.I), list(seir.R)), \n",
    "    budget=int(len(G) * 0.3), \n",
    "    policy=\"none\", \n",
    "    transmission_rate=0.15, \n",
    "    transmission_known=True, \n",
    "    compliance_rate=1, \n",
    "    compliance_known=True, \n",
    "    discovery_rate=1, \n",
    "    snitch_rate=1\n",
    ")\n",
    "action = segmented_greedy(state)\n",
    "print(f\"G size: {len(G)}\")\n",
    "print(f\"action ({len(action)}): {action}\")\n",
    "print(f\"V1 ({len(state.V1)}): {state.V1}\")\n",
    "print(\"action = V1: \", set(action) == set(state.V1))\n",
    "print(\"G size\", len(G))"
   ]
  },
  {
   "cell_type": "code",
   "execution_count": 104,
   "id": "326acb1d",
   "metadata": {},
   "outputs": [
    {
     "data": {
      "image/png": "[encoded data removed]",
      "text/plain": [
       "<Figure size 432x432 with 1 Axes>"
      ]
     },
     "metadata": {},
     "output_type": "display_data"
    }
   ],
   "source": [
    "fig, ax = plt.subplots(figsize=(6,6))\n",
    "nx.set_node_attributes(G, seir.to_dict(), \"seir\")\n",
    "fast_draw_style(G, min_cut_node_style,\n",
    "           min_cut_edge_style, ax=ax, DEBUG=False)\n",
    "plt.show()"
   ]
  },
  {
   "cell_type": "code",
   "execution_count": null,
   "id": "89b27c42",
   "metadata": {},
   "outputs": [],
   "source": [
    "import copy\n",
    "raw_history = []\n",
    "state_history = []\n",
    "action_history = []\n",
    "\n",
    "def pct_format(name, v1, v2):\n",
    "    pct = f\"{(v1 / v2) * 100:.1f}%\" if v2 != 0 else \"-%\"\n",
    "    return f\"{name}: {v1}/{v2} ({pct})\"\n",
    "\n",
    "while len(state.SIR.I2) + len(state.SIR.I1)!=0:\n",
    "    action = segmented_greedy(state)\n",
    "    \n",
    "    state_history.append(state.SIR)\n",
    "    action_history.append(action)\n",
    "    raw_history.append(copy.deepcopy(state))\n",
    "    \n",
    "    print(f\"Size (I1, I2, I): {(len(state.SIR.I1), len(state.SIR.I2), len(state.SIR.I1) + len(state.SIR.I2))}\")\n",
    "    print(f\"V1 Size: {len(state.V1)}\")\n",
    "    print(f\"V2 Size: {len(state.V2)}\")\n",
    "    print(pct_format(\"Utilized Quarantine (out of V1)\", len(action), len(state.V1)))\n",
    "    print(pct_format(\"I1 Quarantined (out of Q)\", len(set(state.V1) & set(action)), len(action)))\n",
    "    print(f\"I1: {state.SIR.I1}\")\n",
    "    print(f\"I2: {state.SIR.I2}\")\n",
    "    print(f\"V1: {state.V1}\")\n",
    "    print(f\"V2: {state.V2}\")\n",
    "    print(f\"Q: {action}\")\n",
    "    print(\"-----------------------------\")\n",
    "    \n",
    "    # Mutable state\n",
    "    state.step(action)\n",
    "\n",
    "action_history.append(set())"
   ]
  },
  {
   "cell_type": "code",
   "execution_count": null,
   "id": "c318c99c",
   "metadata": {},
   "outputs": [],
   "source": [
    "G_draw = G.copy()\n",
    "seir = PartitionSEIR.from_sets(state_history[0])\n",
    "action = {n: True for n in action_history[0]}\n",
    "nx.set_node_attributes(G_draw, seir.to_dict(), \"seir\")\n",
    "nx.set_node_attributes(G_draw, action, \"isolate\")\n",
    "transmit = {e: (seir[e[0]] == SEIR.E or seir[e[0]] == SEIR.I) or (seir[e[1]] == SEIR.E or seir[e[1]] == SEIR.I)\n",
    "            for e in G_draw.edges}\n",
    "nx.set_edge_attributes(G_draw, transmit, \"transmit\")\n"
   ]
  },
  {
   "cell_type": "code",
   "execution_count": null,
   "id": "67bc4d40",
   "metadata": {
    "scrolled": true
   },
   "outputs": [],
   "source": [
    "fig, ax = plt.subplots(figsize=(10,10))\n",
    "\n",
    "fast_draw_style(G_draw, min_cut_node_style,\n",
    "           min_cut_edge_style, ax=ax, DEBUG=False)\n",
    "nx.draw_networkx_labels(G_draw, pos, font_size=10, ax=ax, verticalalignment='bottom', horizontalalignment=\"right\")\n",
    "plt.show()"
   ]
  },
  {
   "cell_type": "code",
   "execution_count": null,
   "id": "f93cdaa3",
   "metadata": {},
   "outputs": [],
   "source": [
    "for s in state_history:\n",
    "    print([s.I1, s.I2])\n",
    "    print('-----------------')"
   ]
  },
  {
   "cell_type": "code",
   "execution_count": null,
   "id": "af01a865",
   "metadata": {},
   "outputs": [],
   "source": [
    "import networkx as nx\n",
    "import numpy as np\n",
    "import matplotlib.pyplot as plt\n",
    "import seaborn as sns\n",
    "import matplotlib.animation\n",
    "\n",
    "# Build plot\n",
    "fig, ax = plt.subplots(figsize=(10,10))\n",
    "\n",
    "\n",
    "def update(num, SIR=([],[],[]), v1_edges=[]):\n",
    "    ax.clear()\n",
    "    \n",
    "    G_draw = G.copy()\n",
    "    \n",
    "    state = raw_history[num]\n",
    "    \n",
    "    seir = PartitionSEIR.from_sets(state_history[num])\n",
    "    nx.set_node_attributes(G_draw, seir.to_dict(), \"seir\")\n",
    "    \n",
    "    action = {n: True for n in action_history[num]}    \n",
    "    nx.set_node_attributes(G_draw, action, \"isolate\")\n",
    "    \n",
    "    transmit = {e: (seir[e[0]] == SEIR.E or seir[e[0]] == SEIR.I) or (seir[e[1]] == SEIR.E or seir[e[1]] == SEIR.I)\n",
    "                for e in G_draw.edges}\n",
    "    nx.set_edge_attributes(G_draw, transmit, \"transmit\")\n",
    "    \n",
    "    nx.set_node_attributes(G_draw, {n: True for n in state.V1}, \"V1\")\n",
    "    nx.set_node_attributes(G_draw, {n: True for n in state.V2}, \"V2\")\n",
    "#     nx.set_node_attributes(rand_G, vertex_soln, \"status\")\n",
    "#     nx.set_edge_attributes(rand_G, edge_soln, \"cut\")\n",
    "\n",
    "#     transmit = {e: vertex_soln[e[0]] or vertex_soln[e[1]]\n",
    "#                 for e in rand_G.edges}\n",
    "#     nx.set_edge_attributes(rand_G, transmit, \"transmit\")\n",
    "\n",
    "    fast_draw_style(G_draw, min_cut_node_style,\n",
    "               min_cut_edge_style, ax=ax, DEBUG=False)\n",
    "    nx.draw_networkx_labels(G_draw, pos, font_size=10, ax=ax, verticalalignment='bottom', horizontalalignment=\"right\")\n",
    "    \n",
    "    # Scale plot ax\n",
    "    ax.set_title(f\"Frame {num}\", fontweight=\"bold\")\n",
    "    ax.set_xticks([])\n",
    "    ax.set_yticks([])\n",
    "\n",
    "ani = matplotlib.animation.FuncAnimation(fig, update, frames=len(state_history), interval=500, repeat=True, repeat_delay=1)"
   ]
  },
  {
   "cell_type": "code",
   "execution_count": null,
   "id": "4d146ff1",
   "metadata": {
    "scrolled": true
   },
   "outputs": [],
   "source": [
    "action_history"
   ]
  },
  {
   "cell_type": "code",
   "execution_count": null,
   "id": "20032a96",
   "metadata": {},
   "outputs": [],
   "source": [
    "from IPython.display import HTML\n",
    "html_out = ani.to_jshtml()\n",
    "HTML(html_out)\n"
   ]
  },
  {
   "cell_type": "code",
   "execution_count": null,
   "id": "f89abfeb",
   "metadata": {},
   "outputs": [],
   "source": [
    "ani.save('sim.mp4', dpi=200, fps=.5)"
   ]
  },
  {
   "cell_type": "code",
   "execution_count": null,
   "id": "c3a86965",
   "metadata": {
    "scrolled": false
   },
   "outputs": [],
   "source": [
    "with open('viz_large.html', 'w+') as f:\n",
    "    f.write(html_out)"
   ]
  },
  {
   "cell_type": "code",
   "execution_count": null,
   "id": "036dcd79",
   "metadata": {},
   "outputs": [],
   "source": []
  },
  {
   "cell_type": "code",
   "execution_count": null,
   "id": "b59e7da1",
   "metadata": {},
   "outputs": [],
   "source": []
  },
  {
   "cell_type": "code",
   "execution_count": null,
   "id": "7a58caec",
   "metadata": {},
   "outputs": [],
   "source": [
    "G_mont = load_graph_montgomery_labels()\n"
   ]
  },
  {
   "cell_type": "code",
   "execution_count": null,
   "id": "d160748b",
   "metadata": {
    "scrolled": true
   },
   "outputs": [],
   "source": [
    "G_mont.nodes[0]"
   ]
  },
  {
   "cell_type": "code",
   "execution_count": null,
   "id": "549d528a",
   "metadata": {},
   "outputs": [],
   "source": [
    "G_mont.edges[(0,1)]"
   ]
  },
  {
   "cell_type": "code",
   "execution_count": null,
   "id": "11d7ce19",
   "metadata": {},
   "outputs": [],
   "source": [
    "with open(PROJECT_ROOT / \"data\" / \"SIR_Cache\" / \"c7.json\", 'r') as infile:\n",
    "    j = json.load(infile)\n",
    "    (S, I1, I2, R) = (j[\"S\"], j[\"I1\"], j[\"I2\"], j[\"R\"])\n",
    "    infections = j[\"infections\"]"
   ]
  },
  {
   "cell_type": "code",
   "execution_count": null,
   "id": "921b3970",
   "metadata": {},
   "outputs": [],
   "source": [
    "\n",
    "\n",
    "state = InfectionState(G, (S, I1, I2, R), 1000, \"none\", 0.05, True, 0.8, True, 1, 1)\n",
    "\n",
    "while len(state.SIR.I2) + len(state.SIR.I1)!=0:\n",
    "    state.step(DepRound_fair(state))\n",
    "    print(len(state.SIR.R))"
   ]
  }
 ],
 "metadata": {
  "kernelspec": {
   "display_name": "Environment (conda_tracing)",
   "language": "python",
   "name": "conda_tracing"
  },
  "language_info": {
   "codemirror_mode": {
    "name": "ipython",
    "version": 3
   },
   "file_extension": ".py",
   "mimetype": "text/x-python",
   "name": "python",
   "nbconvert_exporter": "python",
   "pygments_lexer": "ipython3",
   "version": "3.9.4"
  }
 },
 "nbformat": 4,
 "nbformat_minor": 5
}
