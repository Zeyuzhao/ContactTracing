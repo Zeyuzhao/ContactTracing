{
 "cells": [
  {
   "cell_type": "code",
   "execution_count": 1,
   "id": "streaming-catalyst",
   "metadata": {},
   "outputs": [
    {
     "name": "stdout",
     "output_type": "stream",
     "text": [
      "<ortools.linear_solver.pywraplp.Solver; proxy of <Swig Object of type 'operations_research::MPSolver *' at 0x7f8161790c90> >\n"
     ]
    }
   ],
   "source": [
    "from ortools.linear_solver import pywraplp\n",
    "solver = pywraplp.Solver.CreateSolver(\"GUROBI\")\n",
    "print(solver)"
   ]
  },
  {
   "cell_type": "code",
   "execution_count": 2,
   "id": "fatal-tracker",
   "metadata": {},
   "outputs": [],
   "source": [
    "from ortools.linear_solver import pywraplp\n"
   ]
  },
  {
   "cell_type": "code",
   "execution_count": 3,
   "id": "active-german",
   "metadata": {},
   "outputs": [
    {
     "name": "stdout",
     "output_type": "stream",
     "text": [
      "['/home/zach/anaconda3/envs/tracing/bin', '/home/zach/anaconda3/condabin', '/home/zach/.volta/bin', '/home/zach/.cargo/bin', '/home/zach/.opam/4.11.0/bin', '/home/zach/.volta/bin', '/home/zach/.cargo/bin', '/home/zach/.local/bin', '/home/zach/bin', '/usr/local/sbin', '/usr/local/bin', '/usr/sbin', '/usr/bin', '/sbin', '/bin', '/usr/games', '/usr/local/games', '/snap/bin', '/opt/gurobi911/linux64/bin', '/home/zach/.jdks/openjdk-14.0.1/bin']\n"
     ]
    }
   ],
   "source": [
    "import os\n",
    "print(os.environ['PATH'].split(\":\"))"
   ]
  },
  {
   "cell_type": "code",
   "execution_count": 5,
   "id": "external-support",
   "metadata": {},
   "outputs": [
    {
     "name": "stdout",
     "output_type": "stream",
     "text": [
      "/opt/gurobi911/linux64\n"
     ]
    }
   ],
   "source": [
    "print(os.environ[\"GUROBI_HOME\"])"
   ]
  },
  {
   "cell_type": "code",
   "execution_count": 4,
   "id": "correct-connectivity",
   "metadata": {},
   "outputs": [],
   "source": []
  },
  {
   "cell_type": "code",
   "execution_count": 18,
   "id": "alien-apple",
   "metadata": {},
   "outputs": [],
   "source": []
  },
  {
   "cell_type": "code",
   "execution_count": 18,
   "id": "educational-tsunami",
   "metadata": {},
   "outputs": [],
   "source": []
  },
  {
   "cell_type": "code",
   "execution_count": null,
   "outputs": [],
   "source": [],
   "metadata": {
    "collapsed": false,
    "pycharm": {
     "name": "#%%\n"
    }
   }
  }
 ],
 "metadata": {
  "kernelspec": {
   "display_name": "Python 3",
   "language": "python",
   "name": "python3"
  },
  "language_info": {
   "codemirror_mode": {
    "name": "ipython",
    "version": 3
   },
   "file_extension": ".py",
   "mimetype": "text/x-python",
   "name": "python",
   "nbconvert_exporter": "python",
   "pygments_lexer": "ipython3",
   "version": "3.8.5"
  }
 },
 "nbformat": 4,
 "nbformat_minor": 5
}