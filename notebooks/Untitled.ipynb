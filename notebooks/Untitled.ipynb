{
 "cells": [
  {
   "cell_type": "code",
   "execution_count": 1,
   "id": "streaming-catalyst",
   "metadata": {},
   "outputs": [
    {
     "name": "stdout",
     "output_type": "stream",
     "text": [
      "<ortools.linear_solver.pywraplp.Solver; proxy of <Swig Object of type 'operations_research::MPSolver *' at 0x7f8161790c90> >\n"
     ]
    }
   ],
   "source": [
    "from ortools.linear_solver import pywraplp\n",
    "solver = pywraplp.Solver.CreateSolver(\"GUROBI\")\n",
    "print(solver)"
   ]
  },
  {
   "cell_type": "code",
   "execution_count": 2,
   "id": "fatal-tracker",
   "metadata": {},
   "outputs": [],
   "source": [
    "from ortools.linear_solver import pywraplp\n"
   ]
  },
  {
   "cell_type": "code",
   "execution_count": 3,
   "id": "active-german",
   "metadata": {},
   "outputs": [
    {
     "name": "stdout",
     "output_type": "stream",
     "text": [
      "['/home/zach/anaconda3/envs/tracing/bin', '/home/zach/anaconda3/condabin', '/home/zach/.volta/bin', '/home/zach/.cargo/bin', '/home/zach/.opam/4.11.0/bin', '/home/zach/.volta/bin', '/home/zach/.cargo/bin', '/home/zach/.local/bin', '/home/zach/bin', '/usr/local/sbin', '/usr/local/bin', '/usr/sbin', '/usr/bin', '/sbin', '/bin', '/usr/games', '/usr/local/games', '/snap/bin', '/opt/gurobi911/linux64/bin', '/home/zach/.jdks/openjdk-14.0.1/bin']\n"
     ]
    }
   ],
   "source": [
    "import os\n",
    "print(os.environ['PATH'].split(\":\"))"
   ]
  },
  {
   "cell_type": "code",
   "execution_count": 5,
   "id": "external-support",
   "metadata": {},
   "outputs": [
    {
     "name": "stdout",
     "output_type": "stream",
     "text": [
      "/opt/gurobi911/linux64\n"
     ]
    }
   ],
   "source": [
    "print(os.environ[\"GUROBI_HOME\"])"
   ]
  },
  {
   "cell_type": "code",
   "execution_count": 7,
   "id": "correct-connectivity",
   "metadata": {},
   "outputs": [
    {
     "data": {
      "text/plain": [
       "[[1.0, 0.0],\n",
       " [0.9, 0.1],\n",
       " [0.8, 0.2],\n",
       " [0.7, 0.3],\n",
       " [0.6, 0.4],\n",
       " [0.5, 0.5],\n",
       " [0.4, 0.6],\n",
       " [0.3, 0.7],\n",
       " [0.2, 0.8],\n",
       " [0.1, 0.9],\n",
       " [0.0, 1.0]]"
      ]
     },
     "execution_count": 7,
     "metadata": {},
     "output_type": "execute_result"
    }
   ],
   "source": [
    "import numpy as np\n",
    "[[round(1 - p, 3), round(p, 3)] for p in np.arange(0, 1.1, 0.1)]"
   ]
  },
  {
   "cell_type": "code",
   "execution_count": 18,
   "id": "alien-apple",
   "metadata": {},
   "outputs": [],
   "source": []
  },
  {
   "cell_type": "code",
   "execution_count": 18,
   "id": "educational-tsunami",
   "metadata": {},
   "outputs": [],
   "source": []
  },
  {
   "cell_type": "code",
   "execution_count": null,
   "id": "36bee31e",
   "metadata": {
    "pycharm": {
     "name": "#%%\n"
    }
   },
   "outputs": [],
   "source": []
  }
 ],
 "metadata": {
  "kernelspec": {
   "display_name": "Python 3",
   "language": "python",
   "name": "python3"
  },
  "language_info": {
   "codemirror_mode": {
    "name": "ipython",
    "version": 3
   },
   "file_extension": ".py",
   "mimetype": "text/x-python",
   "name": "python",
   "nbconvert_exporter": "python",
   "pygments_lexer": "ipython3",
   "version": "3.9.4"
  }
 },
 "nbformat": 4,
 "nbformat_minor": 5
}
