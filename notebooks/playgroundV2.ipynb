{
 "cells": [
  {
   "cell_type": "code",
   "execution_count": 4,
   "metadata": {},
   "outputs": [
    {
     "name": "stdout",
     "output_type": "stream",
     "text": [
      "The autoreload extension is already loaded. To reload it, use:\n",
      "  %reload_ext autoreload\n"
     ]
    }
   ],
   "source": [
    "# Load the \"autoreload\" extension so that code can change\n",
    "%load_ext autoreload\n",
    "# Always reload modules so that as you change code in src, it gets loaded\n",
    "%autoreload 2\n",
    "\n",
    "import networkx as nx\n",
    "import matplotlib.pyplot as plt\n",
    "import pandas as pd\n",
    "import numpy as np\n",
    "import random\n",
    "import math\n",
    "import EoN\n",
    "\n",
    "# New Imports\n",
    "from ctrace.contact_tracing import *\n",
    "from ctrace.constraint import *\n",
    "from ctrace.solve import *\n",
    "from ctrace.simulation import *"
   ]
  },
  {
   "cell_type": "code",
   "execution_count": 2,
   "metadata": {},
   "outputs": [],
   "source": [
    "G = load_graph('montgomery') #fetching the montgamery graph\n",
    "n = len(G.nodes)\n",
    "I0 = [i for i in range(n) if random.random() > 0.99]"
   ]
  },
  {
   "cell_type": "code",
   "execution_count": 65,
   "metadata": {},
   "outputs": [
    {
     "name": "stdout",
     "output_type": "stream",
     "text": [
      "[  8  17  42 118 246 591]\n"
     ]
    }
   ],
   "source": [
    "(S, I, R) = initial(G, timesteps=5, p=0.1)"
   ]
  },
  {
   "cell_type": "code",
   "execution_count": 87,
   "metadata": {},
   "outputs": [
    {
     "name": "stdout",
     "output_type": "stream",
     "text": [
      "\n",
      "73763 1344 350\n",
      "71271 2913 1273\n",
      "66200 5492 3765\n",
      "57962 8659 8836\n",
      "47992 10391 17074\n",
      "39803 8610 27044\n",
      "35102 5122 35233\n",
      "32880 2643 39934\n",
      "31977 1324 42156\n",
      "31625 773 43059\n"
     ]
    }
   ],
   "source": [
    "simulate(G, \n",
    "         p=0.1, \n",
    "         budget=100,\n",
    "         method=\"none\", \n",
    "         num_initial_infections=10, \n",
    "         num_shocks=5, \n",
    "         initial_iterations=5, \n",
    "         MDP_iterations=10, \n",
    "         iterations_to_recover=1,\n",
    "         from_cache=\"Q4data.json\",\n",
    "         verbose=True)"
   ]
  },
  {
   "cell_type": "code",
   "execution_count": 37,
   "metadata": {},
   "outputs": [],
   "source": [
    "def shock(S, I, num_shocks):\n",
    "    \n",
    "    shocks = random.sample(S, num_shocks)\n",
    "    \n",
    "    S = S.difference(shocks)\n",
    "    I = I.union(shocks)\n",
    "    \n",
    "    return (S, I)"
   ]
  },
  {
   "cell_type": "code",
   "execution_count": 86,
   "metadata": {},
   "outputs": [],
   "source": [
    "def simulate(G: nx.graph, p, budget, method, num_initial_infections, num_shocks, initial_iterations, MDP_iterations, iterations_to_recover=1, cache=None, from_cache=None, shock_MDP=False, visualization=False, verbose=False):\n",
    "    S = set()\n",
    "    I = set()\n",
    "    R = set()\n",
    "    infected_queue = []\n",
    "    \n",
    "    if from_cache:\n",
    "        with open(PROJECT_ROOT / \"data\" / \"SIR_Cache\" / from_cache, 'r') as infile:\n",
    "            j = json.load(infile)\n",
    "            (S, I, R) = (set(j[\"S\"]), set(j[\"I\"]), set(j[\"R\"]))\n",
    "            infected_queue = [set() for _ in range(iterations_to_recover)]\n",
    "    else:\n",
    "        #initialize S, I, R\n",
    "        I = set(random.sample(range(len(G.nodes)), num_initial_infections))\n",
    "        S = set([i for i in range(len(G.nodes))]).difference(I)\n",
    "        R = set()\n",
    "\n",
    "        #initialize the queue for recovery\n",
    "        infected_queue = [set() for _ in range(iterations_to_recover)]\n",
    "        infected_queue.pop(0)\n",
    "        infected_queue.append(I)\n",
    "\n",
    "        if verbose:\n",
    "            print(len(S),len(I),len(R))\n",
    "\n",
    "        for t in range(initial_iterations):\n",
    "\n",
    "            full_data = EoN.basic_discrete_SIR(G=G, p=p, initial_infecteds=I, initial_recovereds=R, tmin=0, tmax=1, return_full_data=True)\n",
    "\n",
    "            #update susceptible, infected, and recovered sets\n",
    "            S = set([k for (k,v) in full_data.get_statuses(time=1).items() if v == 'S'])\n",
    "            new_I = set([k for (k,v) in full_data.get_statuses(time=1).items() if v == 'I'])\n",
    "\n",
    "            (S, new_I) = shock(S, new_I, num_shocks)\n",
    "\n",
    "            to_recover = infected_queue.pop(0)\n",
    "            infected_queue.append(new_I)\n",
    "\n",
    "            I = I.difference(to_recover)\n",
    "            I = I.union(new_I)\n",
    "            R = R.union(to_recover)\n",
    "\n",
    "            if verbose:\n",
    "                print(len(S),len(I),len(R))\n",
    "    \n",
    "    if cache:\n",
    "        save = {\n",
    "            \"S\": S,\n",
    "            \"I\": I,\n",
    "            \"R\": R,\n",
    "        }\n",
    "        with open(PROJECT_ROOT / \"data\" / \"SIR_Cache\" / cache, 'w') as outfile:\n",
    "            json.dump(save, outfile)\n",
    "    \n",
    "    \n",
    "    peak = 0\n",
    "    total_iterated = 0\n",
    "    Q_infected = []\n",
    "    Q_susceptible = []\n",
    "    \n",
    "    \n",
    "    if MDP_iterations == -1:\n",
    "        iterator = itertools.count(start=0, step=1)\n",
    "    else:\n",
    "        iterator = range(MDP_iterations)\n",
    "\n",
    "    print()\n",
    "    \n",
    "    for t in iterator:\n",
    "        \n",
    "        # Loop until no infected left.\n",
    "        if (MDP_iterations == -1) & (len(I) == 0):\n",
    "            total_iterated = t+initial_iterations\n",
    "            break\n",
    "            \n",
    "        #get recommended quarantine\n",
    "        (val, recommendation) = to_quarantine(G, I, R, budget, method=method, p=p)\n",
    "        \n",
    "        #go through one step of the disease spread\n",
    "        #(S, I, R) = MDP_step(G, S, I, R, Q_infected, Q_susceptible, p=p)\n",
    "        \n",
    "        full_data = EoN.basic_discrete_SIR(G=G, p=p, initial_infecteds=I, initial_recovereds=list(R)+Q_infected+Q_susceptible, tmin=0, tmax=1, return_full_data=True)\n",
    "        \n",
    "        S = set([k for (k,v) in full_data.get_statuses(time=1).items() if v == 'S'])\n",
    "        new_I = set([k for (k,v) in full_data.get_statuses(time=1).items() if v == 'I'])\n",
    "        \n",
    "        if shock_MDP:\n",
    "            (S, new_I) = shock(S, new_I, num_shocks)\n",
    "        \n",
    "        to_recover = infected_queue.pop(0)\n",
    "        infected_queue.append(new_I)\n",
    "        \n",
    "        I = I.difference(to_recover)\n",
    "        I = I.union(new_I)\n",
    "        R = R.union(to_recover)\n",
    "        \n",
    "        print(len(S), len(I), len(R))\n",
    "        \n",
    "        # people are quarantined (removed from graph temporarily after the timestep)\n",
    "        for (k, v) in recommendation.items():\n",
    "            if v == 1:\n",
    "                if k in S:\n",
    "                    S.remove(k)\n",
    "                    Q_susceptible.append(k)\n",
    "                elif k in I_t:\n",
    "                    I.remove(k)\n",
    "                    Q_infected.append(k)\n",
    "        \n",
    "        "
   ]
  },
  {
   "cell_type": "code",
   "execution_count": null,
   "metadata": {},
   "outputs": [],
   "source": []
  },
  {
   "cell_type": "code",
   "execution_count": null,
   "metadata": {},
   "outputs": [],
   "source": []
  },
  {
   "cell_type": "code",
   "execution_count": null,
   "metadata": {},
   "outputs": [],
   "source": []
  },
  {
   "cell_type": "code",
   "execution_count": null,
   "metadata": {},
   "outputs": [],
   "source": []
  },
  {
   "cell_type": "code",
   "execution_count": null,
   "metadata": {},
   "outputs": [],
   "source": []
  },
  {
   "cell_type": "code",
   "execution_count": null,
   "metadata": {},
   "outputs": [],
   "source": []
  },
  {
   "cell_type": "code",
   "execution_count": 5,
   "metadata": {},
   "outputs": [
    {
     "name": "stdout",
     "output_type": "stream",
     "text": [
      "421\n"
     ]
    }
   ],
   "source": [
    "S, I, R = initial(from_cache=\"Q4data.json\")\n",
    "print(len(I))"
   ]
  },
  {
   "cell_type": "code",
   "execution_count": 24,
   "metadata": {},
   "outputs": [
    {
     "name": "stdout",
     "output_type": "stream",
     "text": [
      "0 421 74686 350\n",
      "1 834 73752 771\n",
      "2 1727 71992 1650\n",
      "3 3189 68760 3412\n",
      "4 5534 63189 6643\n",
      "5 8074 55067 12225\n",
      "6 8618 46386 20359\n",
      "7 6667 39653 29051\n",
      "8 3826 35754 35783\n",
      "9 1808 33886 39669\n",
      "10 716 33125 41523\n",
      "11 241 32842 42277\n",
      "12 82 32732 42547\n",
      "13 18 32695 42644\n"
     ]
    },
    {
     "data": {
      "image/png": "[encoded data removed]",
      "text/plain": [
       "<Figure size 432x288 with 1 Axes>"
      ]
     },
     "metadata": {
      "needs_background": "light"
     },
     "output_type": "display_data"
    },
    {
     "data": {
      "text/plain": [
       "(42674, 8692, 14)"
      ]
     },
     "execution_count": 24,
     "metadata": {},
     "output_type": "execute_result"
    }
   ],
   "source": [
    "MDP(G, 100, S, I, R, p=0.1, iterations=-1, visualization=True, method=\"dependent\", verbose=True)"
   ]
  },
  {
   "cell_type": "code",
   "execution_count": 8,
   "metadata": {},
   "outputs": [],
   "source": [
    "df1 = pd.read_csv(\"../output/Q4_csvs/george_random_data.csv\")\n",
    "df2 = pd.read_csv(\"../output/Q4_csvs/george_degree_data.csv\")\n",
    "df3 = pd.read_csv(\"../output/Q4_csvs/george_dependent_data.csv\")\n",
    "df4 = pd.read_csv(\"../output/Q4_csvs/george_random_data2.csv\")\n",
    "df5 = pd.read_csv(\"../output/Q4_csvs/george_degree_data2.csv\")\n",
    "df6 = pd.read_csv(\"../output/Q4_csvs/george_dependent_data2.1.csv\")\n",
    "df7 = pd.read_csv(\"../output/Q4_csvs/george_random_data3.csv\")\n",
    "df8 = pd.read_csv(\"../output/Q4_csvs/george_degree_data3.csv\")\n",
    "df9 = pd.read_csv(\"../output/Q4_csvs/george_dependent_data3.csv\")"
   ]
  },
  {
   "cell_type": "code",
   "execution_count": 16,
   "metadata": {},
   "outputs": [
    {
     "name": "stdout",
     "output_type": "stream",
     "text": [
      "(40, 19)\n",
      "(40, 19)\n",
      "(40, 19)\n"
     ]
    }
   ],
   "source": [
    "print(df7.shape)\n",
    "print(df8.shape)\n",
    "print(df9.shape)"
   ]
  },
  {
   "cell_type": "code",
   "execution_count": 9,
   "metadata": {},
   "outputs": [
    {
     "name": "stderr",
     "output_type": "stream",
     "text": [
      "C:\\Users\\George Li\\Anaconda3\\lib\\site-packages\\ipykernel_launcher.py:2: FutureWarning: Sorting because non-concatenation axis is not aligned. A future version\n",
      "of pandas will change to not sort by default.\n",
      "\n",
      "To accept the future behavior, pass 'sort=False'.\n",
      "\n",
      "To retain the current behavior and silence the warning, pass 'sort=True'.\n",
      "\n",
      "  \n"
     ]
    }
   ],
   "source": [
    "df1 = pd.concat([df1,df4,df7]).reset_index(drop=True)\n",
    "df2 = pd.concat([df2,df5,df8]).reset_index(drop=True)\n",
    "df3 = pd.concat([df3,df6,df9]).reset_index(drop=True)\n"
   ]
  },
  {
   "cell_type": "code",
   "execution_count": 20,
   "metadata": {},
   "outputs": [
    {
     "name": "stdout",
     "output_type": "stream",
     "text": [
      "[ 500.  510.  520.  530.  540.  550.  560.  570.  580.  590.  600.  610.\n",
      "  620.  630.  640.  650.  660.  670.  680.  690.  700.  710.  720.  730.\n",
      "  740.  750.  760.  770.  780.  790.  800.  810.  820.  830.  840.  850.\n",
      "  860.  870.  880.  890.  900.  910.  920.  930.  940.  950.  960.  970.\n",
      "  980.  990. 1000. 1010. 1020. 1030. 1040. 1050. 1060. 1070. 1080. 1090.\n",
      " 1100. 1110. 1120. 1130. 1140. 1150. 1160. 1170. 1180. 1190. 1200. 1210.\n",
      " 1220. 1230. 1240. 1250. 1260. 1270. 1280. 1290. 1300. 1310. 1320. 1330.\n",
      " 1340. 1350. 1360. 1370. 1380. 1390. 1400. 1410. 1420. 1430. 1440. 1450.\n",
      " 1460. 1470. 1480. 1490. 1500. 1510. 1520. 1530. 1540. 1550. 1560. 1570.\n",
      " 1580. 1590. 1600. 1610. 1620. 1630. 1640. 1650. 1660. 1670. 1680. 1690.\n",
      " 1700. 1710. 1720. 1730. 1740. 1750. 1760. 1770. 1780. 1790. 1800. 1810.\n",
      " 1820. 1830. 1840. 1850. 1860. 1870. 1880. 1890. 1900. 1910. 1920. 1930.\n",
      " 1940. 1950. 1960. 1970. 1980. 1990. 2000.  100.  110.  120.  130.  140.\n",
      "  150.  160.  170.  180.  190.  200.  210.  220.  230.  240.  250.  260.\n",
      "  270.  280.  290.  300.  310.  320.  330.  340.  350.  360.  370.  380.\n",
      "  390.  400.  410.  420.  430.  440.  450.  460.  470.  480.  490.]\n"
     ]
    }
   ],
   "source": [
    "ks = np.array(df1['k'])\n",
    "print(ks)\n",
    "a=43000\n",
    "b=9000\n",
    "none_total = [a for _ in ks]\n",
    "none_peak = [b for _ in ks]\n",
    "#print(none_total)\n",
    "#print(none_peak)"
   ]
  },
  {
   "cell_type": "code",
   "execution_count": 21,
   "metadata": {},
   "outputs": [
    {
     "data": {
      "image/png": "[encoded data removed]",
      "text/plain": [
       "<Figure size 432x288 with 1 Axes>"
      ]
     },
     "metadata": {
      "needs_background": "light"
     },
     "output_type": "display_data"
    }
   ],
   "source": [
    "fig, ax = plt.subplots()\n",
    "\n",
    "ax.scatter(df1['k'], df1['avg_total'], c='blue', s=10)\n",
    "\n",
    "ax.scatter(df2['k'], df2['avg_total'], c='green', s=10)\n",
    "\n",
    "ax.scatter(df3['k'], df3['avg_total'], c='red', s=10)\n",
    "\n",
    "ax.scatter(ks, none_total, c='black', s=10)\n",
    "\n",
    "#ax.set_title(\"Total Infections vs. Number Quarantined for Different Methods\")\n",
    "ax.set_xlabel(\"Number Quarantined (k)\")\n",
    "ax.set_ylabel(\"Total Infections\")\n",
    "\n",
    "ax.legend(['random selection','degree based','dependent rounding','no quarantine'])\n",
    "\n",
    "\n",
    "plt.show()\n",
    "\n",
    "#fig.savefig(\"../output/Q4plots/compare_total1\", dpi=400)"
   ]
  },
  {
   "cell_type": "code",
   "execution_count": 22,
   "metadata": {},
   "outputs": [
    {
     "data": {
      "image/png": "[encoded data removed]",
      "text/plain": [
       "<Figure size 432x288 with 1 Axes>"
      ]
     },
     "metadata": {
      "needs_background": "light"
     },
     "output_type": "display_data"
    }
   ],
   "source": [
    "fig1, ax1 = plt.subplots()\n",
    "\n",
    "ax1.scatter(df1['k'], df1['avg_peak'], c='blue', s=10)\n",
    "\n",
    "ax1.scatter(df2['k'], df2['avg_peak'], c='green', s=10)\n",
    "\n",
    "ax1.scatter(df3['k'], df3['avg_peak'], c='red', s=10)\n",
    "\n",
    "ax1.scatter(ks, none_peak, c = 'black', s=10)\n",
    "\n",
    "#ax1.set_title(\"Peak Infections vs. Number Quarantined for Different Methods\")\n",
    "ax1.set_xlabel(\"Number Quarantined (k)\")\n",
    "ax1.set_ylabel(\"Peak Infections\")\n",
    "\n",
    "ax1.legend(['random selection','degree based','dependent rounding', 'no quarantine'])\n",
    "\n",
    "plt.show()\n",
    "\n",
    "#fig1.savefig(\"../output/Q4plots/compare_peak1\", dpi=400)"
   ]
  },
  {
   "cell_type": "code",
   "execution_count": 26,
   "metadata": {},
   "outputs": [],
   "source": [
    "(S, I, R) = initial(G, from_cache=\"Q4data.json\")"
   ]
  },
  {
   "cell_type": "code",
   "execution_count": 19,
   "metadata": {},
   "outputs": [
    {
     "name": "stdout",
     "output_type": "stream",
     "text": [
      "43010.6\n"
     ]
    },
    {
     "data": {
      "text/plain": [
       "9062.0"
      ]
     },
     "execution_count": 19,
     "metadata": {},
     "output_type": "execute_result"
    }
   ],
   "source": [
    "print(a)\n",
    "b"
   ]
  },
  {
   "cell_type": "code",
   "execution_count": 18,
   "metadata": {},
   "outputs": [
    {
     "name": "stdout",
     "output_type": "stream",
     "text": [
      "0 421 74686 350\n",
      "1 878 73808 771\n",
      "2 1808 72000 1649\n",
      "3 3532 68468 3457\n",
      "4 6229 62239 6989\n",
      "5 8803 53436 13218\n",
      "6 8866 44570 22021\n",
      "7 6243 38327 30887\n",
      "8 3242 35085 37130\n",
      "9 1456 33629 40372\n",
      "10 619 33010 41828\n",
      "11 243 32767 42447\n",
      "12 86 32681 42690\n",
      "13 31 32650 42776\n",
      "14 11 32639 42807\n",
      "15 4 32635 42818\n",
      "16 2 32633 42822\n"
     ]
    },
    {
     "data": {
      "image/png": "[encoded data removed]",
      "text/plain": [
       "<Figure size 432x288 with 1 Axes>"
      ]
     },
     "metadata": {
      "needs_background": "light"
     },
     "output_type": "display_data"
    },
    {
     "name": "stdout",
     "output_type": "stream",
     "text": [
      "42824\n",
      "8866\n",
      "17\n",
      "0 421 74686 350\n",
      "1 961 73725 771\n",
      "2 2045 71680 1732\n",
      "3 4018 67662 3777\n",
      "4 6782 60880 7795\n",
      "5 9145 51735 14577\n",
      "6 8552 43183 23722\n",
      "7 5598 37585 32274\n",
      "8 2888 34697 37872\n",
      "9 1250 33447 40760\n",
      "10 511 32936 42010\n",
      "11 221 32715 42521\n",
      "12 86 32629 42742\n",
      "13 35 32594 42828\n",
      "14 17 32577 42863\n",
      "15 3 32574 42880\n"
     ]
    },
    {
     "data": {
      "image/png": "[encoded data removed]",
      "text/plain": [
       "<Figure size 432x288 with 1 Axes>"
      ]
     },
     "metadata": {
      "needs_background": "light"
     },
     "output_type": "display_data"
    },
    {
     "name": "stdout",
     "output_type": "stream",
     "text": [
      "42883\n",
      "9145\n",
      "16\n",
      "0 421 74686 350\n",
      "1 914 73772 771\n",
      "2 1881 71891 1685\n",
      "3 3739 68152 3566\n",
      "4 6647 61505 7305\n",
      "5 9137 52368 13952\n",
      "6 8846 43522 23089\n",
      "7 5929 37593 31935\n",
      "8 2907 34686 37864\n",
      "9 1338 33348 40771\n",
      "10 508 32840 42109\n",
      "11 199 32641 42617\n",
      "12 76 32565 42816\n",
      "13 26 32539 42892\n",
      "14 16 32523 42918\n",
      "15 12 32511 42934\n",
      "16 7 32504 42946\n",
      "17 4 32500 42953\n",
      "18 1 32499 42957\n"
     ]
    },
    {
     "data": {
      "image/png": "[encoded data removed]",
      "text/plain": [
       "<Figure size 432x288 with 1 Axes>"
      ]
     },
     "metadata": {
      "needs_background": "light"
     },
     "output_type": "display_data"
    },
    {
     "name": "stdout",
     "output_type": "stream",
     "text": [
      "42958\n",
      "9137\n",
      "19\n",
      "0 421 74686 350\n",
      "1 900 73786 771\n",
      "2 1938 71848 1671\n",
      "3 3960 67888 3609\n",
      "4 6762 61126 7569\n",
      "5 9184 51942 14331\n",
      "6 8818 43124 23515\n",
      "7 5859 37265 32333\n",
      "8 2952 34313 38192\n",
      "9 1240 33073 41144\n",
      "10 513 32560 42384\n",
      "11 210 32350 42897\n",
      "12 89 32261 43107\n",
      "13 38 32223 43196\n",
      "14 8 32215 43234\n",
      "15 5 32210 43242\n"
     ]
    },
    {
     "data": {
      "image/png": "[encoded data removed]",
      "text/plain": [
       "<Figure size 432x288 with 1 Axes>"
      ]
     },
     "metadata": {
      "needs_background": "light"
     },
     "output_type": "display_data"
    },
    {
     "name": "stdout",
     "output_type": "stream",
     "text": [
      "43247\n",
      "9184\n",
      "16\n",
      "0 421 74686 350\n",
      "1 895 73791 771\n",
      "2 1888 71903 1666\n",
      "3 3503 68400 3554\n",
      "4 6263 62137 7057\n",
      "5 8774 53363 13320\n",
      "6 8978 44385 22094\n",
      "7 6333 38052 31072\n",
      "8 3240 34812 37405\n",
      "9 1466 33346 40645\n",
      "10 596 32750 42111\n",
      "11 258 32492 42707\n",
      "12 101 32391 42965\n",
      "13 41 32350 43066\n",
      "14 16 32334 43107\n",
      "15 8 32326 43123\n",
      "16 7 32319 43131\n",
      "17 2 32317 43138\n",
      "18 1 32316 43140\n"
     ]
    },
    {
     "data": {
      "image/png": "[encoded data removed]",
      "text/plain": [
       "<Figure size 432x288 with 1 Axes>"
      ]
     },
     "metadata": {
      "needs_background": "light"
     },
     "output_type": "display_data"
    },
    {
     "name": "stdout",
     "output_type": "stream",
     "text": [
      "43141\n",
      "8978\n",
      "19\n"
     ]
    }
   ],
   "source": [
    "a = 0\n",
    "b = 0\n",
    "\n",
    "for i in range(5):\n",
    "    (x,y,z) = MDP(G, 0, S, I, R, p=0.1, iterations=-1, visualization=True, method=\"none\", verbose=True)\n",
    "    a+=x\n",
    "    b+=y\n",
    "    \n",
    "    print(x)\n",
    "    print(y)\n",
    "    print(z)\n",
    "    \n",
    "a/=5\n",
    "b/=5"
   ]
  },
  {
   "cell_type": "code",
   "execution_count": 9,
   "metadata": {
    "collapsed": true
   },
   "outputs": [
    {
     "name": "stdout",
     "output_type": "stream",
     "text": [
      "701 74162 594\n",
      "1487 72275 1295\n",
      "2741 69499 2836\n",
      "4713 64751 5598\n",
      "6891 57825 10350\n",
      "8196 49597 17280\n",
      "7086 42467 25533\n",
      "4587 37834 32655\n",
      "2414 35378 37277\n",
      "1102 34238 39731\n",
      "416 33780 40874\n",
      "101 33641 41322\n",
      "0 33752 41456\n",
      "0 33974 41483\n",
      "0 33974 41483\n"
     ]
    },
    {
     "data": {
      "image/png": "[encoded data removed]",
      "text/plain": [
       "<Figure size 432x288 with 1 Axes>"
      ]
     },
     "metadata": {
      "needs_background": "light"
     },
     "output_type": "display_data"
    }
   ],
   "source": [
    "MDP(G, 400, S, I, R, p=0.1, iterations=15, visualization=True, method=\"degree\")"
   ]
  },
  {
   "cell_type": "code",
   "execution_count": 5,
   "metadata": {
    "collapsed": true
   },
   "outputs": [
    {
     "name": "stdout",
     "output_type": "stream",
     "text": [
      "421 74686 350\n"
     ]
    },
    {
     "ename": "AttributeError",
     "evalue": "'NoneType' object has no attribute 'NumVar'",
     "output_type": "error",
     "traceback": [
      "\u001b[1;31m---------------------------------------------------------------------------\u001b[0m",
      "\u001b[1;31mAttributeError\u001b[0m                            Traceback (most recent call last)",
      "\u001b[1;32m<ipython-input-5-e58f0f812479>\u001b[0m in \u001b[0;36m<module>\u001b[1;34m\u001b[0m\n\u001b[0;32m      1\u001b[0m \u001b[1;32mimport\u001b[0m \u001b[0mtime\u001b[0m\u001b[1;33m\u001b[0m\u001b[1;33m\u001b[0m\u001b[0m\n\u001b[0;32m      2\u001b[0m \u001b[0ma\u001b[0m \u001b[1;33m=\u001b[0m \u001b[0mtime\u001b[0m\u001b[1;33m.\u001b[0m\u001b[0mtime\u001b[0m\u001b[1;33m(\u001b[0m\u001b[1;33m)\u001b[0m\u001b[1;33m\u001b[0m\u001b[1;33m\u001b[0m\u001b[0m\n\u001b[1;32m----> 3\u001b[1;33m \u001b[0mMDP\u001b[0m\u001b[1;33m(\u001b[0m\u001b[0mG\u001b[0m\u001b[1;33m,\u001b[0m \u001b[1;36m400\u001b[0m\u001b[1;33m,\u001b[0m \u001b[0mS\u001b[0m\u001b[1;33m,\u001b[0m \u001b[0mI\u001b[0m\u001b[1;33m,\u001b[0m \u001b[0mR\u001b[0m\u001b[1;33m,\u001b[0m \u001b[0mp\u001b[0m\u001b[1;33m=\u001b[0m\u001b[1;36m0.1\u001b[0m\u001b[1;33m,\u001b[0m \u001b[0miterations\u001b[0m\u001b[1;33m=\u001b[0m\u001b[1;36m15\u001b[0m\u001b[1;33m,\u001b[0m \u001b[0mvisualization\u001b[0m\u001b[1;33m=\u001b[0m\u001b[1;32mTrue\u001b[0m\u001b[1;33m,\u001b[0m \u001b[0mmethod\u001b[0m\u001b[1;33m=\u001b[0m\u001b[1;34m\"dependent\"\u001b[0m\u001b[1;33m,\u001b[0m \u001b[0mverbose\u001b[0m\u001b[1;33m=\u001b[0m\u001b[1;32mTrue\u001b[0m\u001b[1;33m)\u001b[0m\u001b[1;33m\u001b[0m\u001b[1;33m\u001b[0m\u001b[0m\n\u001b[0m\u001b[0;32m      4\u001b[0m \u001b[0mprint\u001b[0m\u001b[1;33m(\u001b[0m\u001b[0mtime\u001b[0m\u001b[1;33m.\u001b[0m\u001b[0mtime\u001b[0m\u001b[1;33m(\u001b[0m\u001b[1;33m)\u001b[0m\u001b[1;33m-\u001b[0m\u001b[0ma\u001b[0m\u001b[1;33m)\u001b[0m\u001b[1;33m\u001b[0m\u001b[1;33m\u001b[0m\u001b[0m\n",
      "\u001b[1;32m~\\Desktop\\George\\13th Grade\\Fall\\Aravind\\ContactTracing\\ctrace\\simulation.py\u001b[0m in \u001b[0;36mMDP\u001b[1;34m(G, budget, S, I_t, R, p, iterations, method, visualization, verbose)\u001b[0m\n\u001b[0;32m    133\u001b[0m             \u001b[0mprint\u001b[0m\u001b[1;33m(\u001b[0m\u001b[0mstr\u001b[0m\u001b[1;33m(\u001b[0m\u001b[0mlen\u001b[0m\u001b[1;33m(\u001b[0m\u001b[0mI_t\u001b[0m\u001b[1;33m)\u001b[0m\u001b[1;33m)\u001b[0m \u001b[1;33m+\u001b[0m \u001b[1;34m\" \"\u001b[0m \u001b[1;33m+\u001b[0m \u001b[0mstr\u001b[0m\u001b[1;33m(\u001b[0m\u001b[0mlen\u001b[0m\u001b[1;33m(\u001b[0m\u001b[0mS\u001b[0m\u001b[1;33m)\u001b[0m\u001b[1;33m)\u001b[0m \u001b[1;33m+\u001b[0m \u001b[1;34m\" \"\u001b[0m \u001b[1;33m+\u001b[0m \u001b[0mstr\u001b[0m\u001b[1;33m(\u001b[0m\u001b[0mlen\u001b[0m\u001b[1;33m(\u001b[0m\u001b[0mR\u001b[0m\u001b[1;33m)\u001b[0m\u001b[1;33m)\u001b[0m\u001b[1;33m)\u001b[0m\u001b[1;33m\u001b[0m\u001b[1;33m\u001b[0m\u001b[0m\n\u001b[0;32m    134\u001b[0m \u001b[1;33m\u001b[0m\u001b[0m\n\u001b[1;32m--> 135\u001b[1;33m         \u001b[1;33m(\u001b[0m\u001b[0mval\u001b[0m\u001b[1;33m,\u001b[0m \u001b[0mrecommendation\u001b[0m\u001b[1;33m)\u001b[0m \u001b[1;33m=\u001b[0m \u001b[0mto_quarantine\u001b[0m\u001b[1;33m(\u001b[0m\u001b[0mG\u001b[0m\u001b[1;33m,\u001b[0m \u001b[0mI_t\u001b[0m\u001b[1;33m,\u001b[0m \u001b[0mR\u001b[0m\u001b[1;33m,\u001b[0m \u001b[0mbudget\u001b[0m\u001b[1;33m,\u001b[0m \u001b[0mmethod\u001b[0m\u001b[1;33m=\u001b[0m\u001b[0mmethod\u001b[0m\u001b[1;33m,\u001b[0m \u001b[0mp\u001b[0m\u001b[1;33m=\u001b[0m\u001b[0mp\u001b[0m\u001b[1;33m)\u001b[0m\u001b[1;33m\u001b[0m\u001b[1;33m\u001b[0m\u001b[0m\n\u001b[0m\u001b[0;32m    136\u001b[0m \u001b[1;33m\u001b[0m\u001b[0m\n\u001b[0;32m    137\u001b[0m         \u001b[1;33m(\u001b[0m\u001b[0mS\u001b[0m\u001b[1;33m,\u001b[0m \u001b[0mI_t\u001b[0m\u001b[1;33m,\u001b[0m \u001b[0mR\u001b[0m\u001b[1;33m)\u001b[0m \u001b[1;33m=\u001b[0m \u001b[0mMDP_step\u001b[0m\u001b[1;33m(\u001b[0m\u001b[0mG\u001b[0m\u001b[1;33m,\u001b[0m \u001b[0mS\u001b[0m\u001b[1;33m,\u001b[0m \u001b[0mI_t\u001b[0m\u001b[1;33m,\u001b[0m \u001b[0mR\u001b[0m\u001b[1;33m,\u001b[0m \u001b[0mQ_infected\u001b[0m\u001b[1;33m,\u001b[0m \u001b[0mQ_susceptible\u001b[0m\u001b[1;33m,\u001b[0m \u001b[0mp\u001b[0m\u001b[1;33m=\u001b[0m\u001b[0mp\u001b[0m\u001b[1;33m)\u001b[0m\u001b[1;33m\u001b[0m\u001b[1;33m\u001b[0m\u001b[0m\n",
      "\u001b[1;32m~\\Desktop\\George\\13th Grade\\Fall\\Aravind\\ContactTracing\\ctrace\\solve.py\u001b[0m in \u001b[0;36mto_quarantine\u001b[1;34m(G, I0, safe, cost_constraint, runs, p, P, Q, method)\u001b[0m\n\u001b[0;32m    253\u001b[0m         \u001b[1;32mreturn\u001b[0m \u001b[1;33m(\u001b[0m\u001b[1;33m-\u001b[0m\u001b[1;36m1\u001b[0m\u001b[1;33m,\u001b[0m \u001b[0msol\u001b[0m\u001b[1;33m)\u001b[0m\u001b[1;33m\u001b[0m\u001b[1;33m\u001b[0m\u001b[0m\n\u001b[0;32m    254\u001b[0m     \u001b[0mP\u001b[0m\u001b[1;33m,\u001b[0m \u001b[0mQ\u001b[0m \u001b[1;33m=\u001b[0m \u001b[0mPQ_deterministic\u001b[0m\u001b[1;33m(\u001b[0m\u001b[0mG\u001b[0m\u001b[1;33m,\u001b[0m \u001b[0mI0\u001b[0m\u001b[1;33m,\u001b[0m \u001b[0mV_1\u001b[0m\u001b[1;33m,\u001b[0m \u001b[0mp\u001b[0m\u001b[1;33m)\u001b[0m\u001b[1;33m\u001b[0m\u001b[1;33m\u001b[0m\u001b[0m\n\u001b[1;32m--> 255\u001b[1;33m     \u001b[0mprob\u001b[0m \u001b[1;33m=\u001b[0m \u001b[0mProbMinExposed\u001b[0m\u001b[1;33m(\u001b[0m\u001b[0mG\u001b[0m\u001b[1;33m,\u001b[0m \u001b[0mI0\u001b[0m\u001b[1;33m,\u001b[0m \u001b[0mV_1\u001b[0m\u001b[1;33m,\u001b[0m \u001b[0mV_2\u001b[0m\u001b[1;33m,\u001b[0m \u001b[0mP\u001b[0m\u001b[1;33m,\u001b[0m \u001b[0mQ\u001b[0m\u001b[1;33m,\u001b[0m \u001b[0mcost_constraint\u001b[0m\u001b[1;33m,\u001b[0m \u001b[0mcosts\u001b[0m\u001b[1;33m)\u001b[0m\u001b[1;33m\u001b[0m\u001b[1;33m\u001b[0m\u001b[0m\n\u001b[0m\u001b[0;32m    256\u001b[0m \u001b[1;33m\u001b[0m\u001b[0m\n\u001b[0;32m    257\u001b[0m     \u001b[1;32mif\u001b[0m \u001b[0mmethod\u001b[0m \u001b[1;33m==\u001b[0m \u001b[1;34m\"dependent\"\u001b[0m\u001b[1;33m:\u001b[0m\u001b[1;33m\u001b[0m\u001b[1;33m\u001b[0m\u001b[0m\n",
      "\u001b[1;32m~\\Desktop\\George\\13th Grade\\Fall\\Aravind\\ContactTracing\\ctrace\\constraint.py\u001b[0m in \u001b[0;36m__init__\u001b[1;34m(self, G, infected, contour1, contour2, p1, q, k, costs, solver)\u001b[0m\n\u001b[0;32m     39\u001b[0m         \u001b[1;31m# Partial Evaluation storage\u001b[0m\u001b[1;33m\u001b[0m\u001b[1;33m\u001b[0m\u001b[1;33m\u001b[0m\u001b[0m\n\u001b[0;32m     40\u001b[0m         \u001b[0mself\u001b[0m\u001b[1;33m.\u001b[0m\u001b[0mpartials\u001b[0m \u001b[1;33m=\u001b[0m \u001b[1;33m{\u001b[0m\u001b[1;33m}\u001b[0m\u001b[1;33m\u001b[0m\u001b[1;33m\u001b[0m\u001b[0m\n\u001b[1;32m---> 41\u001b[1;33m         \u001b[0mself\u001b[0m\u001b[1;33m.\u001b[0m\u001b[0minit_variables\u001b[0m\u001b[1;33m(\u001b[0m\u001b[1;33m)\u001b[0m\u001b[1;33m\u001b[0m\u001b[1;33m\u001b[0m\u001b[0m\n\u001b[0m\u001b[0;32m     42\u001b[0m         \u001b[0mself\u001b[0m\u001b[1;33m.\u001b[0m\u001b[0minit_constraints\u001b[0m\u001b[1;33m(\u001b[0m\u001b[1;33m)\u001b[0m\u001b[1;33m\u001b[0m\u001b[1;33m\u001b[0m\u001b[0m\n\u001b[0;32m     43\u001b[0m \u001b[1;33m\u001b[0m\u001b[0m\n",
      "\u001b[1;32m~\\Desktop\\George\\13th Grade\\Fall\\Aravind\\ContactTracing\\ctrace\\constraint.py\u001b[0m in \u001b[0;36minit_variables\u001b[1;34m(self)\u001b[0m\n\u001b[0;32m     69\u001b[0m         \u001b[1;31m# Declare Variables\u001b[0m\u001b[1;33m\u001b[0m\u001b[1;33m\u001b[0m\u001b[1;33m\u001b[0m\u001b[0m\n\u001b[0;32m     70\u001b[0m         \u001b[1;32mfor\u001b[0m \u001b[0mu\u001b[0m \u001b[1;32min\u001b[0m \u001b[0mself\u001b[0m\u001b[1;33m.\u001b[0m\u001b[0mV1\u001b[0m\u001b[1;33m:\u001b[0m\u001b[1;33m\u001b[0m\u001b[1;33m\u001b[0m\u001b[0m\n\u001b[1;32m---> 71\u001b[1;33m             \u001b[0mself\u001b[0m\u001b[1;33m.\u001b[0m\u001b[0mX1\u001b[0m\u001b[1;33m[\u001b[0m\u001b[0mu\u001b[0m\u001b[1;33m]\u001b[0m \u001b[1;33m=\u001b[0m \u001b[0mself\u001b[0m\u001b[1;33m.\u001b[0m\u001b[0msolver\u001b[0m\u001b[1;33m.\u001b[0m\u001b[0mNumVar\u001b[0m\u001b[1;33m(\u001b[0m\u001b[1;36m0\u001b[0m\u001b[1;33m,\u001b[0m \u001b[1;36m1\u001b[0m\u001b[1;33m,\u001b[0m \u001b[1;34mf\"V1_x{u}\"\u001b[0m\u001b[1;33m)\u001b[0m\u001b[1;33m\u001b[0m\u001b[1;33m\u001b[0m\u001b[0m\n\u001b[0m\u001b[0;32m     72\u001b[0m             \u001b[0mself\u001b[0m\u001b[1;33m.\u001b[0m\u001b[0mY1\u001b[0m\u001b[1;33m[\u001b[0m\u001b[0mu\u001b[0m\u001b[1;33m]\u001b[0m \u001b[1;33m=\u001b[0m \u001b[0mself\u001b[0m\u001b[1;33m.\u001b[0m\u001b[0msolver\u001b[0m\u001b[1;33m.\u001b[0m\u001b[0mNumVar\u001b[0m\u001b[1;33m(\u001b[0m\u001b[1;36m0\u001b[0m\u001b[1;33m,\u001b[0m \u001b[1;36m1\u001b[0m\u001b[1;33m,\u001b[0m \u001b[1;34mf\"V1_y{u}\"\u001b[0m\u001b[1;33m)\u001b[0m\u001b[1;33m\u001b[0m\u001b[1;33m\u001b[0m\u001b[0m\n\u001b[0;32m     73\u001b[0m \u001b[1;33m\u001b[0m\u001b[0m\n",
      "\u001b[1;31mAttributeError\u001b[0m: 'NoneType' object has no attribute 'NumVar'"
     ]
    }
   ],
   "source": [
    "import time\n",
    "a = time.time()\n",
    "MDP(G, 400, S, I, R, p=0.1, iterations=15, visualization=True, method=\"dependent\", verbose=True)\n",
    "print(time.time()-a)"
   ]
  },
  {
   "cell_type": "code",
   "execution_count": null,
   "metadata": {},
   "outputs": [],
   "source": [
    "\"\"\"Stop here\"\"\""
   ]
  },
  {
   "cell_type": "code",
   "execution_count": 8,
   "metadata": {},
   "outputs": [],
   "source": [
    "COSTS = np.ones(n)"
   ]
  },
  {
   "cell_type": "code",
   "execution_count": 28,
   "metadata": {},
   "outputs": [],
   "source": [
    "V_1,V_2 = find_excluded_contours(G,I,R)"
   ]
  },
  {
   "cell_type": "code",
   "execution_count": 41,
   "metadata": {},
   "outputs": [],
   "source": [
    "degrees = []\n",
    "\n",
    "for u in V_1:\n",
    "    count = 0\n",
    "    for v in G.neighbors(u):\n",
    "        if v in V_2:\n",
    "            count+=1\n",
    "\n",
    "    degrees.append((count,u))\n",
    "\n",
    "degrees.sort()\n",
    "degrees.reverse()\n",
    "\n",
    "sol = {}\n",
    "\n",
    "for i in range(len(V_1)):\n",
    "    if i < 100:\n",
    "        sol[degrees[i][1]] = 1\n",
    "    else:\n",
    "        sol[degrees[i][1]] = 0"
   ]
  },
  {
   "cell_type": "code",
   "execution_count": 43,
   "metadata": {},
   "outputs": [
    {
     "data": {
      "text/plain": [
       "100"
      ]
     },
     "execution_count": 43,
     "metadata": {},
     "output_type": "execute_result"
    }
   ],
   "source": [
    "a = 0\n",
    "for (k,v) in sol.items():\n",
    "    a+=v\n",
    "a"
   ]
  },
  {
   "cell_type": "code",
   "execution_count": 37,
   "metadata": {},
   "outputs": [
    {
     "data": {
      "text/plain": [
       "[(65, 3751), (62, 27236), (61, 35651), (61, 34538), (60, 18733)]"
      ]
     },
     "execution_count": 37,
     "metadata": {},
     "output_type": "execute_result"
    }
   ],
   "source": [
    "arr[:5]"
   ]
  },
  {
   "cell_type": "code",
   "execution_count": 13,
   "metadata": {},
   "outputs": [],
   "source": [
    "P,Q = PQ(G,I,p=0.1, runs = 20)"
   ]
  },
  {
   "cell_type": "code",
   "execution_count": 20,
   "metadata": {},
   "outputs": [],
   "source": [
    "prob = ProbMinExposed.from_dataframe(G,I,V_1,V_2,P,Q,800,COSTS)\n",
    "#prob.solve_lp()\n",
    "#prob.objectiveVal"
   ]
  },
  {
   "cell_type": "code",
   "execution_count": 21,
   "metadata": {},
   "outputs": [
    {
     "name": "stdout",
     "output_type": "stream",
     "text": [
      "3677\n",
      "3677\n",
      "[1. 1. 1. ... 1. 1. 1.]\n",
      "75457\n"
     ]
    },
    {
     "ename": "ValueError",
     "evalue": "Infeasible solution",
     "output_type": "error",
     "traceback": [
      "\u001b[0;31m---------------------------------------------------------------------------\u001b[0m",
      "\u001b[0;31mValueError\u001b[0m                                Traceback (most recent call last)",
      "\u001b[0;32m<ipython-input-21-2db83b83a3c4>\u001b[0m in \u001b[0;36m<module>\u001b[0;34m\u001b[0m\n\u001b[1;32m     16\u001b[0m \u001b[0;31m#print(prob.filled())\u001b[0m\u001b[0;34m\u001b[0m\u001b[0;34m\u001b[0m\u001b[0;34m\u001b[0m\u001b[0m\n\u001b[1;32m     17\u001b[0m \u001b[0;34m\u001b[0m\u001b[0m\n\u001b[0;32m---> 18\u001b[0;31m \u001b[0mprob\u001b[0m\u001b[0;34m.\u001b[0m\u001b[0msolve_lp\u001b[0m\u001b[0;34m(\u001b[0m\u001b[0;34m)\u001b[0m\u001b[0;34m\u001b[0m\u001b[0;34m\u001b[0m\u001b[0m\n\u001b[0m",
      "\u001b[0;32m~/Contact Tracing/ctrace/constraint.py\u001b[0m in \u001b[0;36msolve_lp\u001b[0;34m(self)\u001b[0m\n\u001b[1;32m    144\u001b[0m         \u001b[0mstatus\u001b[0m \u001b[0;34m=\u001b[0m \u001b[0mself\u001b[0m\u001b[0;34m.\u001b[0m\u001b[0msolver\u001b[0m\u001b[0;34m.\u001b[0m\u001b[0mSolve\u001b[0m\u001b[0;34m(\u001b[0m\u001b[0;34m)\u001b[0m\u001b[0;34m\u001b[0m\u001b[0;34m\u001b[0m\u001b[0m\n\u001b[1;32m    145\u001b[0m         \u001b[0;32mif\u001b[0m \u001b[0mstatus\u001b[0m \u001b[0;34m==\u001b[0m \u001b[0mself\u001b[0m\u001b[0;34m.\u001b[0m\u001b[0msolver\u001b[0m\u001b[0;34m.\u001b[0m\u001b[0mINFEASIBLE\u001b[0m\u001b[0;34m:\u001b[0m\u001b[0;34m\u001b[0m\u001b[0;34m\u001b[0m\u001b[0m\n\u001b[0;32m--> 146\u001b[0;31m             \u001b[0;32mraise\u001b[0m \u001b[0mValueError\u001b[0m\u001b[0;34m(\u001b[0m\u001b[0;34m\"Infeasible solution\"\u001b[0m\u001b[0;34m)\u001b[0m\u001b[0;34m\u001b[0m\u001b[0;34m\u001b[0m\u001b[0m\n\u001b[0m\u001b[1;32m    147\u001b[0m         \u001b[0;31m# Indicators\u001b[0m\u001b[0;34m\u001b[0m\u001b[0;34m\u001b[0m\u001b[0;34m\u001b[0m\u001b[0m\n\u001b[1;32m    148\u001b[0m         \u001b[0mself\u001b[0m\u001b[0;34m.\u001b[0m\u001b[0mquarantined_solution\u001b[0m\u001b[0;34m:\u001b[0m \u001b[0mDict\u001b[0m\u001b[0;34m[\u001b[0m\u001b[0mint\u001b[0m\u001b[0;34m,\u001b[0m \u001b[0mfloat\u001b[0m\u001b[0;34m]\u001b[0m \u001b[0;34m=\u001b[0m \u001b[0;34m{\u001b[0m\u001b[0;34m}\u001b[0m\u001b[0;34m\u001b[0m\u001b[0;34m\u001b[0m\u001b[0m\n",
      "\u001b[0;31mValueError\u001b[0m: Infeasible solution"
     ]
    }
   ],
   "source": [
    "sample = random.sample(range(0, len(V_1)), 800)\n",
    "#just to not break stuff\n",
    "prob.solve_lp()\n",
    "\n",
    "for u in range(0,len(V_1)):\n",
    "    #print(u)\n",
    "    if u in sample:\n",
    "        prob.setVariable(u, 0)\n",
    "    else:\n",
    "        prob.setVariable(u, 1)\n",
    "#print(prob.partials)\n",
    "print(len(V_1))\n",
    "print(len(prob.partials))\n",
    "print(prob.costs)\n",
    "print(len(prob.costs))\n",
    "#print(prob.filled())\n",
    "\n",
    "prob.solve_lp()"
   ]
  },
  {
   "cell_type": "code",
   "execution_count": 22,
   "metadata": {},
   "outputs": [
    {
     "name": "stdout",
     "output_type": "stream",
     "text": [
      "75457.0\n"
     ]
    }
   ],
   "source": [
    "print(prob.costs.sum())"
   ]
  },
  {
   "cell_type": "code",
   "execution_count": 24,
   "metadata": {},
   "outputs": [
    {
     "name": "stdout",
     "output_type": "stream",
     "text": [
      "2877\n"
     ]
    }
   ],
   "source": [
    "a = 0\n",
    "for (k,v) in prob.partials.items():\n",
    "    a += v\n",
    "print(a)"
   ]
  },
  {
   "cell_type": "code",
   "execution_count": 7,
   "metadata": {},
   "outputs": [
    {
     "name": "stdout",
     "output_type": "stream",
     "text": [
      "15018.000000000515\n"
     ]
    }
   ],
   "source": [
    "a = prob.getVariables()\n",
    "#print(a.sum())\n",
    "(val, c) = basic_non_integer_round(prob)\n",
    "#print(c.sum())\n",
    "#print(val1)\n",
    "print(val)\n",
    "#prob = ProbMinExposed.from_dataframe(G,I0,V_1,V_2,P,Q,800,COSTS)\n",
    "#(val2, b) = iterated_round(prob,100)\n",
    "#prob = ProbMinExposed.from_dataframe(G,I0,V_1,V_2,P,Q,800,COSTS)\n",
    "#(val3, d) = optimized_iterated_round(prob, 100)\n",
    "#print(val2)\n",
    "#print(val3)\n",
    "#for i in range(len(a)):\n",
    "#    if (a[i] != 0) & (a[i] != 1):\n",
    "#        print(str(a[i]) + \" \" + str(c[i]))\n",
    "    \n",
    "#print(len(a))\n",
    "#a.sum()"
   ]
  },
  {
   "cell_type": "code",
   "execution_count": 49,
   "metadata": {},
   "outputs": [
    {
     "name": "stdout",
     "output_type": "stream",
     "text": [
      "32768\n",
      "0.0\n"
     ]
    }
   ],
   "source": [
    "for (k,v) in c.items(): \n",
    "    print(k)\n",
    "    print(v)\n",
    "    break"
   ]
  },
  {
   "cell_type": "code",
   "execution_count": 20,
   "metadata": {},
   "outputs": [
    {
     "name": "stdout",
     "output_type": "stream",
     "text": [
      "11298\n"
     ]
    },
    {
     "data": {
      "text/plain": [
       "11298"
      ]
     },
     "execution_count": 20,
     "metadata": {},
     "output_type": "execute_result"
    }
   ],
   "source": [
    "print(len(V_1))\n",
    "len(b)"
   ]
  },
  {
   "cell_type": "code",
   "execution_count": 13,
   "metadata": {
    "collapsed": true
   },
   "outputs": [
    {
     "name": "stdout",
     "output_type": "stream",
     "text": [
      "0\n",
      "1\n",
      "2\n",
      "3\n",
      "4\n",
      "5\n",
      "6\n",
      "7\n",
      "8\n",
      "9\n",
      "10\n",
      "11\n",
      "12\n",
      "13\n",
      "14\n",
      "15\n",
      "16\n",
      "17\n",
      "18\n",
      "19\n",
      "Average: 13995.412500000286 13970.625000000266 14023.225000000264\n",
      "Best: 13966.450000000283 13950.600000000224 13992.000000000284\n"
     ]
    }
   ],
   "source": [
    "a1=0\n",
    "a2=0\n",
    "a3=0\n",
    "m1=10000000000\n",
    "m2=10000000000\n",
    "m3=10000000000\n",
    "\n",
    "k=20\n",
    "\n",
    "for i in range(k):\n",
    "    prob = ProbMinExposed.from_dataframe(G,I0,V_1,V_2,P,Q,800,COSTS)\n",
    "    optimized_iterated_round(prob, 500)\n",
    "    prob.solve_lp()\n",
    "    a1 += prob.objectiveVal\n",
    "    \n",
    "    if prob.objectiveVal < m1:\n",
    "        m1 = prob.objectiveVal\n",
    "    \n",
    "    prob = ProbMinExposed.from_dataframe(G,I0,V_1,V_2,P,Q,800,COSTS)\n",
    "    iterated_round(prob, 500)\n",
    "    prob.solve_lp()\n",
    "    a2 += prob.objectiveVal\n",
    "    \n",
    "    if prob.objectiveVal < m2:\n",
    "        m2 = prob.objectiveVal\n",
    "\n",
    "    prob = ProbMinExposed.from_dataframe(G,I0,V_1,V_2,P,Q,800,COSTS)\n",
    "    basic_non_integer_round(prob)\n",
    "    prob.solve_lp()\n",
    "    a3 += prob.objectiveVal\n",
    "        \n",
    "    if prob.objectiveVal < m3:\n",
    "        m3 = prob.objectiveVal\n",
    "    \n",
    "    print(i)\n",
    "    \n",
    "a1 /= k\n",
    "a2 /= k\n",
    "a3 /= k\n",
    "\n",
    "print(\"Average: \" + str(a1) + \" \" + str(a2) + \" \" + str(a3))\n",
    "print(\"Best: \" + str(m1) + \" \" + str(m2) + \" \" + str(m3))"
   ]
  },
  {
   "cell_type": "code",
   "execution_count": 8,
   "metadata": {},
   "outputs": [],
   "source": [
    "#p1 = defaultdict(lambda: .7)\n",
    "#q = defaultdict(lambda: defaultdict(lambda : .7))\n",
    "#prob = ProbMinExposed(G,I0,V_1,V_2,p1,q,10,COSTS)"
   ]
  },
  {
   "cell_type": "code",
   "execution_count": null,
   "metadata": {},
   "outputs": [],
   "source": [
    "#test simplify\n",
    "\n",
    "a = 1\n",
    "b = 0\n",
    "\n",
    "total_a = 0\n",
    "total_b = 0\n",
    "\n",
    "n=1000000\n",
    "\n",
    "for i in range(n):\n",
    "    (x,y,new_a,new_b) = simplify(a,b)\n",
    "    \n",
    "    if x==-1:\n",
    "        total_a += new_a\n",
    "        total_b += y\n",
    "    elif y==-1:\n",
    "        total_a += x\n",
    "        total_b += new_b\n",
    "    else:\n",
    "        total_a += x\n",
    "        total_b += y\n",
    "\n",
    "print(str(total_a/n) + \" \" + str(a))\n",
    "print(str(total_b/n) + \" \" + str(b))"
   ]
  },
  {
   "cell_type": "code",
   "execution_count": null,
   "metadata": {},
   "outputs": [],
   "source": [
    "#test D\n",
    "p = [.5,.5,.25,.6,.15]\n",
    "\n",
    "n=10000\n",
    "total = np.zeros(5)\n",
    "\n",
    "for i in range(n):\n",
    "    a = D(p)\n",
    "    if np.sum(a) != np.sum(p):\n",
    "        print(\"oof\")\n",
    "    #print(p)\n",
    "    total += a\n",
    "    \n",
    "total/=n\n",
    "print(total)"
   ]
  },
  {
   "cell_type": "code",
   "execution_count": null,
   "metadata": {},
   "outputs": [],
   "source": [
    "#test D_prime\n",
    "p = [.5,.4,.25,.75,.7]\n",
    "\n",
    "n=5000\n",
    "total = np.zeros(5)\n",
    "\n",
    "for i in range(n):\n",
    "    a = D(p)\n",
    "    if (np.sum(a) != math.floor(np.sum(p))) & (np.sum(a) != math.ceil(np.sum(p))):\n",
    "        print(\"oof\")\n",
    "    #print(p)\n",
    "    total += a\n",
    "    \n",
    "total/=n\n",
    "print(total)"
   ]
  }
 ],
 "metadata": {
  "kernelspec": {
   "display_name": "Python 3",
   "language": "python",
   "name": "python3"
  },
  "language_info": {
   "codemirror_mode": {
    "name": "ipython",
    "version": 3
   },
   "file_extension": ".py",
   "mimetype": "text/x-python",
   "name": "python",
   "nbconvert_exporter": "python",
   "pygments_lexer": "ipython3",
   "version": "3.7.3"
  }
 },
 "nbformat": 4,
 "nbformat_minor": 2
}
