{
 "cells": [
  {
   "cell_type": "code",
   "execution_count": 1,
   "metadata": {},
   "outputs": [],
   "source": [
    "import networkx as nx\n",
    "import matplotlib.pyplot as plt\n",
    "import pandas as pd\n",
    "import numpy as np\n",
    "import random\n",
    "import math\n",
    "import EoN\n",
    "\n",
    "from contact_tracing import *\n",
    "from constraint import *\n",
    "from solve import *"
   ]
  },
  {
   "cell_type": "code",
   "execution_count": 2,
   "metadata": {},
   "outputs": [],
   "source": [
    "#returns the nodes in S, I, R after timesteps \n",
    "def initial(G: nx.graph, timesteps=5, p=0.1):\n",
    "\n",
    "    full_data = EoN.basic_discrete_SIR(G=G, p=p, rho=.0001, tmin=0, tmax=timesteps, return_full_data=True) \n",
    "    \n",
    "    S = [k for (k,v) in full_data.get_statuses(time=timesteps).items() if v == 'S']\n",
    "    I = [k for (k,v) in full_data.get_statuses(time=timesteps).items() if v == 'I']\n",
    "    R = [k for (k,v) in full_data.get_statuses(time=timesteps).items() if v == 'R']\n",
    "    \n",
    "    print(full_data.I())\n",
    "    \n",
    "    return (S, I, R)"
   ]
  },
  {
   "cell_type": "code",
   "execution_count": 3,
   "metadata": {},
   "outputs": [],
   "source": [
    "def MDP_step(S, I_t, R, Q1, Q2, p):\n",
    "    \n",
    "    full_data = EoN.basic_discrete_SIR(G=G, p=p, initial_infecteds=I_t, initial_recovereds=R+Q1+Q2, tmin=0, tmax=1, return_full_data=True)\n",
    "    \n",
    "    S = [k for (k,v) in full_data.get_statuses(time=1).items() if v == 'S']\n",
    "    I = [k for (k,v) in full_data.get_statuses(time=1).items() if v == 'I']\n",
    "    R = [k for (k,v) in full_data.get_statuses(time=1).items() if v == 'R']\n",
    "    \n",
    "    return (S, I, R)"
   ]
  },
  {
   "cell_type": "code",
   "execution_count": 4,
   "metadata": {},
   "outputs": [],
   "source": [
    "def MDP(G: nx.graph, budget, S, I_t, R, p=0.5, iterations=10, method=\"dependent\", visualization=False):\n",
    "\n",
    "    Q_infected = []\n",
    "    Q_susceptible = []\n",
    "    \n",
    "    x=[]\n",
    "    y1=[]\n",
    "    y2=[]\n",
    "    y3=[]\n",
    "    \n",
    "    if visualization:\n",
    "        x.append(0)\n",
    "        y1.append(len(R))\n",
    "        y2.append(len(I_t))\n",
    "        y3.append(len(S))\n",
    "    \n",
    "    for t in range(iterations):\n",
    "\n",
    "        print(str(len(I_t)) + \" \" + str(len(S)) + \" \" + str(len(R)))\n",
    "\n",
    "        (val, recommendation) = to_quarantine(G, I_t, R, budget, method=method, p=p)\n",
    "\n",
    "        (S, I_t, R) = MDP_step(S, I_t, R, Q_infected, Q_susceptible, p=p)\n",
    "        #after this, R will contain Q_infected and Q_susceptible\n",
    "\n",
    "        #people from previous timestep get unquarantined (some of these people remain in R because they were infected before quarantine)\n",
    "        #for node in Q_infected:\n",
    "        #    R.append(node)\n",
    "\n",
    "        for node in Q_susceptible:\n",
    "            R.remove(node)\n",
    "            S.append(node)\n",
    "\n",
    "        #reset quarantined lists\n",
    "        Q_infected = []\n",
    "        Q_susceptible = []\n",
    "        \n",
    "        if visualization:\n",
    "            x.append(t+1)\n",
    "            y1.append(len(R))\n",
    "            y2.append(len(I_t))\n",
    "            y3.append(len(S))\n",
    "    \n",
    "        \n",
    "        #people are quarantined (removed from graph temporarily after the timestep)\n",
    "        for (k,v) in recommendation.items():\n",
    "            if v == 1:\n",
    "                if k in S:\n",
    "                    S.remove(k)\n",
    "                    Q_susceptible.append(k)\n",
    "                elif k in I_t:\n",
    "                    I_t.remove(k)\n",
    "                    Q_infected.append(k)\n",
    "        \n",
    "    if visualization:\n",
    "        colors = [\"red\", \"limegreen\", \"deepskyblue\"]\n",
    "        labels = [\"Infected\", \"Recovered\", \"Susceptible\"]\n",
    "\n",
    "        fig, ax = plt.subplots()\n",
    "        ax.stackplot(x, y2, y1, y3, labels=labels, colors=colors)\n",
    "        ax.legend(loc='upper left')\n",
    "        ax.set_title(\"Epidemic Simulation; Quarantine Method: \" + method)\n",
    "        ax.set_xlabel(\"Timestep\")\n",
    "        ax.set_ylabel(\"Number of People\")\n",
    "        plt.show()"
   ]
  },
  {
   "cell_type": "code",
   "execution_count": 5,
   "metadata": {},
   "outputs": [],
   "source": [
    "G = load_graph('montgomery') #fetching the montgamery graph\n",
    "n = len(G.nodes)\n",
    "I0 = [i for i in range(n) if random.random() > 0.99]"
   ]
  },
  {
   "cell_type": "code",
   "execution_count": 6,
   "metadata": {},
   "outputs": [
    {
     "name": "stdout",
     "output_type": "stream",
     "text": [
      "[  8  24  71 159 332 701]\n"
     ]
    }
   ],
   "source": [
    "(S, I, R) = initial(G)"
   ]
  },
  {
   "cell_type": "code",
   "execution_count": 7,
   "metadata": {},
   "outputs": [
    {
     "name": "stdout",
     "output_type": "stream",
     "text": [
      "701 74162 594\n",
      "1526 72636 1295\n",
      "3040 69596 2821\n",
      "5597 63999 5861\n",
      "8372 55627 11458\n",
      "9211 46416 19830\n",
      "6878 39538 29041\n",
      "3815 35723 35919\n",
      "1805 33918 39734\n",
      "742 33176 41539\n",
      "316 32860 42281\n",
      "136 32724 42597\n",
      "57 32667 42733\n",
      "27 32640 42790\n",
      "9 32631 42817\n"
     ]
    },
    {
     "data": {
      "image/png": "[encoded data removed]",
      "text/plain": [
       "<Figure size 432x288 with 1 Axes>"
      ]
     },
     "metadata": {
      "needs_background": "light"
     },
     "output_type": "display_data"
    }
   ],
   "source": [
    "MDP(G, 400, S, I, R, p=0.1, iterations=15, visualization=True, method=\"none\")"
   ]
  },
  {
   "cell_type": "code",
   "execution_count": 8,
   "metadata": {},
   "outputs": [
    {
     "name": "stdout",
     "output_type": "stream",
     "text": [
      "701 74162 594\n",
      "1446 72316 1295\n",
      "2767 69484 2808\n",
      "5016 64404 5638\n",
      "7791 56521 10746\n",
      "8675 47757 18627\n",
      "6960 40689 27409\n",
      "4114 36477 34467\n",
      "2005 34397 38659\n",
      "804 33509 40745\n",
      "305 33156 41598\n",
      "93 33022 41947\n",
      "0 33011 42096\n",
      "0 33321 42136\n",
      "0 33321 42136\n"
     ]
    },
    {
     "data": {
      "image/png": "[encoded data removed]",
      "text/plain": [
       "<Figure size 432x288 with 1 Axes>"
      ]
     },
     "metadata": {
      "needs_background": "light"
     },
     "output_type": "display_data"
    }
   ],
   "source": [
    "MDP(G, 400, S, I, R, p=0.1, iterations=15, visualization=True, method=\"random\")"
   ]
  },
  {
   "cell_type": "code",
   "execution_count": 9,
   "metadata": {},
   "outputs": [
    {
     "name": "stdout",
     "output_type": "stream",
     "text": [
      "701 74162 594\n",
      "1487 72275 1295\n",
      "2741 69499 2836\n",
      "4713 64751 5598\n",
      "6891 57825 10350\n",
      "8196 49597 17280\n",
      "7086 42467 25533\n",
      "4587 37834 32655\n",
      "2414 35378 37277\n",
      "1102 34238 39731\n",
      "416 33780 40874\n",
      "101 33641 41322\n",
      "0 33752 41456\n",
      "0 33974 41483\n",
      "0 33974 41483\n"
     ]
    },
    {
     "data": {
      "image/png": "[encoded data removed]",
      "text/plain": [
       "<Figure size 432x288 with 1 Axes>"
      ]
     },
     "metadata": {
      "needs_background": "light"
     },
     "output_type": "display_data"
    }
   ],
   "source": [
    "MDP(G, 400, S, I, R, p=0.1, iterations=15, visualization=True, method=\"degree\")"
   ]
  },
  {
   "cell_type": "code",
   "execution_count": 10,
   "metadata": {},
   "outputs": [
    {
     "name": "stdout",
     "output_type": "stream",
     "text": [
      "701 74162 594\n",
      "1366 72396 1295\n",
      "2661 69615 2814\n",
      "4587 64883 5616\n",
      "6937 57780 10369\n",
      "8000 49584 17508\n",
      "6728 42633 25729\n",
      "4354 38038 32700\n",
      "2178 35638 37277\n",
      "913 34548 39635\n",
      "356 34063 40652\n",
      "116 33884 41065\n",
      "10 33832 41225\n",
      "1 34155 41272\n",
      "0 34179 41273\n"
     ]
    },
    {
     "data": {
      "image/png": "[encoded data removed]",
      "text/plain": [
       "<Figure size 432x288 with 1 Axes>"
      ]
     },
     "metadata": {
      "needs_background": "light"
     },
     "output_type": "display_data"
    }
   ],
   "source": [
    "MDP(G, 400, S, I, R, p=0.1, iterations=15, visualization=True, method=\"dependent\")"
   ]
  },
  {
   "cell_type": "code",
   "execution_count": null,
   "metadata": {},
   "outputs": [],
   "source": [
    "\"\"\"Stop here\"\"\""
   ]
  },
  {
   "cell_type": "code",
   "execution_count": 8,
   "metadata": {},
   "outputs": [],
   "source": [
    "COSTS = np.ones(n)"
   ]
  },
  {
   "cell_type": "code",
   "execution_count": 28,
   "metadata": {},
   "outputs": [],
   "source": [
    "V_1,V_2 = find_excluded_contours(G,I,R)"
   ]
  },
  {
   "cell_type": "code",
   "execution_count": 41,
   "metadata": {},
   "outputs": [],
   "source": [
    "degrees = []\n",
    "\n",
    "for u in V_1:\n",
    "    count = 0\n",
    "    for v in G.neighbors(u):\n",
    "        if v in V_2:\n",
    "            count+=1\n",
    "\n",
    "    degrees.append((count,u))\n",
    "\n",
    "degrees.sort()\n",
    "degrees.reverse()\n",
    "\n",
    "sol = {}\n",
    "\n",
    "for i in range(len(V_1)):\n",
    "    if i < 100:\n",
    "        sol[degrees[i][1]] = 1\n",
    "    else:\n",
    "        sol[degrees[i][1]] = 0"
   ]
  },
  {
   "cell_type": "code",
   "execution_count": 43,
   "metadata": {},
   "outputs": [
    {
     "data": {
      "text/plain": [
       "100"
      ]
     },
     "execution_count": 43,
     "metadata": {},
     "output_type": "execute_result"
    }
   ],
   "source": [
    "a = 0\n",
    "for (k,v) in sol.items():\n",
    "    a+=v\n",
    "a"
   ]
  },
  {
   "cell_type": "code",
   "execution_count": 37,
   "metadata": {},
   "outputs": [
    {
     "data": {
      "text/plain": [
       "[(65, 3751), (62, 27236), (61, 35651), (61, 34538), (60, 18733)]"
      ]
     },
     "execution_count": 37,
     "metadata": {},
     "output_type": "execute_result"
    }
   ],
   "source": [
    "arr[:5]"
   ]
  },
  {
   "cell_type": "code",
   "execution_count": 13,
   "metadata": {},
   "outputs": [],
   "source": [
    "P,Q = PQ(G,I,p=0.1, runs = 20)"
   ]
  },
  {
   "cell_type": "code",
   "execution_count": 20,
   "metadata": {},
   "outputs": [],
   "source": [
    "prob = ProbMinExposed.from_dataframe(G,I,V_1,V_2,P,Q,800,COSTS)\n",
    "#prob.solve_lp()\n",
    "#prob.objectiveVal"
   ]
  },
  {
   "cell_type": "code",
   "execution_count": 21,
   "metadata": {},
   "outputs": [
    {
     "name": "stdout",
     "output_type": "stream",
     "text": [
      "3677\n",
      "3677\n",
      "[1. 1. 1. ... 1. 1. 1.]\n",
      "75457\n"
     ]
    },
    {
     "ename": "ValueError",
     "evalue": "Infeasible solution",
     "output_type": "error",
     "traceback": [
      "\u001B[0;31m---------------------------------------------------------------------------\u001B[0m",
      "\u001B[0;31mValueError\u001B[0m                                Traceback (most recent call last)",
      "\u001B[0;32m<ipython-input-21-2db83b83a3c4>\u001B[0m in \u001B[0;36m<module>\u001B[0;34m\u001B[0m\n\u001B[1;32m     16\u001B[0m \u001B[0;31m#print(prob.filled())\u001B[0m\u001B[0;34m\u001B[0m\u001B[0;34m\u001B[0m\u001B[0;34m\u001B[0m\u001B[0m\n\u001B[1;32m     17\u001B[0m \u001B[0;34m\u001B[0m\u001B[0m\n\u001B[0;32m---> 18\u001B[0;31m \u001B[0mprob\u001B[0m\u001B[0;34m.\u001B[0m\u001B[0msolve_lp\u001B[0m\u001B[0;34m(\u001B[0m\u001B[0;34m)\u001B[0m\u001B[0;34m\u001B[0m\u001B[0;34m\u001B[0m\u001B[0m\n\u001B[0m",
      "\u001B[0;32m~/Contact Tracing/ctrace/constraint.py\u001B[0m in \u001B[0;36msolve_lp\u001B[0;34m(self)\u001B[0m\n\u001B[1;32m    144\u001B[0m         \u001B[0mstatus\u001B[0m \u001B[0;34m=\u001B[0m \u001B[0mself\u001B[0m\u001B[0;34m.\u001B[0m\u001B[0msolver\u001B[0m\u001B[0;34m.\u001B[0m\u001B[0mSolve\u001B[0m\u001B[0;34m(\u001B[0m\u001B[0;34m)\u001B[0m\u001B[0;34m\u001B[0m\u001B[0;34m\u001B[0m\u001B[0m\n\u001B[1;32m    145\u001B[0m         \u001B[0;32mif\u001B[0m \u001B[0mstatus\u001B[0m \u001B[0;34m==\u001B[0m \u001B[0mself\u001B[0m\u001B[0;34m.\u001B[0m\u001B[0msolver\u001B[0m\u001B[0;34m.\u001B[0m\u001B[0mINFEASIBLE\u001B[0m\u001B[0;34m:\u001B[0m\u001B[0;34m\u001B[0m\u001B[0;34m\u001B[0m\u001B[0m\n\u001B[0;32m--> 146\u001B[0;31m             \u001B[0;32mraise\u001B[0m \u001B[0mValueError\u001B[0m\u001B[0;34m(\u001B[0m\u001B[0;34m\"Infeasible solution\"\u001B[0m\u001B[0;34m)\u001B[0m\u001B[0;34m\u001B[0m\u001B[0;34m\u001B[0m\u001B[0m\n\u001B[0m\u001B[1;32m    147\u001B[0m         \u001B[0;31m# Indicators\u001B[0m\u001B[0;34m\u001B[0m\u001B[0;34m\u001B[0m\u001B[0;34m\u001B[0m\u001B[0m\n\u001B[1;32m    148\u001B[0m         \u001B[0mself\u001B[0m\u001B[0;34m.\u001B[0m\u001B[0mquarantined_solution\u001B[0m\u001B[0;34m:\u001B[0m \u001B[0mDict\u001B[0m\u001B[0;34m[\u001B[0m\u001B[0mint\u001B[0m\u001B[0;34m,\u001B[0m \u001B[0mfloat\u001B[0m\u001B[0;34m]\u001B[0m \u001B[0;34m=\u001B[0m \u001B[0;34m{\u001B[0m\u001B[0;34m}\u001B[0m\u001B[0;34m\u001B[0m\u001B[0;34m\u001B[0m\u001B[0m\n",
      "\u001B[0;31mValueError\u001B[0m: Infeasible solution"
     ]
    }
   ],
   "source": [
    "sample = random.sample(range(0, len(V_1)), 800)\n",
    "#just to not break stuff\n",
    "prob.solve_lp()\n",
    "\n",
    "for u in range(0,len(V_1)):\n",
    "    #print(u)\n",
    "    if u in sample:\n",
    "        prob.setVariable(u, 0)\n",
    "    else:\n",
    "        prob.setVariable(u, 1)\n",
    "#print(prob.partials)\n",
    "print(len(V_1))\n",
    "print(len(prob.partials))\n",
    "print(prob.costs)\n",
    "print(len(prob.costs))\n",
    "#print(prob.filled())\n",
    "\n",
    "prob.solve_lp()"
   ]
  },
  {
   "cell_type": "code",
   "execution_count": 22,
   "metadata": {},
   "outputs": [
    {
     "name": "stdout",
     "output_type": "stream",
     "text": [
      "75457.0\n"
     ]
    }
   ],
   "source": [
    "print(prob.costs.sum())"
   ]
  },
  {
   "cell_type": "code",
   "execution_count": 24,
   "metadata": {},
   "outputs": [
    {
     "name": "stdout",
     "output_type": "stream",
     "text": [
      "2877\n"
     ]
    }
   ],
   "source": [
    "a = 0\n",
    "for (k,v) in prob.partials.items():\n",
    "    a += v\n",
    "print(a)"
   ]
  },
  {
   "cell_type": "code",
   "execution_count": 7,
   "metadata": {},
   "outputs": [
    {
     "name": "stdout",
     "output_type": "stream",
     "text": [
      "15018.000000000515\n"
     ]
    }
   ],
   "source": [
    "a = prob.getVariables()\n",
    "#print(a.sum())\n",
    "(val, c) = basic_non_integer_round(prob)\n",
    "#print(c.sum())\n",
    "#print(val1)\n",
    "print(val)\n",
    "#prob = ProbMinExposed.from_dataframe(G,I0,V_1,V_2,P,Q,800,COSTS)\n",
    "#(val2, b) = iterated_round(prob,100)\n",
    "#prob = ProbMinExposed.from_dataframe(G,I0,V_1,V_2,P,Q,800,COSTS)\n",
    "#(val3, d) = optimized_iterated_round(prob, 100)\n",
    "#print(val2)\n",
    "#print(val3)\n",
    "#for i in range(len(a)):\n",
    "#    if (a[i] != 0) & (a[i] != 1):\n",
    "#        print(str(a[i]) + \" \" + str(c[i]))\n",
    "    \n",
    "#print(len(a))\n",
    "#a.sum()"
   ]
  },
  {
   "cell_type": "code",
   "execution_count": 49,
   "metadata": {},
   "outputs": [
    {
     "name": "stdout",
     "output_type": "stream",
     "text": [
      "32768\n",
      "0.0\n"
     ]
    }
   ],
   "source": [
    "for (k,v) in c.items(): \n",
    "    print(k)\n",
    "    print(v)\n",
    "    break"
   ]
  },
  {
   "cell_type": "code",
   "execution_count": 20,
   "metadata": {},
   "outputs": [
    {
     "name": "stdout",
     "output_type": "stream",
     "text": [
      "11298\n"
     ]
    },
    {
     "data": {
      "text/plain": [
       "11298"
      ]
     },
     "execution_count": 20,
     "metadata": {},
     "output_type": "execute_result"
    }
   ],
   "source": [
    "print(len(V_1))\n",
    "len(b)"
   ]
  },
  {
   "cell_type": "code",
   "execution_count": 13,
   "metadata": {
    "collapsed": true
   },
   "outputs": [
    {
     "name": "stdout",
     "output_type": "stream",
     "text": [
      "0\n",
      "1\n",
      "2\n",
      "3\n",
      "4\n",
      "5\n",
      "6\n",
      "7\n",
      "8\n",
      "9\n",
      "10\n",
      "11\n",
      "12\n",
      "13\n",
      "14\n",
      "15\n",
      "16\n",
      "17\n",
      "18\n",
      "19\n",
      "Average: 13995.412500000286 13970.625000000266 14023.225000000264\n",
      "Best: 13966.450000000283 13950.600000000224 13992.000000000284\n"
     ]
    }
   ],
   "source": [
    "a1=0\n",
    "a2=0\n",
    "a3=0\n",
    "m1=10000000000\n",
    "m2=10000000000\n",
    "m3=10000000000\n",
    "\n",
    "k=20\n",
    "\n",
    "for i in range(k):\n",
    "    prob = ProbMinExposed.from_dataframe(G,I0,V_1,V_2,P,Q,800,COSTS)\n",
    "    optimized_iterated_round(prob, 500)\n",
    "    prob.solve_lp()\n",
    "    a1 += prob.objectiveVal\n",
    "    \n",
    "    if prob.objectiveVal < m1:\n",
    "        m1 = prob.objectiveVal\n",
    "    \n",
    "    prob = ProbMinExposed.from_dataframe(G,I0,V_1,V_2,P,Q,800,COSTS)\n",
    "    iterated_round(prob, 500)\n",
    "    prob.solve_lp()\n",
    "    a2 += prob.objectiveVal\n",
    "    \n",
    "    if prob.objectiveVal < m2:\n",
    "        m2 = prob.objectiveVal\n",
    "\n",
    "    prob = ProbMinExposed.from_dataframe(G,I0,V_1,V_2,P,Q,800,COSTS)\n",
    "    basic_non_integer_round(prob)\n",
    "    prob.solve_lp()\n",
    "    a3 += prob.objectiveVal\n",
    "        \n",
    "    if prob.objectiveVal < m3:\n",
    "        m3 = prob.objectiveVal\n",
    "    \n",
    "    print(i)\n",
    "    \n",
    "a1 /= k\n",
    "a2 /= k\n",
    "a3 /= k\n",
    "\n",
    "print(\"Average: \" + str(a1) + \" \" + str(a2) + \" \" + str(a3))\n",
    "print(\"Best: \" + str(m1) + \" \" + str(m2) + \" \" + str(m3))"
   ]
  },
  {
   "cell_type": "code",
   "execution_count": 8,
   "metadata": {},
   "outputs": [],
   "source": [
    "#p1 = defaultdict(lambda: .7)\n",
    "#q = defaultdict(lambda: defaultdict(lambda : .7))\n",
    "#prob = ProbMinExposed(G,I0,V_1,V_2,p1,q,10,COSTS)"
   ]
  },
  {
   "cell_type": "code",
   "execution_count": null,
   "metadata": {},
   "outputs": [],
   "source": [
    "#test simplify\n",
    "\n",
    "a = 1\n",
    "b = 0\n",
    "\n",
    "total_a = 0\n",
    "total_b = 0\n",
    "\n",
    "n=1000000\n",
    "\n",
    "for i in range(n):\n",
    "    (x,y,new_a,new_b) = simplify(a,b)\n",
    "    \n",
    "    if x==-1:\n",
    "        total_a += new_a\n",
    "        total_b += y\n",
    "    elif y==-1:\n",
    "        total_a += x\n",
    "        total_b += new_b\n",
    "    else:\n",
    "        total_a += x\n",
    "        total_b += y\n",
    "\n",
    "print(str(total_a/n) + \" \" + str(a))\n",
    "print(str(total_b/n) + \" \" + str(b))"
   ]
  },
  {
   "cell_type": "code",
   "execution_count": null,
   "metadata": {},
   "outputs": [],
   "source": [
    "#test D\n",
    "p = [.5,.5,.25,.6,.15]\n",
    "\n",
    "n=10000\n",
    "total = np.zeros(5)\n",
    "\n",
    "for i in range(n):\n",
    "    a = D(p)\n",
    "    if np.sum(a) != np.sum(p):\n",
    "        print(\"oof\")\n",
    "    #print(p)\n",
    "    total += a\n",
    "    \n",
    "total/=n\n",
    "print(total)"
   ]
  },
  {
   "cell_type": "code",
   "execution_count": null,
   "metadata": {},
   "outputs": [],
   "source": [
    "#test D_prime\n",
    "p = [.5,.4,.25,.75,.7]\n",
    "\n",
    "n=5000\n",
    "total = np.zeros(5)\n",
    "\n",
    "for i in range(n):\n",
    "    a = D(p)\n",
    "    if (np.sum(a) != math.floor(np.sum(p))) & (np.sum(a) != math.ceil(np.sum(p))):\n",
    "        print(\"oof\")\n",
    "    #print(p)\n",
    "    total += a\n",
    "    \n",
    "total/=n\n",
    "print(total)"
   ]
  }
 ],
 "metadata": {
  "kernelspec": {
   "display_name": "Python 3",
   "language": "python",
   "name": "python3"
  },
  "language_info": {
   "codemirror_mode": {
    "name": "ipython",
    "version": 3
   },
   "file_extension": ".py",
   "mimetype": "text/x-python",
   "name": "python",
   "nbconvert_exporter": "python",
   "pygments_lexer": "ipython3",
   "version": "3.8.5"
  }
 },
 "nbformat": 4,
 "nbformat_minor": 2
}