{
 "cells": [
  {
   "cell_type": "code",
   "execution_count": 92,
   "id": "d83110da",
   "metadata": {},
   "outputs": [
    {
     "name": "stdout",
     "output_type": "stream",
     "text": [
      "The autoreload extension is already loaded. To reload it, use:\n",
      "  %reload_ext autoreload\n"
     ]
    }
   ],
   "source": [
    "%matplotlib inline\n",
    "%load_ext autoreload\n",
    "%autoreload 2\n",
    "\n",
    "import networkx as nx\n",
    "import matplotlib.pyplot as plt\n",
    "from mpl_toolkits.mplot3d import axes3d\n",
    "import pandas as pd\n",
    "import numpy as np\n",
    "import random\n",
    "import math\n",
    "import EoN\n",
    "import seaborn as sns\n",
    "import time\n",
    "\n",
    "# New Imports\n",
    "#from ctrace.contact_tracing import *\n",
    "#from ctrace.constraint import *\n",
    "#from ctrace.solve import *\n",
    "#from ctrace.simulation import *\n",
    "#from ctrace.restricted import *\n",
    "from ctrace.simulation import *\n",
    "from ctrace.dataset import *\n",
    "from ctrace.recommender import *\n",
    "from ctrace.problem_label import *\n",
    "from ctrace.utils import *\n",
    "from ctrace.drawing import *\n",
    "from collections import Counter\n",
    "\n"
   ]
  },
  {
   "cell_type": "code",
   "execution_count": 93,
   "id": "02d2c82f",
   "metadata": {},
   "outputs": [],
   "source": [
    "G_mont = load_graph_montgomery_labels()\n",
    "with open(PROJECT_ROOT / \"data\" / \"SIR_Cache\" / \"c7.json\", 'r') as infile:\n",
    "    j = json.load(infile)\n",
    "    (S, I1, I2, R) = (j[\"S\"], j[\"I1\"], j[\"I2\"], j[\"R\"])\n",
    "    infections = j[\"infections\"]\n",
    "state = InfectionState(G_mont, (S, I1, I2, R), 10000, \"none\", 0.05, True, 0.8, True, 1, 1)\n",
    "G = G_mont"
   ]
  },
  {
   "cell_type": "code",
   "execution_count": 94,
   "id": "e61f7ce2",
   "metadata": {},
   "outputs": [],
   "source": [
    "# # <================ Adjustments ================>\n",
    "\n",
    "# # Letter Description\n",
    "# # p: (0, 4) preschool\n",
    "# # s: (5, 17) school-aged\n",
    "# # a: (18, 49) adults\n",
    "# # o: (50, 64) older-adults\n",
    "# # g: (65, ) golden-aged\n",
    "\n",
    "# # None restrictions no restrictions for the category per-se, but global budget constraint still holds\n",
    "\n",
    "# # No Restrictions\n",
    "# policy_A = {\n",
    "#     0: None,\n",
    "#     1: None,\n",
    "#     2: None,\n",
    "#     3: None,\n",
    "#     4: None,\n",
    "# }\n",
    "\n",
    "# # Proportional\n",
    "# policy_B = {\n",
    "#     0: 1,\n",
    "#     1: 1,\n",
    "#     2: 1,\n",
    "#     3: 1,\n",
    "#     4: 1,\n",
    "# }\n",
    "# # Double for golden-aged\n",
    "# policy_C = {\n",
    "#     0: 1,\n",
    "#     1: 1,\n",
    "#     2: 1,\n",
    "#     3: 1,\n",
    "#     4: 2,\n",
    "# }\n",
    "# # Halved for adults and older adults\n",
    "# policy_D = {\n",
    "#     0: 1,\n",
    "#     1: 1,\n",
    "#     2: 0.5,\n",
    "#     3: 0.5,\n",
    "#     4: 1,\n",
    "# }\n",
    "\n",
    "# # Unrestricted golden-aged and preschool\n",
    "# policy_E = {\n",
    "#     0: None,\n",
    "#     1: 1,\n",
    "#     2: 0.5,\n",
    "#     3: 0.5,\n",
    "#     4: None,\n",
    "# }\n",
    "\n",
    "# fair_policies = {\n",
    "#     'A': policy_A,\n",
    "#     'B': policy_B,\n",
    "#     'C': policy_C,\n",
    "#     'D': policy_D,\n",
    "#     'E': policy_E,\n",
    "# }\n",
    "\n",
    "# def adjusted_allocation(pop_counts, policy, budget=None):\n",
    "#     \"\"\"\n",
    "#     Rescales and allows for None in policy factors.\n",
    "#     Filters out the nones, and performs rescaling on the remaining numbers.\n",
    "\n",
    "#     pop_counts: dict[pop_id] -> count\n",
    "#     policy: dict[pop_id] -> proportion factor\n",
    "#     \"\"\"\n",
    "#     scales = [v for k,v in policy.items() if v is not None]\n",
    "#     indices = [k for k,v in policy.items() if v is not None]\n",
    "#     nulls = [k for k,v in policy.items() if v is None]\n",
    "#     total = sum(scales)\n",
    "#     if total == 0:\n",
    "#         return policy # 0 -> 0, None -> None\n",
    "    \n",
    "#     counts = rescale([pop_counts[i] for i in indices], scales, budget)\n",
    "#     counts = round_fracs(counts)\n",
    "    \n",
    "#     soln = {}\n",
    "#     for k in policy:\n",
    "#         if k in nulls:\n",
    "#             soln[k] = None\n",
    "#         else:\n",
    "#             soln[k] = counts[indices.index(k)]\n",
    "#     # Doesn't preserve order\n",
    "# #     soln = {indices[i]: scale for i, scale in enumerate(scales)}\n",
    "# #     soln.update({k: None for k in nulls})\n",
    "#     return soln\n",
    "\n",
    "# def rescale(nums, scales, budget=None):\n",
    "#     \"\"\"\n",
    "#     Rescale nums with scales to budget. Budget defaults to sum(nums)\n",
    "    \n",
    "#     Ex:\n",
    "#     nums = [10, 20]\n",
    "#     scale = [2, 1]\n",
    "#     will return [15, 15]\n",
    "#     \"\"\"\n",
    "#     raw = np.multiply(nums, scales)\n",
    "#     if np.sum(raw) == 0:\n",
    "#         raise ValueError(\"Rescaling denominator may not 0\")\n",
    "#     if budget is None:\n",
    "#         budget = np.sum(nums)\n",
    "#     return list(raw * budget / np.sum(raw))\n",
    "\n",
    "# def round_fracs(amts):\n",
    "#     \"\"\"\n",
    "#     Rounds array, ensuring that sum(result) == sum(amts)\n",
    "#     Using even-rounding (rounds to the nearest even for 0.5)\n",
    "#     All fractions are closed (accumulated) in last element.\n",
    "#     \"\"\"\n",
    "#     first = [round(amt) for amt in amts[:-1]]\n",
    "#     return first + [int(sum(amts) - sum(first))]\n",
    "\n",
    "# assert rescale([10, 20], [2, 1]) == [15, 15]\n",
    "# assert rescale([10, 10], [3, 1]) == [15, 5]\n",
    "\n",
    "# assert rescale([10, 20], [2, 1], 60) == [30, 30]\n",
    "# assert rescale([10, 10], [3, 1], 40) == [30, 10]"
   ]
  },
  {
   "cell_type": "code",
   "execution_count": 105,
   "id": "6e315e47",
   "metadata": {},
   "outputs": [
    {
     "data": {
      "text/plain": [
       "<BarContainer object of 5 artists>"
      ]
     },
     "execution_count": 105,
     "metadata": {},
     "output_type": "execute_result"
    },
    {
     "data": {
      "image/png": "[encoded data removed]",
      "text/plain": [
       "<Figure size 432x288 with 1 Axes>"
      ]
     },
     "metadata": {
      "needs_background": "light"
     },
     "output_type": "display_data"
    }
   ],
   "source": [
    "# original distribution\n",
    "fig, ax = plt.subplots(1,1)\n",
    "pop_counts = Counter(G.nodes[n].get('age_group') for n in G.nodes)\n",
    "pop_counts = {k: pop_counts[k] for k in sorted(pop_counts)}\n",
    "ax.bar(pop_counts.keys(), pop_counts.values(), .35, label='Men')\n",
    "# ax.set_ylim(0,50000)"
   ]
  },
  {
   "cell_type": "code",
   "execution_count": 125,
   "id": "21e0051f",
   "metadata": {
    "scrolled": true
   },
   "outputs": [
    {
     "name": "stdout",
     "output_type": "stream",
     "text": [
      "A\n",
      "{0: 0, 1: 0, 2: 0, 3: 0, 4: 0}\n",
      "B\n",
      "{0: 344, 1: 129, 2: 166, 3: 42, 4: 118}\n",
      "C\n",
      "{0: 299, 1: 112, 2: 144, 3: 36, 4: 209}\n",
      "D\n",
      "{0: 395, 1: 148, 2: 95, 3: 24, 4: 138}\n"
     ]
    },
    {
     "data": {
      "image/png": "[encoded data removed]",
      "text/plain": [
       "<Figure size 720x432 with 4 Axes>"
      ]
     },
     "metadata": {
      "needs_background": "light"
     },
     "output_type": "display_data"
    }
   ],
   "source": [
    "# def compute_label_budgets(G, scales):\n",
    "#     pop_counts = Counter(G.nodes[n].get('age_group') for n in G.nodes)\n",
    "#     adjusted = adjusted_allocation(pop_counts, scales)\n",
    "    \n",
    "#     return {k: adjusted[k] for k in sorted(adjusted)}\n",
    "\n",
    "\n",
    "fig, axes = plt.subplots(2,2, figsize=(10, 6))\n",
    "\n",
    "for ax, policy in zip(axes.flat, fair_policies):\n",
    "    print(policy)\n",
    "    budgets = compute_label_budgets(G_mont, fair_policies[policy], 800)\n",
    "    for b in budgets:\n",
    "        budgets[b] = 0 if budgets[b] is None else budgets[b]\n",
    "    print(budgets)\n",
    "    ax.bar(budgets.keys(), budgets.values(), .35, label='Men')\n",
    "    ax.set_ylim(0,800)\n",
    "    \n",
    "    ax.set_xlabel(\"Population Class (Age Groups)\")\n",
    "    ax.set_ylabel(\"Total Infections (% of Population)\")"
   ]
  },
  {
   "cell_type": "code",
   "execution_count": null,
   "id": "a946c3e4",
   "metadata": {},
   "outputs": [],
   "source": []
  },
  {
   "cell_type": "code",
   "execution_count": 15,
   "id": "8f417cc0",
   "metadata": {
    "scrolled": true
   },
   "outputs": [
    {
     "data": {
      "text/plain": [
       "Counter({2: 15648, 1: 12178, 0: 32401, 4: 11296, 3: 3934})"
      ]
     },
     "execution_count": 15,
     "metadata": {},
     "output_type": "execute_result"
    }
   ],
   "source": [
    "pop_counts = dict(Counter(age_groups.values()))"
   ]
  },
  {
   "cell_type": "code",
   "execution_count": null,
   "id": "0ba9ea76",
   "metadata": {},
   "outputs": [],
   "source": [
    "compute_label_budgets(G)"
   ]
  },
  {
   "cell_type": "code",
   "execution_count": 131,
   "id": "cfe4950e",
   "metadata": {},
   "outputs": [
    {
     "ename": "NetworkXError",
     "evalue": "The node 98312 is not in the graph.",
     "output_type": "error",
     "traceback": [
      "\u001b[0;31m---------------------------------------------------------------------------\u001b[0m",
      "\u001b[0;31mKeyError\u001b[0m                                  Traceback (most recent call last)",
      "\u001b[0;32m~/anaconda3/envs/tracing/lib/python3.9/site-packages/networkx/classes/graph.py\u001b[0m in \u001b[0;36mneighbors\u001b[0;34m(self, n)\u001b[0m\n\u001b[1;32m   1237\u001b[0m         \u001b[0;32mtry\u001b[0m\u001b[0;34m:\u001b[0m\u001b[0;34m\u001b[0m\u001b[0;34m\u001b[0m\u001b[0m\n\u001b[0;32m-> 1238\u001b[0;31m             \u001b[0;32mreturn\u001b[0m \u001b[0miter\u001b[0m\u001b[0;34m(\u001b[0m\u001b[0mself\u001b[0m\u001b[0;34m.\u001b[0m\u001b[0m_adj\u001b[0m\u001b[0;34m[\u001b[0m\u001b[0mn\u001b[0m\u001b[0;34m]\u001b[0m\u001b[0;34m)\u001b[0m\u001b[0;34m\u001b[0m\u001b[0;34m\u001b[0m\u001b[0m\n\u001b[0m\u001b[1;32m   1239\u001b[0m         \u001b[0;32mexcept\u001b[0m \u001b[0mKeyError\u001b[0m \u001b[0;32mas\u001b[0m \u001b[0me\u001b[0m\u001b[0;34m:\u001b[0m\u001b[0;34m\u001b[0m\u001b[0;34m\u001b[0m\u001b[0m\n",
      "\u001b[0;31mKeyError\u001b[0m: 98312",
      "\nThe above exception was the direct cause of the following exception:\n",
      "\u001b[0;31mNetworkXError\u001b[0m                             Traceback (most recent call last)",
      "\u001b[0;32m<ipython-input-131-67e5ca372e34>\u001b[0m in \u001b[0;36m<module>\u001b[0;34m\u001b[0m\n\u001b[1;32m     13\u001b[0m     \u001b[0minfections\u001b[0m \u001b[0;34m=\u001b[0m \u001b[0mj\u001b[0m\u001b[0;34m[\u001b[0m\u001b[0;34m\"infections\"\u001b[0m\u001b[0;34m]\u001b[0m \u001b[0;31m# An array of previous infection accounts\u001b[0m\u001b[0;34m\u001b[0m\u001b[0;34m\u001b[0m\u001b[0m\n\u001b[1;32m     14\u001b[0m \u001b[0;34m\u001b[0m\u001b[0m\n\u001b[0;32m---> 15\u001b[0;31m state = InfectionState(graph, (S, I1, I2, R), budget, policy, transmission_rate,\n\u001b[0m\u001b[1;32m     16\u001b[0m                        transmission_known, compliance_rate, compliance_known, discovery_rate, snitch_rate)\n\u001b[1;32m     17\u001b[0m \u001b[0;34m\u001b[0m\u001b[0m\n",
      "\u001b[0;32m~/ContactTracing/ctrace/simulation.py\u001b[0m in \u001b[0;36m__init__\u001b[0;34m(self, G, SIR, budget, policy, transmission_rate, transmission_known, compliance_rate, compliance_known, discovery_rate, snitch_rate)\u001b[0m\n\u001b[1;32m     83\u001b[0m \u001b[0;34m\u001b[0m\u001b[0m\n\u001b[1;32m     84\u001b[0m         \u001b[0;31m# initialize V1 and V2\u001b[0m\u001b[0;34m\u001b[0m\u001b[0;34m\u001b[0m\u001b[0;34m\u001b[0m\u001b[0m\n\u001b[0;32m---> 85\u001b[0;31m         \u001b[0mself\u001b[0m\u001b[0;34m.\u001b[0m\u001b[0mset_contours\u001b[0m\u001b[0;34m(\u001b[0m\u001b[0;34m)\u001b[0m\u001b[0;34m\u001b[0m\u001b[0;34m\u001b[0m\u001b[0m\n\u001b[0m\u001b[1;32m     86\u001b[0m \u001b[0;34m\u001b[0m\u001b[0m\n\u001b[1;32m     87\u001b[0m     \u001b[0;31m# returns a SimulationState object loaded from a file\u001b[0m\u001b[0;34m\u001b[0m\u001b[0;34m\u001b[0m\u001b[0;34m\u001b[0m\u001b[0m\n",
      "\u001b[0;32m~/ContactTracing/ctrace/simulation.py\u001b[0m in \u001b[0;36mset_contours\u001b[0;34m(self)\u001b[0m\n\u001b[1;32m    144\u001b[0m     \u001b[0;32mdef\u001b[0m \u001b[0mset_contours\u001b[0m\u001b[0;34m(\u001b[0m\u001b[0mself\u001b[0m\u001b[0;34m)\u001b[0m\u001b[0;34m:\u001b[0m\u001b[0;34m\u001b[0m\u001b[0;34m\u001b[0m\u001b[0m\n\u001b[1;32m    145\u001b[0m         \u001b[0;31m# For knowledge of which edges are complied along, add parameter compliance_known:bool\u001b[0m\u001b[0;34m\u001b[0m\u001b[0;34m\u001b[0m\u001b[0;34m\u001b[0m\u001b[0m\n\u001b[0;32m--> 146\u001b[0;31m         (self.V1, self.V2, self.P, self.Q) = find_excluded_contours_edges_PQ(\n\u001b[0m\u001b[1;32m    147\u001b[0m             self.G, self.SIR.I2, self.SIR.R, self.discovery_rate, self.snitch_rate)\n\u001b[1;32m    148\u001b[0m \u001b[0;34m\u001b[0m\u001b[0m\n",
      "\u001b[0;32m~/ContactTracing/ctrace/utils.py\u001b[0m in \u001b[0;36mfind_excluded_contours_edges_PQ\u001b[0;34m(G, infected, excluded, discovery_rate, snitch_rate)\u001b[0m\n\u001b[1;32m    230\u001b[0m \u001b[0;34m\u001b[0m\u001b[0m\n\u001b[1;32m    231\u001b[0m \u001b[0;32mdef\u001b[0m \u001b[0mfind_excluded_contours_edges_PQ\u001b[0m\u001b[0;34m(\u001b[0m\u001b[0mG\u001b[0m\u001b[0;34m:\u001b[0m \u001b[0mnx\u001b[0m\u001b[0;34m.\u001b[0m\u001b[0mGraph\u001b[0m\u001b[0;34m,\u001b[0m \u001b[0minfected\u001b[0m\u001b[0;34m:\u001b[0m \u001b[0mSet\u001b[0m\u001b[0;34m[\u001b[0m\u001b[0mint\u001b[0m\u001b[0;34m]\u001b[0m\u001b[0;34m,\u001b[0m \u001b[0mexcluded\u001b[0m\u001b[0;34m:\u001b[0m \u001b[0mSet\u001b[0m\u001b[0;34m[\u001b[0m\u001b[0mint\u001b[0m\u001b[0;34m]\u001b[0m\u001b[0;34m,\u001b[0m \u001b[0mdiscovery_rate\u001b[0m\u001b[0;34m:\u001b[0m \u001b[0mfloat\u001b[0m \u001b[0;34m=\u001b[0m \u001b[0;36m1\u001b[0m\u001b[0;34m,\u001b[0m \u001b[0msnitch_rate\u001b[0m\u001b[0;34m:\u001b[0m \u001b[0mfloat\u001b[0m \u001b[0;34m=\u001b[0m \u001b[0;36m1\u001b[0m\u001b[0;34m)\u001b[0m\u001b[0;34m:\u001b[0m\u001b[0;34m\u001b[0m\u001b[0;34m\u001b[0m\u001b[0m\n\u001b[0;32m--> 232\u001b[0;31m     v1 = set().union(*[effective_neighbor(G, v, G.neighbors(v))\n\u001b[0m\u001b[1;32m    233\u001b[0m                        for v in set(infected)]) - (set(infected) | set(excluded))\n\u001b[1;32m    234\u001b[0m     \u001b[0mv1_k\u001b[0m \u001b[0;34m=\u001b[0m \u001b[0;34m{\u001b[0m\u001b[0mv\u001b[0m \u001b[0;32mfor\u001b[0m \u001b[0mv\u001b[0m \u001b[0;32min\u001b[0m \u001b[0mv1\u001b[0m \u001b[0;32mif\u001b[0m \u001b[0mrandom\u001b[0m\u001b[0;34m.\u001b[0m\u001b[0muniform\u001b[0m\u001b[0;34m(\u001b[0m\u001b[0;36m0\u001b[0m\u001b[0;34m,\u001b[0m \u001b[0;36m1\u001b[0m\u001b[0;34m)\u001b[0m \u001b[0;34m<\u001b[0m \u001b[0mdiscovery_rate\u001b[0m\u001b[0;34m}\u001b[0m\u001b[0;34m\u001b[0m\u001b[0;34m\u001b[0m\u001b[0m\n",
      "\u001b[0;32m~/ContactTracing/ctrace/utils.py\u001b[0m in \u001b[0;36m<listcomp>\u001b[0;34m(.0)\u001b[0m\n\u001b[1;32m    230\u001b[0m \u001b[0;34m\u001b[0m\u001b[0m\n\u001b[1;32m    231\u001b[0m \u001b[0;32mdef\u001b[0m \u001b[0mfind_excluded_contours_edges_PQ\u001b[0m\u001b[0;34m(\u001b[0m\u001b[0mG\u001b[0m\u001b[0;34m:\u001b[0m \u001b[0mnx\u001b[0m\u001b[0;34m.\u001b[0m\u001b[0mGraph\u001b[0m\u001b[0;34m,\u001b[0m \u001b[0minfected\u001b[0m\u001b[0;34m:\u001b[0m \u001b[0mSet\u001b[0m\u001b[0;34m[\u001b[0m\u001b[0mint\u001b[0m\u001b[0;34m]\u001b[0m\u001b[0;34m,\u001b[0m \u001b[0mexcluded\u001b[0m\u001b[0;34m:\u001b[0m \u001b[0mSet\u001b[0m\u001b[0;34m[\u001b[0m\u001b[0mint\u001b[0m\u001b[0;34m]\u001b[0m\u001b[0;34m,\u001b[0m \u001b[0mdiscovery_rate\u001b[0m\u001b[0;34m:\u001b[0m \u001b[0mfloat\u001b[0m \u001b[0;34m=\u001b[0m \u001b[0;36m1\u001b[0m\u001b[0;34m,\u001b[0m \u001b[0msnitch_rate\u001b[0m\u001b[0;34m:\u001b[0m \u001b[0mfloat\u001b[0m \u001b[0;34m=\u001b[0m \u001b[0;36m1\u001b[0m\u001b[0;34m)\u001b[0m\u001b[0;34m:\u001b[0m\u001b[0;34m\u001b[0m\u001b[0;34m\u001b[0m\u001b[0m\n\u001b[0;32m--> 232\u001b[0;31m     v1 = set().union(*[effective_neighbor(G, v, G.neighbors(v))\n\u001b[0m\u001b[1;32m    233\u001b[0m                        for v in set(infected)]) - (set(infected) | set(excluded))\n\u001b[1;32m    234\u001b[0m     \u001b[0mv1_k\u001b[0m \u001b[0;34m=\u001b[0m \u001b[0;34m{\u001b[0m\u001b[0mv\u001b[0m \u001b[0;32mfor\u001b[0m \u001b[0mv\u001b[0m \u001b[0;32min\u001b[0m \u001b[0mv1\u001b[0m \u001b[0;32mif\u001b[0m \u001b[0mrandom\u001b[0m\u001b[0;34m.\u001b[0m\u001b[0muniform\u001b[0m\u001b[0;34m(\u001b[0m\u001b[0;36m0\u001b[0m\u001b[0;34m,\u001b[0m \u001b[0;36m1\u001b[0m\u001b[0;34m)\u001b[0m \u001b[0;34m<\u001b[0m \u001b[0mdiscovery_rate\u001b[0m\u001b[0;34m}\u001b[0m\u001b[0;34m\u001b[0m\u001b[0;34m\u001b[0m\u001b[0m\n",
      "\u001b[0;32m~/anaconda3/envs/tracing/lib/python3.9/site-packages/networkx/classes/graph.py\u001b[0m in \u001b[0;36mneighbors\u001b[0;34m(self, n)\u001b[0m\n\u001b[1;32m   1238\u001b[0m             \u001b[0;32mreturn\u001b[0m \u001b[0miter\u001b[0m\u001b[0;34m(\u001b[0m\u001b[0mself\u001b[0m\u001b[0;34m.\u001b[0m\u001b[0m_adj\u001b[0m\u001b[0;34m[\u001b[0m\u001b[0mn\u001b[0m\u001b[0;34m]\u001b[0m\u001b[0;34m)\u001b[0m\u001b[0;34m\u001b[0m\u001b[0;34m\u001b[0m\u001b[0m\n\u001b[1;32m   1239\u001b[0m         \u001b[0;32mexcept\u001b[0m \u001b[0mKeyError\u001b[0m \u001b[0;32mas\u001b[0m \u001b[0me\u001b[0m\u001b[0;34m:\u001b[0m\u001b[0;34m\u001b[0m\u001b[0;34m\u001b[0m\u001b[0m\n\u001b[0;32m-> 1240\u001b[0;31m             \u001b[0;32mraise\u001b[0m \u001b[0mNetworkXError\u001b[0m\u001b[0;34m(\u001b[0m\u001b[0;34mf\"The node {n} is not in the graph.\"\u001b[0m\u001b[0;34m)\u001b[0m \u001b[0;32mfrom\u001b[0m \u001b[0me\u001b[0m\u001b[0;34m\u001b[0m\u001b[0;34m\u001b[0m\u001b[0m\n\u001b[0m\u001b[1;32m   1241\u001b[0m \u001b[0;34m\u001b[0m\u001b[0m\n\u001b[1;32m   1242\u001b[0m     \u001b[0;34m@\u001b[0m\u001b[0mproperty\u001b[0m\u001b[0;34m\u001b[0m\u001b[0;34m\u001b[0m\u001b[0m\n",
      "\u001b[0;31mNetworkXError\u001b[0m: The node 98312 is not in the graph."
     ]
    }
   ],
   "source": [
    "\n",
    "from_cache = 'b5.json'\n",
    "graph = G_mont\n",
    "transmission_rate=.05\n",
    "transmission_known=True\n",
    "compliance_rate=0.8\n",
    "compliance_known=True\n",
    "discovery_rate=1\n",
    "snitch_rate=1\n",
    "agent=De\n",
    "with open(PROJECT_ROOT / \"data\" / \"SIR_Cache\" / from_cache, 'r') as infile:\n",
    "    j = json.load(infile)\n",
    "\n",
    "    (S, I1, I2, R) = (j[\"S\"], j[\"I1\"], j[\"I2\"], j[\"R\"])\n",
    "    infections = j[\"infections\"] # An array of previous infection accounts\n",
    "\n",
    "state = InfectionState(graph, (S, I1, I2, R), budget, policy, transmission_rate,\n",
    "                       transmission_known, compliance_rate, compliance_known, discovery_rate, snitch_rate)\n",
    "\n",
    "\n",
    "while len(state.SIR.I1) + len(state.SIR.I2) != 0:\n",
    "    to_quarantine = agent(state)\n",
    "    state.step(to_quarantine)\n",
    "    infections.append(len(state.SIR.I2))\n"
   ]
  },
  {
   "cell_type": "code",
   "execution_count": 155,
   "id": "5afc8e75",
   "metadata": {},
   "outputs": [],
   "source": [
    "import pytest\n",
    "def pair_greedy(pairs, label_budgets, budget, mapper):\n",
    "    \"\"\"\n",
    "    pairs: (obj_val, id)\n",
    "    label_budgets: label -> budget\n",
    "    budget: int\n",
    "    mapper: id -> label\n",
    "    \"\"\"\n",
    "    label_budgets = {k: v for k, v in label_budgets.items() if v is not None}\n",
    "    \n",
    "    result = set()\n",
    "    for val, v in pairs:\n",
    "        if len(result) >= budget:\n",
    "            break\n",
    "        label = mapper(v)\n",
    "        if label not in label_budgets:\n",
    "            result.add(v)\n",
    "        else:\n",
    "            # Add greedily until budget runs out for a particular label\n",
    "            if label_budgets[label] > 0: \n",
    "                result.add(v)\n",
    "                label_budgets[label] -= 1\n",
    "    return result\n",
    "    "
   ]
  },
  {
   "cell_type": "code",
   "execution_count": 141,
   "id": "cb0a5215",
   "metadata": {},
   "outputs": [
    {
     "name": "stdout",
     "output_type": "stream",
     "text": [
      "[(2, 0), (3, 1), (4, 2), (5, 3), (10, 3), (10, 4)]\n"
     ]
    }
   ],
   "source": [
    "print([(v, k) for k, v in pairs])"
   ]
  },
  {
   "cell_type": "code",
   "execution_count": 156,
   "id": "f902a819",
   "metadata": {},
   "outputs": [
    {
     "name": "stderr",
     "output_type": "stream",
     "text": [
      "100%|██████████| 100/100 [00:00<00:00, 5115.13it/s]\n"
     ]
    }
   ],
   "source": [
    "seed=42\n",
    "G, pos = small_world_grid(\n",
    "    width=10,\n",
    "    max_norm=False,\n",
    "    sparsity=0,\n",
    "    p=1,\n",
    "    local_range=1,\n",
    "    num_long_range=0,\n",
    "    r=2,\n",
    "    seed=seed\n",
    ")"
   ]
  },
  {
   "cell_type": "code",
   "execution_count": null,
   "id": "16d9290a",
   "metadata": {},
   "outputs": [],
   "source": []
  }
 ],
 "metadata": {
  "kernelspec": {
   "display_name": "Environment (conda_tracing)",
   "language": "python",
   "name": "conda_tracing"
  },
  "language_info": {
   "codemirror_mode": {
    "name": "ipython",
    "version": 3
   },
   "file_extension": ".py",
   "mimetype": "text/x-python",
   "name": "python",
   "nbconvert_exporter": "python",
   "pygments_lexer": "ipython3",
   "version": "3.9.4"
  }
 },
 "nbformat": 4,
 "nbformat_minor": 5
}
