{
 "cells": [
  {
   "cell_type": "code",
   "execution_count": 90,
   "metadata": {},
   "outputs": [
    {
     "name": "stdout",
     "output_type": "stream",
     "text": [
      "The autoreload extension is already loaded. To reload it, use:\n",
      "  %reload_ext autoreload\n"
     ]
    }
   ],
   "source": [
    "%load_ext autoreload\n",
    "# Always reload modules so that as you change code in src, it gets loaded\n",
    "%autoreload 2\n",
    "\n",
    "import networkx as nx\n",
    "import matplotlib.pyplot as plt\n",
    "import pandas as pd\n",
    "import numpy as np\n",
    "import random\n",
    "import math\n",
    "import EoN\n",
    "import seaborn as sns\n",
    "import time\n",
    "\n",
    "# New Imports\n",
    "#from ctrace.contact_tracing import *\n",
    "#from ctrace.constraint import *\n",
    "#from ctrace.solve import *\n",
    "#from ctrace.simulation import *\n",
    "#from ctrace.restricted import *\n",
    "from ctrace.simulation import *\n",
    "from ctrace.dataset import *\n",
    "from ctrace.recommender import *\n",
    "from ctrace.problem import *"
   ]
  },
  {
   "cell_type": "code",
   "execution_count": 3,
   "metadata": {},
   "outputs": [],
   "source": [
    "G = load_graph(\"montgomery\")"
   ]
  },
  {
   "cell_type": "code",
   "execution_count": 4,
   "metadata": {},
   "outputs": [],
   "source": [
    "I = set()\n",
    "with open(PROJECT_ROOT / \"data\" / \"SIR_Cache\" / \"t7.json\", 'r') as infile:\n",
    "    j = json.load(infile)\n",
    "    (S, infected_queue, R) = (j[\"S\"], j[\"I_Queue\"], j[\"R\"])\n",
    "\n",
    "    # Make infected_queue a list of sets\n",
    "    infected_queue = [set(s) for s in infected_queue]\n",
    "    I = I.union(*infected_queue)\n",
    "    I = list(I)"
   ]
  },
  {
   "cell_type": "code",
   "execution_count": 93,
   "metadata": {},
   "outputs": [
    {
     "name": "stdout",
     "output_type": "stream",
     "text": [
      "False\n",
      "False\n",
      "False\n",
      "False\n",
      "False\n",
      "False\n",
      "False\n",
      "False\n",
      "False\n",
      "\n",
      "41734\n"
     ]
    }
   ],
   "source": [
    "#this is how the code is used\n",
    "state = SimulationState(G, (S,I,R), (S,I,R), 2000, .078,.5,1,1,1)\n",
    "agent = Random\n",
    "\n",
    "while len(state.SIR_known.SIR[1]) != 0:\n",
    "    #print(len(state.SIR_known.SIR[1]))\n",
    "    to_quarantine = agent(state)\n",
    "    state.step(to_quarantine)\n",
    "    \n",
    "    print(state.SIR_known.SIR.I in state.SIR_real.SIR.I)\n",
    "#print(len(state.SIR_known.SIR[1]))\n",
    "print()\n",
    "print(len(state.SIR_known.SIR[2]))"
   ]
  },
  {
   "cell_type": "code",
   "execution_count": 76,
   "metadata": {},
   "outputs": [
    {
     "ename": "AttributeError",
     "evalue": "'list' object has no attribute 'concat'",
     "output_type": "error",
     "traceback": [
      "\u001b[1;31m---------------------------------------------------------------------------\u001b[0m",
      "\u001b[1;31mAttributeError\u001b[0m                            Traceback (most recent call last)",
      "\u001b[1;32m<ipython-input-76-ba10776bddf7>\u001b[0m in \u001b[0;36m<module>\u001b[1;34m\u001b[0m\n\u001b[1;32m----> 1\u001b[1;33m \u001b[0mprint\u001b[0m\u001b[1;33m(\u001b[0m\u001b[1;33m[\u001b[0m\u001b[1;36m1\u001b[0m\u001b[1;33m]\u001b[0m\u001b[1;33m.\u001b[0m\u001b[0mconcat\u001b[0m\u001b[1;33m(\u001b[0m\u001b[1;33m[\u001b[0m\u001b[1;36m2\u001b[0m\u001b[1;33m]\u001b[0m\u001b[1;33m)\u001b[0m\u001b[1;33m)\u001b[0m\u001b[1;33m\u001b[0m\u001b[1;33m\u001b[0m\u001b[0m\n\u001b[0m",
      "\u001b[1;31mAttributeError\u001b[0m: 'list' object has no attribute 'concat'"
     ]
    }
   ],
   "source": [
    "print([1].concat([2]))"
   ]
  },
  {
   "cell_type": "code",
   "execution_count": 27,
   "metadata": {},
   "outputs": [
    {
     "data": {
      "text/plain": [
       "([], [], [])"
      ]
     },
     "execution_count": 27,
     "metadata": {},
     "output_type": "execute_result"
    }
   ],
   "source": [
    "state.SIR_known.quarantined"
   ]
  },
  {
   "cell_type": "code",
   "execution_count": 28,
   "metadata": {},
   "outputs": [
    {
     "data": {
      "text/plain": [
       "75457"
      ]
     },
     "execution_count": 28,
     "metadata": {},
     "output_type": "execute_result"
    }
   ],
   "source": [
    "len(state.SIR_real.SIR[0] + state.SIR_real.SIR[1] + state.SIR_real.SIR[2])"
   ]
  },
  {
   "cell_type": "code",
   "execution_count": 43,
   "metadata": {},
   "outputs": [],
   "source": [
    "agents = [NoIntervention, Random, Degree, DegGreedy]"
   ]
  },
  {
   "cell_type": "code",
   "execution_count": 44,
   "metadata": {},
   "outputs": [
    {
     "name": "stdout",
     "output_type": "stream",
     "text": [
      "NoIntervention 36117\n",
      "Random 26046\n",
      "Degree 21258\n",
      "DegGreedy 18275\n"
     ]
    }
   ],
   "source": [
    "for agent in agents:\n",
    "    state = SimulationState(G, (S,I,R), (S,I,R), 2000, .078,1,1, 1,1)\n",
    "\n",
    "    while len(state.SIR_known.SIR[1]) != 0:\n",
    "        to_quarantine = agent(state)\n",
    "        state.step(to_quarantine)\n",
    "\n",
    "    print(agent.__name__ + \" \" + str(len(state.SIR_known.SIR[2])))\n"
   ]
  }
 ],
 "metadata": {
  "kernelspec": {
   "display_name": "Python 3",
   "language": "python",
   "name": "python3"
  },
  "language_info": {
   "codemirror_mode": {
    "name": "ipython",
    "version": 3
   },
   "file_extension": ".py",
   "mimetype": "text/x-python",
   "name": "python",
   "nbconvert_exporter": "python",
   "pygments_lexer": "ipython3",
   "version": "3.7.3"
  }
 },
 "nbformat": 4,
 "nbformat_minor": 2
}
