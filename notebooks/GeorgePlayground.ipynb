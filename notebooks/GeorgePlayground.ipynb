{
 "cells": [
  {
   "cell_type": "code",
   "execution_count": 186,
   "metadata": {},
   "outputs": [
    {
     "name": "stdout",
     "output_type": "stream",
     "text": [
      "The autoreload extension is already loaded. To reload it, use:\n",
      "  %reload_ext autoreload\n"
     ]
    }
   ],
   "source": [
    "%load_ext autoreload\n",
    "# Always reload modules so that as you change code in src, it gets loaded\n",
    "%autoreload 2\n",
    "\n",
    "import networkx as nx\n",
    "import matplotlib.pyplot as plt\n",
    "import pandas as pd\n",
    "import numpy as np\n",
    "import random\n",
    "import math\n",
    "import EoN\n",
    "import seaborn as sns\n",
    "import time\n",
    "\n",
    "# New Imports\n",
    "#from ctrace.contact_tracing import *\n",
    "#from ctrace.constraint import *\n",
    "#from ctrace.solve import *\n",
    "#from ctrace.simulation import *\n",
    "#from ctrace.restricted import *\n",
    "from ctrace.simulation import *\n",
    "from ctrace.dataset import *\n",
    "from ctrace.recommender import *\n",
    "from ctrace.problem import *"
   ]
  },
  {
   "cell_type": "code",
   "execution_count": 3,
   "metadata": {},
   "outputs": [],
   "source": [
    "G = load_graph(\"montgomery\")"
   ]
  },
  {
   "cell_type": "code",
   "execution_count": 113,
   "metadata": {},
   "outputs": [],
   "source": [
    "SIR_Tuple = namedtuple(\"SIR_Tuple\", [\"S\", \"I\", \"R\"])\n",
    "SIRQ_Tuple = namedtuple(\"SIR_Tuple\", [\"S\", \"I\", \"R\", \"Q\"])"
   ]
  },
  {
   "cell_type": "code",
   "execution_count": 117,
   "metadata": {},
   "outputs": [],
   "source": [
    "SIR = ([1],[2],[3])"
   ]
  },
  {
   "cell_type": "code",
   "execution_count": 118,
   "metadata": {},
   "outputs": [],
   "source": [
    "SIRQ = SIRQ_Tuple(*SIR,[])"
   ]
  },
  {
   "cell_type": "code",
   "execution_count": 122,
   "metadata": {},
   "outputs": [
    {
     "data": {
      "text/plain": [
       "[]"
      ]
     },
     "execution_count": 122,
     "metadata": {},
     "output_type": "execute_result"
    }
   ],
   "source": [
    "SIRQ.Q"
   ]
  },
  {
   "cell_type": "code",
   "execution_count": 4,
   "metadata": {},
   "outputs": [],
   "source": [
    "I = set()\n",
    "with open(PROJECT_ROOT / \"data\" / \"SIR_Cache\" / \"t7.json\", 'r') as infile:\n",
    "    j = json.load(infile)\n",
    "    (S, infected_queue, R) = (j[\"S\"], j[\"I_Queue\"], j[\"R\"])\n",
    "\n",
    "    # Make infected_queue a list of sets\n",
    "    infected_queue = [set(s) for s in infected_queue]\n",
    "    I = I.union(*infected_queue)\n",
    "    I = list(I)"
   ]
  },
  {
   "cell_type": "code",
   "execution_count": 188,
   "metadata": {},
   "outputs": [
    {
     "name": "stdout",
     "output_type": "stream",
     "text": [
      "0.4757544031700174\n"
     ]
    }
   ],
   "source": [
    "#this is how the code is used\n",
    "for i in range(1):\n",
    "    state = SimulationState(G, (S,I,R), (S,I,R), 1000, .078,.1,1,1,1)\n",
    "    agent = DepRound\n",
    "\n",
    "    while len(state.SIR_known.SIR[1]) != 0:\n",
    "        #print(len(state.SIR_known.SIR[1]))\n",
    "        to_quarantine = agent(state)\n",
    "        state.step(to_quarantine)\n",
    "\n",
    "        #print(state.SIR_known.V1 == state.SIR_real.V1)\n",
    "        #print(\"S :\" + str(len(state.SIR_known.SIR.S)) + \" \" + str(len(state.SIR_real.SIR.S)))\n",
    "        #print(\"I :\" + str(len(state.SIR_known.SIR.I)) + \" \" + str(len(state.SIR_real.SIR.I)))\n",
    "        #print(\"R :\" + str(len(state.SIR_known.SIR.R)) + \" \" + str(len(state.SIR_real.SIR.R)))\n",
    "\n",
    "        #print()\n",
    "\n",
    "        #print(len(set(state.SIR_known.SIR.R).difference(set(state.SIR_real.SIR.R))))\n",
    "        #print(len(set(state.SIR_real.SIR.R).difference(set(state.SIR_known.SIR.R))))\n",
    "\n",
    "    #print(len(state.SIR_known.SIR[1]))\n",
    "    #print()\n",
    "    print(len(state.SIR_known.SIR[2])/75457)\n",
    "    #print(len(state.SIR_known.SIR[0]),len(state.SIR_real.SIR[0]))"
   ]
  },
  {
   "cell_type": "code",
   "execution_count": 189,
   "metadata": {},
   "outputs": [
    {
     "name": "stdout",
     "output_type": "stream",
     "text": [
      "0.4757676557509575\n"
     ]
    }
   ],
   "source": [
    "print(len(state.SIR_real.SIR[2])/75457)\n"
   ]
  },
  {
   "cell_type": "code",
   "execution_count": 165,
   "metadata": {},
   "outputs": [
    {
     "name": "stdout",
     "output_type": "stream",
     "text": [
      "33434\n",
      "33434\n"
     ]
    }
   ],
   "source": [
    "print(len(state.SIR_known.SIR[2]))\n",
    "print(len(state.SIR_real.SIR[2]))"
   ]
  },
  {
   "cell_type": "code",
   "execution_count": null,
   "metadata": {},
   "outputs": [],
   "source": []
  },
  {
   "cell_type": "code",
   "execution_count": 27,
   "metadata": {},
   "outputs": [
    {
     "data": {
      "text/plain": [
       "([], [], [])"
      ]
     },
     "execution_count": 27,
     "metadata": {},
     "output_type": "execute_result"
    }
   ],
   "source": [
    "state.SIR_known.quarantined"
   ]
  },
  {
   "cell_type": "code",
   "execution_count": 28,
   "metadata": {},
   "outputs": [
    {
     "data": {
      "text/plain": [
       "75457"
      ]
     },
     "execution_count": 28,
     "metadata": {},
     "output_type": "execute_result"
    }
   ],
   "source": [
    "len(state.SIR_real.SIR[0] + state.SIR_real.SIR[1] + state.SIR_real.SIR[2])"
   ]
  },
  {
   "cell_type": "code",
   "execution_count": 179,
   "metadata": {},
   "outputs": [],
   "source": [
    "agents = [NoIntervention, Random, Degree, DepRound, DegGreedy]"
   ]
  },
  {
   "cell_type": "code",
   "execution_count": 180,
   "metadata": {},
   "outputs": [
    {
     "name": "stdout",
     "output_type": "stream",
     "text": [
      "NoIntervention 36169\n",
      "Random 30674\n",
      "Degree 24299\n",
      "DegGreedy 21525\n",
      "DepRound 23785\n"
     ]
    }
   ],
   "source": [
    "for agent in agents:\n",
    "    state = SimulationState(G, (S,I,R), (S,I,R), 2000, .078,1,1, 1,1)\n",
    "\n",
    "    while len(state.SIR_known.SIR[1]) != 0:\n",
    "        to_quarantine = agent(state)\n",
    "        state.step(to_quarantine)\n",
    "\n",
    "    print(agent.__name__ + \" \" + str(len(state.SIR_known.SIR[2])))\n"
   ]
  }
 ],
 "metadata": {
  "kernelspec": {
   "display_name": "Python 3",
   "language": "python",
   "name": "python3"
  },
  "language_info": {
   "codemirror_mode": {
    "name": "ipython",
    "version": 3
   },
   "file_extension": ".py",
   "mimetype": "text/x-python",
   "name": "python",
   "nbconvert_exporter": "python",
   "pygments_lexer": "ipython3",
   "version": "3.7.3"
  }
 },
 "nbformat": 4,
 "nbformat_minor": 2
}
