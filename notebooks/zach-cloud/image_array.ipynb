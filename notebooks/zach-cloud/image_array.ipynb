{
 "cells": [
  {
   "cell_type": "code",
   "execution_count": 112,
   "id": "matched-cleveland",
   "metadata": {},
   "outputs": [],
   "source": [
    "from collections import namedtuple\n",
    "import random\n",
    "def grid_sir(G, ax, SIR=None):\n",
    "    \n",
    "    if SIR is None:\n",
    "        SIR = namedtuple(\"SIR\", [\"S\", \"I\", \"R\"])\n",
    "        nodes = set(G.nodes)\n",
    "        SIR.I = set(random.sample(nodes, 10))\n",
    "        SIR.R = set(random.sample(nodes - SIR.I, 10))\n",
    "        SIR.S = nodes - SIR.I - SIR.R\n",
    "    # Susceptible\n",
    "    pos = {(x, y): (y, -x) for (x,y) in G.nodes}\n",
    "    \n",
    "    # Draw edges that are from I, V1, and V2\n",
    "#     susceptible_nodes = nx.draw_networkx_nodes(G, pos=pos, nodelist=list(SIR.S), node_color=\"black\", node_size=5, ax=ax) # Node\n",
    "#     susceptible_nodes.set_edgecolor(\"black\") # Node Border\n",
    "\n",
    "    # Infected\n",
    "    infected_nodes = nx.draw_networkx_nodes(G, pos=pos, nodelist=list(SIR.I), node_size=30, node_color=\"red\", ax=ax) # Node\n",
    "    infected_nodes.set_edgecolor(\"black\") # Node Border\n",
    "\n",
    "    # Recovered\n",
    "    nx.draw_networkx_edges(G, pos=pos, ax=ax, edge_color=\"black\")\n",
    "    recovered_nodes = nx.draw_networkx_nodes(G, pos=pos, nodelist=list(SIR.R), node_size=30, node_color=\"silver\",  ax=ax)\n",
    "    recovered_nodes.set_edgecolor(\"black\")\n",
    "    \n",
    "    # TODO: Draw v1-v2 edges\n",
    "    edgelist = []\n",
    "    nx.draw_networkx_edges(G, pos=pos, edgelist=edgelist, width=[], ax=ax)"
   ]
  },
  {
   "cell_type": "code",
   "execution_count": 113,
   "id": "approximate-savage",
   "metadata": {},
   "outputs": [],
   "source": [
    "\n",
    "from matplotlib.backends.backend_agg import FigureCanvasAgg\n",
    "from matplotlib.figure import Figure\n",
    "import numpy as np\n",
    "import networkx as nx\n",
    "\n",
    "# 50ms to generate images? wow!\n",
    "def drawing():\n",
    "    fig = Figure(figsize=(10, 10), dpi=300)\n",
    "    # A canvas must be manually attached to the figure (pyplot would automatically\n",
    "    # do it).  This is done by instantiating the canvas with the figure as\n",
    "    # argument.\n",
    "    canvas = FigureCanvasAgg(fig)\n",
    "\n",
    "    # Do some plotting.\n",
    "    ax = fig.add_subplot(111)\n",
    "\n",
    "    G = nx.grid_2d_graph(100, 100)\n",
    "\n",
    "    grid_sir(G, ax)\n",
    "\n",
    "    # # Option 1: Save the figure to a file; can also be a file-like object (BytesIO,\n",
    "    # # etc.).\n",
    "    # fig.savefig(\"test.png\")\n",
    "\n",
    "    # Option 2: Retrieve a view on the renderer buffer...\n",
    "    canvas.draw()\n",
    "    buf = canvas.buffer_rgba()\n",
    "    # ... convert to a NumPy array ...\n",
    "    X = np.asarray(buf)\n",
    "    # ... and pass it to PIL.\n",
    "    from PIL import Image\n",
    "    im = Image.fromarray(X)\n",
    "    return im\n"
   ]
  },
  {
   "cell_type": "code",
   "execution_count": 114,
   "id": "innovative-fifth",
   "metadata": {},
   "outputs": [],
   "source": [
    "# %timeit drawing()"
   ]
  },
  {
   "cell_type": "code",
   "execution_count": 115,
   "id": "cellular-input",
   "metadata": {},
   "outputs": [],
   "source": [
    "im = drawing()"
   ]
  },
  {
   "cell_type": "code",
   "execution_count": 116,
   "id": "molecular-embassy",
   "metadata": {},
   "outputs": [],
   "source": [
    "im.show()"
   ]
  },
  {
   "cell_type": "code",
   "execution_count": null,
   "id": "brown-sponsorship",
   "metadata": {},
   "outputs": [],
   "source": []
  }
 ],
 "metadata": {
  "kernelspec": {
   "display_name": "Python 3",
   "language": "python",
   "name": "python3"
  },
  "language_info": {
   "codemirror_mode": {
    "name": "ipython",
    "version": 3
   },
   "file_extension": ".py",
   "mimetype": "text/x-python",
   "name": "python",
   "nbconvert_exporter": "python",
   "pygments_lexer": "ipython3",
   "version": "3.7.7"
  }
 },
 "nbformat": 4,
 "nbformat_minor": 5
}
