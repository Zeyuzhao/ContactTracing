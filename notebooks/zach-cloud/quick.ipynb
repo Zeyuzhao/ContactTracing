{
 "metadata": {
  "language_info": {
   "codemirror_mode": {
    "name": "ipython",
    "version": 3
   },
   "file_extension": ".py",
   "mimetype": "text/x-python",
   "name": "python",
   "nbconvert_exporter": "python",
   "pygments_lexer": "ipython3",
   "version": "3.8.5-final"
  },
  "orig_nbformat": 2,
  "kernelspec": {
   "name": "python3",
   "display_name": "Python 3.8.5 64-bit",
   "metadata": {
    "interpreter": {
     "hash": "d52603c676cba8edfddba1a9ff8eabc8cbcf4c6349bce017a1fb75d7720ca006"
    }
   }
  }
 },
 "nbformat": 4,
 "nbformat_minor": 2,
 "cells": [
  {
   "cell_type": "code",
   "execution_count": 6,
   "metadata": {},
   "outputs": [],
   "source": [
    "from ctrace.simulation import *\n",
    "from ctrace.dataset import load_graph, load_sir"
   ]
  },
  {
   "cell_type": "code",
   "execution_count": null,
   "metadata": {},
   "outputs": [],
   "source": []
  },
  {
   "cell_type": "code",
   "execution_count": 15,
   "metadata": {},
   "outputs": [],
   "source": [
    "g = load_graph(\"montgomery\")\n",
    "sir_dict = load_sir(\"t8.json\", merge=True)\n",
    "sir = SIR_Tuple(sir_dict[\"S\"], sir_dict[\"I\"], sir_dict[\"R\"])\n",
    "budget = 500\n",
    "p = 0.078\n",
    "transmission_rate = 1"
   ]
  },
  {
   "cell_type": "code",
   "execution_count": 17,
   "metadata": {},
   "outputs": [],
   "source": [
    "info = InfectionInfo(g, sir, budget, transmission_rate=1)"
   ]
  },
  {
   "cell_type": "code",
   "execution_count": null,
   "metadata": {},
   "outputs": [],
   "source": [
    "SimulationState()"
   ]
  }
 ]
}