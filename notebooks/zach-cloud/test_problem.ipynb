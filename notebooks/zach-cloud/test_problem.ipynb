{
 "cells": [
  {
   "cell_type": "code",
   "execution_count": 1,
   "metadata": {
    "collapsed": true
   },
   "outputs": [],
   "source": [
    "import numpy as np\n",
    "import random\n",
    "import math\n",
    "import EoN\n",
    "import seaborn as sns\n",
    "import time\n",
    "\n",
    "# New Imports\n",
    "#from ctrace.contact_tracing import *\n",
    "#from ctrace.constraint import *\n",
    "#from ctrace.solve import *\n",
    "#from ctrace.simulation import *\n",
    "#from ctrace.restricted import *\n",
    "from ctrace.simulation import *\n",
    "from ctrace.dataset import *\n",
    "from ctrace.recommender import *\n",
    "from ctrace.problem import *"
   ]
  },
  {
   "cell_type": "code",
   "execution_count": 2,
   "outputs": [],
   "source": [
    "G = load_graph(\"montgomery\")"
   ],
   "metadata": {
    "collapsed": false,
    "pycharm": {
     "name": "#%%\n"
    }
   }
  },
  {
   "cell_type": "code",
   "execution_count": 3,
   "outputs": [],
   "source": [
    "SIR_Tuple = namedtuple(\"SIR_Tuple\", [\"S\", \"I\", \"R\"])\n",
    "SIRQ_Tuple = namedtuple(\"SIR_Tuple\", [\"S\", \"I\", \"R\", \"Q\"])"
   ],
   "metadata": {
    "collapsed": false,
    "pycharm": {
     "name": "#%%\n"
    }
   }
  },
  {
   "cell_type": "code",
   "execution_count": 4,
   "outputs": [],
   "source": [
    "I = set()\n",
    "with open(PROJECT_ROOT / \"data\" / \"SIR_Cache\" / \"t7.json\", 'r') as infile:\n",
    "    j = json.load(infile)\n",
    "    (S, infected_queue, R) = (j[\"S\"], j[\"I_Queue\"], j[\"R\"])\n",
    "\n",
    "    # Make infected_queue a list of sets\n",
    "    infected_queue = [set(s) for s in infected_queue]\n",
    "    I = I.union(*infected_queue)\n",
    "    I = list(I)"
   ],
   "metadata": {
    "collapsed": false,
    "pycharm": {
     "name": "#%%\n"
    }
   }
  },
  {
   "cell_type": "code",
   "execution_count": null,
   "outputs": [],
   "source": [
    "#this is how the code is used\n",
    "for i in range(1):\n",
    "    state = SimulationState(G, (S,I,R), (S,I,R), 1000, .078,.1,1,1,1)\n",
    "    agent = DepRound\n",
    "\n",
    "    while len(state.SIR_known.SIR[1]) != 0:\n",
    "        to_quarantine = agent(state)\n",
    "        state.step(to_quarantine)\n",
    "\n",
    "    print(len(state.SIR_known.SIR[2])/75457)"
   ],
   "metadata": {
    "collapsed": false,
    "pycharm": {
     "name": "#%%\n",
     "is_executing": true
    }
   }
  },
  {
   "cell_type": "code",
   "execution_count": null,
   "outputs": [],
   "source": [
    "\n"
   ],
   "metadata": {
    "collapsed": false,
    "pycharm": {
     "name": "#%%\n"
    }
   }
  }
 ],
 "metadata": {
  "kernelspec": {
   "display_name": "Python 3",
   "language": "python",
   "name": "python3"
  },
  "language_info": {
   "codemirror_mode": {
    "name": "ipython",
    "version": 2
   },
   "file_extension": ".py",
   "mimetype": "text/x-python",
   "name": "python",
   "nbconvert_exporter": "python",
   "pygments_lexer": "ipython2",
   "version": "2.7.6"
  }
 },
 "nbformat": 4,
 "nbformat_minor": 0
}