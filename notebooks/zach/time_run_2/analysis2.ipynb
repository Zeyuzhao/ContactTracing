{
 "cells": [
  {
   "cell_type": "code",
   "execution_count": 13,
   "metadata": {
    "collapsed": true
   },
   "outputs": [],
   "source": [
    "from ctrace import *\n",
    "import pandas as pd\n",
    "import numpy as np"
   ]
  },
  {
   "cell_type": "code",
   "execution_count": 14,
   "outputs": [
    {
     "name": "stdout",
     "output_type": "stream",
     "text": [
      "11200\n"
     ]
    },
    {
     "data": {
      "text/plain": "            G      p  budget  \\\n0  montgomery  0.078     600   \n1  montgomery  0.078     600   \n2  montgomery  0.078     600   \n3  montgomery  0.078     600   \n4  montgomery  0.078     600   \n\n                                          from_cache           method  \\\n0  /home/ubuntu/ContactTracing/data/SIR_Cache/tim...           random   \n1  /home/ubuntu/ContactTracing/data/SIR_Cache/tim...        dependent   \n2  /home/ubuntu/ContactTracing/data/SIR_Cache/tim...       mip_gurobi   \n3  /home/ubuntu/ContactTracing/data/SIR_Cache/tim...  greedy_weighted   \n4  /home/ubuntu/ContactTracing/data/SIR_Cache/tim...           random   \n\n   trial_id  I_size  v1_size  v2_size  num_cross_edges  maxD   mip_value  \\\n0         0    1217     6233    11135            16931    28   88.819097   \n1         0    1217     6233    11135            16931    28   61.833362   \n2         0    1217     6233    11135            16931    28   60.874122   \n3         0    1217     6233    11135            16931    28   63.834657   \n4         0    2359    25664    32967           145552    59  523.116239   \n\n   min_exposed_value  duration  v1_objective  greedy_overlap  \n0              114.2  0.601694    661.962407              53  \n1               85.2  0.921509    661.962407             405  \n2               77.4  1.060092    661.962407             426  \n3               81.0  0.322041    661.962407              -1  \n4             1423.6  3.947826   3733.643370              15  ",
      "text/html": "<div>\n<style scoped>\n    .dataframe tbody tr th:only-of-type {\n        vertical-align: middle;\n    }\n\n    .dataframe tbody tr th {\n        vertical-align: top;\n    }\n\n    .dataframe thead th {\n        text-align: right;\n    }\n</style>\n<table border=\"1\" class=\"dataframe\">\n  <thead>\n    <tr style=\"text-align: right;\">\n      <th></th>\n      <th>G</th>\n      <th>p</th>\n      <th>budget</th>\n      <th>from_cache</th>\n      <th>method</th>\n      <th>trial_id</th>\n      <th>I_size</th>\n      <th>v1_size</th>\n      <th>v2_size</th>\n      <th>num_cross_edges</th>\n      <th>maxD</th>\n      <th>mip_value</th>\n      <th>min_exposed_value</th>\n      <th>duration</th>\n      <th>v1_objective</th>\n      <th>greedy_overlap</th>\n    </tr>\n  </thead>\n  <tbody>\n    <tr>\n      <th>0</th>\n      <td>montgomery</td>\n      <td>0.078</td>\n      <td>600</td>\n      <td>/home/ubuntu/ContactTracing/data/SIR_Cache/tim...</td>\n      <td>random</td>\n      <td>0</td>\n      <td>1217</td>\n      <td>6233</td>\n      <td>11135</td>\n      <td>16931</td>\n      <td>28</td>\n      <td>88.819097</td>\n      <td>114.2</td>\n      <td>0.601694</td>\n      <td>661.962407</td>\n      <td>53</td>\n    </tr>\n    <tr>\n      <th>1</th>\n      <td>montgomery</td>\n      <td>0.078</td>\n      <td>600</td>\n      <td>/home/ubuntu/ContactTracing/data/SIR_Cache/tim...</td>\n      <td>dependent</td>\n      <td>0</td>\n      <td>1217</td>\n      <td>6233</td>\n      <td>11135</td>\n      <td>16931</td>\n      <td>28</td>\n      <td>61.833362</td>\n      <td>85.2</td>\n      <td>0.921509</td>\n      <td>661.962407</td>\n      <td>405</td>\n    </tr>\n    <tr>\n      <th>2</th>\n      <td>montgomery</td>\n      <td>0.078</td>\n      <td>600</td>\n      <td>/home/ubuntu/ContactTracing/data/SIR_Cache/tim...</td>\n      <td>mip_gurobi</td>\n      <td>0</td>\n      <td>1217</td>\n      <td>6233</td>\n      <td>11135</td>\n      <td>16931</td>\n      <td>28</td>\n      <td>60.874122</td>\n      <td>77.4</td>\n      <td>1.060092</td>\n      <td>661.962407</td>\n      <td>426</td>\n    </tr>\n    <tr>\n      <th>3</th>\n      <td>montgomery</td>\n      <td>0.078</td>\n      <td>600</td>\n      <td>/home/ubuntu/ContactTracing/data/SIR_Cache/tim...</td>\n      <td>greedy_weighted</td>\n      <td>0</td>\n      <td>1217</td>\n      <td>6233</td>\n      <td>11135</td>\n      <td>16931</td>\n      <td>28</td>\n      <td>63.834657</td>\n      <td>81.0</td>\n      <td>0.322041</td>\n      <td>661.962407</td>\n      <td>-1</td>\n    </tr>\n    <tr>\n      <th>4</th>\n      <td>montgomery</td>\n      <td>0.078</td>\n      <td>600</td>\n      <td>/home/ubuntu/ContactTracing/data/SIR_Cache/tim...</td>\n      <td>random</td>\n      <td>0</td>\n      <td>2359</td>\n      <td>25664</td>\n      <td>32967</td>\n      <td>145552</td>\n      <td>59</td>\n      <td>523.116239</td>\n      <td>1423.6</td>\n      <td>3.947826</td>\n      <td>3733.643370</td>\n      <td>15</td>\n    </tr>\n  </tbody>\n</table>\n</div>"
     },
     "execution_count": 14,
     "metadata": {},
     "output_type": "execute_result"
    }
   ],
   "source": [
    "# Load in results file\n",
    "with open(PROJECT_ROOT /\"output\"/\"run_6Mm2w/\" / \"results.csv\", \"r\") as csv:\n",
    "    df = pd.read_csv(csv)\n",
    "print(len(df))\n",
    "df.head()"
   ],
   "metadata": {
    "collapsed": false,
    "pycharm": {
     "name": "#%%\n"
    }
   }
  },
  {
   "cell_type": "code",
   "execution_count": 15,
   "outputs": [
    {
     "name": "stdout",
     "output_type": "stream",
     "text": [
      "2800\n"
     ]
    },
    {
     "data": {
      "text/plain": "             G      p  budget  \\\n2   montgomery  0.078     600   \n11  montgomery  0.078     600   \n25  montgomery  0.078     600   \n28  montgomery  0.078     600   \n33  montgomery  0.078     600   \n\n                                           from_cache      method  trial_id  \\\n2   /home/ubuntu/ContactTracing/data/SIR_Cache/tim...  mip_gurobi         0   \n11  /home/ubuntu/ContactTracing/data/SIR_Cache/tim...  mip_gurobi         0   \n25  /home/ubuntu/ContactTracing/data/SIR_Cache/tim...  mip_gurobi         0   \n28  /home/ubuntu/ContactTracing/data/SIR_Cache/tim...  mip_gurobi         0   \n33  /home/ubuntu/ContactTracing/data/SIR_Cache/tim...  mip_gurobi         0   \n\n    I_size  v1_size  v2_size  num_cross_edges  maxD   mip_value  \\\n2     1217     6233    11135            16931    28   60.874122   \n11    1584     7527    12026            19278    27   74.677546   \n25    5772    26012    16285            42903    31  242.382803   \n28    4854    31285    22040            82500    32  361.245810   \n33    5736    26662    16890            47422    27  261.335158   \n\n    min_exposed_value   duration  v1_objective  greedy_overlap  \n2                77.4   1.060092    661.962407             426  \n11              101.4   1.439489    846.461136             412  \n25              465.8   7.878851   4839.647687             325  \n28              875.4  14.611467   5702.689558             287  \n33              515.2  12.540073   5014.496636             289  ",
      "text/html": "<div>\n<style scoped>\n    .dataframe tbody tr th:only-of-type {\n        vertical-align: middle;\n    }\n\n    .dataframe tbody tr th {\n        vertical-align: top;\n    }\n\n    .dataframe thead th {\n        text-align: right;\n    }\n</style>\n<table border=\"1\" class=\"dataframe\">\n  <thead>\n    <tr style=\"text-align: right;\">\n      <th></th>\n      <th>G</th>\n      <th>p</th>\n      <th>budget</th>\n      <th>from_cache</th>\n      <th>method</th>\n      <th>trial_id</th>\n      <th>I_size</th>\n      <th>v1_size</th>\n      <th>v2_size</th>\n      <th>num_cross_edges</th>\n      <th>maxD</th>\n      <th>mip_value</th>\n      <th>min_exposed_value</th>\n      <th>duration</th>\n      <th>v1_objective</th>\n      <th>greedy_overlap</th>\n    </tr>\n  </thead>\n  <tbody>\n    <tr>\n      <th>2</th>\n      <td>montgomery</td>\n      <td>0.078</td>\n      <td>600</td>\n      <td>/home/ubuntu/ContactTracing/data/SIR_Cache/tim...</td>\n      <td>mip_gurobi</td>\n      <td>0</td>\n      <td>1217</td>\n      <td>6233</td>\n      <td>11135</td>\n      <td>16931</td>\n      <td>28</td>\n      <td>60.874122</td>\n      <td>77.4</td>\n      <td>1.060092</td>\n      <td>661.962407</td>\n      <td>426</td>\n    </tr>\n    <tr>\n      <th>11</th>\n      <td>montgomery</td>\n      <td>0.078</td>\n      <td>600</td>\n      <td>/home/ubuntu/ContactTracing/data/SIR_Cache/tim...</td>\n      <td>mip_gurobi</td>\n      <td>0</td>\n      <td>1584</td>\n      <td>7527</td>\n      <td>12026</td>\n      <td>19278</td>\n      <td>27</td>\n      <td>74.677546</td>\n      <td>101.4</td>\n      <td>1.439489</td>\n      <td>846.461136</td>\n      <td>412</td>\n    </tr>\n    <tr>\n      <th>25</th>\n      <td>montgomery</td>\n      <td>0.078</td>\n      <td>600</td>\n      <td>/home/ubuntu/ContactTracing/data/SIR_Cache/tim...</td>\n      <td>mip_gurobi</td>\n      <td>0</td>\n      <td>5772</td>\n      <td>26012</td>\n      <td>16285</td>\n      <td>42903</td>\n      <td>31</td>\n      <td>242.382803</td>\n      <td>465.8</td>\n      <td>7.878851</td>\n      <td>4839.647687</td>\n      <td>325</td>\n    </tr>\n    <tr>\n      <th>28</th>\n      <td>montgomery</td>\n      <td>0.078</td>\n      <td>600</td>\n      <td>/home/ubuntu/ContactTracing/data/SIR_Cache/tim...</td>\n      <td>mip_gurobi</td>\n      <td>0</td>\n      <td>4854</td>\n      <td>31285</td>\n      <td>22040</td>\n      <td>82500</td>\n      <td>32</td>\n      <td>361.245810</td>\n      <td>875.4</td>\n      <td>14.611467</td>\n      <td>5702.689558</td>\n      <td>287</td>\n    </tr>\n    <tr>\n      <th>33</th>\n      <td>montgomery</td>\n      <td>0.078</td>\n      <td>600</td>\n      <td>/home/ubuntu/ContactTracing/data/SIR_Cache/tim...</td>\n      <td>mip_gurobi</td>\n      <td>0</td>\n      <td>5736</td>\n      <td>26662</td>\n      <td>16890</td>\n      <td>47422</td>\n      <td>27</td>\n      <td>261.335158</td>\n      <td>515.2</td>\n      <td>12.540073</td>\n      <td>5014.496636</td>\n      <td>289</td>\n    </tr>\n  </tbody>\n</table>\n</div>"
     },
     "execution_count": 15,
     "metadata": {},
     "output_type": "execute_result"
    }
   ],
   "source": [
    "# Extract the Gurobi MILP optimal runs\n",
    "optimal = df[df[\"method\"] == \"mip_gurobi\"]\n",
    "print(len(optimal))\n",
    "optimal.head()"
   ],
   "metadata": {
    "collapsed": false,
    "pycharm": {
     "name": "#%%\n"
    }
   }
  },
  {
   "cell_type": "code",
   "execution_count": 16,
   "outputs": [
    {
     "name": "stdout",
     "output_type": "stream",
     "text": [
      "2800\n"
     ]
    },
    {
     "data": {
      "text/plain": "             G      p  budget  \\\n2   montgomery  0.078     600   \n11  montgomery  0.078     600   \n25  montgomery  0.078     600   \n28  montgomery  0.078     600   \n33  montgomery  0.078     600   \n\n                                           from_cache  optimal_mip_value  \n2   /home/ubuntu/ContactTracing/data/SIR_Cache/tim...          60.874122  \n11  /home/ubuntu/ContactTracing/data/SIR_Cache/tim...          74.677546  \n25  /home/ubuntu/ContactTracing/data/SIR_Cache/tim...         242.382803  \n28  /home/ubuntu/ContactTracing/data/SIR_Cache/tim...         361.245810  \n33  /home/ubuntu/ContactTracing/data/SIR_Cache/tim...         261.335158  ",
      "text/html": "<div>\n<style scoped>\n    .dataframe tbody tr th:only-of-type {\n        vertical-align: middle;\n    }\n\n    .dataframe tbody tr th {\n        vertical-align: top;\n    }\n\n    .dataframe thead th {\n        text-align: right;\n    }\n</style>\n<table border=\"1\" class=\"dataframe\">\n  <thead>\n    <tr style=\"text-align: right;\">\n      <th></th>\n      <th>G</th>\n      <th>p</th>\n      <th>budget</th>\n      <th>from_cache</th>\n      <th>optimal_mip_value</th>\n    </tr>\n  </thead>\n  <tbody>\n    <tr>\n      <th>2</th>\n      <td>montgomery</td>\n      <td>0.078</td>\n      <td>600</td>\n      <td>/home/ubuntu/ContactTracing/data/SIR_Cache/tim...</td>\n      <td>60.874122</td>\n    </tr>\n    <tr>\n      <th>11</th>\n      <td>montgomery</td>\n      <td>0.078</td>\n      <td>600</td>\n      <td>/home/ubuntu/ContactTracing/data/SIR_Cache/tim...</td>\n      <td>74.677546</td>\n    </tr>\n    <tr>\n      <th>25</th>\n      <td>montgomery</td>\n      <td>0.078</td>\n      <td>600</td>\n      <td>/home/ubuntu/ContactTracing/data/SIR_Cache/tim...</td>\n      <td>242.382803</td>\n    </tr>\n    <tr>\n      <th>28</th>\n      <td>montgomery</td>\n      <td>0.078</td>\n      <td>600</td>\n      <td>/home/ubuntu/ContactTracing/data/SIR_Cache/tim...</td>\n      <td>361.245810</td>\n    </tr>\n    <tr>\n      <th>33</th>\n      <td>montgomery</td>\n      <td>0.078</td>\n      <td>600</td>\n      <td>/home/ubuntu/ContactTracing/data/SIR_Cache/tim...</td>\n      <td>261.335158</td>\n    </tr>\n  </tbody>\n</table>\n</div>"
     },
     "execution_count": 16,
     "metadata": {},
     "output_type": "execute_result"
    }
   ],
   "source": [
    "# Remove duplicates from different trials\n",
    "optimal = optimal[optimal[\"trial_id\"] == 0]\n",
    "\n",
    "# Only these 4 (\"G\", \"p\", \"budget\", \"from_cache\") are needed to uniquely identify simulation parameters\n",
    "optimal = optimal[[\"G\", \"p\", \"budget\", \"from_cache\", \"mip_value\"]]\n",
    "optimal = optimal.rename(columns={\"mip_value\": \"optimal_mip_value\"})\n",
    "\n",
    "print(len(optimal))\n",
    "optimal.head()"
   ],
   "metadata": {
    "collapsed": false,
    "pycharm": {
     "name": "#%%\n"
    }
   }
  },
  {
   "cell_type": "code",
   "execution_count": 17,
   "outputs": [],
   "source": [
    "# Merge on the aforementioned key columns\n",
    "df = df.merge(optimal, on=[\"G\", \"p\", \"budget\", \"from_cache\"])"
   ],
   "metadata": {
    "collapsed": false,
    "pycharm": {
     "name": "#%%\n"
    }
   }
  },
  {
   "cell_type": "code",
   "execution_count": 18,
   "outputs": [
    {
     "data": {
      "text/plain": "            G      p  budget  \\\n0  montgomery  0.078     600   \n1  montgomery  0.078     600   \n2  montgomery  0.078     600   \n3  montgomery  0.078     600   \n4  montgomery  0.078     600   \n\n                                          from_cache           method  \\\n0  /home/ubuntu/ContactTracing/data/SIR_Cache/tim...           random   \n1  /home/ubuntu/ContactTracing/data/SIR_Cache/tim...        dependent   \n2  /home/ubuntu/ContactTracing/data/SIR_Cache/tim...       mip_gurobi   \n3  /home/ubuntu/ContactTracing/data/SIR_Cache/tim...  greedy_weighted   \n4  /home/ubuntu/ContactTracing/data/SIR_Cache/tim...           random   \n\n   trial_id  I_size  v1_size  v2_size  num_cross_edges  maxD   mip_value  \\\n0         0    1217     6233    11135            16931    28   88.819097   \n1         0    1217     6233    11135            16931    28   61.833362   \n2         0    1217     6233    11135            16931    28   60.874122   \n3         0    1217     6233    11135            16931    28   63.834657   \n4         0    2359    25664    32967           145552    59  523.116239   \n\n   min_exposed_value  duration  v1_objective  greedy_overlap  \\\n0              114.2  0.601694    661.962407              53   \n1               85.2  0.921509    661.962407             405   \n2               77.4  1.060092    661.962407             426   \n3               81.0  0.322041    661.962407              -1   \n4             1423.6  3.947826   3733.643370              15   \n\n   optimal_mip_value  \n0          60.874122  \n1          60.874122  \n2          60.874122  \n3          60.874122  \n4         432.438811  ",
      "text/html": "<div>\n<style scoped>\n    .dataframe tbody tr th:only-of-type {\n        vertical-align: middle;\n    }\n\n    .dataframe tbody tr th {\n        vertical-align: top;\n    }\n\n    .dataframe thead th {\n        text-align: right;\n    }\n</style>\n<table border=\"1\" class=\"dataframe\">\n  <thead>\n    <tr style=\"text-align: right;\">\n      <th></th>\n      <th>G</th>\n      <th>p</th>\n      <th>budget</th>\n      <th>from_cache</th>\n      <th>method</th>\n      <th>trial_id</th>\n      <th>I_size</th>\n      <th>v1_size</th>\n      <th>v2_size</th>\n      <th>num_cross_edges</th>\n      <th>maxD</th>\n      <th>mip_value</th>\n      <th>min_exposed_value</th>\n      <th>duration</th>\n      <th>v1_objective</th>\n      <th>greedy_overlap</th>\n      <th>optimal_mip_value</th>\n    </tr>\n  </thead>\n  <tbody>\n    <tr>\n      <th>0</th>\n      <td>montgomery</td>\n      <td>0.078</td>\n      <td>600</td>\n      <td>/home/ubuntu/ContactTracing/data/SIR_Cache/tim...</td>\n      <td>random</td>\n      <td>0</td>\n      <td>1217</td>\n      <td>6233</td>\n      <td>11135</td>\n      <td>16931</td>\n      <td>28</td>\n      <td>88.819097</td>\n      <td>114.2</td>\n      <td>0.601694</td>\n      <td>661.962407</td>\n      <td>53</td>\n      <td>60.874122</td>\n    </tr>\n    <tr>\n      <th>1</th>\n      <td>montgomery</td>\n      <td>0.078</td>\n      <td>600</td>\n      <td>/home/ubuntu/ContactTracing/data/SIR_Cache/tim...</td>\n      <td>dependent</td>\n      <td>0</td>\n      <td>1217</td>\n      <td>6233</td>\n      <td>11135</td>\n      <td>16931</td>\n      <td>28</td>\n      <td>61.833362</td>\n      <td>85.2</td>\n      <td>0.921509</td>\n      <td>661.962407</td>\n      <td>405</td>\n      <td>60.874122</td>\n    </tr>\n    <tr>\n      <th>2</th>\n      <td>montgomery</td>\n      <td>0.078</td>\n      <td>600</td>\n      <td>/home/ubuntu/ContactTracing/data/SIR_Cache/tim...</td>\n      <td>mip_gurobi</td>\n      <td>0</td>\n      <td>1217</td>\n      <td>6233</td>\n      <td>11135</td>\n      <td>16931</td>\n      <td>28</td>\n      <td>60.874122</td>\n      <td>77.4</td>\n      <td>1.060092</td>\n      <td>661.962407</td>\n      <td>426</td>\n      <td>60.874122</td>\n    </tr>\n    <tr>\n      <th>3</th>\n      <td>montgomery</td>\n      <td>0.078</td>\n      <td>600</td>\n      <td>/home/ubuntu/ContactTracing/data/SIR_Cache/tim...</td>\n      <td>greedy_weighted</td>\n      <td>0</td>\n      <td>1217</td>\n      <td>6233</td>\n      <td>11135</td>\n      <td>16931</td>\n      <td>28</td>\n      <td>63.834657</td>\n      <td>81.0</td>\n      <td>0.322041</td>\n      <td>661.962407</td>\n      <td>-1</td>\n      <td>60.874122</td>\n    </tr>\n    <tr>\n      <th>4</th>\n      <td>montgomery</td>\n      <td>0.078</td>\n      <td>600</td>\n      <td>/home/ubuntu/ContactTracing/data/SIR_Cache/tim...</td>\n      <td>random</td>\n      <td>0</td>\n      <td>2359</td>\n      <td>25664</td>\n      <td>32967</td>\n      <td>145552</td>\n      <td>59</td>\n      <td>523.116239</td>\n      <td>1423.6</td>\n      <td>3.947826</td>\n      <td>3733.643370</td>\n      <td>15</td>\n      <td>432.438811</td>\n    </tr>\n  </tbody>\n</table>\n</div>"
     },
     "execution_count": 18,
     "metadata": {},
     "output_type": "execute_result"
    }
   ],
   "source": [
    "df.head()\n"
   ],
   "metadata": {
    "collapsed": false,
    "pycharm": {
     "name": "#%%\n"
    }
   }
  },
  {
   "cell_type": "code",
   "execution_count": 19,
   "outputs": [
    {
     "data": {
      "text/plain": "            G      p  budget  \\\n0  montgomery  0.078     600   \n1  montgomery  0.078     600   \n2  montgomery  0.078     600   \n3  montgomery  0.078     600   \n4  montgomery  0.078     600   \n\n                                          from_cache           method  \\\n0  /home/ubuntu/ContactTracing/data/SIR_Cache/tim...           random   \n1  /home/ubuntu/ContactTracing/data/SIR_Cache/tim...        dependent   \n2  /home/ubuntu/ContactTracing/data/SIR_Cache/tim...       mip_gurobi   \n3  /home/ubuntu/ContactTracing/data/SIR_Cache/tim...  greedy_weighted   \n4  /home/ubuntu/ContactTracing/data/SIR_Cache/tim...           random   \n\n   trial_id  I_size  v1_size  v2_size  num_cross_edges  maxD   mip_value  \\\n0         0    1217     6233    11135            16931    28   88.819097   \n1         0    1217     6233    11135            16931    28   61.833362   \n2         0    1217     6233    11135            16931    28   60.874122   \n3         0    1217     6233    11135            16931    28   63.834657   \n4         0    2359    25664    32967           145552    59  523.116239   \n\n   min_exposed_value  duration  v1_objective  greedy_overlap  \\\n0              114.2  0.601694    661.962407              53   \n1               85.2  0.921509    661.962407             405   \n2               77.4  1.060092    661.962407             426   \n3               81.0  0.322041    661.962407              -1   \n4             1423.6  3.947826   3733.643370              15   \n\n   optimal_mip_value  mip_ratio_gap  \n0          60.874122       1.459062  \n1          60.874122       1.015758  \n2          60.874122       1.000000  \n3          60.874122       1.048634  \n4         432.438811       1.209688  ",
      "text/html": "<div>\n<style scoped>\n    .dataframe tbody tr th:only-of-type {\n        vertical-align: middle;\n    }\n\n    .dataframe tbody tr th {\n        vertical-align: top;\n    }\n\n    .dataframe thead th {\n        text-align: right;\n    }\n</style>\n<table border=\"1\" class=\"dataframe\">\n  <thead>\n    <tr style=\"text-align: right;\">\n      <th></th>\n      <th>G</th>\n      <th>p</th>\n      <th>budget</th>\n      <th>from_cache</th>\n      <th>method</th>\n      <th>trial_id</th>\n      <th>I_size</th>\n      <th>v1_size</th>\n      <th>v2_size</th>\n      <th>num_cross_edges</th>\n      <th>maxD</th>\n      <th>mip_value</th>\n      <th>min_exposed_value</th>\n      <th>duration</th>\n      <th>v1_objective</th>\n      <th>greedy_overlap</th>\n      <th>optimal_mip_value</th>\n      <th>mip_ratio_gap</th>\n    </tr>\n  </thead>\n  <tbody>\n    <tr>\n      <th>0</th>\n      <td>montgomery</td>\n      <td>0.078</td>\n      <td>600</td>\n      <td>/home/ubuntu/ContactTracing/data/SIR_Cache/tim...</td>\n      <td>random</td>\n      <td>0</td>\n      <td>1217</td>\n      <td>6233</td>\n      <td>11135</td>\n      <td>16931</td>\n      <td>28</td>\n      <td>88.819097</td>\n      <td>114.2</td>\n      <td>0.601694</td>\n      <td>661.962407</td>\n      <td>53</td>\n      <td>60.874122</td>\n      <td>1.459062</td>\n    </tr>\n    <tr>\n      <th>1</th>\n      <td>montgomery</td>\n      <td>0.078</td>\n      <td>600</td>\n      <td>/home/ubuntu/ContactTracing/data/SIR_Cache/tim...</td>\n      <td>dependent</td>\n      <td>0</td>\n      <td>1217</td>\n      <td>6233</td>\n      <td>11135</td>\n      <td>16931</td>\n      <td>28</td>\n      <td>61.833362</td>\n      <td>85.2</td>\n      <td>0.921509</td>\n      <td>661.962407</td>\n      <td>405</td>\n      <td>60.874122</td>\n      <td>1.015758</td>\n    </tr>\n    <tr>\n      <th>2</th>\n      <td>montgomery</td>\n      <td>0.078</td>\n      <td>600</td>\n      <td>/home/ubuntu/ContactTracing/data/SIR_Cache/tim...</td>\n      <td>mip_gurobi</td>\n      <td>0</td>\n      <td>1217</td>\n      <td>6233</td>\n      <td>11135</td>\n      <td>16931</td>\n      <td>28</td>\n      <td>60.874122</td>\n      <td>77.4</td>\n      <td>1.060092</td>\n      <td>661.962407</td>\n      <td>426</td>\n      <td>60.874122</td>\n      <td>1.000000</td>\n    </tr>\n    <tr>\n      <th>3</th>\n      <td>montgomery</td>\n      <td>0.078</td>\n      <td>600</td>\n      <td>/home/ubuntu/ContactTracing/data/SIR_Cache/tim...</td>\n      <td>greedy_weighted</td>\n      <td>0</td>\n      <td>1217</td>\n      <td>6233</td>\n      <td>11135</td>\n      <td>16931</td>\n      <td>28</td>\n      <td>63.834657</td>\n      <td>81.0</td>\n      <td>0.322041</td>\n      <td>661.962407</td>\n      <td>-1</td>\n      <td>60.874122</td>\n      <td>1.048634</td>\n    </tr>\n    <tr>\n      <th>4</th>\n      <td>montgomery</td>\n      <td>0.078</td>\n      <td>600</td>\n      <td>/home/ubuntu/ContactTracing/data/SIR_Cache/tim...</td>\n      <td>random</td>\n      <td>0</td>\n      <td>2359</td>\n      <td>25664</td>\n      <td>32967</td>\n      <td>145552</td>\n      <td>59</td>\n      <td>523.116239</td>\n      <td>1423.6</td>\n      <td>3.947826</td>\n      <td>3733.643370</td>\n      <td>15</td>\n      <td>432.438811</td>\n      <td>1.209688</td>\n    </tr>\n  </tbody>\n</table>\n</div>"
     },
     "execution_count": 19,
     "metadata": {},
     "output_type": "execute_result"
    }
   ],
   "source": [
    "df[\"mip_ratio_gap\"] = df[\"mip_value\"] / df[\"optimal_mip_value\"]\n",
    "df.head()"
   ],
   "metadata": {
    "collapsed": false,
    "pycharm": {
     "name": "#%%\n"
    }
   }
  },
  {
   "cell_type": "code",
   "execution_count": 20,
   "outputs": [],
   "source": [
    "# Check that mip_ratio_gap >= 1 for all elements\n",
    "assert len(df[df[\"mip_ratio_gap\"] < 1]) == 0"
   ],
   "metadata": {
    "collapsed": false,
    "pycharm": {
     "name": "#%%\n"
    }
   }
  },
  {
   "cell_type": "code",
   "execution_count": 21,
   "outputs": [],
   "source": [
    "df = df.sort_values(by=['v2_size'])"
   ],
   "metadata": {
    "collapsed": false,
    "pycharm": {
     "name": "#%%\n"
    }
   }
  },
  {
   "cell_type": "code",
   "execution_count": 22,
   "outputs": [
    {
     "data": {
      "text/plain": "               G      p  budget  \\\n1356  montgomery  0.078     600   \n1357  montgomery  0.078     600   \n1358  montgomery  0.078     600   \n1359  montgomery  0.078     600   \n758   montgomery  0.078     600   \n\n                                             from_cache           method  \\\n1356  /home/ubuntu/ContactTracing/data/SIR_Cache/tim...           random   \n1357  /home/ubuntu/ContactTracing/data/SIR_Cache/tim...        dependent   \n1358  /home/ubuntu/ContactTracing/data/SIR_Cache/tim...  greedy_weighted   \n1359  /home/ubuntu/ContactTracing/data/SIR_Cache/tim...       mip_gurobi   \n758   /home/ubuntu/ContactTracing/data/SIR_Cache/tim...       mip_gurobi   \n\n      trial_id  I_size  v1_size  v2_size  num_cross_edges  maxD  mip_value  \\\n1356         0     538     2886     6427             8390    25  40.197954   \n1357         0     538     2886     6427             8390    25  21.619965   \n1358         0     538     2886     6427             8390    25  22.388281   \n1359         0     538     2886     6427             8390    25  21.503628   \n758          0     529     2808     6472             8273    23  21.620672   \n\n      min_exposed_value  duration  v1_objective  greedy_overlap  \\\n1356               50.6  0.308147    278.972063             123   \n1357               27.2  0.779478    278.972063             489   \n1358               33.0  0.017547    278.972063              -1   \n1359               26.2  0.734187    278.972063             500   \n758                26.0  0.818339    276.134672             509   \n\n      optimal_mip_value  mip_ratio_gap  \n1356          21.503628       1.869357  \n1357          21.503628       1.005410  \n1358          21.503628       1.041140  \n1359          21.503628       1.000000  \n758           21.620672       1.000000  ",
      "text/html": "<div>\n<style scoped>\n    .dataframe tbody tr th:only-of-type {\n        vertical-align: middle;\n    }\n\n    .dataframe tbody tr th {\n        vertical-align: top;\n    }\n\n    .dataframe thead th {\n        text-align: right;\n    }\n</style>\n<table border=\"1\" class=\"dataframe\">\n  <thead>\n    <tr style=\"text-align: right;\">\n      <th></th>\n      <th>G</th>\n      <th>p</th>\n      <th>budget</th>\n      <th>from_cache</th>\n      <th>method</th>\n      <th>trial_id</th>\n      <th>I_size</th>\n      <th>v1_size</th>\n      <th>v2_size</th>\n      <th>num_cross_edges</th>\n      <th>maxD</th>\n      <th>mip_value</th>\n      <th>min_exposed_value</th>\n      <th>duration</th>\n      <th>v1_objective</th>\n      <th>greedy_overlap</th>\n      <th>optimal_mip_value</th>\n      <th>mip_ratio_gap</th>\n    </tr>\n  </thead>\n  <tbody>\n    <tr>\n      <th>1356</th>\n      <td>montgomery</td>\n      <td>0.078</td>\n      <td>600</td>\n      <td>/home/ubuntu/ContactTracing/data/SIR_Cache/tim...</td>\n      <td>random</td>\n      <td>0</td>\n      <td>538</td>\n      <td>2886</td>\n      <td>6427</td>\n      <td>8390</td>\n      <td>25</td>\n      <td>40.197954</td>\n      <td>50.6</td>\n      <td>0.308147</td>\n      <td>278.972063</td>\n      <td>123</td>\n      <td>21.503628</td>\n      <td>1.869357</td>\n    </tr>\n    <tr>\n      <th>1357</th>\n      <td>montgomery</td>\n      <td>0.078</td>\n      <td>600</td>\n      <td>/home/ubuntu/ContactTracing/data/SIR_Cache/tim...</td>\n      <td>dependent</td>\n      <td>0</td>\n      <td>538</td>\n      <td>2886</td>\n      <td>6427</td>\n      <td>8390</td>\n      <td>25</td>\n      <td>21.619965</td>\n      <td>27.2</td>\n      <td>0.779478</td>\n      <td>278.972063</td>\n      <td>489</td>\n      <td>21.503628</td>\n      <td>1.005410</td>\n    </tr>\n    <tr>\n      <th>1358</th>\n      <td>montgomery</td>\n      <td>0.078</td>\n      <td>600</td>\n      <td>/home/ubuntu/ContactTracing/data/SIR_Cache/tim...</td>\n      <td>greedy_weighted</td>\n      <td>0</td>\n      <td>538</td>\n      <td>2886</td>\n      <td>6427</td>\n      <td>8390</td>\n      <td>25</td>\n      <td>22.388281</td>\n      <td>33.0</td>\n      <td>0.017547</td>\n      <td>278.972063</td>\n      <td>-1</td>\n      <td>21.503628</td>\n      <td>1.041140</td>\n    </tr>\n    <tr>\n      <th>1359</th>\n      <td>montgomery</td>\n      <td>0.078</td>\n      <td>600</td>\n      <td>/home/ubuntu/ContactTracing/data/SIR_Cache/tim...</td>\n      <td>mip_gurobi</td>\n      <td>0</td>\n      <td>538</td>\n      <td>2886</td>\n      <td>6427</td>\n      <td>8390</td>\n      <td>25</td>\n      <td>21.503628</td>\n      <td>26.2</td>\n      <td>0.734187</td>\n      <td>278.972063</td>\n      <td>500</td>\n      <td>21.503628</td>\n      <td>1.000000</td>\n    </tr>\n    <tr>\n      <th>758</th>\n      <td>montgomery</td>\n      <td>0.078</td>\n      <td>600</td>\n      <td>/home/ubuntu/ContactTracing/data/SIR_Cache/tim...</td>\n      <td>mip_gurobi</td>\n      <td>0</td>\n      <td>529</td>\n      <td>2808</td>\n      <td>6472</td>\n      <td>8273</td>\n      <td>23</td>\n      <td>21.620672</td>\n      <td>26.0</td>\n      <td>0.818339</td>\n      <td>276.134672</td>\n      <td>509</td>\n      <td>21.620672</td>\n      <td>1.000000</td>\n    </tr>\n  </tbody>\n</table>\n</div>"
     },
     "execution_count": 22,
     "metadata": {},
     "output_type": "execute_result"
    }
   ],
   "source": [
    "dfk = [df[df[\"budget\"] == x] for x in range(600, 1201, 100)]\n",
    "dfk[0].head()"
   ],
   "metadata": {
    "collapsed": false,
    "pycharm": {
     "name": "#%%\n"
    }
   }
  },
  {
   "cell_type": "code",
   "execution_count": 23,
   "outputs": [],
   "source": [
    "# Create an column that splits dataset into n groups\n",
    "num_splits = 4\n",
    "col = []\n",
    "for i in range(num_splits):\n",
    "    col += [i] * int(len(df) / num_splits)\n",
    "df[\"v2_id\"] = col"
   ],
   "metadata": {
    "collapsed": false,
    "pycharm": {
     "name": "#%%\n"
    }
   }
  },
  {
   "cell_type": "code",
   "execution_count": 33,
   "outputs": [
    {
     "data": {
      "text/plain": "               G      p  budget  \\\n6159  montgomery  0.078     900   \n9357  montgomery  0.078    1100   \n9356  montgomery  0.078    1100   \n6158  montgomery  0.078     900   \n6157  montgomery  0.078     900   \n\n                                             from_cache      method  trial_id  \\\n6159  /home/ubuntu/ContactTracing/data/SIR_Cache/tim...   dependent         0   \n9357  /home/ubuntu/ContactTracing/data/SIR_Cache/tim...   dependent         0   \n9356  /home/ubuntu/ContactTracing/data/SIR_Cache/tim...      random         0   \n6158  /home/ubuntu/ContactTracing/data/SIR_Cache/tim...  mip_gurobi         0   \n6157  /home/ubuntu/ContactTracing/data/SIR_Cache/tim...      random         0   \n\n      I_size  v1_size  v2_size  num_cross_edges  maxD  mip_value  \\\n6159     538     2886     6427             8390    25  14.974574   \n9357     538     2886     6427             8390    25  11.312337   \n9356     538     2886     6427             8390    25  32.454532   \n6158     538     2886     6427             8390    25  14.893481   \n6157     538     2886     6427             8390    25  35.761233   \n\n      min_exposed_value  duration  v1_objective  greedy_overlap  \\\n6159               18.0  0.483384    278.972063             767   \n9357               13.8  0.431276    278.972063             978   \n9356               40.4  0.718345    278.972063             414   \n6158               16.8  0.402228    278.972063             792   \n6157               45.6  0.313535    278.972063             285   \n\n      optimal_mip_value  mip_ratio_gap  v2_id  \n6159          14.893481       1.005445      0  \n9357          11.271384       1.003633      0  \n9356          11.271384       2.879374      0  \n6158          14.893481       1.000000      0  \n6157          14.893481       2.401133      0  ",
      "text/html": "<div>\n<style scoped>\n    .dataframe tbody tr th:only-of-type {\n        vertical-align: middle;\n    }\n\n    .dataframe tbody tr th {\n        vertical-align: top;\n    }\n\n    .dataframe thead th {\n        text-align: right;\n    }\n</style>\n<table border=\"1\" class=\"dataframe\">\n  <thead>\n    <tr style=\"text-align: right;\">\n      <th></th>\n      <th>G</th>\n      <th>p</th>\n      <th>budget</th>\n      <th>from_cache</th>\n      <th>method</th>\n      <th>trial_id</th>\n      <th>I_size</th>\n      <th>v1_size</th>\n      <th>v2_size</th>\n      <th>num_cross_edges</th>\n      <th>maxD</th>\n      <th>mip_value</th>\n      <th>min_exposed_value</th>\n      <th>duration</th>\n      <th>v1_objective</th>\n      <th>greedy_overlap</th>\n      <th>optimal_mip_value</th>\n      <th>mip_ratio_gap</th>\n      <th>v2_id</th>\n    </tr>\n  </thead>\n  <tbody>\n    <tr>\n      <th>6159</th>\n      <td>montgomery</td>\n      <td>0.078</td>\n      <td>900</td>\n      <td>/home/ubuntu/ContactTracing/data/SIR_Cache/tim...</td>\n      <td>dependent</td>\n      <td>0</td>\n      <td>538</td>\n      <td>2886</td>\n      <td>6427</td>\n      <td>8390</td>\n      <td>25</td>\n      <td>14.974574</td>\n      <td>18.0</td>\n      <td>0.483384</td>\n      <td>278.972063</td>\n      <td>767</td>\n      <td>14.893481</td>\n      <td>1.005445</td>\n      <td>0</td>\n    </tr>\n    <tr>\n      <th>9357</th>\n      <td>montgomery</td>\n      <td>0.078</td>\n      <td>1100</td>\n      <td>/home/ubuntu/ContactTracing/data/SIR_Cache/tim...</td>\n      <td>dependent</td>\n      <td>0</td>\n      <td>538</td>\n      <td>2886</td>\n      <td>6427</td>\n      <td>8390</td>\n      <td>25</td>\n      <td>11.312337</td>\n      <td>13.8</td>\n      <td>0.431276</td>\n      <td>278.972063</td>\n      <td>978</td>\n      <td>11.271384</td>\n      <td>1.003633</td>\n      <td>0</td>\n    </tr>\n    <tr>\n      <th>9356</th>\n      <td>montgomery</td>\n      <td>0.078</td>\n      <td>1100</td>\n      <td>/home/ubuntu/ContactTracing/data/SIR_Cache/tim...</td>\n      <td>random</td>\n      <td>0</td>\n      <td>538</td>\n      <td>2886</td>\n      <td>6427</td>\n      <td>8390</td>\n      <td>25</td>\n      <td>32.454532</td>\n      <td>40.4</td>\n      <td>0.718345</td>\n      <td>278.972063</td>\n      <td>414</td>\n      <td>11.271384</td>\n      <td>2.879374</td>\n      <td>0</td>\n    </tr>\n    <tr>\n      <th>6158</th>\n      <td>montgomery</td>\n      <td>0.078</td>\n      <td>900</td>\n      <td>/home/ubuntu/ContactTracing/data/SIR_Cache/tim...</td>\n      <td>mip_gurobi</td>\n      <td>0</td>\n      <td>538</td>\n      <td>2886</td>\n      <td>6427</td>\n      <td>8390</td>\n      <td>25</td>\n      <td>14.893481</td>\n      <td>16.8</td>\n      <td>0.402228</td>\n      <td>278.972063</td>\n      <td>792</td>\n      <td>14.893481</td>\n      <td>1.000000</td>\n      <td>0</td>\n    </tr>\n    <tr>\n      <th>6157</th>\n      <td>montgomery</td>\n      <td>0.078</td>\n      <td>900</td>\n      <td>/home/ubuntu/ContactTracing/data/SIR_Cache/tim...</td>\n      <td>random</td>\n      <td>0</td>\n      <td>538</td>\n      <td>2886</td>\n      <td>6427</td>\n      <td>8390</td>\n      <td>25</td>\n      <td>35.761233</td>\n      <td>45.6</td>\n      <td>0.313535</td>\n      <td>278.972063</td>\n      <td>285</td>\n      <td>14.893481</td>\n      <td>2.401133</td>\n      <td>0</td>\n    </tr>\n  </tbody>\n</table>\n</div>"
     },
     "execution_count": 33,
     "metadata": {},
     "output_type": "execute_result"
    }
   ],
   "source": [
    "df.head()"
   ],
   "metadata": {
    "collapsed": false,
    "pycharm": {
     "name": "#%%\n"
    }
   }
  },
  {
   "cell_type": "code",
   "execution_count": 34,
   "outputs": [],
   "source": [
    "df.to_csv(\"results_appended.csv\")"
   ],
   "metadata": {
    "collapsed": false,
    "pycharm": {
     "name": "#%%\n"
    }
   }
  },
  {
   "cell_type": "code",
   "execution_count": 32,
   "outputs": [
    {
     "data": {
      "text/plain": "                     mean                                                     \\\n                 duration                                  min_exposed_value   \nv2_id                   0          1          2          3                 0   \nmethod                                                                         \ndependent        1.982543   4.767330  11.358494  20.199614         92.484857   \ngreedy_weighted  0.164701   0.455687   0.743440   0.541064         85.662000   \nmip_gurobi       2.667303  10.459121  27.821475  41.904462         90.039143   \nrandom           1.410377   3.214172   5.400360   5.985428        132.216571   \n\n                                                                               \\\n                                                      mip_ratio_gap             \nv2_id                     1            2            3             0         1   \nmethod                                                                          \ndependent        361.444571   918.401143   964.822286      1.024761  1.044089   \ngreedy_weighted  336.194286   855.168000   894.599429      1.059721  1.060155   \nmip_gurobi       352.641714   895.541143   928.693143      1.000000  1.000000   \nrandom           436.345143  1045.656000  1142.120571      1.694375  1.314827   \n\n                 ...        max                                               \\\n                 ...   duration             min_exposed_value                  \nv2_id            ...          2           3                 0      1       2   \nmethod           ...                                                           \ndependent        ...  24.713740   60.053831             238.4  619.2  1265.4   \ngreedy_weighted  ...   2.302402    2.154264             225.0  599.4  1216.6   \nmip_gurobi       ...  90.494773  103.989422             243.0  608.6  1249.0   \nrandom           ...  11.313290   14.601623             297.2  698.8  1406.0   \n\n                                                                     \n                        mip_ratio_gap                                \nv2_id                 3             0         1         2         3  \nmethod                                                               \ndependent        1314.2      1.061937  1.063669  1.082586  1.131799  \ngreedy_weighted  1238.0      1.093158  1.086814  1.087524  1.128314  \nmip_gurobi       1300.8      1.000000  1.000000  1.000000  1.000000  \nrandom           1507.0      3.142609  1.526970  1.332190  1.750537  \n\n[4 rows x 24 columns]",
      "text/html": "<div>\n<style scoped>\n    .dataframe tbody tr th:only-of-type {\n        vertical-align: middle;\n    }\n\n    .dataframe tbody tr th {\n        vertical-align: top;\n    }\n\n    .dataframe thead tr th {\n        text-align: left;\n    }\n\n    .dataframe thead tr:last-of-type th {\n        text-align: right;\n    }\n</style>\n<table border=\"1\" class=\"dataframe\">\n  <thead>\n    <tr>\n      <th></th>\n      <th colspan=\"10\" halign=\"left\">mean</th>\n      <th>...</th>\n      <th colspan=\"10\" halign=\"left\">max</th>\n    </tr>\n    <tr>\n      <th></th>\n      <th colspan=\"4\" halign=\"left\">duration</th>\n      <th colspan=\"4\" halign=\"left\">min_exposed_value</th>\n      <th colspan=\"2\" halign=\"left\">mip_ratio_gap</th>\n      <th>...</th>\n      <th colspan=\"2\" halign=\"left\">duration</th>\n      <th colspan=\"4\" halign=\"left\">min_exposed_value</th>\n      <th colspan=\"4\" halign=\"left\">mip_ratio_gap</th>\n    </tr>\n    <tr>\n      <th>v2_id</th>\n      <th>0</th>\n      <th>1</th>\n      <th>2</th>\n      <th>3</th>\n      <th>0</th>\n      <th>1</th>\n      <th>2</th>\n      <th>3</th>\n      <th>0</th>\n      <th>1</th>\n      <th>...</th>\n      <th>2</th>\n      <th>3</th>\n      <th>0</th>\n      <th>1</th>\n      <th>2</th>\n      <th>3</th>\n      <th>0</th>\n      <th>1</th>\n      <th>2</th>\n      <th>3</th>\n    </tr>\n    <tr>\n      <th>method</th>\n      <th></th>\n      <th></th>\n      <th></th>\n      <th></th>\n      <th></th>\n      <th></th>\n      <th></th>\n      <th></th>\n      <th></th>\n      <th></th>\n      <th></th>\n      <th></th>\n      <th></th>\n      <th></th>\n      <th></th>\n      <th></th>\n      <th></th>\n      <th></th>\n      <th></th>\n      <th></th>\n      <th></th>\n    </tr>\n  </thead>\n  <tbody>\n    <tr>\n      <th>dependent</th>\n      <td>1.982543</td>\n      <td>4.767330</td>\n      <td>11.358494</td>\n      <td>20.199614</td>\n      <td>92.484857</td>\n      <td>361.444571</td>\n      <td>918.401143</td>\n      <td>964.822286</td>\n      <td>1.024761</td>\n      <td>1.044089</td>\n      <td>...</td>\n      <td>24.713740</td>\n      <td>60.053831</td>\n      <td>238.4</td>\n      <td>619.2</td>\n      <td>1265.4</td>\n      <td>1314.2</td>\n      <td>1.061937</td>\n      <td>1.063669</td>\n      <td>1.082586</td>\n      <td>1.131799</td>\n    </tr>\n    <tr>\n      <th>greedy_weighted</th>\n      <td>0.164701</td>\n      <td>0.455687</td>\n      <td>0.743440</td>\n      <td>0.541064</td>\n      <td>85.662000</td>\n      <td>336.194286</td>\n      <td>855.168000</td>\n      <td>894.599429</td>\n      <td>1.059721</td>\n      <td>1.060155</td>\n      <td>...</td>\n      <td>2.302402</td>\n      <td>2.154264</td>\n      <td>225.0</td>\n      <td>599.4</td>\n      <td>1216.6</td>\n      <td>1238.0</td>\n      <td>1.093158</td>\n      <td>1.086814</td>\n      <td>1.087524</td>\n      <td>1.128314</td>\n    </tr>\n    <tr>\n      <th>mip_gurobi</th>\n      <td>2.667303</td>\n      <td>10.459121</td>\n      <td>27.821475</td>\n      <td>41.904462</td>\n      <td>90.039143</td>\n      <td>352.641714</td>\n      <td>895.541143</td>\n      <td>928.693143</td>\n      <td>1.000000</td>\n      <td>1.000000</td>\n      <td>...</td>\n      <td>90.494773</td>\n      <td>103.989422</td>\n      <td>243.0</td>\n      <td>608.6</td>\n      <td>1249.0</td>\n      <td>1300.8</td>\n      <td>1.000000</td>\n      <td>1.000000</td>\n      <td>1.000000</td>\n      <td>1.000000</td>\n    </tr>\n    <tr>\n      <th>random</th>\n      <td>1.410377</td>\n      <td>3.214172</td>\n      <td>5.400360</td>\n      <td>5.985428</td>\n      <td>132.216571</td>\n      <td>436.345143</td>\n      <td>1045.656000</td>\n      <td>1142.120571</td>\n      <td>1.694375</td>\n      <td>1.314827</td>\n      <td>...</td>\n      <td>11.313290</td>\n      <td>14.601623</td>\n      <td>297.2</td>\n      <td>698.8</td>\n      <td>1406.0</td>\n      <td>1507.0</td>\n      <td>3.142609</td>\n      <td>1.526970</td>\n      <td>1.332190</td>\n      <td>1.750537</td>\n    </tr>\n  </tbody>\n</table>\n<p>4 rows × 24 columns</p>\n</div>"
     },
     "execution_count": 32,
     "metadata": {},
     "output_type": "execute_result"
    }
   ],
   "source": [],
   "metadata": {
    "collapsed": false,
    "pycharm": {
     "name": "#%%\n"
    }
   }
  },
  {
   "cell_type": "code",
   "execution_count": null,
   "outputs": [],
   "source": [],
   "metadata": {
    "collapsed": false,
    "pycharm": {
     "name": "#%%\n"
    }
   }
  }
 ],
 "metadata": {
  "kernelspec": {
   "display_name": "Python 3",
   "language": "python",
   "name": "python3"
  },
  "language_info": {
   "codemirror_mode": {
    "name": "ipython",
    "version": 2
   },
   "file_extension": ".py",
   "mimetype": "text/x-python",
   "name": "python",
   "nbconvert_exporter": "python",
   "pygments_lexer": "ipython2",
   "version": "2.7.6"
  }
 },
 "nbformat": 4,
 "nbformat_minor": 0
}