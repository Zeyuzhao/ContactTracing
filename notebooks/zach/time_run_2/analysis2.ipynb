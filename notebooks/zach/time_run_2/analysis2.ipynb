{
 "cells": [
  {
   "cell_type": "code",
   "execution_count": 13,
   "metadata": {
    "collapsed": true
   },
   "outputs": [],
   "source": [
    "from ctrace import *\n",
    "import pandas as pd\n",
    "import numpy as np"
   ]
  },
  {
   "cell_type": "code",
   "execution_count": 14,
   "outputs": [
    {
     "name": "stdout",
     "output_type": "stream",
     "text": [
      "11200\n"
     ]
    },
    {
     "data": {
      "text/plain": "            G      p  budget  \\\n0  montgomery  0.078     600   \n1  montgomery  0.078     600   \n2  montgomery  0.078     600   \n3  montgomery  0.078     600   \n4  montgomery  0.078     600   \n\n                                          from_cache           method  \\\n0  /home/ubuntu/ContactTracing/data/SIR_Cache/tim...           random   \n1  /home/ubuntu/ContactTracing/data/SIR_Cache/tim...        dependent   \n2  /home/ubuntu/ContactTracing/data/SIR_Cache/tim...       mip_gurobi   \n3  /home/ubuntu/ContactTracing/data/SIR_Cache/tim...  greedy_weighted   \n4  /home/ubuntu/ContactTracing/data/SIR_Cache/tim...           random   \n\n   trial_id  I_size  v1_size  v2_size  num_cross_edges  maxD   mip_value  \\\n0         0    1217     6233    11135            16931    28   88.819097   \n1         0    1217     6233    11135            16931    28   61.833362   \n2         0    1217     6233    11135            16931    28   60.874122   \n3         0    1217     6233    11135            16931    28   63.834657   \n4         0    2359    25664    32967           145552    59  523.116239   \n\n   min_exposed_value  duration  v1_objective  greedy_overlap  \n0              114.2  0.601694    661.962407              53  \n1               85.2  0.921509    661.962407             405  \n2               77.4  1.060092    661.962407             426  \n3               81.0  0.322041    661.962407              -1  \n4             1423.6  3.947826   3733.643370              15  ",
      "text/html": "<div>\n<style scoped>\n    .dataframe tbody tr th:only-of-type {\n        vertical-align: middle;\n    }\n\n    .dataframe tbody tr th {\n        vertical-align: top;\n    }\n\n    .dataframe thead th {\n        text-align: right;\n    }\n</style>\n<table border=\"1\" class=\"dataframe\">\n  <thead>\n    <tr style=\"text-align: right;\">\n      <th></th>\n      <th>G</th>\n      <th>p</th>\n      <th>budget</th>\n      <th>from_cache</th>\n      <th>method</th>\n      <th>trial_id</th>\n      <th>I_size</th>\n      <th>v1_size</th>\n      <th>v2_size</th>\n      <th>num_cross_edges</th>\n      <th>maxD</th>\n      <th>mip_value</th>\n      <th>min_exposed_value</th>\n      <th>duration</th>\n      <th>v1_objective</th>\n      <th>greedy_overlap</th>\n    </tr>\n  </thead>\n  <tbody>\n    <tr>\n      <th>0</th>\n      <td>montgomery</td>\n      <td>0.078</td>\n      <td>600</td>\n      <td>/home/ubuntu/ContactTracing/data/SIR_Cache/tim...</td>\n      <td>random</td>\n      <td>0</td>\n      <td>1217</td>\n      <td>6233</td>\n      <td>11135</td>\n      <td>16931</td>\n      <td>28</td>\n      <td>88.819097</td>\n      <td>114.2</td>\n      <td>0.601694</td>\n      <td>661.962407</td>\n      <td>53</td>\n    </tr>\n    <tr>\n      <th>1</th>\n      <td>montgomery</td>\n      <td>0.078</td>\n      <td>600</td>\n      <td>/home/ubuntu/ContactTracing/data/SIR_Cache/tim...</td>\n      <td>dependent</td>\n      <td>0</td>\n      <td>1217</td>\n      <td>6233</td>\n      <td>11135</td>\n      <td>16931</td>\n      <td>28</td>\n      <td>61.833362</td>\n      <td>85.2</td>\n      <td>0.921509</td>\n      <td>661.962407</td>\n      <td>405</td>\n    </tr>\n    <tr>\n      <th>2</th>\n      <td>montgomery</td>\n      <td>0.078</td>\n      <td>600</td>\n      <td>/home/ubuntu/ContactTracing/data/SIR_Cache/tim...</td>\n      <td>mip_gurobi</td>\n      <td>0</td>\n      <td>1217</td>\n      <td>6233</td>\n      <td>11135</td>\n      <td>16931</td>\n      <td>28</td>\n      <td>60.874122</td>\n      <td>77.4</td>\n      <td>1.060092</td>\n      <td>661.962407</td>\n      <td>426</td>\n    </tr>\n    <tr>\n      <th>3</th>\n      <td>montgomery</td>\n      <td>0.078</td>\n      <td>600</td>\n      <td>/home/ubuntu/ContactTracing/data/SIR_Cache/tim...</td>\n      <td>greedy_weighted</td>\n      <td>0</td>\n      <td>1217</td>\n      <td>6233</td>\n      <td>11135</td>\n      <td>16931</td>\n      <td>28</td>\n      <td>63.834657</td>\n      <td>81.0</td>\n      <td>0.322041</td>\n      <td>661.962407</td>\n      <td>-1</td>\n    </tr>\n    <tr>\n      <th>4</th>\n      <td>montgomery</td>\n      <td>0.078</td>\n      <td>600</td>\n      <td>/home/ubuntu/ContactTracing/data/SIR_Cache/tim...</td>\n      <td>random</td>\n      <td>0</td>\n      <td>2359</td>\n      <td>25664</td>\n      <td>32967</td>\n      <td>145552</td>\n      <td>59</td>\n      <td>523.116239</td>\n      <td>1423.6</td>\n      <td>3.947826</td>\n      <td>3733.643370</td>\n      <td>15</td>\n    </tr>\n  </tbody>\n</table>\n</div>"
     },
     "execution_count": 14,
     "metadata": {},
     "output_type": "execute_result"
    }
   ],
   "source": [
    "# Load in results file\n",
    "with open(PROJECT_ROOT /\"output\"/\"run_6Mm2w/\" / \"results.csv\", \"r\") as csv:\n",
    "    df = pd.read_csv(csv)\n",
    "print(len(df))\n",
    "df.head()"
   ],
   "metadata": {
    "collapsed": false,
    "pycharm": {
     "name": "#%%\n"
    }
   }
  },
  {
   "cell_type": "code",
   "execution_count": 15,
   "outputs": [
    {
     "name": "stdout",
     "output_type": "stream",
     "text": [
      "2800\n"
     ]
    },
    {
     "data": {
      "text/plain": "             G      p  budget  \\\n2   montgomery  0.078     600   \n11  montgomery  0.078     600   \n25  montgomery  0.078     600   \n28  montgomery  0.078     600   \n33  montgomery  0.078     600   \n\n                                           from_cache      method  trial_id  \\\n2   /home/ubuntu/ContactTracing/data/SIR_Cache/tim...  mip_gurobi         0   \n11  /home/ubuntu/ContactTracing/data/SIR_Cache/tim...  mip_gurobi         0   \n25  /home/ubuntu/ContactTracing/data/SIR_Cache/tim...  mip_gurobi         0   \n28  /home/ubuntu/ContactTracing/data/SIR_Cache/tim...  mip_gurobi         0   \n33  /home/ubuntu/ContactTracing/data/SIR_Cache/tim...  mip_gurobi         0   \n\n    I_size  v1_size  v2_size  num_cross_edges  maxD   mip_value  \\\n2     1217     6233    11135            16931    28   60.874122   \n11    1584     7527    12026            19278    27   74.677546   \n25    5772    26012    16285            42903    31  242.382803   \n28    4854    31285    22040            82500    32  361.245810   \n33    5736    26662    16890            47422    27  261.335158   \n\n    min_exposed_value   duration  v1_objective  greedy_overlap  \n2                77.4   1.060092    661.962407             426  \n11              101.4   1.439489    846.461136             412  \n25              465.8   7.878851   4839.647687             325  \n28              875.4  14.611467   5702.689558             287  \n33              515.2  12.540073   5014.496636             289  ",
      "text/html": "<div>\n<style scoped>\n    .dataframe tbody tr th:only-of-type {\n        vertical-align: middle;\n    }\n\n    .dataframe tbody tr th {\n        vertical-align: top;\n    }\n\n    .dataframe thead th {\n        text-align: right;\n    }\n</style>\n<table border=\"1\" class=\"dataframe\">\n  <thead>\n    <tr style=\"text-align: right;\">\n      <th></th>\n      <th>G</th>\n      <th>p</th>\n      <th>budget</th>\n      <th>from_cache</th>\n      <th>method</th>\n      <th>trial_id</th>\n      <th>I_size</th>\n      <th>v1_size</th>\n      <th>v2_size</th>\n      <th>num_cross_edges</th>\n      <th>maxD</th>\n      <th>mip_value</th>\n      <th>min_exposed_value</th>\n      <th>duration</th>\n      <th>v1_objective</th>\n      <th>greedy_overlap</th>\n    </tr>\n  </thead>\n  <tbody>\n    <tr>\n      <th>2</th>\n      <td>montgomery</td>\n      <td>0.078</td>\n      <td>600</td>\n      <td>/home/ubuntu/ContactTracing/data/SIR_Cache/tim...</td>\n      <td>mip_gurobi</td>\n      <td>0</td>\n      <td>1217</td>\n      <td>6233</td>\n      <td>11135</td>\n      <td>16931</td>\n      <td>28</td>\n      <td>60.874122</td>\n      <td>77.4</td>\n      <td>1.060092</td>\n      <td>661.962407</td>\n      <td>426</td>\n    </tr>\n    <tr>\n      <th>11</th>\n      <td>montgomery</td>\n      <td>0.078</td>\n      <td>600</td>\n      <td>/home/ubuntu/ContactTracing/data/SIR_Cache/tim...</td>\n      <td>mip_gurobi</td>\n      <td>0</td>\n      <td>1584</td>\n      <td>7527</td>\n      <td>12026</td>\n      <td>19278</td>\n      <td>27</td>\n      <td>74.677546</td>\n      <td>101.4</td>\n      <td>1.439489</td>\n      <td>846.461136</td>\n      <td>412</td>\n    </tr>\n    <tr>\n      <th>25</th>\n      <td>montgomery</td>\n      <td>0.078</td>\n      <td>600</td>\n      <td>/home/ubuntu/ContactTracing/data/SIR_Cache/tim...</td>\n      <td>mip_gurobi</td>\n      <td>0</td>\n      <td>5772</td>\n      <td>26012</td>\n      <td>16285</td>\n      <td>42903</td>\n      <td>31</td>\n      <td>242.382803</td>\n      <td>465.8</td>\n      <td>7.878851</td>\n      <td>4839.647687</td>\n      <td>325</td>\n    </tr>\n    <tr>\n      <th>28</th>\n      <td>montgomery</td>\n      <td>0.078</td>\n      <td>600</td>\n      <td>/home/ubuntu/ContactTracing/data/SIR_Cache/tim...</td>\n      <td>mip_gurobi</td>\n      <td>0</td>\n      <td>4854</td>\n      <td>31285</td>\n      <td>22040</td>\n      <td>82500</td>\n      <td>32</td>\n      <td>361.245810</td>\n      <td>875.4</td>\n      <td>14.611467</td>\n      <td>5702.689558</td>\n      <td>287</td>\n    </tr>\n    <tr>\n      <th>33</th>\n      <td>montgomery</td>\n      <td>0.078</td>\n      <td>600</td>\n      <td>/home/ubuntu/ContactTracing/data/SIR_Cache/tim...</td>\n      <td>mip_gurobi</td>\n      <td>0</td>\n      <td>5736</td>\n      <td>26662</td>\n      <td>16890</td>\n      <td>47422</td>\n      <td>27</td>\n      <td>261.335158</td>\n      <td>515.2</td>\n      <td>12.540073</td>\n      <td>5014.496636</td>\n      <td>289</td>\n    </tr>\n  </tbody>\n</table>\n</div>"
     },
     "execution_count": 15,
     "metadata": {},
     "output_type": "execute_result"
    }
   ],
   "source": [
    "# Extract the Gurobi MILP optimal runs\n",
    "optimal = df[df[\"method\"] == \"mip_gurobi\"]\n",
    "print(len(optimal))\n",
    "optimal.head()"
   ],
   "metadata": {
    "collapsed": false,
    "pycharm": {
     "name": "#%%\n"
    }
   }
  },
  {
   "cell_type": "code",
   "execution_count": 16,
   "outputs": [
    {
     "name": "stdout",
     "output_type": "stream",
     "text": [
      "2800\n"
     ]
    },
    {
     "data": {
      "text/plain": "             G      p  budget  \\\n2   montgomery  0.078     600   \n11  montgomery  0.078     600   \n25  montgomery  0.078     600   \n28  montgomery  0.078     600   \n33  montgomery  0.078     600   \n\n                                           from_cache  optimal_mip_value  \n2   /home/ubuntu/ContactTracing/data/SIR_Cache/tim...          60.874122  \n11  /home/ubuntu/ContactTracing/data/SIR_Cache/tim...          74.677546  \n25  /home/ubuntu/ContactTracing/data/SIR_Cache/tim...         242.382803  \n28  /home/ubuntu/ContactTracing/data/SIR_Cache/tim...         361.245810  \n33  /home/ubuntu/ContactTracing/data/SIR_Cache/tim...         261.335158  ",
      "text/html": "<div>\n<style scoped>\n    .dataframe tbody tr th:only-of-type {\n        vertical-align: middle;\n    }\n\n    .dataframe tbody tr th {\n        vertical-align: top;\n    }\n\n    .dataframe thead th {\n        text-align: right;\n    }\n</style>\n<table border=\"1\" class=\"dataframe\">\n  <thead>\n    <tr style=\"text-align: right;\">\n      <th></th>\n      <th>G</th>\n      <th>p</th>\n      <th>budget</th>\n      <th>from_cache</th>\n      <th>optimal_mip_value</th>\n    </tr>\n  </thead>\n  <tbody>\n    <tr>\n      <th>2</th>\n      <td>montgomery</td>\n      <td>0.078</td>\n      <td>600</td>\n      <td>/home/ubuntu/ContactTracing/data/SIR_Cache/tim...</td>\n      <td>60.874122</td>\n    </tr>\n    <tr>\n      <th>11</th>\n      <td>montgomery</td>\n      <td>0.078</td>\n      <td>600</td>\n      <td>/home/ubuntu/ContactTracing/data/SIR_Cache/tim...</td>\n      <td>74.677546</td>\n    </tr>\n    <tr>\n      <th>25</th>\n      <td>montgomery</td>\n      <td>0.078</td>\n      <td>600</td>\n      <td>/home/ubuntu/ContactTracing/data/SIR_Cache/tim...</td>\n      <td>242.382803</td>\n    </tr>\n    <tr>\n      <th>28</th>\n      <td>montgomery</td>\n      <td>0.078</td>\n      <td>600</td>\n      <td>/home/ubuntu/ContactTracing/data/SIR_Cache/tim...</td>\n      <td>361.245810</td>\n    </tr>\n    <tr>\n      <th>33</th>\n      <td>montgomery</td>\n      <td>0.078</td>\n      <td>600</td>\n      <td>/home/ubuntu/ContactTracing/data/SIR_Cache/tim...</td>\n      <td>261.335158</td>\n    </tr>\n  </tbody>\n</table>\n</div>"
     },
     "execution_count": 16,
     "metadata": {},
     "output_type": "execute_result"
    }
   ],
   "source": [
    "# Remove duplicates from different trials\n",
    "optimal = optimal[optimal[\"trial_id\"] == 0]\n",
    "\n",
    "# Only these 4 (\"G\", \"p\", \"budget\", \"from_cache\") are needed to uniquely identify simulation parameters\n",
    "optimal = optimal[[\"G\", \"p\", \"budget\", \"from_cache\", \"mip_value\"]]\n",
    "optimal = optimal.rename(columns={\"mip_value\": \"optimal_mip_value\"})\n",
    "\n",
    "print(len(optimal))\n",
    "optimal.head()"
   ],
   "metadata": {
    "collapsed": false,
    "pycharm": {
     "name": "#%%\n"
    }
   }
  },
  {
   "cell_type": "code",
   "execution_count": 17,
   "outputs": [],
   "source": [
    "# Merge on the aforementioned key columns\n",
    "df = df.merge(optimal, on=[\"G\", \"p\", \"budget\", \"from_cache\"])"
   ],
   "metadata": {
    "collapsed": false,
    "pycharm": {
     "name": "#%%\n"
    }
   }
  },
  {
   "cell_type": "code",
   "execution_count": 18,
   "outputs": [
    {
     "data": {
      "text/plain": "            G      p  budget  \\\n0  montgomery  0.078     600   \n1  montgomery  0.078     600   \n2  montgomery  0.078     600   \n3  montgomery  0.078     600   \n4  montgomery  0.078     600   \n\n                                          from_cache           method  \\\n0  /home/ubuntu/ContactTracing/data/SIR_Cache/tim...           random   \n1  /home/ubuntu/ContactTracing/data/SIR_Cache/tim...        dependent   \n2  /home/ubuntu/ContactTracing/data/SIR_Cache/tim...       mip_gurobi   \n3  /home/ubuntu/ContactTracing/data/SIR_Cache/tim...  greedy_weighted   \n4  /home/ubuntu/ContactTracing/data/SIR_Cache/tim...           random   \n\n   trial_id  I_size  v1_size  v2_size  num_cross_edges  maxD   mip_value  \\\n0         0    1217     6233    11135            16931    28   88.819097   \n1         0    1217     6233    11135            16931    28   61.833362   \n2         0    1217     6233    11135            16931    28   60.874122   \n3         0    1217     6233    11135            16931    28   63.834657   \n4         0    2359    25664    32967           145552    59  523.116239   \n\n   min_exposed_value  duration  v1_objective  greedy_overlap  \\\n0              114.2  0.601694    661.962407              53   \n1               85.2  0.921509    661.962407             405   \n2               77.4  1.060092    661.962407             426   \n3               81.0  0.322041    661.962407              -1   \n4             1423.6  3.947826   3733.643370              15   \n\n   optimal_mip_value  \n0          60.874122  \n1          60.874122  \n2          60.874122  \n3          60.874122  \n4         432.438811  ",
      "text/html": "<div>\n<style scoped>\n    .dataframe tbody tr th:only-of-type {\n        vertical-align: middle;\n    }\n\n    .dataframe tbody tr th {\n        vertical-align: top;\n    }\n\n    .dataframe thead th {\n        text-align: right;\n    }\n</style>\n<table border=\"1\" class=\"dataframe\">\n  <thead>\n    <tr style=\"text-align: right;\">\n      <th></th>\n      <th>G</th>\n      <th>p</th>\n      <th>budget</th>\n      <th>from_cache</th>\n      <th>method</th>\n      <th>trial_id</th>\n      <th>I_size</th>\n      <th>v1_size</th>\n      <th>v2_size</th>\n      <th>num_cross_edges</th>\n      <th>maxD</th>\n      <th>mip_value</th>\n      <th>min_exposed_value</th>\n      <th>duration</th>\n      <th>v1_objective</th>\n      <th>greedy_overlap</th>\n      <th>optimal_mip_value</th>\n    </tr>\n  </thead>\n  <tbody>\n    <tr>\n      <th>0</th>\n      <td>montgomery</td>\n      <td>0.078</td>\n      <td>600</td>\n      <td>/home/ubuntu/ContactTracing/data/SIR_Cache/tim...</td>\n      <td>random</td>\n      <td>0</td>\n      <td>1217</td>\n      <td>6233</td>\n      <td>11135</td>\n      <td>16931</td>\n      <td>28</td>\n      <td>88.819097</td>\n      <td>114.2</td>\n      <td>0.601694</td>\n      <td>661.962407</td>\n      <td>53</td>\n      <td>60.874122</td>\n    </tr>\n    <tr>\n      <th>1</th>\n      <td>montgomery</td>\n      <td>0.078</td>\n      <td>600</td>\n      <td>/home/ubuntu/ContactTracing/data/SIR_Cache/tim...</td>\n      <td>dependent</td>\n      <td>0</td>\n      <td>1217</td>\n      <td>6233</td>\n      <td>11135</td>\n      <td>16931</td>\n      <td>28</td>\n      <td>61.833362</td>\n      <td>85.2</td>\n      <td>0.921509</td>\n      <td>661.962407</td>\n      <td>405</td>\n      <td>60.874122</td>\n    </tr>\n    <tr>\n      <th>2</th>\n      <td>montgomery</td>\n      <td>0.078</td>\n      <td>600</td>\n      <td>/home/ubuntu/ContactTracing/data/SIR_Cache/tim...</td>\n      <td>mip_gurobi</td>\n      <td>0</td>\n      <td>1217</td>\n      <td>6233</td>\n      <td>11135</td>\n      <td>16931</td>\n      <td>28</td>\n      <td>60.874122</td>\n      <td>77.4</td>\n      <td>1.060092</td>\n      <td>661.962407</td>\n      <td>426</td>\n      <td>60.874122</td>\n    </tr>\n    <tr>\n      <th>3</th>\n      <td>montgomery</td>\n      <td>0.078</td>\n      <td>600</td>\n      <td>/home/ubuntu/ContactTracing/data/SIR_Cache/tim...</td>\n      <td>greedy_weighted</td>\n      <td>0</td>\n      <td>1217</td>\n      <td>6233</td>\n      <td>11135</td>\n      <td>16931</td>\n      <td>28</td>\n      <td>63.834657</td>\n      <td>81.0</td>\n      <td>0.322041</td>\n      <td>661.962407</td>\n      <td>-1</td>\n      <td>60.874122</td>\n    </tr>\n    <tr>\n      <th>4</th>\n      <td>montgomery</td>\n      <td>0.078</td>\n      <td>600</td>\n      <td>/home/ubuntu/ContactTracing/data/SIR_Cache/tim...</td>\n      <td>random</td>\n      <td>0</td>\n      <td>2359</td>\n      <td>25664</td>\n      <td>32967</td>\n      <td>145552</td>\n      <td>59</td>\n      <td>523.116239</td>\n      <td>1423.6</td>\n      <td>3.947826</td>\n      <td>3733.643370</td>\n      <td>15</td>\n      <td>432.438811</td>\n    </tr>\n  </tbody>\n</table>\n</div>"
     },
     "execution_count": 18,
     "metadata": {},
     "output_type": "execute_result"
    }
   ],
   "source": [
    "df.head()\n"
   ],
   "metadata": {
    "collapsed": false,
    "pycharm": {
     "name": "#%%\n"
    }
   }
  },
  {
   "cell_type": "code",
   "execution_count": 19,
   "outputs": [
    {
     "data": {
      "text/plain": "            G      p  budget  \\\n0  montgomery  0.078     600   \n1  montgomery  0.078     600   \n2  montgomery  0.078     600   \n3  montgomery  0.078     600   \n4  montgomery  0.078     600   \n\n                                          from_cache           method  \\\n0  /home/ubuntu/ContactTracing/data/SIR_Cache/tim...           random   \n1  /home/ubuntu/ContactTracing/data/SIR_Cache/tim...        dependent   \n2  /home/ubuntu/ContactTracing/data/SIR_Cache/tim...       mip_gurobi   \n3  /home/ubuntu/ContactTracing/data/SIR_Cache/tim...  greedy_weighted   \n4  /home/ubuntu/ContactTracing/data/SIR_Cache/tim...           random   \n\n   trial_id  I_size  v1_size  v2_size  num_cross_edges  maxD   mip_value  \\\n0         0    1217     6233    11135            16931    28   88.819097   \n1         0    1217     6233    11135            16931    28   61.833362   \n2         0    1217     6233    11135            16931    28   60.874122   \n3         0    1217     6233    11135            16931    28   63.834657   \n4         0    2359    25664    32967           145552    59  523.116239   \n\n   min_exposed_value  duration  v1_objective  greedy_overlap  \\\n0              114.2  0.601694    661.962407              53   \n1               85.2  0.921509    661.962407             405   \n2               77.4  1.060092    661.962407             426   \n3               81.0  0.322041    661.962407              -1   \n4             1423.6  3.947826   3733.643370              15   \n\n   optimal_mip_value  mip_ratio_gap  \n0          60.874122       1.459062  \n1          60.874122       1.015758  \n2          60.874122       1.000000  \n3          60.874122       1.048634  \n4         432.438811       1.209688  ",
      "text/html": "<div>\n<style scoped>\n    .dataframe tbody tr th:only-of-type {\n        vertical-align: middle;\n    }\n\n    .dataframe tbody tr th {\n        vertical-align: top;\n    }\n\n    .dataframe thead th {\n        text-align: right;\n    }\n</style>\n<table border=\"1\" class=\"dataframe\">\n  <thead>\n    <tr style=\"text-align: right;\">\n      <th></th>\n      <th>G</th>\n      <th>p</th>\n      <th>budget</th>\n      <th>from_cache</th>\n      <th>method</th>\n      <th>trial_id</th>\n      <th>I_size</th>\n      <th>v1_size</th>\n      <th>v2_size</th>\n      <th>num_cross_edges</th>\n      <th>maxD</th>\n      <th>mip_value</th>\n      <th>min_exposed_value</th>\n      <th>duration</th>\n      <th>v1_objective</th>\n      <th>greedy_overlap</th>\n      <th>optimal_mip_value</th>\n      <th>mip_ratio_gap</th>\n    </tr>\n  </thead>\n  <tbody>\n    <tr>\n      <th>0</th>\n      <td>montgomery</td>\n      <td>0.078</td>\n      <td>600</td>\n      <td>/home/ubuntu/ContactTracing/data/SIR_Cache/tim...</td>\n      <td>random</td>\n      <td>0</td>\n      <td>1217</td>\n      <td>6233</td>\n      <td>11135</td>\n      <td>16931</td>\n      <td>28</td>\n      <td>88.819097</td>\n      <td>114.2</td>\n      <td>0.601694</td>\n      <td>661.962407</td>\n      <td>53</td>\n      <td>60.874122</td>\n      <td>1.459062</td>\n    </tr>\n    <tr>\n      <th>1</th>\n      <td>montgomery</td>\n      <td>0.078</td>\n      <td>600</td>\n      <td>/home/ubuntu/ContactTracing/data/SIR_Cache/tim...</td>\n      <td>dependent</td>\n      <td>0</td>\n      <td>1217</td>\n      <td>6233</td>\n      <td>11135</td>\n      <td>16931</td>\n      <td>28</td>\n      <td>61.833362</td>\n      <td>85.2</td>\n      <td>0.921509</td>\n      <td>661.962407</td>\n      <td>405</td>\n      <td>60.874122</td>\n      <td>1.015758</td>\n    </tr>\n    <tr>\n      <th>2</th>\n      <td>montgomery</td>\n      <td>0.078</td>\n      <td>600</td>\n      <td>/home/ubuntu/ContactTracing/data/SIR_Cache/tim...</td>\n      <td>mip_gurobi</td>\n      <td>0</td>\n      <td>1217</td>\n      <td>6233</td>\n      <td>11135</td>\n      <td>16931</td>\n      <td>28</td>\n      <td>60.874122</td>\n      <td>77.4</td>\n      <td>1.060092</td>\n      <td>661.962407</td>\n      <td>426</td>\n      <td>60.874122</td>\n      <td>1.000000</td>\n    </tr>\n    <tr>\n      <th>3</th>\n      <td>montgomery</td>\n      <td>0.078</td>\n      <td>600</td>\n      <td>/home/ubuntu/ContactTracing/data/SIR_Cache/tim...</td>\n      <td>greedy_weighted</td>\n      <td>0</td>\n      <td>1217</td>\n      <td>6233</td>\n      <td>11135</td>\n      <td>16931</td>\n      <td>28</td>\n      <td>63.834657</td>\n      <td>81.0</td>\n      <td>0.322041</td>\n      <td>661.962407</td>\n      <td>-1</td>\n      <td>60.874122</td>\n      <td>1.048634</td>\n    </tr>\n    <tr>\n      <th>4</th>\n      <td>montgomery</td>\n      <td>0.078</td>\n      <td>600</td>\n      <td>/home/ubuntu/ContactTracing/data/SIR_Cache/tim...</td>\n      <td>random</td>\n      <td>0</td>\n      <td>2359</td>\n      <td>25664</td>\n      <td>32967</td>\n      <td>145552</td>\n      <td>59</td>\n      <td>523.116239</td>\n      <td>1423.6</td>\n      <td>3.947826</td>\n      <td>3733.643370</td>\n      <td>15</td>\n      <td>432.438811</td>\n      <td>1.209688</td>\n    </tr>\n  </tbody>\n</table>\n</div>"
     },
     "execution_count": 19,
     "metadata": {},
     "output_type": "execute_result"
    }
   ],
   "source": [
    "df[\"mip_ratio_gap\"] = df[\"mip_value\"] / df[\"optimal_mip_value\"]\n",
    "df.head()"
   ],
   "metadata": {
    "collapsed": false,
    "pycharm": {
     "name": "#%%\n"
    }
   }
  },
  {
   "cell_type": "code",
   "execution_count": 20,
   "outputs": [],
   "source": [
    "# Check that mip_ratio_gap >= 1 for all elements\n",
    "assert len(df[df[\"mip_ratio_gap\"] < 1]) == 0"
   ],
   "metadata": {
    "collapsed": false,
    "pycharm": {
     "name": "#%%\n"
    }
   }
  },
  {
   "cell_type": "code",
   "execution_count": 21,
   "outputs": [],
   "source": [
    "df = df.sort_values(by=['v2_size'])"
   ],
   "metadata": {
    "collapsed": false,
    "pycharm": {
     "name": "#%%\n"
    }
   }
  },
  {
   "cell_type": "code",
   "execution_count": 22,
   "outputs": [
    {
     "data": {
      "text/plain": "               G      p  budget  \\\n1356  montgomery  0.078     600   \n1357  montgomery  0.078     600   \n1358  montgomery  0.078     600   \n1359  montgomery  0.078     600   \n758   montgomery  0.078     600   \n\n                                             from_cache           method  \\\n1356  /home/ubuntu/ContactTracing/data/SIR_Cache/tim...           random   \n1357  /home/ubuntu/ContactTracing/data/SIR_Cache/tim...        dependent   \n1358  /home/ubuntu/ContactTracing/data/SIR_Cache/tim...  greedy_weighted   \n1359  /home/ubuntu/ContactTracing/data/SIR_Cache/tim...       mip_gurobi   \n758   /home/ubuntu/ContactTracing/data/SIR_Cache/tim...       mip_gurobi   \n\n      trial_id  I_size  v1_size  v2_size  num_cross_edges  maxD  mip_value  \\\n1356         0     538     2886     6427             8390    25  40.197954   \n1357         0     538     2886     6427             8390    25  21.619965   \n1358         0     538     2886     6427             8390    25  22.388281   \n1359         0     538     2886     6427             8390    25  21.503628   \n758          0     529     2808     6472             8273    23  21.620672   \n\n      min_exposed_value  duration  v1_objective  greedy_overlap  \\\n1356               50.6  0.308147    278.972063             123   \n1357               27.2  0.779478    278.972063             489   \n1358               33.0  0.017547    278.972063              -1   \n1359               26.2  0.734187    278.972063             500   \n758                26.0  0.818339    276.134672             509   \n\n      optimal_mip_value  mip_ratio_gap  \n1356          21.503628       1.869357  \n1357          21.503628       1.005410  \n1358          21.503628       1.041140  \n1359          21.503628       1.000000  \n758           21.620672       1.000000  ",
      "text/html": "<div>\n<style scoped>\n    .dataframe tbody tr th:only-of-type {\n        vertical-align: middle;\n    }\n\n    .dataframe tbody tr th {\n        vertical-align: top;\n    }\n\n    .dataframe thead th {\n        text-align: right;\n    }\n</style>\n<table border=\"1\" class=\"dataframe\">\n  <thead>\n    <tr style=\"text-align: right;\">\n      <th></th>\n      <th>G</th>\n      <th>p</th>\n      <th>budget</th>\n      <th>from_cache</th>\n      <th>method</th>\n      <th>trial_id</th>\n      <th>I_size</th>\n      <th>v1_size</th>\n      <th>v2_size</th>\n      <th>num_cross_edges</th>\n      <th>maxD</th>\n      <th>mip_value</th>\n      <th>min_exposed_value</th>\n      <th>duration</th>\n      <th>v1_objective</th>\n      <th>greedy_overlap</th>\n      <th>optimal_mip_value</th>\n      <th>mip_ratio_gap</th>\n    </tr>\n  </thead>\n  <tbody>\n    <tr>\n      <th>1356</th>\n      <td>montgomery</td>\n      <td>0.078</td>\n      <td>600</td>\n      <td>/home/ubuntu/ContactTracing/data/SIR_Cache/tim...</td>\n      <td>random</td>\n      <td>0</td>\n      <td>538</td>\n      <td>2886</td>\n      <td>6427</td>\n      <td>8390</td>\n      <td>25</td>\n      <td>40.197954</td>\n      <td>50.6</td>\n      <td>0.308147</td>\n      <td>278.972063</td>\n      <td>123</td>\n      <td>21.503628</td>\n      <td>1.869357</td>\n    </tr>\n    <tr>\n      <th>1357</th>\n      <td>montgomery</td>\n      <td>0.078</td>\n      <td>600</td>\n      <td>/home/ubuntu/ContactTracing/data/SIR_Cache/tim...</td>\n      <td>dependent</td>\n      <td>0</td>\n      <td>538</td>\n      <td>2886</td>\n      <td>6427</td>\n      <td>8390</td>\n      <td>25</td>\n      <td>21.619965</td>\n      <td>27.2</td>\n      <td>0.779478</td>\n      <td>278.972063</td>\n      <td>489</td>\n      <td>21.503628</td>\n      <td>1.005410</td>\n    </tr>\n    <tr>\n      <th>1358</th>\n      <td>montgomery</td>\n      <td>0.078</td>\n      <td>600</td>\n      <td>/home/ubuntu/ContactTracing/data/SIR_Cache/tim...</td>\n      <td>greedy_weighted</td>\n      <td>0</td>\n      <td>538</td>\n      <td>2886</td>\n      <td>6427</td>\n      <td>8390</td>\n      <td>25</td>\n      <td>22.388281</td>\n      <td>33.0</td>\n      <td>0.017547</td>\n      <td>278.972063</td>\n      <td>-1</td>\n      <td>21.503628</td>\n      <td>1.041140</td>\n    </tr>\n    <tr>\n      <th>1359</th>\n      <td>montgomery</td>\n      <td>0.078</td>\n      <td>600</td>\n      <td>/home/ubuntu/ContactTracing/data/SIR_Cache/tim...</td>\n      <td>mip_gurobi</td>\n      <td>0</td>\n      <td>538</td>\n      <td>2886</td>\n      <td>6427</td>\n      <td>8390</td>\n      <td>25</td>\n      <td>21.503628</td>\n      <td>26.2</td>\n      <td>0.734187</td>\n      <td>278.972063</td>\n      <td>500</td>\n      <td>21.503628</td>\n      <td>1.000000</td>\n    </tr>\n    <tr>\n      <th>758</th>\n      <td>montgomery</td>\n      <td>0.078</td>\n      <td>600</td>\n      <td>/home/ubuntu/ContactTracing/data/SIR_Cache/tim...</td>\n      <td>mip_gurobi</td>\n      <td>0</td>\n      <td>529</td>\n      <td>2808</td>\n      <td>6472</td>\n      <td>8273</td>\n      <td>23</td>\n      <td>21.620672</td>\n      <td>26.0</td>\n      <td>0.818339</td>\n      <td>276.134672</td>\n      <td>509</td>\n      <td>21.620672</td>\n      <td>1.000000</td>\n    </tr>\n  </tbody>\n</table>\n</div>"
     },
     "execution_count": 22,
     "metadata": {},
     "output_type": "execute_result"
    }
   ],
   "source": [
    "dfk = [df[df[\"budget\"] == x] for x in range(600, 1201, 100)]\n",
    "dfk[0].head()"
   ],
   "metadata": {
    "collapsed": false,
    "pycharm": {
     "name": "#%%\n"
    }
   }
  },
  {
   "cell_type": "code",
   "execution_count": 23,
   "outputs": [],
   "source": [
    "# Create an column that splits dataset into n groups\n",
    "num_splits = 4\n",
    "col = []\n",
    "for i in range(num_splits):\n",
    "    col += [i] * int(len(df) / num_splits)\n",
    "df[\"v2_id\"] = col"
   ],
   "metadata": {
    "collapsed": false,
    "pycharm": {
     "name": "#%%\n"
    }
   }
  },
  {
   "cell_type": "code",
   "execution_count": 33,
   "outputs": [
    {
     "data": {
      "text/plain": "               G      p  budget  \\\n6159  montgomery  0.078     900   \n9357  montgomery  0.078    1100   \n9356  montgomery  0.078    1100   \n6158  montgomery  0.078     900   \n6157  montgomery  0.078     900   \n\n                                             from_cache      method  trial_id  \\\n6159  /home/ubuntu/ContactTracing/data/SIR_Cache/tim...   dependent         0   \n9357  /home/ubuntu/ContactTracing/data/SIR_Cache/tim...   dependent         0   \n9356  /home/ubuntu/ContactTracing/data/SIR_Cache/tim...      random         0   \n6158  /home/ubuntu/ContactTracing/data/SIR_Cache/tim...  mip_gurobi         0   \n6157  /home/ubuntu/ContactTracing/data/SIR_Cache/tim...      random         0   \n\n      I_size  v1_size  v2_size  num_cross_edges  maxD  mip_value  \\\n6159     538     2886     6427             8390    25  14.974574   \n9357     538     2886     6427             8390    25  11.312337   \n9356     538     2886     6427             8390    25  32.454532   \n6158     538     2886     6427             8390    25  14.893481   \n6157     538     2886     6427             8390    25  35.761233   \n\n      min_exposed_value  duration  v1_objective  greedy_overlap  \\\n6159               18.0  0.483384    278.972063             767   \n9357               13.8  0.431276    278.972063             978   \n9356               40.4  0.718345    278.972063             414   \n6158               16.8  0.402228    278.972063             792   \n6157               45.6  0.313535    278.972063             285   \n\n      optimal_mip_value  mip_ratio_gap  v2_id  \n6159          14.893481       1.005445      0  \n9357          11.271384       1.003633      0  \n9356          11.271384       2.879374      0  \n6158          14.893481       1.000000      0  \n6157          14.893481       2.401133      0  ",
      "text/html": "<div>\n<style scoped>\n    .dataframe tbody tr th:only-of-type {\n        vertical-align: middle;\n    }\n\n    .dataframe tbody tr th {\n        vertical-align: top;\n    }\n\n    .dataframe thead th {\n        text-align: right;\n    }\n</style>\n<table border=\"1\" class=\"dataframe\">\n  <thead>\n    <tr style=\"text-align: right;\">\n      <th></th>\n      <th>G</th>\n      <th>p</th>\n      <th>budget</th>\n      <th>from_cache</th>\n      <th>method</th>\n      <th>trial_id</th>\n      <th>I_size</th>\n      <th>v1_size</th>\n      <th>v2_size</th>\n      <th>num_cross_edges</th>\n      <th>maxD</th>\n      <th>mip_value</th>\n      <th>min_exposed_value</th>\n      <th>duration</th>\n      <th>v1_objective</th>\n      <th>greedy_overlap</th>\n      <th>optimal_mip_value</th>\n      <th>mip_ratio_gap</th>\n      <th>v2_id</th>\n    </tr>\n  </thead>\n  <tbody>\n    <tr>\n      <th>6159</th>\n      <td>montgomery</td>\n      <td>0.078</td>\n      <td>900</td>\n      <td>/home/ubuntu/ContactTracing/data/SIR_Cache/tim...</td>\n      <td>dependent</td>\n      <td>0</td>\n      <td>538</td>\n      <td>2886</td>\n      <td>6427</td>\n      <td>8390</td>\n      <td>25</td>\n      <td>14.974574</td>\n      <td>18.0</td>\n      <td>0.483384</td>\n      <td>278.972063</td>\n      <td>767</td>\n      <td>14.893481</td>\n      <td>1.005445</td>\n      <td>0</td>\n    </tr>\n    <tr>\n      <th>9357</th>\n      <td>montgomery</td>\n      <td>0.078</td>\n      <td>1100</td>\n      <td>/home/ubuntu/ContactTracing/data/SIR_Cache/tim...</td>\n      <td>dependent</td>\n      <td>0</td>\n      <td>538</td>\n      <td>2886</td>\n      <td>6427</td>\n      <td>8390</td>\n      <td>25</td>\n      <td>11.312337</td>\n      <td>13.8</td>\n      <td>0.431276</td>\n      <td>278.972063</td>\n      <td>978</td>\n      <td>11.271384</td>\n      <td>1.003633</td>\n      <td>0</td>\n    </tr>\n    <tr>\n      <th>9356</th>\n      <td>montgomery</td>\n      <td>0.078</td>\n      <td>1100</td>\n      <td>/home/ubuntu/ContactTracing/data/SIR_Cache/tim...</td>\n      <td>random</td>\n      <td>0</td>\n      <td>538</td>\n      <td>2886</td>\n      <td>6427</td>\n      <td>8390</td>\n      <td>25</td>\n      <td>32.454532</td>\n      <td>40.4</td>\n      <td>0.718345</td>\n      <td>278.972063</td>\n      <td>414</td>\n      <td>11.271384</td>\n      <td>2.879374</td>\n      <td>0</td>\n    </tr>\n    <tr>\n      <th>6158</th>\n      <td>montgomery</td>\n      <td>0.078</td>\n      <td>900</td>\n      <td>/home/ubuntu/ContactTracing/data/SIR_Cache/tim...</td>\n      <td>mip_gurobi</td>\n      <td>0</td>\n      <td>538</td>\n      <td>2886</td>\n      <td>6427</td>\n      <td>8390</td>\n      <td>25</td>\n      <td>14.893481</td>\n      <td>16.8</td>\n      <td>0.402228</td>\n      <td>278.972063</td>\n      <td>792</td>\n      <td>14.893481</td>\n      <td>1.000000</td>\n      <td>0</td>\n    </tr>\n    <tr>\n      <th>6157</th>\n      <td>montgomery</td>\n      <td>0.078</td>\n      <td>900</td>\n      <td>/home/ubuntu/ContactTracing/data/SIR_Cache/tim...</td>\n      <td>random</td>\n      <td>0</td>\n      <td>538</td>\n      <td>2886</td>\n      <td>6427</td>\n      <td>8390</td>\n      <td>25</td>\n      <td>35.761233</td>\n      <td>45.6</td>\n      <td>0.313535</td>\n      <td>278.972063</td>\n      <td>285</td>\n      <td>14.893481</td>\n      <td>2.401133</td>\n      <td>0</td>\n    </tr>\n  </tbody>\n</table>\n</div>"
     },
     "execution_count": 33,
     "metadata": {},
     "output_type": "execute_result"
    }
   ],
   "source": [
    "df.head()"
   ],
   "metadata": {
    "collapsed": false,
    "pycharm": {
     "name": "#%%\n"
    }
   }
  },
  {
   "cell_type": "code",
   "execution_count": 113,
   "outputs": [],
   "source": [
    "dp = pd.pivot_table(df, values=[\"mip_ratio_gap\", \"min_exposed_value\", \"duration\"], index=[\"method\"], columns=[\"v2_id\", \"budget\"], aggfunc=[\"mean\", \"max\"])#%%\n",
    "\n",
    "dp = dp.stack(0).stack(0)"
   ],
   "metadata": {
    "collapsed": false,
    "pycharm": {
     "name": "#%%\n"
    }
   }
  },
  {
   "cell_type": "code",
   "execution_count": 114,
   "outputs": [
    {
     "data": {
      "text/plain": "budget                                  600                            \\\nv2_id                                      0           1            2   \nmethod                                                                  \ndependent max  duration             3.781748    8.078604    21.699885   \n               min_exposed_value  238.400000  619.200000  1265.400000   \n               mip_ratio_gap        1.038041    1.040865     1.051145   \n          mean duration             1.830577    4.307887     9.824833   \n               min_exposed_value  104.830000  382.268000   955.120000   \n\nbudget                                               700               \\\nv2_id                                       3           0           1   \nmethod                                                                  \ndependent max  duration             45.945911    5.258072    7.968174   \n               min_exposed_value  1314.200000  230.200000  606.000000   \n               mip_ratio_gap         1.077680    1.043510    1.045796   \n          mean duration             17.348564    1.838484    4.362849   \n               min_exposed_value  1017.812000  100.642000  376.536000   \n\nbudget                                                            800   \\\nv2_id                                       2            3           0   \nmethod                                                                   \ndependent max  duration             20.251029    50.380835    4.597445   \n               min_exposed_value  1245.400000  1305.600000  229.600000   \n               mip_ratio_gap         1.057797     1.085760    1.045829   \n          mean duration             10.246147    18.092837    1.909075   \n               min_exposed_value   942.026000   995.948000   95.670000   \n\nbudget                                        ...         1000               \\\nv2_id                                      1  ...            2            3   \nmethod                                        ...                             \ndependent max  duration             8.855141  ...    22.437100    60.053831   \n               min_exposed_value  604.400000  ...  1210.600000  1255.600000   \n               mip_ratio_gap        1.049818  ...     1.078036     1.112191   \n          mean duration             4.649197  ...    11.783890    20.724335   \n               min_exposed_value  367.842000  ...   907.964000   946.074000   \n\nbudget                                  1100                           \\\nv2_id                                      0           1            2   \nmethod                                                                  \ndependent max  duration             6.465027    9.106422    23.110142   \n               min_exposed_value  207.200000  559.000000  1203.400000   \n               mip_ratio_gap        1.058801    1.061818     1.078374   \n          mean duration             2.155966    5.093305    12.346172   \n               min_exposed_value   84.444000  347.998000   896.130000   \n\nbudget                                               1200              \\\nv2_id                                       3           0           1   \nmethod                                                                  \ndependent max  duration             57.725062    5.293113    9.956282   \n               min_exposed_value  1225.200000  210.200000  559.000000   \n               mip_ratio_gap         1.115501    1.061937    1.063669   \n          mean duration             21.768375    2.183478    5.250280   \n               min_exposed_value   931.472000   80.264000  340.568000   \n\nbudget                                                      \nv2_id                                       2            3  \nmethod                                                      \ndependent max  duration             24.713740    57.852050  \n               min_exposed_value  1192.400000  1219.000000  \n               mip_ratio_gap         1.082586     1.131799  \n          mean duration             12.976372    23.238314  \n               min_exposed_value   881.812000   917.514000  \n\n[5 rows x 28 columns]",
      "text/html": "<div>\n<style scoped>\n    .dataframe tbody tr th:only-of-type {\n        vertical-align: middle;\n    }\n\n    .dataframe tbody tr th {\n        vertical-align: top;\n    }\n\n    .dataframe thead tr th {\n        text-align: left;\n    }\n\n    .dataframe thead tr:last-of-type th {\n        text-align: right;\n    }\n</style>\n<table border=\"1\" class=\"dataframe\">\n  <thead>\n    <tr>\n      <th></th>\n      <th></th>\n      <th>budget</th>\n      <th colspan=\"4\" halign=\"left\">600</th>\n      <th colspan=\"4\" halign=\"left\">700</th>\n      <th colspan=\"2\" halign=\"left\">800</th>\n      <th>...</th>\n      <th colspan=\"2\" halign=\"left\">1000</th>\n      <th colspan=\"4\" halign=\"left\">1100</th>\n      <th colspan=\"4\" halign=\"left\">1200</th>\n    </tr>\n    <tr>\n      <th></th>\n      <th></th>\n      <th>v2_id</th>\n      <th>0</th>\n      <th>1</th>\n      <th>2</th>\n      <th>3</th>\n      <th>0</th>\n      <th>1</th>\n      <th>2</th>\n      <th>3</th>\n      <th>0</th>\n      <th>1</th>\n      <th>...</th>\n      <th>2</th>\n      <th>3</th>\n      <th>0</th>\n      <th>1</th>\n      <th>2</th>\n      <th>3</th>\n      <th>0</th>\n      <th>1</th>\n      <th>2</th>\n      <th>3</th>\n    </tr>\n    <tr>\n      <th>method</th>\n      <th></th>\n      <th></th>\n      <th></th>\n      <th></th>\n      <th></th>\n      <th></th>\n      <th></th>\n      <th></th>\n      <th></th>\n      <th></th>\n      <th></th>\n      <th></th>\n      <th></th>\n      <th></th>\n      <th></th>\n      <th></th>\n      <th></th>\n      <th></th>\n      <th></th>\n      <th></th>\n      <th></th>\n      <th></th>\n      <th></th>\n    </tr>\n  </thead>\n  <tbody>\n    <tr>\n      <th rowspan=\"5\" valign=\"top\">dependent</th>\n      <th rowspan=\"3\" valign=\"top\">max</th>\n      <th>duration</th>\n      <td>3.781748</td>\n      <td>8.078604</td>\n      <td>21.699885</td>\n      <td>45.945911</td>\n      <td>5.258072</td>\n      <td>7.968174</td>\n      <td>20.251029</td>\n      <td>50.380835</td>\n      <td>4.597445</td>\n      <td>8.855141</td>\n      <td>...</td>\n      <td>22.437100</td>\n      <td>60.053831</td>\n      <td>6.465027</td>\n      <td>9.106422</td>\n      <td>23.110142</td>\n      <td>57.725062</td>\n      <td>5.293113</td>\n      <td>9.956282</td>\n      <td>24.713740</td>\n      <td>57.852050</td>\n    </tr>\n    <tr>\n      <th>min_exposed_value</th>\n      <td>238.400000</td>\n      <td>619.200000</td>\n      <td>1265.400000</td>\n      <td>1314.200000</td>\n      <td>230.200000</td>\n      <td>606.000000</td>\n      <td>1245.400000</td>\n      <td>1305.600000</td>\n      <td>229.600000</td>\n      <td>604.400000</td>\n      <td>...</td>\n      <td>1210.600000</td>\n      <td>1255.600000</td>\n      <td>207.200000</td>\n      <td>559.000000</td>\n      <td>1203.400000</td>\n      <td>1225.200000</td>\n      <td>210.200000</td>\n      <td>559.000000</td>\n      <td>1192.400000</td>\n      <td>1219.000000</td>\n    </tr>\n    <tr>\n      <th>mip_ratio_gap</th>\n      <td>1.038041</td>\n      <td>1.040865</td>\n      <td>1.051145</td>\n      <td>1.077680</td>\n      <td>1.043510</td>\n      <td>1.045796</td>\n      <td>1.057797</td>\n      <td>1.085760</td>\n      <td>1.045829</td>\n      <td>1.049818</td>\n      <td>...</td>\n      <td>1.078036</td>\n      <td>1.112191</td>\n      <td>1.058801</td>\n      <td>1.061818</td>\n      <td>1.078374</td>\n      <td>1.115501</td>\n      <td>1.061937</td>\n      <td>1.063669</td>\n      <td>1.082586</td>\n      <td>1.131799</td>\n    </tr>\n    <tr>\n      <th rowspan=\"2\" valign=\"top\">mean</th>\n      <th>duration</th>\n      <td>1.830577</td>\n      <td>4.307887</td>\n      <td>9.824833</td>\n      <td>17.348564</td>\n      <td>1.838484</td>\n      <td>4.362849</td>\n      <td>10.246147</td>\n      <td>18.092837</td>\n      <td>1.909075</td>\n      <td>4.649197</td>\n      <td>...</td>\n      <td>11.783890</td>\n      <td>20.724335</td>\n      <td>2.155966</td>\n      <td>5.093305</td>\n      <td>12.346172</td>\n      <td>21.768375</td>\n      <td>2.183478</td>\n      <td>5.250280</td>\n      <td>12.976372</td>\n      <td>23.238314</td>\n    </tr>\n    <tr>\n      <th>min_exposed_value</th>\n      <td>104.830000</td>\n      <td>382.268000</td>\n      <td>955.120000</td>\n      <td>1017.812000</td>\n      <td>100.642000</td>\n      <td>376.536000</td>\n      <td>942.026000</td>\n      <td>995.948000</td>\n      <td>95.670000</td>\n      <td>367.842000</td>\n      <td>...</td>\n      <td>907.964000</td>\n      <td>946.074000</td>\n      <td>84.444000</td>\n      <td>347.998000</td>\n      <td>896.130000</td>\n      <td>931.472000</td>\n      <td>80.264000</td>\n      <td>340.568000</td>\n      <td>881.812000</td>\n      <td>917.514000</td>\n    </tr>\n  </tbody>\n</table>\n<p>5 rows × 28 columns</p>\n</div>"
     },
     "execution_count": 114,
     "metadata": {},
     "output_type": "execute_result"
    }
   ],
   "source": [
    "dp = dp.reorder_levels([1, 0], 1)\n",
    "dp = dp.sort_index(1)\n",
    "dp.head()"
   ],
   "metadata": {
    "collapsed": false,
    "pycharm": {
     "name": "#%%\n"
    }
   }
  },
  {
   "cell_type": "code",
   "execution_count": 115,
   "outputs": [],
   "source": [
    "dp = dp.reorder_levels([0, 2, 1], 0)"
   ],
   "metadata": {
    "collapsed": false,
    "pycharm": {
     "name": "#%%\n"
    }
   }
  },
  {
   "cell_type": "code",
   "execution_count": 116,
   "outputs": [],
   "source": [
    "dp = dp.sort_index(axis=0)"
   ],
   "metadata": {
    "collapsed": false,
    "pycharm": {
     "name": "#%%\n"
    }
   }
  },
  {
   "cell_type": "code",
   "execution_count": 121,
   "outputs": [
    {
     "data": {
      "text/plain": "v2_id                                            0           1            2  \\\nmethod                                                                        \ndependent       duration          max     3.781748    8.078604    21.699885   \n                                  mean    1.830577    4.307887     9.824833   \n                min_exposed_value max   238.400000  619.200000  1265.400000   \n                                  mean  104.830000  382.268000   955.120000   \n                mip_ratio_gap     max     1.038041    1.040865     1.051145   \n                                  mean    1.021244    1.032441     1.038486   \ngreedy_weighted duration          max     1.560015    1.139389     1.400481   \n                                  mean    0.165830    0.398125     0.687424   \n                min_exposed_value max   225.000000  599.400000  1210.800000   \n                                  mean   99.064000  363.586000   906.338000   \n                mip_ratio_gap     max     1.068697    1.054712     1.057458   \n                                  mean    1.048383    1.046317     1.046540   \nmip_gurobi      duration          max     6.737597   18.084417    45.786172   \n                                  mean    2.394247    8.422776    20.841729   \n                min_exposed_value max   243.000000  608.600000  1241.000000   \n                                  mean  103.320000  376.374000   937.890000   \n                mip_ratio_gap     max     1.000000    1.000000     1.000000   \n                                  mean    1.000000    1.000000     1.000000   \nrandom          duration          max     2.924506    5.877657     7.391596   \n                                  mean    1.269207    2.924833     4.780821   \n                min_exposed_value max   297.200000  698.800000  1401.200000   \n                                  mean  139.016000  441.870000  1054.732000   \n                mip_ratio_gap     max     1.869357    1.301130     1.204788   \n                                  mean    1.467377    1.228974     1.174950   \n\nv2_id                                             3  \nmethod                                               \ndependent       duration          max     45.945911  \n                                  mean    17.348564  \n                min_exposed_value max   1314.200000  \n                                  mean  1017.812000  \n                mip_ratio_gap     max      1.077680  \n                                  mean     1.057720  \ngreedy_weighted duration          max      2.001919  \n                                  mean     0.482665  \n                min_exposed_value max   1238.000000  \n                                  mean   965.442000  \n                mip_ratio_gap     max      1.062014  \n                                  mean     1.041912  \nmip_gurobi      duration          max     62.091209  \n                                  mean    33.921642  \n                min_exposed_value max   1273.000000  \n                                  mean   993.028000  \n                mip_ratio_gap     max      1.000000  \n                                  mean     1.000000  \nrandom          duration          max     13.162880  \n                                  mean     5.487362  \n                min_exposed_value max   1507.000000  \n                                  mean  1166.488000  \n                mip_ratio_gap     max      1.454691  \n                                  mean     1.289964  ",
      "text/html": "<div>\n<style scoped>\n    .dataframe tbody tr th:only-of-type {\n        vertical-align: middle;\n    }\n\n    .dataframe tbody tr th {\n        vertical-align: top;\n    }\n\n    .dataframe thead th {\n        text-align: right;\n    }\n</style>\n<table border=\"1\" class=\"dataframe\">\n  <thead>\n    <tr style=\"text-align: right;\">\n      <th></th>\n      <th></th>\n      <th>v2_id</th>\n      <th>0</th>\n      <th>1</th>\n      <th>2</th>\n      <th>3</th>\n    </tr>\n    <tr>\n      <th>method</th>\n      <th></th>\n      <th></th>\n      <th></th>\n      <th></th>\n      <th></th>\n      <th></th>\n    </tr>\n  </thead>\n  <tbody>\n    <tr>\n      <th rowspan=\"6\" valign=\"top\">dependent</th>\n      <th rowspan=\"2\" valign=\"top\">duration</th>\n      <th>max</th>\n      <td>3.781748</td>\n      <td>8.078604</td>\n      <td>21.699885</td>\n      <td>45.945911</td>\n    </tr>\n    <tr>\n      <th>mean</th>\n      <td>1.830577</td>\n      <td>4.307887</td>\n      <td>9.824833</td>\n      <td>17.348564</td>\n    </tr>\n    <tr>\n      <th rowspan=\"2\" valign=\"top\">min_exposed_value</th>\n      <th>max</th>\n      <td>238.400000</td>\n      <td>619.200000</td>\n      <td>1265.400000</td>\n      <td>1314.200000</td>\n    </tr>\n    <tr>\n      <th>mean</th>\n      <td>104.830000</td>\n      <td>382.268000</td>\n      <td>955.120000</td>\n      <td>1017.812000</td>\n    </tr>\n    <tr>\n      <th rowspan=\"2\" valign=\"top\">mip_ratio_gap</th>\n      <th>max</th>\n      <td>1.038041</td>\n      <td>1.040865</td>\n      <td>1.051145</td>\n      <td>1.077680</td>\n    </tr>\n    <tr>\n      <th>mean</th>\n      <td>1.021244</td>\n      <td>1.032441</td>\n      <td>1.038486</td>\n      <td>1.057720</td>\n    </tr>\n    <tr>\n      <th rowspan=\"6\" valign=\"top\">greedy_weighted</th>\n      <th rowspan=\"2\" valign=\"top\">duration</th>\n      <th>max</th>\n      <td>1.560015</td>\n      <td>1.139389</td>\n      <td>1.400481</td>\n      <td>2.001919</td>\n    </tr>\n    <tr>\n      <th>mean</th>\n      <td>0.165830</td>\n      <td>0.398125</td>\n      <td>0.687424</td>\n      <td>0.482665</td>\n    </tr>\n    <tr>\n      <th rowspan=\"2\" valign=\"top\">min_exposed_value</th>\n      <th>max</th>\n      <td>225.000000</td>\n      <td>599.400000</td>\n      <td>1210.800000</td>\n      <td>1238.000000</td>\n    </tr>\n    <tr>\n      <th>mean</th>\n      <td>99.064000</td>\n      <td>363.586000</td>\n      <td>906.338000</td>\n      <td>965.442000</td>\n    </tr>\n    <tr>\n      <th rowspan=\"2\" valign=\"top\">mip_ratio_gap</th>\n      <th>max</th>\n      <td>1.068697</td>\n      <td>1.054712</td>\n      <td>1.057458</td>\n      <td>1.062014</td>\n    </tr>\n    <tr>\n      <th>mean</th>\n      <td>1.048383</td>\n      <td>1.046317</td>\n      <td>1.046540</td>\n      <td>1.041912</td>\n    </tr>\n    <tr>\n      <th rowspan=\"6\" valign=\"top\">mip_gurobi</th>\n      <th rowspan=\"2\" valign=\"top\">duration</th>\n      <th>max</th>\n      <td>6.737597</td>\n      <td>18.084417</td>\n      <td>45.786172</td>\n      <td>62.091209</td>\n    </tr>\n    <tr>\n      <th>mean</th>\n      <td>2.394247</td>\n      <td>8.422776</td>\n      <td>20.841729</td>\n      <td>33.921642</td>\n    </tr>\n    <tr>\n      <th rowspan=\"2\" valign=\"top\">min_exposed_value</th>\n      <th>max</th>\n      <td>243.000000</td>\n      <td>608.600000</td>\n      <td>1241.000000</td>\n      <td>1273.000000</td>\n    </tr>\n    <tr>\n      <th>mean</th>\n      <td>103.320000</td>\n      <td>376.374000</td>\n      <td>937.890000</td>\n      <td>993.028000</td>\n    </tr>\n    <tr>\n      <th rowspan=\"2\" valign=\"top\">mip_ratio_gap</th>\n      <th>max</th>\n      <td>1.000000</td>\n      <td>1.000000</td>\n      <td>1.000000</td>\n      <td>1.000000</td>\n    </tr>\n    <tr>\n      <th>mean</th>\n      <td>1.000000</td>\n      <td>1.000000</td>\n      <td>1.000000</td>\n      <td>1.000000</td>\n    </tr>\n    <tr>\n      <th rowspan=\"6\" valign=\"top\">random</th>\n      <th rowspan=\"2\" valign=\"top\">duration</th>\n      <th>max</th>\n      <td>2.924506</td>\n      <td>5.877657</td>\n      <td>7.391596</td>\n      <td>13.162880</td>\n    </tr>\n    <tr>\n      <th>mean</th>\n      <td>1.269207</td>\n      <td>2.924833</td>\n      <td>4.780821</td>\n      <td>5.487362</td>\n    </tr>\n    <tr>\n      <th rowspan=\"2\" valign=\"top\">min_exposed_value</th>\n      <th>max</th>\n      <td>297.200000</td>\n      <td>698.800000</td>\n      <td>1401.200000</td>\n      <td>1507.000000</td>\n    </tr>\n    <tr>\n      <th>mean</th>\n      <td>139.016000</td>\n      <td>441.870000</td>\n      <td>1054.732000</td>\n      <td>1166.488000</td>\n    </tr>\n    <tr>\n      <th rowspan=\"2\" valign=\"top\">mip_ratio_gap</th>\n      <th>max</th>\n      <td>1.869357</td>\n      <td>1.301130</td>\n      <td>1.204788</td>\n      <td>1.454691</td>\n    </tr>\n    <tr>\n      <th>mean</th>\n      <td>1.467377</td>\n      <td>1.228974</td>\n      <td>1.174950</td>\n      <td>1.289964</td>\n    </tr>\n  </tbody>\n</table>\n</div>"
     },
     "execution_count": 121,
     "metadata": {},
     "output_type": "execute_result"
    }
   ],
   "source": [
    "dp600 = dp[600]\n",
    "dp600"
   ],
   "metadata": {
    "collapsed": false,
    "pycharm": {
     "name": "#%%\n"
    }
   }
  },
  {
   "cell_type": "code",
   "execution_count": 130,
   "outputs": [],
   "source": [
    "dp = dp.drop(\"mip_gurobi\")\n",
    "dp = dp.drop((\"random\", \"duration\"))"
   ],
   "metadata": {
    "collapsed": false,
    "pycharm": {
     "name": "#%%\n"
    }
   }
  },
  {
   "cell_type": "code",
   "execution_count": 165,
   "outputs": [],
   "source": [
    "dp.index.names = [\"method\", \"statistic\", \"aggregation\"]\n",
    "dp = dp.round(3)"
   ],
   "metadata": {
    "collapsed": false,
    "pycharm": {
     "name": "#%%\n"
    }
   }
  },
  {
   "cell_type": "code",
   "execution_count": 166,
   "outputs": [
    {
     "data": {
      "text/plain": "budget                                            600                      \\\nv2_id                                                0        1         2   \nmethod          statistic         aggregation                               \ndependent       duration          max            3.782    8.079    21.700   \n                                  mean           1.831    4.308     9.825   \n                min_exposed_value max          238.400  619.200  1265.400   \n                                  mean         104.830  382.268   955.120   \n                mip_ratio_gap     max            1.038    1.041     1.051   \n                                  mean           1.021    1.032     1.038   \ngreedy_weighted duration          max            1.560    1.139     1.400   \n                                  mean           0.166    0.398     0.687   \n                min_exposed_value max          225.000  599.400  1210.800   \n                                  mean          99.064  363.586   906.338   \n                mip_ratio_gap     max            1.069    1.055     1.057   \n                                  mean           1.048    1.046     1.047   \nrandom          min_exposed_value max          297.200  698.800  1401.200   \n                                  mean         139.016  441.870  1054.732   \n                mip_ratio_gap     max            1.869    1.301     1.205   \n                                  mean           1.467    1.229     1.175   \n\nbudget                                                      700            \\\nv2_id                                                 3        0        1   \nmethod          statistic         aggregation                               \ndependent       duration          max            45.946    5.258    7.968   \n                                  mean           17.349    1.838    4.363   \n                min_exposed_value max          1314.200  230.200  606.000   \n                                  mean         1017.812  100.642  376.536   \n                mip_ratio_gap     max             1.078    1.044    1.046   \n                                  mean            1.058    1.023    1.037   \ngreedy_weighted duration          max             2.002    1.043    1.321   \n                                  mean            0.483    0.119    0.463   \n                min_exposed_value max          1238.000  216.600  557.800   \n                                  mean          965.442   94.500  353.500   \n                mip_ratio_gap     max             1.062    1.077    1.063   \n                                  mean            1.042    1.052    1.052   \nrandom          min_exposed_value max          1507.000  292.400  674.800   \n                                  mean         1166.488  136.262  440.188   \n                mip_ratio_gap     max             1.455    2.055    1.346   \n                                  mean            1.290    1.537    1.258   \n\nbudget                                                                800   \\\nv2_id                                                 2         3        0   \nmethod          statistic         aggregation                                \ndependent       duration          max            20.251    50.381    4.597   \n                                  mean           10.246    18.093    1.909   \n                min_exposed_value max          1245.400  1305.600  229.600   \n                                  mean          942.026   995.948   95.670   \n                mip_ratio_gap     max             1.058     1.086    1.046   \n                                  mean            1.043     1.066    1.024   \ngreedy_weighted duration          max             1.696     2.143    1.084   \n                                  mean            0.699     0.507    0.171   \n                min_exposed_value max          1216.600  1221.000  211.200   \n                                  mean          888.452   936.704   89.584   \n                mip_ratio_gap     max             1.063     1.078    1.071   \n                                  mean            1.052     1.049    1.056   \nrandom          min_exposed_value max          1406.000  1470.800  291.400   \n                                  mean         1050.316  1158.316  133.954   \n                mip_ratio_gap     max             1.228     1.498    2.151   \n                                  mean            1.196     1.322    1.610   \n\nbudget                                                  ...      1000  \\\nv2_id                                                1  ...         2   \nmethod          statistic         aggregation           ...             \ndependent       duration          max            8.855  ...    22.437   \n                                  mean           4.649  ...    11.784   \n                min_exposed_value max          604.400  ...  1210.600   \n                                  mean         367.842  ...   907.964   \n                mip_ratio_gap     max            1.050  ...     1.078   \n                                  mean           1.041  ...     1.056   \ngreedy_weighted duration          max            1.521  ...     2.302   \n                                  mean           0.437  ...     0.764   \n                min_exposed_value max          537.600  ...  1126.200   \n                                  mean         342.650  ...   835.564   \n                mip_ratio_gap     max            1.065  ...     1.076   \n                                  mean           1.056  ...     1.068   \nrandom          min_exposed_value max          677.000  ...  1378.400   \n                                  mean         438.948  ...  1042.500   \n                mip_ratio_gap     max            1.374  ...     1.289   \n                                  mean           1.287  ...     1.256   \n\nbudget                                                      1100           \\\nv2_id                                                 3        0        1   \nmethod          statistic         aggregation                               \ndependent       duration          max            60.054    6.465    9.106   \n                                  mean           20.724    2.156    5.093   \n                min_exposed_value max          1255.600  207.200  559.000   \n                                  mean          946.074   84.444  347.998   \n                mip_ratio_gap     max             1.112    1.059    1.062   \n                                  mean            1.085    1.026    1.051   \ngreedy_weighted duration          max             1.883    1.525    1.541   \n                                  mean            0.604    0.146    0.456   \n                min_exposed_value max          1153.400  193.600  524.800   \n                                  mean          871.004   76.650  319.716   \n                mip_ratio_gap     max             1.116    1.093    1.082   \n                                  mean            1.070    1.067    1.068   \nrandom          min_exposed_value max          1458.000  284.600  678.400   \n                                  mean         1132.392  128.440  433.142   \n                mip_ratio_gap     max             1.636    2.920    1.489   \n                                  mean            1.413    1.850    1.371   \n\nbudget                                                                1200  \\\nv2_id                                                 2         3        0   \nmethod          statistic         aggregation                                \ndependent       duration          max            23.110    57.725    5.293   \n                                  mean           12.346    21.768    2.183   \n                min_exposed_value max          1203.400  1225.200  210.200   \n                                  mean          896.130   931.472   80.264   \n                mip_ratio_gap     max             1.078     1.116    1.062   \n                                  mean            1.060     1.090    1.027   \ngreedy_weighted duration          max             2.138     1.545    1.341   \n                                  mean            0.724     0.535    0.201   \n                min_exposed_value max          1105.200  1113.400  182.200   \n                                  mean          819.286   852.166   73.544   \n                mip_ratio_gap     max             1.082     1.119    1.086   \n                                  mean            1.072     1.078    1.071   \nrandom          min_exposed_value max          1391.600  1439.600  280.400   \n                                  mean         1039.950  1126.418  125.342   \n                mip_ratio_gap     max             1.316     1.696    3.143   \n                                  mean            1.275     1.443    1.944   \n\nbudget                                                                      \nv2_id                                                1         2         3  \nmethod          statistic         aggregation                               \ndependent       duration          max            9.956    24.714    57.852  \n                                  mean           5.250    12.976    23.238  \n                min_exposed_value max          559.000  1192.400  1219.000  \n                                  mean         340.568   881.812   917.514  \n                mip_ratio_gap     max            1.064     1.083     1.132  \n                                  mean           1.056     1.064     1.095  \ngreedy_weighted duration          max            1.259     1.852     2.154  \n                                  mean           0.478     0.795     0.552  \n                min_exposed_value max          512.800  1080.200  1129.000  \n                                  mean         311.400   807.806   829.594  \n                mip_ratio_gap     max            1.087     1.088     1.128  \n                                  mean           1.073     1.076     1.085  \nrandom          min_exposed_value max          673.200  1370.200  1436.600  \n                                  mean         429.826  1036.230  1119.458  \n                mip_ratio_gap     max            1.527     1.332     1.751  \n                                  mean           1.399     1.294     1.471  \n\n[16 rows x 28 columns]",
      "text/html": "<div>\n<style scoped>\n    .dataframe tbody tr th:only-of-type {\n        vertical-align: middle;\n    }\n\n    .dataframe tbody tr th {\n        vertical-align: top;\n    }\n\n    .dataframe thead tr th {\n        text-align: left;\n    }\n\n    .dataframe thead tr:last-of-type th {\n        text-align: right;\n    }\n</style>\n<table border=\"1\" class=\"dataframe\">\n  <thead>\n    <tr>\n      <th></th>\n      <th></th>\n      <th>budget</th>\n      <th colspan=\"4\" halign=\"left\">600</th>\n      <th colspan=\"4\" halign=\"left\">700</th>\n      <th colspan=\"2\" halign=\"left\">800</th>\n      <th>...</th>\n      <th colspan=\"2\" halign=\"left\">1000</th>\n      <th colspan=\"4\" halign=\"left\">1100</th>\n      <th colspan=\"4\" halign=\"left\">1200</th>\n    </tr>\n    <tr>\n      <th></th>\n      <th></th>\n      <th>v2_id</th>\n      <th>0</th>\n      <th>1</th>\n      <th>2</th>\n      <th>3</th>\n      <th>0</th>\n      <th>1</th>\n      <th>2</th>\n      <th>3</th>\n      <th>0</th>\n      <th>1</th>\n      <th>...</th>\n      <th>2</th>\n      <th>3</th>\n      <th>0</th>\n      <th>1</th>\n      <th>2</th>\n      <th>3</th>\n      <th>0</th>\n      <th>1</th>\n      <th>2</th>\n      <th>3</th>\n    </tr>\n    <tr>\n      <th>method</th>\n      <th>statistic</th>\n      <th>aggregation</th>\n      <th></th>\n      <th></th>\n      <th></th>\n      <th></th>\n      <th></th>\n      <th></th>\n      <th></th>\n      <th></th>\n      <th></th>\n      <th></th>\n      <th></th>\n      <th></th>\n      <th></th>\n      <th></th>\n      <th></th>\n      <th></th>\n      <th></th>\n      <th></th>\n      <th></th>\n      <th></th>\n      <th></th>\n    </tr>\n  </thead>\n  <tbody>\n    <tr>\n      <th rowspan=\"6\" valign=\"top\">dependent</th>\n      <th rowspan=\"2\" valign=\"top\">duration</th>\n      <th>max</th>\n      <td>3.782</td>\n      <td>8.079</td>\n      <td>21.700</td>\n      <td>45.946</td>\n      <td>5.258</td>\n      <td>7.968</td>\n      <td>20.251</td>\n      <td>50.381</td>\n      <td>4.597</td>\n      <td>8.855</td>\n      <td>...</td>\n      <td>22.437</td>\n      <td>60.054</td>\n      <td>6.465</td>\n      <td>9.106</td>\n      <td>23.110</td>\n      <td>57.725</td>\n      <td>5.293</td>\n      <td>9.956</td>\n      <td>24.714</td>\n      <td>57.852</td>\n    </tr>\n    <tr>\n      <th>mean</th>\n      <td>1.831</td>\n      <td>4.308</td>\n      <td>9.825</td>\n      <td>17.349</td>\n      <td>1.838</td>\n      <td>4.363</td>\n      <td>10.246</td>\n      <td>18.093</td>\n      <td>1.909</td>\n      <td>4.649</td>\n      <td>...</td>\n      <td>11.784</td>\n      <td>20.724</td>\n      <td>2.156</td>\n      <td>5.093</td>\n      <td>12.346</td>\n      <td>21.768</td>\n      <td>2.183</td>\n      <td>5.250</td>\n      <td>12.976</td>\n      <td>23.238</td>\n    </tr>\n    <tr>\n      <th rowspan=\"2\" valign=\"top\">min_exposed_value</th>\n      <th>max</th>\n      <td>238.400</td>\n      <td>619.200</td>\n      <td>1265.400</td>\n      <td>1314.200</td>\n      <td>230.200</td>\n      <td>606.000</td>\n      <td>1245.400</td>\n      <td>1305.600</td>\n      <td>229.600</td>\n      <td>604.400</td>\n      <td>...</td>\n      <td>1210.600</td>\n      <td>1255.600</td>\n      <td>207.200</td>\n      <td>559.000</td>\n      <td>1203.400</td>\n      <td>1225.200</td>\n      <td>210.200</td>\n      <td>559.000</td>\n      <td>1192.400</td>\n      <td>1219.000</td>\n    </tr>\n    <tr>\n      <th>mean</th>\n      <td>104.830</td>\n      <td>382.268</td>\n      <td>955.120</td>\n      <td>1017.812</td>\n      <td>100.642</td>\n      <td>376.536</td>\n      <td>942.026</td>\n      <td>995.948</td>\n      <td>95.670</td>\n      <td>367.842</td>\n      <td>...</td>\n      <td>907.964</td>\n      <td>946.074</td>\n      <td>84.444</td>\n      <td>347.998</td>\n      <td>896.130</td>\n      <td>931.472</td>\n      <td>80.264</td>\n      <td>340.568</td>\n      <td>881.812</td>\n      <td>917.514</td>\n    </tr>\n    <tr>\n      <th rowspan=\"2\" valign=\"top\">mip_ratio_gap</th>\n      <th>max</th>\n      <td>1.038</td>\n      <td>1.041</td>\n      <td>1.051</td>\n      <td>1.078</td>\n      <td>1.044</td>\n      <td>1.046</td>\n      <td>1.058</td>\n      <td>1.086</td>\n      <td>1.046</td>\n      <td>1.050</td>\n      <td>...</td>\n      <td>1.078</td>\n      <td>1.112</td>\n      <td>1.059</td>\n      <td>1.062</td>\n      <td>1.078</td>\n      <td>1.116</td>\n      <td>1.062</td>\n      <td>1.064</td>\n      <td>1.083</td>\n      <td>1.132</td>\n    </tr>\n    <tr>\n      <th>mean</th>\n      <td>1.021</td>\n      <td>1.032</td>\n      <td>1.038</td>\n      <td>1.058</td>\n      <td>1.023</td>\n      <td>1.037</td>\n      <td>1.043</td>\n      <td>1.066</td>\n      <td>1.024</td>\n      <td>1.041</td>\n      <td>...</td>\n      <td>1.056</td>\n      <td>1.085</td>\n      <td>1.026</td>\n      <td>1.051</td>\n      <td>1.060</td>\n      <td>1.090</td>\n      <td>1.027</td>\n      <td>1.056</td>\n      <td>1.064</td>\n      <td>1.095</td>\n    </tr>\n    <tr>\n      <th rowspan=\"6\" valign=\"top\">greedy_weighted</th>\n      <th rowspan=\"2\" valign=\"top\">duration</th>\n      <th>max</th>\n      <td>1.560</td>\n      <td>1.139</td>\n      <td>1.400</td>\n      <td>2.002</td>\n      <td>1.043</td>\n      <td>1.321</td>\n      <td>1.696</td>\n      <td>2.143</td>\n      <td>1.084</td>\n      <td>1.521</td>\n      <td>...</td>\n      <td>2.302</td>\n      <td>1.883</td>\n      <td>1.525</td>\n      <td>1.541</td>\n      <td>2.138</td>\n      <td>1.545</td>\n      <td>1.341</td>\n      <td>1.259</td>\n      <td>1.852</td>\n      <td>2.154</td>\n    </tr>\n    <tr>\n      <th>mean</th>\n      <td>0.166</td>\n      <td>0.398</td>\n      <td>0.687</td>\n      <td>0.483</td>\n      <td>0.119</td>\n      <td>0.463</td>\n      <td>0.699</td>\n      <td>0.507</td>\n      <td>0.171</td>\n      <td>0.437</td>\n      <td>...</td>\n      <td>0.764</td>\n      <td>0.604</td>\n      <td>0.146</td>\n      <td>0.456</td>\n      <td>0.724</td>\n      <td>0.535</td>\n      <td>0.201</td>\n      <td>0.478</td>\n      <td>0.795</td>\n      <td>0.552</td>\n    </tr>\n    <tr>\n      <th rowspan=\"2\" valign=\"top\">min_exposed_value</th>\n      <th>max</th>\n      <td>225.000</td>\n      <td>599.400</td>\n      <td>1210.800</td>\n      <td>1238.000</td>\n      <td>216.600</td>\n      <td>557.800</td>\n      <td>1216.600</td>\n      <td>1221.000</td>\n      <td>211.200</td>\n      <td>537.600</td>\n      <td>...</td>\n      <td>1126.200</td>\n      <td>1153.400</td>\n      <td>193.600</td>\n      <td>524.800</td>\n      <td>1105.200</td>\n      <td>1113.400</td>\n      <td>182.200</td>\n      <td>512.800</td>\n      <td>1080.200</td>\n      <td>1129.000</td>\n    </tr>\n    <tr>\n      <th>mean</th>\n      <td>99.064</td>\n      <td>363.586</td>\n      <td>906.338</td>\n      <td>965.442</td>\n      <td>94.500</td>\n      <td>353.500</td>\n      <td>888.452</td>\n      <td>936.704</td>\n      <td>89.584</td>\n      <td>342.650</td>\n      <td>...</td>\n      <td>835.564</td>\n      <td>871.004</td>\n      <td>76.650</td>\n      <td>319.716</td>\n      <td>819.286</td>\n      <td>852.166</td>\n      <td>73.544</td>\n      <td>311.400</td>\n      <td>807.806</td>\n      <td>829.594</td>\n    </tr>\n    <tr>\n      <th rowspan=\"2\" valign=\"top\">mip_ratio_gap</th>\n      <th>max</th>\n      <td>1.069</td>\n      <td>1.055</td>\n      <td>1.057</td>\n      <td>1.062</td>\n      <td>1.077</td>\n      <td>1.063</td>\n      <td>1.063</td>\n      <td>1.078</td>\n      <td>1.071</td>\n      <td>1.065</td>\n      <td>...</td>\n      <td>1.076</td>\n      <td>1.116</td>\n      <td>1.093</td>\n      <td>1.082</td>\n      <td>1.082</td>\n      <td>1.119</td>\n      <td>1.086</td>\n      <td>1.087</td>\n      <td>1.088</td>\n      <td>1.128</td>\n    </tr>\n    <tr>\n      <th>mean</th>\n      <td>1.048</td>\n      <td>1.046</td>\n      <td>1.047</td>\n      <td>1.042</td>\n      <td>1.052</td>\n      <td>1.052</td>\n      <td>1.052</td>\n      <td>1.049</td>\n      <td>1.056</td>\n      <td>1.056</td>\n      <td>...</td>\n      <td>1.068</td>\n      <td>1.070</td>\n      <td>1.067</td>\n      <td>1.068</td>\n      <td>1.072</td>\n      <td>1.078</td>\n      <td>1.071</td>\n      <td>1.073</td>\n      <td>1.076</td>\n      <td>1.085</td>\n    </tr>\n    <tr>\n      <th rowspan=\"4\" valign=\"top\">random</th>\n      <th rowspan=\"2\" valign=\"top\">min_exposed_value</th>\n      <th>max</th>\n      <td>297.200</td>\n      <td>698.800</td>\n      <td>1401.200</td>\n      <td>1507.000</td>\n      <td>292.400</td>\n      <td>674.800</td>\n      <td>1406.000</td>\n      <td>1470.800</td>\n      <td>291.400</td>\n      <td>677.000</td>\n      <td>...</td>\n      <td>1378.400</td>\n      <td>1458.000</td>\n      <td>284.600</td>\n      <td>678.400</td>\n      <td>1391.600</td>\n      <td>1439.600</td>\n      <td>280.400</td>\n      <td>673.200</td>\n      <td>1370.200</td>\n      <td>1436.600</td>\n    </tr>\n    <tr>\n      <th>mean</th>\n      <td>139.016</td>\n      <td>441.870</td>\n      <td>1054.732</td>\n      <td>1166.488</td>\n      <td>136.262</td>\n      <td>440.188</td>\n      <td>1050.316</td>\n      <td>1158.316</td>\n      <td>133.954</td>\n      <td>438.948</td>\n      <td>...</td>\n      <td>1042.500</td>\n      <td>1132.392</td>\n      <td>128.440</td>\n      <td>433.142</td>\n      <td>1039.950</td>\n      <td>1126.418</td>\n      <td>125.342</td>\n      <td>429.826</td>\n      <td>1036.230</td>\n      <td>1119.458</td>\n    </tr>\n    <tr>\n      <th rowspan=\"2\" valign=\"top\">mip_ratio_gap</th>\n      <th>max</th>\n      <td>1.869</td>\n      <td>1.301</td>\n      <td>1.205</td>\n      <td>1.455</td>\n      <td>2.055</td>\n      <td>1.346</td>\n      <td>1.228</td>\n      <td>1.498</td>\n      <td>2.151</td>\n      <td>1.374</td>\n      <td>...</td>\n      <td>1.289</td>\n      <td>1.636</td>\n      <td>2.920</td>\n      <td>1.489</td>\n      <td>1.316</td>\n      <td>1.696</td>\n      <td>3.143</td>\n      <td>1.527</td>\n      <td>1.332</td>\n      <td>1.751</td>\n    </tr>\n    <tr>\n      <th>mean</th>\n      <td>1.467</td>\n      <td>1.229</td>\n      <td>1.175</td>\n      <td>1.290</td>\n      <td>1.537</td>\n      <td>1.258</td>\n      <td>1.196</td>\n      <td>1.322</td>\n      <td>1.610</td>\n      <td>1.287</td>\n      <td>...</td>\n      <td>1.256</td>\n      <td>1.413</td>\n      <td>1.850</td>\n      <td>1.371</td>\n      <td>1.275</td>\n      <td>1.443</td>\n      <td>1.944</td>\n      <td>1.399</td>\n      <td>1.294</td>\n      <td>1.471</td>\n    </tr>\n  </tbody>\n</table>\n<p>16 rows × 28 columns</p>\n</div>"
     },
     "execution_count": 166,
     "metadata": {},
     "output_type": "execute_result"
    }
   ],
   "source": [
    "dp"
   ],
   "metadata": {
    "collapsed": false,
    "pycharm": {
     "name": "#%%\n"
    }
   }
  },
  {
   "cell_type": "code",
   "execution_count": 163,
   "outputs": [
    {
     "name": "stdout",
     "output_type": "stream",
     "text": [
      "\\begin{tabular}{lllrrrr}\n",
      "\\toprule\n",
      "       &               & v2\\_id &           0 &           1 &            2 &            3 \\\\\n",
      "method & statistic & aggregation &             &             &              &              \\\\\n",
      "\\midrule\n",
      "dependent & duration & max &    3.781748 &    8.078604 &    21.699885 &    45.945911 \\\\\n",
      "       &               & mean &    1.830577 &    4.307887 &     9.824833 &    17.348564 \\\\\n",
      "       & min\\_exposed\\_value & max &  238.400000 &  619.200000 &  1265.400000 &  1314.200000 \\\\\n",
      "       &               & mean &  104.830000 &  382.268000 &   955.120000 &  1017.812000 \\\\\n",
      "       & mip\\_ratio\\_gap & max &    1.038041 &    1.040865 &     1.051145 &     1.077680 \\\\\n",
      "       &               & mean &    1.021244 &    1.032441 &     1.038486 &     1.057720 \\\\\n",
      "greedy\\_weighted & duration & max &    1.560015 &    1.139389 &     1.400481 &     2.001919 \\\\\n",
      "       &               & mean &    0.165830 &    0.398125 &     0.687424 &     0.482665 \\\\\n",
      "       & min\\_exposed\\_value & max &  225.000000 &  599.400000 &  1210.800000 &  1238.000000 \\\\\n",
      "       &               & mean &   99.064000 &  363.586000 &   906.338000 &   965.442000 \\\\\n",
      "       & mip\\_ratio\\_gap & max &    1.068697 &    1.054712 &     1.057458 &     1.062014 \\\\\n",
      "       &               & mean &    1.048383 &    1.046317 &     1.046540 &     1.041912 \\\\\n",
      "random & min\\_exposed\\_value & max &  297.200000 &  698.800000 &  1401.200000 &  1507.000000 \\\\\n",
      "       &               & mean &  139.016000 &  441.870000 &  1054.732000 &  1166.488000 \\\\\n",
      "       & mip\\_ratio\\_gap & max &    1.869357 &    1.301130 &     1.204788 &     1.454691 \\\\\n",
      "       &               & mean &    1.467377 &    1.228974 &     1.174950 &     1.289964 \\\\\n",
      "\\bottomrule\n",
      "\\end{tabular}\n",
      "\n",
      "\\begin{tabular}{lllrrrr}\n",
      "\\toprule\n",
      "       &               & v2\\_id &           0 &           1 &            2 &            3 \\\\\n",
      "method & statistic & aggregation &             &             &              &              \\\\\n",
      "\\midrule\n",
      "dependent & duration & max &    5.258072 &    7.968174 &    20.251029 &    50.380835 \\\\\n",
      "       &               & mean &    1.838484 &    4.362849 &    10.246147 &    18.092837 \\\\\n",
      "       & min\\_exposed\\_value & max &  230.200000 &  606.000000 &  1245.400000 &  1305.600000 \\\\\n",
      "       &               & mean &  100.642000 &  376.536000 &   942.026000 &   995.948000 \\\\\n",
      "       & mip\\_ratio\\_gap & max &    1.043510 &    1.045796 &     1.057797 &     1.085760 \\\\\n",
      "       &               & mean &    1.023154 &    1.036826 &     1.043260 &     1.066013 \\\\\n",
      "greedy\\_weighted & duration & max &    1.043198 &    1.321400 &     1.695655 &     2.143389 \\\\\n",
      "       &               & mean &    0.118668 &    0.463437 &     0.699182 &     0.507016 \\\\\n",
      "       & min\\_exposed\\_value & max &  216.600000 &  557.800000 &  1216.600000 &  1221.000000 \\\\\n",
      "       &               & mean &   94.500000 &  353.500000 &   888.452000 &   936.704000 \\\\\n",
      "       & mip\\_ratio\\_gap & max &    1.077481 &    1.063124 &     1.062952 &     1.078352 \\\\\n",
      "       &               & mean &    1.051982 &    1.051783 &     1.052457 &     1.048875 \\\\\n",
      "random & min\\_exposed\\_value & max &  292.400000 &  674.800000 &  1406.000000 &  1470.800000 \\\\\n",
      "       &               & mean &  136.262000 &  440.188000 &  1050.316000 &  1158.316000 \\\\\n",
      "       & mip\\_ratio\\_gap & max &    2.054585 &    1.345987 &     1.227550 &     1.497623 \\\\\n",
      "       &               & mean &    1.537349 &    1.258401 &     1.196286 &     1.322485 \\\\\n",
      "\\bottomrule\n",
      "\\end{tabular}\n",
      "\n",
      "\\begin{tabular}{lllrrrr}\n",
      "\\toprule\n",
      "       &               & v2\\_id &           0 &           1 &            2 &            3 \\\\\n",
      "method & statistic & aggregation &             &             &              &              \\\\\n",
      "\\midrule\n",
      "dependent & duration & max &    4.597445 &    8.855141 &    20.120988 &    49.797884 \\\\\n",
      "       &               & mean &    1.909075 &    4.649197 &    10.918341 &    19.334038 \\\\\n",
      "       & min\\_exposed\\_value & max &  229.600000 &  604.400000 &  1245.000000 &  1254.600000 \\\\\n",
      "       &               & mean &   95.670000 &  367.842000 &   927.744000 &   978.736000 \\\\\n",
      "       & mip\\_ratio\\_gap & max &    1.045829 &    1.049818 &     1.063976 &     1.091745 \\\\\n",
      "       &               & mean &    1.024147 &    1.040775 &     1.048134 &     1.071296 \\\\\n",
      "greedy\\_weighted & duration & max &    1.083946 &    1.520760 &     1.599903 &     1.742480 \\\\\n",
      "       &               & mean &    0.171161 &    0.436814 &     0.747295 &     0.535758 \\\\\n",
      "       & min\\_exposed\\_value & max &  211.200000 &  537.600000 &  1185.000000 &  1178.200000 \\\\\n",
      "       &               & mean &   89.584000 &  342.650000 &   871.644000 &   914.266000 \\\\\n",
      "       & mip\\_ratio\\_gap & max &    1.071191 &    1.065064 &     1.068110 &     1.091503 \\\\\n",
      "       &               & mean &    1.055620 &    1.056245 &     1.057580 &     1.055589 \\\\\n",
      "random & min\\_exposed\\_value & max &  291.400000 &  677.000000 &  1397.200000 &  1452.000000 \\\\\n",
      "       &               & mean &  133.954000 &  438.948000 &  1049.892000 &  1147.844000 \\\\\n",
      "       & mip\\_ratio\\_gap & max &    2.151317 &    1.374216 &     1.251155 &     1.566466 \\\\\n",
      "       &               & mean &    1.609699 &    1.287263 &     1.216543 &     1.354403 \\\\\n",
      "\\bottomrule\n",
      "\\end{tabular}\n",
      "\n",
      "\\begin{tabular}{lllrrrr}\n",
      "\\toprule\n",
      "       &               & v2\\_id &           0 &           1 &            2 &            3 \\\\\n",
      "method & statistic & aggregation &             &             &              &              \\\\\n",
      "\\midrule\n",
      "dependent & duration & max &    5.741668 &    8.611150 &    24.593303 &    59.662110 \\\\\n",
      "       &               & mean &    1.962357 &    4.755263 &    11.413705 &    20.890838 \\\\\n",
      "       & min\\_exposed\\_value & max &  212.200000 &  575.400000 &  1228.600000 &  1267.400000 \\\\\n",
      "       &               & mean &   92.564000 &  359.472000 &   918.012000 &   966.200000 \\\\\n",
      "       & mip\\_ratio\\_gap & max &    1.049862 &    1.051641 &     1.071381 &     1.104029 \\\\\n",
      "       &               & mean &    1.025330 &    1.044162 &     1.052049 &     1.078338 \\\\\n",
      "greedy\\_weighted & duration & max &    1.266724 &    1.541847 &     1.967841 &     1.300652 \\\\\n",
      "       &               & mean &    0.186747 &    0.450213 &     0.787318 &     0.569983 \\\\\n",
      "       & min\\_exposed\\_value & max &  198.600000 &  543.200000 &  1155.400000 &  1181.200000 \\\\\n",
      "       &               & mean &   85.346000 &  334.782000 &   857.086000 &   893.020000 \\\\\n",
      "       & mip\\_ratio\\_gap & max &    1.077738 &    1.072655 &     1.073125 &     1.101453 \\\\\n",
      "       &               & mean &    1.060873 &    1.060678 &     1.062712 &     1.063200 \\\\\n",
      "random & min\\_exposed\\_value & max &  291.200000 &  679.800000 &  1398.000000 &  1446.600000 \\\\\n",
      "       &               & mean &  132.880000 &  435.406000 &  1045.972000 &  1143.928000 \\\\\n",
      "       & mip\\_ratio\\_gap & max &    2.401133 &    1.418784 &     1.272740 &     1.602246 \\\\\n",
      "       &               & mean &    1.687872 &    1.315486 &     1.236562 &     1.384216 \\\\\n",
      "\\bottomrule\n",
      "\\end{tabular}\n",
      "\n",
      "\\begin{tabular}{lllrrrr}\n",
      "\\toprule\n",
      "       &               & v2\\_id &           0 &           1 &            2 &            3 \\\\\n",
      "method & statistic & aggregation &             &             &              &              \\\\\n",
      "\\midrule\n",
      "dependent & duration & max &    4.784831 &    9.603770 &    22.437100 &    60.053831 \\\\\n",
      "       &               & mean &    1.997864 &    4.952529 &    11.783890 &    20.724335 \\\\\n",
      "       & min\\_exposed\\_value & max &  215.600000 &  578.000000 &  1210.600000 &  1255.600000 \\\\\n",
      "       &               & mean &   88.980000 &  355.428000 &   907.964000 &   946.074000 \\\\\n",
      "       & mip\\_ratio\\_gap & max &    1.059896 &    1.058539 &     1.078036 &     1.112191 \\\\\n",
      "       &               & mean &    1.026366 &    1.047569 &     1.055900 &     1.084794 \\\\\n",
      "greedy\\_weighted & duration & max &    0.948587 &    1.194438 &     2.302402 &     1.882696 \\\\\n",
      "       &               & mean &    0.163509 &    0.506978 &     0.764010 &     0.604489 \\\\\n",
      "       & min\\_exposed\\_value & max &  187.800000 &  524.200000 &  1126.200000 &  1153.400000 \\\\\n",
      "       &               & mean &   80.946000 &  327.726000 &   835.564000 &   871.004000 \\\\\n",
      "       & mip\\_ratio\\_gap & max &    1.089871 &    1.075634 &     1.075954 &     1.116455 \\\\\n",
      "       &               & mean &    1.063621 &    1.064897 &     1.067619 &     1.070104 \\\\\n",
      "random & min\\_exposed\\_value & max &  288.200000 &  674.000000 &  1378.400000 &  1458.000000 \\\\\n",
      "       &               & mean &  129.622000 &  435.036000 &  1042.500000 &  1132.392000 \\\\\n",
      "       & mip\\_ratio\\_gap & max &    2.634862 &    1.447778 &     1.289256 &     1.636268 \\\\\n",
      "       &               & mean &    1.764402 &    1.343967 &     1.256150 &     1.413467 \\\\\n",
      "\\bottomrule\n",
      "\\end{tabular}\n",
      "\n"
     ]
    }
   ],
   "source": [
    "print(dp[600].to_latex())\n",
    "print(dp[700].to_latex())\n",
    "print(dp[800].to_latex())\n",
    "print(dp[900].to_latex())\n",
    "print(dp[1000].to_latex())\n"
   ],
   "metadata": {
    "collapsed": false,
    "pycharm": {
     "name": "#%%\n"
    }
   }
  },
  {
   "cell_type": "code",
   "execution_count": null,
   "outputs": [],
   "source": [],
   "metadata": {
    "collapsed": false,
    "pycharm": {
     "name": "#%%\n"
    }
   }
  }
 ],
 "metadata": {
  "kernelspec": {
   "display_name": "Python 3",
   "language": "python",
   "name": "python3"
  },
  "language_info": {
   "codemirror_mode": {
    "name": "ipython",
    "version": 2
   },
   "file_extension": ".py",
   "mimetype": "text/x-python",
   "name": "python",
   "nbconvert_exporter": "python",
   "pygments_lexer": "ipython2",
   "version": "2.7.6"
  }
 },
 "nbformat": 4,
 "nbformat_minor": 0
}