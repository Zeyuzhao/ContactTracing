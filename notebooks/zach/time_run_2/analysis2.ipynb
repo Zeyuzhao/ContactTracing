{
 "cells": [
  {
   "cell_type": "code",
   "execution_count": 4,
   "metadata": {
    "collapsed": true
   },
   "outputs": [],
   "source": [
    "from ctrace import *\n",
    "import pandas as pd\n",
    "import numpy as np"
   ]
  },
  {
   "cell_type": "code",
   "execution_count": 61,
   "outputs": [
    {
     "name": "stdout",
     "output_type": "stream",
     "text": [
      "12000\n"
     ]
    },
    {
     "data": {
      "text/plain": "   Unnamed: 0           G      p  budget  \\\n0           0  montgomery  0.078     100   \n1           1  montgomery  0.078     100   \n2           2  montgomery  0.078     100   \n3           3  montgomery  0.078     100   \n4           4  montgomery  0.078     100   \n\n                                          from_cache           method  \\\n0  /home/ubuntu/ContactTracing/data/SIR_Cache/tim...           random   \n1  /home/ubuntu/ContactTracing/data/SIR_Cache/tim...           random   \n2  /home/ubuntu/ContactTracing/data/SIR_Cache/tim...  greedy_weighted   \n3  /home/ubuntu/ContactTracing/data/SIR_Cache/tim...  greedy_weighted   \n4  /home/ubuntu/ContactTracing/data/SIR_Cache/tim...        dependent   \n\n   trial_id  I_size  v1_size  v2_size  num_cross_edges  maxD  mip_value  \\\n0         0    1217     6233    11135            16931    28  94.015330   \n1         1    1217     6233    11135            16931    28  93.797013   \n2         0    1217     6233    11135            16931    28  85.069098   \n3         1    1217     6233    11135            16931    28  85.069098   \n4         1    1217     6233    11135            16931    28  84.819447   \n\n   min_exposed_value  duration  v1_objective  greedy_overlap  \n0              139.4  0.569600    661.962407               1  \n1              118.6  0.574026    661.962407               5  \n2              104.8  0.032785    661.962407              -1  \n3              120.8  0.032597    661.962407              -1  \n4              125.4  0.808267    661.962407              64  ",
      "text/html": "<div>\n<style scoped>\n    .dataframe tbody tr th:only-of-type {\n        vertical-align: middle;\n    }\n\n    .dataframe tbody tr th {\n        vertical-align: top;\n    }\n\n    .dataframe thead th {\n        text-align: right;\n    }\n</style>\n<table border=\"1\" class=\"dataframe\">\n  <thead>\n    <tr style=\"text-align: right;\">\n      <th></th>\n      <th>Unnamed: 0</th>\n      <th>G</th>\n      <th>p</th>\n      <th>budget</th>\n      <th>from_cache</th>\n      <th>method</th>\n      <th>trial_id</th>\n      <th>I_size</th>\n      <th>v1_size</th>\n      <th>v2_size</th>\n      <th>num_cross_edges</th>\n      <th>maxD</th>\n      <th>mip_value</th>\n      <th>min_exposed_value</th>\n      <th>duration</th>\n      <th>v1_objective</th>\n      <th>greedy_overlap</th>\n    </tr>\n  </thead>\n  <tbody>\n    <tr>\n      <th>0</th>\n      <td>0</td>\n      <td>montgomery</td>\n      <td>0.078</td>\n      <td>100</td>\n      <td>/home/ubuntu/ContactTracing/data/SIR_Cache/tim...</td>\n      <td>random</td>\n      <td>0</td>\n      <td>1217</td>\n      <td>6233</td>\n      <td>11135</td>\n      <td>16931</td>\n      <td>28</td>\n      <td>94.015330</td>\n      <td>139.4</td>\n      <td>0.569600</td>\n      <td>661.962407</td>\n      <td>1</td>\n    </tr>\n    <tr>\n      <th>1</th>\n      <td>1</td>\n      <td>montgomery</td>\n      <td>0.078</td>\n      <td>100</td>\n      <td>/home/ubuntu/ContactTracing/data/SIR_Cache/tim...</td>\n      <td>random</td>\n      <td>1</td>\n      <td>1217</td>\n      <td>6233</td>\n      <td>11135</td>\n      <td>16931</td>\n      <td>28</td>\n      <td>93.797013</td>\n      <td>118.6</td>\n      <td>0.574026</td>\n      <td>661.962407</td>\n      <td>5</td>\n    </tr>\n    <tr>\n      <th>2</th>\n      <td>2</td>\n      <td>montgomery</td>\n      <td>0.078</td>\n      <td>100</td>\n      <td>/home/ubuntu/ContactTracing/data/SIR_Cache/tim...</td>\n      <td>greedy_weighted</td>\n      <td>0</td>\n      <td>1217</td>\n      <td>6233</td>\n      <td>11135</td>\n      <td>16931</td>\n      <td>28</td>\n      <td>85.069098</td>\n      <td>104.8</td>\n      <td>0.032785</td>\n      <td>661.962407</td>\n      <td>-1</td>\n    </tr>\n    <tr>\n      <th>3</th>\n      <td>3</td>\n      <td>montgomery</td>\n      <td>0.078</td>\n      <td>100</td>\n      <td>/home/ubuntu/ContactTracing/data/SIR_Cache/tim...</td>\n      <td>greedy_weighted</td>\n      <td>1</td>\n      <td>1217</td>\n      <td>6233</td>\n      <td>11135</td>\n      <td>16931</td>\n      <td>28</td>\n      <td>85.069098</td>\n      <td>120.8</td>\n      <td>0.032597</td>\n      <td>661.962407</td>\n      <td>-1</td>\n    </tr>\n    <tr>\n      <th>4</th>\n      <td>4</td>\n      <td>montgomery</td>\n      <td>0.078</td>\n      <td>100</td>\n      <td>/home/ubuntu/ContactTracing/data/SIR_Cache/tim...</td>\n      <td>dependent</td>\n      <td>1</td>\n      <td>1217</td>\n      <td>6233</td>\n      <td>11135</td>\n      <td>16931</td>\n      <td>28</td>\n      <td>84.819447</td>\n      <td>125.4</td>\n      <td>0.808267</td>\n      <td>661.962407</td>\n      <td>64</td>\n    </tr>\n  </tbody>\n</table>\n</div>"
     },
     "execution_count": 61,
     "metadata": {},
     "output_type": "execute_result"
    }
   ],
   "source": [
    "# Load in results file\n",
    "with open(PROJECT_ROOT /\"output\"/\"run_Hmmfn/\" / \"results.csv\", \"r\") as csv:\n",
    "    df = pd.read_csv(csv)\n",
    "print(len(df))\n",
    "df.head()"
   ],
   "metadata": {
    "collapsed": false,
    "pycharm": {
     "name": "#%%\n"
    }
   }
  },
  {
   "cell_type": "code",
   "execution_count": 62,
   "outputs": [
    {
     "name": "stdout",
     "output_type": "stream",
     "text": [
      "3000\n"
     ]
    },
    {
     "data": {
      "text/plain": "    Unnamed: 0           G      p  budget  \\\n6            6  montgomery  0.078     100   \n11          11  montgomery  0.078     100   \n20          20  montgomery  0.078     100   \n22          22  montgomery  0.078     100   \n27          27  montgomery  0.078     100   \n\n                                           from_cache      method  trial_id  \\\n6   /home/ubuntu/ContactTracing/data/SIR_Cache/tim...  mip_gurobi         0   \n11  /home/ubuntu/ContactTracing/data/SIR_Cache/tim...  mip_gurobi         1   \n20  /home/ubuntu/ContactTracing/data/SIR_Cache/tim...  mip_gurobi         0   \n22  /home/ubuntu/ContactTracing/data/SIR_Cache/tim...  mip_gurobi         1   \n27  /home/ubuntu/ContactTracing/data/SIR_Cache/tim...  mip_gurobi         1   \n\n    I_size  v1_size  v2_size  num_cross_edges  maxD   mip_value  \\\n6     1217     6233    11135            16931    28   84.156001   \n11    1217     6233    11135            16931    28   84.156001   \n20    2359    25664    32967           145552    59  497.959798   \n22    2359    25664    32967           145552    59  497.959798   \n27    4854    31285    22040            82500    32  407.842102   \n\n    min_exposed_value   duration  v1_objective  greedy_overlap  \n6               113.2   0.832709    661.962407              72  \n11              108.8   0.862365    661.962407              72  \n20             1340.0  13.710341   3733.643370              56  \n22             1393.6  14.214940   3733.643370              56  \n27              945.4   8.959507   5702.689558              45  ",
      "text/html": "<div>\n<style scoped>\n    .dataframe tbody tr th:only-of-type {\n        vertical-align: middle;\n    }\n\n    .dataframe tbody tr th {\n        vertical-align: top;\n    }\n\n    .dataframe thead th {\n        text-align: right;\n    }\n</style>\n<table border=\"1\" class=\"dataframe\">\n  <thead>\n    <tr style=\"text-align: right;\">\n      <th></th>\n      <th>Unnamed: 0</th>\n      <th>G</th>\n      <th>p</th>\n      <th>budget</th>\n      <th>from_cache</th>\n      <th>method</th>\n      <th>trial_id</th>\n      <th>I_size</th>\n      <th>v1_size</th>\n      <th>v2_size</th>\n      <th>num_cross_edges</th>\n      <th>maxD</th>\n      <th>mip_value</th>\n      <th>min_exposed_value</th>\n      <th>duration</th>\n      <th>v1_objective</th>\n      <th>greedy_overlap</th>\n    </tr>\n  </thead>\n  <tbody>\n    <tr>\n      <th>6</th>\n      <td>6</td>\n      <td>montgomery</td>\n      <td>0.078</td>\n      <td>100</td>\n      <td>/home/ubuntu/ContactTracing/data/SIR_Cache/tim...</td>\n      <td>mip_gurobi</td>\n      <td>0</td>\n      <td>1217</td>\n      <td>6233</td>\n      <td>11135</td>\n      <td>16931</td>\n      <td>28</td>\n      <td>84.156001</td>\n      <td>113.2</td>\n      <td>0.832709</td>\n      <td>661.962407</td>\n      <td>72</td>\n    </tr>\n    <tr>\n      <th>11</th>\n      <td>11</td>\n      <td>montgomery</td>\n      <td>0.078</td>\n      <td>100</td>\n      <td>/home/ubuntu/ContactTracing/data/SIR_Cache/tim...</td>\n      <td>mip_gurobi</td>\n      <td>1</td>\n      <td>1217</td>\n      <td>6233</td>\n      <td>11135</td>\n      <td>16931</td>\n      <td>28</td>\n      <td>84.156001</td>\n      <td>108.8</td>\n      <td>0.862365</td>\n      <td>661.962407</td>\n      <td>72</td>\n    </tr>\n    <tr>\n      <th>20</th>\n      <td>20</td>\n      <td>montgomery</td>\n      <td>0.078</td>\n      <td>100</td>\n      <td>/home/ubuntu/ContactTracing/data/SIR_Cache/tim...</td>\n      <td>mip_gurobi</td>\n      <td>0</td>\n      <td>2359</td>\n      <td>25664</td>\n      <td>32967</td>\n      <td>145552</td>\n      <td>59</td>\n      <td>497.959798</td>\n      <td>1340.0</td>\n      <td>13.710341</td>\n      <td>3733.643370</td>\n      <td>56</td>\n    </tr>\n    <tr>\n      <th>22</th>\n      <td>22</td>\n      <td>montgomery</td>\n      <td>0.078</td>\n      <td>100</td>\n      <td>/home/ubuntu/ContactTracing/data/SIR_Cache/tim...</td>\n      <td>mip_gurobi</td>\n      <td>1</td>\n      <td>2359</td>\n      <td>25664</td>\n      <td>32967</td>\n      <td>145552</td>\n      <td>59</td>\n      <td>497.959798</td>\n      <td>1393.6</td>\n      <td>14.214940</td>\n      <td>3733.643370</td>\n      <td>56</td>\n    </tr>\n    <tr>\n      <th>27</th>\n      <td>27</td>\n      <td>montgomery</td>\n      <td>0.078</td>\n      <td>100</td>\n      <td>/home/ubuntu/ContactTracing/data/SIR_Cache/tim...</td>\n      <td>mip_gurobi</td>\n      <td>1</td>\n      <td>4854</td>\n      <td>31285</td>\n      <td>22040</td>\n      <td>82500</td>\n      <td>32</td>\n      <td>407.842102</td>\n      <td>945.4</td>\n      <td>8.959507</td>\n      <td>5702.689558</td>\n      <td>45</td>\n    </tr>\n  </tbody>\n</table>\n</div>"
     },
     "execution_count": 62,
     "metadata": {},
     "output_type": "execute_result"
    }
   ],
   "source": [
    "# Extract the Gurobi MILP optimal runs\n",
    "optimal = df[df[\"method\"] == \"mip_gurobi\"]\n",
    "print(len(optimal))\n",
    "optimal.head()"
   ],
   "metadata": {
    "collapsed": false,
    "pycharm": {
     "name": "#%%\n"
    }
   }
  },
  {
   "cell_type": "code",
   "execution_count": 63,
   "outputs": [
    {
     "name": "stdout",
     "output_type": "stream",
     "text": [
      "1500\n"
     ]
    },
    {
     "data": {
      "text/plain": "             G      p  budget  \\\n6   montgomery  0.078     100   \n20  montgomery  0.078     100   \n28  montgomery  0.078     100   \n30  montgomery  0.078     100   \n48  montgomery  0.078     100   \n\n                                           from_cache  optimal_mip_value  \n6   /home/ubuntu/ContactTracing/data/SIR_Cache/tim...          84.156001  \n20  /home/ubuntu/ContactTracing/data/SIR_Cache/tim...         497.959798  \n28  /home/ubuntu/ContactTracing/data/SIR_Cache/tim...         407.842102  \n30  /home/ubuntu/ContactTracing/data/SIR_Cache/tim...         280.462819  \n48  /home/ubuntu/ContactTracing/data/SIR_Cache/tim...         300.202036  ",
      "text/html": "<div>\n<style scoped>\n    .dataframe tbody tr th:only-of-type {\n        vertical-align: middle;\n    }\n\n    .dataframe tbody tr th {\n        vertical-align: top;\n    }\n\n    .dataframe thead th {\n        text-align: right;\n    }\n</style>\n<table border=\"1\" class=\"dataframe\">\n  <thead>\n    <tr style=\"text-align: right;\">\n      <th></th>\n      <th>G</th>\n      <th>p</th>\n      <th>budget</th>\n      <th>from_cache</th>\n      <th>optimal_mip_value</th>\n    </tr>\n  </thead>\n  <tbody>\n    <tr>\n      <th>6</th>\n      <td>montgomery</td>\n      <td>0.078</td>\n      <td>100</td>\n      <td>/home/ubuntu/ContactTracing/data/SIR_Cache/tim...</td>\n      <td>84.156001</td>\n    </tr>\n    <tr>\n      <th>20</th>\n      <td>montgomery</td>\n      <td>0.078</td>\n      <td>100</td>\n      <td>/home/ubuntu/ContactTracing/data/SIR_Cache/tim...</td>\n      <td>497.959798</td>\n    </tr>\n    <tr>\n      <th>28</th>\n      <td>montgomery</td>\n      <td>0.078</td>\n      <td>100</td>\n      <td>/home/ubuntu/ContactTracing/data/SIR_Cache/tim...</td>\n      <td>407.842102</td>\n    </tr>\n    <tr>\n      <th>30</th>\n      <td>montgomery</td>\n      <td>0.078</td>\n      <td>100</td>\n      <td>/home/ubuntu/ContactTracing/data/SIR_Cache/tim...</td>\n      <td>280.462819</td>\n    </tr>\n    <tr>\n      <th>48</th>\n      <td>montgomery</td>\n      <td>0.078</td>\n      <td>100</td>\n      <td>/home/ubuntu/ContactTracing/data/SIR_Cache/tim...</td>\n      <td>300.202036</td>\n    </tr>\n  </tbody>\n</table>\n</div>"
     },
     "execution_count": 63,
     "metadata": {},
     "output_type": "execute_result"
    }
   ],
   "source": [
    "# Remove duplicates from different trials\n",
    "optimal = optimal[optimal[\"trial_id\"] == 0]\n",
    "\n",
    "# Only these 4 (\"G\", \"p\", \"budget\", \"from_cache\") are needed to uniquely identify simulation parameters\n",
    "optimal = optimal[[\"G\", \"p\", \"budget\", \"from_cache\", \"mip_value\"]]\n",
    "optimal = optimal.rename(columns={\"mip_value\": \"optimal_mip_value\"})\n",
    "\n",
    "print(len(optimal))\n",
    "optimal.head()"
   ],
   "metadata": {
    "collapsed": false,
    "pycharm": {
     "name": "#%%\n"
    }
   }
  },
  {
   "cell_type": "code",
   "execution_count": 64,
   "outputs": [],
   "source": [
    "# Merge on the aforementioned key columns\n",
    "df = df.merge(optimal, on=[\"G\", \"p\", \"budget\", \"from_cache\"])"
   ],
   "metadata": {
    "collapsed": false,
    "pycharm": {
     "name": "#%%\n"
    }
   }
  },
  {
   "cell_type": "code",
   "execution_count": 65,
   "outputs": [
    {
     "data": {
      "text/plain": "   Unnamed: 0           G      p  budget  \\\n0           0  montgomery  0.078     100   \n1           1  montgomery  0.078     100   \n2           2  montgomery  0.078     100   \n3           3  montgomery  0.078     100   \n4           4  montgomery  0.078     100   \n\n                                          from_cache           method  \\\n0  /home/ubuntu/ContactTracing/data/SIR_Cache/tim...           random   \n1  /home/ubuntu/ContactTracing/data/SIR_Cache/tim...           random   \n2  /home/ubuntu/ContactTracing/data/SIR_Cache/tim...  greedy_weighted   \n3  /home/ubuntu/ContactTracing/data/SIR_Cache/tim...  greedy_weighted   \n4  /home/ubuntu/ContactTracing/data/SIR_Cache/tim...        dependent   \n\n   trial_id  I_size  v1_size  v2_size  num_cross_edges  maxD  mip_value  \\\n0         0    1217     6233    11135            16931    28  94.015330   \n1         1    1217     6233    11135            16931    28  93.797013   \n2         0    1217     6233    11135            16931    28  85.069098   \n3         1    1217     6233    11135            16931    28  85.069098   \n4         1    1217     6233    11135            16931    28  84.819447   \n\n   min_exposed_value  duration  v1_objective  greedy_overlap  \\\n0              139.4  0.569600    661.962407               1   \n1              118.6  0.574026    661.962407               5   \n2              104.8  0.032785    661.962407              -1   \n3              120.8  0.032597    661.962407              -1   \n4              125.4  0.808267    661.962407              64   \n\n   optimal_mip_value  \n0          84.156001  \n1          84.156001  \n2          84.156001  \n3          84.156001  \n4          84.156001  ",
      "text/html": "<div>\n<style scoped>\n    .dataframe tbody tr th:only-of-type {\n        vertical-align: middle;\n    }\n\n    .dataframe tbody tr th {\n        vertical-align: top;\n    }\n\n    .dataframe thead th {\n        text-align: right;\n    }\n</style>\n<table border=\"1\" class=\"dataframe\">\n  <thead>\n    <tr style=\"text-align: right;\">\n      <th></th>\n      <th>Unnamed: 0</th>\n      <th>G</th>\n      <th>p</th>\n      <th>budget</th>\n      <th>from_cache</th>\n      <th>method</th>\n      <th>trial_id</th>\n      <th>I_size</th>\n      <th>v1_size</th>\n      <th>v2_size</th>\n      <th>num_cross_edges</th>\n      <th>maxD</th>\n      <th>mip_value</th>\n      <th>min_exposed_value</th>\n      <th>duration</th>\n      <th>v1_objective</th>\n      <th>greedy_overlap</th>\n      <th>optimal_mip_value</th>\n    </tr>\n  </thead>\n  <tbody>\n    <tr>\n      <th>0</th>\n      <td>0</td>\n      <td>montgomery</td>\n      <td>0.078</td>\n      <td>100</td>\n      <td>/home/ubuntu/ContactTracing/data/SIR_Cache/tim...</td>\n      <td>random</td>\n      <td>0</td>\n      <td>1217</td>\n      <td>6233</td>\n      <td>11135</td>\n      <td>16931</td>\n      <td>28</td>\n      <td>94.015330</td>\n      <td>139.4</td>\n      <td>0.569600</td>\n      <td>661.962407</td>\n      <td>1</td>\n      <td>84.156001</td>\n    </tr>\n    <tr>\n      <th>1</th>\n      <td>1</td>\n      <td>montgomery</td>\n      <td>0.078</td>\n      <td>100</td>\n      <td>/home/ubuntu/ContactTracing/data/SIR_Cache/tim...</td>\n      <td>random</td>\n      <td>1</td>\n      <td>1217</td>\n      <td>6233</td>\n      <td>11135</td>\n      <td>16931</td>\n      <td>28</td>\n      <td>93.797013</td>\n      <td>118.6</td>\n      <td>0.574026</td>\n      <td>661.962407</td>\n      <td>5</td>\n      <td>84.156001</td>\n    </tr>\n    <tr>\n      <th>2</th>\n      <td>2</td>\n      <td>montgomery</td>\n      <td>0.078</td>\n      <td>100</td>\n      <td>/home/ubuntu/ContactTracing/data/SIR_Cache/tim...</td>\n      <td>greedy_weighted</td>\n      <td>0</td>\n      <td>1217</td>\n      <td>6233</td>\n      <td>11135</td>\n      <td>16931</td>\n      <td>28</td>\n      <td>85.069098</td>\n      <td>104.8</td>\n      <td>0.032785</td>\n      <td>661.962407</td>\n      <td>-1</td>\n      <td>84.156001</td>\n    </tr>\n    <tr>\n      <th>3</th>\n      <td>3</td>\n      <td>montgomery</td>\n      <td>0.078</td>\n      <td>100</td>\n      <td>/home/ubuntu/ContactTracing/data/SIR_Cache/tim...</td>\n      <td>greedy_weighted</td>\n      <td>1</td>\n      <td>1217</td>\n      <td>6233</td>\n      <td>11135</td>\n      <td>16931</td>\n      <td>28</td>\n      <td>85.069098</td>\n      <td>120.8</td>\n      <td>0.032597</td>\n      <td>661.962407</td>\n      <td>-1</td>\n      <td>84.156001</td>\n    </tr>\n    <tr>\n      <th>4</th>\n      <td>4</td>\n      <td>montgomery</td>\n      <td>0.078</td>\n      <td>100</td>\n      <td>/home/ubuntu/ContactTracing/data/SIR_Cache/tim...</td>\n      <td>dependent</td>\n      <td>1</td>\n      <td>1217</td>\n      <td>6233</td>\n      <td>11135</td>\n      <td>16931</td>\n      <td>28</td>\n      <td>84.819447</td>\n      <td>125.4</td>\n      <td>0.808267</td>\n      <td>661.962407</td>\n      <td>64</td>\n      <td>84.156001</td>\n    </tr>\n  </tbody>\n</table>\n</div>"
     },
     "execution_count": 65,
     "metadata": {},
     "output_type": "execute_result"
    }
   ],
   "source": [
    "df.head()\n"
   ],
   "metadata": {
    "collapsed": false,
    "pycharm": {
     "name": "#%%\n"
    }
   }
  },
  {
   "cell_type": "code",
   "execution_count": 66,
   "outputs": [
    {
     "data": {
      "text/plain": "   Unnamed: 0           G      p  budget  \\\n0           0  montgomery  0.078     100   \n1           1  montgomery  0.078     100   \n2           2  montgomery  0.078     100   \n3           3  montgomery  0.078     100   \n4           4  montgomery  0.078     100   \n\n                                          from_cache           method  \\\n0  /home/ubuntu/ContactTracing/data/SIR_Cache/tim...           random   \n1  /home/ubuntu/ContactTracing/data/SIR_Cache/tim...           random   \n2  /home/ubuntu/ContactTracing/data/SIR_Cache/tim...  greedy_weighted   \n3  /home/ubuntu/ContactTracing/data/SIR_Cache/tim...  greedy_weighted   \n4  /home/ubuntu/ContactTracing/data/SIR_Cache/tim...        dependent   \n\n   trial_id  I_size  v1_size  v2_size  num_cross_edges  maxD  mip_value  \\\n0         0    1217     6233    11135            16931    28  94.015330   \n1         1    1217     6233    11135            16931    28  93.797013   \n2         0    1217     6233    11135            16931    28  85.069098   \n3         1    1217     6233    11135            16931    28  85.069098   \n4         1    1217     6233    11135            16931    28  84.819447   \n\n   min_exposed_value  duration  v1_objective  greedy_overlap  \\\n0              139.4  0.569600    661.962407               1   \n1              118.6  0.574026    661.962407               5   \n2              104.8  0.032785    661.962407              -1   \n3              120.8  0.032597    661.962407              -1   \n4              125.4  0.808267    661.962407              64   \n\n   optimal_mip_value  mip_ratio_gap  \n0          84.156001       1.117155  \n1          84.156001       1.114561  \n2          84.156001       1.010850  \n3          84.156001       1.010850  \n4          84.156001       1.007884  ",
      "text/html": "<div>\n<style scoped>\n    .dataframe tbody tr th:only-of-type {\n        vertical-align: middle;\n    }\n\n    .dataframe tbody tr th {\n        vertical-align: top;\n    }\n\n    .dataframe thead th {\n        text-align: right;\n    }\n</style>\n<table border=\"1\" class=\"dataframe\">\n  <thead>\n    <tr style=\"text-align: right;\">\n      <th></th>\n      <th>Unnamed: 0</th>\n      <th>G</th>\n      <th>p</th>\n      <th>budget</th>\n      <th>from_cache</th>\n      <th>method</th>\n      <th>trial_id</th>\n      <th>I_size</th>\n      <th>v1_size</th>\n      <th>v2_size</th>\n      <th>num_cross_edges</th>\n      <th>maxD</th>\n      <th>mip_value</th>\n      <th>min_exposed_value</th>\n      <th>duration</th>\n      <th>v1_objective</th>\n      <th>greedy_overlap</th>\n      <th>optimal_mip_value</th>\n      <th>mip_ratio_gap</th>\n    </tr>\n  </thead>\n  <tbody>\n    <tr>\n      <th>0</th>\n      <td>0</td>\n      <td>montgomery</td>\n      <td>0.078</td>\n      <td>100</td>\n      <td>/home/ubuntu/ContactTracing/data/SIR_Cache/tim...</td>\n      <td>random</td>\n      <td>0</td>\n      <td>1217</td>\n      <td>6233</td>\n      <td>11135</td>\n      <td>16931</td>\n      <td>28</td>\n      <td>94.015330</td>\n      <td>139.4</td>\n      <td>0.569600</td>\n      <td>661.962407</td>\n      <td>1</td>\n      <td>84.156001</td>\n      <td>1.117155</td>\n    </tr>\n    <tr>\n      <th>1</th>\n      <td>1</td>\n      <td>montgomery</td>\n      <td>0.078</td>\n      <td>100</td>\n      <td>/home/ubuntu/ContactTracing/data/SIR_Cache/tim...</td>\n      <td>random</td>\n      <td>1</td>\n      <td>1217</td>\n      <td>6233</td>\n      <td>11135</td>\n      <td>16931</td>\n      <td>28</td>\n      <td>93.797013</td>\n      <td>118.6</td>\n      <td>0.574026</td>\n      <td>661.962407</td>\n      <td>5</td>\n      <td>84.156001</td>\n      <td>1.114561</td>\n    </tr>\n    <tr>\n      <th>2</th>\n      <td>2</td>\n      <td>montgomery</td>\n      <td>0.078</td>\n      <td>100</td>\n      <td>/home/ubuntu/ContactTracing/data/SIR_Cache/tim...</td>\n      <td>greedy_weighted</td>\n      <td>0</td>\n      <td>1217</td>\n      <td>6233</td>\n      <td>11135</td>\n      <td>16931</td>\n      <td>28</td>\n      <td>85.069098</td>\n      <td>104.8</td>\n      <td>0.032785</td>\n      <td>661.962407</td>\n      <td>-1</td>\n      <td>84.156001</td>\n      <td>1.010850</td>\n    </tr>\n    <tr>\n      <th>3</th>\n      <td>3</td>\n      <td>montgomery</td>\n      <td>0.078</td>\n      <td>100</td>\n      <td>/home/ubuntu/ContactTracing/data/SIR_Cache/tim...</td>\n      <td>greedy_weighted</td>\n      <td>1</td>\n      <td>1217</td>\n      <td>6233</td>\n      <td>11135</td>\n      <td>16931</td>\n      <td>28</td>\n      <td>85.069098</td>\n      <td>120.8</td>\n      <td>0.032597</td>\n      <td>661.962407</td>\n      <td>-1</td>\n      <td>84.156001</td>\n      <td>1.010850</td>\n    </tr>\n    <tr>\n      <th>4</th>\n      <td>4</td>\n      <td>montgomery</td>\n      <td>0.078</td>\n      <td>100</td>\n      <td>/home/ubuntu/ContactTracing/data/SIR_Cache/tim...</td>\n      <td>dependent</td>\n      <td>1</td>\n      <td>1217</td>\n      <td>6233</td>\n      <td>11135</td>\n      <td>16931</td>\n      <td>28</td>\n      <td>84.819447</td>\n      <td>125.4</td>\n      <td>0.808267</td>\n      <td>661.962407</td>\n      <td>64</td>\n      <td>84.156001</td>\n      <td>1.007884</td>\n    </tr>\n  </tbody>\n</table>\n</div>"
     },
     "execution_count": 66,
     "metadata": {},
     "output_type": "execute_result"
    }
   ],
   "source": [
    "df[\"mip_ratio_gap\"] = df[\"mip_value\"] / df[\"optimal_mip_value\"]\n",
    "df.head()"
   ],
   "metadata": {
    "collapsed": false,
    "pycharm": {
     "name": "#%%\n"
    }
   }
  },
  {
   "cell_type": "code",
   "execution_count": 69,
   "outputs": [],
   "source": [
    "# Check that mip_ratio_gap >= 1 for all elements\n",
    "assert len(df[df[\"mip_ratio_gap\"] < 1]) == 0"
   ],
   "metadata": {
    "collapsed": false,
    "pycharm": {
     "name": "#%%\n"
    }
   }
  },
  {
   "cell_type": "code",
   "execution_count": 74,
   "outputs": [
    {
     "data": {
      "text/plain": "Unnamed: 0                                                           2\nG                                                           montgomery\np                                                                0.078\nbudget                                                             100\nfrom_cache           /home/ubuntu/ContactTracing/data/SIR_Cache/tim...\nmethod                                                 greedy_weighted\ntrial_id                                                             0\nI_size                                                             527\nv1_size                                                           2808\nv2_size                                                           6472\nnum_cross_edges                                                   8273\nmaxD                                                                19\nmip_value                                                      22.6286\nmin_exposed_value                                                 23.4\nduration                                                     0.0154144\nv1_objective                                                   276.135\ngreedy_overlap                                                      -1\noptimal_mip_value                                              21.6207\nmip_ratio_gap                                                  1.00676\ndtype: object"
     },
     "execution_count": 74,
     "metadata": {},
     "output_type": "execute_result"
    }
   ],
   "source": [
    "greedy = df[df[\"method\"] == \"greedy_weighted\"]\n",
    "greedy.min()"
   ],
   "metadata": {
    "collapsed": false,
    "pycharm": {
     "name": "#%%\n"
    }
   }
  },
  {
   "cell_type": "code",
   "execution_count": null,
   "outputs": [],
   "source": [],
   "metadata": {
    "collapsed": false,
    "pycharm": {
     "name": "#%%\n"
    }
   }
  }
 ],
 "metadata": {
  "kernelspec": {
   "display_name": "Python 3",
   "language": "python",
   "name": "python3"
  },
  "language_info": {
   "codemirror_mode": {
    "name": "ipython",
    "version": 2
   },
   "file_extension": ".py",
   "mimetype": "text/x-python",
   "name": "python",
   "nbconvert_exporter": "python",
   "pygments_lexer": "ipython2",
   "version": "2.7.6"
  }
 },
 "nbformat": 4,
 "nbformat_minor": 0
}