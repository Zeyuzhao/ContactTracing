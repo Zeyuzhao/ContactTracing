{
 "cells": [
  {
   "cell_type": "code",
   "execution_count": 1,
   "metadata": {
    "collapsed": true
   },
   "outputs": [],
   "source": [
    "from ctrace import *\n",
    "import pandas as pd\n",
    "import numpy as np"
   ]
  },
  {
   "cell_type": "code",
   "execution_count": 2,
   "outputs": [
    {
     "name": "stdout",
     "output_type": "stream",
     "text": [
      "11200\n"
     ]
    },
    {
     "data": {
      "text/plain": "            G      p  budget  \\\n0  montgomery  0.078     600   \n1  montgomery  0.078     600   \n2  montgomery  0.078     600   \n3  montgomery  0.078     600   \n4  montgomery  0.078     600   \n\n                                          from_cache           method  \\\n0  /home/ubuntu/ContactTracing/data/SIR_Cache/tim...           random   \n1  /home/ubuntu/ContactTracing/data/SIR_Cache/tim...        dependent   \n2  /home/ubuntu/ContactTracing/data/SIR_Cache/tim...       mip_gurobi   \n3  /home/ubuntu/ContactTracing/data/SIR_Cache/tim...  greedy_weighted   \n4  /home/ubuntu/ContactTracing/data/SIR_Cache/tim...           random   \n\n   trial_id  I_size  v1_size  v2_size  num_cross_edges  maxD   mip_value  \\\n0         0    1217     6233    11135            16931    28   88.819097   \n1         0    1217     6233    11135            16931    28   61.833362   \n2         0    1217     6233    11135            16931    28   60.874122   \n3         0    1217     6233    11135            16931    28   63.834657   \n4         0    2359    25664    32967           145552    59  523.116239   \n\n   min_exposed_value  duration  v1_objective  greedy_overlap  \n0              114.2  0.601694    661.962407              53  \n1               85.2  0.921509    661.962407             405  \n2               77.4  1.060092    661.962407             426  \n3               81.0  0.322041    661.962407              -1  \n4             1423.6  3.947826   3733.643370              15  ",
      "text/html": "<div>\n<style scoped>\n    .dataframe tbody tr th:only-of-type {\n        vertical-align: middle;\n    }\n\n    .dataframe tbody tr th {\n        vertical-align: top;\n    }\n\n    .dataframe thead th {\n        text-align: right;\n    }\n</style>\n<table border=\"1\" class=\"dataframe\">\n  <thead>\n    <tr style=\"text-align: right;\">\n      <th></th>\n      <th>G</th>\n      <th>p</th>\n      <th>budget</th>\n      <th>from_cache</th>\n      <th>method</th>\n      <th>trial_id</th>\n      <th>I_size</th>\n      <th>v1_size</th>\n      <th>v2_size</th>\n      <th>num_cross_edges</th>\n      <th>maxD</th>\n      <th>mip_value</th>\n      <th>min_exposed_value</th>\n      <th>duration</th>\n      <th>v1_objective</th>\n      <th>greedy_overlap</th>\n    </tr>\n  </thead>\n  <tbody>\n    <tr>\n      <th>0</th>\n      <td>montgomery</td>\n      <td>0.078</td>\n      <td>600</td>\n      <td>/home/ubuntu/ContactTracing/data/SIR_Cache/tim...</td>\n      <td>random</td>\n      <td>0</td>\n      <td>1217</td>\n      <td>6233</td>\n      <td>11135</td>\n      <td>16931</td>\n      <td>28</td>\n      <td>88.819097</td>\n      <td>114.2</td>\n      <td>0.601694</td>\n      <td>661.962407</td>\n      <td>53</td>\n    </tr>\n    <tr>\n      <th>1</th>\n      <td>montgomery</td>\n      <td>0.078</td>\n      <td>600</td>\n      <td>/home/ubuntu/ContactTracing/data/SIR_Cache/tim...</td>\n      <td>dependent</td>\n      <td>0</td>\n      <td>1217</td>\n      <td>6233</td>\n      <td>11135</td>\n      <td>16931</td>\n      <td>28</td>\n      <td>61.833362</td>\n      <td>85.2</td>\n      <td>0.921509</td>\n      <td>661.962407</td>\n      <td>405</td>\n    </tr>\n    <tr>\n      <th>2</th>\n      <td>montgomery</td>\n      <td>0.078</td>\n      <td>600</td>\n      <td>/home/ubuntu/ContactTracing/data/SIR_Cache/tim...</td>\n      <td>mip_gurobi</td>\n      <td>0</td>\n      <td>1217</td>\n      <td>6233</td>\n      <td>11135</td>\n      <td>16931</td>\n      <td>28</td>\n      <td>60.874122</td>\n      <td>77.4</td>\n      <td>1.060092</td>\n      <td>661.962407</td>\n      <td>426</td>\n    </tr>\n    <tr>\n      <th>3</th>\n      <td>montgomery</td>\n      <td>0.078</td>\n      <td>600</td>\n      <td>/home/ubuntu/ContactTracing/data/SIR_Cache/tim...</td>\n      <td>greedy_weighted</td>\n      <td>0</td>\n      <td>1217</td>\n      <td>6233</td>\n      <td>11135</td>\n      <td>16931</td>\n      <td>28</td>\n      <td>63.834657</td>\n      <td>81.0</td>\n      <td>0.322041</td>\n      <td>661.962407</td>\n      <td>-1</td>\n    </tr>\n    <tr>\n      <th>4</th>\n      <td>montgomery</td>\n      <td>0.078</td>\n      <td>600</td>\n      <td>/home/ubuntu/ContactTracing/data/SIR_Cache/tim...</td>\n      <td>random</td>\n      <td>0</td>\n      <td>2359</td>\n      <td>25664</td>\n      <td>32967</td>\n      <td>145552</td>\n      <td>59</td>\n      <td>523.116239</td>\n      <td>1423.6</td>\n      <td>3.947826</td>\n      <td>3733.643370</td>\n      <td>15</td>\n    </tr>\n  </tbody>\n</table>\n</div>"
     },
     "execution_count": 2,
     "metadata": {},
     "output_type": "execute_result"
    }
   ],
   "source": [
    "# Load in results file\n",
    "with open(PROJECT_ROOT /\"output\"/\"run_6Mm2w/\" / \"results.csv\", \"r\") as csv:\n",
    "    df = pd.read_csv(csv)\n",
    "print(len(df))\n",
    "df.head()"
   ],
   "metadata": {
    "collapsed": false,
    "pycharm": {
     "name": "#%%\n"
    }
   }
  },
  {
   "cell_type": "code",
   "execution_count": 3,
   "outputs": [
    {
     "name": "stdout",
     "output_type": "stream",
     "text": [
      "2800\n"
     ]
    },
    {
     "data": {
      "text/plain": "             G      p  budget  \\\n2   montgomery  0.078     600   \n11  montgomery  0.078     600   \n25  montgomery  0.078     600   \n28  montgomery  0.078     600   \n33  montgomery  0.078     600   \n\n                                           from_cache      method  trial_id  \\\n2   /home/ubuntu/ContactTracing/data/SIR_Cache/tim...  mip_gurobi         0   \n11  /home/ubuntu/ContactTracing/data/SIR_Cache/tim...  mip_gurobi         0   \n25  /home/ubuntu/ContactTracing/data/SIR_Cache/tim...  mip_gurobi         0   \n28  /home/ubuntu/ContactTracing/data/SIR_Cache/tim...  mip_gurobi         0   \n33  /home/ubuntu/ContactTracing/data/SIR_Cache/tim...  mip_gurobi         0   \n\n    I_size  v1_size  v2_size  num_cross_edges  maxD   mip_value  \\\n2     1217     6233    11135            16931    28   60.874122   \n11    1584     7527    12026            19278    27   74.677546   \n25    5772    26012    16285            42903    31  242.382803   \n28    4854    31285    22040            82500    32  361.245810   \n33    5736    26662    16890            47422    27  261.335158   \n\n    min_exposed_value   duration  v1_objective  greedy_overlap  \n2                77.4   1.060092    661.962407             426  \n11              101.4   1.439489    846.461136             412  \n25              465.8   7.878851   4839.647687             325  \n28              875.4  14.611467   5702.689558             287  \n33              515.2  12.540073   5014.496636             289  ",
      "text/html": "<div>\n<style scoped>\n    .dataframe tbody tr th:only-of-type {\n        vertical-align: middle;\n    }\n\n    .dataframe tbody tr th {\n        vertical-align: top;\n    }\n\n    .dataframe thead th {\n        text-align: right;\n    }\n</style>\n<table border=\"1\" class=\"dataframe\">\n  <thead>\n    <tr style=\"text-align: right;\">\n      <th></th>\n      <th>G</th>\n      <th>p</th>\n      <th>budget</th>\n      <th>from_cache</th>\n      <th>method</th>\n      <th>trial_id</th>\n      <th>I_size</th>\n      <th>v1_size</th>\n      <th>v2_size</th>\n      <th>num_cross_edges</th>\n      <th>maxD</th>\n      <th>mip_value</th>\n      <th>min_exposed_value</th>\n      <th>duration</th>\n      <th>v1_objective</th>\n      <th>greedy_overlap</th>\n    </tr>\n  </thead>\n  <tbody>\n    <tr>\n      <th>2</th>\n      <td>montgomery</td>\n      <td>0.078</td>\n      <td>600</td>\n      <td>/home/ubuntu/ContactTracing/data/SIR_Cache/tim...</td>\n      <td>mip_gurobi</td>\n      <td>0</td>\n      <td>1217</td>\n      <td>6233</td>\n      <td>11135</td>\n      <td>16931</td>\n      <td>28</td>\n      <td>60.874122</td>\n      <td>77.4</td>\n      <td>1.060092</td>\n      <td>661.962407</td>\n      <td>426</td>\n    </tr>\n    <tr>\n      <th>11</th>\n      <td>montgomery</td>\n      <td>0.078</td>\n      <td>600</td>\n      <td>/home/ubuntu/ContactTracing/data/SIR_Cache/tim...</td>\n      <td>mip_gurobi</td>\n      <td>0</td>\n      <td>1584</td>\n      <td>7527</td>\n      <td>12026</td>\n      <td>19278</td>\n      <td>27</td>\n      <td>74.677546</td>\n      <td>101.4</td>\n      <td>1.439489</td>\n      <td>846.461136</td>\n      <td>412</td>\n    </tr>\n    <tr>\n      <th>25</th>\n      <td>montgomery</td>\n      <td>0.078</td>\n      <td>600</td>\n      <td>/home/ubuntu/ContactTracing/data/SIR_Cache/tim...</td>\n      <td>mip_gurobi</td>\n      <td>0</td>\n      <td>5772</td>\n      <td>26012</td>\n      <td>16285</td>\n      <td>42903</td>\n      <td>31</td>\n      <td>242.382803</td>\n      <td>465.8</td>\n      <td>7.878851</td>\n      <td>4839.647687</td>\n      <td>325</td>\n    </tr>\n    <tr>\n      <th>28</th>\n      <td>montgomery</td>\n      <td>0.078</td>\n      <td>600</td>\n      <td>/home/ubuntu/ContactTracing/data/SIR_Cache/tim...</td>\n      <td>mip_gurobi</td>\n      <td>0</td>\n      <td>4854</td>\n      <td>31285</td>\n      <td>22040</td>\n      <td>82500</td>\n      <td>32</td>\n      <td>361.245810</td>\n      <td>875.4</td>\n      <td>14.611467</td>\n      <td>5702.689558</td>\n      <td>287</td>\n    </tr>\n    <tr>\n      <th>33</th>\n      <td>montgomery</td>\n      <td>0.078</td>\n      <td>600</td>\n      <td>/home/ubuntu/ContactTracing/data/SIR_Cache/tim...</td>\n      <td>mip_gurobi</td>\n      <td>0</td>\n      <td>5736</td>\n      <td>26662</td>\n      <td>16890</td>\n      <td>47422</td>\n      <td>27</td>\n      <td>261.335158</td>\n      <td>515.2</td>\n      <td>12.540073</td>\n      <td>5014.496636</td>\n      <td>289</td>\n    </tr>\n  </tbody>\n</table>\n</div>"
     },
     "execution_count": 3,
     "metadata": {},
     "output_type": "execute_result"
    }
   ],
   "source": [
    "# Extract the Gurobi MILP optimal runs\n",
    "optimal = df[df[\"method\"] == \"mip_gurobi\"]\n",
    "print(len(optimal))\n",
    "optimal.head()"
   ],
   "metadata": {
    "collapsed": false,
    "pycharm": {
     "name": "#%%\n"
    }
   }
  },
  {
   "cell_type": "code",
   "execution_count": 4,
   "outputs": [
    {
     "name": "stdout",
     "output_type": "stream",
     "text": [
      "2800\n"
     ]
    },
    {
     "data": {
      "text/plain": "             G      p  budget  \\\n2   montgomery  0.078     600   \n11  montgomery  0.078     600   \n25  montgomery  0.078     600   \n28  montgomery  0.078     600   \n33  montgomery  0.078     600   \n\n                                           from_cache  optimal_mip_value  \n2   /home/ubuntu/ContactTracing/data/SIR_Cache/tim...          60.874122  \n11  /home/ubuntu/ContactTracing/data/SIR_Cache/tim...          74.677546  \n25  /home/ubuntu/ContactTracing/data/SIR_Cache/tim...         242.382803  \n28  /home/ubuntu/ContactTracing/data/SIR_Cache/tim...         361.245810  \n33  /home/ubuntu/ContactTracing/data/SIR_Cache/tim...         261.335158  ",
      "text/html": "<div>\n<style scoped>\n    .dataframe tbody tr th:only-of-type {\n        vertical-align: middle;\n    }\n\n    .dataframe tbody tr th {\n        vertical-align: top;\n    }\n\n    .dataframe thead th {\n        text-align: right;\n    }\n</style>\n<table border=\"1\" class=\"dataframe\">\n  <thead>\n    <tr style=\"text-align: right;\">\n      <th></th>\n      <th>G</th>\n      <th>p</th>\n      <th>budget</th>\n      <th>from_cache</th>\n      <th>optimal_mip_value</th>\n    </tr>\n  </thead>\n  <tbody>\n    <tr>\n      <th>2</th>\n      <td>montgomery</td>\n      <td>0.078</td>\n      <td>600</td>\n      <td>/home/ubuntu/ContactTracing/data/SIR_Cache/tim...</td>\n      <td>60.874122</td>\n    </tr>\n    <tr>\n      <th>11</th>\n      <td>montgomery</td>\n      <td>0.078</td>\n      <td>600</td>\n      <td>/home/ubuntu/ContactTracing/data/SIR_Cache/tim...</td>\n      <td>74.677546</td>\n    </tr>\n    <tr>\n      <th>25</th>\n      <td>montgomery</td>\n      <td>0.078</td>\n      <td>600</td>\n      <td>/home/ubuntu/ContactTracing/data/SIR_Cache/tim...</td>\n      <td>242.382803</td>\n    </tr>\n    <tr>\n      <th>28</th>\n      <td>montgomery</td>\n      <td>0.078</td>\n      <td>600</td>\n      <td>/home/ubuntu/ContactTracing/data/SIR_Cache/tim...</td>\n      <td>361.245810</td>\n    </tr>\n    <tr>\n      <th>33</th>\n      <td>montgomery</td>\n      <td>0.078</td>\n      <td>600</td>\n      <td>/home/ubuntu/ContactTracing/data/SIR_Cache/tim...</td>\n      <td>261.335158</td>\n    </tr>\n  </tbody>\n</table>\n</div>"
     },
     "execution_count": 4,
     "metadata": {},
     "output_type": "execute_result"
    }
   ],
   "source": [
    "# Remove duplicates from different trials\n",
    "optimal = optimal[optimal[\"trial_id\"] == 0]\n",
    "\n",
    "# Only these 4 (\"G\", \"p\", \"budget\", \"from_cache\") are needed to uniquely identify simulation parameters\n",
    "optimal = optimal[[\"G\", \"p\", \"budget\", \"from_cache\", \"mip_value\"]]\n",
    "optimal = optimal.rename(columns={\"mip_value\": \"optimal_mip_value\"})\n",
    "\n",
    "print(len(optimal))\n",
    "optimal.head()"
   ],
   "metadata": {
    "collapsed": false,
    "pycharm": {
     "name": "#%%\n"
    }
   }
  },
  {
   "cell_type": "code",
   "execution_count": 5,
   "outputs": [],
   "source": [
    "# Merge on the aforementioned key columns\n",
    "df = df.merge(optimal, on=[\"G\", \"p\", \"budget\", \"from_cache\"])"
   ],
   "metadata": {
    "collapsed": false,
    "pycharm": {
     "name": "#%%\n"
    }
   }
  },
  {
   "cell_type": "code",
   "execution_count": 6,
   "outputs": [
    {
     "data": {
      "text/plain": "            G      p  budget  \\\n0  montgomery  0.078     600   \n1  montgomery  0.078     600   \n2  montgomery  0.078     600   \n3  montgomery  0.078     600   \n4  montgomery  0.078     600   \n\n                                          from_cache           method  \\\n0  /home/ubuntu/ContactTracing/data/SIR_Cache/tim...           random   \n1  /home/ubuntu/ContactTracing/data/SIR_Cache/tim...        dependent   \n2  /home/ubuntu/ContactTracing/data/SIR_Cache/tim...       mip_gurobi   \n3  /home/ubuntu/ContactTracing/data/SIR_Cache/tim...  greedy_weighted   \n4  /home/ubuntu/ContactTracing/data/SIR_Cache/tim...           random   \n\n   trial_id  I_size  v1_size  v2_size  num_cross_edges  maxD   mip_value  \\\n0         0    1217     6233    11135            16931    28   88.819097   \n1         0    1217     6233    11135            16931    28   61.833362   \n2         0    1217     6233    11135            16931    28   60.874122   \n3         0    1217     6233    11135            16931    28   63.834657   \n4         0    2359    25664    32967           145552    59  523.116239   \n\n   min_exposed_value  duration  v1_objective  greedy_overlap  \\\n0              114.2  0.601694    661.962407              53   \n1               85.2  0.921509    661.962407             405   \n2               77.4  1.060092    661.962407             426   \n3               81.0  0.322041    661.962407              -1   \n4             1423.6  3.947826   3733.643370              15   \n\n   optimal_mip_value  \n0          60.874122  \n1          60.874122  \n2          60.874122  \n3          60.874122  \n4         432.438811  ",
      "text/html": "<div>\n<style scoped>\n    .dataframe tbody tr th:only-of-type {\n        vertical-align: middle;\n    }\n\n    .dataframe tbody tr th {\n        vertical-align: top;\n    }\n\n    .dataframe thead th {\n        text-align: right;\n    }\n</style>\n<table border=\"1\" class=\"dataframe\">\n  <thead>\n    <tr style=\"text-align: right;\">\n      <th></th>\n      <th>G</th>\n      <th>p</th>\n      <th>budget</th>\n      <th>from_cache</th>\n      <th>method</th>\n      <th>trial_id</th>\n      <th>I_size</th>\n      <th>v1_size</th>\n      <th>v2_size</th>\n      <th>num_cross_edges</th>\n      <th>maxD</th>\n      <th>mip_value</th>\n      <th>min_exposed_value</th>\n      <th>duration</th>\n      <th>v1_objective</th>\n      <th>greedy_overlap</th>\n      <th>optimal_mip_value</th>\n    </tr>\n  </thead>\n  <tbody>\n    <tr>\n      <th>0</th>\n      <td>montgomery</td>\n      <td>0.078</td>\n      <td>600</td>\n      <td>/home/ubuntu/ContactTracing/data/SIR_Cache/tim...</td>\n      <td>random</td>\n      <td>0</td>\n      <td>1217</td>\n      <td>6233</td>\n      <td>11135</td>\n      <td>16931</td>\n      <td>28</td>\n      <td>88.819097</td>\n      <td>114.2</td>\n      <td>0.601694</td>\n      <td>661.962407</td>\n      <td>53</td>\n      <td>60.874122</td>\n    </tr>\n    <tr>\n      <th>1</th>\n      <td>montgomery</td>\n      <td>0.078</td>\n      <td>600</td>\n      <td>/home/ubuntu/ContactTracing/data/SIR_Cache/tim...</td>\n      <td>dependent</td>\n      <td>0</td>\n      <td>1217</td>\n      <td>6233</td>\n      <td>11135</td>\n      <td>16931</td>\n      <td>28</td>\n      <td>61.833362</td>\n      <td>85.2</td>\n      <td>0.921509</td>\n      <td>661.962407</td>\n      <td>405</td>\n      <td>60.874122</td>\n    </tr>\n    <tr>\n      <th>2</th>\n      <td>montgomery</td>\n      <td>0.078</td>\n      <td>600</td>\n      <td>/home/ubuntu/ContactTracing/data/SIR_Cache/tim...</td>\n      <td>mip_gurobi</td>\n      <td>0</td>\n      <td>1217</td>\n      <td>6233</td>\n      <td>11135</td>\n      <td>16931</td>\n      <td>28</td>\n      <td>60.874122</td>\n      <td>77.4</td>\n      <td>1.060092</td>\n      <td>661.962407</td>\n      <td>426</td>\n      <td>60.874122</td>\n    </tr>\n    <tr>\n      <th>3</th>\n      <td>montgomery</td>\n      <td>0.078</td>\n      <td>600</td>\n      <td>/home/ubuntu/ContactTracing/data/SIR_Cache/tim...</td>\n      <td>greedy_weighted</td>\n      <td>0</td>\n      <td>1217</td>\n      <td>6233</td>\n      <td>11135</td>\n      <td>16931</td>\n      <td>28</td>\n      <td>63.834657</td>\n      <td>81.0</td>\n      <td>0.322041</td>\n      <td>661.962407</td>\n      <td>-1</td>\n      <td>60.874122</td>\n    </tr>\n    <tr>\n      <th>4</th>\n      <td>montgomery</td>\n      <td>0.078</td>\n      <td>600</td>\n      <td>/home/ubuntu/ContactTracing/data/SIR_Cache/tim...</td>\n      <td>random</td>\n      <td>0</td>\n      <td>2359</td>\n      <td>25664</td>\n      <td>32967</td>\n      <td>145552</td>\n      <td>59</td>\n      <td>523.116239</td>\n      <td>1423.6</td>\n      <td>3.947826</td>\n      <td>3733.643370</td>\n      <td>15</td>\n      <td>432.438811</td>\n    </tr>\n  </tbody>\n</table>\n</div>"
     },
     "execution_count": 6,
     "metadata": {},
     "output_type": "execute_result"
    }
   ],
   "source": [
    "df.head()\n"
   ],
   "metadata": {
    "collapsed": false,
    "pycharm": {
     "name": "#%%\n"
    }
   }
  },
  {
   "cell_type": "code",
   "execution_count": 7,
   "outputs": [
    {
     "data": {
      "text/plain": "            G      p  budget  \\\n0  montgomery  0.078     600   \n1  montgomery  0.078     600   \n2  montgomery  0.078     600   \n3  montgomery  0.078     600   \n4  montgomery  0.078     600   \n\n                                          from_cache           method  \\\n0  /home/ubuntu/ContactTracing/data/SIR_Cache/tim...           random   \n1  /home/ubuntu/ContactTracing/data/SIR_Cache/tim...        dependent   \n2  /home/ubuntu/ContactTracing/data/SIR_Cache/tim...       mip_gurobi   \n3  /home/ubuntu/ContactTracing/data/SIR_Cache/tim...  greedy_weighted   \n4  /home/ubuntu/ContactTracing/data/SIR_Cache/tim...           random   \n\n   trial_id  I_size  v1_size  v2_size  num_cross_edges  maxD   mip_value  \\\n0         0    1217     6233    11135            16931    28   88.819097   \n1         0    1217     6233    11135            16931    28   61.833362   \n2         0    1217     6233    11135            16931    28   60.874122   \n3         0    1217     6233    11135            16931    28   63.834657   \n4         0    2359    25664    32967           145552    59  523.116239   \n\n   min_exposed_value  duration  v1_objective  greedy_overlap  \\\n0              114.2  0.601694    661.962407              53   \n1               85.2  0.921509    661.962407             405   \n2               77.4  1.060092    661.962407             426   \n3               81.0  0.322041    661.962407              -1   \n4             1423.6  3.947826   3733.643370              15   \n\n   optimal_mip_value  mip_ratio_gap  \n0          60.874122       1.459062  \n1          60.874122       1.015758  \n2          60.874122       1.000000  \n3          60.874122       1.048634  \n4         432.438811       1.209688  ",
      "text/html": "<div>\n<style scoped>\n    .dataframe tbody tr th:only-of-type {\n        vertical-align: middle;\n    }\n\n    .dataframe tbody tr th {\n        vertical-align: top;\n    }\n\n    .dataframe thead th {\n        text-align: right;\n    }\n</style>\n<table border=\"1\" class=\"dataframe\">\n  <thead>\n    <tr style=\"text-align: right;\">\n      <th></th>\n      <th>G</th>\n      <th>p</th>\n      <th>budget</th>\n      <th>from_cache</th>\n      <th>method</th>\n      <th>trial_id</th>\n      <th>I_size</th>\n      <th>v1_size</th>\n      <th>v2_size</th>\n      <th>num_cross_edges</th>\n      <th>maxD</th>\n      <th>mip_value</th>\n      <th>min_exposed_value</th>\n      <th>duration</th>\n      <th>v1_objective</th>\n      <th>greedy_overlap</th>\n      <th>optimal_mip_value</th>\n      <th>mip_ratio_gap</th>\n    </tr>\n  </thead>\n  <tbody>\n    <tr>\n      <th>0</th>\n      <td>montgomery</td>\n      <td>0.078</td>\n      <td>600</td>\n      <td>/home/ubuntu/ContactTracing/data/SIR_Cache/tim...</td>\n      <td>random</td>\n      <td>0</td>\n      <td>1217</td>\n      <td>6233</td>\n      <td>11135</td>\n      <td>16931</td>\n      <td>28</td>\n      <td>88.819097</td>\n      <td>114.2</td>\n      <td>0.601694</td>\n      <td>661.962407</td>\n      <td>53</td>\n      <td>60.874122</td>\n      <td>1.459062</td>\n    </tr>\n    <tr>\n      <th>1</th>\n      <td>montgomery</td>\n      <td>0.078</td>\n      <td>600</td>\n      <td>/home/ubuntu/ContactTracing/data/SIR_Cache/tim...</td>\n      <td>dependent</td>\n      <td>0</td>\n      <td>1217</td>\n      <td>6233</td>\n      <td>11135</td>\n      <td>16931</td>\n      <td>28</td>\n      <td>61.833362</td>\n      <td>85.2</td>\n      <td>0.921509</td>\n      <td>661.962407</td>\n      <td>405</td>\n      <td>60.874122</td>\n      <td>1.015758</td>\n    </tr>\n    <tr>\n      <th>2</th>\n      <td>montgomery</td>\n      <td>0.078</td>\n      <td>600</td>\n      <td>/home/ubuntu/ContactTracing/data/SIR_Cache/tim...</td>\n      <td>mip_gurobi</td>\n      <td>0</td>\n      <td>1217</td>\n      <td>6233</td>\n      <td>11135</td>\n      <td>16931</td>\n      <td>28</td>\n      <td>60.874122</td>\n      <td>77.4</td>\n      <td>1.060092</td>\n      <td>661.962407</td>\n      <td>426</td>\n      <td>60.874122</td>\n      <td>1.000000</td>\n    </tr>\n    <tr>\n      <th>3</th>\n      <td>montgomery</td>\n      <td>0.078</td>\n      <td>600</td>\n      <td>/home/ubuntu/ContactTracing/data/SIR_Cache/tim...</td>\n      <td>greedy_weighted</td>\n      <td>0</td>\n      <td>1217</td>\n      <td>6233</td>\n      <td>11135</td>\n      <td>16931</td>\n      <td>28</td>\n      <td>63.834657</td>\n      <td>81.0</td>\n      <td>0.322041</td>\n      <td>661.962407</td>\n      <td>-1</td>\n      <td>60.874122</td>\n      <td>1.048634</td>\n    </tr>\n    <tr>\n      <th>4</th>\n      <td>montgomery</td>\n      <td>0.078</td>\n      <td>600</td>\n      <td>/home/ubuntu/ContactTracing/data/SIR_Cache/tim...</td>\n      <td>random</td>\n      <td>0</td>\n      <td>2359</td>\n      <td>25664</td>\n      <td>32967</td>\n      <td>145552</td>\n      <td>59</td>\n      <td>523.116239</td>\n      <td>1423.6</td>\n      <td>3.947826</td>\n      <td>3733.643370</td>\n      <td>15</td>\n      <td>432.438811</td>\n      <td>1.209688</td>\n    </tr>\n  </tbody>\n</table>\n</div>"
     },
     "execution_count": 7,
     "metadata": {},
     "output_type": "execute_result"
    }
   ],
   "source": [
    "df[\"mip_ratio_gap\"] = df[\"mip_value\"] / df[\"optimal_mip_value\"]\n",
    "df.head()"
   ],
   "metadata": {
    "collapsed": false,
    "pycharm": {
     "name": "#%%\n"
    }
   }
  },
  {
   "cell_type": "code",
   "execution_count": 8,
   "outputs": [],
   "source": [
    "# Check that mip_ratio_gap >= 1 for all elements\n",
    "assert len(df[df[\"mip_ratio_gap\"] < 1]) == 0"
   ],
   "metadata": {
    "collapsed": false,
    "pycharm": {
     "name": "#%%\n"
    }
   }
  },
  {
   "cell_type": "code",
   "execution_count": 9,
   "outputs": [],
   "source": [
    "df = df.sort_values(by=['v2_size'])"
   ],
   "metadata": {
    "collapsed": false,
    "pycharm": {
     "name": "#%%\n"
    }
   }
  },
  {
   "cell_type": "code",
   "execution_count": 10,
   "outputs": [
    {
     "data": {
      "text/plain": "               G      p  budget  \\\n1356  montgomery  0.078     600   \n1357  montgomery  0.078     600   \n1358  montgomery  0.078     600   \n1359  montgomery  0.078     600   \n758   montgomery  0.078     600   \n\n                                             from_cache           method  \\\n1356  /home/ubuntu/ContactTracing/data/SIR_Cache/tim...           random   \n1357  /home/ubuntu/ContactTracing/data/SIR_Cache/tim...        dependent   \n1358  /home/ubuntu/ContactTracing/data/SIR_Cache/tim...  greedy_weighted   \n1359  /home/ubuntu/ContactTracing/data/SIR_Cache/tim...       mip_gurobi   \n758   /home/ubuntu/ContactTracing/data/SIR_Cache/tim...       mip_gurobi   \n\n      trial_id  I_size  v1_size  v2_size  num_cross_edges  maxD  mip_value  \\\n1356         0     538     2886     6427             8390    25  40.197954   \n1357         0     538     2886     6427             8390    25  21.619965   \n1358         0     538     2886     6427             8390    25  22.388281   \n1359         0     538     2886     6427             8390    25  21.503628   \n758          0     529     2808     6472             8273    23  21.620672   \n\n      min_exposed_value  duration  v1_objective  greedy_overlap  \\\n1356               50.6  0.308147    278.972063             123   \n1357               27.2  0.779478    278.972063             489   \n1358               33.0  0.017547    278.972063              -1   \n1359               26.2  0.734187    278.972063             500   \n758                26.0  0.818339    276.134672             509   \n\n      optimal_mip_value  mip_ratio_gap  \n1356          21.503628       1.869357  \n1357          21.503628       1.005410  \n1358          21.503628       1.041140  \n1359          21.503628       1.000000  \n758           21.620672       1.000000  ",
      "text/html": "<div>\n<style scoped>\n    .dataframe tbody tr th:only-of-type {\n        vertical-align: middle;\n    }\n\n    .dataframe tbody tr th {\n        vertical-align: top;\n    }\n\n    .dataframe thead th {\n        text-align: right;\n    }\n</style>\n<table border=\"1\" class=\"dataframe\">\n  <thead>\n    <tr style=\"text-align: right;\">\n      <th></th>\n      <th>G</th>\n      <th>p</th>\n      <th>budget</th>\n      <th>from_cache</th>\n      <th>method</th>\n      <th>trial_id</th>\n      <th>I_size</th>\n      <th>v1_size</th>\n      <th>v2_size</th>\n      <th>num_cross_edges</th>\n      <th>maxD</th>\n      <th>mip_value</th>\n      <th>min_exposed_value</th>\n      <th>duration</th>\n      <th>v1_objective</th>\n      <th>greedy_overlap</th>\n      <th>optimal_mip_value</th>\n      <th>mip_ratio_gap</th>\n    </tr>\n  </thead>\n  <tbody>\n    <tr>\n      <th>1356</th>\n      <td>montgomery</td>\n      <td>0.078</td>\n      <td>600</td>\n      <td>/home/ubuntu/ContactTracing/data/SIR_Cache/tim...</td>\n      <td>random</td>\n      <td>0</td>\n      <td>538</td>\n      <td>2886</td>\n      <td>6427</td>\n      <td>8390</td>\n      <td>25</td>\n      <td>40.197954</td>\n      <td>50.6</td>\n      <td>0.308147</td>\n      <td>278.972063</td>\n      <td>123</td>\n      <td>21.503628</td>\n      <td>1.869357</td>\n    </tr>\n    <tr>\n      <th>1357</th>\n      <td>montgomery</td>\n      <td>0.078</td>\n      <td>600</td>\n      <td>/home/ubuntu/ContactTracing/data/SIR_Cache/tim...</td>\n      <td>dependent</td>\n      <td>0</td>\n      <td>538</td>\n      <td>2886</td>\n      <td>6427</td>\n      <td>8390</td>\n      <td>25</td>\n      <td>21.619965</td>\n      <td>27.2</td>\n      <td>0.779478</td>\n      <td>278.972063</td>\n      <td>489</td>\n      <td>21.503628</td>\n      <td>1.005410</td>\n    </tr>\n    <tr>\n      <th>1358</th>\n      <td>montgomery</td>\n      <td>0.078</td>\n      <td>600</td>\n      <td>/home/ubuntu/ContactTracing/data/SIR_Cache/tim...</td>\n      <td>greedy_weighted</td>\n      <td>0</td>\n      <td>538</td>\n      <td>2886</td>\n      <td>6427</td>\n      <td>8390</td>\n      <td>25</td>\n      <td>22.388281</td>\n      <td>33.0</td>\n      <td>0.017547</td>\n      <td>278.972063</td>\n      <td>-1</td>\n      <td>21.503628</td>\n      <td>1.041140</td>\n    </tr>\n    <tr>\n      <th>1359</th>\n      <td>montgomery</td>\n      <td>0.078</td>\n      <td>600</td>\n      <td>/home/ubuntu/ContactTracing/data/SIR_Cache/tim...</td>\n      <td>mip_gurobi</td>\n      <td>0</td>\n      <td>538</td>\n      <td>2886</td>\n      <td>6427</td>\n      <td>8390</td>\n      <td>25</td>\n      <td>21.503628</td>\n      <td>26.2</td>\n      <td>0.734187</td>\n      <td>278.972063</td>\n      <td>500</td>\n      <td>21.503628</td>\n      <td>1.000000</td>\n    </tr>\n    <tr>\n      <th>758</th>\n      <td>montgomery</td>\n      <td>0.078</td>\n      <td>600</td>\n      <td>/home/ubuntu/ContactTracing/data/SIR_Cache/tim...</td>\n      <td>mip_gurobi</td>\n      <td>0</td>\n      <td>529</td>\n      <td>2808</td>\n      <td>6472</td>\n      <td>8273</td>\n      <td>23</td>\n      <td>21.620672</td>\n      <td>26.0</td>\n      <td>0.818339</td>\n      <td>276.134672</td>\n      <td>509</td>\n      <td>21.620672</td>\n      <td>1.000000</td>\n    </tr>\n  </tbody>\n</table>\n</div>"
     },
     "execution_count": 10,
     "metadata": {},
     "output_type": "execute_result"
    }
   ],
   "source": [
    "dfk = [df[df[\"budget\"] == x] for x in range(600, 1201, 100)]\n",
    "dfk[0].head()"
   ],
   "metadata": {
    "collapsed": false,
    "pycharm": {
     "name": "#%%\n"
    }
   }
  },
  {
   "cell_type": "code",
   "execution_count": 11,
   "outputs": [],
   "source": [
    "# Create an column that splits dataset into n groups\n",
    "num_splits = 4\n",
    "col = []\n",
    "for i in range(num_splits):\n",
    "    col += [i] * int(len(df) / num_splits)\n",
    "df[\"v2_id\"] = col"
   ],
   "metadata": {
    "collapsed": false,
    "pycharm": {
     "name": "#%%\n"
    }
   }
  },
  {
   "cell_type": "code",
   "execution_count": 12,
   "outputs": [
    {
     "data": {
      "text/plain": "               G      p  budget  \\\n6159  montgomery  0.078     900   \n9357  montgomery  0.078    1100   \n9356  montgomery  0.078    1100   \n6158  montgomery  0.078     900   \n6157  montgomery  0.078     900   \n\n                                             from_cache      method  trial_id  \\\n6159  /home/ubuntu/ContactTracing/data/SIR_Cache/tim...   dependent         0   \n9357  /home/ubuntu/ContactTracing/data/SIR_Cache/tim...   dependent         0   \n9356  /home/ubuntu/ContactTracing/data/SIR_Cache/tim...      random         0   \n6158  /home/ubuntu/ContactTracing/data/SIR_Cache/tim...  mip_gurobi         0   \n6157  /home/ubuntu/ContactTracing/data/SIR_Cache/tim...      random         0   \n\n      I_size  v1_size  v2_size  num_cross_edges  maxD  mip_value  \\\n6159     538     2886     6427             8390    25  14.974574   \n9357     538     2886     6427             8390    25  11.312337   \n9356     538     2886     6427             8390    25  32.454532   \n6158     538     2886     6427             8390    25  14.893481   \n6157     538     2886     6427             8390    25  35.761233   \n\n      min_exposed_value  duration  v1_objective  greedy_overlap  \\\n6159               18.0  0.483384    278.972063             767   \n9357               13.8  0.431276    278.972063             978   \n9356               40.4  0.718345    278.972063             414   \n6158               16.8  0.402228    278.972063             792   \n6157               45.6  0.313535    278.972063             285   \n\n      optimal_mip_value  mip_ratio_gap  v2_id  \n6159          14.893481       1.005445      0  \n9357          11.271384       1.003633      0  \n9356          11.271384       2.879374      0  \n6158          14.893481       1.000000      0  \n6157          14.893481       2.401133      0  ",
      "text/html": "<div>\n<style scoped>\n    .dataframe tbody tr th:only-of-type {\n        vertical-align: middle;\n    }\n\n    .dataframe tbody tr th {\n        vertical-align: top;\n    }\n\n    .dataframe thead th {\n        text-align: right;\n    }\n</style>\n<table border=\"1\" class=\"dataframe\">\n  <thead>\n    <tr style=\"text-align: right;\">\n      <th></th>\n      <th>G</th>\n      <th>p</th>\n      <th>budget</th>\n      <th>from_cache</th>\n      <th>method</th>\n      <th>trial_id</th>\n      <th>I_size</th>\n      <th>v1_size</th>\n      <th>v2_size</th>\n      <th>num_cross_edges</th>\n      <th>maxD</th>\n      <th>mip_value</th>\n      <th>min_exposed_value</th>\n      <th>duration</th>\n      <th>v1_objective</th>\n      <th>greedy_overlap</th>\n      <th>optimal_mip_value</th>\n      <th>mip_ratio_gap</th>\n      <th>v2_id</th>\n    </tr>\n  </thead>\n  <tbody>\n    <tr>\n      <th>6159</th>\n      <td>montgomery</td>\n      <td>0.078</td>\n      <td>900</td>\n      <td>/home/ubuntu/ContactTracing/data/SIR_Cache/tim...</td>\n      <td>dependent</td>\n      <td>0</td>\n      <td>538</td>\n      <td>2886</td>\n      <td>6427</td>\n      <td>8390</td>\n      <td>25</td>\n      <td>14.974574</td>\n      <td>18.0</td>\n      <td>0.483384</td>\n      <td>278.972063</td>\n      <td>767</td>\n      <td>14.893481</td>\n      <td>1.005445</td>\n      <td>0</td>\n    </tr>\n    <tr>\n      <th>9357</th>\n      <td>montgomery</td>\n      <td>0.078</td>\n      <td>1100</td>\n      <td>/home/ubuntu/ContactTracing/data/SIR_Cache/tim...</td>\n      <td>dependent</td>\n      <td>0</td>\n      <td>538</td>\n      <td>2886</td>\n      <td>6427</td>\n      <td>8390</td>\n      <td>25</td>\n      <td>11.312337</td>\n      <td>13.8</td>\n      <td>0.431276</td>\n      <td>278.972063</td>\n      <td>978</td>\n      <td>11.271384</td>\n      <td>1.003633</td>\n      <td>0</td>\n    </tr>\n    <tr>\n      <th>9356</th>\n      <td>montgomery</td>\n      <td>0.078</td>\n      <td>1100</td>\n      <td>/home/ubuntu/ContactTracing/data/SIR_Cache/tim...</td>\n      <td>random</td>\n      <td>0</td>\n      <td>538</td>\n      <td>2886</td>\n      <td>6427</td>\n      <td>8390</td>\n      <td>25</td>\n      <td>32.454532</td>\n      <td>40.4</td>\n      <td>0.718345</td>\n      <td>278.972063</td>\n      <td>414</td>\n      <td>11.271384</td>\n      <td>2.879374</td>\n      <td>0</td>\n    </tr>\n    <tr>\n      <th>6158</th>\n      <td>montgomery</td>\n      <td>0.078</td>\n      <td>900</td>\n      <td>/home/ubuntu/ContactTracing/data/SIR_Cache/tim...</td>\n      <td>mip_gurobi</td>\n      <td>0</td>\n      <td>538</td>\n      <td>2886</td>\n      <td>6427</td>\n      <td>8390</td>\n      <td>25</td>\n      <td>14.893481</td>\n      <td>16.8</td>\n      <td>0.402228</td>\n      <td>278.972063</td>\n      <td>792</td>\n      <td>14.893481</td>\n      <td>1.000000</td>\n      <td>0</td>\n    </tr>\n    <tr>\n      <th>6157</th>\n      <td>montgomery</td>\n      <td>0.078</td>\n      <td>900</td>\n      <td>/home/ubuntu/ContactTracing/data/SIR_Cache/tim...</td>\n      <td>random</td>\n      <td>0</td>\n      <td>538</td>\n      <td>2886</td>\n      <td>6427</td>\n      <td>8390</td>\n      <td>25</td>\n      <td>35.761233</td>\n      <td>45.6</td>\n      <td>0.313535</td>\n      <td>278.972063</td>\n      <td>285</td>\n      <td>14.893481</td>\n      <td>2.401133</td>\n      <td>0</td>\n    </tr>\n  </tbody>\n</table>\n</div>"
     },
     "execution_count": 12,
     "metadata": {},
     "output_type": "execute_result"
    }
   ],
   "source": [
    "df.head()"
   ],
   "metadata": {
    "collapsed": false,
    "pycharm": {
     "name": "#%%\n"
    }
   }
  },
  {
   "cell_type": "code",
   "execution_count": 95,
   "outputs": [],
   "source": [
    "dp = pd.pivot_table(df, values=[\"mip_ratio_gap\", \"min_exposed_value\", \"duration\"], index=[\"method\"], columns=[\"v2_id\", \"budget\"], aggfunc=[\"mean\", \"max\"])#%%\n",
    "\n",
    "dp = dp.stack(0).stack(0)"
   ],
   "metadata": {
    "collapsed": false,
    "pycharm": {
     "name": "#%%\n"
    }
   }
  },
  {
   "cell_type": "code",
   "execution_count": 96,
   "outputs": [
    {
     "data": {
      "text/plain": "budget                                  600                            \\\nv2_id                                      0           1            2   \nmethod                                                                  \ndependent max  duration             3.781748    8.078604    21.699885   \n               min_exposed_value  238.400000  619.200000  1265.400000   \n               mip_ratio_gap        1.038041    1.040865     1.051145   \n          mean duration             1.830577    4.307887     9.824833   \n               min_exposed_value  104.830000  382.268000   955.120000   \n\nbudget                                               700               \\\nv2_id                                       3           0           1   \nmethod                                                                  \ndependent max  duration             45.945911    5.258072    7.968174   \n               min_exposed_value  1314.200000  230.200000  606.000000   \n               mip_ratio_gap         1.077680    1.043510    1.045796   \n          mean duration             17.348564    1.838484    4.362849   \n               min_exposed_value  1017.812000  100.642000  376.536000   \n\nbudget                                                            800   \\\nv2_id                                       2            3           0   \nmethod                                                                   \ndependent max  duration             20.251029    50.380835    4.597445   \n               min_exposed_value  1245.400000  1305.600000  229.600000   \n               mip_ratio_gap         1.057797     1.085760    1.045829   \n          mean duration             10.246147    18.092837    1.909075   \n               min_exposed_value   942.026000   995.948000   95.670000   \n\nbudget                                        ...         1000               \\\nv2_id                                      1  ...            2            3   \nmethod                                        ...                             \ndependent max  duration             8.855141  ...    22.437100    60.053831   \n               min_exposed_value  604.400000  ...  1210.600000  1255.600000   \n               mip_ratio_gap        1.049818  ...     1.078036     1.112191   \n          mean duration             4.649197  ...    11.783890    20.724335   \n               min_exposed_value  367.842000  ...   907.964000   946.074000   \n\nbudget                                  1100                           \\\nv2_id                                      0           1            2   \nmethod                                                                  \ndependent max  duration             6.465027    9.106422    23.110142   \n               min_exposed_value  207.200000  559.000000  1203.400000   \n               mip_ratio_gap        1.058801    1.061818     1.078374   \n          mean duration             2.155966    5.093305    12.346172   \n               min_exposed_value   84.444000  347.998000   896.130000   \n\nbudget                                               1200              \\\nv2_id                                       3           0           1   \nmethod                                                                  \ndependent max  duration             57.725062    5.293113    9.956282   \n               min_exposed_value  1225.200000  210.200000  559.000000   \n               mip_ratio_gap         1.115501    1.061937    1.063669   \n          mean duration             21.768375    2.183478    5.250280   \n               min_exposed_value   931.472000   80.264000  340.568000   \n\nbudget                                                      \nv2_id                                       2            3  \nmethod                                                      \ndependent max  duration             24.713740    57.852050  \n               min_exposed_value  1192.400000  1219.000000  \n               mip_ratio_gap         1.082586     1.131799  \n          mean duration             12.976372    23.238314  \n               min_exposed_value   881.812000   917.514000  \n\n[5 rows x 28 columns]",
      "text/html": "<div>\n<style scoped>\n    .dataframe tbody tr th:only-of-type {\n        vertical-align: middle;\n    }\n\n    .dataframe tbody tr th {\n        vertical-align: top;\n    }\n\n    .dataframe thead tr th {\n        text-align: left;\n    }\n\n    .dataframe thead tr:last-of-type th {\n        text-align: right;\n    }\n</style>\n<table border=\"1\" class=\"dataframe\">\n  <thead>\n    <tr>\n      <th></th>\n      <th></th>\n      <th>budget</th>\n      <th colspan=\"4\" halign=\"left\">600</th>\n      <th colspan=\"4\" halign=\"left\">700</th>\n      <th colspan=\"2\" halign=\"left\">800</th>\n      <th>...</th>\n      <th colspan=\"2\" halign=\"left\">1000</th>\n      <th colspan=\"4\" halign=\"left\">1100</th>\n      <th colspan=\"4\" halign=\"left\">1200</th>\n    </tr>\n    <tr>\n      <th></th>\n      <th></th>\n      <th>v2_id</th>\n      <th>0</th>\n      <th>1</th>\n      <th>2</th>\n      <th>3</th>\n      <th>0</th>\n      <th>1</th>\n      <th>2</th>\n      <th>3</th>\n      <th>0</th>\n      <th>1</th>\n      <th>...</th>\n      <th>2</th>\n      <th>3</th>\n      <th>0</th>\n      <th>1</th>\n      <th>2</th>\n      <th>3</th>\n      <th>0</th>\n      <th>1</th>\n      <th>2</th>\n      <th>3</th>\n    </tr>\n    <tr>\n      <th>method</th>\n      <th></th>\n      <th></th>\n      <th></th>\n      <th></th>\n      <th></th>\n      <th></th>\n      <th></th>\n      <th></th>\n      <th></th>\n      <th></th>\n      <th></th>\n      <th></th>\n      <th></th>\n      <th></th>\n      <th></th>\n      <th></th>\n      <th></th>\n      <th></th>\n      <th></th>\n      <th></th>\n      <th></th>\n      <th></th>\n      <th></th>\n    </tr>\n  </thead>\n  <tbody>\n    <tr>\n      <th rowspan=\"5\" valign=\"top\">dependent</th>\n      <th rowspan=\"3\" valign=\"top\">max</th>\n      <th>duration</th>\n      <td>3.781748</td>\n      <td>8.078604</td>\n      <td>21.699885</td>\n      <td>45.945911</td>\n      <td>5.258072</td>\n      <td>7.968174</td>\n      <td>20.251029</td>\n      <td>50.380835</td>\n      <td>4.597445</td>\n      <td>8.855141</td>\n      <td>...</td>\n      <td>22.437100</td>\n      <td>60.053831</td>\n      <td>6.465027</td>\n      <td>9.106422</td>\n      <td>23.110142</td>\n      <td>57.725062</td>\n      <td>5.293113</td>\n      <td>9.956282</td>\n      <td>24.713740</td>\n      <td>57.852050</td>\n    </tr>\n    <tr>\n      <th>min_exposed_value</th>\n      <td>238.400000</td>\n      <td>619.200000</td>\n      <td>1265.400000</td>\n      <td>1314.200000</td>\n      <td>230.200000</td>\n      <td>606.000000</td>\n      <td>1245.400000</td>\n      <td>1305.600000</td>\n      <td>229.600000</td>\n      <td>604.400000</td>\n      <td>...</td>\n      <td>1210.600000</td>\n      <td>1255.600000</td>\n      <td>207.200000</td>\n      <td>559.000000</td>\n      <td>1203.400000</td>\n      <td>1225.200000</td>\n      <td>210.200000</td>\n      <td>559.000000</td>\n      <td>1192.400000</td>\n      <td>1219.000000</td>\n    </tr>\n    <tr>\n      <th>mip_ratio_gap</th>\n      <td>1.038041</td>\n      <td>1.040865</td>\n      <td>1.051145</td>\n      <td>1.077680</td>\n      <td>1.043510</td>\n      <td>1.045796</td>\n      <td>1.057797</td>\n      <td>1.085760</td>\n      <td>1.045829</td>\n      <td>1.049818</td>\n      <td>...</td>\n      <td>1.078036</td>\n      <td>1.112191</td>\n      <td>1.058801</td>\n      <td>1.061818</td>\n      <td>1.078374</td>\n      <td>1.115501</td>\n      <td>1.061937</td>\n      <td>1.063669</td>\n      <td>1.082586</td>\n      <td>1.131799</td>\n    </tr>\n    <tr>\n      <th rowspan=\"2\" valign=\"top\">mean</th>\n      <th>duration</th>\n      <td>1.830577</td>\n      <td>4.307887</td>\n      <td>9.824833</td>\n      <td>17.348564</td>\n      <td>1.838484</td>\n      <td>4.362849</td>\n      <td>10.246147</td>\n      <td>18.092837</td>\n      <td>1.909075</td>\n      <td>4.649197</td>\n      <td>...</td>\n      <td>11.783890</td>\n      <td>20.724335</td>\n      <td>2.155966</td>\n      <td>5.093305</td>\n      <td>12.346172</td>\n      <td>21.768375</td>\n      <td>2.183478</td>\n      <td>5.250280</td>\n      <td>12.976372</td>\n      <td>23.238314</td>\n    </tr>\n    <tr>\n      <th>min_exposed_value</th>\n      <td>104.830000</td>\n      <td>382.268000</td>\n      <td>955.120000</td>\n      <td>1017.812000</td>\n      <td>100.642000</td>\n      <td>376.536000</td>\n      <td>942.026000</td>\n      <td>995.948000</td>\n      <td>95.670000</td>\n      <td>367.842000</td>\n      <td>...</td>\n      <td>907.964000</td>\n      <td>946.074000</td>\n      <td>84.444000</td>\n      <td>347.998000</td>\n      <td>896.130000</td>\n      <td>931.472000</td>\n      <td>80.264000</td>\n      <td>340.568000</td>\n      <td>881.812000</td>\n      <td>917.514000</td>\n    </tr>\n  </tbody>\n</table>\n<p>5 rows × 28 columns</p>\n</div>"
     },
     "execution_count": 96,
     "metadata": {},
     "output_type": "execute_result"
    }
   ],
   "source": [
    "dp = dp.reorder_levels([1, 0], 1)\n",
    "dp = dp.sort_index(1)\n",
    "dp.head()"
   ],
   "metadata": {
    "collapsed": false,
    "pycharm": {
     "name": "#%%\n"
    }
   }
  },
  {
   "cell_type": "code",
   "execution_count": 97,
   "outputs": [],
   "source": [
    "dp = dp.reorder_levels([0, 2, 1], 0)"
   ],
   "metadata": {
    "collapsed": false,
    "pycharm": {
     "name": "#%%\n"
    }
   }
  },
  {
   "cell_type": "code",
   "execution_count": 98,
   "outputs": [],
   "source": [
    "dp = dp.sort_index(axis=0)"
   ],
   "metadata": {
    "collapsed": false,
    "pycharm": {
     "name": "#%%\n"
    }
   }
  },
  {
   "cell_type": "code",
   "execution_count": 99,
   "outputs": [
    {
     "data": {
      "text/plain": "v2_id                                            0           1            2  \\\nmethod                                                                        \ndependent       duration          max     3.781748    8.078604    21.699885   \n                                  mean    1.830577    4.307887     9.824833   \n                min_exposed_value max   238.400000  619.200000  1265.400000   \n                                  mean  104.830000  382.268000   955.120000   \n                mip_ratio_gap     max     1.038041    1.040865     1.051145   \n                                  mean    1.021244    1.032441     1.038486   \ngreedy_weighted duration          max     1.560015    1.139389     1.400481   \n                                  mean    0.165830    0.398125     0.687424   \n                min_exposed_value max   225.000000  599.400000  1210.800000   \n                                  mean   99.064000  363.586000   906.338000   \n                mip_ratio_gap     max     1.068697    1.054712     1.057458   \n                                  mean    1.048383    1.046317     1.046540   \nmip_gurobi      duration          max     6.737597   18.084417    45.786172   \n                                  mean    2.394247    8.422776    20.841729   \n                min_exposed_value max   243.000000  608.600000  1241.000000   \n                                  mean  103.320000  376.374000   937.890000   \n                mip_ratio_gap     max     1.000000    1.000000     1.000000   \n                                  mean    1.000000    1.000000     1.000000   \nrandom          duration          max     2.924506    5.877657     7.391596   \n                                  mean    1.269207    2.924833     4.780821   \n                min_exposed_value max   297.200000  698.800000  1401.200000   \n                                  mean  139.016000  441.870000  1054.732000   \n                mip_ratio_gap     max     1.869357    1.301130     1.204788   \n                                  mean    1.467377    1.228974     1.174950   \n\nv2_id                                             3  \nmethod                                               \ndependent       duration          max     45.945911  \n                                  mean    17.348564  \n                min_exposed_value max   1314.200000  \n                                  mean  1017.812000  \n                mip_ratio_gap     max      1.077680  \n                                  mean     1.057720  \ngreedy_weighted duration          max      2.001919  \n                                  mean     0.482665  \n                min_exposed_value max   1238.000000  \n                                  mean   965.442000  \n                mip_ratio_gap     max      1.062014  \n                                  mean     1.041912  \nmip_gurobi      duration          max     62.091209  \n                                  mean    33.921642  \n                min_exposed_value max   1273.000000  \n                                  mean   993.028000  \n                mip_ratio_gap     max      1.000000  \n                                  mean     1.000000  \nrandom          duration          max     13.162880  \n                                  mean     5.487362  \n                min_exposed_value max   1507.000000  \n                                  mean  1166.488000  \n                mip_ratio_gap     max      1.454691  \n                                  mean     1.289964  ",
      "text/html": "<div>\n<style scoped>\n    .dataframe tbody tr th:only-of-type {\n        vertical-align: middle;\n    }\n\n    .dataframe tbody tr th {\n        vertical-align: top;\n    }\n\n    .dataframe thead th {\n        text-align: right;\n    }\n</style>\n<table border=\"1\" class=\"dataframe\">\n  <thead>\n    <tr style=\"text-align: right;\">\n      <th></th>\n      <th></th>\n      <th>v2_id</th>\n      <th>0</th>\n      <th>1</th>\n      <th>2</th>\n      <th>3</th>\n    </tr>\n    <tr>\n      <th>method</th>\n      <th></th>\n      <th></th>\n      <th></th>\n      <th></th>\n      <th></th>\n      <th></th>\n    </tr>\n  </thead>\n  <tbody>\n    <tr>\n      <th rowspan=\"6\" valign=\"top\">dependent</th>\n      <th rowspan=\"2\" valign=\"top\">duration</th>\n      <th>max</th>\n      <td>3.781748</td>\n      <td>8.078604</td>\n      <td>21.699885</td>\n      <td>45.945911</td>\n    </tr>\n    <tr>\n      <th>mean</th>\n      <td>1.830577</td>\n      <td>4.307887</td>\n      <td>9.824833</td>\n      <td>17.348564</td>\n    </tr>\n    <tr>\n      <th rowspan=\"2\" valign=\"top\">min_exposed_value</th>\n      <th>max</th>\n      <td>238.400000</td>\n      <td>619.200000</td>\n      <td>1265.400000</td>\n      <td>1314.200000</td>\n    </tr>\n    <tr>\n      <th>mean</th>\n      <td>104.830000</td>\n      <td>382.268000</td>\n      <td>955.120000</td>\n      <td>1017.812000</td>\n    </tr>\n    <tr>\n      <th rowspan=\"2\" valign=\"top\">mip_ratio_gap</th>\n      <th>max</th>\n      <td>1.038041</td>\n      <td>1.040865</td>\n      <td>1.051145</td>\n      <td>1.077680</td>\n    </tr>\n    <tr>\n      <th>mean</th>\n      <td>1.021244</td>\n      <td>1.032441</td>\n      <td>1.038486</td>\n      <td>1.057720</td>\n    </tr>\n    <tr>\n      <th rowspan=\"6\" valign=\"top\">greedy_weighted</th>\n      <th rowspan=\"2\" valign=\"top\">duration</th>\n      <th>max</th>\n      <td>1.560015</td>\n      <td>1.139389</td>\n      <td>1.400481</td>\n      <td>2.001919</td>\n    </tr>\n    <tr>\n      <th>mean</th>\n      <td>0.165830</td>\n      <td>0.398125</td>\n      <td>0.687424</td>\n      <td>0.482665</td>\n    </tr>\n    <tr>\n      <th rowspan=\"2\" valign=\"top\">min_exposed_value</th>\n      <th>max</th>\n      <td>225.000000</td>\n      <td>599.400000</td>\n      <td>1210.800000</td>\n      <td>1238.000000</td>\n    </tr>\n    <tr>\n      <th>mean</th>\n      <td>99.064000</td>\n      <td>363.586000</td>\n      <td>906.338000</td>\n      <td>965.442000</td>\n    </tr>\n    <tr>\n      <th rowspan=\"2\" valign=\"top\">mip_ratio_gap</th>\n      <th>max</th>\n      <td>1.068697</td>\n      <td>1.054712</td>\n      <td>1.057458</td>\n      <td>1.062014</td>\n    </tr>\n    <tr>\n      <th>mean</th>\n      <td>1.048383</td>\n      <td>1.046317</td>\n      <td>1.046540</td>\n      <td>1.041912</td>\n    </tr>\n    <tr>\n      <th rowspan=\"6\" valign=\"top\">mip_gurobi</th>\n      <th rowspan=\"2\" valign=\"top\">duration</th>\n      <th>max</th>\n      <td>6.737597</td>\n      <td>18.084417</td>\n      <td>45.786172</td>\n      <td>62.091209</td>\n    </tr>\n    <tr>\n      <th>mean</th>\n      <td>2.394247</td>\n      <td>8.422776</td>\n      <td>20.841729</td>\n      <td>33.921642</td>\n    </tr>\n    <tr>\n      <th rowspan=\"2\" valign=\"top\">min_exposed_value</th>\n      <th>max</th>\n      <td>243.000000</td>\n      <td>608.600000</td>\n      <td>1241.000000</td>\n      <td>1273.000000</td>\n    </tr>\n    <tr>\n      <th>mean</th>\n      <td>103.320000</td>\n      <td>376.374000</td>\n      <td>937.890000</td>\n      <td>993.028000</td>\n    </tr>\n    <tr>\n      <th rowspan=\"2\" valign=\"top\">mip_ratio_gap</th>\n      <th>max</th>\n      <td>1.000000</td>\n      <td>1.000000</td>\n      <td>1.000000</td>\n      <td>1.000000</td>\n    </tr>\n    <tr>\n      <th>mean</th>\n      <td>1.000000</td>\n      <td>1.000000</td>\n      <td>1.000000</td>\n      <td>1.000000</td>\n    </tr>\n    <tr>\n      <th rowspan=\"6\" valign=\"top\">random</th>\n      <th rowspan=\"2\" valign=\"top\">duration</th>\n      <th>max</th>\n      <td>2.924506</td>\n      <td>5.877657</td>\n      <td>7.391596</td>\n      <td>13.162880</td>\n    </tr>\n    <tr>\n      <th>mean</th>\n      <td>1.269207</td>\n      <td>2.924833</td>\n      <td>4.780821</td>\n      <td>5.487362</td>\n    </tr>\n    <tr>\n      <th rowspan=\"2\" valign=\"top\">min_exposed_value</th>\n      <th>max</th>\n      <td>297.200000</td>\n      <td>698.800000</td>\n      <td>1401.200000</td>\n      <td>1507.000000</td>\n    </tr>\n    <tr>\n      <th>mean</th>\n      <td>139.016000</td>\n      <td>441.870000</td>\n      <td>1054.732000</td>\n      <td>1166.488000</td>\n    </tr>\n    <tr>\n      <th rowspan=\"2\" valign=\"top\">mip_ratio_gap</th>\n      <th>max</th>\n      <td>1.869357</td>\n      <td>1.301130</td>\n      <td>1.204788</td>\n      <td>1.454691</td>\n    </tr>\n    <tr>\n      <th>mean</th>\n      <td>1.467377</td>\n      <td>1.228974</td>\n      <td>1.174950</td>\n      <td>1.289964</td>\n    </tr>\n  </tbody>\n</table>\n</div>"
     },
     "execution_count": 99,
     "metadata": {},
     "output_type": "execute_result"
    }
   ],
   "source": [
    "dp600 = dp[600]\n",
    "dp600"
   ],
   "metadata": {
    "collapsed": false,
    "pycharm": {
     "name": "#%%\n"
    }
   }
  },
  {
   "cell_type": "code",
   "execution_count": 100,
   "outputs": [],
   "source": [
    "dp = dp.drop(\"mip_gurobi\")\n",
    "dp = dp.drop((\"random\", \"duration\"))"
   ],
   "metadata": {
    "collapsed": false,
    "pycharm": {
     "name": "#%%\n"
    }
   }
  },
  {
   "cell_type": "code",
   "execution_count": 101,
   "outputs": [],
   "source": [
    "dp.index.names = [\"method\", \"statistic\", \"aggregation\"]"
   ],
   "metadata": {
    "collapsed": false,
    "pycharm": {
     "name": "#%%\n"
    }
   }
  },
  {
   "cell_type": "code",
   "execution_count": 102,
   "outputs": [],
   "source": [
    "idx = pd.IndexSlice\n",
    "dp.loc[idx[:, \"min_exposed_value\", :], :] = dp.loc[idx[:, \"min_exposed_value\", :], :].applymap(lambda x: '{:.1f}'.format(x))\n",
    "dp.loc[idx[:, \"mip_ratio_gap\", :], :] = dp.loc[idx[:, \"mip_ratio_gap\", :], :].applymap(lambda x: '{:.3f}'.format(x))\n",
    "dp.loc[idx[:, \"duration\", :], :] = dp.loc[idx[:, \"duration\", :], :].applymap(lambda x: '{:.1f}'.format(x))"
   ],
   "metadata": {
    "collapsed": false,
    "pycharm": {
     "name": "#%%\n"
    }
   }
  },
  {
   "cell_type": "code",
   "execution_count": 103,
   "outputs": [
    {
     "data": {
      "text/plain": "budget                                          600                          \\\nv2_id                                              0      1       2       3   \nmethod          statistic         aggregation                                 \ndependent       duration          max            3.8    8.1    21.7    45.9   \n                                  mean           1.8    4.3     9.8    17.3   \n                min_exposed_value max          238.4  619.2  1265.4  1314.2   \n                                  mean         104.8  382.3   955.1  1017.8   \n                mip_ratio_gap     max          1.038  1.041   1.051   1.078   \n                                  mean         1.021  1.032   1.038   1.058   \ngreedy_weighted duration          max            1.6    1.1     1.4     2.0   \n                                  mean           0.2    0.4     0.7     0.5   \n                min_exposed_value max          225.0  599.4  1210.8  1238.0   \n                                  mean          99.1  363.6   906.3   965.4   \n                mip_ratio_gap     max          1.069  1.055   1.057   1.062   \n                                  mean         1.048  1.046   1.047   1.042   \nrandom          min_exposed_value max          297.2  698.8  1401.2  1507.0   \n                                  mean         139.0  441.9  1054.7  1166.5   \n                mip_ratio_gap     max          1.869  1.301   1.205   1.455   \n                                  mean         1.467  1.229   1.175   1.290   \n\nbudget                                          700                          \\\nv2_id                                              0      1       2       3   \nmethod          statistic         aggregation                                 \ndependent       duration          max            5.3    8.0    20.3    50.4   \n                                  mean           1.8    4.4    10.2    18.1   \n                min_exposed_value max          230.2  606.0  1245.4  1305.6   \n                                  mean         100.6  376.5   942.0   995.9   \n                mip_ratio_gap     max          1.044  1.046   1.058   1.086   \n                                  mean         1.023  1.037   1.043   1.066   \ngreedy_weighted duration          max            1.0    1.3     1.7     2.1   \n                                  mean           0.1    0.5     0.7     0.5   \n                min_exposed_value max          216.6  557.8  1216.6  1221.0   \n                                  mean          94.5  353.5   888.5   936.7   \n                mip_ratio_gap     max          1.077  1.063   1.063   1.078   \n                                  mean         1.052  1.052   1.052   1.049   \nrandom          min_exposed_value max          292.4  674.8  1406.0  1470.8   \n                                  mean         136.3  440.2  1050.3  1158.3   \n                mip_ratio_gap     max          2.055  1.346   1.228   1.498   \n                                  mean         1.537  1.258   1.196   1.322   \n\nbudget                                          800          ...    1000  \\\nv2_id                                              0      1  ...       2   \nmethod          statistic         aggregation                ...           \ndependent       duration          max            4.6    8.9  ...    22.4   \n                                  mean           1.9    4.6  ...    11.8   \n                min_exposed_value max          229.6  604.4  ...  1210.6   \n                                  mean          95.7  367.8  ...   908.0   \n                mip_ratio_gap     max          1.046  1.050  ...   1.078   \n                                  mean         1.024  1.041  ...   1.056   \ngreedy_weighted duration          max            1.1    1.5  ...     2.3   \n                                  mean           0.2    0.4  ...     0.8   \n                min_exposed_value max          211.2  537.6  ...  1126.2   \n                                  mean          89.6  342.6  ...   835.6   \n                mip_ratio_gap     max          1.071  1.065  ...   1.076   \n                                  mean         1.056  1.056  ...   1.068   \nrandom          min_exposed_value max          291.4  677.0  ...  1378.4   \n                                  mean         134.0  438.9  ...  1042.5   \n                mip_ratio_gap     max          2.151  1.374  ...   1.289   \n                                  mean         1.610  1.287  ...   1.256   \n\nbudget                                                  1100                 \\\nv2_id                                               3      0      1       2   \nmethod          statistic         aggregation                                 \ndependent       duration          max            60.1    6.5    9.1    23.1   \n                                  mean           20.7    2.2    5.1    12.3   \n                min_exposed_value max          1255.6  207.2  559.0  1203.4   \n                                  mean          946.1   84.4  348.0   896.1   \n                mip_ratio_gap     max           1.112  1.059  1.062   1.078   \n                                  mean          1.085  1.026  1.051   1.060   \ngreedy_weighted duration          max             1.9    1.5    1.5     2.1   \n                                  mean            0.6    0.1    0.5     0.7   \n                min_exposed_value max          1153.4  193.6  524.8  1105.2   \n                                  mean          871.0   76.7  319.7   819.3   \n                mip_ratio_gap     max           1.116  1.093  1.082   1.082   \n                                  mean          1.070  1.067  1.068   1.072   \nrandom          min_exposed_value max          1458.0  284.6  678.4  1391.6   \n                                  mean         1132.4  128.4  433.1  1040.0   \n                mip_ratio_gap     max           1.636  2.920  1.489   1.316   \n                                  mean          1.413  1.850  1.371   1.275   \n\nbudget                                                  1200                 \\\nv2_id                                               3      0      1       2   \nmethod          statistic         aggregation                                 \ndependent       duration          max            57.7    5.3   10.0    24.7   \n                                  mean           21.8    2.2    5.3    13.0   \n                min_exposed_value max          1225.2  210.2  559.0  1192.4   \n                                  mean          931.5   80.3  340.6   881.8   \n                mip_ratio_gap     max           1.116  1.062  1.064   1.083   \n                                  mean          1.090  1.027  1.056   1.064   \ngreedy_weighted duration          max             1.5    1.3    1.3     1.9   \n                                  mean            0.5    0.2    0.5     0.8   \n                min_exposed_value max          1113.4  182.2  512.8  1080.2   \n                                  mean          852.2   73.5  311.4   807.8   \n                mip_ratio_gap     max           1.119  1.086  1.087   1.088   \n                                  mean          1.078  1.071  1.073   1.076   \nrandom          min_exposed_value max          1439.6  280.4  673.2  1370.2   \n                                  mean         1126.4  125.3  429.8  1036.2   \n                mip_ratio_gap     max           1.696  3.143  1.527   1.332   \n                                  mean          1.443  1.944  1.399   1.294   \n\nbudget                                                 \nv2_id                                               3  \nmethod          statistic         aggregation          \ndependent       duration          max            57.9  \n                                  mean           23.2  \n                min_exposed_value max          1219.0  \n                                  mean          917.5  \n                mip_ratio_gap     max           1.132  \n                                  mean          1.095  \ngreedy_weighted duration          max             2.2  \n                                  mean            0.6  \n                min_exposed_value max          1129.0  \n                                  mean          829.6  \n                mip_ratio_gap     max           1.128  \n                                  mean          1.085  \nrandom          min_exposed_value max          1436.6  \n                                  mean         1119.5  \n                mip_ratio_gap     max           1.751  \n                                  mean          1.471  \n\n[16 rows x 28 columns]",
      "text/html": "<div>\n<style scoped>\n    .dataframe tbody tr th:only-of-type {\n        vertical-align: middle;\n    }\n\n    .dataframe tbody tr th {\n        vertical-align: top;\n    }\n\n    .dataframe thead tr th {\n        text-align: left;\n    }\n\n    .dataframe thead tr:last-of-type th {\n        text-align: right;\n    }\n</style>\n<table border=\"1\" class=\"dataframe\">\n  <thead>\n    <tr>\n      <th></th>\n      <th></th>\n      <th>budget</th>\n      <th colspan=\"4\" halign=\"left\">600</th>\n      <th colspan=\"4\" halign=\"left\">700</th>\n      <th colspan=\"2\" halign=\"left\">800</th>\n      <th>...</th>\n      <th colspan=\"2\" halign=\"left\">1000</th>\n      <th colspan=\"4\" halign=\"left\">1100</th>\n      <th colspan=\"4\" halign=\"left\">1200</th>\n    </tr>\n    <tr>\n      <th></th>\n      <th></th>\n      <th>v2_id</th>\n      <th>0</th>\n      <th>1</th>\n      <th>2</th>\n      <th>3</th>\n      <th>0</th>\n      <th>1</th>\n      <th>2</th>\n      <th>3</th>\n      <th>0</th>\n      <th>1</th>\n      <th>...</th>\n      <th>2</th>\n      <th>3</th>\n      <th>0</th>\n      <th>1</th>\n      <th>2</th>\n      <th>3</th>\n      <th>0</th>\n      <th>1</th>\n      <th>2</th>\n      <th>3</th>\n    </tr>\n    <tr>\n      <th>method</th>\n      <th>statistic</th>\n      <th>aggregation</th>\n      <th></th>\n      <th></th>\n      <th></th>\n      <th></th>\n      <th></th>\n      <th></th>\n      <th></th>\n      <th></th>\n      <th></th>\n      <th></th>\n      <th></th>\n      <th></th>\n      <th></th>\n      <th></th>\n      <th></th>\n      <th></th>\n      <th></th>\n      <th></th>\n      <th></th>\n      <th></th>\n      <th></th>\n    </tr>\n  </thead>\n  <tbody>\n    <tr>\n      <th rowspan=\"6\" valign=\"top\">dependent</th>\n      <th rowspan=\"2\" valign=\"top\">duration</th>\n      <th>max</th>\n      <td>3.8</td>\n      <td>8.1</td>\n      <td>21.7</td>\n      <td>45.9</td>\n      <td>5.3</td>\n      <td>8.0</td>\n      <td>20.3</td>\n      <td>50.4</td>\n      <td>4.6</td>\n      <td>8.9</td>\n      <td>...</td>\n      <td>22.4</td>\n      <td>60.1</td>\n      <td>6.5</td>\n      <td>9.1</td>\n      <td>23.1</td>\n      <td>57.7</td>\n      <td>5.3</td>\n      <td>10.0</td>\n      <td>24.7</td>\n      <td>57.9</td>\n    </tr>\n    <tr>\n      <th>mean</th>\n      <td>1.8</td>\n      <td>4.3</td>\n      <td>9.8</td>\n      <td>17.3</td>\n      <td>1.8</td>\n      <td>4.4</td>\n      <td>10.2</td>\n      <td>18.1</td>\n      <td>1.9</td>\n      <td>4.6</td>\n      <td>...</td>\n      <td>11.8</td>\n      <td>20.7</td>\n      <td>2.2</td>\n      <td>5.1</td>\n      <td>12.3</td>\n      <td>21.8</td>\n      <td>2.2</td>\n      <td>5.3</td>\n      <td>13.0</td>\n      <td>23.2</td>\n    </tr>\n    <tr>\n      <th rowspan=\"2\" valign=\"top\">min_exposed_value</th>\n      <th>max</th>\n      <td>238.4</td>\n      <td>619.2</td>\n      <td>1265.4</td>\n      <td>1314.2</td>\n      <td>230.2</td>\n      <td>606.0</td>\n      <td>1245.4</td>\n      <td>1305.6</td>\n      <td>229.6</td>\n      <td>604.4</td>\n      <td>...</td>\n      <td>1210.6</td>\n      <td>1255.6</td>\n      <td>207.2</td>\n      <td>559.0</td>\n      <td>1203.4</td>\n      <td>1225.2</td>\n      <td>210.2</td>\n      <td>559.0</td>\n      <td>1192.4</td>\n      <td>1219.0</td>\n    </tr>\n    <tr>\n      <th>mean</th>\n      <td>104.8</td>\n      <td>382.3</td>\n      <td>955.1</td>\n      <td>1017.8</td>\n      <td>100.6</td>\n      <td>376.5</td>\n      <td>942.0</td>\n      <td>995.9</td>\n      <td>95.7</td>\n      <td>367.8</td>\n      <td>...</td>\n      <td>908.0</td>\n      <td>946.1</td>\n      <td>84.4</td>\n      <td>348.0</td>\n      <td>896.1</td>\n      <td>931.5</td>\n      <td>80.3</td>\n      <td>340.6</td>\n      <td>881.8</td>\n      <td>917.5</td>\n    </tr>\n    <tr>\n      <th rowspan=\"2\" valign=\"top\">mip_ratio_gap</th>\n      <th>max</th>\n      <td>1.038</td>\n      <td>1.041</td>\n      <td>1.051</td>\n      <td>1.078</td>\n      <td>1.044</td>\n      <td>1.046</td>\n      <td>1.058</td>\n      <td>1.086</td>\n      <td>1.046</td>\n      <td>1.050</td>\n      <td>...</td>\n      <td>1.078</td>\n      <td>1.112</td>\n      <td>1.059</td>\n      <td>1.062</td>\n      <td>1.078</td>\n      <td>1.116</td>\n      <td>1.062</td>\n      <td>1.064</td>\n      <td>1.083</td>\n      <td>1.132</td>\n    </tr>\n    <tr>\n      <th>mean</th>\n      <td>1.021</td>\n      <td>1.032</td>\n      <td>1.038</td>\n      <td>1.058</td>\n      <td>1.023</td>\n      <td>1.037</td>\n      <td>1.043</td>\n      <td>1.066</td>\n      <td>1.024</td>\n      <td>1.041</td>\n      <td>...</td>\n      <td>1.056</td>\n      <td>1.085</td>\n      <td>1.026</td>\n      <td>1.051</td>\n      <td>1.060</td>\n      <td>1.090</td>\n      <td>1.027</td>\n      <td>1.056</td>\n      <td>1.064</td>\n      <td>1.095</td>\n    </tr>\n    <tr>\n      <th rowspan=\"6\" valign=\"top\">greedy_weighted</th>\n      <th rowspan=\"2\" valign=\"top\">duration</th>\n      <th>max</th>\n      <td>1.6</td>\n      <td>1.1</td>\n      <td>1.4</td>\n      <td>2.0</td>\n      <td>1.0</td>\n      <td>1.3</td>\n      <td>1.7</td>\n      <td>2.1</td>\n      <td>1.1</td>\n      <td>1.5</td>\n      <td>...</td>\n      <td>2.3</td>\n      <td>1.9</td>\n      <td>1.5</td>\n      <td>1.5</td>\n      <td>2.1</td>\n      <td>1.5</td>\n      <td>1.3</td>\n      <td>1.3</td>\n      <td>1.9</td>\n      <td>2.2</td>\n    </tr>\n    <tr>\n      <th>mean</th>\n      <td>0.2</td>\n      <td>0.4</td>\n      <td>0.7</td>\n      <td>0.5</td>\n      <td>0.1</td>\n      <td>0.5</td>\n      <td>0.7</td>\n      <td>0.5</td>\n      <td>0.2</td>\n      <td>0.4</td>\n      <td>...</td>\n      <td>0.8</td>\n      <td>0.6</td>\n      <td>0.1</td>\n      <td>0.5</td>\n      <td>0.7</td>\n      <td>0.5</td>\n      <td>0.2</td>\n      <td>0.5</td>\n      <td>0.8</td>\n      <td>0.6</td>\n    </tr>\n    <tr>\n      <th rowspan=\"2\" valign=\"top\">min_exposed_value</th>\n      <th>max</th>\n      <td>225.0</td>\n      <td>599.4</td>\n      <td>1210.8</td>\n      <td>1238.0</td>\n      <td>216.6</td>\n      <td>557.8</td>\n      <td>1216.6</td>\n      <td>1221.0</td>\n      <td>211.2</td>\n      <td>537.6</td>\n      <td>...</td>\n      <td>1126.2</td>\n      <td>1153.4</td>\n      <td>193.6</td>\n      <td>524.8</td>\n      <td>1105.2</td>\n      <td>1113.4</td>\n      <td>182.2</td>\n      <td>512.8</td>\n      <td>1080.2</td>\n      <td>1129.0</td>\n    </tr>\n    <tr>\n      <th>mean</th>\n      <td>99.1</td>\n      <td>363.6</td>\n      <td>906.3</td>\n      <td>965.4</td>\n      <td>94.5</td>\n      <td>353.5</td>\n      <td>888.5</td>\n      <td>936.7</td>\n      <td>89.6</td>\n      <td>342.6</td>\n      <td>...</td>\n      <td>835.6</td>\n      <td>871.0</td>\n      <td>76.7</td>\n      <td>319.7</td>\n      <td>819.3</td>\n      <td>852.2</td>\n      <td>73.5</td>\n      <td>311.4</td>\n      <td>807.8</td>\n      <td>829.6</td>\n    </tr>\n    <tr>\n      <th rowspan=\"2\" valign=\"top\">mip_ratio_gap</th>\n      <th>max</th>\n      <td>1.069</td>\n      <td>1.055</td>\n      <td>1.057</td>\n      <td>1.062</td>\n      <td>1.077</td>\n      <td>1.063</td>\n      <td>1.063</td>\n      <td>1.078</td>\n      <td>1.071</td>\n      <td>1.065</td>\n      <td>...</td>\n      <td>1.076</td>\n      <td>1.116</td>\n      <td>1.093</td>\n      <td>1.082</td>\n      <td>1.082</td>\n      <td>1.119</td>\n      <td>1.086</td>\n      <td>1.087</td>\n      <td>1.088</td>\n      <td>1.128</td>\n    </tr>\n    <tr>\n      <th>mean</th>\n      <td>1.048</td>\n      <td>1.046</td>\n      <td>1.047</td>\n      <td>1.042</td>\n      <td>1.052</td>\n      <td>1.052</td>\n      <td>1.052</td>\n      <td>1.049</td>\n      <td>1.056</td>\n      <td>1.056</td>\n      <td>...</td>\n      <td>1.068</td>\n      <td>1.070</td>\n      <td>1.067</td>\n      <td>1.068</td>\n      <td>1.072</td>\n      <td>1.078</td>\n      <td>1.071</td>\n      <td>1.073</td>\n      <td>1.076</td>\n      <td>1.085</td>\n    </tr>\n    <tr>\n      <th rowspan=\"4\" valign=\"top\">random</th>\n      <th rowspan=\"2\" valign=\"top\">min_exposed_value</th>\n      <th>max</th>\n      <td>297.2</td>\n      <td>698.8</td>\n      <td>1401.2</td>\n      <td>1507.0</td>\n      <td>292.4</td>\n      <td>674.8</td>\n      <td>1406.0</td>\n      <td>1470.8</td>\n      <td>291.4</td>\n      <td>677.0</td>\n      <td>...</td>\n      <td>1378.4</td>\n      <td>1458.0</td>\n      <td>284.6</td>\n      <td>678.4</td>\n      <td>1391.6</td>\n      <td>1439.6</td>\n      <td>280.4</td>\n      <td>673.2</td>\n      <td>1370.2</td>\n      <td>1436.6</td>\n    </tr>\n    <tr>\n      <th>mean</th>\n      <td>139.0</td>\n      <td>441.9</td>\n      <td>1054.7</td>\n      <td>1166.5</td>\n      <td>136.3</td>\n      <td>440.2</td>\n      <td>1050.3</td>\n      <td>1158.3</td>\n      <td>134.0</td>\n      <td>438.9</td>\n      <td>...</td>\n      <td>1042.5</td>\n      <td>1132.4</td>\n      <td>128.4</td>\n      <td>433.1</td>\n      <td>1040.0</td>\n      <td>1126.4</td>\n      <td>125.3</td>\n      <td>429.8</td>\n      <td>1036.2</td>\n      <td>1119.5</td>\n    </tr>\n    <tr>\n      <th rowspan=\"2\" valign=\"top\">mip_ratio_gap</th>\n      <th>max</th>\n      <td>1.869</td>\n      <td>1.301</td>\n      <td>1.205</td>\n      <td>1.455</td>\n      <td>2.055</td>\n      <td>1.346</td>\n      <td>1.228</td>\n      <td>1.498</td>\n      <td>2.151</td>\n      <td>1.374</td>\n      <td>...</td>\n      <td>1.289</td>\n      <td>1.636</td>\n      <td>2.920</td>\n      <td>1.489</td>\n      <td>1.316</td>\n      <td>1.696</td>\n      <td>3.143</td>\n      <td>1.527</td>\n      <td>1.332</td>\n      <td>1.751</td>\n    </tr>\n    <tr>\n      <th>mean</th>\n      <td>1.467</td>\n      <td>1.229</td>\n      <td>1.175</td>\n      <td>1.290</td>\n      <td>1.537</td>\n      <td>1.258</td>\n      <td>1.196</td>\n      <td>1.322</td>\n      <td>1.610</td>\n      <td>1.287</td>\n      <td>...</td>\n      <td>1.256</td>\n      <td>1.413</td>\n      <td>1.850</td>\n      <td>1.371</td>\n      <td>1.275</td>\n      <td>1.443</td>\n      <td>1.944</td>\n      <td>1.399</td>\n      <td>1.294</td>\n      <td>1.471</td>\n    </tr>\n  </tbody>\n</table>\n<p>16 rows × 28 columns</p>\n</div>"
     },
     "execution_count": 103,
     "metadata": {},
     "output_type": "execute_result"
    }
   ],
   "source": [
    "dp"
   ],
   "metadata": {
    "collapsed": false,
    "pycharm": {
     "name": "#%%\n"
    }
   }
  },
  {
   "cell_type": "code",
   "execution_count": 112,
   "outputs": [
    {
     "name": "stdout",
     "output_type": "stream",
     "text": [
      "\\begin{tabular}{lllllll}\n",
      "\\toprule\n",
      "       &               & v2\\_id &      0 &      1 &       2 &       3 \\\\\n",
      "method & statistic & aggregation &        &        &         &         \\\\\n",
      "\\midrule\n",
      "dependent & duration & max &    3.8 &    8.1 &    21.7 &    45.9 \\\\\n",
      "       &               & mean &    1.8 &    4.3 &     9.8 &    17.3 \\\\\n",
      "       & min\\_exposed\\_value & max &  238.4 &  619.2 &  1265.4 &  1314.2 \\\\\n",
      "       &               & mean &  104.8 &  382.3 &   955.1 &  1017.8 \\\\\n",
      "       & mip\\_ratio\\_gap & max &  1.038 &  1.041 &   1.051 &   1.078 \\\\\n",
      "       &               & mean &  1.021 &  1.032 &   1.038 &   1.058 \\\\\n",
      "greedy\\_weighted & duration & max &    1.6 &    1.1 &     1.4 &     2.0 \\\\\n",
      "       &               & mean &    0.2 &    0.4 &     0.7 &     0.5 \\\\\n",
      "       & min\\_exposed\\_value & max &  225.0 &  599.4 &  1210.8 &  1238.0 \\\\\n",
      "       &               & mean &   99.1 &  363.6 &   906.3 &   965.4 \\\\\n",
      "       & mip\\_ratio\\_gap & max &  1.069 &  1.055 &   1.057 &   1.062 \\\\\n",
      "       &               & mean &  1.048 &  1.046 &   1.047 &   1.042 \\\\\n",
      "random & min\\_exposed\\_value & max &  297.2 &  698.8 &  1401.2 &  1507.0 \\\\\n",
      "       &               & mean &  139.0 &  441.9 &  1054.7 &  1166.5 \\\\\n",
      "       & mip\\_ratio\\_gap & max &  1.869 &  1.301 &   1.205 &   1.455 \\\\\n",
      "       &               & mean &  1.467 &  1.229 &   1.175 &   1.290 \\\\\n",
      "\\bottomrule\n",
      "\\end{tabular}\n",
      "\n",
      "\\begin{tabular}{lllllll}\n",
      "\\toprule\n",
      "       &               & v2\\_id &      0 &      1 &       2 &       3 \\\\\n",
      "method & statistic & aggregation &        &        &         &         \\\\\n",
      "\\midrule\n",
      "dependent & duration & max &    5.3 &    8.0 &    20.3 &    50.4 \\\\\n",
      "       &               & mean &    1.8 &    4.4 &    10.2 &    18.1 \\\\\n",
      "       & min\\_exposed\\_value & max &  230.2 &  606.0 &  1245.4 &  1305.6 \\\\\n",
      "       &               & mean &  100.6 &  376.5 &   942.0 &   995.9 \\\\\n",
      "       & mip\\_ratio\\_gap & max &  1.044 &  1.046 &   1.058 &   1.086 \\\\\n",
      "       &               & mean &  1.023 &  1.037 &   1.043 &   1.066 \\\\\n",
      "greedy\\_weighted & duration & max &    1.0 &    1.3 &     1.7 &     2.1 \\\\\n",
      "       &               & mean &    0.1 &    0.5 &     0.7 &     0.5 \\\\\n",
      "       & min\\_exposed\\_value & max &  216.6 &  557.8 &  1216.6 &  1221.0 \\\\\n",
      "       &               & mean &   94.5 &  353.5 &   888.5 &   936.7 \\\\\n",
      "       & mip\\_ratio\\_gap & max &  1.077 &  1.063 &   1.063 &   1.078 \\\\\n",
      "       &               & mean &  1.052 &  1.052 &   1.052 &   1.049 \\\\\n",
      "random & min\\_exposed\\_value & max &  292.4 &  674.8 &  1406.0 &  1470.8 \\\\\n",
      "       &               & mean &  136.3 &  440.2 &  1050.3 &  1158.3 \\\\\n",
      "       & mip\\_ratio\\_gap & max &  2.055 &  1.346 &   1.228 &   1.498 \\\\\n",
      "       &               & mean &  1.537 &  1.258 &   1.196 &   1.322 \\\\\n",
      "\\bottomrule\n",
      "\\end{tabular}\n",
      "\n",
      "\\begin{tabular}{lllllll}\n",
      "\\toprule\n",
      "       &               & v2\\_id &      0 &      1 &       2 &       3 \\\\\n",
      "method & statistic & aggregation &        &        &         &         \\\\\n",
      "\\midrule\n",
      "dependent & duration & max &    4.6 &    8.9 &    20.1 &    49.8 \\\\\n",
      "       &               & mean &    1.9 &    4.6 &    10.9 &    19.3 \\\\\n",
      "       & min\\_exposed\\_value & max &  229.6 &  604.4 &  1245.0 &  1254.6 \\\\\n",
      "       &               & mean &   95.7 &  367.8 &   927.7 &   978.7 \\\\\n",
      "       & mip\\_ratio\\_gap & max &  1.046 &  1.050 &   1.064 &   1.092 \\\\\n",
      "       &               & mean &  1.024 &  1.041 &   1.048 &   1.071 \\\\\n",
      "greedy\\_weighted & duration & max &    1.1 &    1.5 &     1.6 &     1.7 \\\\\n",
      "       &               & mean &    0.2 &    0.4 &     0.7 &     0.5 \\\\\n",
      "       & min\\_exposed\\_value & max &  211.2 &  537.6 &  1185.0 &  1178.2 \\\\\n",
      "       &               & mean &   89.6 &  342.6 &   871.6 &   914.3 \\\\\n",
      "       & mip\\_ratio\\_gap & max &  1.071 &  1.065 &   1.068 &   1.092 \\\\\n",
      "       &               & mean &  1.056 &  1.056 &   1.058 &   1.056 \\\\\n",
      "random & min\\_exposed\\_value & max &  291.4 &  677.0 &  1397.2 &  1452.0 \\\\\n",
      "       &               & mean &  134.0 &  438.9 &  1049.9 &  1147.8 \\\\\n",
      "       & mip\\_ratio\\_gap & max &  2.151 &  1.374 &   1.251 &   1.566 \\\\\n",
      "       &               & mean &  1.610 &  1.287 &   1.217 &   1.354 \\\\\n",
      "\\bottomrule\n",
      "\\end{tabular}\n",
      "\n",
      "\\begin{tabular}{lllllll}\n",
      "\\toprule\n",
      "       &               & v2\\_id &      0 &      1 &       2 &       3 \\\\\n",
      "method & statistic & aggregation &        &        &         &         \\\\\n",
      "\\midrule\n",
      "dependent & duration & max &    5.7 &    8.6 &    24.6 &    59.7 \\\\\n",
      "       &               & mean &    2.0 &    4.8 &    11.4 &    20.9 \\\\\n",
      "       & min\\_exposed\\_value & max &  212.2 &  575.4 &  1228.6 &  1267.4 \\\\\n",
      "       &               & mean &   92.6 &  359.5 &   918.0 &   966.2 \\\\\n",
      "       & mip\\_ratio\\_gap & max &  1.050 &  1.052 &   1.071 &   1.104 \\\\\n",
      "       &               & mean &  1.025 &  1.044 &   1.052 &   1.078 \\\\\n",
      "greedy\\_weighted & duration & max &    1.3 &    1.5 &     2.0 &     1.3 \\\\\n",
      "       &               & mean &    0.2 &    0.5 &     0.8 &     0.6 \\\\\n",
      "       & min\\_exposed\\_value & max &  198.6 &  543.2 &  1155.4 &  1181.2 \\\\\n",
      "       &               & mean &   85.3 &  334.8 &   857.1 &   893.0 \\\\\n",
      "       & mip\\_ratio\\_gap & max &  1.078 &  1.073 &   1.073 &   1.101 \\\\\n",
      "       &               & mean &  1.061 &  1.061 &   1.063 &   1.063 \\\\\n",
      "random & min\\_exposed\\_value & max &  291.2 &  679.8 &  1398.0 &  1446.6 \\\\\n",
      "       &               & mean &  132.9 &  435.4 &  1046.0 &  1143.9 \\\\\n",
      "       & mip\\_ratio\\_gap & max &  2.401 &  1.419 &   1.273 &   1.602 \\\\\n",
      "       &               & mean &  1.688 &  1.315 &   1.237 &   1.384 \\\\\n",
      "\\bottomrule\n",
      "\\end{tabular}\n",
      "\n",
      "\\begin{tabular}{lllllll}\n",
      "\\toprule\n",
      "       &               & v2\\_id &      0 &      1 &       2 &       3 \\\\\n",
      "method & statistic & aggregation &        &        &         &         \\\\\n",
      "\\midrule\n",
      "dependent & duration & max &    4.8 &    9.6 &    22.4 &    60.1 \\\\\n",
      "       &               & mean &    2.0 &    5.0 &    11.8 &    20.7 \\\\\n",
      "       & min\\_exposed\\_value & max &  215.6 &  578.0 &  1210.6 &  1255.6 \\\\\n",
      "       &               & mean &   89.0 &  355.4 &   908.0 &   946.1 \\\\\n",
      "       & mip\\_ratio\\_gap & max &  1.060 &  1.059 &   1.078 &   1.112 \\\\\n",
      "       &               & mean &  1.026 &  1.048 &   1.056 &   1.085 \\\\\n",
      "greedy\\_weighted & duration & max &    0.9 &    1.2 &     2.3 &     1.9 \\\\\n",
      "       &               & mean &    0.2 &    0.5 &     0.8 &     0.6 \\\\\n",
      "       & min\\_exposed\\_value & max &  187.8 &  524.2 &  1126.2 &  1153.4 \\\\\n",
      "       &               & mean &   80.9 &  327.7 &   835.6 &   871.0 \\\\\n",
      "       & mip\\_ratio\\_gap & max &  1.090 &  1.076 &   1.076 &   1.116 \\\\\n",
      "       &               & mean &  1.064 &  1.065 &   1.068 &   1.070 \\\\\n",
      "random & min\\_exposed\\_value & max &  288.2 &  674.0 &  1378.4 &  1458.0 \\\\\n",
      "       &               & mean &  129.6 &  435.0 &  1042.5 &  1132.4 \\\\\n",
      "       & mip\\_ratio\\_gap & max &  2.635 &  1.448 &   1.289 &   1.636 \\\\\n",
      "       &               & mean &  1.764 &  1.344 &   1.256 &   1.413 \\\\\n",
      "\\bottomrule\n",
      "\\end{tabular}\n",
      "\n",
      "\\begin{tabular}{lllllll}\n",
      "\\toprule\n",
      "       &               & v2\\_id &      0 &      1 &       2 &       3 \\\\\n",
      "method & statistic & aggregation &        &        &         &         \\\\\n",
      "\\midrule\n",
      "dependent & duration & max &    6.5 &    9.1 &    23.1 &    57.7 \\\\\n",
      "       &               & mean &    2.2 &    5.1 &    12.3 &    21.8 \\\\\n",
      "       & min\\_exposed\\_value & max &  207.2 &  559.0 &  1203.4 &  1225.2 \\\\\n",
      "       &               & mean &   84.4 &  348.0 &   896.1 &   931.5 \\\\\n",
      "       & mip\\_ratio\\_gap & max &  1.059 &  1.062 &   1.078 &   1.116 \\\\\n",
      "       &               & mean &  1.026 &  1.051 &   1.060 &   1.090 \\\\\n",
      "greedy\\_weighted & duration & max &    1.5 &    1.5 &     2.1 &     1.5 \\\\\n",
      "       &               & mean &    0.1 &    0.5 &     0.7 &     0.5 \\\\\n",
      "       & min\\_exposed\\_value & max &  193.6 &  524.8 &  1105.2 &  1113.4 \\\\\n",
      "       &               & mean &   76.7 &  319.7 &   819.3 &   852.2 \\\\\n",
      "       & mip\\_ratio\\_gap & max &  1.093 &  1.082 &   1.082 &   1.119 \\\\\n",
      "       &               & mean &  1.067 &  1.068 &   1.072 &   1.078 \\\\\n",
      "random & min\\_exposed\\_value & max &  284.6 &  678.4 &  1391.6 &  1439.6 \\\\\n",
      "       &               & mean &  128.4 &  433.1 &  1040.0 &  1126.4 \\\\\n",
      "       & mip\\_ratio\\_gap & max &  2.920 &  1.489 &   1.316 &   1.696 \\\\\n",
      "       &               & mean &  1.850 &  1.371 &   1.275 &   1.443 \\\\\n",
      "\\bottomrule\n",
      "\\end{tabular}\n",
      "\n",
      "\\begin{tabular}{lllllll}\n",
      "\\toprule\n",
      "       &               & v2\\_id &      0 &      1 &       2 &       3 \\\\\n",
      "method & statistic & aggregation &        &        &         &         \\\\\n",
      "\\midrule\n",
      "dependent & duration & max &    5.3 &   10.0 &    24.7 &    57.9 \\\\\n",
      "       &               & mean &    2.2 &    5.3 &    13.0 &    23.2 \\\\\n",
      "       & min\\_exposed\\_value & max &  210.2 &  559.0 &  1192.4 &  1219.0 \\\\\n",
      "       &               & mean &   80.3 &  340.6 &   881.8 &   917.5 \\\\\n",
      "       & mip\\_ratio\\_gap & max &  1.062 &  1.064 &   1.083 &   1.132 \\\\\n",
      "       &               & mean &  1.027 &  1.056 &   1.064 &   1.095 \\\\\n",
      "greedy\\_weighted & duration & max &    1.3 &    1.3 &     1.9 &     2.2 \\\\\n",
      "       &               & mean &    0.2 &    0.5 &     0.8 &     0.6 \\\\\n",
      "       & min\\_exposed\\_value & max &  182.2 &  512.8 &  1080.2 &  1129.0 \\\\\n",
      "       &               & mean &   73.5 &  311.4 &   807.8 &   829.6 \\\\\n",
      "       & mip\\_ratio\\_gap & max &  1.086 &  1.087 &   1.088 &   1.128 \\\\\n",
      "       &               & mean &  1.071 &  1.073 &   1.076 &   1.085 \\\\\n",
      "random & min\\_exposed\\_value & max &  280.4 &  673.2 &  1370.2 &  1436.6 \\\\\n",
      "       &               & mean &  125.3 &  429.8 &  1036.2 &  1119.5 \\\\\n",
      "       & mip\\_ratio\\_gap & max &  3.143 &  1.527 &   1.332 &   1.751 \\\\\n",
      "       &               & mean &  1.944 &  1.399 &   1.294 &   1.471 \\\\\n",
      "\\bottomrule\n",
      "\\end{tabular}\n",
      "\n"
     ]
    }
   ],
   "source": [
    "print(dp[600].to_latex())\n",
    "print(dp[700].to_latex())\n",
    "print(dp[800].to_latex())\n",
    "print(dp[900].to_latex())\n",
    "print(dp[1000].to_latex())\n",
    "print(dp[1100].to_latex())\n",
    "print(dp[1200].to_latex())"
   ],
   "metadata": {
    "collapsed": false,
    "pycharm": {
     "name": "#%%\n"
    }
   }
  },
  {
   "cell_type": "code",
   "execution_count": 107,
   "outputs": [
    {
     "data": {
      "text/plain": "               G      p  budget  \\\n6159  montgomery  0.078     900   \n9357  montgomery  0.078    1100   \n9356  montgomery  0.078    1100   \n6158  montgomery  0.078     900   \n6157  montgomery  0.078     900   \n\n                                             from_cache      method  trial_id  \\\n6159  /home/ubuntu/ContactTracing/data/SIR_Cache/tim...   dependent         0   \n9357  /home/ubuntu/ContactTracing/data/SIR_Cache/tim...   dependent         0   \n9356  /home/ubuntu/ContactTracing/data/SIR_Cache/tim...      random         0   \n6158  /home/ubuntu/ContactTracing/data/SIR_Cache/tim...  mip_gurobi         0   \n6157  /home/ubuntu/ContactTracing/data/SIR_Cache/tim...      random         0   \n\n      I_size  v1_size  v2_size  num_cross_edges  maxD  mip_value  \\\n6159     538     2886     6427             8390    25  14.974574   \n9357     538     2886     6427             8390    25  11.312337   \n9356     538     2886     6427             8390    25  32.454532   \n6158     538     2886     6427             8390    25  14.893481   \n6157     538     2886     6427             8390    25  35.761233   \n\n      min_exposed_value  duration  v1_objective  greedy_overlap  \\\n6159               18.0  0.483384    278.972063             767   \n9357               13.8  0.431276    278.972063             978   \n9356               40.4  0.718345    278.972063             414   \n6158               16.8  0.402228    278.972063             792   \n6157               45.6  0.313535    278.972063             285   \n\n      optimal_mip_value  mip_ratio_gap  v2_id  \n6159          14.893481       1.005445      0  \n9357          11.271384       1.003633      0  \n9356          11.271384       2.879374      0  \n6158          14.893481       1.000000      0  \n6157          14.893481       2.401133      0  ",
      "text/html": "<div>\n<style scoped>\n    .dataframe tbody tr th:only-of-type {\n        vertical-align: middle;\n    }\n\n    .dataframe tbody tr th {\n        vertical-align: top;\n    }\n\n    .dataframe thead th {\n        text-align: right;\n    }\n</style>\n<table border=\"1\" class=\"dataframe\">\n  <thead>\n    <tr style=\"text-align: right;\">\n      <th></th>\n      <th>G</th>\n      <th>p</th>\n      <th>budget</th>\n      <th>from_cache</th>\n      <th>method</th>\n      <th>trial_id</th>\n      <th>I_size</th>\n      <th>v1_size</th>\n      <th>v2_size</th>\n      <th>num_cross_edges</th>\n      <th>maxD</th>\n      <th>mip_value</th>\n      <th>min_exposed_value</th>\n      <th>duration</th>\n      <th>v1_objective</th>\n      <th>greedy_overlap</th>\n      <th>optimal_mip_value</th>\n      <th>mip_ratio_gap</th>\n      <th>v2_id</th>\n    </tr>\n  </thead>\n  <tbody>\n    <tr>\n      <th>6159</th>\n      <td>montgomery</td>\n      <td>0.078</td>\n      <td>900</td>\n      <td>/home/ubuntu/ContactTracing/data/SIR_Cache/tim...</td>\n      <td>dependent</td>\n      <td>0</td>\n      <td>538</td>\n      <td>2886</td>\n      <td>6427</td>\n      <td>8390</td>\n      <td>25</td>\n      <td>14.974574</td>\n      <td>18.0</td>\n      <td>0.483384</td>\n      <td>278.972063</td>\n      <td>767</td>\n      <td>14.893481</td>\n      <td>1.005445</td>\n      <td>0</td>\n    </tr>\n    <tr>\n      <th>9357</th>\n      <td>montgomery</td>\n      <td>0.078</td>\n      <td>1100</td>\n      <td>/home/ubuntu/ContactTracing/data/SIR_Cache/tim...</td>\n      <td>dependent</td>\n      <td>0</td>\n      <td>538</td>\n      <td>2886</td>\n      <td>6427</td>\n      <td>8390</td>\n      <td>25</td>\n      <td>11.312337</td>\n      <td>13.8</td>\n      <td>0.431276</td>\n      <td>278.972063</td>\n      <td>978</td>\n      <td>11.271384</td>\n      <td>1.003633</td>\n      <td>0</td>\n    </tr>\n    <tr>\n      <th>9356</th>\n      <td>montgomery</td>\n      <td>0.078</td>\n      <td>1100</td>\n      <td>/home/ubuntu/ContactTracing/data/SIR_Cache/tim...</td>\n      <td>random</td>\n      <td>0</td>\n      <td>538</td>\n      <td>2886</td>\n      <td>6427</td>\n      <td>8390</td>\n      <td>25</td>\n      <td>32.454532</td>\n      <td>40.4</td>\n      <td>0.718345</td>\n      <td>278.972063</td>\n      <td>414</td>\n      <td>11.271384</td>\n      <td>2.879374</td>\n      <td>0</td>\n    </tr>\n    <tr>\n      <th>6158</th>\n      <td>montgomery</td>\n      <td>0.078</td>\n      <td>900</td>\n      <td>/home/ubuntu/ContactTracing/data/SIR_Cache/tim...</td>\n      <td>mip_gurobi</td>\n      <td>0</td>\n      <td>538</td>\n      <td>2886</td>\n      <td>6427</td>\n      <td>8390</td>\n      <td>25</td>\n      <td>14.893481</td>\n      <td>16.8</td>\n      <td>0.402228</td>\n      <td>278.972063</td>\n      <td>792</td>\n      <td>14.893481</td>\n      <td>1.000000</td>\n      <td>0</td>\n    </tr>\n    <tr>\n      <th>6157</th>\n      <td>montgomery</td>\n      <td>0.078</td>\n      <td>900</td>\n      <td>/home/ubuntu/ContactTracing/data/SIR_Cache/tim...</td>\n      <td>random</td>\n      <td>0</td>\n      <td>538</td>\n      <td>2886</td>\n      <td>6427</td>\n      <td>8390</td>\n      <td>25</td>\n      <td>35.761233</td>\n      <td>45.6</td>\n      <td>0.313535</td>\n      <td>278.972063</td>\n      <td>285</td>\n      <td>14.893481</td>\n      <td>2.401133</td>\n      <td>0</td>\n    </tr>\n  </tbody>\n</table>\n</div>"
     },
     "execution_count": 107,
     "metadata": {},
     "output_type": "execute_result"
    }
   ],
   "source": [
    "df.head()"
   ],
   "metadata": {
    "collapsed": false,
    "pycharm": {
     "name": "#%%\n"
    }
   }
  },
  {
   "cell_type": "code",
   "execution_count": 127,
   "outputs": [
    {
     "data": {
      "text/plain": "v2_id                   0         1         2          3\nI_size            1552.37   4913.26   4458.85    1354.47\nmaxD                26.03     26.30     37.37      60.50\nnum_cross_edges  17897.95  38343.67  93190.25  134751.03\nv1_size           7333.01  21556.44  30061.23   16893.83\nv2_size          11016.06  15727.59  23848.67   37587.01",
      "text/html": "<div>\n<style scoped>\n    .dataframe tbody tr th:only-of-type {\n        vertical-align: middle;\n    }\n\n    .dataframe tbody tr th {\n        vertical-align: top;\n    }\n\n    .dataframe thead th {\n        text-align: right;\n    }\n</style>\n<table border=\"1\" class=\"dataframe\">\n  <thead>\n    <tr style=\"text-align: right;\">\n      <th>v2_id</th>\n      <th>0</th>\n      <th>1</th>\n      <th>2</th>\n      <th>3</th>\n    </tr>\n  </thead>\n  <tbody>\n    <tr>\n      <th>I_size</th>\n      <td>1552.37</td>\n      <td>4913.26</td>\n      <td>4458.85</td>\n      <td>1354.47</td>\n    </tr>\n    <tr>\n      <th>maxD</th>\n      <td>26.03</td>\n      <td>26.30</td>\n      <td>37.37</td>\n      <td>60.50</td>\n    </tr>\n    <tr>\n      <th>num_cross_edges</th>\n      <td>17897.95</td>\n      <td>38343.67</td>\n      <td>93190.25</td>\n      <td>134751.03</td>\n    </tr>\n    <tr>\n      <th>v1_size</th>\n      <td>7333.01</td>\n      <td>21556.44</td>\n      <td>30061.23</td>\n      <td>16893.83</td>\n    </tr>\n    <tr>\n      <th>v2_size</th>\n      <td>11016.06</td>\n      <td>15727.59</td>\n      <td>23848.67</td>\n      <td>37587.01</td>\n    </tr>\n  </tbody>\n</table>\n</div>"
     },
     "execution_count": 127,
     "metadata": {},
     "output_type": "execute_result"
    }
   ],
   "source": [
    "si = df.pivot_table(values=[\"I_size\", \"v1_size\", \"v2_size\", \"num_cross_edges\", \"maxD\"], columns=\"v2_id\")\n",
    "si.head()"
   ],
   "metadata": {
    "collapsed": false,
    "pycharm": {
     "name": "#%%\n"
    }
   }
  },
  {
   "cell_type": "code",
   "execution_count": 128,
   "outputs": [],
   "source": [
    "si.loc[\"I_size\"] = si.loc[\"I_size\"].apply(lambda x: '{:.1f}'.format(x / 1000))\n",
    "si.loc[\"v1_size\"] = si.loc[\"v1_size\"].apply(lambda x: '{:.1f}'.format(x / 1000))\n",
    "si.loc[\"v2_size\"] = si.loc[\"v2_size\"].apply(lambda x: '{:.1f}'.format(x / 1000))\n",
    "si.loc[\"num_cross_edges\"] = si.loc[\"num_cross_edges\"].apply(lambda x: '{:.1f}'.format(x / 1000))\n",
    "si.loc[\"maxD\"] = si.loc[\"maxD\"].apply(lambda x: '{:.1f}'.format(x))"
   ],
   "metadata": {
    "collapsed": false,
    "pycharm": {
     "name": "#%%\n"
    }
   }
  },
  {
   "cell_type": "code",
   "execution_count": 129,
   "outputs": [
    {
     "name": "stdout",
     "output_type": "stream",
     "text": [
      "\\begin{tabular}{lllll}\n",
      "\\toprule\n",
      "v2\\_id &     0 &     1 &     2 &      3 \\\\\n",
      "\\midrule\n",
      "I\\_size          &   1.6 &   4.9 &   4.5 &    1.4 \\\\\n",
      "maxD            &  26.0 &  26.3 &  37.4 &   60.5 \\\\\n",
      "num\\_cross\\_edges &  17.9 &  38.3 &  93.2 &  134.8 \\\\\n",
      "v1\\_size         &   7.3 &  21.6 &  30.1 &   16.9 \\\\\n",
      "v2\\_size         &  11.0 &  15.7 &  23.8 &   37.6 \\\\\n",
      "\\bottomrule\n",
      "\\end{tabular}\n",
      "\n"
     ]
    }
   ],
   "source": [
    "print(si.to_latex())"
   ],
   "metadata": {
    "collapsed": false,
    "pycharm": {
     "name": "#%%\n"
    }
   }
  },
  {
   "cell_type": "code",
   "execution_count": null,
   "outputs": [],
   "source": [],
   "metadata": {
    "collapsed": false,
    "pycharm": {
     "name": "#%%\n"
    }
   }
  }
 ],
 "metadata": {
  "kernelspec": {
   "display_name": "Python 3",
   "language": "python",
   "name": "python3"
  },
  "language_info": {
   "codemirror_mode": {
    "name": "ipython",
    "version": 2
   },
   "file_extension": ".py",
   "mimetype": "text/x-python",
   "name": "python",
   "nbconvert_exporter": "python",
   "pygments_lexer": "ipython2",
   "version": "2.7.6"
  }
 },
 "nbformat": 4,
 "nbformat_minor": 0
}