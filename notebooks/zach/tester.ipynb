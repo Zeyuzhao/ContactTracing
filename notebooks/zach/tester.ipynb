{
 "cells": [
  {
   "cell_type": "code",
   "execution_count": 5,
   "outputs": [],
   "source": [
    "# OPTIONAL: Load the \"autoreload\" extension so that code can change\n",
    "%load_ext autoreload\n",
    "\n",
    "# OPTIONAL: always reload modules so that as you change code in src, it gets loaded\n",
    "%autoreload 2"
   ],
   "metadata": {
    "collapsed": false,
    "pycharm": {
     "name": "#%%\n"
    }
   }
  },
  {
   "cell_type": "code",
   "execution_count": 1,
   "metadata": {
    "collapsed": true
   },
   "outputs": [],
   "source": [
    "import os\n",
    "import sys\n",
    "# Set path to ContactTracing/\n",
    "os.chdir('..')\n",
    "sys.path.insert(0, '.')"
   ]
  },
  {
   "cell_type": "code",
   "execution_count": 1,
   "outputs": [],
   "source": [
    "from ctrace.constraint import load_graph, find_contours\n",
    "from ctrace.contact_tracing import PQ\n",
    "from ctrace.contact_tracing import *\n",
    "from ctrace.constraint import ProbMinExposed, ProbMinExposedMIP\n",
    "from ctrace.draw import *\n",
    "from ctrace.simulation import *\n",
    "from ctrace.solve import to_quarantine"
   ],
   "metadata": {
    "collapsed": false,
    "pycharm": {
     "name": "#%%\n"
    }
   }
  },
  {
   "cell_type": "code",
   "execution_count": 2,
   "outputs": [],
   "source": [
    "G = load_graph('montgomery') #fetching the montgamery graph\n",
    "n = len(G.nodes)\n",
    "I0 = [i for i in range(n) if random.random() > 0.99]\n",
    "\n",
    "# Setup contact tracing graph\n",
    "G = nx.balanced_tree(5, 5)\n",
    "I = {0, 1}\n",
    "\n",
    "# Set K value\n",
    "K = 5\n",
    "_, degreeSol = to_quarantine(G=G, I0=I, safe=[], cost_constraint=K, runs=20, p=1, P=None, Q=None, method=\"degree\")\n",
    "\n",
    "degreeSol\n",
    "# generalized_mdp(G=G,\n",
    "#                 p=0.1,\n",
    "#                 budget=100,\n",
    "#                 method=\"none\",\n",
    "#                 num_initial_infections=10,\n",
    "#                 num_shocks=5,\n",
    "#                 initial_iterations=5,\n",
    "#                 MDP_iterations=10,\n",
    "#                 iterations_to_recover=1,\n",
    "#                 from_cache=\"generalized.json\",\n",
    "#                 verbose=True)"
   ],
   "metadata": {
    "collapsed": false,
    "pycharm": {
     "name": "#%%\n"
    }
   }
  },
  {
   "cell_type": "code",
   "execution_count": 1,
   "outputs": [
    {
     "name": "stdout",
     "output_type": "stream",
     "text": [
      "Degree time: 0.17175650596618652\n",
      "Weighted time: 463.4142668247223\n"
     ]
    }
   ],
   "source": [
    "import numpy as np\n",
    "import networkx as nx\n",
    "import random\n",
    "from ctrace.solve import to_quarantine\n",
    "from ctrace.constraint import load_graph\n",
    "import time\n",
    "\n",
    "# Setup montgomery graph\n",
    "G = load_graph(\"montgomery\")\n",
    "n = len(G.nodes)\n",
    "I = [i for i in range(n) if random.random() > 0.99]\n",
    "K = 50\n",
    "\n",
    "start = time.time()\n",
    "_, degreeSol = to_quarantine(G=G, I0=I, safe=[], cost_constraint=K, runs=20, p=1, P=None, Q=None, method=\"degree\")\n",
    "end1 = time.time()\n",
    "_, weightedSol = to_quarantine(G=G, I0=I, safe=[], cost_constraint=K, runs=20, p=1, P=None, Q=None, method=\"weighted\")\n",
    "end2 = time.time()\n",
    "\n",
    "time1 = end1 - start\n",
    "time2 = end2 - end1\n",
    "print(f\"Degree time: {time1}\")\n",
    "print(f\"Weighted time: {time2}\")"
   ],
   "metadata": {
    "collapsed": false,
    "pycharm": {
     "name": "#%%\n"
    }
   }
  }
 ],
 "metadata": {
  "kernelspec": {
   "display_name": "Python 3",
   "language": "python",
   "name": "python3"
  },
  "language_info": {
   "codemirror_mode": {
    "name": "ipython",
    "version": 2
   },
   "file_extension": ".py",
   "mimetype": "text/x-python",
   "name": "python",
   "nbconvert_exporter": "python",
   "pygments_lexer": "ipython2",
   "version": "2.7.6"
  }
 },
 "nbformat": 4,
 "nbformat_minor": 0
}