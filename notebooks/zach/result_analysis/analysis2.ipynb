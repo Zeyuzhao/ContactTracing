{
 "metadata": {
  "language_info": {
   "codemirror_mode": {
    "name": "ipython",
    "version": 3
   },
   "file_extension": ".py",
   "mimetype": "text/x-python",
   "name": "python",
   "nbconvert_exporter": "python",
   "pygments_lexer": "ipython3",
   "version": "3.8.5-final"
  },
  "orig_nbformat": 2,
  "kernelspec": {
   "name": "python3",
   "display_name": "Python 3",
   "language": "python"
  }
 },
 "nbformat": 4,
 "nbformat_minor": 2,
 "cells": [
  {
   "cell_type": "code",
   "execution_count": 40,
   "metadata": {},
   "outputs": [],
   "source": [
    "import pandas as pd\n",
    "import seaborn as sns\n",
    "import matplotlib.pyplot as plt\n",
    "import ctrace\n",
    "from tqdm import tqdm\n",
    "from ctrace.simulation import *\n",
    "from ctrace.utils import *\n",
    "\n",
    "from ctrace.dataset import load_graph, load_sir_path\n",
    "import concurrent.futures"
   ]
  },
  {
   "cell_type": "code",
   "execution_count": 41,
   "metadata": {},
   "outputs": [
    {
     "output_type": "execute_result",
     "data": {
      "text/plain": [
       "   Unnamed: 0           G      p  budget  \\\n",
       "0           0  montgomery  0.078     400   \n",
       "1           1  montgomery  0.078     400   \n",
       "2           2  montgomery  0.078     400   \n",
       "3           3  montgomery  0.078     400   \n",
       "4           4  montgomery  0.078     400   \n",
       "\n",
       "                                          from_cache           method  \\\n",
       "0  /home/ubuntu/ContactTracing/data/SIR_Cache/tim...           random   \n",
       "1  /home/ubuntu/ContactTracing/data/SIR_Cache/tim...           random   \n",
       "2  /home/ubuntu/ContactTracing/data/SIR_Cache/tim...        dependent   \n",
       "3  /home/ubuntu/ContactTracing/data/SIR_Cache/tim...        dependent   \n",
       "4  /home/ubuntu/ContactTracing/data/SIR_Cache/tim...  greedy_weighted   \n",
       "\n",
       "   trial_id_x  mip_value  greedy_intersection  maxD  ...  num_cross_edges  \\\n",
       "0           1  90.850904                   25    28  ...            16931   \n",
       "1           0  90.716560                   20    28  ...            16931   \n",
       "2           0  69.442667                  256    28  ...            16931   \n",
       "3           1  69.491244                  252    28  ...            16931   \n",
       "4           0  71.084567                   -1    28  ...            16931   \n",
       "\n",
       "   duration  updated_MIP_x  v1_sum_values  min_exposed_mean  \\\n",
       "0  0.883242     752.813311     661.962407             118.8   \n",
       "1  0.885397     752.678967     661.962407             123.6   \n",
       "2  1.148150     731.405074     661.962407              95.2   \n",
       "3  1.222075     731.453652     661.962407              96.6   \n",
       "4  0.032429     733.046974     661.962407              93.2   \n",
       "\n",
       "   min_exposed_stddev  updated_min_exposed_value  trial_id_y  \\\n",
       "0           12.517987                 780.762407           0   \n",
       "1            9.502631                 785.562407           0   \n",
       "2           14.078352                 757.162407           0   \n",
       "3           11.567195                 758.562407           0   \n",
       "4           11.966620                 755.162407           0   \n",
       "\n",
       "   optimal_MIP_value  mip_ratio  \n",
       "0         730.259302   1.030885  \n",
       "1         730.259302   1.030701  \n",
       "2         730.259302   1.001569  \n",
       "3         730.259302   1.001636  \n",
       "4         730.259302   1.003817  \n",
       "\n",
       "[5 rows x 23 columns]"
      ],
      "text/html": "<div>\n<style scoped>\n    .dataframe tbody tr th:only-of-type {\n        vertical-align: middle;\n    }\n\n    .dataframe tbody tr th {\n        vertical-align: top;\n    }\n\n    .dataframe thead th {\n        text-align: right;\n    }\n</style>\n<table border=\"1\" class=\"dataframe\">\n  <thead>\n    <tr style=\"text-align: right;\">\n      <th></th>\n      <th>Unnamed: 0</th>\n      <th>G</th>\n      <th>p</th>\n      <th>budget</th>\n      <th>from_cache</th>\n      <th>method</th>\n      <th>trial_id_x</th>\n      <th>mip_value</th>\n      <th>greedy_intersection</th>\n      <th>maxD</th>\n      <th>...</th>\n      <th>num_cross_edges</th>\n      <th>duration</th>\n      <th>updated_MIP_x</th>\n      <th>v1_sum_values</th>\n      <th>min_exposed_mean</th>\n      <th>min_exposed_stddev</th>\n      <th>updated_min_exposed_value</th>\n      <th>trial_id_y</th>\n      <th>optimal_MIP_value</th>\n      <th>mip_ratio</th>\n    </tr>\n  </thead>\n  <tbody>\n    <tr>\n      <th>0</th>\n      <td>0</td>\n      <td>montgomery</td>\n      <td>0.078</td>\n      <td>400</td>\n      <td>/home/ubuntu/ContactTracing/data/SIR_Cache/tim...</td>\n      <td>random</td>\n      <td>1</td>\n      <td>90.850904</td>\n      <td>25</td>\n      <td>28</td>\n      <td>...</td>\n      <td>16931</td>\n      <td>0.883242</td>\n      <td>752.813311</td>\n      <td>661.962407</td>\n      <td>118.8</td>\n      <td>12.517987</td>\n      <td>780.762407</td>\n      <td>0</td>\n      <td>730.259302</td>\n      <td>1.030885</td>\n    </tr>\n    <tr>\n      <th>1</th>\n      <td>1</td>\n      <td>montgomery</td>\n      <td>0.078</td>\n      <td>400</td>\n      <td>/home/ubuntu/ContactTracing/data/SIR_Cache/tim...</td>\n      <td>random</td>\n      <td>0</td>\n      <td>90.716560</td>\n      <td>20</td>\n      <td>28</td>\n      <td>...</td>\n      <td>16931</td>\n      <td>0.885397</td>\n      <td>752.678967</td>\n      <td>661.962407</td>\n      <td>123.6</td>\n      <td>9.502631</td>\n      <td>785.562407</td>\n      <td>0</td>\n      <td>730.259302</td>\n      <td>1.030701</td>\n    </tr>\n    <tr>\n      <th>2</th>\n      <td>2</td>\n      <td>montgomery</td>\n      <td>0.078</td>\n      <td>400</td>\n      <td>/home/ubuntu/ContactTracing/data/SIR_Cache/tim...</td>\n      <td>dependent</td>\n      <td>0</td>\n      <td>69.442667</td>\n      <td>256</td>\n      <td>28</td>\n      <td>...</td>\n      <td>16931</td>\n      <td>1.148150</td>\n      <td>731.405074</td>\n      <td>661.962407</td>\n      <td>95.2</td>\n      <td>14.078352</td>\n      <td>757.162407</td>\n      <td>0</td>\n      <td>730.259302</td>\n      <td>1.001569</td>\n    </tr>\n    <tr>\n      <th>3</th>\n      <td>3</td>\n      <td>montgomery</td>\n      <td>0.078</td>\n      <td>400</td>\n      <td>/home/ubuntu/ContactTracing/data/SIR_Cache/tim...</td>\n      <td>dependent</td>\n      <td>1</td>\n      <td>69.491244</td>\n      <td>252</td>\n      <td>28</td>\n      <td>...</td>\n      <td>16931</td>\n      <td>1.222075</td>\n      <td>731.453652</td>\n      <td>661.962407</td>\n      <td>96.6</td>\n      <td>11.567195</td>\n      <td>758.562407</td>\n      <td>0</td>\n      <td>730.259302</td>\n      <td>1.001636</td>\n    </tr>\n    <tr>\n      <th>4</th>\n      <td>4</td>\n      <td>montgomery</td>\n      <td>0.078</td>\n      <td>400</td>\n      <td>/home/ubuntu/ContactTracing/data/SIR_Cache/tim...</td>\n      <td>greedy_weighted</td>\n      <td>0</td>\n      <td>71.084567</td>\n      <td>-1</td>\n      <td>28</td>\n      <td>...</td>\n      <td>16931</td>\n      <td>0.032429</td>\n      <td>733.046974</td>\n      <td>661.962407</td>\n      <td>93.2</td>\n      <td>11.966620</td>\n      <td>755.162407</td>\n      <td>0</td>\n      <td>730.259302</td>\n      <td>1.003817</td>\n    </tr>\n  </tbody>\n</table>\n<p>5 rows × 23 columns</p>\n</div>"
     },
     "metadata": {},
     "execution_count": 41
    }
   ],
   "source": [
    "with open(\"with_optimal.csv\", \"r\") as csv:\n",
    "    df = pd.read_csv(csv)\n",
    "df.head()"
   ]
  },
  {
   "cell_type": "code",
   "execution_count": 42,
   "metadata": {},
   "outputs": [
    {
     "output_type": "execute_result",
     "data": {
      "text/plain": [
       "['Unnamed: 0',\n",
       " 'G',\n",
       " 'p',\n",
       " 'budget',\n",
       " 'from_cache',\n",
       " 'method',\n",
       " 'trial_id_x',\n",
       " 'mip_value',\n",
       " 'greedy_intersection',\n",
       " 'maxD',\n",
       " 'I_size',\n",
       " 'v1_size',\n",
       " 'v2_size',\n",
       " 'num_cross_edges',\n",
       " 'duration',\n",
       " 'updated_MIP_x',\n",
       " 'v1_sum_values',\n",
       " 'min_exposed_mean',\n",
       " 'min_exposed_stddev',\n",
       " 'updated_min_exposed_value',\n",
       " 'trial_id_y',\n",
       " 'optimal_MIP_value',\n",
       " 'mip_ratio']"
      ]
     },
     "metadata": {},
     "execution_count": 42
    }
   ],
   "source": [
    "list(df)"
   ]
  },
  {
   "cell_type": "code",
   "execution_count": 43,
   "metadata": {},
   "outputs": [],
   "source": [
    "cols = [\n",
    " 'budget',\n",
    " 'from_cache',\n",
    " 'method',\n",
    " 'trial_id_x','maxD','I_size',\n",
    " 'v1_size',\n",
    " 'v2_size',\n",
    " 'num_cross_edges','duration','updated_min_exposed_value', 'mip_ratio']"
   ]
  },
  {
   "cell_type": "code",
   "execution_count": 44,
   "metadata": {},
   "outputs": [],
   "source": [
    "df = df[cols]"
   ]
  },
  {
   "cell_type": "code",
   "execution_count": 45,
   "metadata": {},
   "outputs": [],
   "source": [
    "df = df.sort_values(by=\"v1_size\")"
   ]
  },
  {
   "cell_type": "code",
   "execution_count": 46,
   "metadata": {},
   "outputs": [
    {
     "output_type": "execute_result",
     "data": {
      "text/plain": [
       "      budget                                         from_cache  \\\n",
       "1524     400  /home/ubuntu/ContactTracing/data/SIR_Cache/tim...   \n",
       "5526     600  /home/ubuntu/ContactTracing/data/SIR_Cache/tim...   \n",
       "5525     600  /home/ubuntu/ContactTracing/data/SIR_Cache/tim...   \n",
       "5524     600  /home/ubuntu/ContactTracing/data/SIR_Cache/tim...   \n",
       "5523     600  /home/ubuntu/ContactTracing/data/SIR_Cache/tim...   \n",
       "\n",
       "               method  trial_id_x  maxD  I_size  v1_size  v2_size  \\\n",
       "1524  greedy_weighted           0    23     529     2808     6472   \n",
       "5526  greedy_weighted           1    23     529     2808     6472   \n",
       "5525       mip_gurobi           1    23     529     2808     6472   \n",
       "5524  greedy_weighted           0    23     529     2808     6472   \n",
       "5523        dependent           1    23     529     2808     6472   \n",
       "\n",
       "      num_cross_edges  duration  updated_min_exposed_value  mip_ratio  \n",
       "1524             8273  0.025445                 306.334672   1.003850  \n",
       "5526             8273  0.016595                 299.134672   1.003385  \n",
       "5525             8273  0.388629                 303.534672   1.000000  \n",
       "5524             8273  0.016042                 299.934672   1.003385  \n",
       "5523             8273  0.389772                 299.534672   1.000392  "
      ],
      "text/html": "<div>\n<style scoped>\n    .dataframe tbody tr th:only-of-type {\n        vertical-align: middle;\n    }\n\n    .dataframe tbody tr th {\n        vertical-align: top;\n    }\n\n    .dataframe thead th {\n        text-align: right;\n    }\n</style>\n<table border=\"1\" class=\"dataframe\">\n  <thead>\n    <tr style=\"text-align: right;\">\n      <th></th>\n      <th>budget</th>\n      <th>from_cache</th>\n      <th>method</th>\n      <th>trial_id_x</th>\n      <th>maxD</th>\n      <th>I_size</th>\n      <th>v1_size</th>\n      <th>v2_size</th>\n      <th>num_cross_edges</th>\n      <th>duration</th>\n      <th>updated_min_exposed_value</th>\n      <th>mip_ratio</th>\n    </tr>\n  </thead>\n  <tbody>\n    <tr>\n      <th>1524</th>\n      <td>400</td>\n      <td>/home/ubuntu/ContactTracing/data/SIR_Cache/tim...</td>\n      <td>greedy_weighted</td>\n      <td>0</td>\n      <td>23</td>\n      <td>529</td>\n      <td>2808</td>\n      <td>6472</td>\n      <td>8273</td>\n      <td>0.025445</td>\n      <td>306.334672</td>\n      <td>1.003850</td>\n    </tr>\n    <tr>\n      <th>5526</th>\n      <td>600</td>\n      <td>/home/ubuntu/ContactTracing/data/SIR_Cache/tim...</td>\n      <td>greedy_weighted</td>\n      <td>1</td>\n      <td>23</td>\n      <td>529</td>\n      <td>2808</td>\n      <td>6472</td>\n      <td>8273</td>\n      <td>0.016595</td>\n      <td>299.134672</td>\n      <td>1.003385</td>\n    </tr>\n    <tr>\n      <th>5525</th>\n      <td>600</td>\n      <td>/home/ubuntu/ContactTracing/data/SIR_Cache/tim...</td>\n      <td>mip_gurobi</td>\n      <td>1</td>\n      <td>23</td>\n      <td>529</td>\n      <td>2808</td>\n      <td>6472</td>\n      <td>8273</td>\n      <td>0.388629</td>\n      <td>303.534672</td>\n      <td>1.000000</td>\n    </tr>\n    <tr>\n      <th>5524</th>\n      <td>600</td>\n      <td>/home/ubuntu/ContactTracing/data/SIR_Cache/tim...</td>\n      <td>greedy_weighted</td>\n      <td>0</td>\n      <td>23</td>\n      <td>529</td>\n      <td>2808</td>\n      <td>6472</td>\n      <td>8273</td>\n      <td>0.016042</td>\n      <td>299.934672</td>\n      <td>1.003385</td>\n    </tr>\n    <tr>\n      <th>5523</th>\n      <td>600</td>\n      <td>/home/ubuntu/ContactTracing/data/SIR_Cache/tim...</td>\n      <td>dependent</td>\n      <td>1</td>\n      <td>23</td>\n      <td>529</td>\n      <td>2808</td>\n      <td>6472</td>\n      <td>8273</td>\n      <td>0.389772</td>\n      <td>299.534672</td>\n      <td>1.000392</td>\n    </tr>\n  </tbody>\n</table>\n</div>"
     },
     "metadata": {},
     "execution_count": 46
    }
   ],
   "source": [
    "df.head()"
   ]
  },
  {
   "cell_type": "code",
   "execution_count": null,
   "metadata": {},
   "outputs": [],
   "source": [
    "df = df[df[\"budget\"] >= ]"
   ]
  },
  {
   "cell_type": "code",
   "execution_count": 47,
   "metadata": {},
   "outputs": [],
   "source": [
    "import numpy as np\n",
    "chunks = np.array_split(df, 4)"
   ]
  },
  {
   "cell_type": "code",
   "execution_count": 48,
   "metadata": {},
   "outputs": [
    {
     "output_type": "execute_result",
     "data": {
      "text/plain": [
       "       budget                                         from_cache      method  \\\n",
       "6727      700  /home/ubuntu/ContactTracing/data/SIR_Cache/tim...  mip_gurobi   \n",
       "10727     900  /home/ubuntu/ContactTracing/data/SIR_Cache/tim...  mip_gurobi   \n",
       "8725      800  /home/ubuntu/ContactTracing/data/SIR_Cache/tim...   dependent   \n",
       "10726     900  /home/ubuntu/ContactTracing/data/SIR_Cache/tim...  mip_gurobi   \n",
       "10724     900  /home/ubuntu/ContactTracing/data/SIR_Cache/tim...   dependent   \n",
       "\n",
       "       trial_id_x  maxD  I_size  v1_size  v2_size  num_cross_edges   duration  \\\n",
       "6727            0    60     787    11279    39279           118975  19.001118   \n",
       "10727           1    60     787    11279    39279           118975  20.665809   \n",
       "8725            0    60     787    11279    39279           118975  10.561098   \n",
       "10726           0    60     787    11279    39279           118975  19.256921   \n",
       "10724           1    60     787    11279    39279           118975  14.083605   \n",
       "\n",
       "       updated_min_exposed_value  mip_ratio  \n",
       "6727                 2074.002821   1.000000  \n",
       "10727                2017.802821   1.000000  \n",
       "8725                 2070.002821   1.013699  \n",
       "10726                2014.602821   1.000000  \n",
       "10724                2066.802821   1.015809  "
      ],
      "text/html": "<div>\n<style scoped>\n    .dataframe tbody tr th:only-of-type {\n        vertical-align: middle;\n    }\n\n    .dataframe tbody tr th {\n        vertical-align: top;\n    }\n\n    .dataframe thead th {\n        text-align: right;\n    }\n</style>\n<table border=\"1\" class=\"dataframe\">\n  <thead>\n    <tr style=\"text-align: right;\">\n      <th></th>\n      <th>budget</th>\n      <th>from_cache</th>\n      <th>method</th>\n      <th>trial_id_x</th>\n      <th>maxD</th>\n      <th>I_size</th>\n      <th>v1_size</th>\n      <th>v2_size</th>\n      <th>num_cross_edges</th>\n      <th>duration</th>\n      <th>updated_min_exposed_value</th>\n      <th>mip_ratio</th>\n    </tr>\n  </thead>\n  <tbody>\n    <tr>\n      <th>6727</th>\n      <td>700</td>\n      <td>/home/ubuntu/ContactTracing/data/SIR_Cache/tim...</td>\n      <td>mip_gurobi</td>\n      <td>0</td>\n      <td>60</td>\n      <td>787</td>\n      <td>11279</td>\n      <td>39279</td>\n      <td>118975</td>\n      <td>19.001118</td>\n      <td>2074.002821</td>\n      <td>1.000000</td>\n    </tr>\n    <tr>\n      <th>10727</th>\n      <td>900</td>\n      <td>/home/ubuntu/ContactTracing/data/SIR_Cache/tim...</td>\n      <td>mip_gurobi</td>\n      <td>1</td>\n      <td>60</td>\n      <td>787</td>\n      <td>11279</td>\n      <td>39279</td>\n      <td>118975</td>\n      <td>20.665809</td>\n      <td>2017.802821</td>\n      <td>1.000000</td>\n    </tr>\n    <tr>\n      <th>8725</th>\n      <td>800</td>\n      <td>/home/ubuntu/ContactTracing/data/SIR_Cache/tim...</td>\n      <td>dependent</td>\n      <td>0</td>\n      <td>60</td>\n      <td>787</td>\n      <td>11279</td>\n      <td>39279</td>\n      <td>118975</td>\n      <td>10.561098</td>\n      <td>2070.002821</td>\n      <td>1.013699</td>\n    </tr>\n    <tr>\n      <th>10726</th>\n      <td>900</td>\n      <td>/home/ubuntu/ContactTracing/data/SIR_Cache/tim...</td>\n      <td>mip_gurobi</td>\n      <td>0</td>\n      <td>60</td>\n      <td>787</td>\n      <td>11279</td>\n      <td>39279</td>\n      <td>118975</td>\n      <td>19.256921</td>\n      <td>2014.602821</td>\n      <td>1.000000</td>\n    </tr>\n    <tr>\n      <th>10724</th>\n      <td>900</td>\n      <td>/home/ubuntu/ContactTracing/data/SIR_Cache/tim...</td>\n      <td>dependent</td>\n      <td>1</td>\n      <td>60</td>\n      <td>787</td>\n      <td>11279</td>\n      <td>39279</td>\n      <td>118975</td>\n      <td>14.083605</td>\n      <td>2066.802821</td>\n      <td>1.015809</td>\n    </tr>\n  </tbody>\n</table>\n</div>"
     },
     "metadata": {},
     "execution_count": 48
    }
   ],
   "source": [
    "chunks[1].head()"
   ]
  },
  {
   "cell_type": "code",
   "execution_count": 38,
   "metadata": {},
   "outputs": [
    {
     "output_type": "execute_result",
     "data": {
      "text/plain": [
       "3500"
      ]
     },
     "metadata": {},
     "execution_count": 38
    }
   ],
   "source": [
    "len(chunks[0])"
   ]
  },
  {
   "cell_type": "code",
   "execution_count": 39,
   "metadata": {},
   "outputs": [
    {
     "output_type": "execute_result",
     "data": {
      "text/plain": [
       "       budget                                         from_cache  \\\n",
       "1524      400  /home/ubuntu/ContactTracing/data/SIR_Cache/tim...   \n",
       "5526      600  /home/ubuntu/ContactTracing/data/SIR_Cache/tim...   \n",
       "5525      600  /home/ubuntu/ContactTracing/data/SIR_Cache/tim...   \n",
       "5524      600  /home/ubuntu/ContactTracing/data/SIR_Cache/tim...   \n",
       "5523      600  /home/ubuntu/ContactTracing/data/SIR_Cache/tim...   \n",
       "...       ...                                                ...   \n",
       "12725    1000  /home/ubuntu/ContactTracing/data/SIR_Cache/tim...   \n",
       "4723      600  /home/ubuntu/ContactTracing/data/SIR_Cache/tim...   \n",
       "12724    1000  /home/ubuntu/ContactTracing/data/SIR_Cache/tim...   \n",
       "4721      600  /home/ubuntu/ContactTracing/data/SIR_Cache/tim...   \n",
       "4720      600  /home/ubuntu/ContactTracing/data/SIR_Cache/tim...   \n",
       "\n",
       "                method  trial_id_x  maxD  I_size  v1_size  v2_size  \\\n",
       "1524   greedy_weighted           0    23     529     2808     6472   \n",
       "5526   greedy_weighted           1    23     529     2808     6472   \n",
       "5525        mip_gurobi           1    23     529     2808     6472   \n",
       "5524   greedy_weighted           0    23     529     2808     6472   \n",
       "5523         dependent           1    23     529     2808     6472   \n",
       "...                ...         ...   ...     ...      ...      ...   \n",
       "12725        dependent           1    60     787    11279    39279   \n",
       "4723         dependent           0    60     787    11279    39279   \n",
       "12724        dependent           0    60     787    11279    39279   \n",
       "4721            random           1    60     787    11279    39279   \n",
       "4720            random           0    60     787    11279    39279   \n",
       "\n",
       "       num_cross_edges   duration  updated_min_exposed_value  mip_ratio  \n",
       "1524              8273   0.025445                 306.334672   1.003850  \n",
       "5526              8273   0.016595                 299.134672   1.003385  \n",
       "5525              8273   0.388629                 303.534672   1.000000  \n",
       "5524              8273   0.016042                 299.934672   1.003385  \n",
       "5523              8273   0.389772                 299.534672   1.000392  \n",
       "...                ...        ...                        ...        ...  \n",
       "12725           118975  12.758492                2082.002821   1.016771  \n",
       "4723            118975  10.715024                2127.402821   1.013087  \n",
       "12724           118975  12.331257                2070.602821   1.018112  \n",
       "4721            118975   5.479658                2284.802821   1.068347  \n",
       "4720            118975   5.030919                2285.202821   1.067485  \n",
       "\n",
       "[3500 rows x 12 columns]"
      ],
      "text/html": "<div>\n<style scoped>\n    .dataframe tbody tr th:only-of-type {\n        vertical-align: middle;\n    }\n\n    .dataframe tbody tr th {\n        vertical-align: top;\n    }\n\n    .dataframe thead th {\n        text-align: right;\n    }\n</style>\n<table border=\"1\" class=\"dataframe\">\n  <thead>\n    <tr style=\"text-align: right;\">\n      <th></th>\n      <th>budget</th>\n      <th>from_cache</th>\n      <th>method</th>\n      <th>trial_id_x</th>\n      <th>maxD</th>\n      <th>I_size</th>\n      <th>v1_size</th>\n      <th>v2_size</th>\n      <th>num_cross_edges</th>\n      <th>duration</th>\n      <th>updated_min_exposed_value</th>\n      <th>mip_ratio</th>\n    </tr>\n  </thead>\n  <tbody>\n    <tr>\n      <th>1524</th>\n      <td>400</td>\n      <td>/home/ubuntu/ContactTracing/data/SIR_Cache/tim...</td>\n      <td>greedy_weighted</td>\n      <td>0</td>\n      <td>23</td>\n      <td>529</td>\n      <td>2808</td>\n      <td>6472</td>\n      <td>8273</td>\n      <td>0.025445</td>\n      <td>306.334672</td>\n      <td>1.003850</td>\n    </tr>\n    <tr>\n      <th>5526</th>\n      <td>600</td>\n      <td>/home/ubuntu/ContactTracing/data/SIR_Cache/tim...</td>\n      <td>greedy_weighted</td>\n      <td>1</td>\n      <td>23</td>\n      <td>529</td>\n      <td>2808</td>\n      <td>6472</td>\n      <td>8273</td>\n      <td>0.016595</td>\n      <td>299.134672</td>\n      <td>1.003385</td>\n    </tr>\n    <tr>\n      <th>5525</th>\n      <td>600</td>\n      <td>/home/ubuntu/ContactTracing/data/SIR_Cache/tim...</td>\n      <td>mip_gurobi</td>\n      <td>1</td>\n      <td>23</td>\n      <td>529</td>\n      <td>2808</td>\n      <td>6472</td>\n      <td>8273</td>\n      <td>0.388629</td>\n      <td>303.534672</td>\n      <td>1.000000</td>\n    </tr>\n    <tr>\n      <th>5524</th>\n      <td>600</td>\n      <td>/home/ubuntu/ContactTracing/data/SIR_Cache/tim...</td>\n      <td>greedy_weighted</td>\n      <td>0</td>\n      <td>23</td>\n      <td>529</td>\n      <td>2808</td>\n      <td>6472</td>\n      <td>8273</td>\n      <td>0.016042</td>\n      <td>299.934672</td>\n      <td>1.003385</td>\n    </tr>\n    <tr>\n      <th>5523</th>\n      <td>600</td>\n      <td>/home/ubuntu/ContactTracing/data/SIR_Cache/tim...</td>\n      <td>dependent</td>\n      <td>1</td>\n      <td>23</td>\n      <td>529</td>\n      <td>2808</td>\n      <td>6472</td>\n      <td>8273</td>\n      <td>0.389772</td>\n      <td>299.534672</td>\n      <td>1.000392</td>\n    </tr>\n    <tr>\n      <th>...</th>\n      <td>...</td>\n      <td>...</td>\n      <td>...</td>\n      <td>...</td>\n      <td>...</td>\n      <td>...</td>\n      <td>...</td>\n      <td>...</td>\n      <td>...</td>\n      <td>...</td>\n      <td>...</td>\n      <td>...</td>\n    </tr>\n    <tr>\n      <th>12725</th>\n      <td>1000</td>\n      <td>/home/ubuntu/ContactTracing/data/SIR_Cache/tim...</td>\n      <td>dependent</td>\n      <td>1</td>\n      <td>60</td>\n      <td>787</td>\n      <td>11279</td>\n      <td>39279</td>\n      <td>118975</td>\n      <td>12.758492</td>\n      <td>2082.002821</td>\n      <td>1.016771</td>\n    </tr>\n    <tr>\n      <th>4723</th>\n      <td>600</td>\n      <td>/home/ubuntu/ContactTracing/data/SIR_Cache/tim...</td>\n      <td>dependent</td>\n      <td>0</td>\n      <td>60</td>\n      <td>787</td>\n      <td>11279</td>\n      <td>39279</td>\n      <td>118975</td>\n      <td>10.715024</td>\n      <td>2127.402821</td>\n      <td>1.013087</td>\n    </tr>\n    <tr>\n      <th>12724</th>\n      <td>1000</td>\n      <td>/home/ubuntu/ContactTracing/data/SIR_Cache/tim...</td>\n      <td>dependent</td>\n      <td>0</td>\n      <td>60</td>\n      <td>787</td>\n      <td>11279</td>\n      <td>39279</td>\n      <td>118975</td>\n      <td>12.331257</td>\n      <td>2070.602821</td>\n      <td>1.018112</td>\n    </tr>\n    <tr>\n      <th>4721</th>\n      <td>600</td>\n      <td>/home/ubuntu/ContactTracing/data/SIR_Cache/tim...</td>\n      <td>random</td>\n      <td>1</td>\n      <td>60</td>\n      <td>787</td>\n      <td>11279</td>\n      <td>39279</td>\n      <td>118975</td>\n      <td>5.479658</td>\n      <td>2284.802821</td>\n      <td>1.068347</td>\n    </tr>\n    <tr>\n      <th>4720</th>\n      <td>600</td>\n      <td>/home/ubuntu/ContactTracing/data/SIR_Cache/tim...</td>\n      <td>random</td>\n      <td>0</td>\n      <td>60</td>\n      <td>787</td>\n      <td>11279</td>\n      <td>39279</td>\n      <td>118975</td>\n      <td>5.030919</td>\n      <td>2285.202821</td>\n      <td>1.067485</td>\n    </tr>\n  </tbody>\n</table>\n<p>3500 rows × 12 columns</p>\n</div>"
     },
     "metadata": {},
     "execution_count": 39
    }
   ],
   "source": [
    "chunks[0]"
   ]
  },
  {
   "cell_type": "code",
   "execution_count": 14,
   "metadata": {},
   "outputs": [],
   "source": [
    "# MILP optimal gap \n",
    "c0 = chunks[0]"
   ]
  },
  {
   "cell_type": "code",
   "execution_count": 32,
   "metadata": {},
   "outputs": [
    {
     "output_type": "stream",
     "name": "stdout",
     "text": [
      "budget                         699.428571\ntrial_id_x                       0.499429\nmaxD                            36.352000\nI_size                        1169.240000\nv1_size                       7125.192000\nv2_size                      17005.352000\nnum_cross_edges              36679.720000\nduration                         3.453459\nupdated_min_exposed_value     1022.112935\nmip_ratio                        1.004406\ndtype: float64\nbudget                         700.571429\ntrial_id_x                       0.500571\nmaxD                            44.160000\nI_size                        2330.344000\nv1_size                      15416.856000\nv2_size                      27464.584000\nnum_cross_edges              85411.640000\nduration                        10.791684\nupdated_min_exposed_value     2703.433527\nmip_ratio                        1.006869\ndtype: float64\nbudget                         699.771689\ntrial_id_x                       0.500000\nmaxD                            36.680365\nI_size                        4234.659817\nv1_size                      24122.116438\nv2_size                      23204.746575\nnum_cross_edges              82642.180365\nduration                        12.739202\nupdated_min_exposed_value     4766.018875\nmip_ratio                        1.003533\ndtype: float64\nbudget                         700.228833\ntrial_id_x                       0.500000\nmaxD                            35.702517\nI_size                        4685.199085\nv1_size                      30159.919908\nv2_size                      22850.881007\nnum_cross_edges              86859.583524\nduration                         9.744282\nupdated_min_exposed_value     6358.456299\nmip_ratio                        1.002653\ndtype: float64\n"
     ]
    }
   ],
   "source": [
    "for i, chunk in enumerate(chunks):\n",
    "    print(chunk[chunk[\"method\"] == \"dependent\"].mean())"
   ]
  },
  {
   "cell_type": "code",
   "execution_count": 35,
   "metadata": {},
   "outputs": [],
   "source": [
    "methods = [\"dependent\", \"greedy_weighted\", \"random\", \"mip_gurobi\"]"
   ]
  },
  {
   "cell_type": "code",
   "execution_count": 36,
   "metadata": {},
   "outputs": [
    {
     "output_type": "stream",
     "name": "stdout",
     "text": [
      "0, dependent, mip_ratio, 1.0044064965361603\n0, dependent, updated_min_exposed_value, 1022.1129346377736\n0, dependent, duration, 3.453458837200037\n0, greedy_weighted, mip_ratio, 1.0058463863741658\n0, greedy_weighted, updated_min_exposed_value, 1006.787448923488\n0, greedy_weighted, duration, 0.159286642045768\n0, random, mip_ratio, 1.0523970401408496\n0, random, updated_min_exposed_value, 1085.3351096494528\n0, random, duration, 1.8762918471992425\n0, mip_gurobi, mip_ratio, 1.0\n0, mip_gurobi, updated_min_exposed_value, 1011.2199648439041\n0, mip_gurobi, duration, 6.404478692465601\n1, dependent, mip_ratio, 1.0068692436855513\n1, dependent, updated_min_exposed_value, 2703.4335265075\n1, dependent, duration, 10.791684364535971\n1, greedy_weighted, mip_ratio, 1.0054088642007801\n1, greedy_weighted, updated_min_exposed_value, 2669.1055265075\n1, greedy_weighted, duration, 0.3728836516937403\n1, random, mip_ratio, 1.036784897402164\n1, random, updated_min_exposed_value, 2814.0317972819894\n1, random, duration, 3.8948282995194\n1, mip_gurobi, mip_ratio, 1.0\n1, mip_gurobi, updated_min_exposed_value, 2682.300164189328\n1, mip_gurobi, duration, 23.217931479931725\n2, dependent, mip_ratio, 1.003533484270071\n2, dependent, updated_min_exposed_value, 4766.018875211513\n2, dependent, duration, 12.73920190069293\n2, greedy_weighted, mip_ratio, 1.0034696548533373\n2, greedy_weighted, updated_min_exposed_value, 4723.747810698063\n2, greedy_weighted, duration, 0.4847840670845908\n2, random, mip_ratio, 1.0176465281382028\n2, random, updated_min_exposed_value, 4867.013554991653\n2, random, duration, 3.9326160727679316\n2, mip_gurobi, mip_ratio, 1.0\n2, mip_gurobi, updated_min_exposed_value, 4748.093326420224\n2, mip_gurobi, duration, 22.22421803899654\n3, dependent, mip_ratio, 1.0026534947151928\n3, dependent, updated_min_exposed_value, 6358.456299495956\n3, dependent, duration, 9.744282409580086\n3, greedy_weighted, mip_ratio, 1.0032174140495609\n3, greedy_weighted, updated_min_exposed_value, 6304.480084354615\n3, greedy_weighted, duration, 0.6448103794475638\n3, random, mip_ratio, 1.0120707551335038\n3, random, updated_min_exposed_value, 6460.356662659489\n3, random, duration, 4.5523474143497085\n3, mip_gurobi, mip_ratio, 1.0\n3, mip_gurobi, updated_min_exposed_value, 6339.196891230919\n3, mip_gurobi, duration, 20.86625422845948\n"
     ]
    }
   ],
   "source": [
    "for i, chunk in enumerate(chunks):\n",
    "    for method in methods:\n",
    "        values = chunk[chunk[\"method\"] == method].mean()\n",
    "        for var in [\"mip_ratio\", \"updated_min_exposed_value\", \"duration\"]:\n",
    "            print(f\"{i}, {method}, {var}, {values[var]}\")\n"
   ]
  },
  {
   "cell_type": "code",
   "execution_count": null,
   "metadata": {},
   "outputs": [],
   "source": []
  }
 ]
}