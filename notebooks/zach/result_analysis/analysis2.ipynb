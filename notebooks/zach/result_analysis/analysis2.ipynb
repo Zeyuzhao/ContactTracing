{
 "metadata": {
  "language_info": {
   "codemirror_mode": {
    "name": "ipython",
    "version": 3
   },
   "file_extension": ".py",
   "mimetype": "text/x-python",
   "name": "python",
   "nbconvert_exporter": "python",
   "pygments_lexer": "ipython3",
   "version": "3.8.5-final"
  },
  "orig_nbformat": 2,
  "kernelspec": {
   "name": "python3",
   "display_name": "Python 3",
   "language": "python"
  }
 },
 "nbformat": 4,
 "nbformat_minor": 2,
 "cells": [
  {
   "cell_type": "code",
   "execution_count": 49,
   "metadata": {},
   "outputs": [],
   "source": [
    "import pandas as pd\n",
    "import seaborn as sns\n",
    "import matplotlib.pyplot as plt\n",
    "import ctrace\n",
    "from tqdm import tqdm\n",
    "from ctrace.simulation import *\n",
    "from ctrace.utils import *\n",
    "\n",
    "from ctrace.dataset import load_graph, load_sir_path\n",
    "import concurrent.futures"
   ]
  },
  {
   "cell_type": "code",
   "execution_count": 59,
   "metadata": {},
   "outputs": [
    {
     "output_type": "execute_result",
     "data": {
      "text/plain": [
       "   Unnamed: 0           G      p  budget  \\\n",
       "0           0  montgomery  0.078     400   \n",
       "1           1  montgomery  0.078     400   \n",
       "2           2  montgomery  0.078     400   \n",
       "3           3  montgomery  0.078     400   \n",
       "4           4  montgomery  0.078     400   \n",
       "\n",
       "                                          from_cache           method  \\\n",
       "0  /home/ubuntu/ContactTracing/data/SIR_Cache/tim...           random   \n",
       "1  /home/ubuntu/ContactTracing/data/SIR_Cache/tim...           random   \n",
       "2  /home/ubuntu/ContactTracing/data/SIR_Cache/tim...        dependent   \n",
       "3  /home/ubuntu/ContactTracing/data/SIR_Cache/tim...        dependent   \n",
       "4  /home/ubuntu/ContactTracing/data/SIR_Cache/tim...  greedy_weighted   \n",
       "\n",
       "   trial_id_x  mip_value  greedy_intersection  maxD  ...  num_cross_edges  \\\n",
       "0           1  90.850904                   25    28  ...            16931   \n",
       "1           0  90.716560                   20    28  ...            16931   \n",
       "2           0  69.442667                  256    28  ...            16931   \n",
       "3           1  69.491244                  252    28  ...            16931   \n",
       "4           0  71.084567                   -1    28  ...            16931   \n",
       "\n",
       "   duration  updated_MIP_x  v1_sum_values  min_exposed_mean  \\\n",
       "0  0.883242     752.813311     661.962407             118.8   \n",
       "1  0.885397     752.678967     661.962407             123.6   \n",
       "2  1.148150     731.405074     661.962407              95.2   \n",
       "3  1.222075     731.453652     661.962407              96.6   \n",
       "4  0.032429     733.046974     661.962407              93.2   \n",
       "\n",
       "   min_exposed_stddev  updated_min_exposed_value  trial_id_y  \\\n",
       "0           12.517987                 780.762407           0   \n",
       "1            9.502631                 785.562407           0   \n",
       "2           14.078352                 757.162407           0   \n",
       "3           11.567195                 758.562407           0   \n",
       "4           11.966620                 755.162407           0   \n",
       "\n",
       "   optimal_MIP_value  mip_ratio  \n",
       "0         730.259302   1.030885  \n",
       "1         730.259302   1.030701  \n",
       "2         730.259302   1.001569  \n",
       "3         730.259302   1.001636  \n",
       "4         730.259302   1.003817  \n",
       "\n",
       "[5 rows x 23 columns]"
      ],
      "text/html": "<div>\n<style scoped>\n    .dataframe tbody tr th:only-of-type {\n        vertical-align: middle;\n    }\n\n    .dataframe tbody tr th {\n        vertical-align: top;\n    }\n\n    .dataframe thead th {\n        text-align: right;\n    }\n</style>\n<table border=\"1\" class=\"dataframe\">\n  <thead>\n    <tr style=\"text-align: right;\">\n      <th></th>\n      <th>Unnamed: 0</th>\n      <th>G</th>\n      <th>p</th>\n      <th>budget</th>\n      <th>from_cache</th>\n      <th>method</th>\n      <th>trial_id_x</th>\n      <th>mip_value</th>\n      <th>greedy_intersection</th>\n      <th>maxD</th>\n      <th>...</th>\n      <th>num_cross_edges</th>\n      <th>duration</th>\n      <th>updated_MIP_x</th>\n      <th>v1_sum_values</th>\n      <th>min_exposed_mean</th>\n      <th>min_exposed_stddev</th>\n      <th>updated_min_exposed_value</th>\n      <th>trial_id_y</th>\n      <th>optimal_MIP_value</th>\n      <th>mip_ratio</th>\n    </tr>\n  </thead>\n  <tbody>\n    <tr>\n      <th>0</th>\n      <td>0</td>\n      <td>montgomery</td>\n      <td>0.078</td>\n      <td>400</td>\n      <td>/home/ubuntu/ContactTracing/data/SIR_Cache/tim...</td>\n      <td>random</td>\n      <td>1</td>\n      <td>90.850904</td>\n      <td>25</td>\n      <td>28</td>\n      <td>...</td>\n      <td>16931</td>\n      <td>0.883242</td>\n      <td>752.813311</td>\n      <td>661.962407</td>\n      <td>118.8</td>\n      <td>12.517987</td>\n      <td>780.762407</td>\n      <td>0</td>\n      <td>730.259302</td>\n      <td>1.030885</td>\n    </tr>\n    <tr>\n      <th>1</th>\n      <td>1</td>\n      <td>montgomery</td>\n      <td>0.078</td>\n      <td>400</td>\n      <td>/home/ubuntu/ContactTracing/data/SIR_Cache/tim...</td>\n      <td>random</td>\n      <td>0</td>\n      <td>90.716560</td>\n      <td>20</td>\n      <td>28</td>\n      <td>...</td>\n      <td>16931</td>\n      <td>0.885397</td>\n      <td>752.678967</td>\n      <td>661.962407</td>\n      <td>123.6</td>\n      <td>9.502631</td>\n      <td>785.562407</td>\n      <td>0</td>\n      <td>730.259302</td>\n      <td>1.030701</td>\n    </tr>\n    <tr>\n      <th>2</th>\n      <td>2</td>\n      <td>montgomery</td>\n      <td>0.078</td>\n      <td>400</td>\n      <td>/home/ubuntu/ContactTracing/data/SIR_Cache/tim...</td>\n      <td>dependent</td>\n      <td>0</td>\n      <td>69.442667</td>\n      <td>256</td>\n      <td>28</td>\n      <td>...</td>\n      <td>16931</td>\n      <td>1.148150</td>\n      <td>731.405074</td>\n      <td>661.962407</td>\n      <td>95.2</td>\n      <td>14.078352</td>\n      <td>757.162407</td>\n      <td>0</td>\n      <td>730.259302</td>\n      <td>1.001569</td>\n    </tr>\n    <tr>\n      <th>3</th>\n      <td>3</td>\n      <td>montgomery</td>\n      <td>0.078</td>\n      <td>400</td>\n      <td>/home/ubuntu/ContactTracing/data/SIR_Cache/tim...</td>\n      <td>dependent</td>\n      <td>1</td>\n      <td>69.491244</td>\n      <td>252</td>\n      <td>28</td>\n      <td>...</td>\n      <td>16931</td>\n      <td>1.222075</td>\n      <td>731.453652</td>\n      <td>661.962407</td>\n      <td>96.6</td>\n      <td>11.567195</td>\n      <td>758.562407</td>\n      <td>0</td>\n      <td>730.259302</td>\n      <td>1.001636</td>\n    </tr>\n    <tr>\n      <th>4</th>\n      <td>4</td>\n      <td>montgomery</td>\n      <td>0.078</td>\n      <td>400</td>\n      <td>/home/ubuntu/ContactTracing/data/SIR_Cache/tim...</td>\n      <td>greedy_weighted</td>\n      <td>0</td>\n      <td>71.084567</td>\n      <td>-1</td>\n      <td>28</td>\n      <td>...</td>\n      <td>16931</td>\n      <td>0.032429</td>\n      <td>733.046974</td>\n      <td>661.962407</td>\n      <td>93.2</td>\n      <td>11.966620</td>\n      <td>755.162407</td>\n      <td>0</td>\n      <td>730.259302</td>\n      <td>1.003817</td>\n    </tr>\n  </tbody>\n</table>\n<p>5 rows × 23 columns</p>\n</div>"
     },
     "metadata": {},
     "execution_count": 59
    }
   ],
   "source": [
    "with open(\"with_optimal.csv\", \"r\") as csv:\n",
    "    df = pd.read_csv(csv)\n",
    "df.head()"
   ]
  },
  {
   "cell_type": "code",
   "execution_count": 60,
   "metadata": {},
   "outputs": [
    {
     "output_type": "execute_result",
     "data": {
      "text/plain": [
       "['Unnamed: 0',\n",
       " 'G',\n",
       " 'p',\n",
       " 'budget',\n",
       " 'from_cache',\n",
       " 'method',\n",
       " 'trial_id_x',\n",
       " 'mip_value',\n",
       " 'greedy_intersection',\n",
       " 'maxD',\n",
       " 'I_size',\n",
       " 'v1_size',\n",
       " 'v2_size',\n",
       " 'num_cross_edges',\n",
       " 'duration',\n",
       " 'updated_MIP_x',\n",
       " 'v1_sum_values',\n",
       " 'min_exposed_mean',\n",
       " 'min_exposed_stddev',\n",
       " 'updated_min_exposed_value',\n",
       " 'trial_id_y',\n",
       " 'optimal_MIP_value',\n",
       " 'mip_ratio']"
      ]
     },
     "metadata": {},
     "execution_count": 60
    }
   ],
   "source": [
    "list(df)"
   ]
  },
  {
   "cell_type": "code",
   "execution_count": 61,
   "metadata": {},
   "outputs": [],
   "source": [
    "df = df.rename(columns={\"optimal_MIP_value\": \"updated_optimal_mip_value\", \"mip_ratio\": \"updated_mip_ratio\"})"
   ]
  },
  {
   "cell_type": "code",
   "execution_count": 62,
   "metadata": {},
   "outputs": [
    {
     "output_type": "execute_result",
     "data": {
      "text/plain": [
       "   Unnamed: 0           G      p  budget  \\\n",
       "0           0  montgomery  0.078     400   \n",
       "1           1  montgomery  0.078     400   \n",
       "2           2  montgomery  0.078     400   \n",
       "3           3  montgomery  0.078     400   \n",
       "4           4  montgomery  0.078     400   \n",
       "\n",
       "                                          from_cache           method  \\\n",
       "0  /home/ubuntu/ContactTracing/data/SIR_Cache/tim...           random   \n",
       "1  /home/ubuntu/ContactTracing/data/SIR_Cache/tim...           random   \n",
       "2  /home/ubuntu/ContactTracing/data/SIR_Cache/tim...        dependent   \n",
       "3  /home/ubuntu/ContactTracing/data/SIR_Cache/tim...        dependent   \n",
       "4  /home/ubuntu/ContactTracing/data/SIR_Cache/tim...  greedy_weighted   \n",
       "\n",
       "   trial_id_x  mip_value  greedy_intersection  maxD  ...  num_cross_edges  \\\n",
       "0           1  90.850904                   25    28  ...            16931   \n",
       "1           0  90.716560                   20    28  ...            16931   \n",
       "2           0  69.442667                  256    28  ...            16931   \n",
       "3           1  69.491244                  252    28  ...            16931   \n",
       "4           0  71.084567                   -1    28  ...            16931   \n",
       "\n",
       "   duration  updated_MIP_x  v1_sum_values  min_exposed_mean  \\\n",
       "0  0.883242     752.813311     661.962407             118.8   \n",
       "1  0.885397     752.678967     661.962407             123.6   \n",
       "2  1.148150     731.405074     661.962407              95.2   \n",
       "3  1.222075     731.453652     661.962407              96.6   \n",
       "4  0.032429     733.046974     661.962407              93.2   \n",
       "\n",
       "   min_exposed_stddev  updated_min_exposed_value  trial_id_y  \\\n",
       "0           12.517987                 780.762407           0   \n",
       "1            9.502631                 785.562407           0   \n",
       "2           14.078352                 757.162407           0   \n",
       "3           11.567195                 758.562407           0   \n",
       "4           11.966620                 755.162407           0   \n",
       "\n",
       "   updated_optimal_mip_value  updated_mip_ratio  \n",
       "0                 730.259302           1.030885  \n",
       "1                 730.259302           1.030701  \n",
       "2                 730.259302           1.001569  \n",
       "3                 730.259302           1.001636  \n",
       "4                 730.259302           1.003817  \n",
       "\n",
       "[5 rows x 23 columns]"
      ],
      "text/html": "<div>\n<style scoped>\n    .dataframe tbody tr th:only-of-type {\n        vertical-align: middle;\n    }\n\n    .dataframe tbody tr th {\n        vertical-align: top;\n    }\n\n    .dataframe thead th {\n        text-align: right;\n    }\n</style>\n<table border=\"1\" class=\"dataframe\">\n  <thead>\n    <tr style=\"text-align: right;\">\n      <th></th>\n      <th>Unnamed: 0</th>\n      <th>G</th>\n      <th>p</th>\n      <th>budget</th>\n      <th>from_cache</th>\n      <th>method</th>\n      <th>trial_id_x</th>\n      <th>mip_value</th>\n      <th>greedy_intersection</th>\n      <th>maxD</th>\n      <th>...</th>\n      <th>num_cross_edges</th>\n      <th>duration</th>\n      <th>updated_MIP_x</th>\n      <th>v1_sum_values</th>\n      <th>min_exposed_mean</th>\n      <th>min_exposed_stddev</th>\n      <th>updated_min_exposed_value</th>\n      <th>trial_id_y</th>\n      <th>updated_optimal_mip_value</th>\n      <th>updated_mip_ratio</th>\n    </tr>\n  </thead>\n  <tbody>\n    <tr>\n      <th>0</th>\n      <td>0</td>\n      <td>montgomery</td>\n      <td>0.078</td>\n      <td>400</td>\n      <td>/home/ubuntu/ContactTracing/data/SIR_Cache/tim...</td>\n      <td>random</td>\n      <td>1</td>\n      <td>90.850904</td>\n      <td>25</td>\n      <td>28</td>\n      <td>...</td>\n      <td>16931</td>\n      <td>0.883242</td>\n      <td>752.813311</td>\n      <td>661.962407</td>\n      <td>118.8</td>\n      <td>12.517987</td>\n      <td>780.762407</td>\n      <td>0</td>\n      <td>730.259302</td>\n      <td>1.030885</td>\n    </tr>\n    <tr>\n      <th>1</th>\n      <td>1</td>\n      <td>montgomery</td>\n      <td>0.078</td>\n      <td>400</td>\n      <td>/home/ubuntu/ContactTracing/data/SIR_Cache/tim...</td>\n      <td>random</td>\n      <td>0</td>\n      <td>90.716560</td>\n      <td>20</td>\n      <td>28</td>\n      <td>...</td>\n      <td>16931</td>\n      <td>0.885397</td>\n      <td>752.678967</td>\n      <td>661.962407</td>\n      <td>123.6</td>\n      <td>9.502631</td>\n      <td>785.562407</td>\n      <td>0</td>\n      <td>730.259302</td>\n      <td>1.030701</td>\n    </tr>\n    <tr>\n      <th>2</th>\n      <td>2</td>\n      <td>montgomery</td>\n      <td>0.078</td>\n      <td>400</td>\n      <td>/home/ubuntu/ContactTracing/data/SIR_Cache/tim...</td>\n      <td>dependent</td>\n      <td>0</td>\n      <td>69.442667</td>\n      <td>256</td>\n      <td>28</td>\n      <td>...</td>\n      <td>16931</td>\n      <td>1.148150</td>\n      <td>731.405074</td>\n      <td>661.962407</td>\n      <td>95.2</td>\n      <td>14.078352</td>\n      <td>757.162407</td>\n      <td>0</td>\n      <td>730.259302</td>\n      <td>1.001569</td>\n    </tr>\n    <tr>\n      <th>3</th>\n      <td>3</td>\n      <td>montgomery</td>\n      <td>0.078</td>\n      <td>400</td>\n      <td>/home/ubuntu/ContactTracing/data/SIR_Cache/tim...</td>\n      <td>dependent</td>\n      <td>1</td>\n      <td>69.491244</td>\n      <td>252</td>\n      <td>28</td>\n      <td>...</td>\n      <td>16931</td>\n      <td>1.222075</td>\n      <td>731.453652</td>\n      <td>661.962407</td>\n      <td>96.6</td>\n      <td>11.567195</td>\n      <td>758.562407</td>\n      <td>0</td>\n      <td>730.259302</td>\n      <td>1.001636</td>\n    </tr>\n    <tr>\n      <th>4</th>\n      <td>4</td>\n      <td>montgomery</td>\n      <td>0.078</td>\n      <td>400</td>\n      <td>/home/ubuntu/ContactTracing/data/SIR_Cache/tim...</td>\n      <td>greedy_weighted</td>\n      <td>0</td>\n      <td>71.084567</td>\n      <td>-1</td>\n      <td>28</td>\n      <td>...</td>\n      <td>16931</td>\n      <td>0.032429</td>\n      <td>733.046974</td>\n      <td>661.962407</td>\n      <td>93.2</td>\n      <td>11.966620</td>\n      <td>755.162407</td>\n      <td>0</td>\n      <td>730.259302</td>\n      <td>1.003817</td>\n    </tr>\n  </tbody>\n</table>\n<p>5 rows × 23 columns</p>\n</div>"
     },
     "metadata": {},
     "execution_count": 62
    }
   ],
   "source": [
    "df.head()"
   ]
  },
  {
   "cell_type": "code",
   "execution_count": 63,
   "metadata": {},
   "outputs": [],
   "source": [
    "df = df.sort_values(by=\"v2_size\")"
   ]
  },
  {
   "cell_type": "code",
   "execution_count": 64,
   "metadata": {},
   "outputs": [
    {
     "output_type": "execute_result",
     "data": {
      "text/plain": [
       "       Unnamed: 0           G      p  budget  \\\n",
       "3524         3524  montgomery  0.078     500   \n",
       "1521         1521  montgomery  0.078     400   \n",
       "13526       13526  montgomery  0.078    1000   \n",
       "7527         7527  montgomery  0.078     700   \n",
       "7526         7526  montgomery  0.078     700   \n",
       "\n",
       "                                              from_cache      method  \\\n",
       "3524   /home/ubuntu/ContactTracing/data/SIR_Cache/tim...   dependent   \n",
       "1521   /home/ubuntu/ContactTracing/data/SIR_Cache/tim...      random   \n",
       "13526  /home/ubuntu/ContactTracing/data/SIR_Cache/tim...  mip_gurobi   \n",
       "7527   /home/ubuntu/ContactTracing/data/SIR_Cache/tim...  mip_gurobi   \n",
       "7526   /home/ubuntu/ContactTracing/data/SIR_Cache/tim...  mip_gurobi   \n",
       "\n",
       "       trial_id_x  mip_value  greedy_intersection  maxD  ...  num_cross_edges  \\\n",
       "3524            1  24.586366                  389    23  ...             8273   \n",
       "1521            0  43.230364                   51    23  ...             8273   \n",
       "13526           0  12.985644                  917    23  ...             8273   \n",
       "7527            1  19.187072                  606    23  ...             8273   \n",
       "7526            0  19.187072                  606    23  ...             8273   \n",
       "\n",
       "       duration  updated_MIP_x  v1_sum_values  min_exposed_mean  \\\n",
       "3524   0.417403     300.721038     276.134672              30.0   \n",
       "1521   0.314996     319.365035     276.134672              52.4   \n",
       "13526  0.401733     289.120316     276.134672              13.6   \n",
       "7527   0.399221     295.321743     276.134672              29.0   \n",
       "7526   0.446501     295.321743     276.134672              23.4   \n",
       "\n",
       "       min_exposed_stddev  updated_min_exposed_value  trial_id_y  \\\n",
       "3524             7.874008                 306.134672           0   \n",
       "1521             3.847077                 328.534672           0   \n",
       "13526            1.816590                 289.734672           0   \n",
       "7527             4.847680                 305.134672           0   \n",
       "7526             6.188699                 299.534672           0   \n",
       "\n",
       "       updated_optimal_mip_value  updated_mip_ratio  \n",
       "3524                  300.575077           1.000486  \n",
       "1521                  303.693238           1.051604  \n",
       "13526                 289.120316           1.000000  \n",
       "7527                  295.321743           1.000000  \n",
       "7526                  295.321743           1.000000  \n",
       "\n",
       "[5 rows x 23 columns]"
      ],
      "text/html": "<div>\n<style scoped>\n    .dataframe tbody tr th:only-of-type {\n        vertical-align: middle;\n    }\n\n    .dataframe tbody tr th {\n        vertical-align: top;\n    }\n\n    .dataframe thead th {\n        text-align: right;\n    }\n</style>\n<table border=\"1\" class=\"dataframe\">\n  <thead>\n    <tr style=\"text-align: right;\">\n      <th></th>\n      <th>Unnamed: 0</th>\n      <th>G</th>\n      <th>p</th>\n      <th>budget</th>\n      <th>from_cache</th>\n      <th>method</th>\n      <th>trial_id_x</th>\n      <th>mip_value</th>\n      <th>greedy_intersection</th>\n      <th>maxD</th>\n      <th>...</th>\n      <th>num_cross_edges</th>\n      <th>duration</th>\n      <th>updated_MIP_x</th>\n      <th>v1_sum_values</th>\n      <th>min_exposed_mean</th>\n      <th>min_exposed_stddev</th>\n      <th>updated_min_exposed_value</th>\n      <th>trial_id_y</th>\n      <th>updated_optimal_mip_value</th>\n      <th>updated_mip_ratio</th>\n    </tr>\n  </thead>\n  <tbody>\n    <tr>\n      <th>3524</th>\n      <td>3524</td>\n      <td>montgomery</td>\n      <td>0.078</td>\n      <td>500</td>\n      <td>/home/ubuntu/ContactTracing/data/SIR_Cache/tim...</td>\n      <td>dependent</td>\n      <td>1</td>\n      <td>24.586366</td>\n      <td>389</td>\n      <td>23</td>\n      <td>...</td>\n      <td>8273</td>\n      <td>0.417403</td>\n      <td>300.721038</td>\n      <td>276.134672</td>\n      <td>30.0</td>\n      <td>7.874008</td>\n      <td>306.134672</td>\n      <td>0</td>\n      <td>300.575077</td>\n      <td>1.000486</td>\n    </tr>\n    <tr>\n      <th>1521</th>\n      <td>1521</td>\n      <td>montgomery</td>\n      <td>0.078</td>\n      <td>400</td>\n      <td>/home/ubuntu/ContactTracing/data/SIR_Cache/tim...</td>\n      <td>random</td>\n      <td>0</td>\n      <td>43.230364</td>\n      <td>51</td>\n      <td>23</td>\n      <td>...</td>\n      <td>8273</td>\n      <td>0.314996</td>\n      <td>319.365035</td>\n      <td>276.134672</td>\n      <td>52.4</td>\n      <td>3.847077</td>\n      <td>328.534672</td>\n      <td>0</td>\n      <td>303.693238</td>\n      <td>1.051604</td>\n    </tr>\n    <tr>\n      <th>13526</th>\n      <td>13526</td>\n      <td>montgomery</td>\n      <td>0.078</td>\n      <td>1000</td>\n      <td>/home/ubuntu/ContactTracing/data/SIR_Cache/tim...</td>\n      <td>mip_gurobi</td>\n      <td>0</td>\n      <td>12.985644</td>\n      <td>917</td>\n      <td>23</td>\n      <td>...</td>\n      <td>8273</td>\n      <td>0.401733</td>\n      <td>289.120316</td>\n      <td>276.134672</td>\n      <td>13.6</td>\n      <td>1.816590</td>\n      <td>289.734672</td>\n      <td>0</td>\n      <td>289.120316</td>\n      <td>1.000000</td>\n    </tr>\n    <tr>\n      <th>7527</th>\n      <td>7527</td>\n      <td>montgomery</td>\n      <td>0.078</td>\n      <td>700</td>\n      <td>/home/ubuntu/ContactTracing/data/SIR_Cache/tim...</td>\n      <td>mip_gurobi</td>\n      <td>1</td>\n      <td>19.187072</td>\n      <td>606</td>\n      <td>23</td>\n      <td>...</td>\n      <td>8273</td>\n      <td>0.399221</td>\n      <td>295.321743</td>\n      <td>276.134672</td>\n      <td>29.0</td>\n      <td>4.847680</td>\n      <td>305.134672</td>\n      <td>0</td>\n      <td>295.321743</td>\n      <td>1.000000</td>\n    </tr>\n    <tr>\n      <th>7526</th>\n      <td>7526</td>\n      <td>montgomery</td>\n      <td>0.078</td>\n      <td>700</td>\n      <td>/home/ubuntu/ContactTracing/data/SIR_Cache/tim...</td>\n      <td>mip_gurobi</td>\n      <td>0</td>\n      <td>19.187072</td>\n      <td>606</td>\n      <td>23</td>\n      <td>...</td>\n      <td>8273</td>\n      <td>0.446501</td>\n      <td>295.321743</td>\n      <td>276.134672</td>\n      <td>23.4</td>\n      <td>6.188699</td>\n      <td>299.534672</td>\n      <td>0</td>\n      <td>295.321743</td>\n      <td>1.000000</td>\n    </tr>\n  </tbody>\n</table>\n<p>5 rows × 23 columns</p>\n</div>"
     },
     "metadata": {},
     "execution_count": 64
    }
   ],
   "source": [
    "df.head()"
   ]
  },
  {
   "cell_type": "code",
   "execution_count": 66,
   "metadata": {},
   "outputs": [],
   "source": [
    "df[\"optimal_mip_value\"] = df[\"updated_optimal_mip_value\"] - df[\"v1_sum_values\"]"
   ]
  },
  {
   "cell_type": "code",
   "execution_count": 67,
   "metadata": {},
   "outputs": [
    {
     "output_type": "execute_result",
     "data": {
      "text/plain": [
       "       Unnamed: 0           G      p  budget  \\\n",
       "3524         3524  montgomery  0.078     500   \n",
       "1521         1521  montgomery  0.078     400   \n",
       "13526       13526  montgomery  0.078    1000   \n",
       "7527         7527  montgomery  0.078     700   \n",
       "7526         7526  montgomery  0.078     700   \n",
       "\n",
       "                                              from_cache      method  \\\n",
       "3524   /home/ubuntu/ContactTracing/data/SIR_Cache/tim...   dependent   \n",
       "1521   /home/ubuntu/ContactTracing/data/SIR_Cache/tim...      random   \n",
       "13526  /home/ubuntu/ContactTracing/data/SIR_Cache/tim...  mip_gurobi   \n",
       "7527   /home/ubuntu/ContactTracing/data/SIR_Cache/tim...  mip_gurobi   \n",
       "7526   /home/ubuntu/ContactTracing/data/SIR_Cache/tim...  mip_gurobi   \n",
       "\n",
       "       trial_id_x  mip_value  greedy_intersection  maxD  ...  duration  \\\n",
       "3524            1  24.586366                  389    23  ...  0.417403   \n",
       "1521            0  43.230364                   51    23  ...  0.314996   \n",
       "13526           0  12.985644                  917    23  ...  0.401733   \n",
       "7527            1  19.187072                  606    23  ...  0.399221   \n",
       "7526            0  19.187072                  606    23  ...  0.446501   \n",
       "\n",
       "       updated_MIP_x  v1_sum_values  min_exposed_mean  min_exposed_stddev  \\\n",
       "3524      300.721038     276.134672              30.0            7.874008   \n",
       "1521      319.365035     276.134672              52.4            3.847077   \n",
       "13526     289.120316     276.134672              13.6            1.816590   \n",
       "7527      295.321743     276.134672              29.0            4.847680   \n",
       "7526      295.321743     276.134672              23.4            6.188699   \n",
       "\n",
       "       updated_min_exposed_value  trial_id_y  updated_optimal_mip_value  \\\n",
       "3524                  306.134672           0                 300.575077   \n",
       "1521                  328.534672           0                 303.693238   \n",
       "13526                 289.734672           0                 289.120316   \n",
       "7527                  305.134672           0                 295.321743   \n",
       "7526                  299.534672           0                 295.321743   \n",
       "\n",
       "       updated_mip_ratio  optimal_mip_value  \n",
       "3524            1.000486          24.440405  \n",
       "1521            1.051604          27.558566  \n",
       "13526           1.000000          12.985644  \n",
       "7527            1.000000          19.187072  \n",
       "7526            1.000000          19.187072  \n",
       "\n",
       "[5 rows x 24 columns]"
      ],
      "text/html": "<div>\n<style scoped>\n    .dataframe tbody tr th:only-of-type {\n        vertical-align: middle;\n    }\n\n    .dataframe tbody tr th {\n        vertical-align: top;\n    }\n\n    .dataframe thead th {\n        text-align: right;\n    }\n</style>\n<table border=\"1\" class=\"dataframe\">\n  <thead>\n    <tr style=\"text-align: right;\">\n      <th></th>\n      <th>Unnamed: 0</th>\n      <th>G</th>\n      <th>p</th>\n      <th>budget</th>\n      <th>from_cache</th>\n      <th>method</th>\n      <th>trial_id_x</th>\n      <th>mip_value</th>\n      <th>greedy_intersection</th>\n      <th>maxD</th>\n      <th>...</th>\n      <th>duration</th>\n      <th>updated_MIP_x</th>\n      <th>v1_sum_values</th>\n      <th>min_exposed_mean</th>\n      <th>min_exposed_stddev</th>\n      <th>updated_min_exposed_value</th>\n      <th>trial_id_y</th>\n      <th>updated_optimal_mip_value</th>\n      <th>updated_mip_ratio</th>\n      <th>optimal_mip_value</th>\n    </tr>\n  </thead>\n  <tbody>\n    <tr>\n      <th>3524</th>\n      <td>3524</td>\n      <td>montgomery</td>\n      <td>0.078</td>\n      <td>500</td>\n      <td>/home/ubuntu/ContactTracing/data/SIR_Cache/tim...</td>\n      <td>dependent</td>\n      <td>1</td>\n      <td>24.586366</td>\n      <td>389</td>\n      <td>23</td>\n      <td>...</td>\n      <td>0.417403</td>\n      <td>300.721038</td>\n      <td>276.134672</td>\n      <td>30.0</td>\n      <td>7.874008</td>\n      <td>306.134672</td>\n      <td>0</td>\n      <td>300.575077</td>\n      <td>1.000486</td>\n      <td>24.440405</td>\n    </tr>\n    <tr>\n      <th>1521</th>\n      <td>1521</td>\n      <td>montgomery</td>\n      <td>0.078</td>\n      <td>400</td>\n      <td>/home/ubuntu/ContactTracing/data/SIR_Cache/tim...</td>\n      <td>random</td>\n      <td>0</td>\n      <td>43.230364</td>\n      <td>51</td>\n      <td>23</td>\n      <td>...</td>\n      <td>0.314996</td>\n      <td>319.365035</td>\n      <td>276.134672</td>\n      <td>52.4</td>\n      <td>3.847077</td>\n      <td>328.534672</td>\n      <td>0</td>\n      <td>303.693238</td>\n      <td>1.051604</td>\n      <td>27.558566</td>\n    </tr>\n    <tr>\n      <th>13526</th>\n      <td>13526</td>\n      <td>montgomery</td>\n      <td>0.078</td>\n      <td>1000</td>\n      <td>/home/ubuntu/ContactTracing/data/SIR_Cache/tim...</td>\n      <td>mip_gurobi</td>\n      <td>0</td>\n      <td>12.985644</td>\n      <td>917</td>\n      <td>23</td>\n      <td>...</td>\n      <td>0.401733</td>\n      <td>289.120316</td>\n      <td>276.134672</td>\n      <td>13.6</td>\n      <td>1.816590</td>\n      <td>289.734672</td>\n      <td>0</td>\n      <td>289.120316</td>\n      <td>1.000000</td>\n      <td>12.985644</td>\n    </tr>\n    <tr>\n      <th>7527</th>\n      <td>7527</td>\n      <td>montgomery</td>\n      <td>0.078</td>\n      <td>700</td>\n      <td>/home/ubuntu/ContactTracing/data/SIR_Cache/tim...</td>\n      <td>mip_gurobi</td>\n      <td>1</td>\n      <td>19.187072</td>\n      <td>606</td>\n      <td>23</td>\n      <td>...</td>\n      <td>0.399221</td>\n      <td>295.321743</td>\n      <td>276.134672</td>\n      <td>29.0</td>\n      <td>4.847680</td>\n      <td>305.134672</td>\n      <td>0</td>\n      <td>295.321743</td>\n      <td>1.000000</td>\n      <td>19.187072</td>\n    </tr>\n    <tr>\n      <th>7526</th>\n      <td>7526</td>\n      <td>montgomery</td>\n      <td>0.078</td>\n      <td>700</td>\n      <td>/home/ubuntu/ContactTracing/data/SIR_Cache/tim...</td>\n      <td>mip_gurobi</td>\n      <td>0</td>\n      <td>19.187072</td>\n      <td>606</td>\n      <td>23</td>\n      <td>...</td>\n      <td>0.446501</td>\n      <td>295.321743</td>\n      <td>276.134672</td>\n      <td>23.4</td>\n      <td>6.188699</td>\n      <td>299.534672</td>\n      <td>0</td>\n      <td>295.321743</td>\n      <td>1.000000</td>\n      <td>19.187072</td>\n    </tr>\n  </tbody>\n</table>\n<p>5 rows × 24 columns</p>\n</div>"
     },
     "metadata": {},
     "execution_count": 67
    }
   ],
   "source": [
    "df.head()"
   ]
  },
  {
   "cell_type": "code",
   "execution_count": 68,
   "metadata": {},
   "outputs": [],
   "source": [
    "df[\"mip_ratio\"] = df[\"mip_value\"] / df[\"optimal_mip_value\"]"
   ]
  },
  {
   "cell_type": "code",
   "execution_count": 103,
   "metadata": {},
   "outputs": [
    {
     "output_type": "execute_result",
     "data": {
      "text/plain": [
       "['Unnamed: 0',\n",
       " 'G',\n",
       " 'p',\n",
       " 'budget',\n",
       " 'from_cache',\n",
       " 'method',\n",
       " 'trial_id_x',\n",
       " 'mip_value',\n",
       " 'greedy_intersection',\n",
       " 'maxD',\n",
       " 'I_size',\n",
       " 'v1_size',\n",
       " 'v2_size',\n",
       " 'num_cross_edges',\n",
       " 'duration',\n",
       " 'updated_MIP_x',\n",
       " 'v1_sum_values',\n",
       " 'min_exposed_mean',\n",
       " 'min_exposed_stddev',\n",
       " 'updated_min_exposed_value',\n",
       " 'trial_id_y',\n",
       " 'updated_optimal_mip_value',\n",
       " 'updated_mip_ratio',\n",
       " 'optimal_mip_value',\n",
       " 'mip_ratio']"
      ]
     },
     "metadata": {},
     "execution_count": 103
    }
   ],
   "source": [
    "list(df)"
   ]
  },
  {
   "cell_type": "code",
   "execution_count": 76,
   "metadata": {},
   "outputs": [],
   "source": [
    "keep = ['v2_size', \"method\", \"budget\", \"mip_ratio\", \"min_exposed_mean\", \"duration\"]"
   ]
  },
  {
   "cell_type": "code",
   "execution_count": 108,
   "metadata": {},
   "outputs": [],
   "source": [
    "sdf = df[[\"v1_size\", \"v2_size\", \"num_cross_edges\", \"maxD\"]]"
   ]
  },
  {
   "cell_type": "code",
   "execution_count": 109,
   "metadata": {},
   "outputs": [
    {
     "output_type": "execute_result",
     "data": {
      "text/plain": [
       "       v1_size  v2_size  num_cross_edges  maxD\n",
       "3524      2808     6472             8273    23\n",
       "1521      2808     6472             8273    23\n",
       "13526     2808     6472             8273    23\n",
       "7527      2808     6472             8273    23\n",
       "7526      2808     6472             8273    23"
      ],
      "text/html": "<div>\n<style scoped>\n    .dataframe tbody tr th:only-of-type {\n        vertical-align: middle;\n    }\n\n    .dataframe tbody tr th {\n        vertical-align: top;\n    }\n\n    .dataframe thead th {\n        text-align: right;\n    }\n</style>\n<table border=\"1\" class=\"dataframe\">\n  <thead>\n    <tr style=\"text-align: right;\">\n      <th></th>\n      <th>v1_size</th>\n      <th>v2_size</th>\n      <th>num_cross_edges</th>\n      <th>maxD</th>\n    </tr>\n  </thead>\n  <tbody>\n    <tr>\n      <th>3524</th>\n      <td>2808</td>\n      <td>6472</td>\n      <td>8273</td>\n      <td>23</td>\n    </tr>\n    <tr>\n      <th>1521</th>\n      <td>2808</td>\n      <td>6472</td>\n      <td>8273</td>\n      <td>23</td>\n    </tr>\n    <tr>\n      <th>13526</th>\n      <td>2808</td>\n      <td>6472</td>\n      <td>8273</td>\n      <td>23</td>\n    </tr>\n    <tr>\n      <th>7527</th>\n      <td>2808</td>\n      <td>6472</td>\n      <td>8273</td>\n      <td>23</td>\n    </tr>\n    <tr>\n      <th>7526</th>\n      <td>2808</td>\n      <td>6472</td>\n      <td>8273</td>\n      <td>23</td>\n    </tr>\n  </tbody>\n</table>\n</div>"
     },
     "metadata": {},
     "execution_count": 109
    }
   ],
   "source": [
    "import numpy as np\n",
    "schunks = np.array_split(sdf, 4)\n",
    "schunks[0].head()"
   ]
  },
  {
   "cell_type": "code",
   "execution_count": 112,
   "metadata": {},
   "outputs": [
    {
     "output_type": "stream",
     "name": "stdout",
     "text": [
      "<===============0===============>\nv1_size             8231.624\nv2_size            11447.824\nnum_cross_edges    19297.688\nmaxD                  26.240\ndtype: float64\n<===============1===============>\nv1_size            23223.784\nv2_size            16114.640\nnum_cross_edges    41225.480\nmaxD                  26.544\ndtype: float64\n<===============2===============>\nv1_size            29853.104\nv2_size            24789.528\nnum_cross_edges    99006.816\nmaxD                  38.264\ndtype: float64\n<===============3===============>\nv1_size             15508.672\nv2_size             38173.976\nnum_cross_edges    132058.320\nmaxD                   61.848\ndtype: float64\n"
     ]
    }
   ],
   "source": [
    "# Min-Exposed Analysis\n",
    "for i, schunk in enumerate(schunks):\n",
    "    print(f\"<==============={i}===============>\")\n",
    "    print(schunk.mean())"
   ]
  },
  {
   "cell_type": "code",
   "execution_count": 82,
   "metadata": {},
   "outputs": [
    {
     "output_type": "execute_result",
     "data": {
      "text/plain": [
       "14000"
      ]
     },
     "metadata": {},
     "execution_count": 82
    }
   ],
   "source": [
    "len(mdf)"
   ]
  },
  {
   "cell_type": "code",
   "execution_count": 89,
   "metadata": {},
   "outputs": [],
   "source": [
    "import numpy as np\n",
    "chunks = np.array_split(mdf, 4)"
   ]
  },
  {
   "cell_type": "code",
   "execution_count": 90,
   "metadata": {},
   "outputs": [
    {
     "output_type": "execute_result",
     "data": {
      "text/plain": [
       "       v2_size           method  budget  mip_ratio  min_exposed_mean  duration\n",
       "13084    14640        dependent    1000   1.052027             240.4  2.531544\n",
       "3086     14640       mip_gurobi     500   1.000000             257.2  3.182202\n",
       "11084    14640  greedy_weighted     900   1.066006             231.4  0.442536\n",
       "9086     14640       mip_gurobi     800   1.000000             239.6  5.335236\n",
       "9082     14640        dependent     800   1.043323             240.6  2.083186"
      ],
      "text/html": "<div>\n<style scoped>\n    .dataframe tbody tr th:only-of-type {\n        vertical-align: middle;\n    }\n\n    .dataframe tbody tr th {\n        vertical-align: top;\n    }\n\n    .dataframe thead th {\n        text-align: right;\n    }\n</style>\n<table border=\"1\" class=\"dataframe\">\n  <thead>\n    <tr style=\"text-align: right;\">\n      <th></th>\n      <th>v2_size</th>\n      <th>method</th>\n      <th>budget</th>\n      <th>mip_ratio</th>\n      <th>min_exposed_mean</th>\n      <th>duration</th>\n    </tr>\n  </thead>\n  <tbody>\n    <tr>\n      <th>13084</th>\n      <td>14640</td>\n      <td>dependent</td>\n      <td>1000</td>\n      <td>1.052027</td>\n      <td>240.4</td>\n      <td>2.531544</td>\n    </tr>\n    <tr>\n      <th>3086</th>\n      <td>14640</td>\n      <td>mip_gurobi</td>\n      <td>500</td>\n      <td>1.000000</td>\n      <td>257.2</td>\n      <td>3.182202</td>\n    </tr>\n    <tr>\n      <th>11084</th>\n      <td>14640</td>\n      <td>greedy_weighted</td>\n      <td>900</td>\n      <td>1.066006</td>\n      <td>231.4</td>\n      <td>0.442536</td>\n    </tr>\n    <tr>\n      <th>9086</th>\n      <td>14640</td>\n      <td>mip_gurobi</td>\n      <td>800</td>\n      <td>1.000000</td>\n      <td>239.6</td>\n      <td>5.335236</td>\n    </tr>\n    <tr>\n      <th>9082</th>\n      <td>14640</td>\n      <td>dependent</td>\n      <td>800</td>\n      <td>1.043323</td>\n      <td>240.6</td>\n      <td>2.083186</td>\n    </tr>\n  </tbody>\n</table>\n</div>"
     },
     "metadata": {},
     "execution_count": 90
    }
   ],
   "source": [
    "chunks[1].head()"
   ]
  },
  {
   "cell_type": "code",
   "execution_count": 38,
   "metadata": {},
   "outputs": [
    {
     "output_type": "execute_result",
     "data": {
      "text/plain": [
       "3500"
      ]
     },
     "metadata": {},
     "execution_count": 38
    }
   ],
   "source": [
    "len(chunks[0])"
   ]
  },
  {
   "cell_type": "code",
   "execution_count": 39,
   "metadata": {},
   "outputs": [
    {
     "output_type": "execute_result",
     "data": {
      "text/plain": [
       "       budget                                         from_cache  \\\n",
       "1524      400  /home/ubuntu/ContactTracing/data/SIR_Cache/tim...   \n",
       "5526      600  /home/ubuntu/ContactTracing/data/SIR_Cache/tim...   \n",
       "5525      600  /home/ubuntu/ContactTracing/data/SIR_Cache/tim...   \n",
       "5524      600  /home/ubuntu/ContactTracing/data/SIR_Cache/tim...   \n",
       "5523      600  /home/ubuntu/ContactTracing/data/SIR_Cache/tim...   \n",
       "...       ...                                                ...   \n",
       "12725    1000  /home/ubuntu/ContactTracing/data/SIR_Cache/tim...   \n",
       "4723      600  /home/ubuntu/ContactTracing/data/SIR_Cache/tim...   \n",
       "12724    1000  /home/ubuntu/ContactTracing/data/SIR_Cache/tim...   \n",
       "4721      600  /home/ubuntu/ContactTracing/data/SIR_Cache/tim...   \n",
       "4720      600  /home/ubuntu/ContactTracing/data/SIR_Cache/tim...   \n",
       "\n",
       "                method  trial_id_x  maxD  I_size  v1_size  v2_size  \\\n",
       "1524   greedy_weighted           0    23     529     2808     6472   \n",
       "5526   greedy_weighted           1    23     529     2808     6472   \n",
       "5525        mip_gurobi           1    23     529     2808     6472   \n",
       "5524   greedy_weighted           0    23     529     2808     6472   \n",
       "5523         dependent           1    23     529     2808     6472   \n",
       "...                ...         ...   ...     ...      ...      ...   \n",
       "12725        dependent           1    60     787    11279    39279   \n",
       "4723         dependent           0    60     787    11279    39279   \n",
       "12724        dependent           0    60     787    11279    39279   \n",
       "4721            random           1    60     787    11279    39279   \n",
       "4720            random           0    60     787    11279    39279   \n",
       "\n",
       "       num_cross_edges   duration  updated_min_exposed_value  mip_ratio  \n",
       "1524              8273   0.025445                 306.334672   1.003850  \n",
       "5526              8273   0.016595                 299.134672   1.003385  \n",
       "5525              8273   0.388629                 303.534672   1.000000  \n",
       "5524              8273   0.016042                 299.934672   1.003385  \n",
       "5523              8273   0.389772                 299.534672   1.000392  \n",
       "...                ...        ...                        ...        ...  \n",
       "12725           118975  12.758492                2082.002821   1.016771  \n",
       "4723            118975  10.715024                2127.402821   1.013087  \n",
       "12724           118975  12.331257                2070.602821   1.018112  \n",
       "4721            118975   5.479658                2284.802821   1.068347  \n",
       "4720            118975   5.030919                2285.202821   1.067485  \n",
       "\n",
       "[3500 rows x 12 columns]"
      ],
      "text/html": "<div>\n<style scoped>\n    .dataframe tbody tr th:only-of-type {\n        vertical-align: middle;\n    }\n\n    .dataframe tbody tr th {\n        vertical-align: top;\n    }\n\n    .dataframe thead th {\n        text-align: right;\n    }\n</style>\n<table border=\"1\" class=\"dataframe\">\n  <thead>\n    <tr style=\"text-align: right;\">\n      <th></th>\n      <th>budget</th>\n      <th>from_cache</th>\n      <th>method</th>\n      <th>trial_id_x</th>\n      <th>maxD</th>\n      <th>I_size</th>\n      <th>v1_size</th>\n      <th>v2_size</th>\n      <th>num_cross_edges</th>\n      <th>duration</th>\n      <th>updated_min_exposed_value</th>\n      <th>mip_ratio</th>\n    </tr>\n  </thead>\n  <tbody>\n    <tr>\n      <th>1524</th>\n      <td>400</td>\n      <td>/home/ubuntu/ContactTracing/data/SIR_Cache/tim...</td>\n      <td>greedy_weighted</td>\n      <td>0</td>\n      <td>23</td>\n      <td>529</td>\n      <td>2808</td>\n      <td>6472</td>\n      <td>8273</td>\n      <td>0.025445</td>\n      <td>306.334672</td>\n      <td>1.003850</td>\n    </tr>\n    <tr>\n      <th>5526</th>\n      <td>600</td>\n      <td>/home/ubuntu/ContactTracing/data/SIR_Cache/tim...</td>\n      <td>greedy_weighted</td>\n      <td>1</td>\n      <td>23</td>\n      <td>529</td>\n      <td>2808</td>\n      <td>6472</td>\n      <td>8273</td>\n      <td>0.016595</td>\n      <td>299.134672</td>\n      <td>1.003385</td>\n    </tr>\n    <tr>\n      <th>5525</th>\n      <td>600</td>\n      <td>/home/ubuntu/ContactTracing/data/SIR_Cache/tim...</td>\n      <td>mip_gurobi</td>\n      <td>1</td>\n      <td>23</td>\n      <td>529</td>\n      <td>2808</td>\n      <td>6472</td>\n      <td>8273</td>\n      <td>0.388629</td>\n      <td>303.534672</td>\n      <td>1.000000</td>\n    </tr>\n    <tr>\n      <th>5524</th>\n      <td>600</td>\n      <td>/home/ubuntu/ContactTracing/data/SIR_Cache/tim...</td>\n      <td>greedy_weighted</td>\n      <td>0</td>\n      <td>23</td>\n      <td>529</td>\n      <td>2808</td>\n      <td>6472</td>\n      <td>8273</td>\n      <td>0.016042</td>\n      <td>299.934672</td>\n      <td>1.003385</td>\n    </tr>\n    <tr>\n      <th>5523</th>\n      <td>600</td>\n      <td>/home/ubuntu/ContactTracing/data/SIR_Cache/tim...</td>\n      <td>dependent</td>\n      <td>1</td>\n      <td>23</td>\n      <td>529</td>\n      <td>2808</td>\n      <td>6472</td>\n      <td>8273</td>\n      <td>0.389772</td>\n      <td>299.534672</td>\n      <td>1.000392</td>\n    </tr>\n    <tr>\n      <th>...</th>\n      <td>...</td>\n      <td>...</td>\n      <td>...</td>\n      <td>...</td>\n      <td>...</td>\n      <td>...</td>\n      <td>...</td>\n      <td>...</td>\n      <td>...</td>\n      <td>...</td>\n      <td>...</td>\n      <td>...</td>\n    </tr>\n    <tr>\n      <th>12725</th>\n      <td>1000</td>\n      <td>/home/ubuntu/ContactTracing/data/SIR_Cache/tim...</td>\n      <td>dependent</td>\n      <td>1</td>\n      <td>60</td>\n      <td>787</td>\n      <td>11279</td>\n      <td>39279</td>\n      <td>118975</td>\n      <td>12.758492</td>\n      <td>2082.002821</td>\n      <td>1.016771</td>\n    </tr>\n    <tr>\n      <th>4723</th>\n      <td>600</td>\n      <td>/home/ubuntu/ContactTracing/data/SIR_Cache/tim...</td>\n      <td>dependent</td>\n      <td>0</td>\n      <td>60</td>\n      <td>787</td>\n      <td>11279</td>\n      <td>39279</td>\n      <td>118975</td>\n      <td>10.715024</td>\n      <td>2127.402821</td>\n      <td>1.013087</td>\n    </tr>\n    <tr>\n      <th>12724</th>\n      <td>1000</td>\n      <td>/home/ubuntu/ContactTracing/data/SIR_Cache/tim...</td>\n      <td>dependent</td>\n      <td>0</td>\n      <td>60</td>\n      <td>787</td>\n      <td>11279</td>\n      <td>39279</td>\n      <td>118975</td>\n      <td>12.331257</td>\n      <td>2070.602821</td>\n      <td>1.018112</td>\n    </tr>\n    <tr>\n      <th>4721</th>\n      <td>600</td>\n      <td>/home/ubuntu/ContactTracing/data/SIR_Cache/tim...</td>\n      <td>random</td>\n      <td>1</td>\n      <td>60</td>\n      <td>787</td>\n      <td>11279</td>\n      <td>39279</td>\n      <td>118975</td>\n      <td>5.479658</td>\n      <td>2284.802821</td>\n      <td>1.068347</td>\n    </tr>\n    <tr>\n      <th>4720</th>\n      <td>600</td>\n      <td>/home/ubuntu/ContactTracing/data/SIR_Cache/tim...</td>\n      <td>random</td>\n      <td>0</td>\n      <td>60</td>\n      <td>787</td>\n      <td>11279</td>\n      <td>39279</td>\n      <td>118975</td>\n      <td>5.030919</td>\n      <td>2285.202821</td>\n      <td>1.067485</td>\n    </tr>\n  </tbody>\n</table>\n<p>3500 rows × 12 columns</p>\n</div>"
     },
     "metadata": {},
     "execution_count": 39
    }
   ],
   "source": [
    "chunks[0]"
   ]
  },
  {
   "cell_type": "code",
   "execution_count": 14,
   "metadata": {},
   "outputs": [],
   "source": [
    "# MILP optimal gap \n",
    "c0 = chunks[0]"
   ]
  },
  {
   "cell_type": "code",
   "execution_count": 91,
   "metadata": {},
   "outputs": [
    {
     "output_type": "stream",
     "name": "stdout",
     "text": [
      "v2_size             11447.824000\nbudget                699.657143\nmip_ratio               1.024262\nmin_exposed_mean      117.173257\nduration                1.946668\ndtype: float64\nv2_size             16114.640000\nbudget                700.342857\nmip_ratio               1.036039\nmin_exposed_mean      420.241143\nduration                4.406256\ndtype: float64\nv2_size             24780.171625\nbudget                700.686499\nmip_ratio               1.044084\nmin_exposed_mean      986.014645\nduration               10.975250\ndtype: float64\nv2_size             38168.031963\nbudget                699.315068\nmip_ratio               1.066025\nmin_exposed_mean      953.094521\nduration               19.394254\ndtype: float64\n"
     ]
    }
   ],
   "source": [
    "for i, chunk in enumerate(chunks):\n",
    "    print(chunk[chunk[\"method\"] == \"dependent\"].mean())"
   ]
  },
  {
   "cell_type": "code",
   "execution_count": 92,
   "metadata": {},
   "outputs": [],
   "source": [
    "methods = [\"dependent\", \"greedy_weighted\", \"random\", \"mip_gurobi\"]"
   ]
  },
  {
   "cell_type": "code",
   "execution_count": 95,
   "metadata": {},
   "outputs": [
    {
     "output_type": "stream",
     "name": "stdout",
     "text": [
      "0, dependent, mip_ratio, 1.0242615891012434\n0, dependent, min_exposed_mean, 117.17325714285715\n0, dependent, duration, 1.9466683437760595\n0, greedy_weighted, mip_ratio, 1.0507780182370896\n0, greedy_weighted, min_exposed_mean, 109.87702857142857\n0, greedy_weighted, duration, 0.15545264925262434\n0, random, mip_ratio, 1.51866812603358\n0, random, min_exposed_mean, 154.15365296803654\n0, random, duration, 1.4310103069543219\n0, mip_gurobi, mip_ratio, 0.9999999999999998\n0, mip_gurobi, min_exposed_mean, 114.08993135011443\n0, mip_gurobi, duration, 2.680153892283772\n1, dependent, mip_ratio, 1.0360389365560794\n1, dependent, min_exposed_mean, 420.24114285714285\n1, dependent, duration, 4.406256034594272\n1, greedy_weighted, mip_ratio, 1.051808417745742\n1, greedy_weighted, min_exposed_mean, 396.23337142857144\n1, greedy_weighted, duration, 0.4306020181233928\n1, random, mip_ratio, 1.2441661024065196\n1, random, min_exposed_mean, 488.68375286041186\n1, random, duration, 2.961911379436972\n1, mip_gurobi, mip_ratio, 1.0000000000000002\n1, mip_gurobi, min_exposed_mean, 412.7728310502283\n1, mip_gurobi, duration, 9.017051884012538\n2, dependent, mip_ratio, 1.0440835800103012\n2, dependent, min_exposed_mean, 986.0146453089245\n2, dependent, duration, 10.97524985919793\n2, greedy_weighted, mip_ratio, 1.0510237713449564\n2, greedy_weighted, min_exposed_mean, 930.3361459521095\n2, greedy_weighted, duration, 0.656257522659114\n2, random, mip_ratio, 1.1957160356354963\n2, random, min_exposed_mean, 1096.6919908466818\n2, random, duration, 4.8459243808375465\n2, mip_gurobi, mip_ratio, 0.9999999999999994\n2, mip_gurobi, min_exposed_mean, 964.8674285714286\n2, mip_gurobi, duration, 24.2845745656332\n3, dependent, mip_ratio, 1.0660251536498335\n3, dependent, min_exposed_mean, 953.0945205479453\n3, dependent, duration, 19.394254320189468\n3, greedy_weighted, mip_ratio, 1.050111466039987\n3, greedy_weighted, min_exposed_mean, 897.6904925544102\n3, greedy_weighted, duration, 0.4190933479083736\n3, random, mip_ratio, 1.3363838688418708\n3, random, min_exposed_mean, 1109.932191780822\n3, random, duration, 5.01187681150442\n3, mip_gurobi, mip_ratio, 1.0\n3, mip_gurobi, min_exposed_mean, 922.7524571428572\n3, mip_gurobi, duration, 36.78150605263316\n"
     ]
    }
   ],
   "source": [
    "for i, chunk in enumerate(chunks):\n",
    "    for method in methods:\n",
    "        values = chunk[chunk[\"method\"] == method].mean()\n",
    "        for var in [\"mip_ratio\", \"min_exposed_mean\", \"duration\"]:\n",
    "            print(f\"{i}, {method}, {var}, {values[var]}\")\n"
   ]
  },
  {
   "cell_type": "code",
   "execution_count": null,
   "metadata": {},
   "outputs": [],
   "source": []
  }
 ]
}