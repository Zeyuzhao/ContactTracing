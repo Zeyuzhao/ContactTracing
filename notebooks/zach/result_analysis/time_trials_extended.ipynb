{
 "metadata": {
  "language_info": {
   "codemirror_mode": {
    "name": "ipython",
    "version": 3
   },
   "file_extension": ".py",
   "mimetype": "text/x-python",
   "name": "python",
   "nbconvert_exporter": "python",
   "pygments_lexer": "ipython3",
   "version": "3.8.5-final"
  },
  "orig_nbformat": 2,
  "kernelspec": {
   "name": "python3",
   "display_name": "Python 3",
   "language": "python"
  }
 },
 "nbformat": 4,
 "nbformat_minor": 2,
 "cells": [
  {
   "cell_type": "code",
   "execution_count": 4,
   "metadata": {},
   "outputs": [],
   "source": [
    "import pandas as pd\n",
    "import seaborn as sns\n",
    "import matplotlib.pyplot as plt\n",
    "import ctrace\n",
    "from tqdm import tqdm\n",
    "from ctrace.simulation import *\n",
    "from ctrace.utils import *\n",
    "\n",
    "from ctrace.dataset import load_graph, load_sir_path\n",
    "import concurrent.futures"
   ]
  },
  {
   "cell_type": "code",
   "execution_count": 13,
   "metadata": {},
   "outputs": [],
   "source": [
    "with open('time_trails_updated.csv', \"r\") as csv:\n",
    "    df = pd.read_csv(csv)\n",
    "df.head()\n",
    "df[\"v1_sum_values\"] = df[\"updated_MIP\"] - df[\"mip_value\"]\n"
   ]
  },
  {
   "cell_type": "code",
   "execution_count": 14,
   "metadata": {},
   "outputs": [
    {
     "output_type": "execute_result",
     "data": {
      "text/plain": [
       "   Unnamed: 0           G      p  budget  \\\n",
       "0           0  montgomery  0.078     400   \n",
       "1           1  montgomery  0.078     400   \n",
       "2           2  montgomery  0.078     400   \n",
       "3           3  montgomery  0.078     400   \n",
       "4           4  montgomery  0.078     400   \n",
       "\n",
       "                                          from_cache           method  \\\n",
       "0  /home/ubuntu/ContactTracing/data/SIR_Cache/tim...           random   \n",
       "1  /home/ubuntu/ContactTracing/data/SIR_Cache/tim...           random   \n",
       "2  /home/ubuntu/ContactTracing/data/SIR_Cache/tim...        dependent   \n",
       "3  /home/ubuntu/ContactTracing/data/SIR_Cache/tim...        dependent   \n",
       "4  /home/ubuntu/ContactTracing/data/SIR_Cache/tim...  greedy_weighted   \n",
       "\n",
       "   trial_id            min_exposed_value  mip_value  greedy_intersection  \\\n",
       "0         1  (118.8, 12.517987058628878)  90.850904                   25   \n",
       "1         0    (123.6, 9.50263121456368)  90.716560                   20   \n",
       "2         0   (95.2, 14.078352176302452)  69.442667                  256   \n",
       "3         1   (96.6, 11.567194992737004)  69.491244                  252   \n",
       "4         0   (93.2, 11.966620241321273)  71.084567                   -1   \n",
       "\n",
       "   maxD  I_size  v1_size  v2_size  num_cross_edges  duration  updated_MIP  \\\n",
       "0    28    1217     6233    11135            16931  0.883242   752.813311   \n",
       "1    28    1217     6233    11135            16931  0.885397   752.678967   \n",
       "2    28    1217     6233    11135            16931  1.148150   731.405074   \n",
       "3    28    1217     6233    11135            16931  1.222075   731.453652   \n",
       "4    28    1217     6233    11135            16931  0.032429   733.046974   \n",
       "\n",
       "   v1_sum_values  \n",
       "0     661.962407  \n",
       "1     661.962407  \n",
       "2     661.962407  \n",
       "3     661.962407  \n",
       "4     661.962407  "
      ],
      "text/html": "<div>\n<style scoped>\n    .dataframe tbody tr th:only-of-type {\n        vertical-align: middle;\n    }\n\n    .dataframe tbody tr th {\n        vertical-align: top;\n    }\n\n    .dataframe thead th {\n        text-align: right;\n    }\n</style>\n<table border=\"1\" class=\"dataframe\">\n  <thead>\n    <tr style=\"text-align: right;\">\n      <th></th>\n      <th>Unnamed: 0</th>\n      <th>G</th>\n      <th>p</th>\n      <th>budget</th>\n      <th>from_cache</th>\n      <th>method</th>\n      <th>trial_id</th>\n      <th>min_exposed_value</th>\n      <th>mip_value</th>\n      <th>greedy_intersection</th>\n      <th>maxD</th>\n      <th>I_size</th>\n      <th>v1_size</th>\n      <th>v2_size</th>\n      <th>num_cross_edges</th>\n      <th>duration</th>\n      <th>updated_MIP</th>\n      <th>v1_sum_values</th>\n    </tr>\n  </thead>\n  <tbody>\n    <tr>\n      <th>0</th>\n      <td>0</td>\n      <td>montgomery</td>\n      <td>0.078</td>\n      <td>400</td>\n      <td>/home/ubuntu/ContactTracing/data/SIR_Cache/tim...</td>\n      <td>random</td>\n      <td>1</td>\n      <td>(118.8, 12.517987058628878)</td>\n      <td>90.850904</td>\n      <td>25</td>\n      <td>28</td>\n      <td>1217</td>\n      <td>6233</td>\n      <td>11135</td>\n      <td>16931</td>\n      <td>0.883242</td>\n      <td>752.813311</td>\n      <td>661.962407</td>\n    </tr>\n    <tr>\n      <th>1</th>\n      <td>1</td>\n      <td>montgomery</td>\n      <td>0.078</td>\n      <td>400</td>\n      <td>/home/ubuntu/ContactTracing/data/SIR_Cache/tim...</td>\n      <td>random</td>\n      <td>0</td>\n      <td>(123.6, 9.50263121456368)</td>\n      <td>90.716560</td>\n      <td>20</td>\n      <td>28</td>\n      <td>1217</td>\n      <td>6233</td>\n      <td>11135</td>\n      <td>16931</td>\n      <td>0.885397</td>\n      <td>752.678967</td>\n      <td>661.962407</td>\n    </tr>\n    <tr>\n      <th>2</th>\n      <td>2</td>\n      <td>montgomery</td>\n      <td>0.078</td>\n      <td>400</td>\n      <td>/home/ubuntu/ContactTracing/data/SIR_Cache/tim...</td>\n      <td>dependent</td>\n      <td>0</td>\n      <td>(95.2, 14.078352176302452)</td>\n      <td>69.442667</td>\n      <td>256</td>\n      <td>28</td>\n      <td>1217</td>\n      <td>6233</td>\n      <td>11135</td>\n      <td>16931</td>\n      <td>1.148150</td>\n      <td>731.405074</td>\n      <td>661.962407</td>\n    </tr>\n    <tr>\n      <th>3</th>\n      <td>3</td>\n      <td>montgomery</td>\n      <td>0.078</td>\n      <td>400</td>\n      <td>/home/ubuntu/ContactTracing/data/SIR_Cache/tim...</td>\n      <td>dependent</td>\n      <td>1</td>\n      <td>(96.6, 11.567194992737004)</td>\n      <td>69.491244</td>\n      <td>252</td>\n      <td>28</td>\n      <td>1217</td>\n      <td>6233</td>\n      <td>11135</td>\n      <td>16931</td>\n      <td>1.222075</td>\n      <td>731.453652</td>\n      <td>661.962407</td>\n    </tr>\n    <tr>\n      <th>4</th>\n      <td>4</td>\n      <td>montgomery</td>\n      <td>0.078</td>\n      <td>400</td>\n      <td>/home/ubuntu/ContactTracing/data/SIR_Cache/tim...</td>\n      <td>greedy_weighted</td>\n      <td>0</td>\n      <td>(93.2, 11.966620241321273)</td>\n      <td>71.084567</td>\n      <td>-1</td>\n      <td>28</td>\n      <td>1217</td>\n      <td>6233</td>\n      <td>11135</td>\n      <td>16931</td>\n      <td>0.032429</td>\n      <td>733.046974</td>\n      <td>661.962407</td>\n    </tr>\n  </tbody>\n</table>\n</div>"
     },
     "metadata": {},
     "execution_count": 14
    }
   ],
   "source": [
    "df.head()"
   ]
  },
  {
   "cell_type": "code",
   "execution_count": 10,
   "metadata": {},
   "outputs": [],
   "source": [
    "min_exposed_tuples = list(map(lambda x: eval(x),df[\"min_exposed_value\"]))"
   ]
  },
  {
   "cell_type": "code",
   "execution_count": 17,
   "metadata": {},
   "outputs": [],
   "source": [
    "min_exposed_value = list(x[0] for x in min_exposed_tuples)\n",
    "min_exposed_stddev = list(x[1] for x in min_exposed_tuples)"
   ]
  },
  {
   "cell_type": "code",
   "execution_count": 19,
   "metadata": {},
   "outputs": [],
   "source": [
    "df[\"min_exposed_mean\"] = min_exposed_value"
   ]
  },
  {
   "cell_type": "code",
   "execution_count": 20,
   "metadata": {},
   "outputs": [],
   "source": [
    "df[\"min_exposed_stddev\"] = min_exposed_stddev"
   ]
  },
  {
   "cell_type": "code",
   "execution_count": 23,
   "metadata": {},
   "outputs": [
    {
     "output_type": "execute_result",
     "data": {
      "text/plain": [
       "   Unnamed: 0           G      p  budget  \\\n",
       "0           0  montgomery  0.078     400   \n",
       "1           1  montgomery  0.078     400   \n",
       "2           2  montgomery  0.078     400   \n",
       "3           3  montgomery  0.078     400   \n",
       "4           4  montgomery  0.078     400   \n",
       "\n",
       "                                          from_cache           method  \\\n",
       "0  /home/ubuntu/ContactTracing/data/SIR_Cache/tim...           random   \n",
       "1  /home/ubuntu/ContactTracing/data/SIR_Cache/tim...           random   \n",
       "2  /home/ubuntu/ContactTracing/data/SIR_Cache/tim...        dependent   \n",
       "3  /home/ubuntu/ContactTracing/data/SIR_Cache/tim...        dependent   \n",
       "4  /home/ubuntu/ContactTracing/data/SIR_Cache/tim...  greedy_weighted   \n",
       "\n",
       "   trial_id            min_exposed_value  mip_value  greedy_intersection  \\\n",
       "0         1  (118.8, 12.517987058628878)  90.850904                   25   \n",
       "1         0    (123.6, 9.50263121456368)  90.716560                   20   \n",
       "2         0   (95.2, 14.078352176302452)  69.442667                  256   \n",
       "3         1   (96.6, 11.567194992737004)  69.491244                  252   \n",
       "4         0   (93.2, 11.966620241321273)  71.084567                   -1   \n",
       "\n",
       "   maxD  I_size  v1_size  v2_size  num_cross_edges  duration  updated_MIP  \\\n",
       "0    28    1217     6233    11135            16931  0.883242   752.813311   \n",
       "1    28    1217     6233    11135            16931  0.885397   752.678967   \n",
       "2    28    1217     6233    11135            16931  1.148150   731.405074   \n",
       "3    28    1217     6233    11135            16931  1.222075   731.453652   \n",
       "4    28    1217     6233    11135            16931  0.032429   733.046974   \n",
       "\n",
       "   v1_sum_values  min_exposed_mean  min_exposed_stddev  \n",
       "0     661.962407             118.8           12.517987  \n",
       "1     661.962407             123.6            9.502631  \n",
       "2     661.962407              95.2           14.078352  \n",
       "3     661.962407              96.6           11.567195  \n",
       "4     661.962407              93.2           11.966620  "
      ],
      "text/html": "<div>\n<style scoped>\n    .dataframe tbody tr th:only-of-type {\n        vertical-align: middle;\n    }\n\n    .dataframe tbody tr th {\n        vertical-align: top;\n    }\n\n    .dataframe thead th {\n        text-align: right;\n    }\n</style>\n<table border=\"1\" class=\"dataframe\">\n  <thead>\n    <tr style=\"text-align: right;\">\n      <th></th>\n      <th>Unnamed: 0</th>\n      <th>G</th>\n      <th>p</th>\n      <th>budget</th>\n      <th>from_cache</th>\n      <th>method</th>\n      <th>trial_id</th>\n      <th>min_exposed_value</th>\n      <th>mip_value</th>\n      <th>greedy_intersection</th>\n      <th>maxD</th>\n      <th>I_size</th>\n      <th>v1_size</th>\n      <th>v2_size</th>\n      <th>num_cross_edges</th>\n      <th>duration</th>\n      <th>updated_MIP</th>\n      <th>v1_sum_values</th>\n      <th>min_exposed_mean</th>\n      <th>min_exposed_stddev</th>\n    </tr>\n  </thead>\n  <tbody>\n    <tr>\n      <th>0</th>\n      <td>0</td>\n      <td>montgomery</td>\n      <td>0.078</td>\n      <td>400</td>\n      <td>/home/ubuntu/ContactTracing/data/SIR_Cache/tim...</td>\n      <td>random</td>\n      <td>1</td>\n      <td>(118.8, 12.517987058628878)</td>\n      <td>90.850904</td>\n      <td>25</td>\n      <td>28</td>\n      <td>1217</td>\n      <td>6233</td>\n      <td>11135</td>\n      <td>16931</td>\n      <td>0.883242</td>\n      <td>752.813311</td>\n      <td>661.962407</td>\n      <td>118.8</td>\n      <td>12.517987</td>\n    </tr>\n    <tr>\n      <th>1</th>\n      <td>1</td>\n      <td>montgomery</td>\n      <td>0.078</td>\n      <td>400</td>\n      <td>/home/ubuntu/ContactTracing/data/SIR_Cache/tim...</td>\n      <td>random</td>\n      <td>0</td>\n      <td>(123.6, 9.50263121456368)</td>\n      <td>90.716560</td>\n      <td>20</td>\n      <td>28</td>\n      <td>1217</td>\n      <td>6233</td>\n      <td>11135</td>\n      <td>16931</td>\n      <td>0.885397</td>\n      <td>752.678967</td>\n      <td>661.962407</td>\n      <td>123.6</td>\n      <td>9.502631</td>\n    </tr>\n    <tr>\n      <th>2</th>\n      <td>2</td>\n      <td>montgomery</td>\n      <td>0.078</td>\n      <td>400</td>\n      <td>/home/ubuntu/ContactTracing/data/SIR_Cache/tim...</td>\n      <td>dependent</td>\n      <td>0</td>\n      <td>(95.2, 14.078352176302452)</td>\n      <td>69.442667</td>\n      <td>256</td>\n      <td>28</td>\n      <td>1217</td>\n      <td>6233</td>\n      <td>11135</td>\n      <td>16931</td>\n      <td>1.148150</td>\n      <td>731.405074</td>\n      <td>661.962407</td>\n      <td>95.2</td>\n      <td>14.078352</td>\n    </tr>\n    <tr>\n      <th>3</th>\n      <td>3</td>\n      <td>montgomery</td>\n      <td>0.078</td>\n      <td>400</td>\n      <td>/home/ubuntu/ContactTracing/data/SIR_Cache/tim...</td>\n      <td>dependent</td>\n      <td>1</td>\n      <td>(96.6, 11.567194992737004)</td>\n      <td>69.491244</td>\n      <td>252</td>\n      <td>28</td>\n      <td>1217</td>\n      <td>6233</td>\n      <td>11135</td>\n      <td>16931</td>\n      <td>1.222075</td>\n      <td>731.453652</td>\n      <td>661.962407</td>\n      <td>96.6</td>\n      <td>11.567195</td>\n    </tr>\n    <tr>\n      <th>4</th>\n      <td>4</td>\n      <td>montgomery</td>\n      <td>0.078</td>\n      <td>400</td>\n      <td>/home/ubuntu/ContactTracing/data/SIR_Cache/tim...</td>\n      <td>greedy_weighted</td>\n      <td>0</td>\n      <td>(93.2, 11.966620241321273)</td>\n      <td>71.084567</td>\n      <td>-1</td>\n      <td>28</td>\n      <td>1217</td>\n      <td>6233</td>\n      <td>11135</td>\n      <td>16931</td>\n      <td>0.032429</td>\n      <td>733.046974</td>\n      <td>661.962407</td>\n      <td>93.2</td>\n      <td>11.966620</td>\n    </tr>\n  </tbody>\n</table>\n</div>"
     },
     "metadata": {},
     "execution_count": 23
    }
   ],
   "source": [
    "df.head()"
   ]
  },
  {
   "cell_type": "code",
   "execution_count": 24,
   "metadata": {},
   "outputs": [],
   "source": [
    "df[\"updated_min_exposed_value\"] = df[\"min_exposed_mean\"] + df[\"v1_sum_values\"]"
   ]
  },
  {
   "cell_type": "code",
   "execution_count": 18,
   "metadata": {},
   "outputs": [
    {
     "output_type": "execute_result",
     "data": {
      "text/plain": [
       "14000"
      ]
     },
     "metadata": {},
     "execution_count": 18
    }
   ],
   "source": [
    "with open(ctrace.PROJECT_ROOT /\"output\"/\"run_K2VWk\" / \"results.csv\", \"r\") as csv:\n",
    "    df = pd.read_csv(csv)\n",
    "len(df)"
   ]
  },
  {
   "cell_type": "code",
   "execution_count": 19,
   "metadata": {},
   "outputs": [],
   "source": [
    "\n",
    "G = load_graph(\"montgomery\")"
   ]
  },
  {
   "cell_type": "code",
   "execution_count": 20,
   "metadata": {},
   "outputs": [],
   "source": [
    "# Recompute the objective function\n",
    "\n",
    "def compute_row_sum(from_cache, p=0.078):\n",
    "    SIR = load_sir_path(from_cache, merge=True)\n",
    "    I = SIR[\"I\"]\n",
    "    R = SIR[\"R\"]\n",
    "    v1, v2 = find_excluded_contours(G, I, R)\n",
    "    P, Q = PQ_deterministic(G, I, v1, p)\n",
    "    return sum(P.values())\n"
   ]
  },
  {
   "cell_type": "code",
   "execution_count": 28,
   "metadata": {},
   "outputs": [
    {
     "output_type": "execute_result",
     "data": {
      "text/plain": [
       "   Unnamed: 0           G      p  budget  \\\n",
       "0           0  montgomery  0.078     400   \n",
       "1           1  montgomery  0.078     400   \n",
       "2           2  montgomery  0.078     400   \n",
       "3           3  montgomery  0.078     400   \n",
       "4           4  montgomery  0.078     400   \n",
       "\n",
       "                                          from_cache           method  \\\n",
       "0  /home/ubuntu/ContactTracing/data/SIR_Cache/tim...           random   \n",
       "1  /home/ubuntu/ContactTracing/data/SIR_Cache/tim...           random   \n",
       "2  /home/ubuntu/ContactTracing/data/SIR_Cache/tim...        dependent   \n",
       "3  /home/ubuntu/ContactTracing/data/SIR_Cache/tim...        dependent   \n",
       "4  /home/ubuntu/ContactTracing/data/SIR_Cache/tim...  greedy_weighted   \n",
       "\n",
       "   trial_id            min_exposed_value  mip_value  greedy_intersection  ...  \\\n",
       "0         1  (118.8, 12.517987058628878)  90.850904                   25  ...   \n",
       "1         0    (123.6, 9.50263121456368)  90.716560                   20  ...   \n",
       "2         0   (95.2, 14.078352176302452)  69.442667                  256  ...   \n",
       "3         1   (96.6, 11.567194992737004)  69.491244                  252  ...   \n",
       "4         0   (93.2, 11.966620241321273)  71.084567                   -1  ...   \n",
       "\n",
       "   I_size  v1_size  v2_size  num_cross_edges  duration  updated_MIP  \\\n",
       "0    1217     6233    11135            16931  0.883242   752.813311   \n",
       "1    1217     6233    11135            16931  0.885397   752.678967   \n",
       "2    1217     6233    11135            16931  1.148150   731.405074   \n",
       "3    1217     6233    11135            16931  1.222075   731.453652   \n",
       "4    1217     6233    11135            16931  0.032429   733.046974   \n",
       "\n",
       "   v1_sum_values  min_exposed_mean  min_exposed_stddev  \\\n",
       "0     661.962407             118.8           12.517987   \n",
       "1     661.962407             123.6            9.502631   \n",
       "2     661.962407              95.2           14.078352   \n",
       "3     661.962407              96.6           11.567195   \n",
       "4     661.962407              93.2           11.966620   \n",
       "\n",
       "   updated_min_exposed_value  \n",
       "0                 780.762407  \n",
       "1                 785.562407  \n",
       "2                 757.162407  \n",
       "3                 758.562407  \n",
       "4                 755.162407  \n",
       "\n",
       "[5 rows x 21 columns]"
      ],
      "text/html": "<div>\n<style scoped>\n    .dataframe tbody tr th:only-of-type {\n        vertical-align: middle;\n    }\n\n    .dataframe tbody tr th {\n        vertical-align: top;\n    }\n\n    .dataframe thead th {\n        text-align: right;\n    }\n</style>\n<table border=\"1\" class=\"dataframe\">\n  <thead>\n    <tr style=\"text-align: right;\">\n      <th></th>\n      <th>Unnamed: 0</th>\n      <th>G</th>\n      <th>p</th>\n      <th>budget</th>\n      <th>from_cache</th>\n      <th>method</th>\n      <th>trial_id</th>\n      <th>min_exposed_value</th>\n      <th>mip_value</th>\n      <th>greedy_intersection</th>\n      <th>...</th>\n      <th>I_size</th>\n      <th>v1_size</th>\n      <th>v2_size</th>\n      <th>num_cross_edges</th>\n      <th>duration</th>\n      <th>updated_MIP</th>\n      <th>v1_sum_values</th>\n      <th>min_exposed_mean</th>\n      <th>min_exposed_stddev</th>\n      <th>updated_min_exposed_value</th>\n    </tr>\n  </thead>\n  <tbody>\n    <tr>\n      <th>0</th>\n      <td>0</td>\n      <td>montgomery</td>\n      <td>0.078</td>\n      <td>400</td>\n      <td>/home/ubuntu/ContactTracing/data/SIR_Cache/tim...</td>\n      <td>random</td>\n      <td>1</td>\n      <td>(118.8, 12.517987058628878)</td>\n      <td>90.850904</td>\n      <td>25</td>\n      <td>...</td>\n      <td>1217</td>\n      <td>6233</td>\n      <td>11135</td>\n      <td>16931</td>\n      <td>0.883242</td>\n      <td>752.813311</td>\n      <td>661.962407</td>\n      <td>118.8</td>\n      <td>12.517987</td>\n      <td>780.762407</td>\n    </tr>\n    <tr>\n      <th>1</th>\n      <td>1</td>\n      <td>montgomery</td>\n      <td>0.078</td>\n      <td>400</td>\n      <td>/home/ubuntu/ContactTracing/data/SIR_Cache/tim...</td>\n      <td>random</td>\n      <td>0</td>\n      <td>(123.6, 9.50263121456368)</td>\n      <td>90.716560</td>\n      <td>20</td>\n      <td>...</td>\n      <td>1217</td>\n      <td>6233</td>\n      <td>11135</td>\n      <td>16931</td>\n      <td>0.885397</td>\n      <td>752.678967</td>\n      <td>661.962407</td>\n      <td>123.6</td>\n      <td>9.502631</td>\n      <td>785.562407</td>\n    </tr>\n    <tr>\n      <th>2</th>\n      <td>2</td>\n      <td>montgomery</td>\n      <td>0.078</td>\n      <td>400</td>\n      <td>/home/ubuntu/ContactTracing/data/SIR_Cache/tim...</td>\n      <td>dependent</td>\n      <td>0</td>\n      <td>(95.2, 14.078352176302452)</td>\n      <td>69.442667</td>\n      <td>256</td>\n      <td>...</td>\n      <td>1217</td>\n      <td>6233</td>\n      <td>11135</td>\n      <td>16931</td>\n      <td>1.148150</td>\n      <td>731.405074</td>\n      <td>661.962407</td>\n      <td>95.2</td>\n      <td>14.078352</td>\n      <td>757.162407</td>\n    </tr>\n    <tr>\n      <th>3</th>\n      <td>3</td>\n      <td>montgomery</td>\n      <td>0.078</td>\n      <td>400</td>\n      <td>/home/ubuntu/ContactTracing/data/SIR_Cache/tim...</td>\n      <td>dependent</td>\n      <td>1</td>\n      <td>(96.6, 11.567194992737004)</td>\n      <td>69.491244</td>\n      <td>252</td>\n      <td>...</td>\n      <td>1217</td>\n      <td>6233</td>\n      <td>11135</td>\n      <td>16931</td>\n      <td>1.222075</td>\n      <td>731.453652</td>\n      <td>661.962407</td>\n      <td>96.6</td>\n      <td>11.567195</td>\n      <td>758.562407</td>\n    </tr>\n    <tr>\n      <th>4</th>\n      <td>4</td>\n      <td>montgomery</td>\n      <td>0.078</td>\n      <td>400</td>\n      <td>/home/ubuntu/ContactTracing/data/SIR_Cache/tim...</td>\n      <td>greedy_weighted</td>\n      <td>0</td>\n      <td>(93.2, 11.966620241321273)</td>\n      <td>71.084567</td>\n      <td>-1</td>\n      <td>...</td>\n      <td>1217</td>\n      <td>6233</td>\n      <td>11135</td>\n      <td>16931</td>\n      <td>0.032429</td>\n      <td>733.046974</td>\n      <td>661.962407</td>\n      <td>93.2</td>\n      <td>11.966620</td>\n      <td>755.162407</td>\n    </tr>\n  </tbody>\n</table>\n<p>5 rows × 21 columns</p>\n</div>"
     },
     "metadata": {},
     "execution_count": 28
    }
   ],
   "source": [
    "df.head()"
   ]
  },
  {
   "cell_type": "code",
   "execution_count": 22,
   "metadata": {},
   "outputs": [
    {
     "output_type": "stream",
     "name": "stderr",
     "text": [
      "  0%|          | 0/14000 [00:45<?, ?it/s]\n",
      "  0%|          | 0/14000 [00:45<?, ?it/s]\n",
      "  0%|          | 0/14000 [00:45<?, ?it/s]\n",
      "  0%|          | 0/14000 [00:45<?, ?it/s]\n",
      "  0%|          | 0/14000 [00:45<?, ?it/s]\n",
      "  0%|          | 0/14000 [00:45<?, ?it/s]\n",
      "  0%|          | 0/14000 [00:45<?, ?it/s]\n",
      "  0%|          | 0/14000 [00:45<?, ?it/s]\n",
      "  0%|          | 0/14000 [00:45<?, ?it/s]\n",
      "  0%|          | 0/14000 [00:45<?, ?it/s]\n",
      "  0%|          | 0/14000 [00:45<?, ?it/s]\n",
      "  0%|          | 0/14000 [00:45<?, ?it/s]\n",
      "  0%|          | 0/14000 [00:45<?, ?it/s]\n",
      "  0%|          | 0/14000 [00:46<?, ?it/s]\n",
      "  0%|          | 0/14000 [00:46<?, ?it/s]\n",
      "  0%|          | 0/14000 [00:46<?, ?it/s]\n",
      "  0%|          | 0/14000 [00:46<?, ?it/s]\n",
      "  0%|          | 0/14000 [00:46<?, ?it/s]\n",
      "  0%|          | 0/14000 [00:46<?, ?it/s]\n",
      "\n",
      "  0%|          | 0/14000 [00:46<?, ?it/s]\n",
      "  0%|          | 0/14000 [00:46<?, ?it/s]\n",
      "  0%|          | 0/14000 [00:46<?, ?it/s]\n",
      "  0%|          | 0/14000 [00:46<?, ?it/s]\n",
      "  0%|          | 0/14000 [00:46<?, ?it/s]\n",
      "  0%|          | 0/14000 [00:46<?, ?it/s]\n",
      "  0%|          | 0/14000 [00:46<?, ?it/s]\n",
      "  0%|          | 0/14000 [00:46<?, ?it/s]\n",
      "  0%|          | 0/14000 [00:46<?, ?it/s]\n",
      "  0%|          | 0/14000 [00:46<?, ?it/s]\n",
      "  0%|          | 0/14000 [00:46<?, ?it/s]\n",
      "  0%|          | 0/14000 [00:46<?, ?it/s]\n",
      "  0%|          | 0/14000 [00:46<?, ?it/s]\n",
      "  0%|          | 0/14000 [00:46<?, ?it/s]\n",
      "  0%|          | 0/14000 [00:46<?, ?it/s]\n",
      "  0%|          | 0/14000 [00:47<?, ?it/s]\n",
      "  0%|          | 0/14000 [00:47<?, ?it/s]\n",
      "  0%|          | 0/14000 [00:47<?, ?it/s]\n",
      "  0%|          | 0/14000 [00:47<?, ?it/s]\n",
      "  0%|          | 0/14000 [00:47<?, ?it/s]\n",
      "\n",
      "  0%|          | 0/14000 [00:47<?, ?it/s]\n",
      "  0%|          | 0/14000 [00:47<?, ?it/s]\n",
      "  0%|          | 0/14000 [00:47<?, ?it/s]\n",
      "  0%|          | 0/14000 [00:47<?, ?it/s]\n",
      "  0%|          | 0/14000 [00:47<?, ?it/s]\n",
      "  0%|          | 0/14000 [00:47<?, ?it/s]\n",
      "  0%|          | 0/14000 [00:47<?, ?it/s]\n",
      "  0%|          | 0/14000 [00:47<?, ?it/s]\n",
      "  0%|          | 0/14000 [00:47<?, ?it/s]\n",
      "  0%|          | 0/14000 [00:47<?, ?it/s]\n",
      "  0%|          | 0/14000 [00:47<?, ?it/s]\n",
      "  0%|          | 0/14000 [00:48<?, ?it/s]\n",
      "  0%|          | 0/14000 [00:48<?, ?it/s]\n",
      "  0%|          | 0/14000 [00:48<?, ?it/s]\n",
      "  0%|          | 0/14000 [00:48<?, ?it/s]\n",
      "  0%|          | 0/14000 [00:48<?, ?it/s]\n",
      "  0%|          | 0/14000 [00:48<?, ?it/s]\n",
      "  0%|          | 0/14000 [00:48<?, ?it/s]\n",
      "  0%|          | 0/14000 [00:48<?, ?it/s]\n",
      "  0%|          | 0/14000 [00:48<?, ?it/s]\n",
      "  0%|          | 0/14000 [00:48<?, ?it/s]\n",
      "  0%|          | 0/14000 [00:48<?, ?it/s]\n",
      "  0%|          | 0/14000 [00:48<?, ?it/s]\n",
      "  0%|          | 0/14000 [00:48<?, ?it/s]\n",
      "  0%|          | 0/14000 [00:48<?, ?it/s]\n",
      "  0%|          | 0/14000 [00:48<?, ?it/s]\n",
      "  0%|          | 0/14000 [00:48<?, ?it/s]\n",
      "  0%|          | 0/14000 [00:49<?, ?it/s]\n",
      "  0%|          | 0/14000 [00:49<?, ?it/s]\n",
      "  0%|          | 0/14000 [00:49<?, ?it/s]\n",
      "  0%|          | 0/14000 [00:49<?, ?it/s]\n",
      "  0%|          | 0/14000 [00:49<?, ?it/s]\n",
      "100%|██████████| 14000/14000 [23:40<00:00,  9.86it/s]\n"
     ]
    }
   ],
   "source": [
    "cache_data = df[\"from_cache\"]\n",
    "results = []\n",
    "with concurrent.futures.ProcessPoolExecutor() as executor:\n",
    "    results = list(tqdm(executor.map(compute_row_sum, cache_data), total=len(cache_data)))"
   ]
  },
  {
   "cell_type": "code",
   "execution_count": 25,
   "metadata": {},
   "outputs": [],
   "source": [
    "df[\"updated_MIP\"] = results + df[\"mip_value\"]"
   ]
  },
  {
   "cell_type": "code",
   "execution_count": 28,
   "metadata": {},
   "outputs": [
    {
     "output_type": "execute_result",
     "data": {
      "text/plain": [
       "            G      p  budget  \\\n",
       "0  montgomery  0.078     400   \n",
       "1  montgomery  0.078     400   \n",
       "2  montgomery  0.078     400   \n",
       "3  montgomery  0.078     400   \n",
       "4  montgomery  0.078     400   \n",
       "5  montgomery  0.078     400   \n",
       "6  montgomery  0.078     400   \n",
       "7  montgomery  0.078     400   \n",
       "8  montgomery  0.078     400   \n",
       "9  montgomery  0.078     400   \n",
       "\n",
       "                                          from_cache           method  \\\n",
       "0  /home/ubuntu/ContactTracing/data/SIR_Cache/tim...           random   \n",
       "1  /home/ubuntu/ContactTracing/data/SIR_Cache/tim...           random   \n",
       "2  /home/ubuntu/ContactTracing/data/SIR_Cache/tim...        dependent   \n",
       "3  /home/ubuntu/ContactTracing/data/SIR_Cache/tim...        dependent   \n",
       "4  /home/ubuntu/ContactTracing/data/SIR_Cache/tim...  greedy_weighted   \n",
       "5  /home/ubuntu/ContactTracing/data/SIR_Cache/tim...           random   \n",
       "6  /home/ubuntu/ContactTracing/data/SIR_Cache/tim...       mip_gurobi   \n",
       "7  /home/ubuntu/ContactTracing/data/SIR_Cache/tim...           random   \n",
       "8  /home/ubuntu/ContactTracing/data/SIR_Cache/tim...       mip_gurobi   \n",
       "9  /home/ubuntu/ContactTracing/data/SIR_Cache/tim...  greedy_weighted   \n",
       "\n",
       "   trial_id            min_exposed_value   mip_value  greedy_intersection  \\\n",
       "0         1  (118.8, 12.517987058628878)   90.850904                   25   \n",
       "1         0    (123.6, 9.50263121456368)   90.716560                   20   \n",
       "2         0   (95.2, 14.078352176302452)   69.442667                  256   \n",
       "3         1   (96.6, 11.567194992737004)   69.491244                  252   \n",
       "4         0   (93.2, 11.966620241321273)   71.084567                   -1   \n",
       "5         0  (1396.6, 34.60202306224305)  526.140151                    6   \n",
       "6         0     (94, 14.035668847618199)   68.296894                  273   \n",
       "7         1  (1399.2, 30.35951251255527)  525.913781                    4   \n",
       "8         1                    (96, 1.0)   68.296894                  273   \n",
       "9         1    (87.8, 9.391485505499118)   71.084567                   -1   \n",
       "\n",
       "   maxD  I_size  v1_size  v2_size  num_cross_edges  duration  updated_MIP  \n",
       "0    28    1217     6233    11135            16931  0.883242   752.813311  \n",
       "1    28    1217     6233    11135            16931  0.885397   752.678967  \n",
       "2    28    1217     6233    11135            16931  1.148150   731.405074  \n",
       "3    28    1217     6233    11135            16931  1.222075   731.453652  \n",
       "4    28    1217     6233    11135            16931  0.032429   733.046974  \n",
       "5    59    2359    25664    32967           145552  3.960133  4259.783521  \n",
       "6    28    1217     6233    11135            16931  1.288606   730.259302  \n",
       "7    59    2359    25664    32967           145552  4.108805  4259.557151  \n",
       "8    28    1217     6233    11135            16931  1.331758   730.259302  \n",
       "9    28    1217     6233    11135            16931  0.033301   733.046974  "
      ],
      "text/html": "<div>\n<style scoped>\n    .dataframe tbody tr th:only-of-type {\n        vertical-align: middle;\n    }\n\n    .dataframe tbody tr th {\n        vertical-align: top;\n    }\n\n    .dataframe thead th {\n        text-align: right;\n    }\n</style>\n<table border=\"1\" class=\"dataframe\">\n  <thead>\n    <tr style=\"text-align: right;\">\n      <th></th>\n      <th>G</th>\n      <th>p</th>\n      <th>budget</th>\n      <th>from_cache</th>\n      <th>method</th>\n      <th>trial_id</th>\n      <th>min_exposed_value</th>\n      <th>mip_value</th>\n      <th>greedy_intersection</th>\n      <th>maxD</th>\n      <th>I_size</th>\n      <th>v1_size</th>\n      <th>v2_size</th>\n      <th>num_cross_edges</th>\n      <th>duration</th>\n      <th>updated_MIP</th>\n    </tr>\n  </thead>\n  <tbody>\n    <tr>\n      <th>0</th>\n      <td>montgomery</td>\n      <td>0.078</td>\n      <td>400</td>\n      <td>/home/ubuntu/ContactTracing/data/SIR_Cache/tim...</td>\n      <td>random</td>\n      <td>1</td>\n      <td>(118.8, 12.517987058628878)</td>\n      <td>90.850904</td>\n      <td>25</td>\n      <td>28</td>\n      <td>1217</td>\n      <td>6233</td>\n      <td>11135</td>\n      <td>16931</td>\n      <td>0.883242</td>\n      <td>752.813311</td>\n    </tr>\n    <tr>\n      <th>1</th>\n      <td>montgomery</td>\n      <td>0.078</td>\n      <td>400</td>\n      <td>/home/ubuntu/ContactTracing/data/SIR_Cache/tim...</td>\n      <td>random</td>\n      <td>0</td>\n      <td>(123.6, 9.50263121456368)</td>\n      <td>90.716560</td>\n      <td>20</td>\n      <td>28</td>\n      <td>1217</td>\n      <td>6233</td>\n      <td>11135</td>\n      <td>16931</td>\n      <td>0.885397</td>\n      <td>752.678967</td>\n    </tr>\n    <tr>\n      <th>2</th>\n      <td>montgomery</td>\n      <td>0.078</td>\n      <td>400</td>\n      <td>/home/ubuntu/ContactTracing/data/SIR_Cache/tim...</td>\n      <td>dependent</td>\n      <td>0</td>\n      <td>(95.2, 14.078352176302452)</td>\n      <td>69.442667</td>\n      <td>256</td>\n      <td>28</td>\n      <td>1217</td>\n      <td>6233</td>\n      <td>11135</td>\n      <td>16931</td>\n      <td>1.148150</td>\n      <td>731.405074</td>\n    </tr>\n    <tr>\n      <th>3</th>\n      <td>montgomery</td>\n      <td>0.078</td>\n      <td>400</td>\n      <td>/home/ubuntu/ContactTracing/data/SIR_Cache/tim...</td>\n      <td>dependent</td>\n      <td>1</td>\n      <td>(96.6, 11.567194992737004)</td>\n      <td>69.491244</td>\n      <td>252</td>\n      <td>28</td>\n      <td>1217</td>\n      <td>6233</td>\n      <td>11135</td>\n      <td>16931</td>\n      <td>1.222075</td>\n      <td>731.453652</td>\n    </tr>\n    <tr>\n      <th>4</th>\n      <td>montgomery</td>\n      <td>0.078</td>\n      <td>400</td>\n      <td>/home/ubuntu/ContactTracing/data/SIR_Cache/tim...</td>\n      <td>greedy_weighted</td>\n      <td>0</td>\n      <td>(93.2, 11.966620241321273)</td>\n      <td>71.084567</td>\n      <td>-1</td>\n      <td>28</td>\n      <td>1217</td>\n      <td>6233</td>\n      <td>11135</td>\n      <td>16931</td>\n      <td>0.032429</td>\n      <td>733.046974</td>\n    </tr>\n    <tr>\n      <th>5</th>\n      <td>montgomery</td>\n      <td>0.078</td>\n      <td>400</td>\n      <td>/home/ubuntu/ContactTracing/data/SIR_Cache/tim...</td>\n      <td>random</td>\n      <td>0</td>\n      <td>(1396.6, 34.60202306224305)</td>\n      <td>526.140151</td>\n      <td>6</td>\n      <td>59</td>\n      <td>2359</td>\n      <td>25664</td>\n      <td>32967</td>\n      <td>145552</td>\n      <td>3.960133</td>\n      <td>4259.783521</td>\n    </tr>\n    <tr>\n      <th>6</th>\n      <td>montgomery</td>\n      <td>0.078</td>\n      <td>400</td>\n      <td>/home/ubuntu/ContactTracing/data/SIR_Cache/tim...</td>\n      <td>mip_gurobi</td>\n      <td>0</td>\n      <td>(94, 14.035668847618199)</td>\n      <td>68.296894</td>\n      <td>273</td>\n      <td>28</td>\n      <td>1217</td>\n      <td>6233</td>\n      <td>11135</td>\n      <td>16931</td>\n      <td>1.288606</td>\n      <td>730.259302</td>\n    </tr>\n    <tr>\n      <th>7</th>\n      <td>montgomery</td>\n      <td>0.078</td>\n      <td>400</td>\n      <td>/home/ubuntu/ContactTracing/data/SIR_Cache/tim...</td>\n      <td>random</td>\n      <td>1</td>\n      <td>(1399.2, 30.35951251255527)</td>\n      <td>525.913781</td>\n      <td>4</td>\n      <td>59</td>\n      <td>2359</td>\n      <td>25664</td>\n      <td>32967</td>\n      <td>145552</td>\n      <td>4.108805</td>\n      <td>4259.557151</td>\n    </tr>\n    <tr>\n      <th>8</th>\n      <td>montgomery</td>\n      <td>0.078</td>\n      <td>400</td>\n      <td>/home/ubuntu/ContactTracing/data/SIR_Cache/tim...</td>\n      <td>mip_gurobi</td>\n      <td>1</td>\n      <td>(96, 1.0)</td>\n      <td>68.296894</td>\n      <td>273</td>\n      <td>28</td>\n      <td>1217</td>\n      <td>6233</td>\n      <td>11135</td>\n      <td>16931</td>\n      <td>1.331758</td>\n      <td>730.259302</td>\n    </tr>\n    <tr>\n      <th>9</th>\n      <td>montgomery</td>\n      <td>0.078</td>\n      <td>400</td>\n      <td>/home/ubuntu/ContactTracing/data/SIR_Cache/tim...</td>\n      <td>greedy_weighted</td>\n      <td>1</td>\n      <td>(87.8, 9.391485505499118)</td>\n      <td>71.084567</td>\n      <td>-1</td>\n      <td>28</td>\n      <td>1217</td>\n      <td>6233</td>\n      <td>11135</td>\n      <td>16931</td>\n      <td>0.033301</td>\n      <td>733.046974</td>\n    </tr>\n  </tbody>\n</table>\n</div>"
     },
     "metadata": {},
     "execution_count": 28
    }
   ],
   "source": [
    "df.head(n=10)"
   ]
  },
  {
   "cell_type": "code",
   "execution_count": 25,
   "metadata": {},
   "outputs": [],
   "source": [
    "df.to_csv(\"time_trials_final.csv\")"
   ]
  },
  {
   "cell_type": "code",
   "execution_count": 26,
   "metadata": {},
   "outputs": [
    {
     "output_type": "error",
     "ename": "NameError",
     "evalue": "name 'results' is not defined",
     "traceback": [
      "\u001b[0;31m---------------------------------------------------------------------------\u001b[0m",
      "\u001b[0;31mNameError\u001b[0m                                 Traceback (most recent call last)",
      "\u001b[0;32m<ipython-input-26-100f62972f2f>\u001b[0m in \u001b[0;36m<module>\u001b[0;34m\u001b[0m\n\u001b[0;32m----> 1\u001b[0;31m \u001b[0mresults\u001b[0m\u001b[0;34m\u001b[0m\u001b[0;34m\u001b[0m\u001b[0m\n\u001b[0m",
      "\u001b[0;31mNameError\u001b[0m: name 'results' is not defined"
     ]
    }
   ],
   "source": [
    "results"
   ]
  },
  {
   "cell_type": "code",
   "execution_count": 27,
   "metadata": {},
   "outputs": [
    {
     "output_type": "error",
     "ename": "NameError",
     "evalue": "name 'results' is not defined",
     "traceback": [
      "\u001b[0;31m---------------------------------------------------------------------------\u001b[0m",
      "\u001b[0;31mNameError\u001b[0m                                 Traceback (most recent call last)",
      "\u001b[0;32m<ipython-input-27-100f62972f2f>\u001b[0m in \u001b[0;36m<module>\u001b[0;34m\u001b[0m\n\u001b[0;32m----> 1\u001b[0;31m \u001b[0mresults\u001b[0m\u001b[0;34m\u001b[0m\u001b[0;34m\u001b[0m\u001b[0m\n\u001b[0m",
      "\u001b[0;31mNameError\u001b[0m: name 'results' is not defined"
     ]
    }
   ],
   "source": [
    "results"
   ]
  },
  {
   "cell_type": "code",
   "execution_count": null,
   "metadata": {},
   "outputs": [],
   "source": []
  }
 ]
}