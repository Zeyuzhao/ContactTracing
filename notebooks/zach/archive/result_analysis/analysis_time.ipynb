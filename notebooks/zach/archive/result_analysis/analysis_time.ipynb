{
 "metadata": {
  "language_info": {
   "codemirror_mode": {
    "name": "ipython",
    "version": 3
   },
   "file_extension": ".py",
   "mimetype": "text/x-python",
   "name": "python",
   "nbconvert_exporter": "python",
   "pygments_lexer": "ipython3",
   "version": "3.8.5-final"
  },
  "orig_nbformat": 2,
  "kernelspec": {
   "name": "python3",
   "display_name": "Python 3",
   "language": "python"
  }
 },
 "nbformat": 4,
 "nbformat_minor": 2,
 "cells": [
  {
   "cell_type": "code",
   "execution_count": 2,
   "metadata": {},
   "outputs": [],
   "source": [
    "import pandas as pd\n",
    "import seaborn as sns\n",
    "import matplotlib.pyplot as plt\n",
    "import ctrace\n",
    "from tqdm import tqdm\n",
    "from ctrace.simulation import *\n",
    "from ctrace.utils import *\n",
    "\n",
    "from ctrace.dataset import load_graph, load_sir_path\n",
    "import concurrent.futures"
   ]
  },
  {
   "cell_type": "code",
   "execution_count": 3,
   "metadata": {},
   "outputs": [
    {
     "output_type": "execute_result",
     "data": {
      "text/plain": [
       "   Unnamed: 0  Unnamed: 0.1           G      p  budget  \\\n",
       "0           0             0  montgomery  0.078     400   \n",
       "1           1             1  montgomery  0.078     400   \n",
       "2           2             2  montgomery  0.078     400   \n",
       "3           3             3  montgomery  0.078     400   \n",
       "4           4             4  montgomery  0.078     400   \n",
       "\n",
       "                                          from_cache           method  \\\n",
       "0  /home/ubuntu/ContactTracing/data/SIR_Cache/tim...           random   \n",
       "1  /home/ubuntu/ContactTracing/data/SIR_Cache/tim...           random   \n",
       "2  /home/ubuntu/ContactTracing/data/SIR_Cache/tim...        dependent   \n",
       "3  /home/ubuntu/ContactTracing/data/SIR_Cache/tim...        dependent   \n",
       "4  /home/ubuntu/ContactTracing/data/SIR_Cache/tim...  greedy_weighted   \n",
       "\n",
       "   trial_id            min_exposed_value  mip_value  ...  I_size  v1_size  \\\n",
       "0         1  (118.8, 12.517987058628878)  90.850904  ...    1217     6233   \n",
       "1         0    (123.6, 9.50263121456368)  90.716560  ...    1217     6233   \n",
       "2         0   (95.2, 14.078352176302452)  69.442667  ...    1217     6233   \n",
       "3         1   (96.6, 11.567194992737004)  69.491244  ...    1217     6233   \n",
       "4         0   (93.2, 11.966620241321273)  71.084567  ...    1217     6233   \n",
       "\n",
       "   v2_size  num_cross_edges  duration  updated_MIP  v1_sum_values  \\\n",
       "0    11135            16931  0.883242   752.813311     661.962407   \n",
       "1    11135            16931  0.885397   752.678967     661.962407   \n",
       "2    11135            16931  1.148150   731.405074     661.962407   \n",
       "3    11135            16931  1.222075   731.453652     661.962407   \n",
       "4    11135            16931  0.032429   733.046974     661.962407   \n",
       "\n",
       "   min_exposed_mean  min_exposed_stddev  updated_min_exposed_value  \n",
       "0             118.8           12.517987                 780.762407  \n",
       "1             123.6            9.502631                 785.562407  \n",
       "2              95.2           14.078352                 757.162407  \n",
       "3              96.6           11.567195                 758.562407  \n",
       "4              93.2           11.966620                 755.162407  \n",
       "\n",
       "[5 rows x 22 columns]"
      ],
      "text/html": "<div>\n<style scoped>\n    .dataframe tbody tr th:only-of-type {\n        vertical-align: middle;\n    }\n\n    .dataframe tbody tr th {\n        vertical-align: top;\n    }\n\n    .dataframe thead th {\n        text-align: right;\n    }\n</style>\n<table border=\"1\" class=\"dataframe\">\n  <thead>\n    <tr style=\"text-align: right;\">\n      <th></th>\n      <th>Unnamed: 0</th>\n      <th>Unnamed: 0.1</th>\n      <th>G</th>\n      <th>p</th>\n      <th>budget</th>\n      <th>from_cache</th>\n      <th>method</th>\n      <th>trial_id</th>\n      <th>min_exposed_value</th>\n      <th>mip_value</th>\n      <th>...</th>\n      <th>I_size</th>\n      <th>v1_size</th>\n      <th>v2_size</th>\n      <th>num_cross_edges</th>\n      <th>duration</th>\n      <th>updated_MIP</th>\n      <th>v1_sum_values</th>\n      <th>min_exposed_mean</th>\n      <th>min_exposed_stddev</th>\n      <th>updated_min_exposed_value</th>\n    </tr>\n  </thead>\n  <tbody>\n    <tr>\n      <th>0</th>\n      <td>0</td>\n      <td>0</td>\n      <td>montgomery</td>\n      <td>0.078</td>\n      <td>400</td>\n      <td>/home/ubuntu/ContactTracing/data/SIR_Cache/tim...</td>\n      <td>random</td>\n      <td>1</td>\n      <td>(118.8, 12.517987058628878)</td>\n      <td>90.850904</td>\n      <td>...</td>\n      <td>1217</td>\n      <td>6233</td>\n      <td>11135</td>\n      <td>16931</td>\n      <td>0.883242</td>\n      <td>752.813311</td>\n      <td>661.962407</td>\n      <td>118.8</td>\n      <td>12.517987</td>\n      <td>780.762407</td>\n    </tr>\n    <tr>\n      <th>1</th>\n      <td>1</td>\n      <td>1</td>\n      <td>montgomery</td>\n      <td>0.078</td>\n      <td>400</td>\n      <td>/home/ubuntu/ContactTracing/data/SIR_Cache/tim...</td>\n      <td>random</td>\n      <td>0</td>\n      <td>(123.6, 9.50263121456368)</td>\n      <td>90.716560</td>\n      <td>...</td>\n      <td>1217</td>\n      <td>6233</td>\n      <td>11135</td>\n      <td>16931</td>\n      <td>0.885397</td>\n      <td>752.678967</td>\n      <td>661.962407</td>\n      <td>123.6</td>\n      <td>9.502631</td>\n      <td>785.562407</td>\n    </tr>\n    <tr>\n      <th>2</th>\n      <td>2</td>\n      <td>2</td>\n      <td>montgomery</td>\n      <td>0.078</td>\n      <td>400</td>\n      <td>/home/ubuntu/ContactTracing/data/SIR_Cache/tim...</td>\n      <td>dependent</td>\n      <td>0</td>\n      <td>(95.2, 14.078352176302452)</td>\n      <td>69.442667</td>\n      <td>...</td>\n      <td>1217</td>\n      <td>6233</td>\n      <td>11135</td>\n      <td>16931</td>\n      <td>1.148150</td>\n      <td>731.405074</td>\n      <td>661.962407</td>\n      <td>95.2</td>\n      <td>14.078352</td>\n      <td>757.162407</td>\n    </tr>\n    <tr>\n      <th>3</th>\n      <td>3</td>\n      <td>3</td>\n      <td>montgomery</td>\n      <td>0.078</td>\n      <td>400</td>\n      <td>/home/ubuntu/ContactTracing/data/SIR_Cache/tim...</td>\n      <td>dependent</td>\n      <td>1</td>\n      <td>(96.6, 11.567194992737004)</td>\n      <td>69.491244</td>\n      <td>...</td>\n      <td>1217</td>\n      <td>6233</td>\n      <td>11135</td>\n      <td>16931</td>\n      <td>1.222075</td>\n      <td>731.453652</td>\n      <td>661.962407</td>\n      <td>96.6</td>\n      <td>11.567195</td>\n      <td>758.562407</td>\n    </tr>\n    <tr>\n      <th>4</th>\n      <td>4</td>\n      <td>4</td>\n      <td>montgomery</td>\n      <td>0.078</td>\n      <td>400</td>\n      <td>/home/ubuntu/ContactTracing/data/SIR_Cache/tim...</td>\n      <td>greedy_weighted</td>\n      <td>0</td>\n      <td>(93.2, 11.966620241321273)</td>\n      <td>71.084567</td>\n      <td>...</td>\n      <td>1217</td>\n      <td>6233</td>\n      <td>11135</td>\n      <td>16931</td>\n      <td>0.032429</td>\n      <td>733.046974</td>\n      <td>661.962407</td>\n      <td>93.2</td>\n      <td>11.966620</td>\n      <td>755.162407</td>\n    </tr>\n  </tbody>\n</table>\n<p>5 rows × 22 columns</p>\n</div>"
     },
     "metadata": {},
     "execution_count": 3
    }
   ],
   "source": [
    "with open(ctrace.PROJECT_ROOT /\"output\"/\"run_K2VWk\" / \"time_trials_final.csv\", \"r\") as csv:\n",
    "    df = pd.read_csv(csv)\n",
    "df.head()"
   ]
  },
  {
   "cell_type": "code",
   "execution_count": 4,
   "metadata": {},
   "outputs": [
    {
     "output_type": "execute_result",
     "data": {
      "text/plain": [
       "['Unnamed: 0',\n",
       " 'Unnamed: 0.1',\n",
       " 'G',\n",
       " 'p',\n",
       " 'budget',\n",
       " 'from_cache',\n",
       " 'method',\n",
       " 'trial_id',\n",
       " 'min_exposed_value',\n",
       " 'mip_value',\n",
       " 'greedy_intersection',\n",
       " 'maxD',\n",
       " 'I_size',\n",
       " 'v1_size',\n",
       " 'v2_size',\n",
       " 'num_cross_edges',\n",
       " 'duration',\n",
       " 'updated_MIP',\n",
       " 'v1_sum_values',\n",
       " 'min_exposed_mean',\n",
       " 'min_exposed_stddev',\n",
       " 'updated_min_exposed_value']"
      ]
     },
     "metadata": {},
     "execution_count": 4
    }
   ],
   "source": [
    "list(df)"
   ]
  },
  {
   "cell_type": "code",
   "execution_count": 8,
   "metadata": {},
   "outputs": [],
   "source": [
    "df = df.drop(['Unnamed: 0', 'Unnamed: 0.1'], axis=1)"
   ]
  },
  {
   "cell_type": "code",
   "execution_count": 11,
   "metadata": {},
   "outputs": [],
   "source": [
    "df = df.drop(['min_exposed_value'], axis=1)"
   ]
  },
  {
   "cell_type": "code",
   "execution_count": 38,
   "metadata": {},
   "outputs": [
    {
     "output_type": "execute_result",
     "data": {
      "text/plain": [
       "            G      p  budget  \\\n",
       "0  montgomery  0.078     400   \n",
       "1  montgomery  0.078     400   \n",
       "2  montgomery  0.078     400   \n",
       "3  montgomery  0.078     400   \n",
       "4  montgomery  0.078     400   \n",
       "\n",
       "                                          from_cache           method  \\\n",
       "0  /home/ubuntu/ContactTracing/data/SIR_Cache/tim...           random   \n",
       "1  /home/ubuntu/ContactTracing/data/SIR_Cache/tim...           random   \n",
       "2  /home/ubuntu/ContactTracing/data/SIR_Cache/tim...        dependent   \n",
       "3  /home/ubuntu/ContactTracing/data/SIR_Cache/tim...        dependent   \n",
       "4  /home/ubuntu/ContactTracing/data/SIR_Cache/tim...  greedy_weighted   \n",
       "\n",
       "   trial_id  mip_value  greedy_intersection  maxD  I_size  v1_size  v2_size  \\\n",
       "0         1  90.850904                   25    28    1217     6233    11135   \n",
       "1         0  90.716560                   20    28    1217     6233    11135   \n",
       "2         0  69.442667                  256    28    1217     6233    11135   \n",
       "3         1  69.491244                  252    28    1217     6233    11135   \n",
       "4         0  71.084567                   -1    28    1217     6233    11135   \n",
       "\n",
       "   num_cross_edges  duration  updated_MIP  v1_sum_values  min_exposed_mean  \\\n",
       "0            16931  0.883242   752.813311     661.962407             118.8   \n",
       "1            16931  0.885397   752.678967     661.962407             123.6   \n",
       "2            16931  1.148150   731.405074     661.962407              95.2   \n",
       "3            16931  1.222075   731.453652     661.962407              96.6   \n",
       "4            16931  0.032429   733.046974     661.962407              93.2   \n",
       "\n",
       "   min_exposed_stddev  updated_min_exposed_value  \n",
       "0           12.517987                 780.762407  \n",
       "1            9.502631                 785.562407  \n",
       "2           14.078352                 757.162407  \n",
       "3           11.567195                 758.562407  \n",
       "4           11.966620                 755.162407  "
      ],
      "text/html": "<div>\n<style scoped>\n    .dataframe tbody tr th:only-of-type {\n        vertical-align: middle;\n    }\n\n    .dataframe tbody tr th {\n        vertical-align: top;\n    }\n\n    .dataframe thead th {\n        text-align: right;\n    }\n</style>\n<table border=\"1\" class=\"dataframe\">\n  <thead>\n    <tr style=\"text-align: right;\">\n      <th></th>\n      <th>G</th>\n      <th>p</th>\n      <th>budget</th>\n      <th>from_cache</th>\n      <th>method</th>\n      <th>trial_id</th>\n      <th>mip_value</th>\n      <th>greedy_intersection</th>\n      <th>maxD</th>\n      <th>I_size</th>\n      <th>v1_size</th>\n      <th>v2_size</th>\n      <th>num_cross_edges</th>\n      <th>duration</th>\n      <th>updated_MIP</th>\n      <th>v1_sum_values</th>\n      <th>min_exposed_mean</th>\n      <th>min_exposed_stddev</th>\n      <th>updated_min_exposed_value</th>\n    </tr>\n  </thead>\n  <tbody>\n    <tr>\n      <th>0</th>\n      <td>montgomery</td>\n      <td>0.078</td>\n      <td>400</td>\n      <td>/home/ubuntu/ContactTracing/data/SIR_Cache/tim...</td>\n      <td>random</td>\n      <td>1</td>\n      <td>90.850904</td>\n      <td>25</td>\n      <td>28</td>\n      <td>1217</td>\n      <td>6233</td>\n      <td>11135</td>\n      <td>16931</td>\n      <td>0.883242</td>\n      <td>752.813311</td>\n      <td>661.962407</td>\n      <td>118.8</td>\n      <td>12.517987</td>\n      <td>780.762407</td>\n    </tr>\n    <tr>\n      <th>1</th>\n      <td>montgomery</td>\n      <td>0.078</td>\n      <td>400</td>\n      <td>/home/ubuntu/ContactTracing/data/SIR_Cache/tim...</td>\n      <td>random</td>\n      <td>0</td>\n      <td>90.716560</td>\n      <td>20</td>\n      <td>28</td>\n      <td>1217</td>\n      <td>6233</td>\n      <td>11135</td>\n      <td>16931</td>\n      <td>0.885397</td>\n      <td>752.678967</td>\n      <td>661.962407</td>\n      <td>123.6</td>\n      <td>9.502631</td>\n      <td>785.562407</td>\n    </tr>\n    <tr>\n      <th>2</th>\n      <td>montgomery</td>\n      <td>0.078</td>\n      <td>400</td>\n      <td>/home/ubuntu/ContactTracing/data/SIR_Cache/tim...</td>\n      <td>dependent</td>\n      <td>0</td>\n      <td>69.442667</td>\n      <td>256</td>\n      <td>28</td>\n      <td>1217</td>\n      <td>6233</td>\n      <td>11135</td>\n      <td>16931</td>\n      <td>1.148150</td>\n      <td>731.405074</td>\n      <td>661.962407</td>\n      <td>95.2</td>\n      <td>14.078352</td>\n      <td>757.162407</td>\n    </tr>\n    <tr>\n      <th>3</th>\n      <td>montgomery</td>\n      <td>0.078</td>\n      <td>400</td>\n      <td>/home/ubuntu/ContactTracing/data/SIR_Cache/tim...</td>\n      <td>dependent</td>\n      <td>1</td>\n      <td>69.491244</td>\n      <td>252</td>\n      <td>28</td>\n      <td>1217</td>\n      <td>6233</td>\n      <td>11135</td>\n      <td>16931</td>\n      <td>1.222075</td>\n      <td>731.453652</td>\n      <td>661.962407</td>\n      <td>96.6</td>\n      <td>11.567195</td>\n      <td>758.562407</td>\n    </tr>\n    <tr>\n      <th>4</th>\n      <td>montgomery</td>\n      <td>0.078</td>\n      <td>400</td>\n      <td>/home/ubuntu/ContactTracing/data/SIR_Cache/tim...</td>\n      <td>greedy_weighted</td>\n      <td>0</td>\n      <td>71.084567</td>\n      <td>-1</td>\n      <td>28</td>\n      <td>1217</td>\n      <td>6233</td>\n      <td>11135</td>\n      <td>16931</td>\n      <td>0.032429</td>\n      <td>733.046974</td>\n      <td>661.962407</td>\n      <td>93.2</td>\n      <td>11.966620</td>\n      <td>755.162407</td>\n    </tr>\n  </tbody>\n</table>\n</div>"
     },
     "metadata": {},
     "execution_count": 38
    }
   ],
   "source": [
    "df.head()"
   ]
  },
  {
   "cell_type": "code",
   "execution_count": 39,
   "metadata": {},
   "outputs": [
    {
     "output_type": "execute_result",
     "data": {
      "text/plain": [
       "14000"
      ]
     },
     "metadata": {},
     "execution_count": 39
    }
   ],
   "source": [
    "len(df)"
   ]
  },
  {
   "cell_type": "code",
   "execution_count": 31,
   "metadata": {},
   "outputs": [
    {
     "output_type": "execute_result",
     "data": {
      "text/plain": [
       "             G      p  budget  \\\n",
       "6   montgomery  0.078     400   \n",
       "8   montgomery  0.078     400   \n",
       "28  montgomery  0.078     400   \n",
       "35  montgomery  0.078     400   \n",
       "37  montgomery  0.078     400   \n",
       "\n",
       "                                           from_cache      method  trial_id  \\\n",
       "6   /home/ubuntu/ContactTracing/data/SIR_Cache/tim...  mip_gurobi         0   \n",
       "8   /home/ubuntu/ContactTracing/data/SIR_Cache/tim...  mip_gurobi         1   \n",
       "28  /home/ubuntu/ContactTracing/data/SIR_Cache/tim...  mip_gurobi         1   \n",
       "35  /home/ubuntu/ContactTracing/data/SIR_Cache/tim...  mip_gurobi         0   \n",
       "37  /home/ubuntu/ContactTracing/data/SIR_Cache/tim...  mip_gurobi         1   \n",
       "\n",
       "     mip_value  greedy_intersection  maxD  I_size  v1_size  v2_size  \\\n",
       "6    68.296894                  273    28    1217     6233    11135   \n",
       "8    68.296894                  273    28    1217     6233    11135   \n",
       "28  255.187305                  207    31    5772    26012    16285   \n",
       "35  255.187305                  207    31    5772    26012    16285   \n",
       "37  452.765661                  250    59    2359    25664    32967   \n",
       "\n",
       "    num_cross_edges   duration  updated_MIP  v1_sum_values  min_exposed_mean  \\\n",
       "6             16931   1.288606   730.259302     661.962407              94.0   \n",
       "8             16931   1.331758   730.259302     661.962407              96.0   \n",
       "28            42903   7.722165  5094.834993    4839.647687             494.8   \n",
       "35            42903   6.833029  5094.834993    4839.647687             477.8   \n",
       "37           145552  27.815548  4186.409030    3733.643370            1230.6   \n",
       "\n",
       "    min_exposed_stddev  updated_min_exposed_value  \n",
       "6            14.035669                 755.962407  \n",
       "8             1.000000                 757.962407  \n",
       "28           56.984208                5334.447687  \n",
       "35           15.254508                5317.447687  \n",
       "37           49.303144                4964.243370  "
      ],
      "text/html": "<div>\n<style scoped>\n    .dataframe tbody tr th:only-of-type {\n        vertical-align: middle;\n    }\n\n    .dataframe tbody tr th {\n        vertical-align: top;\n    }\n\n    .dataframe thead th {\n        text-align: right;\n    }\n</style>\n<table border=\"1\" class=\"dataframe\">\n  <thead>\n    <tr style=\"text-align: right;\">\n      <th></th>\n      <th>G</th>\n      <th>p</th>\n      <th>budget</th>\n      <th>from_cache</th>\n      <th>method</th>\n      <th>trial_id</th>\n      <th>mip_value</th>\n      <th>greedy_intersection</th>\n      <th>maxD</th>\n      <th>I_size</th>\n      <th>v1_size</th>\n      <th>v2_size</th>\n      <th>num_cross_edges</th>\n      <th>duration</th>\n      <th>updated_MIP</th>\n      <th>v1_sum_values</th>\n      <th>min_exposed_mean</th>\n      <th>min_exposed_stddev</th>\n      <th>updated_min_exposed_value</th>\n    </tr>\n  </thead>\n  <tbody>\n    <tr>\n      <th>6</th>\n      <td>montgomery</td>\n      <td>0.078</td>\n      <td>400</td>\n      <td>/home/ubuntu/ContactTracing/data/SIR_Cache/tim...</td>\n      <td>mip_gurobi</td>\n      <td>0</td>\n      <td>68.296894</td>\n      <td>273</td>\n      <td>28</td>\n      <td>1217</td>\n      <td>6233</td>\n      <td>11135</td>\n      <td>16931</td>\n      <td>1.288606</td>\n      <td>730.259302</td>\n      <td>661.962407</td>\n      <td>94.0</td>\n      <td>14.035669</td>\n      <td>755.962407</td>\n    </tr>\n    <tr>\n      <th>8</th>\n      <td>montgomery</td>\n      <td>0.078</td>\n      <td>400</td>\n      <td>/home/ubuntu/ContactTracing/data/SIR_Cache/tim...</td>\n      <td>mip_gurobi</td>\n      <td>1</td>\n      <td>68.296894</td>\n      <td>273</td>\n      <td>28</td>\n      <td>1217</td>\n      <td>6233</td>\n      <td>11135</td>\n      <td>16931</td>\n      <td>1.331758</td>\n      <td>730.259302</td>\n      <td>661.962407</td>\n      <td>96.0</td>\n      <td>1.000000</td>\n      <td>757.962407</td>\n    </tr>\n    <tr>\n      <th>28</th>\n      <td>montgomery</td>\n      <td>0.078</td>\n      <td>400</td>\n      <td>/home/ubuntu/ContactTracing/data/SIR_Cache/tim...</td>\n      <td>mip_gurobi</td>\n      <td>1</td>\n      <td>255.187305</td>\n      <td>207</td>\n      <td>31</td>\n      <td>5772</td>\n      <td>26012</td>\n      <td>16285</td>\n      <td>42903</td>\n      <td>7.722165</td>\n      <td>5094.834993</td>\n      <td>4839.647687</td>\n      <td>494.8</td>\n      <td>56.984208</td>\n      <td>5334.447687</td>\n    </tr>\n    <tr>\n      <th>35</th>\n      <td>montgomery</td>\n      <td>0.078</td>\n      <td>400</td>\n      <td>/home/ubuntu/ContactTracing/data/SIR_Cache/tim...</td>\n      <td>mip_gurobi</td>\n      <td>0</td>\n      <td>255.187305</td>\n      <td>207</td>\n      <td>31</td>\n      <td>5772</td>\n      <td>26012</td>\n      <td>16285</td>\n      <td>42903</td>\n      <td>6.833029</td>\n      <td>5094.834993</td>\n      <td>4839.647687</td>\n      <td>477.8</td>\n      <td>15.254508</td>\n      <td>5317.447687</td>\n    </tr>\n    <tr>\n      <th>37</th>\n      <td>montgomery</td>\n      <td>0.078</td>\n      <td>400</td>\n      <td>/home/ubuntu/ContactTracing/data/SIR_Cache/tim...</td>\n      <td>mip_gurobi</td>\n      <td>1</td>\n      <td>452.765661</td>\n      <td>250</td>\n      <td>59</td>\n      <td>2359</td>\n      <td>25664</td>\n      <td>32967</td>\n      <td>145552</td>\n      <td>27.815548</td>\n      <td>4186.409030</td>\n      <td>3733.643370</td>\n      <td>1230.6</td>\n      <td>49.303144</td>\n      <td>4964.243370</td>\n    </tr>\n  </tbody>\n</table>\n</div>"
     },
     "metadata": {},
     "execution_count": 31
    }
   ],
   "source": [
    "methods = {x: df[df[\"method\"] == x].copy() for x in [\"random\", \"dependent\", \"greedy_weighted\", \"mip_gurobi\"]}\n",
    "methods[\"mip_gurobi\"].head()"
   ]
  },
  {
   "cell_type": "code",
   "execution_count": 34,
   "metadata": {},
   "outputs": [],
   "source": [
    "optimal_set = methods[\"mip_gurobi\"][[\"G\", \"p\", \"budget\", \"from_cache\", \"trial_id\", \"updated_MIP\"]]"
   ]
  },
  {
   "cell_type": "code",
   "execution_count": 36,
   "metadata": {},
   "outputs": [],
   "source": [
    "filtered_optimal = optimal_set[optimal_set[\"trial_id\"] == 0]"
   ]
  },
  {
   "cell_type": "code",
   "execution_count": 37,
   "metadata": {},
   "outputs": [
    {
     "output_type": "execute_result",
     "data": {
      "text/plain": [
       "                G      p  budget  \\\n",
       "6      montgomery  0.078     400   \n",
       "35     montgomery  0.078     400   \n",
       "44     montgomery  0.078     400   \n",
       "46     montgomery  0.078     400   \n",
       "48     montgomery  0.078     400   \n",
       "...           ...    ...     ...   \n",
       "13978  montgomery  0.078    1000   \n",
       "13986  montgomery  0.078    1000   \n",
       "13989  montgomery  0.078    1000   \n",
       "13997  montgomery  0.078    1000   \n",
       "13999  montgomery  0.078    1000   \n",
       "\n",
       "                                              from_cache  trial_id  \\\n",
       "6      /home/ubuntu/ContactTracing/data/SIR_Cache/tim...         0   \n",
       "35     /home/ubuntu/ContactTracing/data/SIR_Cache/tim...         0   \n",
       "44     /home/ubuntu/ContactTracing/data/SIR_Cache/tim...         0   \n",
       "46     /home/ubuntu/ContactTracing/data/SIR_Cache/tim...         0   \n",
       "48     /home/ubuntu/ContactTracing/data/SIR_Cache/tim...         0   \n",
       "...                                                  ...       ...   \n",
       "13978  /home/ubuntu/ContactTracing/data/SIR_Cache/tim...         0   \n",
       "13986  /home/ubuntu/ContactTracing/data/SIR_Cache/tim...         0   \n",
       "13989  /home/ubuntu/ContactTracing/data/SIR_Cache/tim...         0   \n",
       "13997  /home/ubuntu/ContactTracing/data/SIR_Cache/tim...         0   \n",
       "13999  /home/ubuntu/ContactTracing/data/SIR_Cache/tim...         0   \n",
       "\n",
       "       updated_MIP  \n",
       "6       730.259302  \n",
       "35     5094.834993  \n",
       "44     4186.409030  \n",
       "46     6079.534783  \n",
       "48     5288.797413  \n",
       "...            ...  \n",
       "13978  2130.513870  \n",
       "13986  1769.977871  \n",
       "13989  3483.896082  \n",
       "13997  5111.010541  \n",
       "13999  4817.426462  \n",
       "\n",
       "[1750 rows x 6 columns]"
      ],
      "text/html": "<div>\n<style scoped>\n    .dataframe tbody tr th:only-of-type {\n        vertical-align: middle;\n    }\n\n    .dataframe tbody tr th {\n        vertical-align: top;\n    }\n\n    .dataframe thead th {\n        text-align: right;\n    }\n</style>\n<table border=\"1\" class=\"dataframe\">\n  <thead>\n    <tr style=\"text-align: right;\">\n      <th></th>\n      <th>G</th>\n      <th>p</th>\n      <th>budget</th>\n      <th>from_cache</th>\n      <th>trial_id</th>\n      <th>updated_MIP</th>\n    </tr>\n  </thead>\n  <tbody>\n    <tr>\n      <th>6</th>\n      <td>montgomery</td>\n      <td>0.078</td>\n      <td>400</td>\n      <td>/home/ubuntu/ContactTracing/data/SIR_Cache/tim...</td>\n      <td>0</td>\n      <td>730.259302</td>\n    </tr>\n    <tr>\n      <th>35</th>\n      <td>montgomery</td>\n      <td>0.078</td>\n      <td>400</td>\n      <td>/home/ubuntu/ContactTracing/data/SIR_Cache/tim...</td>\n      <td>0</td>\n      <td>5094.834993</td>\n    </tr>\n    <tr>\n      <th>44</th>\n      <td>montgomery</td>\n      <td>0.078</td>\n      <td>400</td>\n      <td>/home/ubuntu/ContactTracing/data/SIR_Cache/tim...</td>\n      <td>0</td>\n      <td>4186.409030</td>\n    </tr>\n    <tr>\n      <th>46</th>\n      <td>montgomery</td>\n      <td>0.078</td>\n      <td>400</td>\n      <td>/home/ubuntu/ContactTracing/data/SIR_Cache/tim...</td>\n      <td>0</td>\n      <td>6079.534783</td>\n    </tr>\n    <tr>\n      <th>48</th>\n      <td>montgomery</td>\n      <td>0.078</td>\n      <td>400</td>\n      <td>/home/ubuntu/ContactTracing/data/SIR_Cache/tim...</td>\n      <td>0</td>\n      <td>5288.797413</td>\n    </tr>\n    <tr>\n      <th>...</th>\n      <td>...</td>\n      <td>...</td>\n      <td>...</td>\n      <td>...</td>\n      <td>...</td>\n      <td>...</td>\n    </tr>\n    <tr>\n      <th>13978</th>\n      <td>montgomery</td>\n      <td>0.078</td>\n      <td>1000</td>\n      <td>/home/ubuntu/ContactTracing/data/SIR_Cache/tim...</td>\n      <td>0</td>\n      <td>2130.513870</td>\n    </tr>\n    <tr>\n      <th>13986</th>\n      <td>montgomery</td>\n      <td>0.078</td>\n      <td>1000</td>\n      <td>/home/ubuntu/ContactTracing/data/SIR_Cache/tim...</td>\n      <td>0</td>\n      <td>1769.977871</td>\n    </tr>\n    <tr>\n      <th>13989</th>\n      <td>montgomery</td>\n      <td>0.078</td>\n      <td>1000</td>\n      <td>/home/ubuntu/ContactTracing/data/SIR_Cache/tim...</td>\n      <td>0</td>\n      <td>3483.896082</td>\n    </tr>\n    <tr>\n      <th>13997</th>\n      <td>montgomery</td>\n      <td>0.078</td>\n      <td>1000</td>\n      <td>/home/ubuntu/ContactTracing/data/SIR_Cache/tim...</td>\n      <td>0</td>\n      <td>5111.010541</td>\n    </tr>\n    <tr>\n      <th>13999</th>\n      <td>montgomery</td>\n      <td>0.078</td>\n      <td>1000</td>\n      <td>/home/ubuntu/ContactTracing/data/SIR_Cache/tim...</td>\n      <td>0</td>\n      <td>4817.426462</td>\n    </tr>\n  </tbody>\n</table>\n<p>1750 rows × 6 columns</p>\n</div>"
     },
     "metadata": {},
     "execution_count": 37
    }
   ],
   "source": [
    "filtered_optimal"
   ]
  },
  {
   "cell_type": "code",
   "execution_count": 45,
   "metadata": {},
   "outputs": [],
   "source": [
    "df_opt = df.merge(filtered_optimal, on=[\"G\", \"p\", \"budget\", \"from_cache\"])"
   ]
  },
  {
   "cell_type": "code",
   "execution_count": 48,
   "metadata": {},
   "outputs": [],
   "source": [
    "df_opt = df_opt.rename(columns={\"updated_MIP_y\": \"optimal_MIP_value\"})"
   ]
  },
  {
   "cell_type": "code",
   "execution_count": 49,
   "metadata": {},
   "outputs": [],
   "source": [
    "df_opt[\"mip_ratio\"] = df_opt[\"updated_MIP_x\"] / df_opt[\"optimal_MIP_value\"]"
   ]
  },
  {
   "cell_type": "code",
   "execution_count": 51,
   "metadata": {},
   "outputs": [
    {
     "output_type": "execute_result",
     "data": {
      "text/plain": [
       "            G      p  budget  \\\n",
       "0  montgomery  0.078     400   \n",
       "1  montgomery  0.078     400   \n",
       "2  montgomery  0.078     400   \n",
       "3  montgomery  0.078     400   \n",
       "4  montgomery  0.078     400   \n",
       "\n",
       "                                          from_cache           method  \\\n",
       "0  /home/ubuntu/ContactTracing/data/SIR_Cache/tim...           random   \n",
       "1  /home/ubuntu/ContactTracing/data/SIR_Cache/tim...           random   \n",
       "2  /home/ubuntu/ContactTracing/data/SIR_Cache/tim...        dependent   \n",
       "3  /home/ubuntu/ContactTracing/data/SIR_Cache/tim...        dependent   \n",
       "4  /home/ubuntu/ContactTracing/data/SIR_Cache/tim...  greedy_weighted   \n",
       "\n",
       "   trial_id_x  mip_value  greedy_intersection  maxD  I_size  ...  \\\n",
       "0           1  90.850904                   25    28    1217  ...   \n",
       "1           0  90.716560                   20    28    1217  ...   \n",
       "2           0  69.442667                  256    28    1217  ...   \n",
       "3           1  69.491244                  252    28    1217  ...   \n",
       "4           0  71.084567                   -1    28    1217  ...   \n",
       "\n",
       "   num_cross_edges  duration  updated_MIP_x  v1_sum_values  min_exposed_mean  \\\n",
       "0            16931  0.883242     752.813311     661.962407             118.8   \n",
       "1            16931  0.885397     752.678967     661.962407             123.6   \n",
       "2            16931  1.148150     731.405074     661.962407              95.2   \n",
       "3            16931  1.222075     731.453652     661.962407              96.6   \n",
       "4            16931  0.032429     733.046974     661.962407              93.2   \n",
       "\n",
       "   min_exposed_stddev  updated_min_exposed_value  trial_id_y  \\\n",
       "0           12.517987                 780.762407           0   \n",
       "1            9.502631                 785.562407           0   \n",
       "2           14.078352                 757.162407           0   \n",
       "3           11.567195                 758.562407           0   \n",
       "4           11.966620                 755.162407           0   \n",
       "\n",
       "   optimal_MIP_value  mip_ratio  \n",
       "0         730.259302   1.030885  \n",
       "1         730.259302   1.030701  \n",
       "2         730.259302   1.001569  \n",
       "3         730.259302   1.001636  \n",
       "4         730.259302   1.003817  \n",
       "\n",
       "[5 rows x 22 columns]"
      ],
      "text/html": "<div>\n<style scoped>\n    .dataframe tbody tr th:only-of-type {\n        vertical-align: middle;\n    }\n\n    .dataframe tbody tr th {\n        vertical-align: top;\n    }\n\n    .dataframe thead th {\n        text-align: right;\n    }\n</style>\n<table border=\"1\" class=\"dataframe\">\n  <thead>\n    <tr style=\"text-align: right;\">\n      <th></th>\n      <th>G</th>\n      <th>p</th>\n      <th>budget</th>\n      <th>from_cache</th>\n      <th>method</th>\n      <th>trial_id_x</th>\n      <th>mip_value</th>\n      <th>greedy_intersection</th>\n      <th>maxD</th>\n      <th>I_size</th>\n      <th>...</th>\n      <th>num_cross_edges</th>\n      <th>duration</th>\n      <th>updated_MIP_x</th>\n      <th>v1_sum_values</th>\n      <th>min_exposed_mean</th>\n      <th>min_exposed_stddev</th>\n      <th>updated_min_exposed_value</th>\n      <th>trial_id_y</th>\n      <th>optimal_MIP_value</th>\n      <th>mip_ratio</th>\n    </tr>\n  </thead>\n  <tbody>\n    <tr>\n      <th>0</th>\n      <td>montgomery</td>\n      <td>0.078</td>\n      <td>400</td>\n      <td>/home/ubuntu/ContactTracing/data/SIR_Cache/tim...</td>\n      <td>random</td>\n      <td>1</td>\n      <td>90.850904</td>\n      <td>25</td>\n      <td>28</td>\n      <td>1217</td>\n      <td>...</td>\n      <td>16931</td>\n      <td>0.883242</td>\n      <td>752.813311</td>\n      <td>661.962407</td>\n      <td>118.8</td>\n      <td>12.517987</td>\n      <td>780.762407</td>\n      <td>0</td>\n      <td>730.259302</td>\n      <td>1.030885</td>\n    </tr>\n    <tr>\n      <th>1</th>\n      <td>montgomery</td>\n      <td>0.078</td>\n      <td>400</td>\n      <td>/home/ubuntu/ContactTracing/data/SIR_Cache/tim...</td>\n      <td>random</td>\n      <td>0</td>\n      <td>90.716560</td>\n      <td>20</td>\n      <td>28</td>\n      <td>1217</td>\n      <td>...</td>\n      <td>16931</td>\n      <td>0.885397</td>\n      <td>752.678967</td>\n      <td>661.962407</td>\n      <td>123.6</td>\n      <td>9.502631</td>\n      <td>785.562407</td>\n      <td>0</td>\n      <td>730.259302</td>\n      <td>1.030701</td>\n    </tr>\n    <tr>\n      <th>2</th>\n      <td>montgomery</td>\n      <td>0.078</td>\n      <td>400</td>\n      <td>/home/ubuntu/ContactTracing/data/SIR_Cache/tim...</td>\n      <td>dependent</td>\n      <td>0</td>\n      <td>69.442667</td>\n      <td>256</td>\n      <td>28</td>\n      <td>1217</td>\n      <td>...</td>\n      <td>16931</td>\n      <td>1.148150</td>\n      <td>731.405074</td>\n      <td>661.962407</td>\n      <td>95.2</td>\n      <td>14.078352</td>\n      <td>757.162407</td>\n      <td>0</td>\n      <td>730.259302</td>\n      <td>1.001569</td>\n    </tr>\n    <tr>\n      <th>3</th>\n      <td>montgomery</td>\n      <td>0.078</td>\n      <td>400</td>\n      <td>/home/ubuntu/ContactTracing/data/SIR_Cache/tim...</td>\n      <td>dependent</td>\n      <td>1</td>\n      <td>69.491244</td>\n      <td>252</td>\n      <td>28</td>\n      <td>1217</td>\n      <td>...</td>\n      <td>16931</td>\n      <td>1.222075</td>\n      <td>731.453652</td>\n      <td>661.962407</td>\n      <td>96.6</td>\n      <td>11.567195</td>\n      <td>758.562407</td>\n      <td>0</td>\n      <td>730.259302</td>\n      <td>1.001636</td>\n    </tr>\n    <tr>\n      <th>4</th>\n      <td>montgomery</td>\n      <td>0.078</td>\n      <td>400</td>\n      <td>/home/ubuntu/ContactTracing/data/SIR_Cache/tim...</td>\n      <td>greedy_weighted</td>\n      <td>0</td>\n      <td>71.084567</td>\n      <td>-1</td>\n      <td>28</td>\n      <td>1217</td>\n      <td>...</td>\n      <td>16931</td>\n      <td>0.032429</td>\n      <td>733.046974</td>\n      <td>661.962407</td>\n      <td>93.2</td>\n      <td>11.966620</td>\n      <td>755.162407</td>\n      <td>0</td>\n      <td>730.259302</td>\n      <td>1.003817</td>\n    </tr>\n  </tbody>\n</table>\n<p>5 rows × 22 columns</p>\n</div>"
     },
     "metadata": {},
     "execution_count": 51
    }
   ],
   "source": [
    "df_opt.head()"
   ]
  },
  {
   "cell_type": "code",
   "execution_count": 52,
   "metadata": {},
   "outputs": [
    {
     "output_type": "execute_result",
     "data": {
      "text/plain": [
       "               G      p  budget  \\\n",
       "1524  montgomery  0.078     400   \n",
       "5526  montgomery  0.078     600   \n",
       "5525  montgomery  0.078     600   \n",
       "5524  montgomery  0.078     600   \n",
       "5523  montgomery  0.078     600   \n",
       "...          ...    ...     ...   \n",
       "150   montgomery  0.078     400   \n",
       "151   montgomery  0.078     400   \n",
       "4149  montgomery  0.078     600   \n",
       "8150  montgomery  0.078     800   \n",
       "8144  montgomery  0.078     800   \n",
       "\n",
       "                                             from_cache           method  \\\n",
       "1524  /home/ubuntu/ContactTracing/data/SIR_Cache/tim...  greedy_weighted   \n",
       "5526  /home/ubuntu/ContactTracing/data/SIR_Cache/tim...  greedy_weighted   \n",
       "5525  /home/ubuntu/ContactTracing/data/SIR_Cache/tim...       mip_gurobi   \n",
       "5524  /home/ubuntu/ContactTracing/data/SIR_Cache/tim...  greedy_weighted   \n",
       "5523  /home/ubuntu/ContactTracing/data/SIR_Cache/tim...        dependent   \n",
       "...                                                 ...              ...   \n",
       "150   /home/ubuntu/ContactTracing/data/SIR_Cache/tim...       mip_gurobi   \n",
       "151   /home/ubuntu/ContactTracing/data/SIR_Cache/tim...       mip_gurobi   \n",
       "4149  /home/ubuntu/ContactTracing/data/SIR_Cache/tim...        dependent   \n",
       "8150  /home/ubuntu/ContactTracing/data/SIR_Cache/tim...       mip_gurobi   \n",
       "8144  /home/ubuntu/ContactTracing/data/SIR_Cache/tim...           random   \n",
       "\n",
       "      trial_id_x   mip_value  greedy_intersection  maxD  I_size  ...  \\\n",
       "1524           0   28.727917                   -1    23     529  ...   \n",
       "5526           1   22.628561                   -1    23     529  ...   \n",
       "5525           1   21.620672                  509    23     529  ...   \n",
       "5524           0   22.628561                   -1    23     529  ...   \n",
       "5523           1   21.737258                  501    23     529  ...   \n",
       "...          ...         ...                  ...   ...     ...  ...   \n",
       "150            0  373.962885                  182    29    4830  ...   \n",
       "151            1  373.962885                  182    29    4830  ...   \n",
       "4149           0  372.130173                  226    29    4830  ...   \n",
       "8150           1  345.484920                  406    29    4830  ...   \n",
       "8144           0  416.534297                   17    29    4830  ...   \n",
       "\n",
       "      num_cross_edges   duration  updated_MIP_x  v1_sum_values  \\\n",
       "1524             8273   0.025445     304.862589     276.134672   \n",
       "5526             8273   0.016595     298.763233     276.134672   \n",
       "5525             8273   0.388629     297.755343     276.134672   \n",
       "5524             8273   0.016042     298.763233     276.134672   \n",
       "5523             8273   0.389772     297.871930     276.134672   \n",
       "...               ...        ...            ...            ...   \n",
       "150             78816  14.311749    6269.828710    5895.865825   \n",
       "151             78816  16.694823    6269.828710    5895.865825   \n",
       "4149            78816   7.278213    6267.995997    5895.865825   \n",
       "8150            78816  13.935759    6241.350745    5895.865825   \n",
       "8144            78816   2.937125    6312.400122    5895.865825   \n",
       "\n",
       "      min_exposed_mean  min_exposed_stddev  updated_min_exposed_value  \\\n",
       "1524              30.2            3.962323                 306.334672   \n",
       "5526              23.0            4.242641                 299.134672   \n",
       "5525              27.4            4.335897                 303.534672   \n",
       "5524              23.8            1.643168                 299.934672   \n",
       "5523              23.4            6.877500                 299.534672   \n",
       "...                ...                 ...                        ...   \n",
       "150              886.8           23.763417                6782.665825   \n",
       "151              874.6           19.654516                6770.465825   \n",
       "4149             882.8           40.733279                6778.665825   \n",
       "8150             825.6           56.411878                6721.465825   \n",
       "8144             949.6           38.448667                6845.465825   \n",
       "\n",
       "      trial_id_y  optimal_MIP_value  mip_ratio  \n",
       "1524           0         303.693238   1.003850  \n",
       "5526           0         297.755343   1.003385  \n",
       "5525           0         297.755343   1.000000  \n",
       "5524           0         297.755343   1.003385  \n",
       "5523           0         297.755343   1.000392  \n",
       "...          ...                ...        ...  \n",
       "150            0        6269.828710   1.000000  \n",
       "151            0        6269.828710   1.000000  \n",
       "4149           0        6254.578511   1.002145  \n",
       "8150           0        6241.350745   1.000000  \n",
       "8144           0        6241.350745   1.011384  \n",
       "\n",
       "[14000 rows x 22 columns]"
      ],
      "text/html": "<div>\n<style scoped>\n    .dataframe tbody tr th:only-of-type {\n        vertical-align: middle;\n    }\n\n    .dataframe tbody tr th {\n        vertical-align: top;\n    }\n\n    .dataframe thead th {\n        text-align: right;\n    }\n</style>\n<table border=\"1\" class=\"dataframe\">\n  <thead>\n    <tr style=\"text-align: right;\">\n      <th></th>\n      <th>G</th>\n      <th>p</th>\n      <th>budget</th>\n      <th>from_cache</th>\n      <th>method</th>\n      <th>trial_id_x</th>\n      <th>mip_value</th>\n      <th>greedy_intersection</th>\n      <th>maxD</th>\n      <th>I_size</th>\n      <th>...</th>\n      <th>num_cross_edges</th>\n      <th>duration</th>\n      <th>updated_MIP_x</th>\n      <th>v1_sum_values</th>\n      <th>min_exposed_mean</th>\n      <th>min_exposed_stddev</th>\n      <th>updated_min_exposed_value</th>\n      <th>trial_id_y</th>\n      <th>optimal_MIP_value</th>\n      <th>mip_ratio</th>\n    </tr>\n  </thead>\n  <tbody>\n    <tr>\n      <th>1524</th>\n      <td>montgomery</td>\n      <td>0.078</td>\n      <td>400</td>\n      <td>/home/ubuntu/ContactTracing/data/SIR_Cache/tim...</td>\n      <td>greedy_weighted</td>\n      <td>0</td>\n      <td>28.727917</td>\n      <td>-1</td>\n      <td>23</td>\n      <td>529</td>\n      <td>...</td>\n      <td>8273</td>\n      <td>0.025445</td>\n      <td>304.862589</td>\n      <td>276.134672</td>\n      <td>30.2</td>\n      <td>3.962323</td>\n      <td>306.334672</td>\n      <td>0</td>\n      <td>303.693238</td>\n      <td>1.003850</td>\n    </tr>\n    <tr>\n      <th>5526</th>\n      <td>montgomery</td>\n      <td>0.078</td>\n      <td>600</td>\n      <td>/home/ubuntu/ContactTracing/data/SIR_Cache/tim...</td>\n      <td>greedy_weighted</td>\n      <td>1</td>\n      <td>22.628561</td>\n      <td>-1</td>\n      <td>23</td>\n      <td>529</td>\n      <td>...</td>\n      <td>8273</td>\n      <td>0.016595</td>\n      <td>298.763233</td>\n      <td>276.134672</td>\n      <td>23.0</td>\n      <td>4.242641</td>\n      <td>299.134672</td>\n      <td>0</td>\n      <td>297.755343</td>\n      <td>1.003385</td>\n    </tr>\n    <tr>\n      <th>5525</th>\n      <td>montgomery</td>\n      <td>0.078</td>\n      <td>600</td>\n      <td>/home/ubuntu/ContactTracing/data/SIR_Cache/tim...</td>\n      <td>mip_gurobi</td>\n      <td>1</td>\n      <td>21.620672</td>\n      <td>509</td>\n      <td>23</td>\n      <td>529</td>\n      <td>...</td>\n      <td>8273</td>\n      <td>0.388629</td>\n      <td>297.755343</td>\n      <td>276.134672</td>\n      <td>27.4</td>\n      <td>4.335897</td>\n      <td>303.534672</td>\n      <td>0</td>\n      <td>297.755343</td>\n      <td>1.000000</td>\n    </tr>\n    <tr>\n      <th>5524</th>\n      <td>montgomery</td>\n      <td>0.078</td>\n      <td>600</td>\n      <td>/home/ubuntu/ContactTracing/data/SIR_Cache/tim...</td>\n      <td>greedy_weighted</td>\n      <td>0</td>\n      <td>22.628561</td>\n      <td>-1</td>\n      <td>23</td>\n      <td>529</td>\n      <td>...</td>\n      <td>8273</td>\n      <td>0.016042</td>\n      <td>298.763233</td>\n      <td>276.134672</td>\n      <td>23.8</td>\n      <td>1.643168</td>\n      <td>299.934672</td>\n      <td>0</td>\n      <td>297.755343</td>\n      <td>1.003385</td>\n    </tr>\n    <tr>\n      <th>5523</th>\n      <td>montgomery</td>\n      <td>0.078</td>\n      <td>600</td>\n      <td>/home/ubuntu/ContactTracing/data/SIR_Cache/tim...</td>\n      <td>dependent</td>\n      <td>1</td>\n      <td>21.737258</td>\n      <td>501</td>\n      <td>23</td>\n      <td>529</td>\n      <td>...</td>\n      <td>8273</td>\n      <td>0.389772</td>\n      <td>297.871930</td>\n      <td>276.134672</td>\n      <td>23.4</td>\n      <td>6.877500</td>\n      <td>299.534672</td>\n      <td>0</td>\n      <td>297.755343</td>\n      <td>1.000392</td>\n    </tr>\n    <tr>\n      <th>...</th>\n      <td>...</td>\n      <td>...</td>\n      <td>...</td>\n      <td>...</td>\n      <td>...</td>\n      <td>...</td>\n      <td>...</td>\n      <td>...</td>\n      <td>...</td>\n      <td>...</td>\n      <td>...</td>\n      <td>...</td>\n      <td>...</td>\n      <td>...</td>\n      <td>...</td>\n      <td>...</td>\n      <td>...</td>\n      <td>...</td>\n      <td>...</td>\n      <td>...</td>\n      <td>...</td>\n    </tr>\n    <tr>\n      <th>150</th>\n      <td>montgomery</td>\n      <td>0.078</td>\n      <td>400</td>\n      <td>/home/ubuntu/ContactTracing/data/SIR_Cache/tim...</td>\n      <td>mip_gurobi</td>\n      <td>0</td>\n      <td>373.962885</td>\n      <td>182</td>\n      <td>29</td>\n      <td>4830</td>\n      <td>...</td>\n      <td>78816</td>\n      <td>14.311749</td>\n      <td>6269.828710</td>\n      <td>5895.865825</td>\n      <td>886.8</td>\n      <td>23.763417</td>\n      <td>6782.665825</td>\n      <td>0</td>\n      <td>6269.828710</td>\n      <td>1.000000</td>\n    </tr>\n    <tr>\n      <th>151</th>\n      <td>montgomery</td>\n      <td>0.078</td>\n      <td>400</td>\n      <td>/home/ubuntu/ContactTracing/data/SIR_Cache/tim...</td>\n      <td>mip_gurobi</td>\n      <td>1</td>\n      <td>373.962885</td>\n      <td>182</td>\n      <td>29</td>\n      <td>4830</td>\n      <td>...</td>\n      <td>78816</td>\n      <td>16.694823</td>\n      <td>6269.828710</td>\n      <td>5895.865825</td>\n      <td>874.6</td>\n      <td>19.654516</td>\n      <td>6770.465825</td>\n      <td>0</td>\n      <td>6269.828710</td>\n      <td>1.000000</td>\n    </tr>\n    <tr>\n      <th>4149</th>\n      <td>montgomery</td>\n      <td>0.078</td>\n      <td>600</td>\n      <td>/home/ubuntu/ContactTracing/data/SIR_Cache/tim...</td>\n      <td>dependent</td>\n      <td>0</td>\n      <td>372.130173</td>\n      <td>226</td>\n      <td>29</td>\n      <td>4830</td>\n      <td>...</td>\n      <td>78816</td>\n      <td>7.278213</td>\n      <td>6267.995997</td>\n      <td>5895.865825</td>\n      <td>882.8</td>\n      <td>40.733279</td>\n      <td>6778.665825</td>\n      <td>0</td>\n      <td>6254.578511</td>\n      <td>1.002145</td>\n    </tr>\n    <tr>\n      <th>8150</th>\n      <td>montgomery</td>\n      <td>0.078</td>\n      <td>800</td>\n      <td>/home/ubuntu/ContactTracing/data/SIR_Cache/tim...</td>\n      <td>mip_gurobi</td>\n      <td>1</td>\n      <td>345.484920</td>\n      <td>406</td>\n      <td>29</td>\n      <td>4830</td>\n      <td>...</td>\n      <td>78816</td>\n      <td>13.935759</td>\n      <td>6241.350745</td>\n      <td>5895.865825</td>\n      <td>825.6</td>\n      <td>56.411878</td>\n      <td>6721.465825</td>\n      <td>0</td>\n      <td>6241.350745</td>\n      <td>1.000000</td>\n    </tr>\n    <tr>\n      <th>8144</th>\n      <td>montgomery</td>\n      <td>0.078</td>\n      <td>800</td>\n      <td>/home/ubuntu/ContactTracing/data/SIR_Cache/tim...</td>\n      <td>random</td>\n      <td>0</td>\n      <td>416.534297</td>\n      <td>17</td>\n      <td>29</td>\n      <td>4830</td>\n      <td>...</td>\n      <td>78816</td>\n      <td>2.937125</td>\n      <td>6312.400122</td>\n      <td>5895.865825</td>\n      <td>949.6</td>\n      <td>38.448667</td>\n      <td>6845.465825</td>\n      <td>0</td>\n      <td>6241.350745</td>\n      <td>1.011384</td>\n    </tr>\n  </tbody>\n</table>\n<p>14000 rows × 22 columns</p>\n</div>"
     },
     "metadata": {},
     "execution_count": 52
    }
   ],
   "source": [
    "df_opt.sort_values(by=[\"v1_size\"])"
   ]
  },
  {
   "cell_type": "code",
   "execution_count": 55,
   "metadata": {},
   "outputs": [],
   "source": [
    "df_opt.to_csv(\"with_optimal.csv\")"
   ]
  },
  {
   "cell_type": "code",
   "execution_count": 20,
   "metadata": {},
   "outputs": [],
   "source": [
    "df_stats = df[['G','p', 'budget', 'from_cache', 'trial_id', 'maxD', 'I_size', 'v1_size', 'v2_size', 'num_cross_edges']]"
   ]
  },
  {
   "cell_type": "code",
   "execution_count": 26,
   "metadata": {},
   "outputs": [],
   "source": [
    "methods[\"mip_gurobi\"][\"updated_mip_gurobi\"] = methods[\"mip_gurobi\"][\"updated_MIP\"]"
   ]
  },
  {
   "cell_type": "code",
   "execution_count": 28,
   "metadata": {},
   "outputs": [],
   "source": [
    "methods[\"mip_gurobi\"].head()\n",
    "processed = {}"
   ]
  },
  {
   "cell_type": "code",
   "execution_count": 29,
   "metadata": {},
   "outputs": [],
   "source": [
    "processed[\"mip_gurobi\"] = methods[\"mip_gurobi\"][['G','p', 'budget', 'from_cache', 'trial_id', 'maxD', 'I_size', 'v1_size', 'v2_size', 'num_cross_edges', \"updated_mip_gurobi\"]]"
   ]
  },
  {
   "cell_type": "code",
   "execution_count": 30,
   "metadata": {},
   "outputs": [
    {
     "output_type": "execute_result",
     "data": {
      "text/plain": [
       "             G      p  budget  \\\n",
       "6   montgomery  0.078     400   \n",
       "8   montgomery  0.078     400   \n",
       "28  montgomery  0.078     400   \n",
       "35  montgomery  0.078     400   \n",
       "37  montgomery  0.078     400   \n",
       "\n",
       "                                           from_cache  trial_id  maxD  I_size  \\\n",
       "6   /home/ubuntu/ContactTracing/data/SIR_Cache/tim...         0    28    1217   \n",
       "8   /home/ubuntu/ContactTracing/data/SIR_Cache/tim...         1    28    1217   \n",
       "28  /home/ubuntu/ContactTracing/data/SIR_Cache/tim...         1    31    5772   \n",
       "35  /home/ubuntu/ContactTracing/data/SIR_Cache/tim...         0    31    5772   \n",
       "37  /home/ubuntu/ContactTracing/data/SIR_Cache/tim...         1    59    2359   \n",
       "\n",
       "    v1_size  v2_size  num_cross_edges  updated_mip_gurobi  \n",
       "6      6233    11135            16931          730.259302  \n",
       "8      6233    11135            16931          730.259302  \n",
       "28    26012    16285            42903         5094.834993  \n",
       "35    26012    16285            42903         5094.834993  \n",
       "37    25664    32967           145552         4186.409030  "
      ],
      "text/html": "<div>\n<style scoped>\n    .dataframe tbody tr th:only-of-type {\n        vertical-align: middle;\n    }\n\n    .dataframe tbody tr th {\n        vertical-align: top;\n    }\n\n    .dataframe thead th {\n        text-align: right;\n    }\n</style>\n<table border=\"1\" class=\"dataframe\">\n  <thead>\n    <tr style=\"text-align: right;\">\n      <th></th>\n      <th>G</th>\n      <th>p</th>\n      <th>budget</th>\n      <th>from_cache</th>\n      <th>trial_id</th>\n      <th>maxD</th>\n      <th>I_size</th>\n      <th>v1_size</th>\n      <th>v2_size</th>\n      <th>num_cross_edges</th>\n      <th>updated_mip_gurobi</th>\n    </tr>\n  </thead>\n  <tbody>\n    <tr>\n      <th>6</th>\n      <td>montgomery</td>\n      <td>0.078</td>\n      <td>400</td>\n      <td>/home/ubuntu/ContactTracing/data/SIR_Cache/tim...</td>\n      <td>0</td>\n      <td>28</td>\n      <td>1217</td>\n      <td>6233</td>\n      <td>11135</td>\n      <td>16931</td>\n      <td>730.259302</td>\n    </tr>\n    <tr>\n      <th>8</th>\n      <td>montgomery</td>\n      <td>0.078</td>\n      <td>400</td>\n      <td>/home/ubuntu/ContactTracing/data/SIR_Cache/tim...</td>\n      <td>1</td>\n      <td>28</td>\n      <td>1217</td>\n      <td>6233</td>\n      <td>11135</td>\n      <td>16931</td>\n      <td>730.259302</td>\n    </tr>\n    <tr>\n      <th>28</th>\n      <td>montgomery</td>\n      <td>0.078</td>\n      <td>400</td>\n      <td>/home/ubuntu/ContactTracing/data/SIR_Cache/tim...</td>\n      <td>1</td>\n      <td>31</td>\n      <td>5772</td>\n      <td>26012</td>\n      <td>16285</td>\n      <td>42903</td>\n      <td>5094.834993</td>\n    </tr>\n    <tr>\n      <th>35</th>\n      <td>montgomery</td>\n      <td>0.078</td>\n      <td>400</td>\n      <td>/home/ubuntu/ContactTracing/data/SIR_Cache/tim...</td>\n      <td>0</td>\n      <td>31</td>\n      <td>5772</td>\n      <td>26012</td>\n      <td>16285</td>\n      <td>42903</td>\n      <td>5094.834993</td>\n    </tr>\n    <tr>\n      <th>37</th>\n      <td>montgomery</td>\n      <td>0.078</td>\n      <td>400</td>\n      <td>/home/ubuntu/ContactTracing/data/SIR_Cache/tim...</td>\n      <td>1</td>\n      <td>59</td>\n      <td>2359</td>\n      <td>25664</td>\n      <td>32967</td>\n      <td>145552</td>\n      <td>4186.409030</td>\n    </tr>\n  </tbody>\n</table>\n</div>"
     },
     "metadata": {},
     "execution_count": 30
    }
   ],
   "source": [
    "processed[\"mip_gurobi\"].head()"
   ]
  },
  {
   "cell_type": "code",
   "execution_count": null,
   "metadata": {},
   "outputs": [],
   "source": []
  }
 ]
}