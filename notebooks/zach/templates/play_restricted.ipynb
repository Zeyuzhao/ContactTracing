{
 "cells": [
  {
   "cell_type": "code",
   "execution_count": 2,
   "outputs": [],
   "source": [
    "# OPTIONAL: Load the \"autoreload\" extension so that code can change\n",
    "%load_ext autoreload\n",
    "\n",
    "# OPTIONAL: always reload modules so that as you change code in src, it gets loaded\n",
    "%autoreload 2"
   ],
   "metadata": {
    "collapsed": false,
    "pycharm": {
     "name": "#%%\n"
    }
   }
  },
  {
   "cell_type": "code",
   "execution_count": 49,
   "metadata": {
    "collapsed": true
   },
   "outputs": [],
   "source": [
    "from ctrace.constraint import ProbMinExposedRestricted\n",
    "from ctrace.draw import *\n",
    "from ctrace.constraint import load_graph, find_contours\n",
    "from ctrace.contact_tracing import PQ_deterministic\n",
    "import numpy as np\n",
    "\n",
    "np.random.seed(42)"
   ]
  },
  {
   "cell_type": "code",
   "execution_count": 50,
   "outputs": [],
   "source": [
    "# Setup contact tracing graph\n",
    "G = nx.balanced_tree(3, 3)\n",
    "I = {0, 1}\n",
    "\n",
    "# Set K value\n",
    "K = 5\n",
    "\n",
    "# Find contours\n",
    "contour1, contour2 = find_contours(G, I)\n",
    "\n",
    "# Find the infected probabilities\n",
    "p1, q = PQ_deterministic(G, I, contour1, 0.1)\n",
    "\n",
    "# Generate labels and limits for group restriction\n",
    "L = 3\n",
    "labels = list(np.random.randint(L, size=len(G.nodes)))\n",
    "label_limits = (2, 2, 1)"
   ],
   "metadata": {
    "collapsed": false,
    "pycharm": {
     "name": "#%%\n"
    }
   }
  },
  {
   "cell_type": "code",
   "execution_count": 51,
   "outputs": [
    {
     "name": "stdout",
     "output_type": "stream",
     "text": [
      "[2, 0, 2, 2, 0, 0, 2, 1, 2, 2, 2, 2, 0, 2, 1, 0, 1, 1, 1, 1, 0, 0, 1, 1, 0, 0, 0, 2, 2, 2, 1, 2, 1, 1, 2, 1, 2, 2, 0, 2]\n",
      "(2, 2, 1)\n"
     ]
    },
    {
     "data": {
      "text/plain": "{0: [4, 5], 1: [], 2: [2, 3, 6]}"
     },
     "execution_count": 51,
     "metadata": {},
     "output_type": "execute_result"
    }
   ],
   "source": [
    "# Debugging info:\n",
    "print(labels)\n",
    "print(label_limits)\n",
    "\n",
    "{i: list(filter(lambda x: labels[x] == i, contour1)) for i in range(len(label_limits))}"
   ],
   "metadata": {
    "collapsed": false,
    "pycharm": {
     "name": "#%%\n"
    }
   }
  },
  {
   "cell_type": "code",
   "execution_count": null,
   "outputs": [],
   "source": [],
   "metadata": {
    "collapsed": false,
    "pycharm": {
     "name": "#%%\n"
    }
   }
  },
  {
   "cell_type": "code",
   "execution_count": 62,
   "outputs": [
    {
     "name": "stdout",
     "output_type": "stream",
     "text": [
      "Variable: V1_x4\n",
      "Variable: V1_x5\n",
      "Variable: V1_x2\n",
      "Variable: V1_x3\n",
      "Variable: V1_x6\n"
     ]
    }
   ],
   "source": [
    "result = ProbMinExposedRestricted(G, I, contour1, contour2, p1, q, K, labels, label_limits, costs=None, solver=None)\n",
    "\n",
    "result.solve_lp()"
   ],
   "metadata": {
    "collapsed": false,
    "pycharm": {
     "name": "#%%\n"
    }
   }
  },
  {
   "cell_type": "code",
   "execution_count": 63,
   "outputs": [
    {
     "name": "stdout",
     "output_type": "stream",
     "text": [
      "quarantined: {2: 0.0, 3: 0.0, 4: 1.0, 5: 1.0, 6: 1.0}\n"
     ]
    },
    {
     "data": {
      "text/plain": "array([0., 0., 1., 1., 1.])"
     },
     "execution_count": 63,
     "metadata": {},
     "output_type": "execute_result"
    }
   ],
   "source": [
    "print(f\"quarantined: {result.quarantined_solution}\")\n",
    "result.get_variables()"
   ],
   "metadata": {
    "collapsed": false,
    "pycharm": {
     "name": "#%%\n"
    }
   }
  },
  {
   "cell_type": "code",
   "execution_count": null,
   "outputs": [],
   "source": [],
   "metadata": {
    "collapsed": false,
    "pycharm": {
     "name": "#%%\n"
    }
   }
  }
 ],
 "metadata": {
  "kernelspec": {
   "display_name": "Python 3",
   "language": "python",
   "name": "python3"
  },
  "language_info": {
   "codemirror_mode": {
    "name": "ipython",
    "version": 2
   },
   "file_extension": ".py",
   "mimetype": "text/x-python",
   "name": "python",
   "nbconvert_exporter": "python",
   "pygments_lexer": "ipython2",
   "version": "2.7.6"
  }
 },
 "nbformat": 4,
 "nbformat_minor": 0
}